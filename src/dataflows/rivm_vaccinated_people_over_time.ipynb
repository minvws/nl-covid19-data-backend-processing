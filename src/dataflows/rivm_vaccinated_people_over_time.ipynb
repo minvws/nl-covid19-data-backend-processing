{
 "cells": [
  {
   "cell_type": "markdown",
   "metadata": {},
   "source": [
    "# **INTRODUCTIONS**\n",
    "\n",
    "---\n",
    "\n",
    "The code is separated into multiple sections:\n",
    "\n",
    "1. **[Dependencies](#dependencies)**\n",
    "2. **[Tables](#tables)**\n",
    "2. **[Views](#views)**"
   ]
  },
  {
   "cell_type": "markdown",
   "metadata": {},
   "source": [
    "# **DEPENDENCIES**\n",
    "\n",
    "---\n",
    "\n",
    "```json\n",
    "{\n",
    "    \"depends-on\": [\n",
    "        \"src/common/schemas.ipynb\",\n",
    "        \"src/common/conversions.ipynb\",\n",
    "    ]\n",
    "}\n",
    "```"
   ]
  },
  {
   "cell_type": "markdown",
   "metadata": {},
   "source": [
    "# **TABLES**\n",
    "\n",
    "---\n"
   ]
  },
  {
   "cell_type": "markdown",
   "metadata": {},
   "source": [
    "### DESTINATIONS"
   ]
  },
  {
   "cell_type": "code",
   "execution_count": null,
   "metadata": {},
   "outputs": [],
   "source": [
    "-- COPYRIGHT (C) 2020 DE STAAT DER NEDERLANDEN, MINISTERIE VAN VOLKSGEZONDHEID, WELZIJN EN SPORT.\n",
    "-- LICENSED UNDER THE EUROPEAN UNION PUBLIC LICENCE V. 1.2 - SEE HTTPS://GITHUB.COM/MINVWS/NL-CONTACT-TRACING-APP-COORDINATION FOR MORE INFORMATION.\n",
    "\n",
    "IF NOT EXISTS(SELECT * FROM SYS.SEQUENCES WHERE OBJECT_ID = OBJECT_ID(N'[DBO].[SEQ_VWSDEST_RIVM_VACCINATIONS_PARTLY_FULLY]') AND TYPE = 'SO')\n",
    "CREATE SEQUENCE SEQ_VWSDEST_RIVM_VACCINATIONS_PARTLY_FULLY\n",
    "  START WITH 1\n",
    "  INCREMENT BY 1;\n",
    "GO\n",
    "\n",
    "IF NOT EXISTS (SELECT * FROM SYS.TABLES WHERE [NAME] = 'RIVM_VACCINATIONS_PARTLY_FULLY')\n",
    "CREATE TABLE [VWSDEST].[RIVM_VACCINATIONS_PARTLY_FULLY](\n",
    "    [ID] INT PRIMARY KEY NOT NULL DEFAULT (NEXT VALUE FOR [DBO].[SEQ_VWSDEST_RIVM_VACCINATIONS_PARTLY_FULLY]),\n",
    "    WEEK_START DATETIME NULL,\n",
    "    WEEK_END DATETIME NULL,\n",
    "    PARTIALLY_VACCINATED INT NULL,\n",
    "    FULLY_VACCINATED INT NULL,\n",
    "    PARTIALLY_OR_FULLY_VACCINATED INT NULL,\n",
    "    [BOOSTER1] INT NULL, \n",
    "    [BOOSTER1_INCREMENT] INT NULL,\n",
    "    [DATE_LAST_INSERTED]  DATETIME DEFAULT GETDATE()\n",
    ");\n",
    "GO\n",
    "\n",
    "IF NOT EXISTS (SELECT * FROM SYS.INDEXES WHERE [NAME] = 'IX_DEST_RIVM_VACCINATIONS_PARTLY_FULLY_DLI')\n",
    "CREATE NONCLUSTERED INDEX IX_DEST_RIVM_VACCINATIONS_PARTLY_FULLY_DLI\n",
    "ON VWSDEST.RIVM_VACCINATIONS_PARTLY_FULLY (DATE_LAST_INSERTED)\n",
    "INCLUDE (WEEK_START);\n",
    "GO"
   ]
  },
  {
   "cell_type": "markdown",
   "metadata": {},
   "source": [
    "# **VIEWS**\n",
    "\n",
    "---\n"
   ]
  },
  {
   "cell_type": "code",
   "execution_count": null,
   "metadata": {},
   "outputs": [],
   "source": [
    "-- COPYRIGHT (C) 2020 DE STAAT DER NEDERLANDEN, MINISTERIE VAN   VOLKSGEZONDHEID, WELZIJN EN SPORT.\n",
    "-- LICENSED UNDER THE EUROPEAN UNION PUBLIC LICENCE V. 1.2 - SEE HTTPS://GITHUB.COM/MINVWS/NL-CONTACT-TRACING-APP-COORDINATIONFOR MORE INFORMATION.\n",
    "\n",
    "CREATE OR ALTER VIEW VWSDEST.V_VACCINATIONS_PARTLY_FULLY\n",
    "AS\n",
    "    WITH BASE_CTE AS (\n",
    "        SELECT\n",
    "            PARTIALLY_VACCINATED,\n",
    "            FULLY_VACCINATED,\n",
    "            PARTIALLY_OR_FULLY_VACCINATED,\n",
    "            BOOSTER1,\n",
    "            DBO.CONVERT_DATETIME_TO_UNIX(WEEK_START) AS DATE_START_UNIX,\n",
    "            DBO.CONVERT_DATETIME_TO_UNIX(WEEK_END) AS DATE_END_UNIX,\n",
    "            DBO.CONVERT_DATETIME_TO_UNIX(DATE_LAST_INSERTED) AS DATE_OF_INSERTION_UNIX\n",
    "      FROM [VWSDEST].[RIVM_VACCINATIONS_PARTLY_FULLY]\n",
    "      WHERE DATE_LAST_INSERTED = (SELECT MAX(DATE_LAST_INSERTED) FROM [VWSDEST].[RIVM_VACCINATIONS_PARTLY_FULLY])\n",
    "        AND WEEK_START >= '2021-01-04 00:00:00.000' -- VACCINATION STARTED IN THE WEEK OF 4-1-2021\n",
    "    )\n",
    "\n",
    "    -- FILTER OUT:\n",
    "    -- 1. ANY INCOMPLETE WEEKS / FUTURE WEEKS\n",
    "    SELECT\n",
    "        PARTIALLY_VACCINATED,\n",
    "        FULLY_VACCINATED,\n",
    "        PARTIALLY_OR_FULLY_VACCINATED,\n",
    "        BOOSTER1,\n",
    "        DATE_START_UNIX,\n",
    "        DATE_END_UNIX,\n",
    "        DATE_OF_INSERTION_UNIX\n",
    "    FROM BASE_CTE\n",
    "    WHERE DATE_OF_INSERTION_UNIX > DATE_END_UNIX\n",
    "GO"
   ]
  }
 ],
 "metadata": {
  "language_info": {
   "name": "plaintext"
  },
  "orig_nbformat": 4
 },
 "nbformat": 4,
 "nbformat_minor": 2
}
