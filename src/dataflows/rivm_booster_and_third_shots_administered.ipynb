{
    "cells": [
        {
            "cell_type": "markdown",
            "metadata": {
                "azdata_cell_guid": "a1bff903-eb61-4e65-82a1-c4e918bbcac8"
            },
            "source": [
                "# **INTRODUCTIONS**\n",
                "\n",
                "---\n",
                "\n",
                "The **boostershots** are additional vaccination shot when the effectiveness - regarding the first series of vaccinations - has been reduced and the **third vaccincation shot** are additional vaccination shot for immune sensitive people. Both vaccinations are represented on the **[vaccination page](https://coronadashboard.rijksoverheid.nl/landelijk/vaccinaties)**.   \n",
                "\n",
                "The source data (i.e. **[RIVM](https://www.rivm.nl/en)**) are modelled on daily registrations.\n",
                "\n",
                "The code is separated into multiple sections:\n",
                "\n",
                "1. **[Views](#views)**\n",
                "2. **[Datatino Configurations](#datatino-configurations)**"
            ]
        },
        {
            "cell_type": "markdown",
            "metadata": {},
            "source": [
                "# **DEPENDENCIES**\n",
                "\n",
                "---\n",
                "\n",
                "```json\n",
                "{\n",
                "    \"depends-on\": [\n",
                "        \"src/dataflows/rivm_booster_shots_administered.ipynb\",\n",
                "        \"src/dataflows/rivm_third_shots_administered.ipynb\",\n",
                "        \"src/common/schemas.ipynb\"\n",
                "    ]\n",
                "}\n",
                "```"
            ]
        },
        {
            "cell_type": "markdown",
            "metadata": {
                "azdata_cell_guid": "b883932e-c47b-4de6-9629-eca0ff8aeabb"
            },
            "source": [
                "# **VIEWS**\n",
                "---"
            ]
        },
        {
            "cell_type": "code",
            "execution_count": null,
            "metadata": {
                "azdata_cell_guid": "8afe1341-1b29-4d6f-b896-861d70ae3472",
                "tags": [
                    "hide_input"
                ]
            },
            "outputs": [],
            "source": [
                "-- COPYRIGHT (C) 2020 DE STAAT DER NEDERLANDEN, MINISTERIE VAN   VOLKSGEZONDHEID, WELZIJN EN SPORT.\n",
                "-- LICENSED UNDER THE EUROPEAN UNION PUBLIC LICENCE V. 1.2 - SEE HTTPS://GITHUB.COM/MINVWS/NL-CONTACT-TRACING-APP-COORDINATIONFOR MORE INFORMATION.\n",
                "\n",
                "-- 1) CREATE VIEW(S).....\n",
                "CREATE OR ALTER VIEW [VWSDEST].[V_RIVM_VACCINATIONS_BOOSTER_AND_THIRD_SHOTS_ADMINISTERED_NL]\n",
                "AS\n",
                "    WITH ADMINISTERED_CTE AS (\n",
                "        SELECT\n",
                "            'THIRD_SHOTS' AS [TYPE_SHOT],\n",
                "            [ADMINISTERED_TOTAL],\n",
                "            [DATE_OF_INSERTION_UNIX],\n",
                "            [DATE_UNIX]\n",
                "        FROM [VWSDEST].[V_RIVM_VACCINATIONS_THIRD_SHOTS_ADMINISTERED_NL]\n",
                "        UNION\n",
                "        SELECT\n",
                "            'BOOSTER_SHOTS' AS [TYPE_SHOT],\n",
                "            [GGD_ADMINISTERED_TOTAL] + [OTHERS_ADMINISTERED_TOTAL],\n",
                "            [DATE_OF_INSERTION_UNIX],\n",
                "            [DATE_END_UNIX]\n",
                "        FROM [VWSDEST].[V_RIVM_VACCINATIONS_BOOSTER_SHOTS_ADMINISTERED_NL]\n",
                "    )\n",
                "    SELECT \n",
                "        SUM([ADMINISTERED_TOTAL])  AS [ADMINISTERED_TOTAL],\n",
                "        MAX([DATE_OF_INSERTION_UNIX]) AS [DATE_OF_INSERTION_UNIX],\n",
                "        MAX([DATE_UNIX]) AS [DATE_UNIX]\n",
                "    FROM ADMINISTERED_CTE\n",
                "GO\n"
            ]
        },
        {
            "cell_type": "markdown",
            "metadata": {
                "azdata_cell_guid": "9ecf89cb-f8c2-4453-90a7-cd43a8ad95fa"
            },
            "source": [
                "# **DATATINO CONFIGURATIONS**\n",
                "---"
            ]
        },
        {
            "cell_type": "markdown",
            "metadata": {
                "azdata_cell_guid": "ed69a7b9-56b5-49f0-894a-4fd9aa55b797"
            },
            "source": [
                "### PROTOS"
            ]
        },
        {
            "cell_type": "code",
            "execution_count": null,
            "metadata": {
                "azdata_cell_guid": "4b23e306-f4e6-40b8-830e-e80efd535a5b",
                "tags": [
                    "hide_input"
                ]
            },
            "outputs": [],
            "source": [
                "-- COPYRIGHT (C) 2020 DE STAAT DER NEDERLANDEN, MINISTERIE VAN   VOLKSGEZONDHEID, WELZIJN EN SPORT.\n",
                "-- LICENSED UNDER THE EUROPEAN UNION PUBLIC LICENCE V. 1.2 - SEE HTTPS://GITHUB.COM/MINVWS/NL-CONTACT-TRACING-APP-COORDINATIONFOR MORE INFORMATION.\n",
                "\n",
                "-- 1) DETERMINE VIEW ID & CONFIGURATION ID\n",
                "DECLARE @config_id INT, \n",
                "        @view_id INT,\n",
                "        @view_name VARCHAR(256) = 'VWSDEST.V_RIVM_VACCINATIONS_BOOSTER_AND_THIRD_SHOTS_ADMINISTERED_NL',\n",
                "        @item_name VARCHAR(256) = 'booster_and_third_shot_administered',\n",
                "        @view_description VARCHAR(256),\n",
                "        @config_description VARCHAR(256),\n",
                "        @proto_name VARCHAR(50) = 'NL',\n",
                "        @is_active INT;\n",
                "\n",
                "-- 1.1) SET ENVIRONMENTAL VARIABLES.....\n",
                "SET @is_active = CASE LOWER('#{ Environment }#')\n",
                "    WHEN 'production' THEN 1\n",
                "    WHEN 'acceptance' THEN 1\n",
                "    ELSE 1\n",
                "END;\n",
                "\n",
                "SET @view_description = CONCAT('VIEW: ', @view_name);\n",
                "SET @config_description = CONCAT('VIEW CONFIGURATION: ', @view_name);\n",
                "\n",
                "SELECT TOP(1)\n",
                "    @config_id = configs.[ID],\n",
                "    @view_id = views.[ID]\n",
                "FROM [DATATINO_PROTO_1].[CONFIGURATIONS] configs\n",
                "INNER JOIN [DATATINO_PROTO_1].[VIEWS] views ON views.[ID] = configs.[VIEW_ID] AND views.[NAME] = @view_name\n",
                "INNER JOIN [DATATINO_PROTO_1].[PROTOS] protos ON protos.[ID] = configs.[PROTO_ID] AND protos.[NAME] = @proto_name\n",
                "WHERE configs.[NAME] = @item_name;\n",
                "\n",
                "-- 2) UPSERT PROTO VIEW(S).....\n",
                "EXECUTE [DATATINO_PROTO_1].[UPSERT_VIEW]\n",
                "    @id = @view_id,\n",
                "    @view_name = @view_name,\n",
                "    @description = @view_description,\n",
                "    @last_update_name = 'DATE_UNIX',\n",
                "    @constraint_key_name = null,\n",
                "    @constraint_value = null,\n",
                "    @grouped_key_name = null,\n",
                "    @grouped_last_update_name = null;\n",
                "\n",
                "-- 3) UPSERT PROTO CONFIGURATION(S).....\n",
                "EXECUTE [DATATINO_PROTO_1].[UPSERT_CONFIGURATION]\n",
                "    @id = @config_id,\n",
                "    @proto_name = @proto_name,\n",
                "    @description =  @config_description,\n",
                "    @view_name = @view_name,\n",
                "    @item_name = @item_name,\n",
                "    @constrained = '0',\n",
                "    @grouped = '0',\n",
                "    @columns = '*',\n",
                "    @mapping = '=LOWER()',\n",
                "    @layout_type_id = '1',\n",
                "    @active = @is_active;\n",
                "GO"
            ]
        }
    ],
    "metadata": {
        "kernelspec": {
            "display_name": "SQL",
            "language": "sql",
            "name": "SQL"
        },
        "language_info": {
            "name": "sql",
            "version": ""
        }
    },
    "nbformat": 4,
    "nbformat_minor": 2
}
