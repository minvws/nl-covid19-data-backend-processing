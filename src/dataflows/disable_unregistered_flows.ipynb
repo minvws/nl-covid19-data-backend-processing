{
 "cells": [
  {
   "attachments": {},
   "cell_type": "markdown",
   "metadata": {},
   "source": [
    "```sql\n",
    "-- COPYRIGHT (C) 2020 DE STAAT DER NEDERLANDEN, MINISTERIE VAN VOLKSGEZONDHEID, WELZIJN EN SPORT.\n",
    "-- LICENSED UNDER THE EUROPEAN UNION PUBLIC LICENCE V. 1.2 - SEE HTTPS://GITHUB.COM/MINVWS/NL-CONTACT-TRACING-APP-COORDINATION FOR MORE INFORMATION.\n",
    "```\n",
    "\n",
    "# **INTRODUCTIONS**\n",
    "\n",
    "* * * \n",
    "\n",
    "This is a notebook used for the disabling of flows not registerd in pybooks\n",
    "---"
   ]
  },
  {
   "attachments": {},
   "cell_type": "markdown",
   "metadata": {},
   "source": [
    "# **UPDATE QUERIES**\n",
    "\n",
    "---"
   ]
  },
  {
   "attachments": {},
   "cell_type": "markdown",
   "metadata": {},
   "source": [
    "### DATAFLOW GGD_TESTED_PEOPLE"
   ]
  },
  {
   "cell_type": "code",
   "execution_count": null,
   "metadata": {
    "vscode": {
     "languageId": "sql"
    }
   },
   "outputs": [],
   "source": [
    "UPDATE  [DATATINO_ORCHESTRATOR_1].[WORKFLOWS] \n",
    "SET ACTIVE = 0\n",
    "WHERE DATAFLOW_ID in \n",
    "( \n",
    "    SELECT ID\n",
    "    FROM [DATATINO_ORCHESTRATOR_1].[DATAFLOWS] \n",
    "    WHERE NAME = 'GGD_TESTED_PEOPLE' \n",
    ")"
   ]
  }
 ],
 "metadata": {
  "language_info": {
   "name": "csharp"
  },
  "orig_nbformat": 4
 },
 "nbformat": 4,
 "nbformat_minor": 2
}
