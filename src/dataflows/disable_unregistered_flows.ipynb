{
 "cells": [
  {
   "attachments": {},
   "cell_type": "markdown",
   "metadata": {},
   "source": [
    "```sql\n",
    "-- COPYRIGHT (C) 2020 DE STAAT DER NEDERLANDEN, MINISTERIE VAN VOLKSGEZONDHEID, WELZIJN EN SPORT.\n",
    "-- LICENSED UNDER THE EUROPEAN UNION PUBLIC LICENCE V. 1.2 - SEE HTTPS://GITHUB.COM/MINVWS/NL-CONTACT-TRACING-APP-COORDINATION FOR MORE INFORMATION.\n",
    "```\n",
    "\n",
    "# **INTRODUCTIONS**\n",
    "\n",
    "* * * \n",
    "\n",
    "This is a notebook used for the disabling of flows not registerd in pybooks\n",
    "---"
   ]
  },
  {
   "attachments": {},
   "cell_type": "markdown",
   "metadata": {},
   "source": [
    "## **UPDATE QUERIES**\n",
    "\n",
    "---"
   ]
  },
  {
   "attachments": {},
   "cell_type": "markdown",
   "metadata": {},
   "source": [
    "### Dataflows disabling"
   ]
  },
  {
   "attachments": {},
   "cell_type": "markdown",
   "metadata": {},
   "source": [
    "> COR-1520 - 'Stop flow consuming file COVID-19_uitgevoerde_testen.csv'"
   ]
  },
  {
   "cell_type": "code",
   "execution_count": null,
   "metadata": {
    "dotnet_interactive": {
     "language": "sql"
    },
    "polyglot_notebook": {
     "kernelName": "sql"
    },
    "vscode": {
     "languageId": "polyglot-notebook"
    }
   },
   "outputs": [],
   "source": [
    "--DISABLE GGD_TESTED_PEOPLE FLOW\n",
    "UPDATE  [DATATINO_ORCHESTRATOR_1].[WORKFLOWS] \n",
    "SET ACTIVE = 0\n",
    "WHERE DATAFLOW_ID in \n",
    "( \n",
    "    SELECT ID\n",
    "    FROM [DATATINO_ORCHESTRATOR_1].[DATAFLOWS] \n",
    "    WHERE NAME = 'GGD_TESTED_PEOPLE' \n",
    ")"
   ]
  },
  {
   "attachments": {},
   "cell_type": "markdown",
   "metadata": {},
   "source": [
    "### Protokeys disabling"
   ]
  },
  {
   "attachments": {},
   "cell_type": "markdown",
   "metadata": {},
   "source": [
    "> COR-1604 - Archive page 'klachten bij huisartsen'"
   ]
  },
  {
   "cell_type": "code",
   "execution_count": null,
   "metadata": {
    "dotnet_interactive": {
     "language": "sql"
    },
    "polyglot_notebook": {
     "kernelName": "sql"
    },
    "vscode": {
     "languageId": "polyglot-notebook"
    }
   },
   "outputs": [],
   "source": [
    "SET ANSI_NULLS ON\n",
    "GO\n",
    "\n",
    "SET QUOTED_IDENTIFIER ON\n",
    "GO\n",
    "\n",
    "-- 1) DISABLE KEYS IN NL.JSON\n",
    "IF EXISTS(SELECT * FROM SYS.TABLES \n",
    "    WHERE [OBJECT_ID] = OBJECT_ID(N'[DATATINO_PROTO_1].[CONFIGURATIONS]')\n",
    "    )\n",
    "        BEGIN\n",
    "            UPDATE [DATATINO_PROTO_1].[CONFIGURATIONS]\n",
    "            SET \n",
    "                [DATATINO_PROTO_1].[CONFIGURATIONS].[ACTIVE] = 0\n",
    "            FROM\n",
    "                [DATATINO_PROTO_1].[CONFIGURATIONS] AS C2\n",
    "                INNER JOIN\n",
    "                    [DATATINO_PROTO_1].[PROTOS] AS P2 ON P2.[ID] = C2.[PROTO_ID]\n",
    "            WHERE\n",
    "                C2.[NAME] IN (\n",
    "                     'difference/doctor__covid_symptoms'\n",
    "\t\t\t        ,'difference/doctor__covid_symptoms_per_100k'\n",
    "\t\t\t        ,'doctor'\n",
    "                )\n",
    "            AND\n",
    "                P2.[NAME] = \n",
    "                    'NL'\n",
    "        END\n",
    "\n",
    "GO\n"
   ]
  }
 ],
 "metadata": {
  "language_info": {
   "name": "csharp"
  },
  "orig_nbformat": 4
 },
 "nbformat": 4,
 "nbformat_minor": 2
}
