{
 "cells": [
  {
   "attachments": {},
   "cell_type": "markdown",
   "metadata": {},
   "source": [
    "This is a notebook used for the disabling of flows not registerd in pybooks"
   ]
  },
  {
   "cell_type": "code",
   "execution_count": null,
   "metadata": {
    "vscode": {
     "languageId": "sql"
    }
   },
   "outputs": [],
   "source": [
    "--DISABLE GGD_TESTED_PEOPLE FLOW\n",
    "UPDATE  [DATATINO_ORCHESTRATOR_1].[WORKFLOWS] \n",
    "SET ACTIVE =0\n",
    "WHERE DATAFLOW_ID in \n",
    "( \n",
    "    Select ID\n",
    "    FROM [DATATINO_ORCHESTRATOR_1].[DATAFLOWS] \n",
    "    WHERE NAME = 'GGD_TESTED_PEOPLE' \n",
    ")"
   ]
  }
 ],
 "metadata": {
  "language_info": {
   "name": "csharp"
  },
  "orig_nbformat": 4
 },
 "nbformat": 4,
 "nbformat_minor": 2
}
