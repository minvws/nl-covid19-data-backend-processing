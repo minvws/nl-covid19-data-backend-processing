{
    "cells": [
        {
            "cell_type": "markdown",
            "metadata": {
                "azdata_cell_guid": "a1bff903-eb61-4e65-82a1-c4e918bbcac8"
            },
            "source": [
                "# **INTRODUCTIONS**\n",
                "\n",
                "---\n",
                "\n",
                "The **boostershots** are additional vaccination shot when the effectiveness - regarding the first series of vaccinations - has been reduced and the **third vaccincation shot** are additional vaccination shot for immune sensitive people. Both vaccinations are represented on the **[vaccination page](https://coronadashboard.rijksoverheid.nl/landelijk/vaccinaties)**.   \n",
                "\n",
                "The source data (i.e. **[RIVM](https://www.rivm.nl/en)**) are modelled on daily registrations.\n",
                "\n",
                "The code is separated into multiple sections:\n",
                "\n",
                "1. **[Views](#views)**\n",
                "2. **[Datatino Configurations](#datatino-configurations)**"
            ]
        },
        {
            "cell_type": "markdown",
            "metadata": {},
            "source": [
                "# **DEPENDENCIES**\n",
                "\n",
                "---\n",
                "\n",
                "```json\n",
                "{\n",
                "    \"depends-on\": [\n",
                "        \"src/utils/schemas.ipynb\",\n",
                "        \"src/statics/safety_regions/*\",\n",
                "        \"src/statics/municipalities/*\"\n",
                "    ]\n",
                "}\n",
                "```"
            ]
        },
        {
            "cell_type": "markdown",
            "metadata": {
                "azdata_cell_guid": "9ecf89cb-f8c2-4453-90a7-cd43a8ad95fa"
            },
            "source": [
                "# **TABLES**\n",
                "\n",
                "---"
            ]
        },
        {
            "cell_type": "markdown",
            "metadata": {
                "azdata_cell_guid": "ed69a7b9-56b5-49f0-894a-4fd9aa55b797"
            },
            "source": [
                "### INTERMEDIATES"
            ]
        },
        {
            "cell_type": "code",
            "execution_count": null,
            "metadata": {
                "azdata_cell_guid": "4b23e306-f4e6-40b8-830e-e80efd535a5b",
                "tags": [
                    "hide_input"
                ]
            },
            "outputs": [],
            "source": [
                "-- COPYRIGHT (C) 2020 DE STAAT DER NEDERLANDEN, MINISTERIE VAN VOLKSGEZONDHEID, WELZIJN EN SPORT.\n",
                "-- LICENSED UNDER THE EUROPEAN UNION PUBLIC LICENCE V. 1.2 - SEE HTTPS://GITHUB.COM/MINVWS/NL-CONTACT-TRACING-APP-COORDINATIONFOR MORE INFORMATION.\n",
                "\n",
                "-- 1) CREATE INTER SEQUENCE(S).....\n",
                "IF NOT EXISTS(SELECT * FROM SYS.SEQUENCES WHERE [OBJECT_ID] = OBJECT_ID(N'[dbo].[SEQ_VWSINTER_COVID19_MUNICIPALITY]') AND [TYPE] = 'SO')\n",
                "CREATE SEQUENCE [SEQ_VWSINTER_COVID19_MUNICIPALITY]\n",
                "  START WITH 1\n",
                "  INCREMENT BY 1;\n",
                "GO\n",
                "\n",
                "-- 2) CREATE INTER TABLE(S).....\n",
                "IF NOT EXISTS(SELECT * FROM SYS.TABLES WHERE [OBJECT_ID] = OBJECT_ID(N'[VWSINTER].[RIVM_COVID_19_NUMBER_MUNICIPALITY]'))\n",
                "CREATE TABLE [VWSINTER].[RIVM_COVID_19_NUMBER_MUNICIPALITY] (\n",
                "\t[ID] [INT] PRIMARY KEY NOT NULL DEFAULT (NEXT VALUE FOR [dbo].[SEQ_VWSINTER_COVID19_MUNICIPALITY]),\n",
                "\t[DATE_LAST_INSERTED] [DATETIME] DEFAULT GETDATE(),\n",
                "\t[[DATE_OF_REPORT] [DATETIME] NULL,\n",
                "\t[DATE_OF_PUBLICATION] [DATETIME] NULL,\n",
                "\t[MUNICIPALITY_CODE] [VARCHAR](100) NULL,\n",
                "\t[MUNICIPALITY_NAME] [VARCHAR](100) NULL,\n",
                "\t[PROVINCE] [VARCHAR](100) NULL,\n",
                "\t[SECURITY_REGION_CODE] [VARCHAR](100) NULL,\n",
                "\t[SECURITY_REGION_NAME] [VARCHAR](100) NULL,\n",
                "\t[MUNICIPAL_HEALTH_SERVICE] [VARCHAR](100) NULL,\n",
                "\t[ROAZ_REGION] [VARCHAR](100) NULL,\n",
                "\t[TOTAL_REPORTED] [INT] NULL,\n",
                "\t[HOSPITAL_ADMISSION] [INT] NULL,\n",
                "\t[DECEASED] [INT] NULL\n",
                ");\n",
                "GO\n",
                "\n",
                "-- 3) CREATE INTER INDEX(ES).....\n",
                "IF NOT EXISTS (SELECT * FROM SYS.INDEXES WHERE [NAME] = 'IX_INTER_RIVM_COVID_19_NUMBER_MUNICIPALITY')\n",
                "CREATE NONCLUSTERED INDEX [IX_INTER_RIVM_COVID_19_NUMBER_MUNICIPALITY] ON [VWSINTER].[RIVM_COVID_19_NUMBER_MUNICIPALITY] (\n",
                "    [DATE_LAST_INSERTED] ASC\n",
                ") WITH (STATISTICS_NORECOMPUTE = OFF, DROP_EXISTING = OFF, ONLINE = OFF, OPTIMIZE_FOR_SEQUENTIAL_KEY = OFF) ON [PRIMARY]\n",
                "GO"
            ]
        },
        {
            "cell_type": "markdown",
            "metadata": {},
            "source": [
                "# **VIEWS**\n",
                "\n",
                "---\n",
                "\n",
                "In de view VWSReport.V\\_Aandeel\\_Positief\\_Getest\\_per\\_Regio wordt gebruik gemaakt van de tabel VWSStatic.Safety\\_Regions\\_per\\_Municipal. Hier staat de relatie in tussen gemeenten en veiligheidsregios. Om te verzekeren dat de meest recente dataset wordt gebruikt, is in de subquery waar deze tabel wordt gebruikt, toegevoegd dat de meest recente dataset gebruikt moet worden.\n",
                "\n",
                "N.B. er moet dan wel een nieuwe versie van de tabel via de Static flow worden ingelezen."
            ]
        },
        {
            "cell_type": "code",
            "execution_count": null,
            "metadata": {},
            "outputs": [],
            "source": [
                "-- COPYRIGHT (C) 2020 DE STAAT DER NEDERLANDEN, MINISTERIE VAN VOLKSGEZONDHEID, WELZIJN EN SPORT.\n",
                "-- LICENSED UNDER THE EUROPEAN UNION PUBLIC LICENCE V. 1.2 - SEE HTTPS://GITHUB.COM/MINVWS/NL-CONTACT-TRACING-APP-COORDINATIONFOR MORE INFORMATION.\n",
                "\n",
                "-- THIS VIEW USES THE 'SAFETY_REGIONS_PER_MUNICIPAL' TO FETCH THE RELATIONS BETWEEN MUNICIPALITIES AND SAFETY REGIONS\n",
                "CREATE OR ALTER VIEW [VWSREPORT].[V_AANDEEL_POSITIEF_GETEST_PER_REGIO] AS\n",
                "-- SELECT BASE RECORDS\n",
                "WITH BASE_CTE AS (\n",
                "SELECT \n",
                "\t[DATE_OF_PUBLICATION] AS [DATE_OF_REPORT]\n",
                ",\t[SECURITY_REGION_CODE] AS [VRCODE]\n",
                ",\t[MUNICIPALITY_CODE] AS [GMCODE]\n",
                ",\t[TOTAL_REPORTED]\n",
                ",\t[INHABITANTS]\n",
                ",   T1.[DATE_LAST_INSERTED]\n",
                "FROM [VWSINTER].[RIVM_COVID_19_NUMBER_MUNICIPALITY] T1\n",
                "LEFT JOIN [VWSSTATIC].[INHABITANTS_PER_SAFETY_REGION] T3 ON [SECURITY_REGION_CODE] = T3.VGRNR\n",
                "WHERE T1.[DATE_LAST_INSERTED] = (SELECT MAX(DATE_LAST_INSERTED) FROM [VWSINTER].[RIVM_COVID_19_NUMBER_MUNICIPALITY])\n",
                "),\n",
                "SECOND_CTE AS (\n",
                "SELECT\n",
                "    [DATE_OF_REPORT]\n",
                ",   [VRCODE]\n",
                ",   SUM([TOTAL_REPORTED]) AS [TOTAL_REPORTED]\n",
                ",   SUM(CAST([TOTAL_REPORTED] AS FLOAT))/(CAST([INHABITANTS] AS DECIMAL(10,2))/CAST(100000 AS DECIMAL(10,2))) AS [REPORTED_PER_REGION_100000]\n",
                ",   [INHABITANTS]\n",
                ",   [DATE_LAST_INSERTED]\n",
                "FROM BASE_CTE\n",
                "GROUP BY [DATE_LAST_INSERTED], [DATE_OF_REPORT], [VRCODE], [INHABITANTS]\n",
                "),\n",
                "-- FINAL SELECT AND INSERT INTO STATEMENT. THIS PART ADDS THE CALCULATION OF A MOVING AVERAGE OF INCREASED HOSPITAL ADMISSIONS AND CUMULATIVE CALCULATIONS. IT CALCULATES IT BASED ON THE PREVIOUS 2 DAYS AS CAN BE SEEN IN ROW 59, AFTER BETWEEN.\n",
                "THIRD_CTE AS  (\n",
                "\tSELECT\n",
                "\t\tT_SECOND.[DATE_OF_REPORT]\n",
                "\t,\tT_SECOND.[VRCODE]\n",
                "\t,   ROUND((SUM([TOTAL_REPORTED]) OVER (PARTITION BY T_SECOND.[DATE_LAST_INSERTED], T_SECOND.[VRCODE] ORDER BY T_SECOND.[DATE_OF_REPORT] ASC)) / (CAST([INHABITANTS] AS FLOAT)/100000.0), 2) AS [DAGTOTAAL]\n",
                "\t,\tROUND([REPORTED_PER_REGION_100000], 1) AS [TOENAME_TOV_T-1]\n",
                "\tFROM SECOND_CTE AS T_SECOND\n",
                "\tWHERE T_SECOND.[DATE_OF_REPORT] BETWEEN ((SELECT MAX([DATE_OF_REPORT]) FROM SECOND_CTE) - DAY(6)) AND (SELECT MAX([DATE_OF_REPORT]) FROM SECOND_CTE)\n",
                "\tAND T_SECOND.[VRCODE] != ''\n",
                "),\n",
                "FOURTH_CTE AS (\n",
                "\tSELECT \n",
                "\t\t[DATE_OF_REPORT],\n",
                "\t\tSUM([DAGTOTAAL]) AS [TOTAAL_WEEK]\n",
                "\tFROM\n",
                "\t(\n",
                "\t\tSELECT  DISTINCT A.*\n",
                "\t\tFROM THIRD_CTE A\n",
                "\t\tWHERE [DATE_OF_REPORT] = (SELECT MAX([DATE_OF_REPORT]) FROM THIRD_CTE)\n",
                "\t) A\n",
                "\tGROUP BY [DATE_OF_REPORT]\n",
                ")\n",
                "SELECT \n",
                "\tA.[DATE_OF_REPORT],\n",
                "\t[VRCODE],\n",
                "\t[VRNAAM],\n",
                "\t(CAST([DAGTOTAAL] AS FLOAT)/B.[TOTAAL_WEEK]) * 100 [AANDEEL],\n",
                "\t[DAGTOTAAL],\n",
                "\t[TOENAME_TOV_T-1]\n",
                "FROM (\n",
                "\tSELECT DISTINCT \n",
                "\t\tA.*, \n",
                "\t\tB.[VRNAAM]\n",
                "\tFROM THIRD_CTE A\n",
                "\tJOIN (\n",
                "\t\t\tSELECT * \n",
                "\t\t\tFROM [VWSSTATIC].[SAFETY_REGIONS_PER_MUNICIPAL] \n",
                "\t\t\tWHERE [DATE_LAST_INSERTED]=(SELECT MAX([DATE_LAST_INSERTED]) FROM [VWSSTATIC].[SAFETY_REGIONS_PER_MUNICIPAL])\n",
                "\t\t) B\tON A.[VRCODE] = B.[VRCODE]\n",
                "\tWHERE [DATE_OF_REPORT] = (SELECT MAX([DATE_OF_REPORT]) FROM THIRD_CTE)\n",
                ") A, FOURTH_CTE B\n",
                "GO"
            ]
        }
    ],
    "metadata": {
        "kernelspec": {
            "display_name": "SQL",
            "language": "sql",
            "name": "SQL"
        },
        "language_info": {
            "name": "sql",
            "version": ""
        }
    },
    "nbformat": 4,
    "nbformat_minor": 2
}
