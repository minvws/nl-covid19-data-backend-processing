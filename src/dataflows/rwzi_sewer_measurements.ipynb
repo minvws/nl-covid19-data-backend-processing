{
    "cells": [
        {
            "attachments": {},
            "cell_type": "markdown",
            "metadata": {
                "azdata_cell_guid": "8b75854c-3037-4da5-855c-83e79340896e"
            },
            "source": [
                "# **INTRODUCTIONS**\n",
                "\n",
                "* * *\n",
                "\n",
                "The source code is separated into multiple sections:\n",
                "\n",
                "1. **[Tables](#tables)**\n",
                "3. **[Stored Procedures](#stored-procedures)**"
            ]
        },
        {
            "cell_type": "markdown",
            "metadata": {},
            "source": [
                "# **DEPENDENCIES**\n",
                "\n",
                "---\n",
                "\n",
                "```json\n",
                "{\n",
                "    \"depends-on\": [\n",
                "        \"src/statics/sewers/inactive_sewer_installation_mapping.ipynb\",\n",
                "        \"src/utils/conversions.ipynb\",\n",
                "        \"src/utils/schemas.ipynb\",\n",
                "        \"src/utils/protos.ipynb\"\n",
                "    ]\n",
                "}\n",
                "```"
            ]
        },
        {
            "cell_type": "markdown",
            "metadata": {
                "azdata_cell_guid": "ce43cf11-e280-4187-a3ba-76e9e6a3f3e1"
            },
            "source": [
                "# **TABLES**\n",
                "\n",
                "---"
            ]
        },
        {
            "cell_type": "markdown",
            "metadata": {
                "azdata_cell_guid": "e022d8ba-1200-41c1-962e-cf27ba02ac4e"
            },
            "source": [
                "### STAGINGS"
            ]
        },
        {
            "cell_type": "code",
            "execution_count": null,
            "metadata": {
                "azdata_cell_guid": "b3f6a728-c0e6-4f6c-855c-a92cbe1853a4",
                "dotnet_interactive": {
                    "language": "sql"
                },
                "tags": [
                    "hide_input"
                ]
            },
            "outputs": [],
            "source": [
                "-- COPYRIGHT (C) 2020 DE STAAT DER NEDERLANDEN, MINISTERIE VAN   VOLKSGEZONDHEID, WELZIJN EN SPORT.\n",
                "-- LICENSED UNDER THE EUROPEAN UNION PUBLIC LICENCE V. 1.2 - SEE HTTPS://GITHUB.COM/MINVWS/NL-CONTACT-TRACING-APP-COORDINATION FOR MORE INFORMATION.\n",
                "\n",
                "IF NOT EXISTS(SELECT * FROM SYS.TABLES WHERE [OBJECT_ID] = OBJECT_ID(N'[VWSSTAGE].[RIVM_SEWER_MEASUREMENTS]'))\n",
                "CREATE TABLE [VWSSTAGE].[RIVM_SEWER_MEASUREMENTS](\n",
                "  [ID] [INT] PRIMARY KEY IDENTITY(1,1),\n",
                "  [VERSION] [VARCHAR](100) NULL,\n",
                "  [DATE_MEASUREMENT] [VARCHAR](100) NULL,\n",
                "  [RWZI_AWZI_CODE] [VARCHAR](100) NULL,\n",
                "  [RWZI_AWZI_NAME] [VARCHAR](100) NULL,\n",
                "  [RNA_PER_ML] [VARCHAR](100) NULL,\n",
                "  [RNA_FLOW_PER_100000] [VARCHAR](100) NULL,\n",
                "  [DATE_OF_REPORT] [VARCHAR](100) NULL,\n",
                "  [DATE_LAST_INSERTED]  [DATETIME] DEFAULT GETDATE()\n",
                ");\n",
                "GO\n"
            ]
        },
        {
            "cell_type": "markdown",
            "metadata": {
                "azdata_cell_guid": "67404ac6-85ff-4e28-bb90-ef4770916ace"
            },
            "source": [
                "### INTERMEDIATES"
            ]
        },
        {
            "cell_type": "code",
            "execution_count": null,
            "metadata": {
                "azdata_cell_guid": "b78fe875-a8bf-44d7-84b7-252e58cd45be",
                "dotnet_interactive": {
                    "language": "sql"
                },
                "tags": [
                    "hide_input"
                ]
            },
            "outputs": [],
            "source": [
                "-- COPYRIGHT (C) 2020 DE STAAT DER NEDERLANDEN, MINISTERIE VAN   VOLKSGEZONDHEID, WELZIJN EN SPORT.\n",
                "-- LICENSED UNDER THE EUROPEAN UNION PUBLIC LICENCE V. 1.2 - SEE HTTPS://GITHUB.COM/MINVWS/NL-CONTACT-TRACING-APP-COORDINATIONFOR MORE INFORMATION.\n",
                "\n",
                "IF NOT EXISTS(SELECT * FROM SYS.TABLES WHERE [OBJECT_ID] = OBJECT_ID(N'[VWSINTER].[RIVM_SEWER_MEASUREMENTS]'))\n",
                "CREATE TABLE [VWSINTER].[RIVM_SEWER_MEASUREMENTS](\n",
                "    [ID] [INT] PRIMARY KEY IDENTITY(1,1),\n",
                "    [DATE_MEASUREMENT] [DATETIME],\n",
                "    [VERSION] [VARCHAR](100) NULL,\n",
                "    [RWZI_AWZI_CODE] [BIGINT],\n",
                "    [RWZI_AWZI_NAME] [VARCHAR](100) NULL,\n",
                "    [RNA_PER_ML] [BIGINT],\n",
                "    [RNA_FLOW_PER_100000] [BIGINT],\n",
                "    [DATE_LAST_INSERTED]  [DATETIME] DEFAULT GETDATE()\n",
                ");\n",
                "GO"
            ]
        },
        {
            "cell_type": "markdown",
            "metadata": {
                "azdata_cell_guid": "991b613b-1793-4c88-a85a-229f4e6fa51e"
            },
            "source": [
                "# **STORED PROCEDURES**\n",
                "\n",
                "---"
            ]
        },
        {
            "cell_type": "markdown",
            "metadata": {
                "azdata_cell_guid": "c55d426f-c101-4d3e-839e-2afb8120d57e"
            },
            "source": [
                "### STAGING &rarr; INTERMEDIATE MAPPING"
            ]
        },
        {
            "cell_type": "code",
            "execution_count": null,
            "metadata": {
                "azdata_cell_guid": "9e39a8d6-8f5a-45cb-a1d6-3405d256a5b5",
                "dotnet_interactive": {
                    "language": "sql"
                },
                "tags": [
                    "hide_input"
                ]
            },
            "outputs": [],
            "source": [
                "-- COPYRIGHT (C) 2020 DE STAAT DER NEDERLANDEN, MINISTERIE VAN   VOLKSGEZONDHEID, WELZIJN EN SPORT. \n",
                "-- LICENSED UNDER THE EUROPEAN UNION PUBLIC LICENCE V. 1.2 - SEE HTTPS://GITHUB.COM/MINVWS/NL-CONTACT-TRACING-APP-COORDINATIONFOR MORE INFORMATION.\n",
                "\n",
                "-- MOVE SEWER MEASUREMENTS DATA FROM STAGING TO INTERMEDIATE TABLE.\n",
                "\n",
                "-- COMMENTS:\n",
                "-- 1. EITHER RNA_PER_ML OR RNA_FLOW_PER_100000 IS FILLED. THE OTHER IS EMPTY: RNA_PER_ML SEEMS LEGACY\n",
                "-- 2. RNA_FLOW_PER_100000 CAN BE EITHER EMPTY OR 0. RECORDS WITH NO VALUES ARE LEFT OUT (RNA_PER_ML WAS MEASURED)\n",
                "\n",
                "CREATE OR ALTER PROCEDURE [DBO].[SP_RIVM_SEWER_MEASUREMENTS_INTER]\n",
                "AS\n",
                "BEGIN\n",
                "    INSERT INTO [VWSINTER].[RIVM_SEWER_MEASUREMENTS] (\n",
                "        T1.[DATE_MEASUREMENT]\n",
                "        ,T1.[VERSION]\n",
                "        ,T1.[RWZI_AWZI_CODE]\n",
                "        ,T1.[RWZI_AWZI_NAME]\n",
                "        ,T1.[RNA_PER_ML]\n",
                "        ,T1.[RNA_FLOW_PER_100000]\n",
                "    )\n",
                "    SELECT \n",
                "        CONVERT(DATETIME, T1.[DATE_MEASUREMENT], 126) AS [DATE_MEASUREMENT]\n",
                "        ,T1.[VERSION]\n",
                "        ,T1.[RWZI_AWZI_CODE]\n",
                "        ,T1.[RWZI_AWZI_NAME]\n",
                "        ,CAST((SELECT CONVERT(FLOAT, ISNULL(NULLIF(T1.[RNA_PER_ML], ''), '0'))) AS BIGINT) AS [RNA_PER_ML]\n",
                "        ,CONVERT(BIGINT, CONVERT(FLOAT, REPLACE(T1.[RNA_FLOW_PER_100000],',','.'))) AS [RNA_FLOW_PER_100000]\n",
                "    FROM \n",
                "       [VWSSTAGE].[RIVM_SEWER_MEASUREMENTS] T1\n",
                "    LEFT JOIN [VWSSTATIC].[INACTIVE_SEWER_INSTALLATION_MAPPING] T2\n",
                "        ON CAST(T1.[RWZI_AWZI_CODE] AS INT) = T2.[RWZI_CODE]\n",
                "    WHERE T1.[DATE_LAST_INSERTED] = (SELECT MAX([DATE_LAST_INSERTED]) FROM [VWSSTAGE].[RIVM_SEWER_MEASUREMENTS])\n",
                "        AND T1.[RNA_FLOW_PER_100000] != ''\n",
                "        AND ISNULL(T2.[ACTIVE], 1) != 0\n",
                "\n",
                "    TRUNCATE TABLE [VWSSTAGE].[RIVM_SEWER_MEASUREMENTS]\n",
                "END;\n",
                "GO"
            ]
        }
    ],
    "metadata": {
        "kernelspec": {
            "display_name": "SQL",
            "language": "sql",
            "name": "SQL"
        },
        "language_info": {
            "name": "sql",
            "version": ""
        }
    },
    "nbformat": 4,
    "nbformat_minor": 2
}
