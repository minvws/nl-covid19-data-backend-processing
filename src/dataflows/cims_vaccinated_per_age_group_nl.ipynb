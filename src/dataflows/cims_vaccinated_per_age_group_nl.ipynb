{
    "cells": [
        {
            "cell_type": "markdown",
            "metadata": {},
            "source": [
                "```sql\n",
                "-- COPYRIGHT (C) 2020 DE STAAT DER NEDERLANDEN, MINISTERIE VAN VOLKSGEZONDHEID, WELZIJN EN SPORT.\n",
                "-- LICENSED UNDER THE EUROPEAN UNION PUBLIC LICENCE V. 1.2 - SEE HTTPS://GITHUB.COM/MINVWS/NL-CONTACT-TRACING-APP-COORDINATION FOR MORE INFORMATION.\n",
                "```\n",
                "\n",
                "# **INTRODUCTIONS**\n",
                "\n",
                "---\n",
                "\n",
                "The code is separated into multiple sections:\n",
                "\n",
                "1. **[Stored Procedures](#stored-procedures)**"
            ]
        },
        {
            "cell_type": "markdown",
            "metadata": {},
            "source": [
                "# **DEPENDENCIES**\n",
                "\n",
                "---\n",
                "\n",
                "```json\n",
                "{\n",
                "    \"depends-on\": [\n",
                "        \"src/utils/conversions.ipynb\",\n",
                "        \"src/utils/schemas.ipynb\",\n",
                "        \"src/utils/protos.ipynb\",\n",
                "        \"src/statics/cohort_age_groups_mapping.ipynb\",\n",
                "        \"src/dataflows/cims_population_per_age_group.ipynb\",\n",
                "        \"src/dataflows/rivm_booster_shots_coverage_nl.ipynb\",\n",
                "        \"src/dataflows/cims_vaccinated_per_age_group_campaign_nl.ipynb\",\n",
                "    ]\n",
                "}\n",
                "```"
            ]
        },
        {
            "cell_type": "markdown",
            "metadata": {},
            "source": [
                "# **TABLES**\n",
                "\n",
                "---\n"
            ]
        },
        {
            "cell_type": "markdown",
            "metadata": {},
            "source": [
                "### STAGINGS"
            ]
        },
        {
            "cell_type": "code",
            "execution_count": null,
            "metadata": {
                "dotnet_interactive": {
                    "language": "sql"
                },
                "vscode": {
                    "languageId": "dotnet-interactive.sql"
                }
            },
            "outputs": [],
            "source": [
                "SET ANSI_NULLS ON\n",
                "GO\n",
                "\n",
                "SET QUOTED_IDENTIFIER ON\n",
                "GO\n",
                "\n",
                "-- 1) CREATE TABLE(S).....\n",
                "IF NOT EXISTS(SELECT * FROM SYS.TABLES WHERE [OBJECT_ID] = OBJECT_ID(N'[VWSSTAGE].[CIMS_VACCINATED_AGE_GROUP]'))\n",
                "CREATE TABLE [VWSSTAGE].[CIMS_VACCINATED_AGE_GROUP](\n",
                "\t[ID] [BIGINT] PRIMARY KEY IDENTITY(1,1),\n",
                "  [VERSION] [VARCHAR](100) NULL,\n",
                "  [DATE_OF_REPORT] [VARCHAR](100) NULL,\n",
                "  [DATE_OF_STATISTICS_WEEK_START] [VARCHAR](100) NULL,\n",
                "\t[DATE_OF_STATISTICS_WEEK_END] [VARCHAR](100) NULL,\n",
                "\t[BIRTH_COHORT] [VARCHAR](100) NULL,\n",
                "  [RECEIVED_PARTIAL_VACCINATION] [VARCHAR](100) NULL,\n",
                "  [VACCINATION_COVERAGE_PARTLY] [VARCHAR](100) NULL,\n",
                "  [RECEIVED_COMPLETE_VACCINATION] [VARCHAR](100) NULL,\n",
                "  [VACCINATION_COVERAGE_COMPLETED] [VARCHAR](100) NULL,\n",
                "\t[DATE_LAST_INSERTED] [DATETIME] DEFAULT GETDATE()\n",
                ");\n",
                "GO"
            ]
        },
        {
            "cell_type": "markdown",
            "metadata": {},
            "source": [
                "### INTERMEDIATES"
            ]
        },
        {
            "cell_type": "code",
            "execution_count": null,
            "metadata": {
                "dotnet_interactive": {
                    "language": "sql"
                },
                "vscode": {
                    "languageId": "dotnet-interactive.sql"
                }
            },
            "outputs": [],
            "source": [
                "SET ANSI_NULLS ON\n",
                "GO\n",
                "\n",
                "SET QUOTED_IDENTIFIER ON\n",
                "GO\n",
                "\n",
                "-- 1) CREATE TABLE(S).....\n",
                "IF NOT EXISTS(SELECT * FROM SYS.TABLES WHERE [OBJECT_ID] = OBJECT_ID(N'[VWSINTER].[CIMS_VACCINATED_AGE_GROUP]'))\n",
                "CREATE TABLE [VWSINTER].[CIMS_VACCINATED_AGE_GROUP](\n",
                "\t[ID] [BIGINT] PRIMARY KEY IDENTITY(1,1),\n",
                "  [DATE_OF_REPORT] [DATETIME] NULL,\n",
                "  [DATE_OF_STATISTICS_WEEK_START] [DATETIME] NULL,\n",
                "\t[DATE_OF_STATISTICS_WEEK_END] [DATETIME] NULL,\n",
                "\t[BIRTH_COHORT] [VARCHAR](100) NULL,\n",
                "  [VACCINATION_ALL] [BIGINT] NULL,\n",
                "  [VACCINATION_COVERAGE_ALL] [DECIMAL](16,2) NULL,\n",
                "  [VACCINATION_COMPLETED] [BIGINT] NULL,\n",
                "  [VACCINATION_COVERAGE_COMPLETED] [DECIMAL](16,2) NULL,\n",
                "\t[DATE_LAST_INSERTED] [DATETIME] DEFAULT GETDATE()\n",
                ");\n",
                "GO"
            ]
        },
        {
            "cell_type": "markdown",
            "metadata": {},
            "source": [
                "### DESTINATIONS"
            ]
        },
        {
            "cell_type": "code",
            "execution_count": null,
            "metadata": {
                "dotnet_interactive": {
                    "language": "sql"
                },
                "vscode": {
                    "languageId": "dotnet-interactive.sql"
                }
            },
            "outputs": [],
            "source": [
                "SET ANSI_NULLS ON\n",
                "GO\n",
                "\n",
                "SET QUOTED_IDENTIFIER ON\n",
                "GO\n",
                "\n",
                "-- 1) CREATE TABLE(S).....\n",
                "IF NOT EXISTS(SELECT * FROM SYS.TABLES WHERE [OBJECT_ID] = OBJECT_ID(N'[VWSDEST].[CIMS_VACCINATED_AGE_GROUP]'))\n",
                "CREATE TABLE [VWSDEST].[CIMS_VACCINATED_AGE_GROUP](\n",
                "\t[ID] [BIGINT] PRIMARY KEY IDENTITY(1,1),\n",
                "  [DATE_OF_REPORT] DATETIME NULL,\n",
                "  [DATE_OF_STATISTICS_WEEK_START] DATETIME NULL,\n",
                "  [DATE_OF_STATISTICS_WEEK_END] DATETIME NULL,\n",
                "  [AGE_GROUP] VARCHAR(100) NULL,\n",
                "  [AGE_GROUP_POPULATION] BIGINT NULL,\n",
                "  [AGE_GROUP_POPULATION_PERCENTAGE] DECIMAL(16,2) NULL,\n",
                "  [VACCINATION_ALL] BIGINT NULL,\n",
                "  [VACCINATION_COMPLETED] BIGINT NULL,\n",
                "  [VACCINATED_PARTIALLY] BIGINT NULL,\n",
                "  [VACCINATION_COVERAGE_ALL] DECIMAL(16,2) NULL,\n",
                "  [VACCINATED_COVERAGE_PARTIALLY] DECIMAL(16,2) NULL,\n",
                "  [VACCINATION_COVERAGE_COMPLETED] DECIMAL(16,2) NULL,\n",
                "  [DATE_LAST_INSERTED] DATETIME DEFAULT GETDATE(),\n",
                "  [BIRTH_COHORT] VARCHAR(100) NULL\n",
                ");\n",
                "GO\n",
                "\n",
                "-- 2) CREATE INDEX(ES).....\n",
                "DROP INDEX IF EXISTS [NCIX_DLI_DOS_AG_CIMS_VACCINATED_AGE_GROUP] \n",
                "  ON [VWSDEST].[CIMS_VACCINATED_AGE_GROUP]\n",
                "GO\n",
                "\n",
                "CREATE NONCLUSTERED INDEX [NCIX_DLI_DOS_AG_CIMS_VACCINATED_AGE_GROUP] \n",
                "  ON [VWSDEST].[CIMS_VACCINATED_AGE_GROUP] (\n",
                "    [DATE_LAST_INSERTED], \n",
                "    [DATE_OF_STATISTICS_WEEK_START], \n",
                "    [DATE_OF_STATISTICS_WEEK_END], \n",
                "    [AGE_GROUP]\n",
                "  );\n",
                "GO"
            ]
        },
        {
            "cell_type": "markdown",
            "metadata": {},
            "source": [
                "### ARCHIVING"
            ]
        },
        {
            "cell_type": "code",
            "execution_count": null,
            "metadata": {
                "dotnet_interactive": {
                    "language": "sql"
                },
                "vscode": {
                    "languageId": "dotnet-interactive.sql"
                }
            },
            "outputs": [],
            "source": [
                "SET ANSI_NULLS ON\n",
                "GO\n",
                "\n",
                "SET QUOTED_IDENTIFIER ON\n",
                "GO\n",
                "\n",
                "-- 1) CREATE TABLE(S).....\n",
                "IF NOT EXISTS(SELECT * FROM SYS.TABLES WHERE [OBJECT_ID] = OBJECT_ID(N'[VWSARCHIVE].[CIMS_VACCINATED_AGE_GROUP]'))\n",
                "CREATE TABLE [VWSARCHIVE].[CIMS_VACCINATED_AGE_GROUP](\n",
                "\t[ID] [BIGINT] PRIMARY KEY IDENTITY(1,1),\n",
                "  [DATE_OF_REPORT] DATETIME NULL,\n",
                "  [DATE_OF_STATISTICS_WEEK_START] DATETIME NULL,\n",
                "  [DATE_OF_STATISTICS_WEEK_END] DATETIME NULL,\n",
                "  [AGE_GROUP] VARCHAR(100) NULL,\n",
                "  [AGE_GROUP_POPULATION] BIGINT NULL,\n",
                "  [AGE_GROUP_POPULATION_PERCENTAGE] DECIMAL(16,2) NULL,\n",
                "  [VACCINATION_ALL] BIGINT NULL,\n",
                "  [VACCINATION_COMPLETED] BIGINT NULL,\n",
                "  [VACCINATED_PARTIALLY] BIGINT NULL,\n",
                "  [VACCINATION_COVERAGE_ALL] DECIMAL(16,2) NULL,\n",
                "  [VACCINATED_COVERAGE_PARTIALLY] DECIMAL(16,2) NULL,\n",
                "  [VACCINATION_COVERAGE_COMPLETED] DECIMAL(16,2) NULL,\n",
                "  [DATE_LAST_INSERTED] DATETIME DEFAULT GETDATE(),\n",
                "  [BIRTH_COHORT] VARCHAR(100) NULL\n",
                ");\n",
                "GO\n",
                "\n",
                "-- 2) CREATE INDEX(ES).....\n",
                "DROP INDEX IF EXISTS [NCIX_DLI_DOS_AG_CIMS_VACCINATED_AGE_GROUP] \n",
                "  ON [VWSARCHIVE].[CIMS_VACCINATED_AGE_GROUP]\n",
                "GO\n",
                "\n",
                "CREATE NONCLUSTERED INDEX [NCIX_DLI_DOS_AG_CIMS_VACCINATED_AGE_GROUP] \n",
                "  ON [VWSARCHIVE].[CIMS_VACCINATED_AGE_GROUP] (\n",
                "    [DATE_LAST_INSERTED], \n",
                "    [DATE_OF_STATISTICS_WEEK_START], \n",
                "    [DATE_OF_STATISTICS_WEEK_END], \n",
                "    [AGE_GROUP]\n",
                "  );\n",
                "GO"
            ]
        },
        {
            "cell_type": "markdown",
            "metadata": {},
            "source": [
                "# **VIEWS**\n",
                "\n",
                "---\n"
            ]
        },
        {
            "cell_type": "code",
            "execution_count": null,
            "metadata": {
                "dotnet_interactive": {
                    "language": "sql"
                },
                "vscode": {
                    "languageId": "dotnet-interactive.sql"
                }
            },
            "outputs": [],
            "source": [
                "CREATE OR ALTER VIEW [VWSDEST].[V_RIVM_CIMS_VACCINATED_PER_AGE_GROUP] \n",
                "AS\n",
                "    WITH CTE AS (\n",
                "        SELECT\n",
                "            [AGE_GROUP],\n",
                "            [COVERAGE_AGEGROUP],\n",
                "            [DATE_OF_STATISTICS],\n",
                "            [AMOUNT_CUMULATIVE]\n",
                "        FROM [VWSDEST].[RIVM_VACCINATIONS_BOOSTER_SHOTS_COVERAGE_NL] WITH(NOLOCK)\n",
                "        WHERE [DATE_LAST_INSERTED] = (SELECT MAX([DATE_LAST_INSERTED]) \n",
                "            FROM [VWSDEST].[RIVM_VACCINATIONS_BOOSTER_SHOTS_COVERAGE_NL] WITH(NOLOCK))\n",
                "    ),\n",
                "    CTE_CAMPAIGN AS (\n",
                "        SELECT \n",
                "            [DATE_OF_STATISTICS_WEEK_END],\n",
                "            [AGE_GROUP],\n",
                "            [COVERAGE],\n",
                "            [RECEIVED]\n",
                "        FROM [VWSDEST].[CIMS_VACCINATED_PER_AGE_GROUP_CAMPAIGN]\n",
                "        WHERE [DATE_LAST_INSERTED] = (SELECT MAX([DATE_LAST_INSERTED]) \n",
                "            FROM [VWSDEST].[CIMS_VACCINATED_PER_AGE_GROUP_CAMPAIGN] WITH(NOLOCK))\n",
                "        \n",
                "    )\n",
                "    SELECT\n",
                "        [DBO].[CONVERT_DATETIME_TO_UNIX](DATE_OF_REPORT) AS [DATE_OF_REPORT_UNIX],\n",
                "        [DBO].[CONVERT_DATETIME_TO_UNIX](T1.DATE_OF_STATISTICS_WEEK_END) AS [DATE_UNIX],\n",
                "        T1.[AGE_GROUP] AS [AGE_GROUP_RANGE],\n",
                "        [BIRTH_COHORT] AS [BIRTHYEAR_RANGE],\n",
                "        [AGE_GROUP_POPULATION] AS [AGE_GROUP_TOTAL],\n",
                "        [AGE_GROUP_POPULATION_PERCENTAGE] AS [AGE_GROUP_PERCENTAGE],\n",
                "        [VACCINATION_COMPLETED] AS [FULLY_VACCINATED],\n",
                "        T2.[AMOUNT_CUMULATIVE] AS [BOOSTER_SHOT],\n",
                "        T3.[RECEIVED] AS [AUTUMN_2022_VACCINATED],\n",
                "        CAST(FLOOR(T2.[COVERAGE_AGEGROUP]) AS INT) AS [BOOSTER_SHOT_PERCENTAGE],\n",
                "        CAST(FLOOR([VACCINATION_COVERAGE_COMPLETED]) AS INT) AS [FULLY_VACCINATED_PERCENTAGE],\n",
                "        CAST(FLOOR(T3.[COVERAGE]) AS INT) AS [AUTUMN_2022_VACCINATED_PERCENTAGE],\n",
                "        [DBO].[CONVERT_DATETIME_TO_UNIX]([DATE_LAST_INSERTED]) AS [DATE_OF_INSERTION_UNIX]\n",
                "    FROM [VWSDEST].[CIMS_VACCINATED_AGE_GROUP] T1 WITH(NOLOCK)\n",
                "        LEFT JOIN CTE T2 ON T1.[DATE_OF_STATISTICS_WEEK_END] = T2.[DATE_OF_STATISTICS]\n",
                "            AND T1.[AGE_GROUP] = T2.[AGE_GROUP]\n",
                "        LEFT JOIN CTE_CAMPAIGN T3 ON T1.[DATE_OF_STATISTICS_WEEK_END] = T3.[DATE_OF_STATISTICS_WEEK_END]\n",
                "            AND T1.[AGE_GROUP] = T3.[AGE_GROUP]\n",
                "    WHERE [DATE_LAST_INSERTED] = (SELECT MAX([DATE_LAST_INSERTED]) FROM VWSDEST.CIMS_VACCINATED_AGE_GROUP WITH(NOLOCK))\n",
                "        AND T1.[AGE_GROUP] NOT IN ('12+','18+', '5+');\n",
                "GO"
            ]
        },
        {
            "cell_type": "markdown",
            "metadata": {},
            "source": [
                "> ARCHIVE"
            ]
        },
        {
            "cell_type": "code",
            "execution_count": null,
            "metadata": {
                "dotnet_interactive": {
                    "language": "sql"
                },
                "vscode": {
                    "languageId": "dotnet-interactive.sql"
                }
            },
            "outputs": [],
            "source": [
                "CREATE OR ALTER VIEW [VWSDEST].[V_RIVM_CIMS_VACCINATED_PER_AGE_GROUP_ARCHIVE] \n",
                "AS\n",
                "    SELECT\n",
                "        [DBO].[CONVERT_DATETIME_TO_UNIX](DATE_OF_REPORT) AS [DATE_OF_REPORT_UNIX],\n",
                "        [DBO].[CONVERT_DATETIME_TO_UNIX](DATE_OF_STATISTICS_WEEK_END) AS [DATE_UNIX],\n",
                "        T1.[AGE_GROUP] AS [AGE_GROUP_RANGE],\n",
                "        [BIRTH_COHORT] AS [BIRTHYEAR_RANGE],\n",
                "        [AGE_GROUP_POPULATION] AS [AGE_GROUP_TOTAL],\n",
                "        [AGE_GROUP_POPULATION_PERCENTAGE] AS [AGE_GROUP_PERCENTAGE],\n",
                "        [VACCINATION_COMPLETED] AS [FULLY_VACCINATED],\n",
                "        [VACCINATION_ALL] AS [HAS_ONE_SHOT],\n",
                "        CAST(FLOOR([VACCINATION_COVERAGE_ALL]) AS INT) AS [HAS_ONE_SHOT_PERCENTAGE],\n",
                "        CAST(FLOOR([VACCINATION_COVERAGE_COMPLETED]) AS INT) AS [FULLY_VACCINATED_PERCENTAGE],\n",
                "        [DBO].[CONVERT_DATETIME_TO_UNIX]([DATE_LAST_INSERTED]) AS [DATE_OF_INSERTION_UNIX]\n",
                "    FROM [VWSARCHIVE].[CIMS_VACCINATED_AGE_GROUP] T1 WITH(NOLOCK)\n",
                "    WHERE [DATE_LAST_INSERTED] = (SELECT MAX([DATE_LAST_INSERTED]) FROM VWSARCHIVE.CIMS_VACCINATED_AGE_GROUP WITH(NOLOCK))\n",
                "        AND T1.[AGE_GROUP] NOT IN ('12+','18+', '5+');\n",
                "GO"
            ]
        },
        {
            "cell_type": "markdown",
            "metadata": {},
            "source": [
                "# **STORED PROCEDURES**\n",
                "\n",
                "---\n"
            ]
        },
        {
            "cell_type": "markdown",
            "metadata": {},
            "source": [
                "### STAGING &rarr; INTERMEDIATE MAPPING"
            ]
        },
        {
            "cell_type": "code",
            "execution_count": null,
            "metadata": {
                "dotnet_interactive": {
                    "language": "sql"
                },
                "vscode": {
                    "languageId": "dotnet-interactive.sql"
                }
            },
            "outputs": [],
            "source": [
                "-- COPYRIGHT (C) 2020 DE STAAT DER NEDERLANDEN, MINISTERIE VAN   VOLKSGEZONDHEID, WELZIJN EN SPORT. \n",
                "-- LICENSED UNDER THE EUROPEAN UNION PUBLIC LICENCE V. 1.2 - SEE HTTPS://GITHUB.COM/MINVWS/NL-CONTACT-TRACING-APP-COORDINATIONFOR MORE INFORMATION.\n",
                "\n",
                "CREATE OR ALTER PROCEDURE [DBO].[SP_INTER_CIMS_VACCINATED_AGE_GROUP]\n",
                "AS\n",
                "BEGIN\n",
                "    INSERT INTO [VWSINTER].[CIMS_VACCINATED_AGE_GROUP] (\n",
                "        [DATE_OF_REPORT]\n",
                "        ,[DATE_OF_STATISTICS_WEEK_START]\n",
                "        ,[DATE_OF_STATISTICS_WEEK_END]\n",
                "        ,[BIRTH_COHORT]\n",
                "        ,[VACCINATION_ALL]\n",
                "        ,[VACCINATION_COVERAGE_ALL]\n",
                "        ,[VACCINATION_COMPLETED]\n",
                "        ,[VACCINATION_COVERAGE_COMPLETED]\n",
                "    )\n",
                "    SELECT\n",
                "        [DATE_OF_REPORT] AS [DATE_OF_REPORT],\n",
                "        [DATE_OF_STATISTICS_WEEK_START] AS [DATE_OF_STATISTICS_WEEK_START],\n",
                "        [DATE_OF_STATISTICS_WEEK_END] AS [DATE_OF_STATISTICS_WEEK_END],\n",
                "        [BIRTH_COHORT] AS [BIRTH_COHORT],\n",
                "        [RECEIVED_PARTIAL_VACCINATION] AS [RECEIVED_PARTIAL_VACCINATION],\n",
                "        [VACCINATION_COVERAGE_PARTLY] AS [VACCINATION_COVERAGE_PARTLY],\n",
                "        [RECEIVED_COMPLETE_VACCINATION] AS [RECEIVED_COMPLETE_VACCINATION],\n",
                "        [VACCINATION_COVERAGE_COMPLETED] AS [VACCINATION_COVERAGE_COMPLETED]\n",
                "    FROM [VWSSTAGE].[CIMS_VACCINATED_AGE_GROUP]\n",
                "    WHERE [DATE_LAST_INSERTED] = (SELECT MAX([DATE_LAST_INSERTED]) FROM [VWSSTAGE].[CIMS_VACCINATED_AGE_GROUP]);\n",
                "END;\n",
                "GO"
            ]
        },
        {
            "cell_type": "markdown",
            "metadata": {},
            "source": [
                "### INTERMEDIATE &rarr; DESTINATION MAPPING"
            ]
        },
        {
            "cell_type": "code",
            "execution_count": null,
            "metadata": {
                "dotnet_interactive": {
                    "language": "sql"
                },
                "vscode": {
                    "languageId": "dotnet-interactive.sql"
                }
            },
            "outputs": [],
            "source": [
                "-- COPYRIGHT (C) 2020 DE STAAT DER NEDERLANDEN, MINISTERIE VAN   VOLKSGEZONDHEID, WELZIJN EN SPORT.\n",
                "-- LICENSED UNDER THE EUROPEAN UNION PUBLIC LICENCE V. 1.2 - SEE HTTPS://GITHUB.COM/MINVWS/NL-CONTACT-TRACING-APP-COORDINATIONFOR MORE INFORMATION.\n",
                "\n",
                "CREATE OR ALTER  PROCEDURE [DBO].[SP_RIVM_CIMS_VACCINATED_PER_AGE_GROUP]\n",
                "AS\n",
                "BEGIN\n",
                "-- APPLY FILTERS ON MAIN INPUT TABLE AND PERFORM TRANSFORMATIONS\n",
                "WITH FILTERED_CTE AS (\n",
                "    SELECT\n",
                "        [DATE_OF_REPORT] AS [DATE_OF_REPORT],\n",
                "        [DATE_OF_STATISTICS_WEEK_START] AS [DATE_OF_STATISTICS_WEEK_START],\n",
                "        [DATE_OF_STATISTICS_WEEK_END] AS [DATE_OF_STATISTICS_WEEK_END],\n",
                "        [BIRTH_COHORT] AS [BIRTH_COHORT],\n",
                "        [VACCINATION_ALL] AS [VACCINATION_ALL],\n",
                "        [VACCINATION_COMPLETED] AS [VACCINATION_COMPLETED],\n",
                "        [VACCINATION_ALL] - [VACCINATION_COMPLETED] AS [VACCINATED_PARTIALLY],\n",
                "        [VACCINATION_COVERAGE_ALL] AS [VACCINATION_COVERAGE_ALL],\n",
                "        [VACCINATION_COVERAGE_COMPLETED] AS [VACCINATION_COVERAGE_COMPLETED],\n",
                "        [VACCINATION_COVERAGE_ALL] - [VACCINATION_COVERAGE_COMPLETED] AS [VACCINATED_COVERAGE_PARTIALLY]\n",
                "    FROM [VWSINTER].[CIMS_VACCINATED_AGE_GROUP]\n",
                "    WHERE [DATE_LAST_INSERTED] = (SELECT MAX([DATE_LAST_INSERTED]) FROM [VWSINTER].[CIMS_VACCINATED_AGE_GROUP])\n",
                "        AND LOWER([BIRTH_COHORT]) != 'unknown'\n",
                "),\n",
                "LAST_CTE AS (\n",
                "    SELECT\n",
                "        [DATE_OF_REPORT],\n",
                "        [DATE_OF_STATISTICS_WEEK_START],\n",
                "        [DATE_OF_STATISTICS_WEEK_END],\n",
                "        [BIRTH_COHORT],\n",
                "        [VACCINATION_ALL],\n",
                "        [VACCINATION_COMPLETED],\n",
                "        [VACCINATED_PARTIALLY],\n",
                "        [VACCINATION_COVERAGE_ALL],\n",
                "        [VACCINATION_COVERAGE_COMPLETED],\n",
                "        [VACCINATED_COVERAGE_PARTIALLY]\n",
                "    FROM FILTERED_CTE\n",
                "),\n",
                "POPULATION_CTE AS (\n",
                "SELECT \n",
                "    cpag.[BIRTH_COHORT],\n",
                "    ctagnm.[BIRTH_COHORT_FORMATTED],\n",
                "    ctagnm.[AGE_GROUP],\n",
                "    cpag.[POPULATION]\n",
                "    -- ,MAX([POPULATION]) OVER (PARTITION BY DATE_LAST_INSERTED) AS TOTAL_POPULATION\n",
                "    FROM [VWSINTER].[CIMS_POPULATION_AGE_GROUP] cpag\n",
                "    LEFT JOIN (\n",
                "        SELECT\n",
                "            ctagm.[COHORT],\n",
                "            ctagm.[AGE_GROUP],\n",
                "            ISNULL(ctnm.[COHORT_ADJUSTED], ctagm.[COHORT]) AS [BIRTH_COHORT_FORMATTED]\n",
                "        FROM [VWSSTATIC].[COHORT_TO_AGE_GROUPS_MAPPING] ctagm\n",
                "        LEFT JOIN [VWSSTATIC].[COHORT_TO_NAMES_MAPPING] ctnm ON ctnm.[COHORT_ORIGINAL] = ctagm.[COHORT]\n",
                "    ) ctagnm ON ctagnm.[COHORT] = cpag.[BIRTH_COHORT]\n",
                "    WHERE [DATE_LAST_INSERTED] = (SELECT MAX([DATE_LAST_INSERTED]) FROM [VWSINTER].[CIMS_POPULATION_AGE_GROUP]) \n",
                "        AND LOWER([BIRTH_COHORT]) != 'unknown'\n",
                "),\n",
                "-- HERE WE SIMPLY GET THE SUM OF ALL POPULATIONS WHICH IS BASICALLY THE <=2016 ROW, BUT MIGHT CHANGE IN THE FUTURE.\n",
                "-- MAKE SURE A FLOAT IS RETURNED FOR DIVISION LATER ON!\n",
                "SUM_POPULATION_CTE AS (\n",
                "    SELECT CAST([POPULATION] AS FLOAT) AS [SUM_POPULATION] FROM POPULATION_CTE\n",
                "    WHERE [AGE_GROUP] IN ('12+')\n",
                ")\n",
                "INSERT INTO [VWSDEST].[CIMS_VACCINATED_AGE_GROUP](\n",
                "    [DATE_OF_REPORT],\n",
                "    [DATE_OF_STATISTICS_WEEK_START],\n",
                "    [DATE_OF_STATISTICS_WEEK_END],\n",
                "    [BIRTH_COHORT],\n",
                "    [AGE_GROUP],\n",
                "    [AGE_GROUP_POPULATION],\n",
                "    [AGE_GROUP_POPULATION_PERCENTAGE],\n",
                "    [VACCINATION_ALL],\n",
                "    [VACCINATION_COMPLETED],\n",
                "    [VACCINATED_PARTIALLY],\n",
                "    [VACCINATION_COVERAGE_ALL],\n",
                "    [VACCINATION_COVERAGE_COMPLETED],\n",
                "    [VACCINATED_COVERAGE_PARTIALLY]\n",
                ")\n",
                "SELECT\n",
                "    T0.[DATE_OF_REPORT],\n",
                "    T0.[DATE_OF_STATISTICS_WEEK_START],\n",
                "    T0.[DATE_OF_STATISTICS_WEEK_END],\n",
                "    T1.[BIRTH_COHORT_FORMATTED] AS [BIRTH_COHORT],\n",
                "    T1.[AGE_GROUP],\n",
                "    T1.[POPULATION] AS [AGE_GROUP_POPULATION],\n",
                "    T1.[PERCENTAGE_AGE_GROUP],\n",
                "    T0.[VACCINATION_ALL],\n",
                "    T0.[VACCINATION_COMPLETED],\n",
                "    T0.[VACCINATED_PARTIALLY],\n",
                "    T0.[VACCINATION_COVERAGE_ALL],\n",
                "    T0.[VACCINATION_COVERAGE_COMPLETED],\n",
                "    T0.[VACCINATED_COVERAGE_PARTIALLY]\n",
                "    FROM LAST_CTE AS T0\n",
                "    -- JOIN AGEGROUP DATA ON FILTERED CTE\n",
                "    LEFT JOIN (\n",
                "    SELECT\n",
                "        [BIRTH_COHORT_FORMATTED],\n",
                "        [BIRTH_COHORT],\n",
                "        [AGE_GROUP],\n",
                "        [POPULATION] AS [POPULATION],\n",
                "        [POPULATION] / (SELECT [SUM_POPULATION] FROM SUM_POPULATION_CTE) AS [PERCENTAGE_AGE_GROUP]\n",
                "    FROM POPULATION_CTE\n",
                "    ) AS T1\n",
                "    ON T0.[BIRTH_COHORT]=T1.[BIRTH_COHORT]\n",
                "    --TAKE ONLY THE LAST VALUE\n",
                "    WHERE T0.[DATE_OF_STATISTICS_WEEK_START] = (SELECT MAX([DATE_OF_STATISTICS_WEEK_START]) FROM LAST_CTE)\n",
                "END\n",
                "GO"
            ]
        },
        {
            "cell_type": "markdown",
            "metadata": {},
            "source": [
                "### DESTINATION &rarr; ARCHIVE MAPPING"
            ]
        },
        {
            "cell_type": "code",
            "execution_count": null,
            "metadata": {
                "dotnet_interactive": {
                    "language": "sql"
                },
                "vscode": {
                    "languageId": "dotnet-interactive.sql"
                }
            },
            "outputs": [],
            "source": [
                "CREATE OR ALTER PROCEDURE [DBO].[SP_RIVM_CIMS_VACCINATED_PER_AGE_GROUP_DEST_TO_ARCHIVE]\n",
                "AS\n",
                "BEGIN\n",
                "    INSERT INTO [VWSARCHIVE].[CIMS_VACCINATED_AGE_GROUP] (        \n",
                "        [DATE_OF_REPORT],\n",
                "        [DATE_OF_STATISTICS_WEEK_START],\n",
                "        [DATE_OF_STATISTICS_WEEK_END],\n",
                "        [AGE_GROUP],\n",
                "        [AGE_GROUP_POPULATION],\n",
                "        [AGE_GROUP_POPULATION_PERCENTAGE],\n",
                "        [VACCINATION_ALL],\n",
                "        [VACCINATION_COMPLETED],\n",
                "        [VACCINATED_PARTIALLY],\n",
                "        [VACCINATION_COVERAGE_ALL],\n",
                "        [VACCINATED_COVERAGE_PARTIALLY],\n",
                "        [VACCINATION_COVERAGE_COMPLETED],\n",
                "        [DATE_LAST_INSERTED],\n",
                "        [BIRTH_COHORT]\n",
                "    )\n",
                "    SELECT \n",
                "        [DATE_OF_REPORT],\n",
                "        [DATE_OF_STATISTICS_WEEK_START],\n",
                "        [DATE_OF_STATISTICS_WEEK_END],\n",
                "        [AGE_GROUP],\n",
                "        [AGE_GROUP_POPULATION],\n",
                "        [AGE_GROUP_POPULATION_PERCENTAGE],\n",
                "        [VACCINATION_ALL],\n",
                "        [VACCINATION_COMPLETED],\n",
                "        [VACCINATED_PARTIALLY],\n",
                "        [VACCINATION_COVERAGE_ALL],\n",
                "        [VACCINATED_COVERAGE_PARTIALLY],\n",
                "        [VACCINATION_COVERAGE_COMPLETED],\n",
                "        [DATE_LAST_INSERTED],\n",
                "        [BIRTH_COHORT]\n",
                "    FROM [VWSDEST].[CIMS_VACCINATED_AGE_GROUP] WITH(NOLOCK)\n",
                "    WHERE [DATE_LAST_INSERTED] = (SELECT MAX([DATE_LAST_INSERTED]) FROM [VWSDEST].[CIMS_VACCINATED_AGE_GROUP]  WITH(NOLOCK));\n",
                "END;\n",
                "GO"
            ]
        },
        {
            "cell_type": "markdown",
            "metadata": {},
            "source": [
                "# **ORCHESTRATOR CONFIGURATIONS**\n",
                "\n",
                "---"
            ]
        },
        {
            "cell_type": "markdown",
            "metadata": {},
            "source": [
                "> WORKFLOWS"
            ]
        },
        {
            "cell_type": "code",
            "execution_count": null,
            "metadata": {
                "dotnet_interactive": {
                    "language": "sql"
                },
                "vscode": {
                    "languageId": "dotnet-interactive.sql"
                }
            },
            "outputs": [],
            "source": [
                "-- 1) UPSERT WORKFLOW(S).....\n",
                "DECLARE @workflow_name NVARCHAR(50) = 'CIMS_VACCINATED_PER_AGE_GROUP',\n",
                "        @workflow_id INT,        \n",
                "        @workflow_description VARCHAR(256),\n",
                "        @is_active INT;\n",
                "\n",
                "-- 1.1) SET ENVIRONMENTAL VARIABLES.....\n",
                "SET @is_active = CASE LOWER('#{ Environment }#')\n",
                "    WHEN 'production' THEN 1\n",
                "    WHEN 'acceptance' THEN 1\n",
                "    ELSE 1\n",
                "END;\n",
                "\n",
                "SELECT TOP(1)\n",
                "    @workflow_id = workflows.[ID]\n",
                "FROM [DATATINO_ORCHESTRATOR_1].[WORKFLOWS] workflows\n",
                "INNER JOIN [DATATINO_ORCHESTRATOR_1].[V_WORKFLOWS] v_workflows ON v_workflows.[DATAFLOW_ID] = workflows.[DATAFLOW_ID] AND v_workflows.[ID] = workflows.[ID]\n",
                "WHERE v_workflows.[NAME] = @workflow_name;\n",
                "\n",
                "SET @workflow_description = CONCAT('WORKFLOW: ', @workflow_name);\n",
                "\n",
                "EXECUTE [DATATINO_ORCHESTRATOR_1].[UPSERT_WORKFLOW]\n",
                "    @id = @workflow_id, \n",
                "    @workflow_name = @workflow_name,\n",
                "    @description = @workflow_description,\n",
                "    @schedule = '0 12 * * WED', -- AT 02:00 PM, ON WEDNESDAY\n",
                "    @active = @is_active;\n",
                "GO"
            ]
        },
        {
            "cell_type": "markdown",
            "metadata": {},
            "source": [
                "> PROTOS"
            ]
        },
        {
            "cell_type": "code",
            "execution_count": null,
            "metadata": {
                "dotnet_interactive": {
                    "language": "sql"
                },
                "vscode": {
                    "languageId": "dotnet-interactive.sql"
                }
            },
            "outputs": [],
            "source": [
                "-- 1) SET ENVIRONMENTAL VARIABLES.....\n",
                "DECLARE @view_name VARCHAR(256) = 'VWSDEST.V_RIVM_CIMS_VACCINATED_PER_AGE_GROUP',\n",
                "        @view_description VARCHAR(256),\n",
                "        @item_name VARCHAR(256) = 'vaccine_coverage_per_age_group',\n",
                "        @config_description VARCHAR(256),\n",
                "        @constraint_value VARCHAR(50) = NULL,\n",
                "        @constraint_key_name VARCHAR(50) = NULL,\n",
                "        @grouped_key_name VARCHAR(50) = null,\n",
                "        @grouped_last_update_name VARCHAR(50) = null,\n",
                "        @proto_name VARCHAR(50) = 'NL',\n",
                "        @columns VARCHAR(256) = '*',\n",
                "        @layout_type_id INT = 2, -- VALUES\n",
                "        @last_update_name VARCHAR(50) = 'DATE_UNIX',\n",
                "        @is_active INT;\n",
                "        \n",
                "SET @is_active = CASE LOWER('#{ Environment }#')\n",
                "    WHEN 'production' THEN 1\n",
                "    WHEN 'acceptance' THEN 1\n",
                "    ELSE 1\n",
                "END;\n",
                "\n",
                "SET @view_description = CONCAT('VIEW: ', @view_name, ' FOR ', @item_name);\n",
                "SET @config_description = CONCAT('VIEW CONFIGURATION: ', @view_name, ' FOR ', @item_name);\n",
                "\n",
                "-- 2) DETERMINE VIEW ID & CONFIGURATION ID\n",
                "DECLARE @constrained INT,\n",
                "        @grouped INT,\n",
                "        @view_id BIGINT,\n",
                "        @config_id BIGINT;\n",
                "\n",
                "SET @constrained = CASE \n",
                "    WHEN @constraint_key_name IS NULL THEN 0\n",
                "    ELSE 1\n",
                "END;\n",
                "SET @grouped = CASE \n",
                "    WHEN @grouped_key_name IS NULL THEN 0\n",
                "    ELSE 1\n",
                "END;\n",
                "\n",
                "SELECT \n",
                "    @view_id = [ID]\n",
                "FROM [DATATINO_PROTO_1].[VIEWS]\n",
                "WHERE ISNULL([CONSTRAINT_VALUE], 'X') = ISNULL(@constraint_value, 'X')\n",
                "    AND ISNULL([CONSTRAINT_KEY_NAME], 'X') = ISNULL(@constraint_key_name, 'X')\n",
                "    AND ISNULL([GROUPED_KEY_NAME], 'X') = ISNULL(@grouped_key_name, 'X')\n",
                "    AND ISNULL([GROUPED_LAST_UPDATE_NAME], 'X') = ISNULL(@grouped_last_update_name, 'X')\n",
                "    AND [NAME] = @view_name;\n",
                "    \n",
                "SELECT\n",
                "    @config_id = configs.[ID]\n",
                "FROM [DATATINO_PROTO_1].[VIEWS] views\n",
                "INNER JOIN [DATATINO_PROTO_1].[CONFIGURATIONS] AS configs ON views.[ID] = configs.[VIEW_ID]\n",
                "    AND configs.[NAME] = @item_name\n",
                "    AND configs.[VIEW_ID] = @view_id\n",
                "INNER JOIN [DATATINO_PROTO_1].[PROTOS] AS protos ON protos.[ID] = configs.[PROTO_ID]\n",
                "    AND protos.[NAME] = @proto_name\n",
                "WHERE views.[NAME] = @view_name;\n",
                "\n",
                "-- 3) UPSERT PROTO VIEW(S).....\n",
                "EXECUTE [DATATINO_PROTO_1].[UPSERT_VIEW]\n",
                "    @id = @view_id,\n",
                "    @view_name = @view_name,\n",
                "    @description = @view_description,\n",
                "    @last_update_name = @last_update_name,\n",
                "    @constraint_key_name = @constraint_key_name,\n",
                "    @constraint_value = @constraint_value,\n",
                "    @grouped_key_name = @grouped_key_name,\n",
                "    @grouped_last_update_name = @grouped_last_update_name;\n",
                "\n",
                "-- 4) UPSERT PROTO CONFIGURATION(S).....\n",
                "EXECUTE [DATATINO_PROTO_1].[UPSERT_CONFIGURATION]\n",
                "    @id = @config_id,\n",
                "    @proto_name = @proto_name,\n",
                "    @description =  @config_description,\n",
                "    @view_name = @view_name,\n",
                "    @item_name = @item_name,\n",
                "    @constrained = @constrained,\n",
                "    @grouped = @grouped,\n",
                "    @columns = @columns,\n",
                "    @mapping = '=LOWER()',\n",
                "    @layout_type_id = @layout_type_id,\n",
                "    @active = @is_active,\n",
                "    @constraint_key_name = @constraint_key_name,\n",
                "    @constraint_value = @constraint_value,\n",
                "    @grouped_key_name = @grouped_key_name,\n",
                "    @grouped_last_update_name = @grouped_last_update_name;\n",
                "GO"
            ]
        },
        {
            "cell_type": "code",
            "execution_count": null,
            "metadata": {
                "dotnet_interactive": {
                    "language": "sql"
                },
                "vscode": {
                    "languageId": "dotnet-interactive.sql"
                }
            },
            "outputs": [],
            "source": [
                "-- 1) SET ENVIRONMENTAL VARIABLES.....\n",
                "DECLARE @view_name VARCHAR(256) = 'VWSDEST.V_RIVM_CIMS_VACCINATED_PER_AGE_GROUP_ARCHIVE',\n",
                "        @view_description VARCHAR(256),\n",
                "        @item_name VARCHAR(256) = 'vaccine_coverage_per_age_group_archived',\n",
                "        @config_description VARCHAR(256),\n",
                "        @constraint_value VARCHAR(50) = NULL,\n",
                "        @constraint_key_name VARCHAR(50) = NULL,\n",
                "        @grouped_key_name VARCHAR(50) = null,\n",
                "        @grouped_last_update_name VARCHAR(50) = null,\n",
                "        @proto_name VARCHAR(50) = 'NL',\n",
                "        @columns VARCHAR(256) = '*',\n",
                "        @layout_type_id INT = 2, -- VALUES\n",
                "        @last_update_name VARCHAR(50) = 'DATE_UNIX',\n",
                "        @is_active INT;\n",
                "        \n",
                "SET @is_active = CASE LOWER('#{ Environment }#')\n",
                "    WHEN 'production' THEN 1\n",
                "    WHEN 'acceptance' THEN 1\n",
                "    ELSE 1\n",
                "END;\n",
                "\n",
                "SET @view_description = CONCAT('VIEW: ', @view_name, ' FOR ', @item_name);\n",
                "SET @config_description = CONCAT('VIEW CONFIGURATION: ', @view_name, ' FOR ', @item_name);\n",
                "\n",
                "-- 2) DETERMINE VIEW ID & CONFIGURATION ID\n",
                "DECLARE @constrained INT,\n",
                "        @grouped INT,\n",
                "        @view_id BIGINT,\n",
                "        @config_id BIGINT;\n",
                "\n",
                "SET @constrained = CASE \n",
                "    WHEN @constraint_key_name IS NULL THEN 0\n",
                "    ELSE 1\n",
                "END;\n",
                "SET @grouped = CASE \n",
                "    WHEN @grouped_key_name IS NULL THEN 0\n",
                "    ELSE 1\n",
                "END;\n",
                "\n",
                "SELECT \n",
                "    @view_id = [ID]\n",
                "FROM [DATATINO_PROTO_1].[VIEWS]\n",
                "WHERE ISNULL([CONSTRAINT_VALUE], 'X') = ISNULL(@constraint_value, 'X')\n",
                "    AND ISNULL([CONSTRAINT_KEY_NAME], 'X') = ISNULL(@constraint_key_name, 'X')\n",
                "    AND ISNULL([GROUPED_KEY_NAME], 'X') = ISNULL(@grouped_key_name, 'X')\n",
                "    AND ISNULL([GROUPED_LAST_UPDATE_NAME], 'X') = ISNULL(@grouped_last_update_name, 'X')\n",
                "    AND [NAME] = @view_name;\n",
                "    \n",
                "SELECT\n",
                "    @config_id = configs.[ID]\n",
                "FROM [DATATINO_PROTO_1].[VIEWS] views\n",
                "INNER JOIN [DATATINO_PROTO_1].[CONFIGURATIONS] AS configs ON views.[ID] = configs.[VIEW_ID]\n",
                "    AND configs.[NAME] = @item_name\n",
                "    AND configs.[VIEW_ID] = @view_id\n",
                "INNER JOIN [DATATINO_PROTO_1].[PROTOS] AS protos ON protos.[ID] = configs.[PROTO_ID]\n",
                "    AND protos.[NAME] = @proto_name\n",
                "WHERE views.[NAME] = @view_name;\n",
                "\n",
                "-- 3) UPSERT PROTO VIEW(S).....\n",
                "EXECUTE [DATATINO_PROTO_1].[UPSERT_VIEW]\n",
                "    @id = @view_id,\n",
                "    @view_name = @view_name,\n",
                "    @description = @view_description,\n",
                "    @last_update_name = @last_update_name,\n",
                "    @constraint_key_name = @constraint_key_name,\n",
                "    @constraint_value = @constraint_value,\n",
                "    @grouped_key_name = @grouped_key_name,\n",
                "    @grouped_last_update_name = @grouped_last_update_name;\n",
                "\n",
                "-- 4) UPSERT PROTO CONFIGURATION(S).....\n",
                "EXECUTE [DATATINO_PROTO_1].[UPSERT_CONFIGURATION]\n",
                "    @id = @config_id,\n",
                "    @proto_name = @proto_name,\n",
                "    @description =  @config_description,\n",
                "    @view_name = @view_name,\n",
                "    @item_name = @item_name,\n",
                "    @constrained = @constrained,\n",
                "    @grouped = @grouped,\n",
                "    @columns = @columns,\n",
                "    @mapping = '=LOWER()',\n",
                "    @layout_type_id = @layout_type_id,\n",
                "    @active = @is_active,\n",
                "    @constraint_key_name = @constraint_key_name,\n",
                "    @constraint_value = @constraint_value,\n",
                "    @grouped_key_name = @grouped_key_name,\n",
                "    @grouped_last_update_name = @grouped_last_update_name;\n",
                "GO"
            ]
        }
    ],
    "metadata": {
        "kernelspec": {
            "display_name": ".NET (C#)",
            "language": "C#",
            "name": ".net-csharp"
        },
        "language_info": {
            "file_extension": ".cs",
            "mimetype": "text/x-csharp",
            "name": "C#",
            "pygments_lexer": "csharp",
            "version": "9.0"
        }
    },
    "nbformat": 4,
    "nbformat_minor": 2
}
