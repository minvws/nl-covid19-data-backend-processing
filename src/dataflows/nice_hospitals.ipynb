{
    "cells": [
        {
            "cell_type": "markdown",
            "metadata": {
                "azdata_cell_guid": "d71a6e4c-77d0-4a82-8b2d-c90180c12c9a"
            },
            "source": [
                "# **INTRODUCTIONS**\n",
                "\n",
                "---\n",
                "\n",
                "The third vacchination shots are represented on the **[vaccination page](https://coronadashboard.rijksoverheid.nl/landelijk/vaccinaties)**.   \n",
                "\n",
                "The source data (i.e. **[RIVM](https://www.rivm.nl/en)**) is modelled on daily registrations of the third vaccination shots at **GGD**.\n",
                "\n",
                "The source code is separated into multiple sections:\n",
                "\n",
                "1. **[Tables](#tables)**\n",
                "2. **[Views](#views)**\n",
                "3. **[Stored Procedures](#stored-procedures)**\n",
                "4. **[Drop Artifacts](#drop-artifacts)**\n",
                "5. **[Datatino Configurations](#datatino-configurations)**"
            ]
        },
        {
            "cell_type": "markdown",
            "metadata": {},
            "source": [
                "# **DEPENDENCIES**\n",
                "\n",
                "---\n",
                "\n",
                "```json\n",
                "{\n",
                "    \"depends-on\": [\n",
                "        \"src/utils/conversions.ipynb\",\n",
                "        \"src/utils/schemas.ipynb\",\n",
                "        \"src/utils/protos.ipynb\",\n",
                "        \"src/statics/reclassified_municipality_mapping.ipynb\"\n",
                "    ]\n",
                "}\n",
                "```"
            ]
        },
        {
            "cell_type": "markdown",
            "metadata": {},
            "source": [
                "# **TABLES**\n",
                "\n",
                "---\n"
            ]
        },
        {
            "cell_type": "markdown",
            "metadata": {},
            "source": [
                "### STAGING"
            ]
        },
        {
            "cell_type": "code",
            "execution_count": null,
            "metadata": {},
            "outputs": [],
            "source": [
                "-- COPYRIGHT (C) 2020 DE STAAT DER NEDERLANDEN, MINISTERIE VAN   VOLKSGEZONDHEID, WELZIJN EN SPORT.\n",
                "-- LICENSED UNDER THE EUROPEAN UNION PUBLIC LICENCE V. 1.2 - SEE HTTPS://GITHUB.COM/MINVWS/NL-CONTACT-TRACING-APP-COORDINATIONFOR MORE INFORMATION.\n",
                "\n",
                "IF NOT EXISTS(SELECT * FROM SYS.SEQUENCES WHERE OBJECT_ID = OBJECT_ID(N'[DBO].[SEQ_VWSSTAGE_NICE_HOSPITAL]') AND TYPE = 'SO')\n",
                "CREATE SEQUENCE [SEQ_VWSSTAGE_NICE_HOSPITAL]\n",
                "\tSTART WITH 1\n",
                "\tINCREMENT BY 1;\n",
                "GO\n",
                "\n",
                "IF NOT EXISTS(SELECT * FROM SYS.TABLES WHERE [OBJECT_ID] = OBJECT_ID(N'[VWSSTAGE].[NICE_HOSPITAL]'))\n",
                "CREATE TABLE [VWSSTAGE].[NICE_HOSPITAL](\n",
                "\t[ID] INT PRIMARY KEY NOT NULL DEFAULT (NEXT VALUE FOR [DBO].[SEQ_VWSSTAGE_NICE_HOSPITAL]),\n",
                "\t[VERSION] VARCHAR(100) NULL,\n",
                "\tDATE_OF_REPORT VARCHAR(100) NULL,\n",
                "\tDATE_OF_STATISTICS VARCHAR(100) NULL,\n",
                "\tMUNICIPALITY_CODE VARCHAR(100) NULL,\n",
                "\tMUNICIPALITY_NAME VARCHAR(100) NULL,\n",
                "\tSECURITY_REGION_CODE VARCHAR(100) NULL,\n",
                "\tSECURITY_REGION_NAME VARCHAR(100) NULL,\n",
                "\tHOSPITAL_ADMISSION_NOTIFICATION VARCHAR(100) NULL,\n",
                "\tHOSPITAL_ADMISSION VARCHAR(100) NULL,\n",
                "\tDATE_LAST_INSERTED DATETIME DEFAULT GETDATE()\n",
                ");\n",
                "GO"
            ]
        },
        {
            "cell_type": "markdown",
            "metadata": {},
            "source": [
                "### INTERMEDIATES"
            ]
        },
        {
            "cell_type": "code",
            "execution_count": null,
            "metadata": {},
            "outputs": [],
            "source": [
                "-- COPYRIGHT (C) 2020 DE STAAT DER NEDERLANDEN, MINISTERIE VAN   VOLKSGEZONDHEID, WELZIJN EN SPORT.\n",
                "-- LICENSED UNDER THE EUROPEAN UNION PUBLIC LICENCE V. 1.2 - SEE HTTPS://GITHUB.COM/MINVWS/NL-CONTACT-TRACING-APP-COORDINATIONFOR MORE INFORMATION.\n",
                "\n",
                "IF NOT EXISTS(SELECT * FROM SYS.SEQUENCES WHERE OBJECT_ID = OBJECT_ID(N'[DBO].[SEQ_VWSINTER_NICE_HOSPITAL]') AND TYPE = 'SO')\n",
                "CREATE SEQUENCE SEQ_VWSINTER_NICE_HOSPITAL\n",
                "\tSTART WITH 1\n",
                "\tINCREMENT BY 1;\n",
                "GO\n",
                "\n",
                "IF NOT EXISTS(SELECT * FROM SYS.TABLES WHERE [OBJECT_ID] = OBJECT_ID(N'[VWSINTER].[NICE_HOSPITAL]'))\n",
                "CREATE TABLE [VWSINTER].[NICE_HOSPITAL](\n",
                "\t[ID] INT PRIMARY KEY NOT NULL DEFAULT (NEXT VALUE FOR [DBO].[SEQ_VWSINTER_NICE_HOSPITAL]),\n",
                "\tDATE_OF_REPORT DATETIME NULL,\n",
                "\tDATE_OF_STATISTICS DATETIME NULL,\n",
                "\tMUNICIPALITY_CODE VARCHAR(100) NULL,\n",
                "\tMUNICIPALITY_NAME VARCHAR(100) NULL,\n",
                "\tSECURITY_REGION_CODE VARCHAR(100) NULL,\n",
                "\tSECURITY_REGION_NAME VARCHAR(100) NULL,\n",
                "\tREPORTED INT NULL,\n",
                "\tHOSPITALIZED INT NULL,\n",
                "\tDATE_LAST_INSERTED DATETIME DEFAULT GETDATE()\n",
                ");\n",
                "GO"
            ]
        },
        {
            "cell_type": "markdown",
            "metadata": {
                "azdata_cell_guid": "991b613b-1793-4c88-a85a-229f4e6fa51e"
            },
            "source": [
                "# **STORE PROCEDURES**\n",
                "---"
            ]
        },
        {
            "cell_type": "markdown",
            "metadata": {
                "azdata_cell_guid": "157e2e17-d669-4d53-9b88-9bfce9675611"
            },
            "source": [
                "### STAGING &rarr; INTERMEDIATE MAPPING"
            ]
        },
        {
            "cell_type": "code",
            "execution_count": null,
            "metadata": {
                "azdata_cell_guid": "714f8185-4fab-4947-a3ab-0fd31da71640",
                "tags": [
                    "hide_input"
                ]
            },
            "outputs": [],
            "source": [
                "-- COPYRIGHT (C) 2020 DE STAAT DER NEDERLANDEN, MINISTERIE VAN   VOLKSGEZONDHEID, WELZIJN EN SPORT.\n",
                "-- LICENSED UNDER THE EUROPEAN UNION PUBLIC LICENCE V. 1.2 - SEE HTTPS://GITHUB.COM/MINVWS/NL-CONTACT-TRACING-APP-COORDINATIONFOR MORE INFORMATION.\n",
                "\n",
                "CREATE OR ALTER PROCEDURE [DBO].[SP_NICE_HOSPITAL_INTER]\n",
                "AS\n",
                "BEGIN\n",
                "\n",
                "-- MAIN SELECT AND INSERT INTO STATEMENT. FILTERED VALUES ON MAX DATELASTINSERTED.\n",
                "-- MOVE INFECTIOUS DATA FROM STAGING TO INTERMEDIATE TABLE.\n",
                "INSERT INTO [VWSINTER].[NICE_HOSPITAL](\n",
                "\t[DATE_OF_REPORT]\n",
                "    ,[DATE_OF_STATISTICS]\n",
                "    ,[MUNICIPALITY_CODE]\n",
                "    ,[MUNICIPALITY_NAME]\n",
                "    ,[SECURITY_REGION_CODE]\n",
                "    ,[SECURITY_REGION_NAME]\n",
                "    ,[REPORTED]\n",
                "    ,[HOSPITALIZED]\n",
                ")\n",
                "    SELECT\n",
                "        CAST(A.[DATE_OF_REPORT] AS [DATETIME])\n",
                "        ,CAST(A.[DATE_OF_STATISTICS] AS [DATETIME])\n",
                "        ,ISNULL(B.[GM_CODE_NEW], A.[MUNICIPALITY_CODE])\n",
                "        ,ISNULL(B.[GM_NAME_NEW], A.[MUNICIPALITY_NAME])\n",
                "        ,ISNULL(B.[VR_CODE], A.[SECURITY_REGION_CODE])\n",
                "        ,ISNULL(B.[VR_NAME], A.[SECURITY_REGION_NAME])\n",
                "        ,SUM(CAST([HOSPITAL_ADMISSION_NOTIFICATION] AS [INT])) AS [REPORTED]\n",
                "        ,SUM(CAST([HOSPITAL_ADMISSION] AS [INT])) AS [HOSPITALIZED]\n",
                "    FROM [VWSSTAGE].[NICE_HOSPITAL] A\n",
                "    LEFT JOIN (\n",
                "        SELECT \n",
                "            * \n",
                "        FROM [VWSSTATIC].[RECLASSIFIED_MUNICIPALITY_MAPPING] \n",
                "        WHERE [ACTIVE]=1\n",
                "            AND [DATE_LAST_INSERTED] = (SELECT MAX([DATE_LAST_INSERTED]) FROM [VWSSTATIC].[RECLASSIFIED_MUNICIPALITY_MAPPING])  \n",
                "    ) B ON A.[MUNICIPALITY_CODE] = B.[GM_CODE_ORIGINAL]\n",
                "    WHERE A.[DATE_LAST_INSERTED] = (SELECT MAX([DATE_LAST_INSERTED]) FROM [VWSSTAGE].[NICE_HOSPITAL])\n",
                "    GROUP BY ISNULL(B.[GM_CODE_NEW], A.[MUNICIPALITY_CODE])\n",
                "            ,ISNULL(B.[GM_NAME_NEW], A.[MUNICIPALITY_NAME])\n",
                "            ,ISNULL(B.[VR_CODE], A.[SECURITY_REGION_CODE])\n",
                "            ,ISNULL(B.[VR_NAME], A.[SECURITY_REGION_NAME])\n",
                "            ,A.[DATE_OF_REPORT]\n",
                "            ,A.[DATE_OF_STATISTICS]\n",
                "END;\n",
                "GO"
            ]
        }
    ],
    "metadata": {
        "kernelspec": {
            "display_name": "SQL",
            "language": "sql",
            "name": "SQL"
        },
        "language_info": {
            "name": "sql",
            "version": ""
        }
    },
    "nbformat": 4,
    "nbformat_minor": 2
}
