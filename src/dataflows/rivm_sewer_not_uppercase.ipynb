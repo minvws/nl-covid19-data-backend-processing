{
    "cells": [
        {
            "attachments": {},
            "cell_type": "markdown",
            "metadata": {
                "azdata_cell_guid": "5cdc0d05-c1b4-453a-a8a4-4cfc9a1015ad"
            },
            "source": [
                "```sql\n",
                "-- COPYRIGHT (C) 2020 DE STAAT DER NEDERLANDEN, MINISTERIE VAN   VOLKSGEZONDHEID, WELZIJN EN SPORT.\n",
                "-- LICENSED UNDER THE EUROPEAN UNION PUBLIC LICENCE V. 1.2 - SEE HTTPS://GITHUB.COM/MINVWS/NL-CONTACT-TRACING-APP-COORDINATIONFOR MORE INFORMATION.\n",
                "```"
            ]
        },
        {
            "attachments": {},
            "cell_type": "markdown",
            "metadata": {
                "azdata_cell_guid": "ce7a3bc7-6986-4d81-bf27-1a2818c095ce"
            },
            "source": [
                "# **DEPENDENCIES**\n",
                "\n",
                "---\n",
                "\n",
                "```json\n",
                "{\n",
                "    \"depends-on\": [\n",
                "        \"src/utils/conversions.ipynb\",\n",
                "        \"src/utils/schemas.ipynb\",\n",
                "        \"src/utils/protos.ipynb\"\n",
                "    ]\n",
                "}\n",
                "```"
            ]
        },
        {
            "attachments": {},
            "cell_type": "markdown",
            "metadata": {
                "azdata_cell_guid": "ce43cf11-e280-4187-a3ba-76e9e6a3f3e1"
            },
            "source": [
                "# **UPDATE VIEW**\n",
                "---"
            ]
        },
        {
            "cell_type": "code",
            "execution_count": null,
            "metadata": {},
            "outputs": [],
            "source": [
                "-- Copyright (c) 2020 De Staat der Nederlanden, Ministerie van Volksgezondheid, Welzijn en Sport.\n",
                "-- Licensed under the EUROPEAN UNION PUBLIC LICENCE v. 1.2 - see https://github.com/minvws/nl-contact-tracing-app-coordination for more information.\n",
                "\n",
                "CREATE OR ALTER VIEW [VWSDEST].[V_SEWER_MEASUREMENTS_PER_RWZI_MINIMAL] As\n",
                "\n",
                "WITH Sel As (\n",
                "SELECT\n",
                "            [DATE_UNIX]\n",
                "        ,   DATE_START_UNIX\n",
                "        ,   DATE_END_UNIX\n",
                "        ,   WEEK\n",
                "        ,   [RWZI_AWZI_CODE]\n",
                "        ,   UPPER([RWZI_AWZI_NAME]) AS [RWZI_AWZI_NAME]\n",
                "        ,   REGIO_CODE          AS [GMCODE]\n",
                "        ,   CAST(ROUND(RNA_FLOW_PER_100000,0) AS INT) AS RNA_NORMALIZED\n",
                "        ,   dbo.CONVERT_DATETIME_TO_UNIX(DATE_LAST_INSERTED) AS DATE_OF_INSERTION_UNIX\n",
                "        ,   Date_Last_Inserted\n",
                "FROM VWSDEST.SEWER_MEASUREMENTS_PER_RWZI_GM_VR WITH(NOLOCK)\n",
                "    WHERE DatePart(WeekDay,DATE_LAST_INSERTED) IN(3, 4, 6)\n",
                "        AND REGIO_TYPE = 'GM'\n",
                ")\n",
                "SELECT\n",
                "            [DATE_UNIX]\n",
                "        ,   DATE_START_UNIX\n",
                "        ,   DATE_END_UNIX\n",
                "        ,   WEEK\n",
                "        ,   [RWZI_AWZI_CODE]\n",
                "        ,   [RWZI_AWZI_NAME]\n",
                "        ,   [GMCODE]\n",
                "        ,   RNA_NORMALIZED\n",
                "        ,   DATE_OF_INSERTION_UNIX\n",
                "FROM Sel\n",
                "    WHERE DATE_LAST_INSERTED = (SELECT MAX(DATE_LAST_INSERTED) FROM Sel)\n",
                "        \n",
                "\n"
            ]
        },
        {
            "cell_type": "code",
            "execution_count": null,
            "metadata": {},
            "outputs": [],
            "source": [
                "-- Copyright (c) 2020 De Staat der Nederlanden, Ministerie van Volksgezondheid, Welzijn en Sport.\n",
                "-- Licensed under the EUROPEAN UNION PUBLIC LICENCE v. 1.2 - see https://github.com/minvws/nl-contact-tracing-app-coordination for more information.\n",
                "\n",
                "-- View for VR\n",
                "CREATE OR ALTER  VIEW [VWSDEST].[V_SEWER_MEASUREMENTS_PER_RWZI] AS\n",
                "\n",
                "WITH Sel As (\n",
                "  SELECT\n",
                "            [DATE_UNIX]\n",
                "        ,   DATE_START_UNIX\n",
                "        ,   DATE_END_UNIX\n",
                "        ,   WEEK\n",
                "        ,   [RWZI_AWZI_CODE]\n",
                "        ,   UPPER([RWZI_AWZI_NAME]) AS [RWZI_AWZI_NAME]\n",
                "        ,   REGIO_CODE          AS[VRCODE]\n",
                "        ,   CAST(ROUND(RNA_FLOW_PER_100000,0) as INT) AS RNA_NORMALIZED\n",
                "        ,   dbo.CONVERT_DATETIME_TO_UNIX(DATE_LAST_INSERTED) AS DATE_OF_INSERTION_UNIX\n",
                "        ,   Date_Last_Inserted\n",
                "FROM VWSDEST.SEWER_MEASUREMENTS_PER_RWZI_GM_VR WITH(NOLOCK)\n",
                "    WHERE DatePart(WeekDay,DATE_LAST_INSERTED) IN(3, 4, 6)\n",
                "        AND REGIO_TYPE = 'VR'\n",
                ")\n",
                "  SELECT\n",
                "            [DATE_UNIX]\n",
                "        ,   DATE_START_UNIX\n",
                "        ,   DATE_END_UNIX\n",
                "        ,   WEEK\n",
                "        ,   [RWZI_AWZI_CODE]\n",
                "        ,   [RWZI_AWZI_NAME]\n",
                "        ,   [VRCODE]\n",
                "        ,   RNA_NORMALIZED\n",
                "        ,   DATE_OF_INSERTION_UNIX\n",
                "FROM Sel\n",
                "    WHERE DATE_LAST_INSERTED = (SELECT MAX(DATE_LAST_INSERTED) FROM Sel)\n",
                "GO"
            ]
        }
    ],
    "metadata": {
        "kernelspec": {
            "display_name": "SQL",
            "language": "sql",
            "name": "SQL"
        },
        "language_info": {
            "name": "sql",
            "version": ""
        }
    },
    "nbformat": 4,
    "nbformat_minor": 2
}
