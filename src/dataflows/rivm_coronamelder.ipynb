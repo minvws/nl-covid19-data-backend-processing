{
    "cells": [
        {
            "cell_type": "markdown",
            "metadata": {
                "azdata_cell_guid": "5cdc0d05-c1b4-453a-a8a4-4cfc9a1015ad"
            },
            "source": [
                "# **INTRODUCTIONS**\n",
                "\n",
                "---\n",
                "\n",
                "The source code is separated into multiple sections:\n",
                "\n",
                "1. **[Tables](#tables)**\n",
                "2. **[Stored Procedures](#stored-procedures)**\n",
                "3. **[Datatino Configurations](#datatino-configurations)**"
            ]
        },
        {
            "cell_type": "markdown",
            "metadata": {
                "azdata_cell_guid": "1125bf3c-012f-4a53-9b88-dbea509f84a1"
            },
            "source": [
                "# **DEPENDENCIES**\n",
                "\n",
                "---\n",
                "\n",
                "```json\n",
                "{\n",
                "    \"depends-on\": [\n",
                "        \"src/utils/schemas.ipynb\",\n",
                "        \"src/utils/protos.ipynb\"\n",
                "    ]\n",
                "}\n",
                "```"
            ]
        },
        {
            "cell_type": "markdown",
            "metadata": {
                "azdata_cell_guid": "ce43cf11-e280-4187-a3ba-76e9e6a3f3e1"
            },
            "source": [
                "# **TABLES**\n",
                "---"
            ]
        },
        {
            "cell_type": "markdown",
            "metadata": {
                "azdata_cell_guid": "e63ed1c7-3b48-4191-b40b-0844ac35daff"
            },
            "source": [
                "### STAGINGS"
            ]
        },
        {
            "cell_type": "markdown",
            "metadata": {},
            "source": [
                "##### CORONAMELDER_DOWNLOADS"
            ]
        },
        {
            "cell_type": "code",
            "execution_count": null,
            "metadata": {
                "azdata_cell_guid": "b3f6a728-c0e6-4f6c-855c-a92cbe1853a4",
                "dotnet_interactive": {
                    "language": "sql"
                },
                "tags": []
            },
            "outputs": [],
            "source": [
                "-- COPYRIGHT (C) 2020 DE STAAT DER NEDERLANDEN, MINISTERIE VAN VOLKSGEZONDHEID, WELZIJN EN SPORT.\n",
                "-- LICENSED UNDER THE EUROPEAN UNION PUBLIC LICENCE V. 1.2 - SEE HTTPS://GITHUB.COM/MINVWS/NL-CONTACT-TRACING-APP-COORDINATION FOR MORE INFORMATION.\n",
                "\n",
                "SET ANSI_NULLS ON\n",
                "GO\n",
                "\n",
                "SET QUOTED_IDENTIFIER ON\n",
                "GO\n",
                "\n",
                "-- 1) CREATE TABLE(S).....\n",
                "IF NOT EXISTS (SELECT * FROM SYS.TABLES WHERE object_id = OBJECT_ID('VWSSTAGE.CORONAMELDER_DOWNLOADS'))\n",
                "BEGIN    \n",
                "   CREATE TABLE [VWSSTAGE].[CORONAMELDER_DOWNLOADS] (\n",
                "    [ID]                                             INT           DEFAULT (NEXT VALUE FOR [dbo].[SEQ_VWSSTAGE_CORONAMELDER_DOWNLOADS]) NOT NULL,\n",
                "    [DATE (YYYY-MM-DD)]                              VARCHAR (100) NULL,\n",
                "    [DOWNLOADS APP STORE (IOS) (DAILY)]              VARCHAR (100) NULL,\n",
                "    [DOWNLOADS PLAY STORE (ANDROID) (DAILY)]         VARCHAR (100) NULL,\n",
                "    [DOWNLOADS HUAWEI APP GALLERY (ANDROID) (DAILY)] VARCHAR (100) NULL,\n",
                "    [TOTAL DOWNLOADS (DAILY)]                        VARCHAR (100) NULL,\n",
                "    [TOTAL DOWNLOADS (CUMULATIVE)]                   VARCHAR (100) NULL,\n",
                "    [DATE_LAST_INSERTED]                             DATETIME      DEFAULT (getdate()) NULL,\n",
                "    PRIMARY KEY CLUSTERED ([ID] ASC)\n",
                ");\n",
                "\n",
                "END\n",
                "GO\n",
                "\n",
                "-- 2) CREATE INDEX(ES).....\n",
                "IF NOT EXISTS (SELECT * FROM SYS.INDEXES WHERE [NAME] = 'IX_CORONAMELDER_DOWNLOADS_STAGE')\n",
                "CREATE NONCLUSTERED INDEX [IX_CORONAMELDER_DOWNLOADS_STAGE]\n",
                "    ON [VWSSTAGE].[CORONAMELDER_DOWNLOADS]([DATE_LAST_INSERTED] ASC);\n",
                "GO\n",
                "\n"
            ]
        },
        {
            "cell_type": "markdown",
            "metadata": {},
            "source": [
                "##### CORONAMELDER_POSITIVES_STAGE"
            ]
        },
        {
            "cell_type": "code",
            "execution_count": null,
            "metadata": {
                "azdata_cell_guid": "b3f6a728-c0e6-4f6c-855c-a92cbe1853a4",
                "dotnet_interactive": {
                    "language": "sql"
                },
                "tags": []
            },
            "outputs": [],
            "source": [
                "-- COPYRIGHT (C) 2020 DE STAAT DER NEDERLANDEN, MINISTERIE VAN VOLKSGEZONDHEID, WELZIJN EN SPORT.\n",
                "-- LICENSED UNDER THE EUROPEAN UNION PUBLIC LICENCE V. 1.2 - SEE HTTPS://GITHUB.COM/MINVWS/NL-CONTACT-TRACING-APP-COORDINATION FOR MORE INFORMATION.\n",
                "\n",
                "SET ANSI_NULLS ON\n",
                "GO\n",
                "\n",
                "SET QUOTED_IDENTIFIER ON\n",
                "GO\n",
                "\n",
                "-- 1) CREATE TABLE(S).....\n",
                "IF NOT EXISTS (SELECT * FROM SYS.TABLES WHERE object_id = OBJECT_ID('VWSSTAGE.CORONAMELDER_POSITIVES'))\n",
                "BEGIN    \n",
                "CREATE TABLE [VWSSTAGE].[CORONAMELDER_POSITIVES] (\n",
                "    [ID]                                                                INT           DEFAULT (NEXT VALUE FOR [dbo].[SEQ_VWSSTAGE_CORONAMELDER_POSITIVES]) NOT NULL,\n",
                "    [DATE (YYYY-MM-DD)]                                                 VARCHAR (100) NULL,\n",
                "    [REPORTED POSITIVE TESTS THROUGH APP AUTHORISED BY GGD (DAILY)]     VARCHAR (100) NULL,\n",
                "    [REPORTED POSITIVE TEST THROUGH APP AUTHORISED BY GGD (CUMULATIVE)] VARCHAR (100) NULL,\n",
                "    [DATE_LAST_INSERTED]                                                DATETIME      DEFAULT (getdate()) NULL,\n",
                "    PRIMARY KEY CLUSTERED ([ID] ASC)\n",
                ");\n",
                "\n",
                "END\n",
                "GO\n",
                "\n",
                "-- 2) CREATE INDEX(ES).....\n",
                "IF NOT EXISTS (SELECT * FROM SYS.INDEXES WHERE [NAME] = 'IX_CORONAMELDER_POSITIVES_STAGE')\n",
                "CREATE NONCLUSTERED INDEX [IX_CORONAMELDER_POSITIVES_STAGE]\n",
                "    ON [VWSSTAGE].[CORONAMELDER_POSITIVES]([DATE_LAST_INSERTED] ASC);\n",
                ");\n",
                "GO"
            ]
        },
        {
            "cell_type": "markdown",
            "metadata": {
                "azdata_cell_guid": "0fbc9342-fa09-4175-9ff1-0121abd441c8"
            },
            "source": [
                "### INTERMEDIATES"
            ]
        },
        {
            "cell_type": "markdown",
            "metadata": {},
            "source": [
                "##### CORONAMELDER_DOWNLOADS"
            ]
        },
        {
            "cell_type": "code",
            "execution_count": null,
            "metadata": {
                "azdata_cell_guid": "b78fe875-a8bf-44d7-84b7-252e58cd45be",
                "dotnet_interactive": {
                    "language": "sql"
                },
                "tags": []
            },
            "outputs": [],
            "source": [
                "-- COPYRIGHT (C) 2020 DE STAAT DER NEDERLANDEN, MINISTERIE VAN VOLKSGEZONDHEID, WELZIJN EN SPORT.\n",
                "-- LICENSED UNDER THE EUROPEAN UNION PUBLIC LICENCE V. 1.2 - SEE HTTPS://GITHUB.COM/MINVWS/NL-CONTACT-TRACING-APP-COORDINATION FOR MORE INFORMATION.\n",
                "\n",
                "-- 1) CREATE INTER SEQUENCE(S).....\n",
                "IF NOT EXISTS(SELECT * FROM SYS.SEQUENCES WHERE [OBJECT_ID] = OBJECT_ID(N'[dbo].[SEQ_VWSINTER_CORONAMELDER_DOWNLOADS]') AND [TYPE] = 'SO')\n",
                "CREATE SEQUENCE [dbo].[SEQ_VWSINTER_CORONAMELDER_DOWNLOADS]\n",
                "    AS BIGINT\n",
                "    START WITH 1\n",
                "    INCREMENT BY 1;\n",
                "\n",
                "GO\n",
                "\n",
                "-- 2) CREATE TABLE(S).....\n",
                "IF NOT EXISTS (SELECT * FROM SYS.TABLES WHERE object_id = OBJECT_ID('VWSINTER.CORONAMELDER_DOWNLOADS'))\n",
                "BEGIN\n",
                "CREATE TABLE [VWSINTER].[CORONAMELDER_DOWNLOADS] (\n",
                "    [ID]                                             INT      DEFAULT (NEXT VALUE FOR [dbo].[SEQ_VWSINTER_CORONAMELDER_DOWNLOADS]) NOT NULL,\n",
                "    [Date (yyyy-mm-dd)]                              DATETIME NULL,\n",
                "    [Downloads App Store (iOS) (daily)]              INT      NULL,\n",
                "    [Downloads Play Store (Android) (daily)]         INT      NULL,\n",
                "    [Downloads Huawei App Gallery (Android) (daily)] INT      NULL,\n",
                "    [Total downloads (daily)]                        INT      NULL,\n",
                "    [Total downloads (cumulative)]                   BIGINT   NULL,\n",
                "    [DATE_LAST_INSERTED]                             DATETIME DEFAULT (getdate()) NULL,\n",
                "    PRIMARY KEY CLUSTERED ([ID] ASC)\n",
                ");\n",
                "\n",
                "END\n",
                "GO\n",
                "\n",
                "-- 3) CREATE INDEX(ES).....\n",
                "IF NOT EXISTS (SELECT * FROM SYS.INDEXES WHERE [NAME] = 'IX_CORONAMELDER_DOWNLOADS_INTER')\n",
                "CREATE NONCLUSTERED INDEX [IX_CORONAMELDER_DOWNLOADS_INTER]\n",
                "    ON [VWSINTER].[CORONAMELDER_DOWNLOADS]([DATE_LAST_INSERTED] ASC);\n",
                ");\n",
                "GO\n",
                "\n"
            ]
        },
        {
            "cell_type": "markdown",
            "metadata": {},
            "source": [
                "##### CORONAMELDER_POSITIVES_STAGE"
            ]
        },
        {
            "cell_type": "code",
            "execution_count": null,
            "metadata": {},
            "outputs": [],
            "source": [
                "-- COPYRIGHT (C) 2020 DE STAAT DER NEDERLANDEN, MINISTERIE VAN VOLKSGEZONDHEID, WELZIJN EN SPORT.\n",
                "-- LICENSED UNDER THE EUROPEAN UNION PUBLIC LICENCE V. 1.2 - SEE HTTPS://GITHUB.COM/MINVWS/NL-CONTACT-TRACING-APP-COORDINATION FOR MORE INFORMATION.\n",
                "\n",
                "-- 1) CREATE INTER SEQUENCE(S).....\n",
                "IF NOT EXISTS(SELECT * FROM SYS.SEQUENCES WHERE [OBJECT_ID] = OBJECT_ID(N'[dbo].[SEQ_VWSINTER_CORONAMELDER_POSITIVES]') AND [TYPE] = 'SO')\n",
                "CREATE SEQUENCE [dbo].[SEQ_VWSINTER_CORONAMELDER_POSITIVES]\n",
                "    AS BIGINT\n",
                "    START WITH 1\n",
                "    INCREMENT BY 1;\n",
                "GO\n",
                "\n",
                "-- 2) CREATE TABLE(S).....\n",
                "IF NOT EXISTS (SELECT * FROM SYS.TABLES WHERE object_id = OBJECT_ID('VWSINTER.CORONAMELDER_POSITIVES'))\n",
                "BEGIN\n",
                "CREATE TABLE [VWSINTER].[CORONAMELDER_POSITIVES] (\n",
                "    [ID]                                                                INT      DEFAULT (NEXT VALUE FOR [dbo].[SEQ_VWSINTER_CORONAMELDER_POSITIVES]) NOT NULL,\n",
                "    [Date (yyyy-mm-dd)]                                                 DATETIME NULL,\n",
                "    [Reported positive tests through app authorised by GGD (daily)]     INT      NULL,\n",
                "    [Reported positive test through app authorised by GGD (cumulative)] INT      NULL,\n",
                "    [DATE_LAST_INSERTED]                                                DATETIME DEFAULT (getdate()) NULL,\n",
                "    PRIMARY KEY CLUSTERED ([ID] ASC)\n",
                ");\n",
                "\n",
                "END\n",
                "GO\n",
                "\n",
                "-- 3) CREATE INDEX(ES).....\n",
                "IF NOT EXISTS (SELECT * FROM SYS.INDEXES WHERE [NAME] = 'IX_CORONAMELDER_POSITIVES_INTER')\n",
                "CREATE NONCLUSTERED INDEX [IX_CORONAMELDER_POSITIVES_INTER]\n",
                "    ON [VWSINTER].[CORONAMELDER_POSITIVES]([DATE_LAST_INSERTED] ASC);\n",
                "GO\n"
            ]
        },
        {
            "cell_type": "markdown",
            "metadata": {
                "azdata_cell_guid": "16945e3c-4c7d-421c-92f9-04bc961e4b08"
            },
            "source": [
                "### DESTINATIONS"
            ]
        },
        {
            "cell_type": "markdown",
            "metadata": {},
            "source": [
                "##### CORONAMELDER"
            ]
        },
        {
            "cell_type": "code",
            "execution_count": null,
            "metadata": {
                "azdata_cell_guid": "b5bddd83-3e5c-4916-8f69-3b65bc8aaace",
                "dotnet_interactive": {
                    "language": "sql"
                },
                "tags": [
                    "hide_input"
                ]
            },
            "outputs": [],
            "source": [
                "-- COPYRIGHT (C) 2020 DE STAAT DER NEDERLANDEN, MINISTERIE VAN VOLKSGEZONDHEID, WELZIJN EN SPORT.\n",
                "-- LICENSED UNDER THE EUROPEAN UNION PUBLIC LICENCE V. 1.2 - SEE HTTPS://GITHUB.COM/MINVWS/NL-CONTACT-TRACING-APP-COORDINATION FOR MORE INFORMATION.\n",
                "\n",
                "-- 1) CREATE INTER SEQUENCE(S).....\n",
                "IF NOT EXISTS(SELECT * FROM SYS.SEQUENCES WHERE [OBJECT_ID] = OBJECT_ID(N'[dbo].[SEQ_VWSDEST_CORONAMELDER]') AND [TYPE] = 'SO')\n",
                "CREATE SEQUENCE [dbo].[SEQ_VWSDEST_CORONAMELDER]\n",
                "    AS BIGINT\n",
                "    START WITH 1\n",
                "    INCREMENT BY 1;\n",
                "GO\n",
                "\n",
                "-- 2) CREATE TABLE(S).....\n",
                "IF NOT EXISTS (SELECT * FROM SYS.TABLES WHERE object_id = OBJECT_ID('VWSDEST.CORONAMELDER'))\n",
                "BEGIN\n",
                "CREATE TABLE [VWSDEST].[CORONAMELDER] (\n",
                "    [ID]                 INT      DEFAULT (NEXT VALUE FOR [dbo].[SEQ_VWSDEST_CORONAMELDER]) NOT NULL,\n",
                "    [DOWNLOADED_TOTAL]   INT      NULL,\n",
                "    [WARNED_DAILY]       INT      NULL,\n",
                "    [DATE_OF_REPORT]     DATETIME NULL,\n",
                "    [DATE_LAST_INSERTED] DATETIME DEFAULT (getdate()) NULL,\n",
                "    PRIMARY KEY CLUSTERED ([ID] ASC)\n",
                ");\n",
                "\n",
                "\n",
                "END\n",
                "GO\n",
                "\n",
                "-- 3) CREATE INDEX(ES).....\n",
                "IF NOT EXISTS (SELECT * FROM SYS.INDEXES WHERE [NAME] = 'IX_CORONAMELDER')\n",
                "CREATE NONCLUSTERED INDEX [IX_CORONAMELDER]\n",
                "    ON [VWSDEST].[CORONAMELDER]([DATE_OF_REPORT] ASC, [DATE_LAST_INSERTED] ASC);\n",
                "GO\n"
            ]
        },
        {
            "cell_type": "markdown",
            "metadata": {
                "azdata_cell_guid": "b883932e-c47b-4de6-9629-eca0ff8aeabb"
            },
            "source": [
                "# **VIEWS**\n",
                "---"
            ]
        },
        {
            "cell_type": "markdown",
            "metadata": {},
            "source": [
                "V_CORONAMELDER_DOWNLOAD"
            ]
        },
        {
            "cell_type": "code",
            "execution_count": null,
            "metadata": {
                "azdata_cell_guid": "8afe1341-1b29-4d6f-b896-861d70ae3472",
                "tags": []
            },
            "outputs": [],
            "source": [
                "-- Copyright (c) 2020 De Staat der Nederlanden, Ministerie van Volksgezondheid, Welzijn en Sport.\n",
                "-- Licensed under the EUROPEAN UNION PUBLIC LICENCE v. 1.2 - see https://github.com/minvws/nl-contact-tracing-app-coordinationfor more information.\n",
                "CREATE OR ALTER VIEW [VWSDEST].[V_CORONAMELDER_DOWNLOAD]\n",
                "AS\n",
                "    SELECT\n",
                "        [DOWNLOADED_TOTAL]                                  AS [count]\n",
                "        ,dbo.CONVERT_DATETIME_TO_UNIX([DATE_OF_REPORT])     AS date_unix\n",
                "        ,dbo.CONVERT_DATETIME_TO_UNIX([DATE_LAST_INSERTED]) AS date_of_insertion_unix\n",
                "    FROM \n",
                "        VWSDEST.CORONAMELDER\n",
                "    WHERE \n",
                "        DOWNLOADED_TOTAL IS NOT NULL AND \n",
                "        DATE_LAST_INSERTED = (SELECT max(DATE_LAST_INSERTED) FROM VWSDEST.CORONAMELDER) AND\n",
                "        DATE_OF_REPORT >= CAST('2020-10-10' as date) -- \"In Use\" start date of Corona app (datum waarop Corona App in werking is gesteld)"
            ]
        },
        {
            "cell_type": "markdown",
            "metadata": {},
            "source": [
                "V_CORONAMELDER_WARNING"
            ]
        },
        {
            "cell_type": "code",
            "execution_count": null,
            "metadata": {},
            "outputs": [],
            "source": [
                "-- Copyright (c) 2020 De Staat der Nederlanden, Ministerie van Volksgezondheid, Welzijn en Sport.\n",
                "-- Licensed under the EUROPEAN UNION PUBLIC LICENCE v. 1.2 - see https://github.com/minvws/nl-contact-tracing-app-coordinationfor more information.\n",
                "CREATE   VIEW [VWSDEST].[V_CORONAMELDER_WARNING]\n",
                "AS\n",
                "    SELECT\n",
                "        [WARNED_DAILY]                                      AS [count]\n",
                "        ,dbo.CONVERT_DATETIME_TO_UNIX([DATE_OF_REPORT])     AS date_unix\n",
                "        ,dbo.CONVERT_DATETIME_TO_UNIX([DATE_LAST_INSERTED]) AS date_of_insertion_unix\n",
                "    FROM \n",
                "        VWSDEST.CORONAMELDER\n",
                "    WHERE \n",
                "        WARNED_DAILY IS NOT NULL AND \n",
                "        DATE_LAST_INSERTED = (SELECT max(DATE_LAST_INSERTED) FROM VWSDEST.CORONAMELDER) AND\n",
                "        DATE_OF_REPORT >= CAST('2020-10-10' as date) -- \"In Use\" start date of Corona app (datum waarop Corona App in werking is gesteld)"
            ]
        },
        {
            "cell_type": "markdown",
            "metadata": {},
            "source": [
                "[V_DIFFERENCE_CORONA_APP__WARNED_DAILY]"
            ]
        },
        {
            "cell_type": "code",
            "execution_count": null,
            "metadata": {},
            "outputs": [],
            "source": [
                "-- Copyright (c) 2020 De Staat der Nederlanden, Ministerie van   Volksgezondheid, Welzijn en Sport.\n",
                "-- Licensed under the EUROPEAN UNION PUBLIC LICENCE v. 1.2 - see https://github.com/minvws/nl-contact-tracing-app-coordinationfor more information.\n",
                "\n",
                "CREATE   VIEW [VWSDEST].[V_DIFFERENCE_CORONA_APP__WARNED_DAILY] AS\n",
                "\n",
                "WITH LAST_DATE_OF_REPORT AS (\n",
                "\tSELECT\n",
                "\t\tCAST(MAX(DATE_OF_REPORT) as datetime) AS [LAST_DATE_OF_REPORT]\n",
                "\tFROM VWSDEST.CORONAMELDER\n",
                "\tWHERE \n",
                "\t\tDATE_LAST_INSERTED = (SELECT MAX(DATE_LAST_INSERTED) FROM VWSDEST.CORONAMELDER) AND\n",
                "\t\tWARNED_DAILY IS NOT NULL\n",
                "),\n",
                "\n",
                "BASE_CTE AS (\n",
                "SELECT \n",
                "\tDATE_OF_REPORT,\n",
                "\tLAG([DATE_OF_REPORT], 1, NULL) OVER (ORDER BY [DATE_LAST_INSERTED], [DATE_OF_REPORT]) AS [OLD_DATE_OF_REPORT],\n",
                "\tLAG(DBO.NO_NEGATIVE_NUMBER_I([WARNED_DAILY]), 1, NULL) OVER (ORDER BY [DATE_LAST_INSERTED], [DATE_OF_REPORT]) AS [OLD_VALUE],\n",
                "\tDBO.NO_NEGATIVE_NUMBER_I([WARNED_DAILY]) -\n",
                "\t\tLAG(DBO.NO_NEGATIVE_NUMBER_I([WARNED_DAILY]), 1, NULL) OVER (ORDER BY [DATE_LAST_INSERTED], [DATE_OF_REPORT]) AS [DIFFERENCE]\n",
                "FROM VWSDEST.CORONAMELDER\n",
                "WHERE \n",
                "\tDATE_LAST_INSERTED = (SELECT max(DATE_LAST_INSERTED) FROM VWSDEST.CORONAMELDER) AND\n",
                "\tWARNED_DAILY IS NOT NULL\n",
                "\n",
                ")\n",
                "\n",
                "SELECT DBO.CONVERT_DATETIME_TO_UNIX(DATE_OF_REPORT) AS NEW_DATE_UNIX\n",
                "\t  ,DBO.CONVERT_DATETIME_TO_UNIX(OLD_DATE_OF_REPORT) AS OLD_DATE_UNIX\n",
                "\t  ,CASE WHEN OLD_VALUE IS NULL THEN 0 ELSE OLD_VALUE END AS OLD_VALUE\n",
                "\t  ,CASE WHEN [DIFFERENCE] IS NULL THEN 0 ELSE [DIFFERENCE] END AS [DIFFERENCE]\n",
                "FROM BASE_CTE T1\n",
                "WHERE DATE_OF_REPORT = (SELECT LAST_DATE_OF_REPORT FROM LAST_DATE_OF_REPORT)"
            ]
        },
        {
            "cell_type": "markdown",
            "metadata": {
                "azdata_cell_guid": "991b613b-1793-4c88-a85a-229f4e6fa51e"
            },
            "source": [
                "# **STORE PROCEDURES**\n",
                "---"
            ]
        },
        {
            "cell_type": "markdown",
            "metadata": {
                "azdata_cell_guid": "157e2e17-d669-4d53-9b88-9bfce9675611"
            },
            "source": [
                "### STAGING &rarr; INTERMEDIATE MAPPING"
            ]
        },
        {
            "cell_type": "markdown",
            "metadata": {},
            "source": [
                "SP_CORONAMELDER_DOWNLOADS_INTER"
            ]
        },
        {
            "cell_type": "code",
            "execution_count": null,
            "metadata": {
                "azdata_cell_guid": "9e39a8d6-8f5a-45cb-a1d6-3405d256a5b5",
                "dotnet_interactive": {
                    "language": "sql"
                },
                "tags": []
            },
            "outputs": [],
            "source": [
                "-- Copyright (c) 2020 De Staat der Nederlanden, Ministerie van   Volksgezondheid, Welzijn en Sport. \n",
                "-- Licensed under the EUROPEAN UNION PUBLIC LICENCE v. 1.2 - see https://github.com/minvws/nl-contact-tracing-app-coordinationfor more information.\n",
                "\n",
                "-- Move download data from staging to intermediate table.\n",
                "CREATE OR ALTER PROCEDURE DBO.SP_CORONAMELDER_DOWNLOADS_INTER\n",
                "AS\n",
                "BEGIN\n",
                "    INSERT INTO VWSINTER.CORONAMELDER_DOWNLOADS\n",
                "        ([Date (yyyy-mm-dd)],\n",
                "        [Downloads App Store (iOS) (daily)],\n",
                "        [Downloads Play Store (Android) (daily)],\n",
                "        [Downloads Huawei App Gallery (Android) (daily)],\n",
                "        [Total downloads (daily)],\n",
                "        [Total downloads (cumulative)])\n",
                "    SELECT \n",
                "        [Date (yyyy-mm-dd)],\n",
                "        [Downloads App Store (iOS) (daily)],\n",
                "        [Downloads Play Store (Android) (daily)],\n",
                "        [Downloads Huawei App Gallery (Android) (daily)],\n",
                "        [Total downloads (daily)],\n",
                "        [Total downloads (cumulative)]\n",
                "    FROM \n",
                "       VWSSTAGE.CORONAMELDER_DOWNLOADS\n",
                "    WHERE DATE_LAST_INSERTED = (SELECT MAX(DATE_LAST_INSERTED) from VWSSTAGE.CORONAMELDER_DOWNLOADS)\n",
                "END;"
            ]
        },
        {
            "cell_type": "markdown",
            "metadata": {},
            "source": [
                "SP_CORONAMELDER_POSITIVES_INTER"
            ]
        },
        {
            "cell_type": "code",
            "execution_count": null,
            "metadata": {},
            "outputs": [],
            "source": [
                "-- Copyright (c) 2020 De Staat der Nederlanden, Ministerie van   Volksgezondheid, Welzijn en Sport. \n",
                "-- Licensed under the EUROPEAN UNION PUBLIC LICENCE v. 1.2 - see https://github.com/minvws/nl-contact-tracing-app-coordinationfor more information.\n",
                "\n",
                "-- Move positive reports data from staging to intermediate table.\n",
                "CREATE OR ALTER  PROCEDURE DBO.SP_CORONAMELDER_POSITIVES_INTER\n",
                "AS\n",
                "BEGIN\n",
                "    INSERT INTO VWSINTER.CORONAMELDER_POSITIVES\n",
                "        ([Date (yyyy-mm-dd)],\n",
                "        [Reported positive tests through app authorised by GGD (daily)],\n",
                "        [Reported positive test through app authorised by GGD (cumulative)])\n",
                "    SELECT \n",
                "        [Date (yyyy-mm-dd)],\n",
                "        [Reported positive tests through app authorised by GGD (daily)],\n",
                "        [Reported positive test through app authorised by GGD (cumulative)]\n",
                "    FROM \n",
                "       VWSSTAGE.CORONAMELDER_POSITIVES\n",
                "    WHERE DATE_LAST_INSERTED = (SELECT MAX(DATE_LAST_INSERTED) from VWSSTAGE.CORONAMELDER_POSITIVES)\n",
                "END;"
            ]
        },
        {
            "cell_type": "markdown",
            "metadata": {
                "azdata_cell_guid": "4285b14f-17c1-4e48-ad9e-49365e008058"
            },
            "source": [
                "### INTERMEDIATE &rarr; DESTINATION MAPPING"
            ]
        },
        {
            "cell_type": "markdown",
            "metadata": {},
            "source": [
                "SP_CORONAMELDER"
            ]
        },
        {
            "cell_type": "code",
            "execution_count": null,
            "metadata": {
                "azdata_cell_guid": "ef39c170-5229-4d50-8a83-fe1f3e71365a",
                "dotnet_interactive": {
                    "language": "sql"
                },
                "tags": []
            },
            "outputs": [],
            "source": [
                "-- Copyright (c) 2021 De Staat der Nederlanden, Ministerie van   Volksgezondheid, Welzijn en Sport. \n",
                "-- Licensed under the EUROPEAN UNION PUBLIC LICENCE v. 1.2 - see https://github.com/minvws/nl-contact-tracing-app-coordinationfor more information.\n",
                "\n",
                "-- Move coronamelder downloads & positives reported data from intermediate to production table.\n",
                "CREATE OR ALTER PROCEDURE [dbo].[SP_CORONAMELDER]\n",
                "AS\n",
                "BEGIN\n",
                "    INSERT INTO VWSDEST.CORONAMELDER\n",
                "    (\n",
                "       [DOWNLOADED_TOTAL]\n",
                "      ,[WARNED_DAILY] \n",
                "      ,[DATE_OF_REPORT]\n",
                "\t  )\n",
                "    SELECT \n",
                "        [DOWNLOADED_TOTAL],\n",
                "        [WARNED_DAILY],\n",
                "\t\tCOALESCE(DOWNLOADS.[Date (yyyy-mm-dd)],POSITIVES.[Date (yyyy-mm-dd)])  AS [DATE_OF_REPORT]\n",
                "    FROM \n",
                "        (\n",
                "            SELECT \n",
                "                [Date (yyyy-mm-dd)], \n",
                "                ISNULL([Total downloads (cumulative)],0) AS [DOWNLOADED_TOTAL]\n",
                "            FROM  VWSINTER.CORONAMELDER_DOWNLOADS\n",
                "            WHERE DATE_LAST_INSERTED = (SELECT MAX(DATE_LAST_INSERTED) from VWSINTER.CORONAMELDER_DOWNLOADS)\n",
                "        ) AS DOWNLOADS\n",
                "\tFULL OUTER JOIN \n",
                "        (\n",
                "            SELECT \n",
                "                [Date (yyyy-mm-dd)],\n",
                "                ISNULL([Reported positive tests through app authorised by GGD (daily)],0) AS  [WARNED_DAILY]\n",
                "            FROM VWSINTER.CORONAMELDER_POSITIVES\n",
                "            WHERE DATE_LAST_INSERTED = (SELECT MAX(DATE_LAST_INSERTED) from VWSINTER.CORONAMELDER_POSITIVES)\n",
                "        ) POSITIVES\n",
                "\t\tON DOWNLOADS.[Date (yyyy-mm-dd)] = POSITIVES.[Date (yyyy-mm-dd)]\n",
                "END;"
            ]
        },
        {
            "cell_type": "markdown",
            "metadata": {
                "azdata_cell_guid": "9ecf89cb-f8c2-4453-90a7-cd43a8ad95fa"
            },
            "source": [
                "# **DATATINO CONFIGURATIONS**\n",
                "---"
            ]
        }
    ],
    "metadata": {
        "kernelspec": {
            "display_name": "SQL",
            "language": "sql",
            "name": "SQL"
        },
        "language_info": {
            "name": "sql",
            "version": ""
        }
    },
    "nbformat": 4,
    "nbformat_minor": 2
}
