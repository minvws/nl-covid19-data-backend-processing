{
    "cells": [
        {
            "cell_type": "markdown",
            "metadata": {
                "azdata_cell_guid": "5cdc0d05-c1b4-453a-a8a4-4cfc9a1015ad"
            },
            "source": [
                "# **INTRODUCTIONS**\n",
                "\n",
                "---\n",
                "\n",
                "The source code is separated into multiple sections:\n",
                "\n",
                "1. **[Tables](#tables)**\n",
                "2. **[Stored Procedures](#stored-procedures)**\n",
                "3. **[Datatino Configurations](#datatino-configurations)**"
            ]
        },
        {
            "cell_type": "markdown",
            "metadata": {
                "azdata_cell_guid": "1125bf3c-012f-4a53-9b88-dbea509f84a1"
            },
            "source": [
                "# **DEPENDENCIES**\n",
                "\n",
                "---\n",
                "\n",
                "```json\n",
                "{\n",
                "    \"depends-on\": [\n",
                "        \"src/utils/schemas.ipynb\",\n",
                "        \"src/utils/conversions.ipynb\",\n",
                "        \"src/utils/protos.ipynb\"\n",
                "    ]\n",
                "}\n",
                "```"
            ]
        },
        {
            "cell_type": "markdown",
            "metadata": {
                "azdata_cell_guid": "ce43cf11-e280-4187-a3ba-76e9e6a3f3e1"
            },
            "source": [
                "# **TABLES**\n",
                "---"
            ]
        },
        {
            "cell_type": "markdown",
            "metadata": {
                "azdata_cell_guid": "e63ed1c7-3b48-4191-b40b-0844ac35daff"
            },
            "source": [
                "### STAGINGS"
            ]
        },
        {
            "cell_type": "markdown",
            "metadata": {},
            "source": [
                "##### CORONAMELDER_DOWNLOADS"
            ]
        },
        {
            "cell_type": "code",
            "execution_count": null,
            "metadata": {
                "azdata_cell_guid": "b3f6a728-c0e6-4f6c-855c-a92cbe1853a4",
                "dotnet_interactive": {
                    "language": "sql"
                },
                "tags": []
            },
            "outputs": [],
            "source": [
                "-- COPYRIGHT (C) 2020 DE STAAT DER NEDERLANDEN, MINISTERIE VAN VOLKSGEZONDHEID, WELZIJN EN SPORT.\n",
                "-- LICENSED UNDER THE EUROPEAN UNION PUBLIC LICENCE V. 1.2 - SEE HTTPS://GITHUB.COM/MINVWS/NL-CONTACT-TRACING-APP-COORDINATION FOR MORE INFORMATION.\n",
                "\n",
                "SET ANSI_NULLS ON\n",
                "GO\n",
                "\n",
                "SET QUOTED_IDENTIFIER ON\n",
                "GO\n",
                "\n",
                "-- 1) CREATE  SEQUENCE(S).....\n",
                "IF NOT EXISTS(SELECT * FROM SYS.SEQUENCES WHERE [OBJECT_ID] = OBJECT_ID(N'[dbo].[SEQ_VWSSTAGE_CORONAMELDER_DOWNLOADS]') AND [TYPE] = 'SO')\n",
                "CREATE SEQUENCE [dbo].[SEQ_VWSSTAGE_CORONAMELDER_DOWNLOADS]\n",
                "    AS BIGINT\n",
                "    START WITH 1\n",
                "    INCREMENT BY 1;\n",
                "\n",
                "GO\n",
                "\n",
                "-- 2) CREATE TABLE(S).....\n",
                "IF NOT EXISTS (SELECT * FROM SYS.TABLES WHERE object_id = OBJECT_ID('VWSSTAGE.CORONAMELDER_DOWNLOADS'))\n",
                "BEGIN    \n",
                "   CREATE TABLE [VWSSTAGE].[CORONAMELDER_DOWNLOADS] (\n",
                "    [ID]                                             INT           DEFAULT (NEXT VALUE FOR [dbo].[SEQ_VWSSTAGE_CORONAMELDER_DOWNLOADS]) NOT NULL,\n",
                "    [DATE (YYYY-MM-DD)]                              VARCHAR (100) NULL,\n",
                "    [DOWNLOADS APP STORE (IOS) (DAILY)]              VARCHAR (100) NULL,\n",
                "    [DOWNLOADS PLAY STORE (ANDROID) (DAILY)]         VARCHAR (100) NULL,\n",
                "    [DOWNLOADS HUAWEI APP GALLERY (ANDROID) (DAILY)] VARCHAR (100) NULL,\n",
                "    [TOTAL DOWNLOADS (DAILY)]                        VARCHAR (100) NULL,\n",
                "    [TOTAL DOWNLOADS (CUMULATIVE)]                   VARCHAR (100) NULL,\n",
                "    [DATE_LAST_INSERTED]                             DATETIME      DEFAULT (getdate()) NULL,\n",
                "    PRIMARY KEY CLUSTERED ([ID] ASC)\n",
                ");\n",
                "\n",
                "END\n",
                "GO\n",
                "\n",
                "-- 3) CREATE INDEX(ES).....\n",
                "IF NOT EXISTS (SELECT * FROM SYS.INDEXES WHERE [NAME] = 'IX_CORONAMELDER_DOWNLOADS_STAGE')\n",
                "CREATE NONCLUSTERED INDEX [IX_CORONAMELDER_DOWNLOADS_STAGE]\n",
                "    ON [VWSSTAGE].[CORONAMELDER_DOWNLOADS]([DATE_LAST_INSERTED] ASC);\n",
                "GO\n",
                "\n"
            ]
        },
        {
            "cell_type": "markdown",
            "metadata": {},
            "source": [
                "##### CORONAMELDER_POSITIVES_STAGE"
            ]
        },
        {
            "cell_type": "code",
            "execution_count": null,
            "metadata": {
                "azdata_cell_guid": "b3f6a728-c0e6-4f6c-855c-a92cbe1853a4",
                "dotnet_interactive": {
                    "language": "sql"
                },
                "tags": []
            },
            "outputs": [],
            "source": [
                "-- COPYRIGHT (C) 2020 DE STAAT DER NEDERLANDEN, MINISTERIE VAN VOLKSGEZONDHEID, WELZIJN EN SPORT.\n",
                "-- LICENSED UNDER THE EUROPEAN UNION PUBLIC LICENCE V. 1.2 - SEE HTTPS://GITHUB.COM/MINVWS/NL-CONTACT-TRACING-APP-COORDINATION FOR MORE INFORMATION.\n",
                "\n",
                "SET ANSI_NULLS ON\n",
                "GO\n",
                "\n",
                "SET QUOTED_IDENTIFIER ON\n",
                "GO\n",
                "\n",
                "-- 1) CREATE  SEQUENCE(S).....\n",
                "IF NOT EXISTS(SELECT * FROM SYS.SEQUENCES WHERE [OBJECT_ID] = OBJECT_ID(N'[dbo].[SEQ_VWSSTAGE_CORONAMELDER_POSITIVES]') AND [TYPE] = 'SO')\n",
                "CREATE SEQUENCE [dbo].[SEQ_VWSSTAGE_CORONAMELDER_POSITIVES]\n",
                "    AS BIGINT\n",
                "    START WITH 1\n",
                "    INCREMENT BY 1;\n",
                "\n",
                "GO\n",
                "\n",
                "\n",
                "-- 2) CREATE TABLE(S).....\n",
                "IF NOT EXISTS (SELECT * FROM SYS.TABLES WHERE object_id = OBJECT_ID('VWSSTAGE.CORONAMELDER_POSITIVES'))\n",
                "BEGIN    \n",
                "CREATE TABLE [VWSSTAGE].[CORONAMELDER_POSITIVES] (\n",
                "    [ID]                                                                INT           DEFAULT (NEXT VALUE FOR [dbo].[SEQ_VWSSTAGE_CORONAMELDER_POSITIVES]) NOT NULL,\n",
                "    [DATE (YYYY-MM-DD)]                                                 VARCHAR (100) NULL,\n",
                "    [REPORTED POSITIVE TESTS THROUGH APP AUTHORISED BY GGD (DAILY)]     VARCHAR (100) NULL,\n",
                "    [REPORTED POSITIVE TEST THROUGH APP AUTHORISED BY GGD (CUMULATIVE)] VARCHAR (100) NULL,\n",
                "    [DATE_LAST_INSERTED]                                                DATETIME      DEFAULT (getdate()) NULL,\n",
                "    PRIMARY KEY CLUSTERED ([ID] ASC)\n",
                ");\n",
                "\n",
                "END\n",
                "GO\n",
                "\n",
                "-- 3) CREATE INDEX(ES).....\n",
                "IF NOT EXISTS (SELECT * FROM SYS.INDEXES WHERE [NAME] = 'IX_CORONAMELDER_POSITIVES_STAGE')\n",
                "CREATE NONCLUSTERED INDEX [IX_CORONAMELDER_POSITIVES_STAGE]\n",
                "    ON [VWSSTAGE].[CORONAMELDER_POSITIVES]([DATE_LAST_INSERTED] ASC);\n",
                "GO"
            ]
        },
        {
            "cell_type": "markdown",
            "metadata": {
                "azdata_cell_guid": "0fbc9342-fa09-4175-9ff1-0121abd441c8"
            },
            "source": [
                "### INTERMEDIATES"
            ]
        },
        {
            "cell_type": "markdown",
            "metadata": {},
            "source": [
                "##### CORONAMELDER_DOWNLOADS"
            ]
        },
        {
            "cell_type": "code",
            "execution_count": null,
            "metadata": {
                "azdata_cell_guid": "b78fe875-a8bf-44d7-84b7-252e58cd45be",
                "dotnet_interactive": {
                    "language": "sql"
                },
                "tags": []
            },
            "outputs": [],
            "source": [
                "-- COPYRIGHT (C) 2020 DE STAAT DER NEDERLANDEN, MINISTERIE VAN VOLKSGEZONDHEID, WELZIJN EN SPORT.\n",
                "-- LICENSED UNDER THE EUROPEAN UNION PUBLIC LICENCE V. 1.2 - SEE HTTPS://GITHUB.COM/MINVWS/NL-CONTACT-TRACING-APP-COORDINATION FOR MORE INFORMATION.\n",
                "\n",
                "-- 1) CREATE INTER SEQUENCE(S).....\n",
                "IF NOT EXISTS(SELECT * FROM SYS.SEQUENCES WHERE [OBJECT_ID] = OBJECT_ID(N'[dbo].[SEQ_VWSINTER_CORONAMELDER_DOWNLOADS]') AND [TYPE] = 'SO')\n",
                "CREATE SEQUENCE [dbo].[SEQ_VWSINTER_CORONAMELDER_DOWNLOADS]\n",
                "    AS BIGINT\n",
                "    START WITH 1\n",
                "    INCREMENT BY 1;\n",
                "\n",
                "GO\n",
                "\n",
                "-- 2) CREATE TABLE(S).....\n",
                "IF NOT EXISTS (SELECT * FROM SYS.TABLES WHERE object_id = OBJECT_ID('VWSINTER.CORONAMELDER_DOWNLOADS'))\n",
                "BEGIN\n",
                "CREATE TABLE [VWSINTER].[CORONAMELDER_DOWNLOADS] (\n",
                "    [ID]                                             INT      DEFAULT (NEXT VALUE FOR [dbo].[SEQ_VWSINTER_CORONAMELDER_DOWNLOADS]) NOT NULL,\n",
                "    [Date (yyyy-mm-dd)]                              DATETIME NULL,\n",
                "    [Downloads App Store (iOS) (daily)]              INT      NULL,\n",
                "    [Downloads Play Store (Android) (daily)]         INT      NULL,\n",
                "    [Downloads Huawei App Gallery (Android) (daily)] INT      NULL,\n",
                "    [Total downloads (daily)]                        INT      NULL,\n",
                "    [Total downloads (cumulative)]                   BIGINT   NULL,\n",
                "    [DATE_LAST_INSERTED]                             DATETIME DEFAULT (getdate()) NULL,\n",
                "    PRIMARY KEY CLUSTERED ([ID] ASC)\n",
                ");\n",
                "\n",
                "END\n",
                "GO\n",
                "\n",
                "-- 3) CREATE INDEX(ES).....\n",
                "IF NOT EXISTS (SELECT * FROM SYS.INDEXES WHERE [NAME] = 'IX_CORONAMELDER_DOWNLOADS_INTER')\n",
                "CREATE NONCLUSTERED INDEX [IX_CORONAMELDER_DOWNLOADS_INTER]\n",
                "    ON [VWSINTER].[CORONAMELDER_DOWNLOADS]([DATE_LAST_INSERTED] ASC);\n",
                "GO\n",
                "\n"
            ]
        },
        {
            "cell_type": "markdown",
            "metadata": {},
            "source": [
                "##### CORONAMELDER_POSITIVES_STAGE"
            ]
        },
        {
            "cell_type": "code",
            "execution_count": null,
            "metadata": {},
            "outputs": [],
            "source": [
                "-- COPYRIGHT (C) 2020 DE STAAT DER NEDERLANDEN, MINISTERIE VAN VOLKSGEZONDHEID, WELZIJN EN SPORT.\n",
                "-- LICENSED UNDER THE EUROPEAN UNION PUBLIC LICENCE V. 1.2 - SEE HTTPS://GITHUB.COM/MINVWS/NL-CONTACT-TRACING-APP-COORDINATION FOR MORE INFORMATION.\n",
                "\n",
                "-- 1) CREATE INTER SEQUENCE(S).....\n",
                "IF NOT EXISTS(SELECT * FROM SYS.SEQUENCES WHERE [OBJECT_ID] = OBJECT_ID(N'[dbo].[SEQ_VWSINTER_CORONAMELDER_POSITIVES]') AND [TYPE] = 'SO')\n",
                "CREATE SEQUENCE [dbo].[SEQ_VWSINTER_CORONAMELDER_POSITIVES]\n",
                "    AS BIGINT\n",
                "    START WITH 1\n",
                "    INCREMENT BY 1;\n",
                "GO\n",
                "\n",
                "-- 2) CREATE TABLE(S).....\n",
                "IF NOT EXISTS (SELECT * FROM SYS.TABLES WHERE object_id = OBJECT_ID('VWSINTER.CORONAMELDER_POSITIVES'))\n",
                "BEGIN\n",
                "CREATE TABLE [VWSINTER].[CORONAMELDER_POSITIVES] (\n",
                "    [ID]                                                                INT      DEFAULT (NEXT VALUE FOR [dbo].[SEQ_VWSINTER_CORONAMELDER_POSITIVES]) NOT NULL,\n",
                "    [Date (yyyy-mm-dd)]                                                 DATETIME NULL,\n",
                "    [Reported positive tests through app authorised by GGD (daily)]     INT      NULL,\n",
                "    [Reported positive test through app authorised by GGD (cumulative)] INT      NULL,\n",
                "    [DATE_LAST_INSERTED]                                                DATETIME DEFAULT (getdate()) NULL,\n",
                "    PRIMARY KEY CLUSTERED ([ID] ASC)\n",
                ");\n",
                "\n",
                "END\n",
                "GO\n",
                "\n",
                "-- 3) CREATE INDEX(ES).....\n",
                "IF NOT EXISTS (SELECT * FROM SYS.INDEXES WHERE [NAME] = 'IX_CORONAMELDER_POSITIVES_INTER')\n",
                "CREATE NONCLUSTERED INDEX [IX_CORONAMELDER_POSITIVES_INTER]\n",
                "    ON [VWSINTER].[CORONAMELDER_POSITIVES]([DATE_LAST_INSERTED] ASC);\n",
                "GO\n"
            ]
        },
        {
            "cell_type": "markdown",
            "metadata": {
                "azdata_cell_guid": "16945e3c-4c7d-421c-92f9-04bc961e4b08"
            },
            "source": [
                "### DESTINATIONS"
            ]
        },
        {
            "cell_type": "markdown",
            "metadata": {},
            "source": [
                "##### CORONAMELDER"
            ]
        },
        {
            "cell_type": "code",
            "execution_count": null,
            "metadata": {
                "azdata_cell_guid": "b5bddd83-3e5c-4916-8f69-3b65bc8aaace",
                "dotnet_interactive": {
                    "language": "sql"
                },
                "tags": [
                    "hide_input"
                ]
            },
            "outputs": [],
            "source": [
                "-- COPYRIGHT (C) 2020 DE STAAT DER NEDERLANDEN, MINISTERIE VAN VOLKSGEZONDHEID, WELZIJN EN SPORT.\n",
                "-- LICENSED UNDER THE EUROPEAN UNION PUBLIC LICENCE V. 1.2 - SEE HTTPS://GITHUB.COM/MINVWS/NL-CONTACT-TRACING-APP-COORDINATION FOR MORE INFORMATION.\n",
                "\n",
                "-- 1) CREATE INTER SEQUENCE(S).....\n",
                "IF NOT EXISTS(SELECT * FROM SYS.SEQUENCES WHERE [OBJECT_ID] = OBJECT_ID(N'[dbo].[SEQ_VWSDEST_CORONAMELDER]') AND [TYPE] = 'SO')\n",
                "CREATE SEQUENCE [dbo].[SEQ_VWSDEST_CORONAMELDER]\n",
                "    AS BIGINT\n",
                "    START WITH 1\n",
                "    INCREMENT BY 1;\n",
                "GO\n",
                "\n",
                "-- 2) CREATE TABLE(S).....\n",
                "IF NOT EXISTS (SELECT * FROM SYS.TABLES WHERE object_id = OBJECT_ID('VWSDEST.CORONAMELDER'))\n",
                "BEGIN\n",
                "CREATE TABLE [VWSDEST].[CORONAMELDER] (\n",
                "    [ID]                 INT      DEFAULT (NEXT VALUE FOR [dbo].[SEQ_VWSDEST_CORONAMELDER]) NOT NULL,\n",
                "    [DOWNLOADED_TOTAL]   INT      NULL,\n",
                "    [WARNED_DAILY]       INT      NULL,\n",
                "    [DATE_OF_REPORT]     DATETIME NULL,\n",
                "    [DATE_LAST_INSERTED] DATETIME DEFAULT (getdate()) NULL,\n",
                "    PRIMARY KEY CLUSTERED ([ID] ASC)\n",
                ");\n",
                "\n",
                "\n",
                "END\n",
                "GO\n",
                "\n",
                "-- 3) CREATE INDEX(ES).....\n",
                "IF NOT EXISTS (SELECT * FROM SYS.INDEXES WHERE [NAME] = 'IX_CORONAMELDER')\n",
                "CREATE NONCLUSTERED INDEX [IX_CORONAMELDER]\n",
                "    ON [VWSDEST].[CORONAMELDER]([DATE_OF_REPORT] ASC, [DATE_LAST_INSERTED] ASC);\n",
                "GO\n"
            ]
        },
        {
            "cell_type": "markdown",
            "metadata": {
                "azdata_cell_guid": "b883932e-c47b-4de6-9629-eca0ff8aeabb"
            },
            "source": [
                "# **VIEWS**\n",
                "---"
            ]
        },
        {
            "cell_type": "markdown",
            "metadata": {},
            "source": [
                "V_CORONAMELDER_DOWNLOAD"
            ]
        },
        {
            "cell_type": "code",
            "execution_count": null,
            "metadata": {
                "azdata_cell_guid": "8afe1341-1b29-4d6f-b896-861d70ae3472",
                "tags": []
            },
            "outputs": [],
            "source": [
                "-- Copyright (c) 2020 De Staat der Nederlanden, Ministerie van Volksgezondheid, Welzijn en Sport.\n",
                "-- Licensed under the EUROPEAN UNION PUBLIC LICENCE v. 1.2 - see https://github.com/minvws/nl-contact-tracing-app-coordinationfor more information.\n",
                "CREATE OR ALTER VIEW [VWSDEST].[V_CORONAMELDER_DOWNLOAD]\n",
                "AS\n",
                "    SELECT\n",
                "        [DOWNLOADED_TOTAL]                                  AS [count]\n",
                "        ,dbo.CONVERT_DATETIME_TO_UNIX([DATE_OF_REPORT])     AS date_unix\n",
                "        ,dbo.CONVERT_DATETIME_TO_UNIX([DATE_LAST_INSERTED]) AS date_of_insertion_unix\n",
                "    FROM \n",
                "        VWSDEST.CORONAMELDER WITH(NOLOCK)\n",
                "    WHERE \n",
                "        DOWNLOADED_TOTAL IS NOT NULL AND \n",
                "        DATE_LAST_INSERTED = (SELECT max(DATE_LAST_INSERTED) FROM VWSDEST.CORONAMELDER WITH(NOLOCK)) AND\n",
                "        DATE_OF_REPORT >= CAST('2020-10-10' as date) -- \"In Use\" start date of Corona app (datum waarop Corona App in werking is gesteld)"
            ]
        },
        {
            "cell_type": "markdown",
            "metadata": {},
            "source": [
                "V_CORONAMELDER_WARNING"
            ]
        },
        {
            "cell_type": "code",
            "execution_count": null,
            "metadata": {},
            "outputs": [],
            "source": [
                "-- Copyright (c) 2020 De Staat der Nederlanden, Ministerie van Volksgezondheid, Welzijn en Sport.\n",
                "-- Licensed under the EUROPEAN UNION PUBLIC LICENCE v. 1.2 - see https://github.com/minvws/nl-contact-tracing-app-coordinationfor more information.\n",
                "CREATE OR ALTER VIEW [VWSDEST].[V_CORONAMELDER_WARNING]\n",
                "AS\n",
                "    SELECT\n",
                "        [WARNED_DAILY]                                      AS [count]\n",
                "        ,dbo.CONVERT_DATETIME_TO_UNIX([DATE_OF_REPORT])     AS date_unix\n",
                "        ,dbo.CONVERT_DATETIME_TO_UNIX([DATE_LAST_INSERTED]) AS date_of_insertion_unix\n",
                "    FROM \n",
                "        VWSDEST.CORONAMELDER WITH(NOLOCK)\n",
                "    WHERE \n",
                "        WARNED_DAILY IS NOT NULL AND \n",
                "        DATE_LAST_INSERTED = (SELECT max(DATE_LAST_INSERTED) FROM VWSDEST.CORONAMELDER WITH(NOLOCK)) AND\n",
                "        DATE_OF_REPORT >= CAST('2020-10-10' as date) -- \"In Use\" start date of Corona app (datum waarop Corona App in werking is gesteld)"
            ]
        },
        {
            "cell_type": "markdown",
            "metadata": {},
            "source": [
                "[V_DIFFERENCE_CORONA_APP__WARNED_DAILY]"
            ]
        },
        {
            "cell_type": "code",
            "execution_count": null,
            "metadata": {},
            "outputs": [],
            "source": [
                "-- Copyright (c) 2020 De Staat der Nederlanden, Ministerie van   Volksgezondheid, Welzijn en Sport.\n",
                "-- Licensed under the EUROPEAN UNION PUBLIC LICENCE v. 1.2 - see https://github.com/minvws/nl-contact-tracing-app-coordinationfor more information.\n",
                "\n",
                "CREATE OR ALTER VIEW [VWSDEST].[V_DIFFERENCE_CORONA_APP__WARNED_DAILY] AS\n",
                "\n",
                "WITH LAST_DATE_OF_REPORT AS (\n",
                "\tSELECT\n",
                "\t\tCAST(MAX(DATE_OF_REPORT) as datetime) AS [LAST_DATE_OF_REPORT]\n",
                "\tFROM VWSDEST.CORONAMELDER WITH(NOLOCK)\n",
                "\tWHERE \n",
                "\t\tDATE_LAST_INSERTED = (SELECT MAX(DATE_LAST_INSERTED) FROM VWSDEST.CORONAMELDER WITH(NOLOCK)) AND\n",
                "\t\tWARNED_DAILY IS NOT NULL\n",
                "),\n",
                "\n",
                "BASE_CTE AS (\n",
                "SELECT \n",
                "\tDATE_OF_REPORT,\n",
                "\tLAG([DATE_OF_REPORT], 1, NULL) OVER (ORDER BY [DATE_LAST_INSERTED], [DATE_OF_REPORT]) AS [OLD_DATE_OF_REPORT],\n",
                "\tLAG(DBO.NO_NEGATIVE_NUMBER_I([WARNED_DAILY]), 1, NULL) OVER (ORDER BY [DATE_LAST_INSERTED], [DATE_OF_REPORT]) AS [OLD_VALUE],\n",
                "\tDBO.NO_NEGATIVE_NUMBER_I([WARNED_DAILY]) -\n",
                "\t\tLAG(DBO.NO_NEGATIVE_NUMBER_I([WARNED_DAILY]), 1, NULL) OVER (ORDER BY [DATE_LAST_INSERTED], [DATE_OF_REPORT]) AS [DIFFERENCE]\n",
                "FROM VWSDEST.CORONAMELDER WITH(NOLOCK)\n",
                "WHERE \n",
                "\tDATE_LAST_INSERTED = (SELECT max(DATE_LAST_INSERTED) FROM VWSDEST.CORONAMELDER WITH(NOLOCK)) AND\n",
                "\tWARNED_DAILY IS NOT NULL\n",
                "\n",
                ")\n",
                "\n",
                "SELECT DBO.CONVERT_DATETIME_TO_UNIX(DATE_OF_REPORT) AS NEW_DATE_UNIX\n",
                "\t  ,DBO.CONVERT_DATETIME_TO_UNIX(OLD_DATE_OF_REPORT) AS OLD_DATE_UNIX\n",
                "\t  ,CASE WHEN OLD_VALUE IS NULL THEN 0 ELSE OLD_VALUE END AS OLD_VALUE\n",
                "\t  ,CASE WHEN [DIFFERENCE] IS NULL THEN 0 ELSE [DIFFERENCE] END AS [DIFFERENCE]\n",
                "FROM BASE_CTE T1\n",
                "WHERE DATE_OF_REPORT = (SELECT LAST_DATE_OF_REPORT FROM LAST_DATE_OF_REPORT)"
            ]
        },
        {
            "cell_type": "markdown",
            "metadata": {
                "azdata_cell_guid": "991b613b-1793-4c88-a85a-229f4e6fa51e"
            },
            "source": [
                "# **STORE PROCEDURES**\n",
                "---"
            ]
        },
        {
            "cell_type": "markdown",
            "metadata": {
                "azdata_cell_guid": "157e2e17-d669-4d53-9b88-9bfce9675611"
            },
            "source": [
                "### STAGING &rarr; INTERMEDIATE MAPPING"
            ]
        },
        {
            "cell_type": "markdown",
            "metadata": {},
            "source": [
                "SP_CORONAMELDER_DOWNLOADS_INTER"
            ]
        },
        {
            "cell_type": "code",
            "execution_count": null,
            "metadata": {
                "azdata_cell_guid": "9e39a8d6-8f5a-45cb-a1d6-3405d256a5b5",
                "dotnet_interactive": {
                    "language": "sql"
                },
                "tags": []
            },
            "outputs": [],
            "source": [
                "-- Copyright (c) 2020 De Staat der Nederlanden, Ministerie van   Volksgezondheid, Welzijn en Sport. \n",
                "-- Licensed under the EUROPEAN UNION PUBLIC LICENCE v. 1.2 - see https://github.com/minvws/nl-contact-tracing-app-coordinationfor more information.\n",
                "\n",
                "-- Move download data from staging to intermediate table.\n",
                "CREATE OR ALTER PROCEDURE DBO.SP_CORONAMELDER_DOWNLOADS_INTER\n",
                "AS\n",
                "BEGIN\n",
                "    INSERT INTO VWSINTER.CORONAMELDER_DOWNLOADS\n",
                "        ([Date (yyyy-mm-dd)],\n",
                "        [Downloads App Store (iOS) (daily)],\n",
                "        [Downloads Play Store (Android) (daily)],\n",
                "        [Downloads Huawei App Gallery (Android) (daily)],\n",
                "        [Total downloads (daily)],\n",
                "        [Total downloads (cumulative)])\n",
                "    SELECT \n",
                "        [Date (yyyy-mm-dd)],\n",
                "        [Downloads App Store (iOS) (daily)],\n",
                "        [Downloads Play Store (Android) (daily)],\n",
                "        [Downloads Huawei App Gallery (Android) (daily)],\n",
                "        [Total downloads (daily)],\n",
                "        [Total downloads (cumulative)]\n",
                "    FROM \n",
                "       VWSSTAGE.CORONAMELDER_DOWNLOADS\n",
                "    WHERE DATE_LAST_INSERTED = (SELECT MAX(DATE_LAST_INSERTED) from VWSSTAGE.CORONAMELDER_DOWNLOADS)\n",
                "END;"
            ]
        },
        {
            "cell_type": "markdown",
            "metadata": {},
            "source": [
                "SP_CORONAMELDER_POSITIVES_INTER"
            ]
        },
        {
            "cell_type": "code",
            "execution_count": null,
            "metadata": {},
            "outputs": [],
            "source": [
                "-- Copyright (c) 2020 De Staat der Nederlanden, Ministerie van   Volksgezondheid, Welzijn en Sport. \n",
                "-- Licensed under the EUROPEAN UNION PUBLIC LICENCE v. 1.2 - see https://github.com/minvws/nl-contact-tracing-app-coordinationfor more information.\n",
                "\n",
                "-- Move positive reports data from staging to intermediate table.\n",
                "CREATE OR ALTER  PROCEDURE DBO.SP_CORONAMELDER_POSITIVES_INTER\n",
                "AS\n",
                "BEGIN\n",
                "    INSERT INTO VWSINTER.CORONAMELDER_POSITIVES\n",
                "        ([Date (yyyy-mm-dd)],\n",
                "        [Reported positive tests through app authorised by GGD (daily)],\n",
                "        [Reported positive test through app authorised by GGD (cumulative)])\n",
                "    SELECT \n",
                "        [Date (yyyy-mm-dd)],\n",
                "        [Reported positive tests through app authorised by GGD (daily)],\n",
                "        [Reported positive test through app authorised by GGD (cumulative)]\n",
                "    FROM \n",
                "       VWSSTAGE.CORONAMELDER_POSITIVES\n",
                "    WHERE DATE_LAST_INSERTED = (SELECT MAX(DATE_LAST_INSERTED) from VWSSTAGE.CORONAMELDER_POSITIVES)\n",
                "END;"
            ]
        },
        {
            "cell_type": "markdown",
            "metadata": {
                "azdata_cell_guid": "4285b14f-17c1-4e48-ad9e-49365e008058"
            },
            "source": [
                "### INTERMEDIATE &rarr; DESTINATION MAPPING"
            ]
        },
        {
            "cell_type": "markdown",
            "metadata": {},
            "source": [
                "SP_CORONAMELDER"
            ]
        },
        {
            "cell_type": "code",
            "execution_count": null,
            "metadata": {
                "azdata_cell_guid": "ef39c170-5229-4d50-8a83-fe1f3e71365a",
                "dotnet_interactive": {
                    "language": "sql"
                },
                "tags": []
            },
            "outputs": [],
            "source": [
                "-- Copyright (c) 2021 De Staat der Nederlanden, Ministerie van   Volksgezondheid, Welzijn en Sport. \n",
                "-- Licensed under the EUROPEAN UNION PUBLIC LICENCE v. 1.2 - see https://github.com/minvws/nl-contact-tracing-app-coordinationfor more information.\n",
                "\n",
                "-- Move coronamelder downloads & positives reported data from intermediate to production table.\n",
                "CREATE OR ALTER PROCEDURE [dbo].[SP_CORONAMELDER]\n",
                "AS\n",
                "BEGIN\n",
                "    INSERT INTO VWSDEST.CORONAMELDER\n",
                "    (\n",
                "       [DOWNLOADED_TOTAL]\n",
                "      ,[WARNED_DAILY] \n",
                "      ,[DATE_OF_REPORT]\n",
                "\t  )\n",
                "    SELECT \n",
                "        [DOWNLOADED_TOTAL],\n",
                "        [WARNED_DAILY],\n",
                "\t\tCOALESCE(DOWNLOADS.[Date (yyyy-mm-dd)],POSITIVES.[Date (yyyy-mm-dd)])  AS [DATE_OF_REPORT]\n",
                "    FROM \n",
                "        (\n",
                "            SELECT \n",
                "                [Date (yyyy-mm-dd)], \n",
                "                ISNULL([Total downloads (cumulative)],0) AS [DOWNLOADED_TOTAL]\n",
                "            FROM  VWSINTER.CORONAMELDER_DOWNLOADS\n",
                "            WHERE DATE_LAST_INSERTED = (SELECT MAX(DATE_LAST_INSERTED) from VWSINTER.CORONAMELDER_DOWNLOADS)\n",
                "        ) AS DOWNLOADS\n",
                "\tFULL OUTER JOIN \n",
                "        (\n",
                "            SELECT \n",
                "                [Date (yyyy-mm-dd)],\n",
                "                ISNULL([Reported positive tests through app authorised by GGD (daily)],0) AS  [WARNED_DAILY]\n",
                "            FROM VWSINTER.CORONAMELDER_POSITIVES\n",
                "            WHERE DATE_LAST_INSERTED = (SELECT MAX(DATE_LAST_INSERTED) from VWSINTER.CORONAMELDER_POSITIVES)\n",
                "        ) POSITIVES\n",
                "\t\tON DOWNLOADS.[Date (yyyy-mm-dd)] = POSITIVES.[Date (yyyy-mm-dd)]\n",
                "END;"
            ]
        },
        {
            "cell_type": "markdown",
            "metadata": {
                "azdata_cell_guid": "9ecf89cb-f8c2-4453-90a7-cd43a8ad95fa"
            },
            "source": [
                "# **DATATINO CONFIGURATIONS**\n",
                "---"
            ]
        },
        {
            "cell_type": "markdown",
            "metadata": {},
            "source": [
                "WORKFLOWS"
            ]
        },
        {
            "cell_type": "code",
            "execution_count": null,
            "metadata": {},
            "outputs": [],
            "source": [
                "-- Copyright (c) 2021 De Staat der Nederlanden, Ministerie van   Volksgezondheid, Welzijn en Sport. \n",
                "-- Licensed under the EUROPEAN UNION PUBLIC LICENCE v. 1.2 - see https://github.com/minvws/nl-contact-tracing-app-coordinationfor more information.\n",
                "\n",
                "-- 1) UPSERT WORKFLOW(S).....\n",
                "DECLARE @workflow_name NVARCHAR(50) = 'CORONAMELDER',\n",
                "        @workflow_id INT,        \n",
                "        @workflow_description VARCHAR(256),\n",
                "        @is_active INT;\n",
                "\n",
                "-- 1.1) SET ENVIRONMENTAL VARIABLES.....\n",
                "SET @is_active = CASE LOWER('#{ Environment }#')\n",
                "    WHEN 'production' THEN 0\n",
                "    WHEN 'acceptance' THEN 0\n",
                "    ELSE 0\n",
                "END;\n",
                "\n",
                "SELECT TOP(1)\n",
                "    @workflow_id = workflows.[ID]\n",
                "FROM [DATATINO_ORCHESTRATOR_1].[WORKFLOWS] workflows\n",
                "INNER JOIN [DATATINO_ORCHESTRATOR_1].[V_WORKFLOWS] v_workflows ON v_workflows.[DATAFLOW_ID] = workflows.[DATAFLOW_ID] AND v_workflows.[ID] = workflows.[ID]\n",
                "WHERE v_workflows.[NAME] = @workflow_name;\n",
                "\n",
                "SET @workflow_description = 'Coronamelder data';\n",
                "\n",
                "EXECUTE [DATATINO_ORCHESTRATOR_1].[UPSERT_WORKFLOW]\n",
                "    @id = @workflow_id, \n",
                "    @workflow_name = @workflow_name,\n",
                "    @description = @workflow_description,\n",
                "    @schedule = '0 13 * * MON-FRI', -- AT 02:00 PM, ON monday - friday\n",
                "    @active = @is_active;"
            ]
        },
        {
            "cell_type": "markdown",
            "metadata": {},
            "source": [
                "protos"
            ]
        },
        {
            "cell_type": "markdown",
            "metadata": {},
            "source": [
                "CORONA_MELDER_DOWNLOAD"
            ]
        },
        {
            "cell_type": "code",
            "execution_count": null,
            "metadata": {},
            "outputs": [],
            "source": [
                "-- Copyright (c) 2020 De Staat der Nederlanden, Ministerie van   Volksgezondheid, Welzijn en Sport. \n",
                "-- Licensed under the EUROPEAN UNION PUBLIC LICENCE v. 1.2 - see https://github.com/minvws/nl-contact-tracing-app-coordinationfor more information.\n",
                "\n",
                "DECLARE @view_name VARCHAR(256) = 'VWSDEST.V_CORONAMELDER_DOWNLOAD',\n",
                "        @view_description VARCHAR(256),\n",
                "        @item_name VARCHAR(256) = 'corona_melder_app_download',\n",
                "        @config_description VARCHAR(256),\n",
                "        @constraint_value VARCHAR(50) = NULL,\n",
                "        @constraint_key_name VARCHAR(50) = NULL,\n",
                "        @grouped_key_name VARCHAR(50) = null,\n",
                "        @grouped_last_update_name VARCHAR(50) = null,\n",
                "        @proto_name VARCHAR(50) = 'NL',\n",
                "        @columns VARCHAR(256) = '*',\n",
                "        @layout_type_id INT = 3, -- LASTVALUES\n",
                "        @last_update_name VARCHAR(50) = 'DATE_UNIX',\n",
                "        @is_active INT;\n",
                "        \n",
                "SET @is_active = CASE LOWER('#{ Environment }#')\n",
                "    WHEN 'production' THEN 1\n",
                "    WHEN 'acceptance' THEN 1\n",
                "    ELSE 1\n",
                "END;\n",
                "\n",
                "SET @view_description = CONCAT('VIEW: ', @view_name, ' FOR ', @item_name);\n",
                "SET @config_description = CONCAT('VIEW CONFIGURATION: ', @view_name, ' FOR ', @item_name);\n",
                "\n",
                "-- 2) DETERMINE VIEW ID & CONFIGURATION ID\n",
                "DECLARE @constrained INT,\n",
                "        @grouped INT,\n",
                "        @view_id BIGINT,\n",
                "        @config_id BIGINT;\n",
                "\n",
                "SET @constrained = CASE \n",
                "    WHEN @constraint_key_name IS NULL THEN 0\n",
                "    ELSE 1\n",
                "END;\n",
                "SET @grouped = CASE \n",
                "    WHEN @grouped_key_name IS NULL THEN 0\n",
                "    ELSE 1\n",
                "END;\n",
                "\n",
                "SELECT \n",
                "    @view_id = [ID]\n",
                "FROM [DATATINO_PROTO_1].[VIEWS]\n",
                "WHERE ISNULL([CONSTRAINT_VALUE], 'X') = ISNULL(@constraint_value, 'X')\n",
                "    AND ISNULL([CONSTRAINT_KEY_NAME], 'X') = ISNULL(@constraint_key_name, 'X')\n",
                "    AND ISNULL([GROUPED_KEY_NAME], 'X') = ISNULL(@grouped_key_name, 'X')\n",
                "    AND ISNULL([GROUPED_LAST_UPDATE_NAME], 'X') = ISNULL(@grouped_last_update_name, 'X')\n",
                "    AND [NAME] = @view_name;\n",
                "    \n",
                "SELECT\n",
                "    @config_id = configs.[ID]\n",
                "FROM [DATATINO_PROTO_1].[VIEWS] views\n",
                "INNER JOIN [DATATINO_PROTO_1].[CONFIGURATIONS] AS configs ON views.[ID] = configs.[VIEW_ID]\n",
                "    AND configs.[NAME] = @item_name\n",
                "    AND configs.[VIEW_ID] = @view_id\n",
                "INNER JOIN [DATATINO_PROTO_1].[PROTOS] AS protos ON protos.[ID] = configs.[PROTO_ID]\n",
                "    AND protos.[NAME] = @proto_name\n",
                "WHERE views.[NAME] = @view_name;\n",
                "\n",
                "-- 3) UPSERT PROTO VIEW(S).....\n",
                "EXECUTE [DATATINO_PROTO_1].[UPSERT_VIEW]\n",
                "    @id = @view_id,\n",
                "    @view_name = @view_name,\n",
                "    @description = @view_description,\n",
                "    @last_update_name = @last_update_name,\n",
                "    @constraint_key_name = @constraint_key_name,\n",
                "    @constraint_value = @constraint_value,\n",
                "    @grouped_key_name = @grouped_key_name,\n",
                "    @grouped_last_update_name = @grouped_last_update_name;\n",
                "\n",
                "-- 4) UPSERT PROTO CONFIGURATION(S).....\n",
                "EXECUTE [DATATINO_PROTO_1].[UPSERT_CONFIGURATION]\n",
                "    @id = @config_id,\n",
                "    @proto_name = @proto_name,\n",
                "    @description =  @config_description,\n",
                "    @view_name = @view_name,\n",
                "    @item_name = @item_name,\n",
                "    @constrained = @constrained,\n",
                "    @grouped = @grouped,\n",
                "    @columns = @columns,\n",
                "    @mapping = '=LOWER()',\n",
                "    @layout_type_id = @layout_type_id,\n",
                "    @active = @is_active,\n",
                "    @constraint_key_name = @constraint_key_name,\n",
                "    @constraint_value = @constraint_value,\n",
                "    @grouped_key_name = @grouped_key_name,\n",
                "    @grouped_last_update_name = @grouped_last_update_name;\n",
                "GO"
            ]
        },
        {
            "cell_type": "markdown",
            "metadata": {},
            "source": [
                "CORONA_MELDER_APP_WARNING"
            ]
        },
        {
            "cell_type": "code",
            "execution_count": null,
            "metadata": {},
            "outputs": [],
            "source": [
                "-- Copyright (c) 2020 De Staat der Nederlanden, Ministerie van   Volksgezondheid, Welzijn en Sport. \n",
                "-- Licensed under the EUROPEAN UNION PUBLIC LICENCE v. 1.2 - see https://github.com/minvws/nl-contact-tracing-app-coordinationfor more information.\n",
                "\n",
                "DECLARE @view_name VARCHAR(256) = 'VWSDEST.V_CORONAMELDER_WARNING',\n",
                "        @view_description VARCHAR(256),\n",
                "        @item_name VARCHAR(256) = 'corona_melder_app_warning',\n",
                "        @config_description VARCHAR(256),\n",
                "        @constraint_value VARCHAR(50) = NULL,\n",
                "        @constraint_key_name VARCHAR(50) = NULL,\n",
                "        @grouped_key_name VARCHAR(50) = null,\n",
                "        @grouped_last_update_name VARCHAR(50) = null,\n",
                "        @proto_name VARCHAR(50) = 'NL',\n",
                "        @columns VARCHAR(256) = '*',\n",
                "        @layout_type_id INT = 3, -- LASTVALUES\n",
                "        @last_update_name VARCHAR(50) = 'DATE_UNIX',\n",
                "        @is_active INT;\n",
                "        \n",
                "SET @is_active = CASE LOWER('#{ Environment }#')\n",
                "    WHEN 'production' THEN 1\n",
                "    WHEN 'acceptance' THEN 1\n",
                "    ELSE 1\n",
                "END;\n",
                "\n",
                "SET @view_description = CONCAT('VIEW: ', @view_name, ' FOR ', @item_name);\n",
                "SET @config_description = CONCAT('VIEW CONFIGURATION: ', @view_name, ' FOR ', @item_name);\n",
                "\n",
                "-- 2) DETERMINE VIEW ID & CONFIGURATION ID\n",
                "DECLARE @constrained INT,\n",
                "        @grouped INT,\n",
                "        @view_id BIGINT,\n",
                "        @config_id BIGINT;\n",
                "\n",
                "SET @constrained = CASE \n",
                "    WHEN @constraint_key_name IS NULL THEN 0\n",
                "    ELSE 1\n",
                "END;\n",
                "SET @grouped = CASE \n",
                "    WHEN @grouped_key_name IS NULL THEN 0\n",
                "    ELSE 1\n",
                "END;\n",
                "\n",
                "SELECT \n",
                "    @view_id = [ID]\n",
                "FROM [DATATINO_PROTO_1].[VIEWS]\n",
                "WHERE ISNULL([CONSTRAINT_VALUE], 'X') = ISNULL(@constraint_value, 'X')\n",
                "    AND ISNULL([CONSTRAINT_KEY_NAME], 'X') = ISNULL(@constraint_key_name, 'X')\n",
                "    AND ISNULL([GROUPED_KEY_NAME], 'X') = ISNULL(@grouped_key_name, 'X')\n",
                "    AND ISNULL([GROUPED_LAST_UPDATE_NAME], 'X') = ISNULL(@grouped_last_update_name, 'X')\n",
                "    AND [NAME] = @view_name;\n",
                "    \n",
                "SELECT\n",
                "    @config_id = configs.[ID]\n",
                "FROM [DATATINO_PROTO_1].[VIEWS] views\n",
                "INNER JOIN [DATATINO_PROTO_1].[CONFIGURATIONS] AS configs ON views.[ID] = configs.[VIEW_ID]\n",
                "    AND configs.[NAME] = @item_name\n",
                "    AND configs.[VIEW_ID] = @view_id\n",
                "INNER JOIN [DATATINO_PROTO_1].[PROTOS] AS protos ON protos.[ID] = configs.[PROTO_ID]\n",
                "    AND protos.[NAME] = @proto_name\n",
                "WHERE views.[NAME] = @view_name;\n",
                "\n",
                "-- 3) UPSERT PROTO VIEW(S).....\n",
                "EXECUTE [DATATINO_PROTO_1].[UPSERT_VIEW]\n",
                "    @id = @view_id,\n",
                "    @view_name = @view_name,\n",
                "    @description = @view_description,\n",
                "    @last_update_name = @last_update_name,\n",
                "    @constraint_key_name = @constraint_key_name,\n",
                "    @constraint_value = @constraint_value,\n",
                "    @grouped_key_name = @grouped_key_name,\n",
                "    @grouped_last_update_name = @grouped_last_update_name;\n",
                "\n",
                "-- 4) UPSERT PROTO CONFIGURATION(S).....\n",
                "EXECUTE [DATATINO_PROTO_1].[UPSERT_CONFIGURATION]\n",
                "    @id = @config_id,\n",
                "    @proto_name = @proto_name,\n",
                "    @description =  @config_description,\n",
                "    @view_name = @view_name,\n",
                "    @item_name = @item_name,\n",
                "    @constrained = @constrained,\n",
                "    @grouped = @grouped,\n",
                "    @columns = @columns,\n",
                "    @mapping = '=LOWER()',\n",
                "    @layout_type_id = @layout_type_id,\n",
                "    @active = @is_active,\n",
                "    @constraint_key_name = @constraint_key_name,\n",
                "    @constraint_value = @constraint_value,\n",
                "    @grouped_key_name = @grouped_key_name,\n",
                "    @grouped_last_update_name = @grouped_last_update_name;\n",
                "GO"
            ]
        },
        {
            "cell_type": "markdown",
            "metadata": {},
            "source": [
                "SOURCES"
            ]
        },
        {
            "cell_type": "markdown",
            "metadata": {},
            "source": [
                "Coronamelder_Downloads"
            ]
        },
        {
            "cell_type": "code",
            "execution_count": null,
            "metadata": {},
            "outputs": [],
            "source": [
                "-- Copyright (c) 2021 De Staat der Nederlanden, Ministerie van   Volksgezondheid, Welzijn en Sport. \n",
                "-- Licensed under the EUROPEAN UNION PUBLIC LICENCE v. 1.2 - see https://github.com/minvws/nl-contact-tracing-app-coordinationfor more information.\n",
                "\n",
                "DECLARE @source NVARCHAR(256),\n",
                "        @source_id INT,\n",
                "        @source_name NVARCHAR(256),\n",
                "        @source_description NVARCHAR(256),\n",
                "        @target_name VARCHAR(256),\n",
                "        @location_type VARCHAR(50),\n",
                "        @security_profile VARCHAR(50),\n",
                "        @delimiter_type VARCHAR(50),\n",
                "        @source_type VARCHAR(50);\n",
                "\n",
                "-- 2.1) SET ENVIRONMENTAL VARIABLES.....\n",
                "SET @source = CASE LOWER('#{ Environment }#')\n",
                "    WHEN 'production' THEN 'https://raw.githubusercontent.com/minvws/nl-covid19-notification-app-statistics/main/statistics/appstore_statistics.csv'\n",
                "    WHEN 'acceptance' THEN 'https://raw.githubusercontent.com/minvws/nl-covid19-notification-app-statistics/main/statistics/appstore_statistics.csv'\n",
                "    ELSE 'https://raw.githubusercontent.com/minvws/nl-covid19-notification-app-statistics/main/statistics/appstore_statistics.csv'\n",
                "END;\n",
                "\n",
                "SET @location_type = CASE LOWER('#{ Environment }#')\n",
                "    WHEN 'production' THEN 'Web'\n",
                "    WHEN 'acceptance' THEN 'Web'\n",
                "    ELSE 'AzureBlob'\n",
                "END;\n",
                "\n",
                "SET @security_profile = CASE LOWER('#{ Environment }#')\n",
                "    WHEN 'production' THEN 'RIVM'\n",
                "    WHEN 'acceptance' THEN 'RIVM'\n",
                "    ELSE 'N/A'\n",
                "END;\n",
                "\n",
                "SET @delimiter_type = CASE LOWER('#{ Environment }#')\n",
                "    WHEN 'production' THEN 'Colon'\n",
                "    WHEN 'acceptance' THEN 'Colon'\n",
                "    ELSE 'SemiColon'\n",
                "END;\n",
                "\n",
                "SET @source_type = CASE LOWER('#{ Environment }#')\n",
                "    WHEN 'production' THEN 'CsvFile'\n",
                "    WHEN 'acceptance' THEN 'CsvFile'\n",
                "    ELSE 'CsvFile'\n",
                "END;\n",
                "\n",
                "-- 2.2) UPSERT TABLE SOURCE(S): STAGING......\n",
                "SET @source_name = 'SOURCE_Load_Coronamelder_Downloads';\n",
                "SET @source_description = 'Loads Coronamelder Download Data';\n",
                "SET @target_name = 'VWSSTAGE.CORONAMELDER_DOWNLOADS';\n",
                "\n",
                "\n",
                "SELECT TOP(1)\n",
                "    @source_id = [ID]\n",
                "FROM [DATATINO_ORCHESTRATOR_1].[SOURCES]\n",
                "WHERE [NAME] = @source_name;\n",
                "\n",
                "EXECUTE [DATATINO_ORCHESTRATOR_1].[UPSERT_SOURCE]\n",
                "    @id = @source_id,\n",
                "    @source_name = @source_name,\n",
                "    @description = @source_description,\n",
                "    @source = @source,\n",
                "    @source_columns = 'Date (yyyy-mm-dd)|Downloads App Store (iOS) (daily)|Downloads Play Store (Android) (daily)|Downloads Huawei App Gallery (Android) (daily)|Total downloads (daily)|Total downloads (cumulative)',\n",
                "    @target_columns = 'DATE (YYYY-MM-DD)|DOWNLOADS APP STORE (IOS) (DAILY)|DOWNLOADS PLAY STORE (ANDROID) (DAILY)|DOWNLOADS HUAWEI APP GALLERY (ANDROID) (DAILY)|TOTAL DOWNLOADS (DAILY)|TOTAL DOWNLOADS (CUMULATIVE)|DATE_LAST_INSERTED=GETDATE',\n",
                "    @target_name = @target_name,\n",
                "    @source_type = @source_type,\n",
                "    @location_type = @location_type,\n",
                "    @delimiter_type = @delimiter_type,\n",
                "    @security_profile= @security_profile;\n"
            ]
        },
        {
            "cell_type": "markdown",
            "metadata": {},
            "source": [
                "Coronamelder_Positives"
            ]
        },
        {
            "cell_type": "code",
            "execution_count": null,
            "metadata": {},
            "outputs": [],
            "source": [
                "-- Copyright (c) 2021 De Staat der Nederlanden, Ministerie van   Volksgezondheid, Welzijn en Sport. \n",
                "-- Licensed under the EUROPEAN UNION PUBLIC LICENCE v. 1.2 - see https://github.com/minvws/nl-contact-tracing-app-coordinationfor more information.\n",
                "\n",
                "DECLARE @source NVARCHAR(256),\n",
                "        @source_id INT,\n",
                "        @source_name NVARCHAR(256),\n",
                "        @source_description NVARCHAR(256),\n",
                "        @target_name VARCHAR(256),\n",
                "        @location_type VARCHAR(50),\n",
                "        @security_profile VARCHAR(50),\n",
                "        @delimiter_type VARCHAR(50),\n",
                "        @source_type VARCHAR(50);\n",
                "\n",
                "-- 2.1) SET ENVIRONMENTAL VARIABLES.....\n",
                "SET @source = CASE LOWER('#{ Environment }#')\n",
                "    WHEN 'production' THEN 'https://raw.githubusercontent.com/minvws/nl-covid19-notification-app-statistics/main/statistics/ggd_positive_test_authorisations.csv'\n",
                "    WHEN 'acceptance' THEN 'https://raw.githubusercontent.com/minvws/nl-covid19-notification-app-statistics/main/statistics/ggd_positive_test_authorisations.csv'\n",
                "    ELSE 'https://raw.githubusercontent.com/minvws/nl-covid19-notification-app-statistics/main/statistics/ggd_positive_test_authorisations.csv'\n",
                "END;\n",
                "\n",
                "SET @location_type = CASE LOWER('#{ Environment }#')\n",
                "    WHEN 'production' THEN 'Web'\n",
                "    WHEN 'acceptance' THEN 'Web'\n",
                "    ELSE 'AzureBlob'\n",
                "END;\n",
                "\n",
                "SET @security_profile = CASE LOWER('#{ Environment }#')\n",
                "    WHEN 'production' THEN 'RIVM'\n",
                "    WHEN 'acceptance' THEN 'RIVM'\n",
                "    ELSE 'N/A'\n",
                "END;\n",
                "\n",
                "SET @delimiter_type = CASE LOWER('#{ Environment }#')\n",
                "    WHEN 'production' THEN 'Colon'\n",
                "    WHEN 'acceptance' THEN 'Colon'\n",
                "    ELSE 'SemiColon'\n",
                "END;\n",
                "\n",
                "SET @source_type = CASE LOWER('#{ Environment }#')\n",
                "    WHEN 'production' THEN 'CsvFile'\n",
                "    WHEN 'acceptance' THEN 'CsvFile'\n",
                "    ELSE 'CsvFile'\n",
                "END;\n",
                "\n",
                "-- 2.2) UPSERT TABLE SOURCE(S): STAGING......\n",
                "SET @source_name = 'SOURCE_Load_Coronamelder_Positives';\n",
                "SET @source_description = 'Loads Coronamelder Positives Data';\n",
                "SET @target_name = 'VWSSTAGE.CORONAMELDER_POSITIVES';\n",
                "\n",
                "\n",
                "SELECT TOP(1)\n",
                "    @source_id = [ID]\n",
                "FROM [DATATINO_ORCHESTRATOR_1].[SOURCES]\n",
                "WHERE [NAME] = @source_name;\n",
                "\n",
                "EXECUTE [DATATINO_ORCHESTRATOR_1].[UPSERT_SOURCE]\n",
                "    @id = @source_id,\n",
                "    @source_name = @source_name,\n",
                "    @description = @source_description,\n",
                "    @source = @source,\n",
                "    @source_columns = 'Date (yyyy-mm-dd)|Reported positive tests through app authorised by GGD (daily)|Reported positive test through app authorised by GGD (cumulative)',\n",
                "    @target_columns = 'DATE (YYYY-MM-DD)|REPORTED POSITIVE TESTS THROUGH APP AUTHORISED BY GGD (DAILY)|REPORTED POSITIVE TEST THROUGH APP AUTHORISED BY GGD (CUMULATIVE)|DATE_LAST_INSERTED=GETDATE',\n",
                "    @target_name = @target_name,\n",
                "    @source_type = @source_type,\n",
                "    @location_type = @location_type,\n",
                "    @delimiter_type = @delimiter_type,\n",
                "    @security_profile= @security_profile;"
            ]
        },
        {
            "cell_type": "markdown",
            "metadata": {},
            "source": [
                "STAGE TO INTER"
            ]
        },
        {
            "cell_type": "markdown",
            "metadata": {},
            "source": [
                "CORONAMELDER_DOWNLOADS"
            ]
        },
        {
            "cell_type": "code",
            "execution_count": null,
            "metadata": {},
            "outputs": [],
            "source": [
                "-- Copyright (c) 2020 De Staat der Nederlanden, Ministerie van   Volksgezondheid, Welzijn en Sport. \n",
                "-- Licensed under the EUROPEAN UNION PUBLIC LICENCE v. 1.2 - see https://github.com/minvws/nl-contact-tracing-app-coordinationfor more information.\n",
                "\n",
                "-- 1 UPSERT STORED PROCEDURE SOURCE(S): STAGE TO INTER......\n",
                "DECLARE @source NVARCHAR(256),\n",
                "        @source_id INT,\n",
                "        @source_name NVARCHAR(256),\n",
                "        @source_description NVARCHAR(256);\n",
                "\n",
                "SET @source = 'DBO.SP_CORONAMELDER_DOWNLOADS_INTER';\n",
                "SET @source_name = 'SOURCE_Inter_Coronamelder_Downloads';\n",
                "SET @source_description = 'Move Coronamelder Download data from stage table to intermediate table';\n",
                "\n",
                "SELECT TOP(1)\n",
                "    @source_id = [ID]\n",
                "FROM [DATATINO_ORCHESTRATOR_1].[SOURCES]\n",
                "WHERE [NAME] = @source_name;\n",
                "\n",
                "EXECUTE [DATATINO_ORCHESTRATOR_1].[UPSERT_SOURCE]\n",
                "    @id = @source_id,\n",
                "    @source_name = @source_name,\n",
                "    @description = @source_description,\n",
                "    @source = @source,\n",
                "    @source_columns = null,\n",
                "    @target_columns = null,\n",
                "    @target_name = null,\n",
                "    @source_type = 'StoredProcedure',\n",
                "    @location_type = 'N/A',\n",
                "    @delimiter_type = 'N/A',\n",
                "    @security_profile= 'N/A';"
            ]
        },
        {
            "cell_type": "markdown",
            "metadata": {},
            "source": [
                "SP_CORONAMELDER_POSITIVES_INTER"
            ]
        },
        {
            "cell_type": "code",
            "execution_count": null,
            "metadata": {},
            "outputs": [],
            "source": [
                "-- Copyright (c) 2020 De Staat der Nederlanden, Ministerie van   Volksgezondheid, Welzijn en Sport. \n",
                "-- Licensed under the EUROPEAN UNION PUBLIC LICENCE v. 1.2 - see https://github.com/minvws/nl-contact-tracing-app-coordinationfor more information.\n",
                "\n",
                "-- 1) UPSERT STORED PROCEDURE SOURCE(S): STAGE TO INTER......\n",
                "DECLARE @source NVARCHAR(256),\n",
                "        @source_id INT,\n",
                "        @source_name NVARCHAR(256),\n",
                "        @source_description NVARCHAR(256);\n",
                "\n",
                "SET @source = 'DBO.SP_CORONAMELDER_POSITIVES_INTER';\n",
                "SET @source_name = 'SOURCE_Inter_Coronamelder_Positives';\n",
                "SET @source_description = 'Move Coronamelder Positives data from stage table to intermediate table';\n",
                "\n",
                "SELECT TOP(1)\n",
                "    @source_id = [ID]\n",
                "FROM [DATATINO_ORCHESTRATOR_1].[SOURCES]\n",
                "WHERE [NAME] = @source_name;\n",
                "\n",
                "EXECUTE [DATATINO_ORCHESTRATOR_1].[UPSERT_SOURCE]\n",
                "    @id = @source_id,\n",
                "    @source_name = @source_name,\n",
                "    @description = @source_description,\n",
                "    @source = @source,\n",
                "    @source_columns = null,\n",
                "    @target_columns = null,\n",
                "    @target_name = null,\n",
                "    @source_type = 'StoredProcedure',\n",
                "    @location_type = 'N/A',\n",
                "    @delimiter_type = 'N/A',\n",
                "    @security_profile= 'N/A';"
            ]
        },
        {
            "cell_type": "markdown",
            "metadata": {},
            "source": [
                "INTER TO DEST"
            ]
        },
        {
            "cell_type": "code",
            "execution_count": null,
            "metadata": {},
            "outputs": [],
            "source": [
                "-- Copyright (c) 2020 De Staat der Nederlanden, Ministerie van   Volksgezondheid, Welzijn en Sport. \n",
                "-- Licensed under the EUROPEAN UNION PUBLIC LICENCE v. 1.2 - see https://github.com/minvws/nl-contact-tracing-app-coordinationfor more information.\n",
                "\n",
                "-- 1) UPSERT STORED PROCEDURE SOURCE(S): INTER TO DEST......\n",
                "DECLARE @source NVARCHAR(256),\n",
                "        @source_id INT,\n",
                "        @source_name NVARCHAR(256),\n",
                "        @source_description NVARCHAR(256);\n",
                "\n",
                "SET @source = 'DBO.SP_CORONAMELDER';\n",
                "SET @source_name = 'SOURCE_Dest_Coronamelder';\n",
                "SET @source_description = 'Move Coronamelder Downloads and Positives data from inter tables to production table';\n",
                "\n",
                "SELECT TOP(1)\n",
                "    @source_id = [ID]\n",
                "FROM [DATATINO_ORCHESTRATOR_1].[SOURCES]\n",
                "WHERE [NAME] = @source_name;\n",
                "\n",
                "EXECUTE [DATATINO_ORCHESTRATOR_1].[UPSERT_SOURCE]\n",
                "    @id = @source_id,\n",
                "    @source_name = @source_name,\n",
                "    @description = @source_description,\n",
                "    @source = @source,\n",
                "    @source_columns = null,\n",
                "    @target_columns = null,\n",
                "    @target_name = null,\n",
                "    @source_type = 'StoredProcedure',\n",
                "    @location_type = 'N/A',\n",
                "    @delimiter_type = 'N/A',\n",
                "    @security_profile= 'N/A';"
            ]
        },
        {
            "cell_type": "markdown",
            "metadata": {},
            "source": [
                "PROCESSES"
            ]
        },
        {
            "cell_type": "markdown",
            "metadata": {},
            "source": [
                "Process Load_CoronaMelder_downloads"
            ]
        },
        {
            "cell_type": "code",
            "execution_count": null,
            "metadata": {},
            "outputs": [],
            "source": [
                "-- Copyright (c) 2020 De Staat der Nederlanden, Ministerie van   Volksgezondheid, Welzijn en Sport. \n",
                "-- Licensed under the EUROPEAN UNION PUBLIC LICENCE v. 1.2 - see https://github.com/minvws/nl-contact-tracing-app-coordinationfor more information.\n",
                "\n",
                "\n",
                "-- 1) UPSERT PROCESS(ES).....\n",
                "DECLARE @process_id INT,\n",
                "        @process_name NVARCHAR(256),\n",
                "        @process_description NVARCHAR(256),\n",
                "        @process_source_name VARCHAR(256),\n",
                "        @workflow_name NVARCHAR(50) = 'CORONAMELDER';\n",
                "\n",
                "-- 1.1) UPSERT TABLE PROCESS(ES): STAGING......\n",
                "SET @process_name = 'PROCESS_Load_Coronamelder_Downloads';\n",
                "SET @process_description =  'Loads Coronamelder Download Data';\n",
                "SET @process_source_name = 'SOURCE_Load_Coronamelder_Downloads';\n",
                "\n",
                "SELECT TOP(1)\n",
                "    @process_id = processes.[ID]\n",
                "FROM [DATATINO_ORCHESTRATOR_1].[PROCESSES] processes\n",
                "INNER JOIN [DATATINO_ORCHESTRATOR_1].[V_WORKFLOWS] v_workflows ON v_workflows.[ID] = processes.[WORKFLOW_ID]\n",
                "INNER JOIN [DATATINO_ORCHESTRATOR_1].[V_PROCESSES] v_processes ON v_processes.[PROCESS_ID] = processes.[ID]\n",
                "WHERE v_processes.[PROCESS_NAME] = @process_name \n",
                "    AND v_workflows.[NAME] = @workflow_name;\n",
                "\n",
                "EXECUTE [DATATINO_ORCHESTRATOR_1].[UPSERT_PROCESS]\n",
                "    @id = @process_id,\n",
                "    @process_name = @process_name,\n",
                "    @description = @process_description,\n",
                "    @source_name = @process_source_name,\n",
                "    @schedule = '* * * * *',\n",
                "    @workflow_name = @workflow_name,\n",
                "    @active = 1;"
            ]
        },
        {
            "cell_type": "markdown",
            "metadata": {},
            "source": [
                "PROCESS_Inter_Coronamelder_Downloads"
            ]
        },
        {
            "cell_type": "code",
            "execution_count": null,
            "metadata": {},
            "outputs": [],
            "source": [
                "-- Copyright (c) 2020 De Staat der Nederlanden, Ministerie van   Volksgezondheid, Welzijn en Sport. \n",
                "-- Licensed under the EUROPEAN UNION PUBLIC LICENCE v. 1.2 - see https://github.com/minvws/nl-contact-tracing-app-coordinationfor more information.\n",
                "\n",
                "-- 1) UPSERT PROCESS(ES).....\n",
                "DECLARE @process_id INT,\n",
                "        @process_name NVARCHAR(256),\n",
                "        @process_description NVARCHAR(256),\n",
                "        @process_source_name VARCHAR(256),\n",
                "        @workflow_name NVARCHAR(50) = 'CORONAMELDER';\n",
                "\n",
                "-- 1.1) UPSERT TABLE PROCESS(ES): STAGING......\n",
                "SET @process_name = 'PROCESS_Inter_Coronamelder_Downloads';\n",
                "SET @process_description =  'Move Coronamelder Download data from stage table to intermediate table';\n",
                "SET @process_source_name = 'SOURCE_Inter_Coronamelder_Downloads';\n",
                "\n",
                "SELECT TOP(1)\n",
                "    @process_id = processes.[ID]\n",
                "FROM [DATATINO_ORCHESTRATOR_1].[PROCESSES] processes\n",
                "INNER JOIN [DATATINO_ORCHESTRATOR_1].[V_WORKFLOWS] v_workflows ON v_workflows.[ID] = processes.[WORKFLOW_ID]\n",
                "INNER JOIN [DATATINO_ORCHESTRATOR_1].[V_PROCESSES] v_processes ON v_processes.[PROCESS_ID] = processes.[ID]\n",
                "WHERE v_processes.[PROCESS_NAME] = @process_name \n",
                "    AND v_workflows.[NAME] = @workflow_name;\n",
                "\n",
                "EXECUTE [DATATINO_ORCHESTRATOR_1].[UPSERT_PROCESS]\n",
                "    @id = @process_id,\n",
                "    @process_name = @process_name,\n",
                "    @description = @process_description,\n",
                "    @source_name = @process_source_name,\n",
                "    @schedule = '* * * * *',\n",
                "    @workflow_name = @workflow_name,\n",
                "    @active = 1;"
            ]
        },
        {
            "cell_type": "markdown",
            "metadata": {},
            "source": [
                "Load_Coronamelder_Positives"
            ]
        },
        {
            "cell_type": "code",
            "execution_count": null,
            "metadata": {},
            "outputs": [],
            "source": [
                "-- Copyright (c) 2020 De Staat der Nederlanden, Ministerie van   Volksgezondheid, Welzijn en Sport. \n",
                "-- Licensed under the EUROPEAN UNION PUBLIC LICENCE v. 1.2 - see https://github.com/minvws/nl-contact-tracing-app-coordinationfor more information.\n",
                "\n",
                "-- 1) UPSERT PROCESS(ES).....\n",
                "DECLARE @process_id INT,\n",
                "        @process_name NVARCHAR(256),\n",
                "        @process_description NVARCHAR(256),\n",
                "        @process_source_name VARCHAR(256),\n",
                "        @workflow_name NVARCHAR(50) = 'CORONAMELDER';\n",
                "\n",
                "-- 1.1) UPSERT TABLE PROCESS(ES): STAGING......\n",
                "SET @process_name = 'PROCESS_Load_Coronamelder_Positives';\n",
                "SET @process_description =  'Loads Coronamelder Positives Data';\n",
                "SET @process_source_name = 'SOURCE_Load_Coronamelder_Positives';\n",
                "\n",
                "SELECT TOP(1)\n",
                "    @process_id = processes.[ID]\n",
                "FROM [DATATINO_ORCHESTRATOR_1].[PROCESSES] processes\n",
                "INNER JOIN [DATATINO_ORCHESTRATOR_1].[V_WORKFLOWS] v_workflows ON v_workflows.[ID] = processes.[WORKFLOW_ID]\n",
                "INNER JOIN [DATATINO_ORCHESTRATOR_1].[V_PROCESSES] v_processes ON v_processes.[PROCESS_ID] = processes.[ID]\n",
                "WHERE v_processes.[PROCESS_NAME] = @process_name \n",
                "    AND v_workflows.[NAME] = @workflow_name;\n",
                "\n",
                "EXECUTE [DATATINO_ORCHESTRATOR_1].[UPSERT_PROCESS]\n",
                "    @id = @process_id,\n",
                "    @process_name = @process_name,\n",
                "    @description = @process_description,\n",
                "    @source_name = @process_source_name,\n",
                "    @schedule = '* * * * *',\n",
                "    @workflow_name = @workflow_name,\n",
                "    @active = 1;"
            ]
        },
        {
            "cell_type": "markdown",
            "metadata": {},
            "source": [
                "PROCESS_Inter_Coronamelder_Positives"
            ]
        },
        {
            "cell_type": "code",
            "execution_count": null,
            "metadata": {},
            "outputs": [],
            "source": [
                "-- Copyright (c) 2020 De Staat der Nederlanden, Ministerie van   Volksgezondheid, Welzijn en Sport. \n",
                "-- Licensed under the EUROPEAN UNION PUBLIC LICENCE v. 1.2 - see https://github.com/minvws/nl-contact-tracing-app-coordinationfor more information.\n",
                "\n",
                "-- 1) UPSERT PROCESS(ES).....\n",
                "DECLARE @process_id INT,\n",
                "        @process_name NVARCHAR(256),\n",
                "        @process_description NVARCHAR(256),\n",
                "        @process_source_name VARCHAR(256),\n",
                "        @workflow_name NVARCHAR(50) = 'CORONAMELDER';\n",
                "\n",
                "-- 1.1) UPSERT TABLE PROCESS(ES): STAGING......\n",
                "SET @process_name = 'PROCESS_Inter_Coronamelder_Positives';\n",
                "SET @process_description =  'Move Coronamelder Positives data from stage table to intermediate table';\n",
                "SET @process_source_name = 'SOURCE_Inter_Coronamelder_Positives';\n",
                "\n",
                "SELECT TOP(1)\n",
                "    @process_id = processes.[ID]\n",
                "FROM [DATATINO_ORCHESTRATOR_1].[PROCESSES] processes\n",
                "INNER JOIN [DATATINO_ORCHESTRATOR_1].[V_WORKFLOWS] v_workflows ON v_workflows.[ID] = processes.[WORKFLOW_ID]\n",
                "INNER JOIN [DATATINO_ORCHESTRATOR_1].[V_PROCESSES] v_processes ON v_processes.[PROCESS_ID] = processes.[ID]\n",
                "WHERE v_processes.[PROCESS_NAME] = @process_name \n",
                "    AND v_workflows.[NAME] = @workflow_name;\n",
                "\n",
                "EXECUTE [DATATINO_ORCHESTRATOR_1].[UPSERT_PROCESS]\n",
                "    @id = @process_id,\n",
                "    @process_name = @process_name,\n",
                "    @description = @process_description,\n",
                "    @source_name = @process_source_name,\n",
                "    @schedule = '* * * * *',\n",
                "    @workflow_name = @workflow_name,\n",
                "    @active = 1;"
            ]
        },
        {
            "cell_type": "markdown",
            "metadata": {},
            "source": [
                "PROCESS CORONAMELDER DEST"
            ]
        },
        {
            "cell_type": "code",
            "execution_count": null,
            "metadata": {},
            "outputs": [],
            "source": [
                "-- Copyright (c) 2020 De Staat der Nederlanden, Ministerie van   Volksgezondheid, Welzijn en Sport. \n",
                "-- Licensed under the EUROPEAN UNION PUBLIC LICENCE v. 1.2 - see https://github.com/minvws/nl-contact-tracing-app-coordinationfor more information.\n",
                "\n",
                "\n",
                "DECLARE @process_id INT,\n",
                "        @process_name NVARCHAR(256),\n",
                "        @process_description NVARCHAR(256),\n",
                "        @process_source_name VARCHAR(256),\n",
                "        @workflow_name NVARCHAR(50) = 'CORONAMELDER';\n",
                "\n",
                "-- 1.1) UPSERT TABLE PROCESS(ES): STAGING......\n",
                "SET @process_name = 'PROCESS_Dest_Coronamelder';\n",
                "SET @process_description =  'Move Coronamelder Downloads and Positives data from inter tables to production table';\n",
                "SET @process_source_name = 'SOURCE_Dest_Coronamelder';\n",
                "\n",
                "SELECT TOP(1)\n",
                "    @process_id = processes.[ID]\n",
                "FROM [DATATINO_ORCHESTRATOR_1].[PROCESSES] processes\n",
                "INNER JOIN [DATATINO_ORCHESTRATOR_1].[V_WORKFLOWS] v_workflows ON v_workflows.[ID] = processes.[WORKFLOW_ID]\n",
                "INNER JOIN [DATATINO_ORCHESTRATOR_1].[V_PROCESSES] v_processes ON v_processes.[PROCESS_ID] = processes.[ID]\n",
                "WHERE v_processes.[PROCESS_NAME] = @process_name \n",
                "    AND v_workflows.[NAME] = @workflow_name;\n",
                "\n",
                "EXECUTE [DATATINO_ORCHESTRATOR_1].[UPSERT_PROCESS]\n",
                "    @id = @process_id,\n",
                "    @process_name = @process_name,\n",
                "    @description = @process_description,\n",
                "    @source_name = @process_source_name,\n",
                "    @schedule = '* * * * *',\n",
                "    @workflow_name = @workflow_name,\n",
                "    @active = 1;"
            ]
        },
        {
            "cell_type": "markdown",
            "metadata": {},
            "source": [
                "Dependencies"
            ]
        },
        {
            "cell_type": "code",
            "execution_count": null,
            "metadata": {},
            "outputs": [],
            "source": [
                "-- Copyright (c) 2020 De Staat der Nederlanden, Ministerie van   Volksgezondheid, Welzijn en Sport. \n",
                "-- Licensed under the EUROPEAN UNION PUBLIC LICENCE v. 1.2 - see https://github.com/minvws/nl-contact-tracing-app-coordinationfor more information.\n",
                "\n",
                "-- 1) UPSERT DEPENDENC(Y)(IES) DEPENDENCY_PROCESS_Inter_Coronamelder_Downloads.....\n",
                "DECLARE @dependency_id INT,\n",
                "        @dependency_name NVARCHAR(256),\n",
                "        @dependency_description NVARCHAR(256),\n",
                "        @dependency_dataflow_name NVARCHAR(256),\n",
                "        @dependency_process_name NVARCHAR(256),\n",
                "        @workflow_name NVARCHAR(50) = 'CORONAMELDER';\n",
                "\n",
                "-- 1.1) UPSERT STAGING TO STORED PROCEDURE DEPENDENC(Y)(IES).....\n",
                "SET @dependency_name = 'DEPENDENCY_PROCESS_Inter_Coronamelder_Downloads';\n",
                "SET @dependency_dataflow_name = 'PROCESS_Inter_Coronamelder_Downloads';\n",
                "SET @dependency_process_name = 'PROCESS_Load_Coronamelder_Downloads';\n",
                "SET @dependency_description = 'Dependency for PROCESS_Inter_Coronamelder_Downloads';\n",
                "\n",
                "SELECT TOP(1)\n",
                "    @dependency_id = dependencies.[ID]\n",
                "FROM [DATATINO_ORCHESTRATOR_1].[DEPENDENCIES] dependencies\n",
                "INNER JOIN [DATATINO_ORCHESTRATOR_1].[V_DEPENDENCIES] v_dependencies ON v_dependencies.[ID] = dependencies.[ID]\n",
                "WHERE dependencies.[NAME] = @dependency_name\n",
                "    AND v_dependencies.[WORKFLOW_NAME] = @workflow_name\n",
                "    AND v_dependencies.[DEPENDENCY_NAME] = @dependency_process_name;\n",
                "\n",
                "EXECUTE [DATATINO_ORCHESTRATOR_1].[UPSERT_DEPENDENCY]\n",
                "    @id = @dependency_id,\n",
                "    @dataflow_name = @dependency_dataflow_name,\n",
                "    @dataflowtype_id = 2,\n",
                "    @dependency_name = @dependency_process_name,\n",
                "    @dependencytype_id = 2,\n",
                "    @workflow_name = @workflow_name,\n",
                "    @name = @dependency_name,\n",
                "    @description = @dependency_description,\n",
                "    @active = 1;\n",
                "\n",
                "\n",
                "-- 2) UPSERT DEPENDENC(Y)(IES) DEPENDENCY_PROCESS_Inter_Coronamelder_Positives....\n",
                "\n",
                "-- 2.1) UPSERT STAGING TO STORED PROCEDURE DEPENDENC(Y)(IES).....\n",
                "SET @dependency_name = 'DEPENDENCY_PROCESS_Inter_Coronamelder_Positives';\n",
                "SET @dependency_dataflow_name = 'PROCESS_Inter_Coronamelder_Positives';\n",
                "SET @dependency_process_name = 'PROCESS_Load_Coronamelder_Positives';\n",
                "SET @dependency_description = 'Dependency for PROCESS_Inter_Coronamelder_Positives';\n",
                "\n",
                "SELECT TOP(1)\n",
                "    @dependency_id = dependencies.[ID]\n",
                "FROM [DATATINO_ORCHESTRATOR_1].[DEPENDENCIES] dependencies\n",
                "INNER JOIN [DATATINO_ORCHESTRATOR_1].[V_DEPENDENCIES] v_dependencies ON v_dependencies.[ID] = dependencies.[ID]\n",
                "WHERE dependencies.[NAME] = @dependency_name\n",
                "    AND v_dependencies.[WORKFLOW_NAME] = @workflow_name\n",
                "    AND v_dependencies.[DEPENDENCY_NAME] = @dependency_process_name;\n",
                "\n",
                "EXECUTE [DATATINO_ORCHESTRATOR_1].[UPSERT_DEPENDENCY]\n",
                "    @id = @dependency_id,\n",
                "    @dataflow_name = @dependency_dataflow_name,\n",
                "    @dataflowtype_id = 2,\n",
                "    @dependency_name = @dependency_process_name,\n",
                "    @dependencytype_id = 2,\n",
                "    @workflow_name = @workflow_name,\n",
                "    @name = @dependency_name,\n",
                "    @description = @dependency_description,\n",
                "    @active = 1;\n",
                "\n",
                "-- 3)DEPENDENCY_PROCESS_Dest_Coronamelder....\n",
                "\n",
                "-- 3.1) UPSERT STAGING TO STORED PROCEDURE DEPENDENC(Y)(IES).....\n",
                "SET @dependency_name = 'DEPENDENCY_PROCESS_Dest_Coronamelder';\n",
                "SET @dependency_dataflow_name = 'PROCESS_Dest_Coronamelder';\n",
                "SET @dependency_process_name = 'PROCESS_Inter_Coronamelder_Downloads';\n",
                "SET @dependency_description = 'Dependency for PROCESS_Dest_Coronamelder';\n",
                "\n",
                "SELECT TOP(1)\n",
                "    @dependency_id = dependencies.[ID]\n",
                "FROM [DATATINO_ORCHESTRATOR_1].[DEPENDENCIES] dependencies\n",
                "INNER JOIN [DATATINO_ORCHESTRATOR_1].[V_DEPENDENCIES] v_dependencies ON v_dependencies.[ID] = dependencies.[ID]\n",
                "WHERE dependencies.[NAME] = @dependency_name\n",
                "    AND v_dependencies.[WORKFLOW_NAME] = @workflow_name\n",
                "    AND v_dependencies.[DEPENDENCY_NAME] = @dependency_process_name;\n",
                "\n",
                "EXECUTE [DATATINO_ORCHESTRATOR_1].[UPSERT_DEPENDENCY]\n",
                "    @id = @dependency_id,\n",
                "    @dataflow_name = @dependency_dataflow_name,\n",
                "    @dataflowtype_id = 2,\n",
                "    @dependency_name = @dependency_process_name,\n",
                "    @dependencytype_id = 2,\n",
                "    @workflow_name = @workflow_name,\n",
                "    @name = @dependency_name,\n",
                "    @description = @dependency_description,\n",
                "    @active = 1;\n",
                "\n",
                "-- 3.2) UPSERT STAGING TO STORED PROCEDURE DEPENDENC(Y)(IES).....\n",
                "SET @dependency_name = 'DEPENDENCY_PROCESS_Dest_Coronamelder';\n",
                "SET @dependency_dataflow_name = 'PROCESS_Dest_Coronamelder';\n",
                "SET @dependency_process_name = 'PROCESS_Inter_Coronamelder_Positives';\n",
                "SET @dependency_description = 'Dependency for PROCESS_Dest_Coronamelder';\n",
                "\n",
                "SELECT TOP(1)\n",
                "    @dependency_id = dependencies.[ID]\n",
                "FROM [DATATINO_ORCHESTRATOR_1].[DEPENDENCIES] dependencies\n",
                "INNER JOIN [DATATINO_ORCHESTRATOR_1].[V_DEPENDENCIES] v_dependencies ON v_dependencies.[ID] = dependencies.[ID]\n",
                "WHERE dependencies.[NAME] = @dependency_name\n",
                "    AND v_dependencies.[WORKFLOW_NAME] = @workflow_name\n",
                "    AND v_dependencies.[DEPENDENCY_NAME] = @dependency_process_name;\n",
                "\n",
                "EXECUTE [DATATINO_ORCHESTRATOR_1].[UPSERT_DEPENDENCY]\n",
                "    @id = @dependency_id,\n",
                "    @dataflow_name = @dependency_dataflow_name,\n",
                "    @dataflowtype_id = 2,\n",
                "    @dependency_name = @dependency_process_name,\n",
                "    @dependencytype_id = 2,\n",
                "    @workflow_name = @workflow_name,\n",
                "    @name = @dependency_name,\n",
                "    @description = @dependency_description,\n",
                "    @active = 1;"
            ]
        }
    ],
    "metadata": {
        "kernelspec": {
            "display_name": "SQL",
            "language": "sql",
            "name": "SQL"
        },
        "language_info": {
            "name": "sql",
            "version": ""
        }
    },
    "nbformat": 4,
    "nbformat_minor": 2
}
