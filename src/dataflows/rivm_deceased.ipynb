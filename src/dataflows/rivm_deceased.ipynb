{
    "cells": [
        {
            "attachments": {},
            "cell_type": "markdown",
            "metadata": {
                "azdata_cell_guid": "5cdc0d05-c1b4-453a-a8a4-4cfc9a1015ad"
            },
            "source": [
                "```sql\n",
                "-- COPYRIGHT (C) 2020 DE STAAT DER NEDERLANDEN, MINISTERIE VAN   VOLKSGEZONDHEID, WELZIJN EN SPORT.\n",
                "-- LICENSED UNDER THE EUROPEAN UNION PUBLIC LICENCE V. 1.2 - SEE HTTPS://GITHUB.COM/MINVWS/NL-CONTACT-TRACING-APP-COORDINATIONFOR MORE INFORMATION.\n",
                "```\n",
                "\n",
                "# **INTRODUCTIONS**\n"
            ]
        },
        {
            "attachments": {},
            "cell_type": "markdown",
            "metadata": {
                "azdata_cell_guid": "ce7a3bc7-6986-4d81-bf27-1a2818c095ce"
            },
            "source": [
                "# **DEPENDENCIES**\n",
                "\n",
                "---\n",
                "\n",
                "```json\n",
                "{\n",
                "    \"depends-on\": [\n",
                "        \"src/utils/conversions.ipynb\",\n",
                "        \"src/utils/schemas.ipynb\",\n",
                "        \"src/utils/protos.ipynb\"\n",
                "    ]\n",
                "}\n",
                "```"
            ]
        },
        {
            "attachments": {},
            "cell_type": "markdown",
            "metadata": {},
            "source": [
                "# **TABLES**\n",
                "---"
            ]
        },
        {
            "cell_type": "code",
            "execution_count": null,
            "metadata": {},
            "outputs": [],
            "source": [
                "-- COPYRIGHT (C) 2020 DE STAAT DER NEDERLANDEN, MINISTERIE VAN VOLKSGEZONDHEID, WELZIJN EN SPORT.\n",
                "-- LICENSED UNDER THE EUROPEAN UNION PUBLIC LICENCE V. 1.2 - SEE HTTPS://GITHUB.COM/MINVWS/NL-CONTACT-TRACING-APP-COORDINATION FOR MORE INFORMATION.\n",
                "\n",
                "SET ANSI_NULLS ON\n",
                "GO\n",
                "\n",
                "SET QUOTED_IDENTIFIER ON\n",
                "GO\n",
                "\n",
                "-- 1) CREATE TABLE(S).....\n",
                "IF NOT EXISTS(SELECT * FROM SYS.TABLES WHERE [OBJECT_ID] = OBJECT_ID(N'[VWSDEST].[RIVM_DECEASED_DAILY_PER_REGION]'))\n",
                "BEGIN\n",
                "CREATE TABLE [VWSDEST].[RIVM_DECEASED_DAILY_PER_REGION](\n",
                "\t[ID] [INT] PRIMARY KEY IDENTITY(1,1),\n",
                "\t[DATE_OF_REPORT] [datetime] NULL,\n",
                "\t[DATE_OF_REPORT_UNIX] [bigint] NULL,\n",
                "\t[DECEASED_ACTUAL] [int] NULL,\n",
                "\t[DECEASED_CUMULATIVE] [int] NULL,\n",
                "\t[VRCODE] [varchar](5) NULL,\n",
                "\t[DATE_LAST_INSERTED] [datetime] NULL DEFAULT GETDATE(),\n",
                "\t[WEEK_START] [datetime] NULL,\n",
                "\t[DECEASED_7D_AVG] [decimal](16, 2) NULL,\n",
                "\t[WEEK_START_LAG] [datetime] NULL,\n",
                "\t[DECEASED_7D_AVG_LAG] [decimal](16, 2) NULL\n",
                ")\n",
                "GO\n",
                "\n",
                "END\n"
            ]
        },
        {
            "cell_type": "code",
            "execution_count": null,
            "metadata": {},
            "outputs": [],
            "source": [
                "-- COPYRIGHT (C) 2020 DE STAAT DER NEDERLANDEN, MINISTERIE VAN VOLKSGEZONDHEID, WELZIJN EN SPORT.\n",
                "-- LICENSED UNDER THE EUROPEAN UNION PUBLIC LICENCE V. 1.2 - SEE HTTPS://GITHUB.COM/MINVWS/NL-CONTACT-TRACING-APP-COORDINATION FOR MORE INFORMATION.\n",
                "\n",
                "SET ANSI_NULLS ON\n",
                "GO\n",
                "\n",
                "SET QUOTED_IDENTIFIER ON\n",
                "GO\n",
                "\n",
                "-- 1) CREATE TABLE(S).....\n",
                "IF NOT EXISTS(SELECT * FROM SYS.TABLES WHERE [OBJECT_ID] = OBJECT_ID(N'[VWSDEST].[RIVM_DECEASED_DAILY_PER_MUNICIPALITY]'))\n",
                "BEGIN\n",
                "CREATE TABLE [VWSDEST].[RIVM_DECEASED_DAILY_PER_MUNICIPALITY](\n",
                "\t[ID] [INT] PRIMARY KEY IDENTITY(1,1),\n",
                "\t[DATE_OF_REPORT] [datetime] NULL,\n",
                "\t[DATE_OF_REPORT_UNIX] [bigint] NULL,\n",
                "\t[MUNICIPALITY_CODE] [varchar](10) NULL,\n",
                "\t[OLD_DATE_OF_REPORT] [datetime] NULL,\n",
                "\t[OLD_DATE_OF_REPORT_UNIX] [bigint] NULL,\n",
                "\t[OLD_VALUE] [int] NULL,\n",
                "\t[DIFFERENCE] [int] NULL,\n",
                "\t[DECEASED_ACTUAL] [int] NULL,\n",
                "\t[DECEASED_CUMULATIVE] [int] NULL,\n",
                "\t[DATE_LAST_INSERTED] [datetime] NULL DEFAULT GETDATE(),\n",
                "\t[WEEK_START] [datetime] NULL,\n",
                "\t[DECEASED_7D_AVG] [decimal](16, 2) NULL,\n",
                "\t[WEEK_START_LAG] [datetime] NULL,\n",
                "\t[DECEASED_7D_AVG_LAG] [decimal](16, 2) NULL\n",
                ")\n",
                "GO\n",
                "\n",
                "END\n"
            ]
        },
        {
            "cell_type": "code",
            "execution_count": null,
            "metadata": {},
            "outputs": [],
            "source": [
                "-- COPYRIGHT (C) 2020 DE STAAT DER NEDERLANDEN, MINISTERIE VAN VOLKSGEZONDHEID, WELZIJN EN SPORT.\n",
                "-- LICENSED UNDER THE EUROPEAN UNION PUBLIC LICENCE V. 1.2 - SEE HTTPS://GITHUB.COM/MINVWS/NL-CONTACT-TRACING-APP-COORDINATION FOR MORE INFORMATION.\n",
                "\n",
                "SET ANSI_NULLS ON\n",
                "GO\n",
                "\n",
                "SET QUOTED_IDENTIFIER ON\n",
                "GO\n",
                "\n",
                "-- 1) CREATE TABLE(S).....\n",
                "IF NOT EXISTS(SELECT * FROM SYS.TABLES WHERE [OBJECT_ID] = OBJECT_ID(N'[VWSDEST].[RIVM_DECEASED_PER_WEEK]'))\n",
                "BEGIN\n",
                "CREATE TABLE [VWSDEST].[RIVM_DECEASED_PER_WEEK](\n",
                "\t[ID] [INT] PRIMARY KEY IDENTITY(1,1),\n",
                "\t[WEEK_START] [datetime] NULL,\n",
                "\t[WEEK_END] [datetime] NULL,\n",
                "\t[WEEK_START_UNIX] [bigint] NULL,\n",
                "\t[WEEK_END_UNIX] [bigint] NULL,\n",
                "\t[DECEASED_ACTUAL] [int] NULL,\n",
                "\t[VRCODE] [varchar](5) NULL,\n",
                "\t[DATE_LAST_INSERTED] [datetime] NULL DEFAULT GETDATE()\n",
                ")\n",
                "GO\n",
                "\n",
                "END\n"
            ]
        },
        {
            "cell_type": "markdown",
            "metadata": {
                "azdata_cell_guid": "b883932e-c47b-4de6-9629-eca0ff8aeabb"
            },
            "source": [
                "# **VIEWS**\n",
                "---"
            ]
        },
        {
            "attachments": {},
            "cell_type": "markdown",
            "metadata": {},
            "source": [
                "### V_RIVM_DECEASED_DAILY_NATIONAL"
            ]
        },
        {
            "cell_type": "code",
            "execution_count": null,
            "metadata": {},
            "outputs": [],
            "source": [
                "-- Copyright (c) 2020 De Staat der Nederlanden, Ministerie van   Volksgezondheid, Welzijn en Sport. \n",
                "-- Licensed under the EUROPEAN UNION PUBLIC LICENCE v. 1.2 - see https://github.com/minvws/nl-contact-tracing-app-coordinationfor more information.\n",
                "CREATE OR ALTER VIEW [VWSDEST].[V_RIVM_DECEASED_DAILY_NATIONAL]\n",
                "AS\n",
                "--Retrieve the totals deceased on NL level by summing the region numbers.\n",
                "WITH BASE_CTE AS (\n",
                "        SELECT\n",
                "        SUM(DECEASED_ACTUAL) AS DECEASED_ACTUAL\n",
                "    ,   DATE_OF_REPORT_UNIX\n",
                "    , DATE_LAST_INSERTED\n",
                "    FROM VWSDEST.RIVM_DECEASED_DAILY_PER_REGION\n",
                "    WHERE DATE_LAST_INSERTED = (SELECT MAX(DATE_LAST_INSERTED) FROM VWSDEST.RIVM_DECEASED_DAILY_PER_REGION)\n",
                "    GROUP BY DATE_OF_REPORT_UNIX, DATE_LAST_INSERTED\n",
                ")\n",
                ",\n",
                "--Determine the cumulative number as COVID_TOTAL\n",
                "SECOND_CTE AS\n",
                "(\n",
                "    SELECT\n",
                "        a.DECEASED_ACTUAL AS COVID_DAILY\n",
                "    ,   SUM(DECEASED_ACTUAL) OVER(ORDER BY DATE_OF_REPORT_UNIX ROWS BETWEEN UNBOUNDED PRECEDING AND CURRENT ROW) AS COVID_TOTAL\n",
                "    ,   DATE_OF_REPORT_UNIX AS DATE_UNIX\n",
                "    ,   [dbo].[CONVERT_DATETIME_TO_UNIX](DATE_LAST_INSERTED) AS DATE_OF_INSERTION_UNIX\n",
                "\n",
                "    -- 7d average\n",
                "\t,LAG ([DATE_OF_REPORT_UNIX] ,6) OVER (ORDER BY [DATE_OF_REPORT_UNIX] ASC) WEEK_START\n",
                "\t,LAG ([DATE_OF_REPORT_UNIX] ,7) OVER (ORDER BY [DATE_OF_REPORT_UNIX] ASC) WEEK_START_LAG\n",
                "\t,AVG(CAST([DECEASED_ACTUAL] AS FLOAT)) OVER (ORDER BY DATE_OF_REPORT_UNIX ASC ROWS BETWEEN 6 PRECEDING AND CURRENT ROW) as DECEASED_7D_AVG\n",
                "\t,AVG(CAST([DECEASED_ACTUAL] AS FLOAT)) OVER (ORDER BY DATE_OF_REPORT_UNIX ASC ROWS BETWEEN 7 PRECEDING AND 1 PRECEDING) as DECEASED_7D_AVG_LAG\n",
                "\t\n",
                "    FROM BASE_CTE a\n",
                ")\n",
                "\n",
                "SELECT\n",
                "    COVID_DAILY\n",
                ",   IIF(WEEK_START IS NULL, NULL, ROUND(DECEASED_7D_AVG,1)) AS COVID_DAILY_MOVING_AVERAGE\n",
                ",   COVID_TOTAL\n",
                ",   DATE_UNIX\n",
                ",   DATE_OF_INSERTION_UNIX\n",
                "FROM SECOND_CTE\n",
                "WHERE dbo.CONVERT_UNIX_TO_DATETIME(DATE_UNIX) < '2023-01-01' -- added as RIVM reports 9999 after this date\n",
                "GO\n",
                "\n",
                "\n"
            ]
        },
        {
            "attachments": {},
            "cell_type": "markdown",
            "metadata": {},
            "source": [
                "### V_RIVM_DECEASED_DAILY_PER_MUNICIPALITY"
            ]
        },
        {
            "cell_type": "code",
            "execution_count": null,
            "metadata": {},
            "outputs": [],
            "source": [
                "-- Copyright (c) 2020 De Staat der Nederlanden, Ministerie van   Volksgezondheid, Welzijn en Sport. \n",
                "-- Licensed under the EUROPEAN UNION PUBLIC LICENCE v. 1.2 - see https://github.com/minvws/nl-contact-tracing-app-coordinationfor more information.\n",
                "CREATE OR ALTER VIEW [VWSDEST].[V_RIVM_DECEASED_DAILY_PER_MUNICIPALITY]\n",
                "AS\n",
                "\n",
                "SELECT\n",
                "    DECEASED_ACTUAL AS COVID_DAILY\n",
                ",   DECEASED_7D_AVG AS COVID_DAILY_MOVING_AVERAGE\n",
                ",\tDECEASED_CUMULATIVE AS COVID_TOTAL\n",
                ",\tMUNICIPALITY_CODE AS GMCODE\n",
                ",   DATE_OF_REPORT_UNIX AS DATE_UNIX\n",
                ",   [dbo].[CONVERT_DATETIME_TO_UNIX](DATE_LAST_INSERTED) AS DATE_OF_INSERTION_UNIX\n",
                "FROM VWSDEST.RIVM_DECEASED_DAILY_PER_MUNICIPALITY\n",
                "WHERE DATE_LAST_INSERTED = (SELECT MAX(DATE_LAST_INSERTED) FROM VWSDEST.RIVM_DECEASED_DAILY_PER_MUNICIPALITY)\n",
                "AND dbo.CONVERT_UNIX_TO_DATETIME(DATE_OF_REPORT_UNIX) < '2023-01-01' -- added as RIVM reports 9999 after this date\n",
                "GO\n",
                "\n",
                "\n"
            ]
        },
        {
            "attachments": {},
            "cell_type": "markdown",
            "metadata": {},
            "source": [
                "### V_RIVM_DECEASED_DAILY_REGIONAL"
            ]
        },
        {
            "cell_type": "code",
            "execution_count": null,
            "metadata": {},
            "outputs": [],
            "source": [
                "-- Copyright (c) 2020 De Staat der Nederlanden, Ministerie van   Volksgezondheid, Welzijn en Sport. \n",
                "-- Licensed under the EUROPEAN UNION PUBLIC LICENCE v. 1.2 - see https://github.com/minvws/nl-contact-tracing-app-coordinationfor more information.\n",
                "CREATE OR ALTER VIEW [VWSDEST].[V_RIVM_DECEASED_DAILY_REGIONAL]\n",
                "AS\n",
                "SELECT\n",
                "    DECEASED_ACTUAL AS COVID_DAILY\n",
                ",   DECEASED_7D_AVG AS COVID_DAILY_MOVING_AVERAGE\n",
                ",   DECEASED_CUMULATIVE AS COVID_TOTAL\n",
                ",   VRCODE\n",
                ",   DATE_OF_REPORT_UNIX AS DATE_UNIX\n",
                ",   DBO.CONVERT_DATETIME_TO_UNIX(DATE_LAST_INSERTED) AS DATE_OF_INSERTION_UNIX\n",
                "FROM VWSDEST.RIVM_DECEASED_DAILY_PER_REGION\n",
                "WHERE DATE_LAST_INSERTED = (SELECT MAX(DATE_LAST_INSERTED) FROM VWSDEST.RIVM_DECEASED_DAILY_PER_REGION)\n",
                "AND dbo.CONVERT_UNIX_TO_DATETIME(DATE_OF_REPORT_UNIX) < '2023-01-01' -- added as RIVM reports 9999 after this date\n",
                "GO\n",
                "\n",
                "\n"
            ]
        },
        {
            "attachments": {},
            "cell_type": "markdown",
            "metadata": {},
            "source": [
                "### V_RIVM_DECEASED_PER_WEEK"
            ]
        },
        {
            "cell_type": "code",
            "execution_count": null,
            "metadata": {},
            "outputs": [],
            "source": [
                "-- Copyright (c) 2020 De Staat der Nederlanden, Ministerie van   Volksgezondheid, Welzijn en Sport. \n",
                "-- Licensed under the EUROPEAN UNION PUBLIC LICENCE v. 1.2 - see https://github.com/minvws/nl-contact-tracing-app-coordinationfor more information.\n",
                "CREATE OR ALTER VIEW [VWSDEST].[V_RIVM_DECEASED_PER_WEEK]\n",
                "AS\n",
                "WITH BASE_CTE AS (\n",
                "    SELECT\n",
                "    SUM(DECEASED_ACTUAL) AS DECEASED_ACTUAL\n",
                ",   WEEK_START_UNIX AS WEEK_START_UNIX\n",
                ",   MAX(DATE_LAST_INSERTED) AS DATE_LAST_INSERTED\n",
                "FROM [VWSDEST].[RIVM_DECEASED_PER_WEEK]\n",
                "WHERE WEEK_START >= '2020-03-16 00:00:00.000'\n",
                "AND DATE_LAST_INSERTED = (SELECT MAX(DATE_LAST_INSERTED) FROM [VWSDEST].[RIVM_DECEASED_PER_WEEK])\n",
                "GROUP BY WEEK_START_UNIX\n",
                ")\n",
                "\n",
                "SELECT\n",
                "    DECEASED_ACTUAL AS COVID_DAILY\n",
                ",   SUM(DECEASED_ACTUAL) OVER(ORDER BY WEEK_START_UNIX ROWS BETWEEN UNBOUNDED PRECEDING AND CURRENT ROW) AS COVID_TOTAL\n",
                ",   WEEK_START_UNIX AS DATE_UNIX\n",
                ",   [dbo].[CONVERT_DATETIME_TO_UNIX](DATE_LAST_INSERTED) AS DATE_OF_INSERTION_UNIX\n",
                "FROM BASE_CTE\n",
                "WHERE dbo.CONVERT_UNIX_TO_DATETIME(WEEK_START_UNIX) < '2023-01-01' -- added as RIVM reports 9999 after this date\n",
                "GO\n",
                "\n",
                "\n"
            ]
        },
        {
            "attachments": {},
            "cell_type": "markdown",
            "metadata": {},
            "source": [
                "### V_RIVM_DECEASED_PER_WEEK_PER_REGION"
            ]
        },
        {
            "cell_type": "code",
            "execution_count": null,
            "metadata": {},
            "outputs": [],
            "source": [
                "-- Copyright (c) 2020 De Staat der Nederlanden, Ministerie van   Volksgezondheid, Welzijn en Sport. \n",
                "-- Licensed under the EUROPEAN UNION PUBLIC LICENCE v. 1.2 - see https://github.com/minvws/nl-contact-tracing-app-coordinationfor more information.\n",
                "CREATE OR ALTER VIEW [VWSDEST].[V_RIVM_DECEASED_PER_WEEK_PER_REGION]\n",
                "AS\n",
                "SELECT\n",
                "    DECEASED_ACTUAL AS COVID_DAILY\n",
                ",   SUM(DECEASED_ACTUAL) OVER(PARTITION BY VRCODE ORDER BY WEEK_START_UNIX ROWS BETWEEN UNBOUNDED PRECEDING AND CURRENT ROW) AS COVID_TOTAL\n",
                ",   VRCODE\n",
                ",   WEEK_START_UNIX AS DATE_UNIX\n",
                ",   [dbo].[CONVERT_DATETIME_TO_UNIX](DATE_LAST_INSERTED) AS DATE_OF_INSERTION_UNIX\n",
                "FROM [VWSDEST].[RIVM_DECEASED_PER_WEEK]\n",
                "WHERE WEEK_START >= '2020-03-16 00:00:00.000'\n",
                "AND DATE_LAST_INSERTED = (SELECT MAX(DATE_LAST_INSERTED) FROM [VWSDEST].[RIVM_DECEASED_PER_WEEK])\n",
                "AND dbo.CONVERT_UNIX_TO_DATETIME(WEEK_START_UNIX) < '2023-01-01' -- added as RIVM reports 9999 after this date\n",
                "GO\n",
                "\n",
                "\n"
            ]
        }
    ],
    "metadata": {
        "kernelspec": {
            "display_name": "SQL",
            "language": "sql",
            "name": "SQL"
        },
        "language_info": {
            "name": "sql",
            "version": ""
        }
    },
    "nbformat": 4,
    "nbformat_minor": 2
}
