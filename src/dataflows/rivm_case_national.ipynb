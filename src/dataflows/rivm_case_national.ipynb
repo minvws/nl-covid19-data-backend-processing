{
    "cells": [
        {
            "cell_type": "markdown",
            "metadata": {
                "azdata_cell_guid": "a1bff903-eb61-4e65-82a1-c4e918bbcac8"
            },
            "source": [
                "# **INTRODUCTIONS**\n",
                "\n",
                "---\n",
                "\n",
                "The code is separated into multiple sections:\n",
                "\n",
                "1. **[Stored Procedures](#stored-procedures)**"
            ]
        },
        {
            "cell_type": "markdown",
            "metadata": {},
            "source": [
                "# **DEPENDENCIES**\n",
                "\n",
                "---\n",
                "\n",
                "```json\n",
                "{\n",
                "    \"depends-on\": [\n",
                "        \"src/utils/schemas.ipynb\"\n",
                "    ]\n",
                "}\n",
                "```"
            ]
        },
        {
            "cell_type": "markdown",
            "metadata": {
                "azdata_cell_guid": "b883932e-c47b-4de6-9629-eca0ff8aeabb"
            },
            "source": [
                "# **STORED PROCEDURES**\n",
                "\n",
                "---"
            ]
        },
        {
            "cell_type": "markdown",
            "metadata": {},
            "source": [
                "### STAGING &rarr; ARCHIVING MAPPING"
            ]
        },
        {
            "cell_type": "code",
            "execution_count": null,
            "metadata": {},
            "outputs": [],
            "source": [
                "-- COPYRIGHT (C) 2020 DE STAAT DER NEDERLANDEN, MINISTERIE VAN   VOLKSGEZONDHEID, WELZIJN EN SPORT.\n",
                "-- LICENSED UNDER THE EUROPEAN UNION PUBLIC LICENCE V. 1.2 - SEE HTTPS://GITHUB.COM/MINVWS/NL-CONTACT-TRACING-APP-COORDINATIONFOR MORE INFORMATION.\n",
                "\n",
                "-- 1) CREATE STORE PROCEDURE(S) STAGING -> ARCHIVE.....\n",
                "CREATE OR ALTER PROCEDURE [dbo].[SP_RIVM_COVID_19_CASE_NATIONAL_STAGE_TO_ARCHIVE] (\n",
                "    @max_datasets AS [INT] = 0\n",
                ")\n",
                "AS\n",
                "BEGIN\n",
                "\n",
                "    IF @max_datasets = 0 PRINT '>> Maximum number of datasets set to 0, no datasets are archived.'\n",
                "\n",
                "    BEGIN TRANSACTION;\n",
                "\n",
                "        SELECT DISTINCT TOP(@max_datasets)\n",
                "            [DATE_LAST_INSERTED]\n",
                "        INTO #DATE_LAST_INSERTIONS\n",
                "        FROM [VWSSTAGE].[RIVM_COVID_19_CASE_NATIONAL] \n",
                "        WHERE [DATE_LAST_INSERTED] < CONVERT(DATE, DATEADD(DAY, -2, GETDATE()))\n",
                "\n",
                "        SELECT\n",
                "            [DATE_FILE],\n",
                "            [DATE_STATISTICS],\n",
                "            [DATE_STATISTICS_TYPE],\n",
                "            [AGEGROUP],\n",
                "            [SEX],\n",
                "            [PROVINCE],\n",
                "            [HOSPITAL_ADMISSION],\n",
                "            [DECEASED],\n",
                "            [WEEK_OF_DEATH],\n",
                "            [MUNICIPAL_HEALTH_SERVICE],\n",
                "            c19cn.[DATE_LAST_INSERTED]\n",
                "        FROM [VWSSTAGE].[RIVM_COVID_19_CASE_NATIONAL] c19cn\n",
                "        INNER JOIN #DATE_LAST_INSERTIONS dli \n",
                "            ON dli.[DATE_LAST_INSERTED] = c19cn.[DATE_LAST_INSERTED]\n",
                "\n",
                "        DELETE c19cn\n",
                "        FROM [VWSSTAGE].[RIVM_COVID_19_CASE_NATIONAL] c19cn\n",
                "        INNER JOIN #DATE_LAST_INSERTIONS dli \n",
                "            ON dli.[DATE_LAST_INSERTED] = c19cn.[DATE_LAST_INSERTED]\n",
                "\n",
                "        DROP TABLE IF EXISTS #DATE_LAST_INSERTIONS\n",
                "\n",
                "    COMMIT;\n",
                "END\n",
                "GO\n"
            ]
        },
        {
            "cell_type": "markdown",
            "metadata": {},
            "source": [
                "### INTERMEDIATE &rarr; ARCHIVING MAPPING"
            ]
        },
        {
            "cell_type": "code",
            "execution_count": null,
            "metadata": {},
            "outputs": [],
            "source": [
                "-- COPYRIGHT (C) 2020 DE STAAT DER NEDERLANDEN, MINISTERIE VAN   VOLKSGEZONDHEID, WELZIJN EN SPORT.\n",
                "-- LICENSED UNDER THE EUROPEAN UNION PUBLIC LICENCE V. 1.2 - SEE HTTPS://GITHUB.COM/MINVWS/NL-CONTACT-TRACING-APP-COORDINATIONFOR MORE INFORMATION.\n",
                "\n",
                "-- 1) CREATE STORE PROCEDURE(S) INTER -> ARCHIVE.....\n",
                "CREATE OR ALTER PROCEDURE [dbo].[SP_RIVM_COVID_19_CASE_NATIONAL_INTER_TO_ARCHIVE] (\n",
                "    @max_datasets AS [INT] = 0\n",
                ")\n",
                "AS\n",
                "BEGIN\n",
                "\n",
                "    IF @max_datasets = 0 PRINT '>> Maximum number of datasets set to 0, no datasets are archived.'\n",
                "\n",
                "    BEGIN TRANSACTION;\n",
                "\n",
                "        SELECT DISTINCT TOP(@max_datasets)\n",
                "            [DATE_LAST_INSERTED]\n",
                "        INTO #DATE_LAST_INSERTIONS\n",
                "        FROM [VWSINTER].[RIVM_COVID_19_CASE_NATIONAL] \n",
                "        WHERE [DATE_LAST_INSERTED] < CONVERT(DATE, DATEADD(DAY, -2, GETDATE()))\n",
                "\n",
                "        SELECT\n",
                "            [DATE_FILE],\n",
                "            [DATE_STATISTICS],\n",
                "            [DATE_STATISTICS_TYPE],\n",
                "            [AGEGROUP],\n",
                "            [SEX],\n",
                "            [PROVINCE],\n",
                "            [HOSPITAL_ADMISSION],\n",
                "            [DECEASED],\n",
                "            [WEEK_OF_DEATH],\n",
                "            [MUNICIPAL_HEALTH_SERVICE],\n",
                "            c19cn.[DATE_LAST_INSERTED]\n",
                "        FROM [VWSINTER].[RIVM_COVID_19_CASE_NATIONAL] c19cn\n",
                "        INNER JOIN #DATE_LAST_INSERTIONS dli \n",
                "            ON dli.[DATE_LAST_INSERTED] = c19cn.[DATE_LAST_INSERTED]\n",
                "\n",
                "        DELETE c19cn\n",
                "        FROM [VWSINTER].[RIVM_COVID_19_CASE_NATIONAL] c19cn\n",
                "        INNER JOIN #DATE_LAST_INSERTIONS dli \n",
                "            ON dli.[DATE_LAST_INSERTED] = c19cn.[DATE_LAST_INSERTED]\n",
                "\n",
                "        DROP TABLE IF EXISTS #DATE_LAST_INSERTIONS\n",
                "\n",
                "    COMMIT;\n",
                "END\n",
                "GO\n"
            ]
        }
    ],
    "metadata": {
        "kernelspec": {
            "display_name": "SQL",
            "language": "sql",
            "name": "SQL"
        },
        "language_info": {
            "name": "sql",
            "version": ""
        }
    },
    "nbformat": 4,
    "nbformat_minor": 2
}
