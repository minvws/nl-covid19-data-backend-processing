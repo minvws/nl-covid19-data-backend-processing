{
 "cells": [
  {
   "cell_type": "markdown",
   "metadata": {
    "azdata_cell_guid": "2c0a8376-0141-4626-8cfb-afda29c8063b"
   },
   "source": [
    "Here we create a table for the \"static part\" of the Case National file: the numbers of Covid-19 infected people per day."
   ]
  },
  {
   "cell_type": "markdown",
   "metadata": {},
   "source": [
    "# **DEPENDENCIES**\n",
    "\n",
    "---\n",
    "\n",
    "```json\n",
    "{\n",
    "    \"depends-on\": [\n",
    "        \"src/utils/conversions.ipynb\",\n",
    "        \"src/utils/schemas.ipynb\",\n",
    "        \"src/utils/protos.ipynb\"\n",
    "    ]\n",
    "}\n",
    "```"
   ]
  },
  {
   "cell_type": "code",
   "execution_count": null,
   "metadata": {
    "dotnet_interactive": {
     "language": "sql"
    },
    "vscode": {
     "languageId": "dotnet-interactive.sql"
    }
   },
   "outputs": [],
   "source": [
    "IF NOT EXISTS (SELECT * FROM sys.tables WHERE [object_id] = OBJECT_ID('[VWSINTER].[RIVM_COVID_19_CASE_NATIONAL]'))\n",
    "CREATE TABLE [VWSINTER].[RIVM_COVID_19_CASE_NATIONAL](\n",
    "\t[ID] [bigint] IDENTITY (1,1) NOT NULL,\n",
    "\t[DATE_FILE] [datetime] NULL,\n",
    "\t[DATE_STATISTICS] [datetime] NULL,\n",
    "\t[DATE_STATISTICS_TYPE] [varchar](100) NULL,\n",
    "\t[AGEGROUP] [varchar](100) NULL,\n",
    "\t[SEX] [varchar](100) NULL,\n",
    "\t[PROVINCE] [varchar](100) NULL,\n",
    "\t[HOSPITAL_ADMISSION] [varchar](100) NULL,\n",
    "\t[DECEASED] [varchar](100) NULL,\n",
    "\t[WEEK_OF_DEATH] [varchar](100) NULL,\n",
    "\t[MUNICIPAL_HEALTH_SERVICE] [varchar](100) NULL,\n",
    "\t[DATE_LAST_INSERTED] [datetime]  DEFAULT GETDATE()\n",
    ") ON [PRIMARY]\n",
    "GO\n",
    "\n",
    "--Check if [VWSINTER].[RIVM_COVID_19_CASE_NATIONAL] has identity column\n",
    "IF NOT EXISTS (SELECT * from syscolumns where id = Object_ID('[VWSINTER].[RIVM_COVID_19_CASE_NATIONAL]') and colstat & 1 = 1)\n",
    "BEGIN\n",
    " \n",
    "\t\t--else drop seq and table and create the table in a correct way\n",
    "\t\tDROP TABLE IF EXISTS [VWSINTER].[RIVM_COVID_19_CASE_NATIONAL]\n",
    "\t\n",
    "\t\tSET QUOTED_IDENTIFIER ON\n",
    "\t\tSET ARITHABORT ON\n",
    "\t\tSET NUMERIC_ROUNDABORT OFF\n",
    "\t\tSET CONCAT_NULL_YIELDS_NULL ON\n",
    "\t\tSET ANSI_NULLS ON\n",
    "\t\tSET ANSI_PADDING ON\n",
    "\t\tSET ANSI_WARNINGS ON\n",
    "\t\t\n",
    "\t\t\n",
    "\t\tCREATE TABLE [VWSINTER].[RIVM_COVID_19_CASE_NATIONAL](\n",
    "\t\t\t[ID] [bigint] IDENTITY (1,1) NOT NULL,\n",
    "\t\t\t[DATE_FILE] [datetime] NULL,\n",
    "\t\t\t[DATE_STATISTICS] [datetime] NULL,\n",
    "\t\t\t[DATE_STATISTICS_TYPE] [varchar](100) NULL,\n",
    "\t\t\t[AGEGROUP] [varchar](100) NULL,\n",
    "\t\t\t[SEX] [varchar](100) NULL,\n",
    "\t\t\t[PROVINCE] [varchar](100) NULL,\n",
    "\t\t\t[HOSPITAL_ADMISSION] [varchar](100) NULL,\n",
    "\t\t\t[DECEASED] [varchar](100) NULL,\n",
    "\t\t\t[WEEK_OF_DEATH] [varchar](100) NULL,\n",
    "\t\t\t[MUNICIPAL_HEALTH_SERVICE] [varchar](100) NULL,\n",
    "\t\t\t[DATE_LAST_INSERTED] [datetime]  DEFAULT GETDATE()\n",
    "\t\t) ON [PRIMARY]\n",
    "\n",
    "END\n",
    "\n",
    "\n"
   ]
  },
  {
   "cell_type": "code",
   "execution_count": null,
   "metadata": {
    "azdata_cell_guid": "8772b6fa-b725-4469-94e0-570bec1c65b0",
    "dotnet_interactive": {
     "language": "sql"
    },
    "language": "sql",
    "vscode": {
     "languageId": "dotnet-interactive.sql"
    }
   },
   "outputs": [],
   "source": [
    "IF NOT EXISTS (SELECT * FROM sys.tables WHERE [object_id] = OBJECT_ID('[VWSSTATIC].[RIVM_COVID_19_CASE_NATIONAL]'))\n",
    "CREATE TABLE [VWSSTATIC].[RIVM_COVID_19_CASE_NATIONAL](\n",
    "\t[ID] [int] IDENTITY (1,1) NOT NULL,\n",
    "\t[DATE_FILE] [varchar](100) NULL,\n",
    "\t[DATE_STATISTICS] [varchar](100) NULL,\n",
    "\t[DATE_STATISTICS_TYPE] [varchar](100) NULL,\n",
    "\t[AGEGROUP] [varchar](100) NULL,\n",
    "\t[SEX] [varchar](100) NULL,\n",
    "\t[PROVINCE] [varchar](100) NULL,\n",
    "\t[HOSPITAL_ADMISSION] [varchar](100) NULL,\n",
    "\t[DECEASED] [varchar](100) NULL,\n",
    "\t[WEEK_OF_DEATH] [varchar](100) NULL,\n",
    "\t[MUNICIPAL_HEALTH_SERVICE] [varchar](100) NULL,\n",
    "\t[DATE_LAST_INSERTED] [datetime] DEFAULT GETDATE(),\n",
    "\t[VERSION] [varchar](50) NULL\n",
    ") ON [PRIMARY]\n",
    "GO"
   ]
  },
  {
   "cell_type": "markdown",
   "metadata": {
    "azdata_cell_guid": "9741e003-daa9-4a4c-a20d-f6f62ed36161"
   },
   "source": [
    "We use the `@cut_off_date` variable to determine wich data we preserve in the \"static table\". The data from the last inserted file will be used and from this data we use the data with a `[DATE_STATISTICS]` that lies before the `@cut_off_date`."
   ]
  },
  {
   "cell_type": "code",
   "execution_count": null,
   "metadata": {
    "azdata_cell_guid": "58666be8-4c99-472a-9580-073a1afcbc7d",
    "dotnet_interactive": {
     "language": "sql"
    },
    "language": "sql",
    "vscode": {
     "languageId": "dotnet-interactive.sql"
    }
   },
   "outputs": [],
   "source": [
    "DECLARE @cut_off_date DATE = CAST('2021-10-03' AS DATE)\n",
    "\n",
    "-- TRUNCATE TABLE [VWSSTATIC].[RIVM_COVID_19_CASE_NATIONAL]\n",
    "\n",
    "-- SET IDENTITY_INSERT [VWSSTATIC].[RIVM_COVID_19_CASE_NATIONAL] ON\n",
    "\n",
    "INSERT INTO [VWSSTATIC].[RIVM_COVID_19_CASE_NATIONAL] (\n",
    "\t[DATE_FILE],\n",
    "\t[DATE_STATISTICS],\n",
    "\t[DATE_STATISTICS_TYPE],\n",
    "\t[AGEGROUP],\n",
    "\t[SEX],\n",
    "\t[PROVINCE],\n",
    "\t[HOSPITAL_ADMISSION],\n",
    "\t[DECEASED],\n",
    "\t[WEEK_OF_DEATH],\n",
    "\t[MUNICIPAL_HEALTH_SERVICE]\n",
    ")\n",
    "SELECT\n",
    "\t[DATE_FILE],\n",
    "\t[DATE_STATISTICS],\n",
    "\t[DATE_STATISTICS_TYPE],\n",
    "\t[AGEGROUP],\n",
    "\t[SEX],\n",
    "\t[PROVINCE],\n",
    "\t[HOSPITAL_ADMISSION],\n",
    "\t[DECEASED],\n",
    "\t[WEEK_OF_DEATH],\n",
    "\t[MUNICIPAL_HEALTH_SERVICE]\n",
    "FROM \n",
    "    [VWSINTER].[RIVM_COVID_19_CASE_NATIONAL] WITH(NOLOCK)\n",
    "WHERE [DATE_LAST_INSERTED] = (SELECT MAX([DATE_LAST_INSERTED]) FROM [VWSINTER].[RIVM_COVID_19_CASE_NATIONAL] WITH(NOLOCK))\n",
    "    AND CAST([dbo].[TRY_CONVERT_TO_DATETIME]([DATE_STATISTICS]) AS DATE) <= @cut_off_date\n",
    "\n",
    "-- SET IDENTITY_INSERT [VWSSTATIC].[RIVM_COVID_19_CASE_NATIONAL] OFF\n"
   ]
  },
  {
   "cell_type": "markdown",
   "metadata": {
    "azdata_cell_guid": "6cd08219-2d16-4668-ab74-b741f0f80224"
   },
   "source": [
    "Now we Alter the procedure that copies data from the VWSTAGE schema to the VWSINTER schema, to combine data from both the newly created (and populated) table in VWSSTATIC and the VWSSTAGE-table."
   ]
  },
  {
   "cell_type": "code",
   "execution_count": null,
   "metadata": {
    "azdata_cell_guid": "2436c79a-4a08-4d6c-a86e-07b414a91753",
    "dotnet_interactive": {
     "language": "sql"
    },
    "language": "sql",
    "vscode": {
     "languageId": "dotnet-interactive.sql"
    }
   },
   "outputs": [],
   "source": [
    "-- 1) CREATE STORED PROCEDURE(S).....\n",
    "CREATE OR ALTER PROCEDURE [dbo].[SP_RIVM_COVID_19_NATIONAL_INTER]\n",
    "AS\n",
    "BEGIN\n",
    "    -- WITH CTE As (\n",
    "    --     SELECT\n",
    "    --         [DATE_FILE],\n",
    "    --         [DATE_STATISTICS],\n",
    "    --         [DATE_STATISTICS_TYPE],\n",
    "    --         [AGEGROUP],\n",
    "    --         [SEX],\n",
    "    --         [PROVINCE],\n",
    "    --         [HOSPITAL_ADMISSION],\n",
    "    --         [DECEASED],\n",
    "    --         [WEEK_OF_DEATH],\n",
    "    --         [MUNICIPAL_HEALTH_SERVICE]\n",
    "    --     FROM\n",
    "    --         [VWSSTATIC].[RIVM_COVID_19_CASE_NATIONAL]\n",
    "    --     WHERE [DATE_LAST_INSERTED] = (SELECT MAX([DATE_LAST_INSERTED]) FROM [VWSSTATIC].[RIVM_COVID_19_CASE_NATIONAL])\n",
    "    -- )\n",
    "    INSERT INTO [VWSINTER].[RIVM_COVID_19_CASE_NATIONAL] (\n",
    "        [DATE_FILE],\n",
    "        [DATE_STATISTICS],\n",
    "        [DATE_STATISTICS_TYPE],\n",
    "        [AGEGROUP],\n",
    "        [SEX],\n",
    "        [PROVINCE],\n",
    "        [HOSPITAL_ADMISSION],\n",
    "        [DECEASED],\n",
    "        [WEEK_OF_DEATH],\n",
    "        [MUNICIPAL_HEALTH_SERVICE]\n",
    "    )\n",
    "    SELECT\n",
    "        [dbo].[TRY_CONVERT_TO_DATETIME]([DATE_FILE]),\n",
    "        [dbo].[TRY_CONVERT_TO_DATETIME]([DATE_STATISTICS]),\n",
    "        TRIM([DATE_STATISTICS_TYPE]),\n",
    "        TRIM([AGEGROUP]),\n",
    "        TRIM([SEX]),\n",
    "        TRIM([PROVINCE]),\n",
    "        TRIM([HOSPITAL_ADMISSION]),\n",
    "        TRIM([DECEASED]),\n",
    "        TRIM([WEEK_OF_DEATH]),\n",
    "        TRIM([MUNICIPAL_HEALTH_SERVICE])\n",
    "    FROM\n",
    "        [VWSSTAGE].[RIVM_COVID_19_CASE_NATIONAL]\n",
    "    WHERE [DATE_LAST_INSERTED] = (SELECT MAX([DATE_LAST_INSERTED]) FROM [VWSSTAGE].[RIVM_COVID_19_CASE_NATIONAL])\n",
    "    -- UNION ALL\n",
    "    -- SELECT\n",
    "    --     [dbo].[TRY_CONVERT_TO_DATETIME]([DATE_FILE]),\n",
    "    --     [dbo].[TRY_CONVERT_TO_DATETIME]([DATE_STATISTICS]),\n",
    "    --     TRIM([DATE_STATISTICS_TYPE]),\n",
    "    --     TRIM([AGEGROUP]),\n",
    "    --     TRIM([SEX]),\n",
    "    --     TRIM([PROVINCE]),\n",
    "    --     TRIM([HOSPITAL_ADMISSION]),\n",
    "    --     TRIM([DECEASED]),\n",
    "    --     TRIM([WEEK_OF_DEATH]),\n",
    "    --     TRIM([MUNICIPAL_HEALTH_SERVICE])\n",
    "    -- FROM CTE\n",
    "END;\n",
    "GO"
   ]
  },
  {
   "cell_type": "code",
   "execution_count": null,
   "metadata": {
    "dotnet_interactive": {
     "language": "sql"
    },
    "vscode": {
     "languageId": "dotnet-interactive.sql"
    }
   },
   "outputs": [],
   "source": [
    "-- 1) CREATE STORED PROCEDURE(S).....\n",
    "CREATE OR ALTER PROCEDURE [dbo].[SP_RIVM_COVID_19_NATIONAL_STATIC_TO_INTER] (\n",
    "    @date_of_insertion DATETIME = GETDATE\n",
    ")\n",
    "AS\n",
    "BEGIN\n",
    "    INSERT INTO [VWSINTER].[RIVM_COVID_19_CASE_NATIONAL] (\n",
    "        [DATE_FILE],\n",
    "        [DATE_STATISTICS],\n",
    "        [DATE_STATISTICS_TYPE],\n",
    "        [AGEGROUP],\n",
    "        [SEX],\n",
    "        [PROVINCE],\n",
    "        [HOSPITAL_ADMISSION],\n",
    "        [DECEASED],\n",
    "        [WEEK_OF_DEATH],\n",
    "        [MUNICIPAL_HEALTH_SERVICE],\n",
    "        [DATE_LAST_INSERTED]\n",
    "    )\n",
    "    SELECT\n",
    "        [dbo].[TRY_CONVERT_TO_DATETIME]([DATE_FILE]),\n",
    "        [dbo].[TRY_CONVERT_TO_DATETIME]([DATE_STATISTICS]),\n",
    "        TRIM([DATE_STATISTICS_TYPE]),\n",
    "        TRIM([AGEGROUP]),\n",
    "        TRIM([SEX]),\n",
    "        TRIM([PROVINCE]),\n",
    "        TRIM([HOSPITAL_ADMISSION]),\n",
    "        TRIM([DECEASED]),\n",
    "        TRIM([WEEK_OF_DEATH]),\n",
    "        TRIM([MUNICIPAL_HEALTH_SERVICE]),\n",
    "        @date_of_insertion\n",
    "    FROM\n",
    "        [VWSSTATIC].[RIVM_COVID_19_CASE_NATIONAL] WITH(NOLOCK)\n",
    "    WHERE [DATE_LAST_INSERTED] = (SELECT MAX([DATE_LAST_INSERTED]) FROM [VWSSTATIC].[RIVM_COVID_19_CASE_NATIONAL] WITH(NOLOCK))\n",
    "END;\n",
    "GO"
   ]
  }
 ],
 "metadata": {
  "kernelspec": {
   "display_name": ".NET (C#)",
   "language": "C#",
   "name": ".net-csharp"
  },
  "language_info": {
   "file_extension": ".cs",
   "mimetype": "text/x-csharp",
   "name": "C#",
   "pygments_lexer": "csharp",
   "version": "9.0"
  }
 },
 "nbformat": 4,
 "nbformat_minor": 2
}
