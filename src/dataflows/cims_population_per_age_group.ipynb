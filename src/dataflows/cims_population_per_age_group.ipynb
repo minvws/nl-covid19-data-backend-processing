{
    "cells": [
        {
            "cell_type": "markdown",
            "metadata": {},
            "source": [
                "# **INTRODUCTIONS**\n",
                "\n",
                "---\n",
                "\n",
                "The code is separated into multiple sections:\n",
                "\n",
                "1. **[Stored Procedures](#stored-procedures)**"
            ]
        },
        {
            "cell_type": "markdown",
            "metadata": {},
            "source": [
                "# **DEPENDENCIES**\n",
                "\n",
                "---\n",
                "\n",
                "```json\n",
                "{\n",
                "    \"depends-on\": [\n",
                "        \"src/utils/conversions.ipynb\",\n",
                "        \"src/utils/schemas.ipynb\"\n",
                "    ]\n",
                "}\n",
                "```"
            ]
        },
        {
            "cell_type": "markdown",
            "metadata": {},
            "source": [
                "# **TABLES**\n",
                "\n",
                "---\n"
            ]
        },
        {
            "cell_type": "markdown",
            "metadata": {},
            "source": [
                "### INTERMEDIATES"
            ]
        },
        {
            "cell_type": "code",
            "execution_count": null,
            "metadata": {},
            "outputs": [],
            "source": [
                "-- COPYRIGHT (C) 2020 DE STAAT DER NEDERLANDEN, MINISTERIE VAN VOLKSGEZONDHEID, WELZIJN EN SPORT.\n",
                "-- LICENSED UNDER THE EUROPEAN UNION PUBLIC LICENCE V. 1.2 - SEE HTTPS://GITHUB.COM/MINVWS/NL-CONTACT-TRACING-APP-COORDINATION FOR MORE INFORMATION.\n",
                "\n",
                "-- 1) CREATE INTER SEQUENCE(S).....\n",
                "IF NOT EXISTS(SELECT * FROM SYS.SEQUENCES WHERE [OBJECT_ID] = OBJECT_ID(N'[DBO].[SEQ_VWSINTER_CIMS_POPULATION_AGE_GROUP]') AND [TYPE] = 'SO')\n",
                "CREATE SEQUENCE [SEQ_VWSINTER_CIMS_POPULATION_AGE_GROUP]\n",
                "  START WITH 1\n",
                "  INCREMENT BY 1;\n",
                "GO\n",
                "\n",
                "-- 2) CREATE INTER TABLE(S).....\n",
                "IF NOT EXISTS(SELECT * FROM SYS.TABLES WHERE [OBJECT_ID] = OBJECT_ID(N'[VWSINTER].[CIMS_POPULATION_AGE_GROUP]'))\n",
                "CREATE TABLE [VWSINTER].[CIMS_POPULATION_AGE_GROUP](\n",
                "\t[ID] [INT] PRIMARY KEY NONCLUSTERED NOT NULL DEFAULT (NEXT VALUE FOR [DBO].[SEQ_VWSINTER_CIMS_POPULATION_AGE_GROUP]),\n",
                "\t[BIRTH_COHORT] [VARCHAR](100) NULL,\n",
                "  [POPULATION] [BIGINT] NULL,\n",
                "\t[DATE_LAST_INSERTED] [DATETIME] DEFAULT GETDATE()\n",
                ");\n",
                "GO\n",
                "\n",
                "-- 3) CREATE INTER INDEX(ES).....\n",
                "IF NOT EXISTS (SELECT * FROM SYS.INDEXES WHERE [NAME] = 'CI_DLI_VWSINTER_CIMS_POPULATION_AGE_GROUP')\n",
                "CREATE CLUSTERED INDEX [CI_DLI_VWSINTER_CIMS_POPULATION_AGE_GROUP] ON [VWSINTER].[CIMS_POPULATION_AGE_GROUP] (\n",
                "  [DATE_LAST_INSERTED]\n",
                ");\n",
                "GO\n",
                "\n",
                "IF NOT EXISTS (SELECT * FROM SYS.INDEXES WHERE [NAME] = 'NCI_DLI_VWSINTER_CIMS_POPULATION_AGE_GROUP')\n",
                "CREATE NONCLUSTERED INDEX [NCI_DLI_VWSINTER_CIMS_POPULATION_AGE_GROUP] ON [VWSINTER].[CIMS_POPULATION_AGE_GROUP] (\n",
                "  [DATE_LAST_INSERTED], \n",
                "  [BIRTH_COHORT]\n",
                ") INCLUDE (\n",
                "  [POPULATION]\n",
                ")\n",
                "GO"
            ]
        }
    ],
    "metadata": {
        "kernelspec": {
            "display_name": "SQL",
            "language": "sql",
            "name": "SQL"
        },
        "language_info": {
            "name": "sql",
            "version": ""
        }
    },
    "nbformat": 4,
    "nbformat_minor": 2
}
