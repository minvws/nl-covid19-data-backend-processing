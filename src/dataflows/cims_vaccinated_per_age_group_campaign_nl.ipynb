{
    "cells": [
        {
            "cell_type": "markdown",
            "metadata": {},
            "source": [
                "```sql\n",
                "-- COPYRIGHT (C) 2020 DE STAAT DER NEDERLANDEN, MINISTERIE VAN VOLKSGEZONDHEID, WELZIJN EN SPORT.\n",
                "-- LICENSED UNDER THE EUROPEAN UNION PUBLIC LICENCE V. 1.2 - SEE HTTPS://GITHUB.COM/MINVWS/NL-CONTACT-TRACING-APP-COORDINATION FOR MORE INFORMATION.\n",
                "```\n",
                "\n",
                "# **INTRODUCTIONS**\n"
            ]
        },
        {
            "cell_type": "markdown",
            "metadata": {},
            "source": [
                "# **DEPENDENCIES**\n",
                "\n",
                "---\n",
                "\n",
                "```json\n",
                "{\n",
                "    \"depends-on\": [\n",
                "        \"src/utils/conversions.ipynb\",\n",
                "        \"src/utils/schemas.ipynb\",\n",
                "        \"src/utils/protos.ipynb\",\n",
                "    ]\n",
                "}\n",
                "```"
            ]
        },
        {
            "cell_type": "markdown",
            "metadata": {},
            "source": [
                "# **TABLES**\n",
                "\n",
                "---\n"
            ]
        },
        {
            "cell_type": "markdown",
            "metadata": {},
            "source": [
                "### STAGINGS"
            ]
        },
        {
            "cell_type": "code",
            "execution_count": null,
            "metadata": {
                "dotnet_interactive": {
                    "language": "sql"
                },
                "vscode": {
                    "languageId": "dotnet-interactive.sql"
                }
            },
            "outputs": [],
            "source": [
                "SET ANSI_NULLS ON\n",
                "GO\n",
                "\n",
                "SET QUOTED_IDENTIFIER ON\n",
                "GO\n",
                "\n",
                "-- 1) CREATE TABLE(S).....\n",
                "IF NOT EXISTS(SELECT * FROM SYS.TABLES WHERE [OBJECT_ID] = OBJECT_ID(N'[VWSSTAGE].[CIMS_VACCINATED_AGE_GROUP_CAMPAIGN]'))\n",
                "CREATE TABLE [VWSSTAGE].[CIMS_VACCINATED_AGE_GROUP_CAMPAIGN](\n",
                "\t[ID] [BIGINT] PRIMARY KEY IDENTITY(1,1),\n",
                "  [VERSION] [VARCHAR](100) NULL,\n",
                "  [DATE_OF_REPORT] [VARCHAR](100) NULL,\n",
                "  [DATE_OF_STATISTICS_WEEK_START] [VARCHAR](100) NULL,\n",
                "\t[DATE_OF_STATISTICS_WEEK_END] [VARCHAR](100) NULL,\n",
                "\t[BIRTH_COHORT] [VARCHAR](100) NULL,\n",
                "  [AGE_GROUP] [VARCHAR](100) NULL,\n",
                "  [POPULATION_AGE_GROUP] [VARCHAR](100) NULL,\n",
                "  [VACCINE_SERIE] [VARCHAR](100) NULL,\n",
                "  [RECEIVED] [VARCHAR](100) NULL,\n",
                "  [COVERAGE] [VARCHAR](100) NULL,\n",
                "\t[DATE_LAST_INSERTED] [DATETIME] DEFAULT GETDATE()\n",
                ");\n",
                "GO"
            ]
        },
        {
            "cell_type": "markdown",
            "metadata": {},
            "source": [
                "### INTERMEDIATES"
            ]
        },
        {
            "cell_type": "code",
            "execution_count": null,
            "metadata": {
                "dotnet_interactive": {
                    "language": "sql"
                },
                "vscode": {
                    "languageId": "dotnet-interactive.sql"
                }
            },
            "outputs": [],
            "source": [
                "SET ANSI_NULLS ON\n",
                "GO\n",
                "\n",
                "SET QUOTED_IDENTIFIER ON\n",
                "GO\n",
                "\n",
                "-- 1) CREATE TABLE(S).....\n",
                "IF NOT EXISTS(SELECT * FROM SYS.TABLES WHERE [OBJECT_ID] = OBJECT_ID(N'[VWSINTER].[CIMS_VACCINATED_AGE_GROUP_CAMPAIGN]'))\n",
                "CREATE TABLE [VWSINTER].[CIMS_VACCINATED_AGE_GROUP_CAMPAIGN](\n",
                "\t[ID] [BIGINT] PRIMARY KEY IDENTITY(1,1),\n",
                "  [DATE_OF_REPORT] [DATETIME] NULL,\n",
                "  [DATE_OF_STATISTICS_WEEK_START] [DATETIME] NULL,\n",
                "\t[DATE_OF_STATISTICS_WEEK_END] [DATETIME] NULL,\n",
                "\t[BIRTH_COHORT] [VARCHAR](100) NULL,\n",
                "  [AGE_GROUP] [VARCHAR](100) NULL,\n",
                "  [POPULATION_AGE_GROUP] [BIGINT] NULL,\n",
                "  [VACCINE_SERIE] [VARCHAR](100) NULL,\n",
                "  [RECEIVED] [BIGINT] NULL,\n",
                "  [COVERAGE] [DECIMAL](16,2) NULL,\n",
                "\t[DATE_LAST_INSERTED] [DATETIME] DEFAULT GETDATE()\n",
                ");\n",
                "GO"
            ]
        },
        {
            "cell_type": "markdown",
            "metadata": {},
            "source": [
                "### DESTINATIONS"
            ]
        },
        {
            "cell_type": "code",
            "execution_count": null,
            "metadata": {
                "dotnet_interactive": {
                    "language": "sql"
                },
                "vscode": {
                    "languageId": "dotnet-interactive.sql"
                }
            },
            "outputs": [],
            "source": [
                "SET ANSI_NULLS ON\n",
                "GO\n",
                "\n",
                "SET QUOTED_IDENTIFIER ON\n",
                "GO\n",
                "\n",
                "-- 1) CREATE TABLE(S).....\n",
                "IF NOT EXISTS(SELECT * FROM SYS.TABLES WHERE [OBJECT_ID] = OBJECT_ID(N'[VWSDEST].[CIMS_VACCINATED_AGE_GROUP_CAMPAIGN]'))\n",
                "CREATE TABLE [VWSDEST].[CIMS_VACCINATED_AGE_GROUP_CAMPAIGN](\n",
                "\t[ID] [BIGINT] PRIMARY KEY IDENTITY(1,1),\n",
                "  [DATE_OF_REPORT] DATETIME NULL,\n",
                "  [DATE_OF_STATISTICS_WEEK_START] DATETIME NULL,\n",
                "  [DATE_OF_STATISTICS_WEEK_END] DATETIME NULL,\n",
                "  [BIRTH_COHORT] VARCHAR(100) NULL,\n",
                "  [AGE_GROUP] VARCHAR(100) NULL,\n",
                "  [AGE_GROUP_POPULATION] BIGINT NULL,\n",
                "  [AGE_GROUP_POPULATION_PERCENTAGE] DECIMAL(16,2) NULL,\n",
                "  [VACCINE_SERIE] [VARCHAR](100) NULL,\n",
                "  [RECEIVED] [BIGINT] NULL,\n",
                "  [COVERAGE] [DECIMAL](16,2) NULL,\n",
                "  [DATE_LAST_INSERTED] DATETIME DEFAULT GETDATE()\n",
                ");\n",
                "GO\n",
                "\n",
                "-- 2) CREATE INDEX(ES).....\n",
                "DROP INDEX IF EXISTS [NCIX_DLI_DOS_AG_CIMS_VACCINATED_AGE_GROUP_CAMPAIGN] \n",
                "  ON [VWSDEST].[CIMS_VACCINATED_AGE_GROUP_CAMPAIGN]\n",
                "GO\n",
                "\n",
                "CREATE NONCLUSTERED INDEX [NCIX_DLI_DOS_AG_CIMS_VACCINATED_AGE_GROUP_CAMPAIGN] \n",
                "  ON [VWSDEST].[CIMS_VACCINATED_AGE_GROUP_CAMPAIGN] (\n",
                "    [DATE_LAST_INSERTED], \n",
                "    [DATE_OF_STATISTICS_WEEK_START], \n",
                "    [DATE_OF_STATISTICS_WEEK_END], \n",
                "    [AGE_GROUP]\n",
                "  );\n",
                "GO"
            ]
        },
        {
            "cell_type": "markdown",
            "metadata": {},
            "source": [
                "# **STORED PROCEDURES**\n",
                "\n",
                "---\n"
            ]
        },
        {
            "cell_type": "markdown",
            "metadata": {},
            "source": [
                "### STAGING &rarr; INTERMEDIATE MAPPING"
            ]
        },
        {
            "cell_type": "code",
            "execution_count": null,
            "metadata": {
                "dotnet_interactive": {
                    "language": "sql"
                },
                "vscode": {
                    "languageId": "dotnet-interactive.sql"
                }
            },
            "outputs": [],
            "source": [
                "-- COPYRIGHT (C) 2020 DE STAAT DER NEDERLANDEN, MINISTERIE VAN   VOLKSGEZONDHEID, WELZIJN EN SPORT. \n",
                "-- LICENSED UNDER THE EUROPEAN UNION PUBLIC LICENCE V. 1.2 - SEE HTTPS://GITHUB.COM/MINVWS/NL-CONTACT-TRACING-APP-COORDINATIONFOR MORE INFORMATION.\n",
                "\n",
                "CREATE OR ALTER PROCEDURE [DBO].[SP_INTER_CIMS_VACCINATED_AGE_GROUP_CAMPAIGN]\n",
                "AS\n",
                "BEGIN\n",
                "    INSERT INTO [VWSINTER].[CIMS_VACCINATED_AGE_GROUP_CAMPAIGN] (\n",
                "        [DATE_OF_REPORT],\n",
                "        [DATE_OF_STATISTICS_WEEK_START],\n",
                "        [DATE_OF_STATISTICS_WEEK_END],\n",
                "        [BIRTH_COHORT],\n",
                "        [AGE_GROUP],\n",
                "        [POPULATION_AGE_GROUP],\n",
                "        [VACCINE_SERIE],\n",
                "        [RECEIVED],\n",
                "        [COVERAGE],\n",
                "    )\n",
                "    SELECT\n",
                "        [DATE_OF_REPORT],\n",
                "        [DATE_OF_STATISTICS_WEEK_START],\n",
                "        [DATE_OF_STATISTICS_WEEK_END],\n",
                "        [BIRTH_COHORT],\n",
                "        [AGE_GROUP],\n",
                "        [POPULATION_AGE_GROUP],\n",
                "        [VACCINE_SERIE],\n",
                "        [RECEIVED],\n",
                "        [COVERAGE]\n",
                "    FROM [VWSSTAGE].[CIMS_VACCINATED_AGE_GROUP_CAMPAIGN]\n",
                "    WHERE [DATE_LAST_INSERTED] = (SELECT MAX([DATE_LAST_INSERTED]) FROM [VWSSTAGE].[CIMS_VACCINATED_AGE_GROUP_CAMPAIGN]);\n",
                "END;\n",
                "GO"
            ]
        },
        {
            "cell_type": "markdown",
            "metadata": {},
            "source": [
                "### INTERMEDIATE &rarr; DESTINATION MAPPING"
            ]
        },
        {
            "cell_type": "code",
            "execution_count": null,
            "metadata": {
                "dotnet_interactive": {
                    "language": "sql"
                },
                "vscode": {
                    "languageId": "dotnet-interactive.sql"
                }
            },
            "outputs": [],
            "source": [
                "-- COPYRIGHT (C) 2020 DE STAAT DER NEDERLANDEN, MINISTERIE VAN   VOLKSGEZONDHEID, WELZIJN EN SPORT.\n",
                "-- LICENSED UNDER THE EUROPEAN UNION PUBLIC LICENCE V. 1.2 - SEE HTTPS://GITHUB.COM/MINVWS/NL-CONTACT-TRACING-APP-COORDINATIONFOR MORE INFORMATION.\n",
                "\n",
                "CREATE OR ALTER  PROCEDURE [DBO].[SP_DEST_CIMS_VACCINATED_AGE_GROUP_CAMPAIGN]\n",
                "AS\n",
                "BEGIN\n",
                "-- APPLY FILTERS ON MAIN INPUT TABLE AND PERFORM TRANSFORMATIONS\n",
                "WITH LAST_CTE AS (\n",
                "    SELECT\n",
                "        [DATE_OF_REPORT],\n",
                "        [DATE_OF_STATISTICS_WEEK_START],\n",
                "        [DATE_OF_STATISTICS_WEEK_END],\n",
                "        [BIRTH_COHORT],\n",
                "        [AGE_GROUP],\n",
                "        [POPULATION_AGE_GROUP],\n",
                "        [VACCINE_SERIE],\n",
                "        [RECEIVED],\n",
                "        [COVERAGE]\n",
                "    FROM [VWSINTER].[CIMS_VACCINATED_AGE_GROUP_CAMPAIGN]\n",
                "    WHERE [DATE_LAST_INSERTED] = (SELECT MAX([DATE_LAST_INSERTED]) FROM [VWSINTER].[CIMS_VACCINATED_AGE_GROUP_CAMPAIGN])\n",
                "        AND LOWER([BIRTH_COHORT]) != 'unknown'\n",
                ")\n",
                "INSERT INTO [VWSDEST].[CIMS_VACCINATED_AGE_GROUP_CAMPAIGN](\n",
                "    [DATE_OF_REPORT],\n",
                "    [DATE_OF_STATISTICS_WEEK_START],\n",
                "    [DATE_OF_STATISTICS_WEEK_END],\n",
                "    [AGE_GROUP],\n",
                "    [VACCINE_SERIE],\n",
                "    [RECEIVED],\n",
                "    [COVERAGE]\n",
                ")\n",
                "SELECT\n",
                "    T.[DATE_OF_REPORT],\n",
                "    T.[DATE_OF_STATISTICS_WEEK_START],\n",
                "    T.[DATE_OF_STATISTICS_WEEK_END],\n",
                "    T.[AGE_GROUP],\n",
                "    T.[VACCINE_SERIE],\n",
                "    T.[RECEIVED],\n",
                "    T.[COVERAGE]\n",
                "    FROM LAST_CTE AS T\n",
                "    --TAKE ONLY THE LAST VALUE\n",
                "    WHERE T.[DATE_OF_STATISTICS_WEEK_START] = (SELECT MAX([DATE_OF_STATISTICS_WEEK_START]) FROM LAST_CTE)\n",
                "END\n",
                "GO"
            ]
        },
        {
            "cell_type": "markdown",
            "metadata": {},
            "source": [
                "# **ORCHESTRATOR CONFIGURATIONS**\n",
                "\n",
                "---"
            ]
        },
        {
            "cell_type": "markdown",
            "metadata": {},
            "source": [
                "> WORKFLOWS"
            ]
        },
        {
            "cell_type": "code",
            "execution_count": null,
            "metadata": {
                "dotnet_interactive": {
                    "language": "sql"
                },
                "vscode": {
                    "languageId": "dotnet-interactive.sql"
                }
            },
            "outputs": [],
            "source": [
                "-- 1) UPSERT WORKFLOW(S).....\n",
                "DECLARE @workflow_name NVARCHAR(50) = 'CIMS_VACCINATED_PER_AGE_GROUP',\n",
                "        @workflow_id INT,        \n",
                "        @workflow_description VARCHAR(256),\n",
                "        @is_active INT;\n",
                "\n",
                "-- 1.1) SET ENVIRONMENTAL VARIABLES.....\n",
                "SET @is_active = CASE LOWER('#{ Environment }#')\n",
                "    WHEN 'production' THEN 0\n",
                "    WHEN 'acceptance' THEN 0\n",
                "    ELSE 0\n",
                "END;\n",
                "\n",
                "SELECT TOP(1)\n",
                "    @workflow_id = workflows.[ID]\n",
                "FROM [DATATINO_ORCHESTRATOR_1].[WORKFLOWS] workflows\n",
                "INNER JOIN [DATATINO_ORCHESTRATOR_1].[V_WORKFLOWS] v_workflows ON v_workflows.[DATAFLOW_ID] = workflows.[DATAFLOW_ID] AND v_workflows.[ID] = workflows.[ID]\n",
                "WHERE v_workflows.[NAME] = @workflow_name;\n",
                "\n",
                "SET @workflow_description = CONCAT('WORKFLOW: ', @workflow_name);\n",
                "\n",
                "EXECUTE [DATATINO_ORCHESTRATOR_1].[UPSERT_WORKFLOW]\n",
                "    @id = @workflow_id, \n",
                "    @workflow_name = @workflow_name,\n",
                "    @description = @workflow_description,\n",
                "    @schedule = '0 12 * * WED', -- AT 02:00 PM, ON WEDNESDAY\n",
                "    @active = @is_active;\n",
                "GO"
            ]
        },
        {
            "cell_type": "markdown",
            "metadata": {},
            "source": [
                "> PROTOS"
            ]
        },
        {
            "cell_type": "code",
            "execution_count": null,
            "metadata": {
                "dotnet_interactive": {
                    "language": "sql"
                },
                "vscode": {
                    "languageId": "dotnet-interactive.sql"
                }
            },
            "outputs": [],
            "source": [
                "-- 1) SET ENVIRONMENTAL VARIABLES.....\n",
                "DECLARE @view_name VARCHAR(256) = 'VWSDEST.V_RIVM_CIMS_VACCINATED_PER_AGE_GROUP',\n",
                "        @view_description VARCHAR(256),\n",
                "        @item_name VARCHAR(256) = 'vaccine_coverage_per_age_group',\n",
                "        @config_description VARCHAR(256),\n",
                "        @constraint_value VARCHAR(50) = NULL,\n",
                "        @constraint_key_name VARCHAR(50) = NULL,\n",
                "        @grouped_key_name VARCHAR(50) = null,\n",
                "        @grouped_last_update_name VARCHAR(50) = null,\n",
                "        @proto_name VARCHAR(50) = 'NL',\n",
                "        @columns VARCHAR(256) = '*',\n",
                "        @layout_type_id INT = 2, -- VALUES\n",
                "        @last_update_name VARCHAR(50) = 'DATE_UNIX',\n",
                "        @is_active INT;\n",
                "        \n",
                "SET @is_active = CASE LOWER('#{ Environment }#')\n",
                "    WHEN 'production' THEN 1\n",
                "    WHEN 'acceptance' THEN 1\n",
                "    ELSE 1\n",
                "END;\n",
                "\n",
                "SET @view_description = CONCAT('VIEW: ', @view_name, ' FOR ', @item_name);\n",
                "SET @config_description = CONCAT('VIEW CONFIGURATION: ', @view_name, ' FOR ', @item_name);\n",
                "\n",
                "-- 2) DETERMINE VIEW ID & CONFIGURATION ID\n",
                "DECLARE @constrained INT,\n",
                "        @grouped INT,\n",
                "        @view_id BIGINT,\n",
                "        @config_id BIGINT;\n",
                "\n",
                "SET @constrained = CASE \n",
                "    WHEN @constraint_key_name IS NULL THEN 0\n",
                "    ELSE 1\n",
                "END;\n",
                "SET @grouped = CASE \n",
                "    WHEN @grouped_key_name IS NULL THEN 0\n",
                "    ELSE 1\n",
                "END;\n",
                "\n",
                "SELECT \n",
                "    @view_id = [ID]\n",
                "FROM [DATATINO_PROTO_1].[VIEWS]\n",
                "WHERE ISNULL([CONSTRAINT_VALUE], 'X') = ISNULL(@constraint_value, 'X')\n",
                "    AND ISNULL([CONSTRAINT_KEY_NAME], 'X') = ISNULL(@constraint_key_name, 'X')\n",
                "    AND ISNULL([GROUPED_KEY_NAME], 'X') = ISNULL(@grouped_key_name, 'X')\n",
                "    AND ISNULL([GROUPED_LAST_UPDATE_NAME], 'X') = ISNULL(@grouped_last_update_name, 'X')\n",
                "    AND [NAME] = @view_name;\n",
                "    \n",
                "SELECT\n",
                "    @config_id = configs.[ID]\n",
                "FROM [DATATINO_PROTO_1].[VIEWS] views\n",
                "INNER JOIN [DATATINO_PROTO_1].[CONFIGURATIONS] AS configs ON views.[ID] = configs.[VIEW_ID]\n",
                "    AND configs.[NAME] = @item_name\n",
                "    AND configs.[VIEW_ID] = @view_id\n",
                "INNER JOIN [DATATINO_PROTO_1].[PROTOS] AS protos ON protos.[ID] = configs.[PROTO_ID]\n",
                "    AND protos.[NAME] = @proto_name\n",
                "WHERE views.[NAME] = @view_name;\n",
                "\n",
                "-- 3) UPSERT PROTO VIEW(S).....\n",
                "EXECUTE [DATATINO_PROTO_1].[UPSERT_VIEW]\n",
                "    @id = @view_id,\n",
                "    @view_name = @view_name,\n",
                "    @description = @view_description,\n",
                "    @last_update_name = @last_update_name,\n",
                "    @constraint_key_name = @constraint_key_name,\n",
                "    @constraint_value = @constraint_value,\n",
                "    @grouped_key_name = @grouped_key_name,\n",
                "    @grouped_last_update_name = @grouped_last_update_name;\n",
                "\n",
                "-- 4) UPSERT PROTO CONFIGURATION(S).....\n",
                "EXECUTE [DATATINO_PROTO_1].[UPSERT_CONFIGURATION]\n",
                "    @id = @config_id,\n",
                "    @proto_name = @proto_name,\n",
                "    @description =  @config_description,\n",
                "    @view_name = @view_name,\n",
                "    @item_name = @item_name,\n",
                "    @constrained = @constrained,\n",
                "    @grouped = @grouped,\n",
                "    @columns = @columns,\n",
                "    @mapping = '=LOWER()',\n",
                "    @layout_type_id = @layout_type_id,\n",
                "    @active = @is_active,\n",
                "    @constraint_key_name = @constraint_key_name,\n",
                "    @constraint_value = @constraint_value,\n",
                "    @grouped_key_name = @grouped_key_name,\n",
                "    @grouped_last_update_name = @grouped_last_update_name;\n",
                "GO"
            ]
        },
        {
            "cell_type": "code",
            "execution_count": null,
            "metadata": {
                "dotnet_interactive": {
                    "language": "sql"
                },
                "vscode": {
                    "languageId": "dotnet-interactive.sql"
                }
            },
            "outputs": [],
            "source": [
                "-- 1) SET ENVIRONMENTAL VARIABLES.....\n",
                "DECLARE @view_name VARCHAR(256) = 'VWSDEST.V_RIVM_CIMS_VACCINATED_PER_AGE_GROUP_ARCHIVE',\n",
                "        @view_description VARCHAR(256),\n",
                "        @item_name VARCHAR(256) = 'vaccine_coverage_per_age_group_archived',\n",
                "        @config_description VARCHAR(256),\n",
                "        @constraint_value VARCHAR(50) = NULL,\n",
                "        @constraint_key_name VARCHAR(50) = NULL,\n",
                "        @grouped_key_name VARCHAR(50) = null,\n",
                "        @grouped_last_update_name VARCHAR(50) = null,\n",
                "        @proto_name VARCHAR(50) = 'NL',\n",
                "        @columns VARCHAR(256) = '*',\n",
                "        @layout_type_id INT = 2, -- VALUES\n",
                "        @last_update_name VARCHAR(50) = 'DATE_UNIX',\n",
                "        @is_active INT;\n",
                "        \n",
                "SET @is_active = CASE LOWER('#{ Environment }#')\n",
                "    WHEN 'production' THEN 1\n",
                "    WHEN 'acceptance' THEN 1\n",
                "    ELSE 1\n",
                "END;\n",
                "\n",
                "SET @view_description = CONCAT('VIEW: ', @view_name, ' FOR ', @item_name);\n",
                "SET @config_description = CONCAT('VIEW CONFIGURATION: ', @view_name, ' FOR ', @item_name);\n",
                "\n",
                "-- 2) DETERMINE VIEW ID & CONFIGURATION ID\n",
                "DECLARE @constrained INT,\n",
                "        @grouped INT,\n",
                "        @view_id BIGINT,\n",
                "        @config_id BIGINT;\n",
                "\n",
                "SET @constrained = CASE \n",
                "    WHEN @constraint_key_name IS NULL THEN 0\n",
                "    ELSE 1\n",
                "END;\n",
                "SET @grouped = CASE \n",
                "    WHEN @grouped_key_name IS NULL THEN 0\n",
                "    ELSE 1\n",
                "END;\n",
                "\n",
                "SELECT \n",
                "    @view_id = [ID]\n",
                "FROM [DATATINO_PROTO_1].[VIEWS]\n",
                "WHERE ISNULL([CONSTRAINT_VALUE], 'X') = ISNULL(@constraint_value, 'X')\n",
                "    AND ISNULL([CONSTRAINT_KEY_NAME], 'X') = ISNULL(@constraint_key_name, 'X')\n",
                "    AND ISNULL([GROUPED_KEY_NAME], 'X') = ISNULL(@grouped_key_name, 'X')\n",
                "    AND ISNULL([GROUPED_LAST_UPDATE_NAME], 'X') = ISNULL(@grouped_last_update_name, 'X')\n",
                "    AND [NAME] = @view_name;\n",
                "    \n",
                "SELECT\n",
                "    @config_id = configs.[ID]\n",
                "FROM [DATATINO_PROTO_1].[VIEWS] views\n",
                "INNER JOIN [DATATINO_PROTO_1].[CONFIGURATIONS] AS configs ON views.[ID] = configs.[VIEW_ID]\n",
                "    AND configs.[NAME] = @item_name\n",
                "    AND configs.[VIEW_ID] = @view_id\n",
                "INNER JOIN [DATATINO_PROTO_1].[PROTOS] AS protos ON protos.[ID] = configs.[PROTO_ID]\n",
                "    AND protos.[NAME] = @proto_name\n",
                "WHERE views.[NAME] = @view_name;\n",
                "\n",
                "-- 3) UPSERT PROTO VIEW(S).....\n",
                "EXECUTE [DATATINO_PROTO_1].[UPSERT_VIEW]\n",
                "    @id = @view_id,\n",
                "    @view_name = @view_name,\n",
                "    @description = @view_description,\n",
                "    @last_update_name = @last_update_name,\n",
                "    @constraint_key_name = @constraint_key_name,\n",
                "    @constraint_value = @constraint_value,\n",
                "    @grouped_key_name = @grouped_key_name,\n",
                "    @grouped_last_update_name = @grouped_last_update_name;\n",
                "\n",
                "-- 4) UPSERT PROTO CONFIGURATION(S).....\n",
                "EXECUTE [DATATINO_PROTO_1].[UPSERT_CONFIGURATION]\n",
                "    @id = @config_id,\n",
                "    @proto_name = @proto_name,\n",
                "    @description =  @config_description,\n",
                "    @view_name = @view_name,\n",
                "    @item_name = @item_name,\n",
                "    @constrained = @constrained,\n",
                "    @grouped = @grouped,\n",
                "    @columns = @columns,\n",
                "    @mapping = '=LOWER()',\n",
                "    @layout_type_id = @layout_type_id,\n",
                "    @active = @is_active,\n",
                "    @constraint_key_name = @constraint_key_name,\n",
                "    @constraint_value = @constraint_value,\n",
                "    @grouped_key_name = @grouped_key_name,\n",
                "    @grouped_last_update_name = @grouped_last_update_name;\n",
                "GO"
            ]
        }
    ],
    "metadata": {
        "kernelspec": {
            "display_name": ".NET (C#)",
            "language": "C#",
            "name": ".net-csharp"
        },
        "language_info": {
            "file_extension": ".cs",
            "mimetype": "text/x-csharp",
            "name": "C#",
            "pygments_lexer": "csharp",
            "version": "9.0"
        }
    },
    "nbformat": 4,
    "nbformat_minor": 2
}
