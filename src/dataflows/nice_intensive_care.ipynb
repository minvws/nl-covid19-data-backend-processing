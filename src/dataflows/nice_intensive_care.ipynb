{
    "cells": [
        {
            "cell_type": "markdown",
            "metadata": {
                "azdata_cell_guid": "d71a6e4c-77d0-4a82-8b2d-c90180c12c9a"
            },
            "source": [
                "```sql\n",
                "-- COPYRIGHT (C) 2020 DE STAAT DER NEDERLANDEN, MINISTERIE VAN   VOLKSGEZONDHEID, WELZIJN EN SPORT.\n",
                "-- LICENSED UNDER THE EUROPEAN UNION PUBLIC LICENCE V. 1.2 - SEE HTTPS://GITHUB.COM/MINVWS/NL-CONTACT-TRACING-APP-COORDINATIONFOR MORE INFORMATION.\n",
                "```\n",
                "\n",
                "# **INTRODUCTIONS**\n",
                "\n",
                "---\n",
                "\n",
                "1. **[Tables](#tables)**"
            ]
        },
        {
            "cell_type": "markdown",
            "metadata": {},
            "source": [
                "# **DEPENDENCIES**\n",
                "\n",
                "---\n",
                "\n",
                "```json\n",
                "{\n",
                "    \"depends-on\": [\n",
                "        \"src/utils/conversions.ipynb\",\n",
                "        \"src/utils/schemas.ipynb\",\n",
                "        \"src/utils/protos.ipynb\"\n",
                "    ]\n",
                "}\n",
                "```"
            ]
        },
        {
            "cell_type": "markdown",
            "metadata": {},
            "source": [
                "# **TABLES**\n",
                "\n",
                "---\n"
            ]
        },
        {
            "cell_type": "markdown",
            "metadata": {},
            "source": [
                "### DESTINATIONS"
            ]
        },
        {
            "cell_type": "code",
            "execution_count": null,
            "metadata": {},
            "outputs": [],
            "source": [
                "-- 1) CREATE TABLE(S).....\n",
                "IF NOT EXISTS(SELECT * FROM SYS.TABLES WHERE [OBJECT_ID] = OBJECT_ID(N'[VWSDEST].[RIVM_IC_OPNAME]'))\n",
                "CREATE TABLE [VWSDEST].[RIVM_IC_OPNAME] (\n",
                "    [ID] BIGINT PRIMARY KEY IDENTITY(1,1),\n",
                "    [VERSION] VARCHAR(100) NULL,\n",
                "\t[DATE_OF_REPORT] DATETIME NULL,\n",
                "    [DATE_OF_REPORT_UNIX] BIGINT NULL,\n",
                "    DATE_OF_STATISTICS DATETIME NULL,\n",
                "    [DATE_OF_STATISTICS_UNIX] BIGINT NULL,\n",
                "    IC_ADMISSION_NOTIFICATION INT NULL,\n",
                "    IC_ADMISSION INT NULL,\n",
                "    OLD_DATE_OF_STATISTICS_UNIX BIGINT NULL,\n",
                "    OLD_IC_ADMISSION_NOTIFICATION INT NULL,\n",
                "    DIFFERENCE_IC_ADMISSION_NOTIFICATION INT NULL,\n",
                "    OLD_IC_ADMISSION INT NULL,\n",
                "    DIFFERENCE_IC_ADMISSION INT NULL,\n",
                "\t[DATE_LAST_INSERTED] DATETIME DEFAULT GETDATE(),\n",
                "\tWEEK_START DATETIME NULL,\n",
                "\tIC_ADMISSION_7D_AVG DECIMAL(16,2),\n",
                "\tWEEK_START_LAG DATETIME NULL,\n",
                "\tIC_ADMISSION_7D_AVG_LAG DECIMAL(16,2) NULL,\n",
                "    IC_ADMISSION_NOTIFICATION_7D_AVG DECIMAL(16,2) NULL,\n",
                "\tIC_ADMISSION_NOTIFICATION_7D_AVG_LAG DECIMAL(16,2) NULL\n",
                ");\n",
                "GO\n",
                "\n",
                "-- 2) CREATE INDEX(ES).....\n",
                "DROP INDEX IF EXISTS [NCIX_DLI_DOS_RIVM_IC_OPNAME]\n",
                "    ON [VWSDEST].[RIVM_IC_OPNAME]\n",
                "GO\n",
                "\n",
                "CREATE NONCLUSTERED INDEX [NCIX_DLI_DOS_RIVM_IC_OPNAME]\n",
                "    ON [VWSDEST].[RIVM_IC_OPNAME] (\n",
                "        [DATE_LAST_INSERTED],\n",
                "        [DATE_OF_STATISTICS]\n",
                "    )\n",
                "    INCLUDE (\n",
                "        [DATE_OF_REPORT], \n",
                "        [IC_ADMISSION_NOTIFICATION], \n",
                "        [IC_ADMISSION],\n",
                "        [OLD_DATE_OF_STATISTICS_UNIX],\n",
                "        [OLD_IC_ADMISSION_NOTIFICATION],\n",
                "        [DIFFERENCE_IC_ADMISSION_NOTIFICATION],\n",
                "        [OLD_IC_ADMISSION],\n",
                "        [DIFFERENCE_IC_ADMISSION]\n",
                "    );\n",
                "GO"
            ]
        }
    ],
    "metadata": {
        "kernelspec": {
            "display_name": "SQL",
            "language": "sql",
            "name": "SQL"
        },
        "language_info": {
            "name": "sql",
            "version": ""
        }
    },
    "nbformat": 4,
    "nbformat_minor": 2
}
