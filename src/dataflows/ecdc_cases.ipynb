{
    "cells": [
        {
            "cell_type": "markdown",
            "metadata": {
                "azdata_cell_guid": "a1bff903-eb61-4e65-82a1-c4e918bbcac8"
            },
            "source": [
                "# **INTRODUCTIONS**\n",
                "\n",
                "---\n",
                "\n",
                "ECDC (European Centre for Disease Prevention and Control) is the agency that records data of COVID-19 in whole EU.\n",
                "This specific workflow gathers all the recorded cases throughout the EU.\n",
                "\n",
                "2022-04: Currently a fix is needed because the sources format has been changed.\n",
                "\n",
                "1. **[Stored Procedures](#stored=procedures)**\n"
            ]
        },
        {
            "cell_type": "markdown",
            "metadata": {
                "azdata_cell_guid": "b883932e-c47b-4de6-9629-eca0ff8aeabb"
            },
            "source": [
                "# **Stored Procedures**\n",
                "---"
            ]
        },
        {
            "cell_type": "code",
            "execution_count": null,
            "metadata": {
                "azdata_cell_guid": "8afe1341-1b29-4d6f-b896-861d70ae3472",
                "tags": []
            },
            "outputs": [],
            "source": [
                "SET ANSI_NULLS ON\n",
                "GO\n",
                "SET QUOTED_IDENTIFIER ON\n",
                "GO\n",
                "-- Copyright (c) 2020 De Staat der Nederlanden, Ministerie van   Volksgezondheid, Welzijn en Sport. \n",
                "-- Licensed under the EUROPEAN UNION PUBLIC LICENCE v. 1.2 - see https://github.com/minvws/nl-contact-tracing-app-coordinationfor more information.\n",
                "\n",
                "ALTER   PROCEDURE [dbo].[SP_ECDC_VARIANTS_INTER]\n",
                "AS\n",
                "BEGIN\n",
                "    INSERT INTO VWSINTER.ECDC_VARIANTS\n",
                "    (\n",
                "        [COUNTRY],\n",
                "        [COUNTRY_CODE],\n",
                "        [YEAR_WEEK],\n",
                "        [SOURCE],\n",
                "        [NEW_CASES],\n",
                "        [NUMBER_SEQUENCED],\n",
                "        [PERCENT_CASES_SEQUENCED],\n",
                "        [VALID_DENOMINATOR],\n",
                "        [VARIANT],\n",
                "        [NUMBER_DETECTIONS_VARIANT],\n",
                "        [PERCENT_VARIANT]\n",
                "    )\n",
                "     SELECT\n",
                "        [COUNTRY],\n",
                "        [COUNTRY_CODE],\n",
                "        [YEAR_WEEK],\n",
                "        [SOURCE],\n",
                "        CASE \n",
                "            WHEN [NEW_CASES] = 'NA'\n",
                "            THEN CAST('' AS INT)\n",
                "            ELSE CAST(NULLIF([NEW_CASES],'') AS INT)\n",
                "        END AS NEW_CASES,\n",
                "        CAST([NUMBER_SEQUENCED] AS INT) AS NUMBER_SEQUENCED,\n",
                "        CASE \n",
                "            WHEN [PERCENT_CASES_SEQUENCED] = 'NA'\n",
                "            THEN CAST(0 AS decimal(8,3))\n",
                "           ELSE CAST(NULLIF([PERCENT_CASES_SEQUENCED],'') AS decimal(8,3))\n",
                "        END AS PERCENT_CASES_SEQUENCED,\n",
                "        CASE \n",
                "            WHEN [VALID_DENOMINATOR] = 'Yes' \n",
                "            THEN CAST(1 as bit) \n",
                "            ELSE CAST(0 as bit) \n",
                "        END AS VALID_DENOMINATOR,\n",
                "        [VARIANT],\n",
                "        CAST(NULLIF([NUMBER_DETECTIONS_VARIANT],'') AS INT) AS NUMBER_DETECTIONS_VARIANT,\n",
                "        CASE \n",
                "           WHEN [PERCENT_VARIANT] = 'NA'\n",
                "            THEN CAST(0 AS decimal(8,3))\n",
                "            ELSE CAST(NULLIF([PERCENT_VARIANT],'') AS decimal(8,3))\n",
                "        END AS PERCENT_VARIANT\n",
                "    FROM \n",
                "       VWSSTAGE.ECDC_VARIANTS\n",
                "    WHERE DATE_LAST_INSERTED = (SELECT MAX(DATE_LAST_INSERTED) from VWSSTAGE.ECDC_VARIANTS)\n",
                "END;\n",
                "GO\n"
            ]
        }
    ],
    "metadata": {
        "kernelspec": {
            "display_name": "SQL",
            "language": "sql",
            "name": "SQL"
        },
        "language_info": {
            "name": "sql",
            "version": ""
        }
    },
    "nbformat": 4,
    "nbformat_minor": 2
}
