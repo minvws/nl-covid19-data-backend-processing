{
    "cells": [
        {
            "attachments": {},
            "cell_type": "markdown",
            "metadata": {
                "azdata_cell_guid": "5cdc0d05-c1b4-453a-a8a4-4cfc9a1015ad"
            },
            "source": [
                "```sql\n",
                "-- COPYRIGHT (C) 2020 DE STAAT DER NEDERLANDEN, MINISTERIE VAN   VOLKSGEZONDHEID, WELZIJN EN SPORT.\n",
                "-- LICENSED UNDER THE EUROPEAN UNION PUBLIC LICENCE V. 1.2 - SEE HTTPS://GITHUB.COM/MINVWS/NL-CONTACT-TRACING-APP-COORDINATIONFOR MORE INFORMATION.\n",
                "```\n",
                "\n",
                "# **INTRODUCTIONS**\n",
                "\n",
                "---\n",
                "\n",
                "The source code is separated into multiple sections:\n",
                "\n",
                "1. **[Tables](#tables)**\n",
                "2. **[Stored Procedures](#stored-procedures)**\n",
                "3. **[Views](#views)**\n",
                "4. **[Datatino Configurations](#datatino-configurations)**"
            ]
        },
        {
            "attachments": {},
            "cell_type": "markdown",
            "metadata": {
                "azdata_cell_guid": "ce7a3bc7-6986-4d81-bf27-1a2818c095ce"
            },
            "source": [
                "# **DEPENDENCIES**\n",
                "\n",
                "---\n",
                "\n",
                "```json\n",
                "{\n",
                "    \"depends-on\": [\n",
                "        \"src/utils/conversions.ipynb\",\n",
                "        \"src/utils/schemas.ipynb\",\n",
                "        \"src/utils/protos.ipynb\",\n",
                "        \"src/dataflows/LCPS_API_LNAZ_HOSPITAL_bed_occupancy_old.ipynb\"\n",
                "    ]\n",
                "}\n",
                "```"
            ]
        },
        {
            "attachments": {},
            "cell_type": "markdown",
            "metadata": {
                "azdata_cell_guid": "ce43cf11-e280-4187-a3ba-76e9e6a3f3e1"
            },
            "source": [
                "# **TABLES**\n",
                "---"
            ]
        },
        {
            "attachments": {},
            "cell_type": "markdown",
            "metadata": {
                "azdata_cell_guid": "e63ed1c7-3b48-4191-b40b-0844ac35daff"
            },
            "source": [
                "### STAGINGS"
            ]
        },
        {
            "cell_type": "code",
            "execution_count": null,
            "metadata": {
                "azdata_cell_guid": "b3f6a728-c0e6-4f6c-855c-a92cbe1853a4",
                "dotnet_interactive": {
                    "language": "sql"
                },
                "tags": []
            },
            "outputs": [],
            "source": [
                "-- COPYRIGHT (C) 2020 DE STAAT DER NEDERLANDEN, MINISTERIE VAN VOLKSGEZONDHEID, WELZIJN EN SPORT.\n",
                "-- LICENSED UNDER THE EUROPEAN UNION PUBLIC LICENCE V. 1.2 - SEE HTTPS://GITHUB.COM/MINVWS/NL-CONTACT-TRACING-APP-COORDINATION FOR MORE INFORMATION.\n",
                "\n",
                "SET ANSI_NULLS ON\n",
                "GO\n",
                "\n",
                "SET QUOTED_IDENTIFIER ON\n",
                "GO\n",
                "\n",
                "-- 1) CREATE TABLE(S).....\n",
                "IF NOT EXISTS(SELECT * FROM SYS.TABLES WHERE [OBJECT_ID] = OBJECT_ID(N'[VWSSTAGE].[LCPS_API_LNAZ_HOSPITAL_BED_OCCUPANCY_2023]'))\n",
                "BEGIN\n",
                "    CREATE TABLE [VWSSTAGE].[LCPS_API_LNAZ_HOSPITAL_BED_OCCUPANCY_2023](\n",
                "        [ID] [INT] PRIMARY KEY IDENTITY(1,1),\n",
                "        [DATE_LAST_INSERTED] [DATETIME] NOT NULL DEFAULT GETDATE(),\n",
                "        [DATUM] [VARCHAR](256) NULL,\n",
                "        [IC_CAPACITEIT_TOTAAL] [VARCHAR](256) NULL,\n",
                "        [KLINIEK_CAPACITEIT_TOTAAL] [VARCHAR](256) NULL,\n",
                "        [IC_BEZETTING_COVID] [VARCHAR](256) NULL,\n",
                "        [IC_BEZETTING_COVID_INTERNATIONAAL] [VARCHAR](256) NULL,\n",
                "        [IC_BEZETTING_ONTLABELD] [VARCHAR](256) NULL,\n",
                "        [IC_BEZETTING_NONCOVID] [VARCHAR](256) NULL,\n",
                "        [KLINIEK_BEZETTING_COVID] [VARCHAR](256) NULL,\n",
                "        [KLINIEK_BEZETTING_ONTLABELD] [VARCHAR](256) NULL,\n",
                "        [KLINIEK_BEZETTING_NONCOVID] [VARCHAR](256) NULL,\n",
                "        [IC_OPNAMES_COVID] [VARCHAR](256) NULL,\n",
                "        [KLINIEK_OPNAMES_COVID] [VARCHAR](256) NULL\n",
                "        );\n",
                "END\n",
                "\n",
                "\n",
                "-- 2) CREATE INDEX(ES).....\n",
                "DROP INDEX IF EXISTS [NCIX_LCPS_API_LNAZ_HOSPITAL_BED_OCCUPANCY_2023]\n",
                "    ON [VWSSTAGE].[LCPS_API_LNAZ_HOSPITAL_BED_OCCUPANCY_2023]\n",
                "GO\n",
                "\n",
                "CREATE NONCLUSTERED INDEX [NCIX_LCPS_API_LNAZ_HOSPITAL_BED_OCCUPANCY_2023] \n",
                "ON [VWSSTAGE].[LCPS_API_LNAZ_HOSPITAL_BED_OCCUPANCY_2023] (\n",
                "    [DATE_LAST_INSERTED] ASC\n",
                ") WITH (STATISTICS_NORECOMPUTE = OFF, DROP_EXISTING = OFF, ONLINE = OFF, OPTIMIZE_FOR_SEQUENTIAL_KEY = OFF) ON [PRIMARY]\n",
                "GO"
            ]
        },
        {
            "attachments": {},
            "cell_type": "markdown",
            "metadata": {
                "azdata_cell_guid": "0fbc9342-fa09-4175-9ff1-0121abd441c8"
            },
            "source": [
                "### INTERMEDIATES"
            ]
        },
        {
            "cell_type": "code",
            "execution_count": null,
            "metadata": {
                "azdata_cell_guid": "b78fe875-a8bf-44d7-84b7-252e58cd45be",
                "dotnet_interactive": {
                    "language": "sql"
                },
                "tags": []
            },
            "outputs": [],
            "source": [
                "-- COPYRIGHT (C) 2020 DE STAAT DER NEDERLANDEN, MINISTERIE VAN VOLKSGEZONDHEID, WELZIJN EN SPORT.\n",
                "-- LICENSED UNDER THE EUROPEAN UNION PUBLIC LICENCE V. 1.2 - SEE HTTPS://GITHUB.COM/MINVWS/NL-CONTACT-TRACING-APP-COORDINATION FOR MORE INFORMATION.\n",
                "\n",
                "SET ANSI_NULLS ON\n",
                "GO\n",
                "\n",
                "SET QUOTED_IDENTIFIER ON\n",
                "GO\n",
                "\n",
                "-- 1) CREATE TABLE(S).....\n",
                "IF NOT EXISTS(SELECT * FROM SYS.TABLES WHERE [OBJECT_ID] = OBJECT_ID(N'[VWSINTER].[LCPS_API_LNAZ_HOSPITAL_BED_OCCUPANCY_2023]'))\n",
                "BEGIN\n",
                "    CREATE TABLE [VWSINTER].[LCPS_API_LNAZ_HOSPITAL_BED_OCCUPANCY_2023](\n",
                "        [ID] [INT] PRIMARY KEY IDENTITY(1,1),\n",
                "        [DATE_LAST_INSERTED] [DATETIME] NOT NULL DEFAULT GETDATE(),\n",
                "        [DATUM] [DATETIME] NULL,\n",
                "        [IC_CAPACITEIT_TOTAAL] [INT] NULL,\n",
                "        [KLINIEK_CAPACITEIT_TOTAAL] [INT] NULL,\n",
                "        [IC_BEZETTING_COVID] [INT] NULL,\n",
                "        [IC_BEZETTING_COVID_INTERNATIONAAL] [INT] NULL,\n",
                "        [IC_BEZETTING_ONTLABELD] [INT] NULL,\n",
                "        [IC_BEZETTING_NONCOVID] [INT] NULL,\n",
                "        [KLINIEK_BEZETTING_COVID] [INT] NULL,\n",
                "        [KLINIEK_BEZETTING_ONTLABELD] [INT] NULL,\n",
                "        [KLINIEK_BEZETTING_NONCOVID] [INT] NULL,\n",
                "        [IC_OPNAMES_COVID] [INT] NULL,\n",
                "        [KLINIEK_OPNAMES_COVID] [INT] NULL\n",
                "        );\n",
                "END\n",
                "\n",
                "\n",
                "-- 2) CREATE INDEX(ES).....\n",
                "DROP INDEX IF EXISTS [NCIX_LCPS_API_LNAZ_HOSPITAL_BED_OCCUPANCY_2023]\n",
                "    ON [VWSINTER].[LCPS_API_LNAZ_HOSPITAL_BED_OCCUPANCY_2023]\n",
                "GO\n",
                "\n",
                "CREATE NONCLUSTERED INDEX [NCIX_LCPS_API_LNAZ_HOSPITAL_BED_OCCUPANCY_2023] \n",
                "ON [VWSINTER].[LCPS_API_LNAZ_HOSPITAL_BED_OCCUPANCY_2023] (\n",
                "    [DATE_LAST_INSERTED] ASC\n",
                ") WITH (STATISTICS_NORECOMPUTE = OFF, DROP_EXISTING = OFF, ONLINE = OFF, OPTIMIZE_FOR_SEQUENTIAL_KEY = OFF) ON [PRIMARY]\n",
                "GO"
            ]
        },
        {
            "attachments": {},
            "cell_type": "markdown",
            "metadata": {
                "azdata_cell_guid": "16945e3c-4c7d-421c-92f9-04bc961e4b08"
            },
            "source": [
                "### DESTINATIONS"
            ]
        },
        {
            "cell_type": "code",
            "execution_count": null,
            "metadata": {
                "azdata_cell_guid": "b5bddd83-3e5c-4916-8f69-3b65bc8aaace",
                "dotnet_interactive": {
                    "language": "sql"
                },
                "tags": []
            },
            "outputs": [],
            "source": [
                "-- COPYRIGHT (C) 2020 DE STAAT DER NEDERLANDEN, MINISTERIE VAN VOLKSGEZONDHEID, WELZIJN EN SPORT.\n",
                "-- LICENSED UNDER THE EUROPEAN UNION PUBLIC LICENCE V. 1.2 - SEE HTTPS://GITHUB.COM/MINVWS/NL-CONTACT-TRACING-APP-COORDINATION FOR MORE INFORMATION.\n",
                "\n",
                "SET ANSI_NULLS ON\n",
                "GO\n",
                "\n",
                "SET QUOTED_IDENTIFIER ON\n",
                "GO\n",
                "\n",
                "-- 1) CREATE TABLE(S).....\n",
                "IF NOT EXISTS(SELECT * FROM SYS.TABLES WHERE [OBJECT_ID] = OBJECT_ID(N'[VWSDEST].[LCPS_API_LNAZ_HOSPITAL_BED_OCCUPANCY_2023]'))\n",
                "BEGIN\n",
                "    CREATE TABLE [VWSDEST].[LCPS_API_LNAZ_HOSPITAL_BED_OCCUPANCY_2023](\n",
                "        [ID] [INT] PRIMARY KEY IDENTITY(1,1),\n",
                "        [DATE_LAST_INSERTED] [DATETIME] NOT NULL DEFAULT GETDATE(),\n",
                "        [DATE_OF_REPORT] [DATETIME] NULL,\n",
                "        [DATE_OF_REPORT_UNIX] [BIGINT] NULL,\n",
                "        [IC_BEDS_OCCUPIED_COVID] [INT] NULL,\n",
                "        [IC_BEDS_OCCUPIED_NON_COVID] [INT] NULL,\n",
                "        [IC_BEDS_OCCUPIED_COVID_PERCENTAGE] [DECIMAL](16, 2) NULL,\n",
                "        [NON_IC_BEDS_OCCUPIED_COVID] [INT] NULL,\n",
                "        [IC_INFLUX_COVID] [INT] NULL,\n",
                "        [NON_IC_INFLUX_COVID] [INT] NULL\n",
                "        );\n",
                "END\n",
                "\n",
                "\n",
                "-- 2) CREATE INDEX(ES).....\n",
                "DROP INDEX IF EXISTS [NCIX_LCPS_API_LNAZ_HOSPITAL_BED_OCCUPANCY_2023]\n",
                "    ON [VWSDEST].[LCPS_API_LNAZ_HOSPITAL_BED_OCCUPANCY_2023]\n",
                "GO\n",
                "\n",
                "CREATE NONCLUSTERED INDEX [NCIX_LCPS_API_LNAZ_HOSPITAL_BED_OCCUPANCY_2023] \n",
                "ON [VWSDEST].[LCPS_API_LNAZ_HOSPITAL_BED_OCCUPANCY_2023] (\n",
                "    [DATE_LAST_INSERTED] ASC\n",
                ") WITH (STATISTICS_NORECOMPUTE = OFF, DROP_EXISTING = OFF, ONLINE = OFF, OPTIMIZE_FOR_SEQUENTIAL_KEY = OFF) ON [PRIMARY]\n",
                "GO"
            ]
        },
        {
            "attachments": {},
            "cell_type": "markdown",
            "metadata": {
                "azdata_cell_guid": "991b613b-1793-4c88-a85a-229f4e6fa51e"
            },
            "source": [
                "# **STORED PROCEDURES**\n",
                "---"
            ]
        },
        {
            "attachments": {},
            "cell_type": "markdown",
            "metadata": {
                "azdata_cell_guid": "157e2e17-d669-4d53-9b88-9bfce9675611"
            },
            "source": [
                "### STAGING &rarr; INTERMEDIATE MAPPING"
            ]
        },
        {
            "cell_type": "code",
            "execution_count": null,
            "metadata": {
                "azdata_cell_guid": "9e39a8d6-8f5a-45cb-a1d6-3405d256a5b5",
                "dotnet_interactive": {
                    "language": "sql"
                },
                "tags": []
            },
            "outputs": [],
            "source": [
                "-- Copyright (c) 2020 De Staat der Nederlanden, Ministerie van   Volksgezondheid, Welzijn en Sport. \n",
                "-- Licensed under the EUROPEAN UNION PUBLIC LICENCE v. 1.2 - see https://github.com/minvws/nl-contact-tracing-app-coordinationfor more information.\n",
                "\n",
                "-- Move national data from staging to intermediate table.\n",
                "\n",
                "-- 1) CREATE STORE PROCEDURE(S) STAGE -> INTER.....\n",
                "CREATE OR ALTER PROCEDURE [DBO].[SP_LCPS_API_LNAZ_HOSPITAL_BED_OCCUPANCY_2023_STAGE_TO_INTER]\n",
                "AS\n",
                "BEGIN\n",
                "    INSERT INTO [VWSINTER].[LCPS_API_LNAZ_HOSPITAL_BED_OCCUPANCY_2023] (\n",
                "        [DATUM],\n",
                "        [IC_CAPACITEIT_TOTAAL],\n",
                "        [KLINIEK_CAPACITEIT_TOTAAL],\n",
                "        [IC_BEZETTING_COVID],\n",
                "        [IC_BEZETTING_COVID_INTERNATIONAAL],\n",
                "        [IC_BEZETTING_ONTLABELD],\n",
                "        [IC_BEZETTING_NONCOVID],\n",
                "        [KLINIEK_BEZETTING_COVID],\n",
                "        [KLINIEK_BEZETTING_ONTLABELD],\n",
                "        [KLINIEK_BEZETTING_NONCOVID],\n",
                "        [IC_OPNAMES_COVID],\n",
                "        [KLINIEK_OPNAMES_COVID]\n",
                "    )\n",
                "    SELECT\n",
                "        --- conversion of date in '2020-05-28T00:00:00' format ---\n",
                "        CONVERT(DATETIME, [DATUM], 127),\n",
                "        -- allow empty values and make them null\n",
                "        IIF([IC_CAPACITEIT_TOTAAL] IN ('', 'NA'), NULL, TRIM([IC_CAPACITEIT_TOTAAL])),\n",
                "        IIF([KLINIEK_CAPACITEIT_TOTAAL] IN ('', 'NA'), NULL, TRIM([KLINIEK_CAPACITEIT_TOTAAL])),\n",
                "        IIF([IC_BEZETTING_COVID] IN ('', 'NA'), NULL, TRIM([IC_BEZETTING_COVID])),\n",
                "        IIF([IC_BEZETTING_COVID_INTERNATIONAAL] IN ('', 'NA'), NULL, TRIM([IC_BEZETTING_COVID_INTERNATIONAAL])),\n",
                "        IIF([IC_BEZETTING_ONTLABELD] IN ('', 'NA'), NULL, TRIM([IC_BEZETTING_ONTLABELD])),\n",
                "        IIF([IC_BEZETTING_NONCOVID] IN ('', 'NA'), NULL, TRIM([IC_BEZETTING_NONCOVID])),\n",
                "        IIF([KLINIEK_BEZETTING_COVID] IN ('', 'NA'), NULL, TRIM([KLINIEK_BEZETTING_COVID])),\n",
                "        IIF([KLINIEK_BEZETTING_ONTLABELD] IN ('', 'NA'), NULL, TRIM([KLINIEK_BEZETTING_ONTLABELD])),\n",
                "        IIF([KLINIEK_BEZETTING_NONCOVID] IN ('', 'NA'), NULL, TRIM([KLINIEK_BEZETTING_NONCOVID])),\n",
                "        IIF([IC_OPNAMES_COVID] IN ('', 'NA'), NULL, TRIM([IC_OPNAMES_COVID])),\n",
                "        IIF([KLINIEK_OPNAMES_COVID] IN ('', 'NA'), NULL, TRIM([KLINIEK_OPNAMES_COVID]))\n",
                "    FROM \n",
                "        [VWSSTAGE].[LCPS_API_LNAZ_HOSPITAL_BED_OCCUPANCY_2023]\n",
                "    WHERE [DATE_LAST_INSERTED] = (SELECT MAX([DATE_LAST_INSERTED]) FROM [VWSSTAGE].[LCPS_API_LNAZ_HOSPITAL_BED_OCCUPANCY_2023])\n",
                "END;\n",
                "GO\n"
            ]
        },
        {
            "attachments": {},
            "cell_type": "markdown",
            "metadata": {
                "azdata_cell_guid": "4285b14f-17c1-4e48-ad9e-49365e008058"
            },
            "source": [
                "### INTERMEDIATE &rarr; DESTINATION MAPPING"
            ]
        },
        {
            "cell_type": "code",
            "execution_count": null,
            "metadata": {
                "azdata_cell_guid": "ef39c170-5229-4d50-8a83-fe1f3e71365a",
                "dotnet_interactive": {
                    "language": "sql"
                },
                "tags": []
            },
            "outputs": [],
            "source": [
                "-- COPYRIGHT (C) 2020 DE STAAT DER NEDERLANDEN, MINISTERIE VAN VOLKSGEZONDHEID, WELZIJN EN SPORT.\n",
                "-- LICENSED UNDER THE EUROPEAN UNION PUBLIC LICENCE V. 1.2 - SEE HTTPS://GITHUB.COM/MINVWS/NL-CONTACT-TRACING-APP-COORDINATION FOR MORE INFORMATION.\n",
                "\n",
                "-- 1) CREATE STORE PROCEDURE(S) INTER -> DEST.....\n",
                "CREATE OR ALTER PROCEDURE [DBO].[SP_LCPS_API_LNAZ_HOSPITAL_BED_OCCUPANCY_2023_INTER_TO_DEST]\n",
                "AS\n",
                "BEGIN\n",
                "    INSERT INTO [VWSDEST].[LCPS_API_LNAZ_HOSPITAL_BED_OCCUPANCY_2023] (\n",
                "        [DATE_OF_REPORT],\n",
                "        [DATE_OF_REPORT_UNIX],\n",
                "        [IC_BEDS_OCCUPIED_COVID],\n",
                "        [IC_BEDS_OCCUPIED_NON_COVID],\n",
                "        [IC_BEDS_OCCUPIED_COVID_PERCENTAGE],\n",
                "        [NON_IC_BEDS_OCCUPIED_COVID],\n",
                "        [IC_INFLUX_COVID],\n",
                "        [NON_IC_INFLUX_COVID]\n",
                "    )\n",
                "    SELECT \n",
                "        [DATUM]                                                                                                 AS DATE_OF_REPORT,\n",
                "        dbo.CONVERT_DATETIME_TO_UNIX([DATUM])                                                                   AS DATE_OF_REPORT_UNIX,\n",
                "        [IC_BEZETTING_COVID]                                                                                    AS IC_BEDS_OCCUPIED_COVID,\n",
                "        [IC_BEZETTING_NONCOVID]                                                                                 AS IC_BEDS_OCCUPIED_NON_COVID,\n",
                "        --If either IC_BEDDEN_COVID or IC_BEDDEN_NON_COVID equals NULL, NULL is the result of the line below\n",
                "        ROUND((CAST([IC_BEZETTING_COVID] as DECIMAL)/([IC_BEZETTING_NONCOVID]+[IC_BEZETTING_COVID]) * 100.0),2) AS IC_BEDS_OCCUPIED_COVID_PERCENTAGE,\n",
                "        [KLINIEK_BEZETTING_COVID]                                                                               AS NON_IC_BEDS_OCCUPIED_COVID,\n",
                "        [IC_OPNAMES_COVID]                                                                                      AS IC_INFLUX_COVID,\n",
                "        [KLINIEK_OPNAMES_COVID]                                                                                 AS NON_IC_INFLUX_COVID\n",
                "    FROM [VWSINTER].[LCPS_API_LNAZ_HOSPITAL_BED_OCCUPANCY_2023]\n",
                "    WHERE [DATE_LAST_INSERTED] = (SELECT MAX([DATE_LAST_INSERTED]) FROM [VWSINTER].[LCPS_API_LNAZ_HOSPITAL_BED_OCCUPANCY_2023])\n",
                "END\n",
                "GO\n"
            ]
        },
        {
            "attachments": {},
            "cell_type": "markdown",
            "metadata": {
                "azdata_cell_guid": "b883932e-c47b-4de6-9629-eca0ff8aeabb"
            },
            "source": [
                "# **VIEWS**\n",
                "---"
            ]
        },
        {
            "attachments": {},
            "cell_type": "markdown",
            "metadata": {},
            "source": [
                "### VIEWS - POWER BI"
            ]
        },
        {
            "cell_type": "code",
            "execution_count": null,
            "metadata": {},
            "outputs": [],
            "source": [
                "-- Copyright (c) 2020 De Staat der Nederlanden, Ministerie van   Volksgezondheid, Welzijn en Sport. \n",
                "-- Licensed under the EUROPEAN UNION PUBLIC LICENCE v. 1.2 - see https://github.com/minvws/nl-contact-tracing-app-coordinationfor more information.\n",
                "\n",
                "CREATE OR ALTER VIEW [VWSREPORT].[V_LCPS_API_HOSPITAL_BED_LCPS_2023] AS\n",
                "SELECT \n",
                "    [DATE_OF_REPORT_UNIX] AS DATE_UNIX,\n",
                "    [NON_IC_BEDS_OCCUPIED_COVID] as beds_occupied_covid,\n",
                "    [NON_IC_INFLUX_COVID] AS [INFLUX_COVID_PATIENTS],\n",
                "    [IC_BEDS_OCCUPIED_COVID] ,\n",
                "    [IC_BEDS_OCCUPIED_NON_COVID],\n",
                "    [IC_BEDS_OCCUPIED_COVID_PERCENTAGE],\n",
                "    dbo.CONVERT_DATETIME_TO_UNIX(DATE_LAST_INSERTED)  AS DATE_OF_INSERTION_UNIX\n",
                "FROM [VWSDEST].[LCPS_API_LNAZ_HOSPITAL_BED_OCCUPANCY_2023]\n",
                "WHERE DATE_LAST_INSERTED = (SELECT MAX(DATE_LAST_INSERTED)\n",
                "                            FROM [VWSDEST].[LCPS_API_LNAZ_HOSPITAL_BED_OCCUPANCY_2023]);\n",
                "GO"
            ]
        }
    ],
    "metadata": {
        "kernelspec": {
            "display_name": "SQL",
            "language": "sql",
            "name": "SQL"
        },
        "language_info": {
            "name": "sql",
            "version": ""
        }
    },
    "nbformat": 4,
    "nbformat_minor": 2
}
