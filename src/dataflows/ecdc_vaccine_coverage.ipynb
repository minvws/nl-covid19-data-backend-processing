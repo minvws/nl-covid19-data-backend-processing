{
    "cells": [
        {
            "cell_type": "markdown",
            "metadata": {
                "azdata_cell_guid": "a1bff903-eb61-4e65-82a1-c4e918bbcac8"
            },
            "source": [
                "```sql\n",
                "-- COPYRIGHT (C) 2020 DE STAAT DER NEDERLANDEN, MINISTERIE VAN VOLKSGEZONDHEID, WELZIJN EN SPORT.\n",
                "-- LICENSED UNDER THE EUROPEAN UNION PUBLIC LICENCE V. 1.2 - SEE HTTPS://GITHUB.COM/MINVWS/NL-CONTACT-TRACING-APP-COORDINATION FOR MORE INFORMATION.\n",
                "```\n",
                "\n",
                "# **INTRODUCTIONS**\n",
                "\n",
                "---\n",
                "\n",
                "1. **[Datatino Configurations](#datatino-configurations)**\n"
            ]
        },
        {
            "cell_type": "markdown",
            "metadata": {},
            "source": [
                "# **DEPENDENCIES**\n",
                "---\n",
                "\n",
                "```json\n",
                "{\n",
                "    \"depends-on\": [\n",
                "        \"src/utils/schemas.ipynb\",\n",
                "        \"src/utils/conversions.ipynb\"\n",
                "    ]\n",
                "}\n",
                "```"
            ]
        },
        {
            "cell_type": "markdown",
            "metadata": {},
            "source": [
                "# **DATATINO CONFIGURATIONS**\n",
                "---"
            ]
        },
        {
            "cell_type": "markdown",
            "metadata": {},
            "source": [
                "> WORKFLOWS"
            ]
        },
        {
            "cell_type": "code",
            "execution_count": null,
            "metadata": {},
            "outputs": [],
            "source": [
                "-- 1) UPSERT WORKFLOW(S).....\n",
                "DECLARE @workflow_name NVARCHAR(50) = 'ECDC_VACCINE_COVERAGE_TOTAL',\n",
                "        @workflow_id INT,        \n",
                "        @workflow_description VARCHAR(256),\n",
                "        @is_active INT;\n",
                "\n",
                "-- 1.1) SET ENVIRONMENTAL VARIABLES.....\n",
                "SET @is_active = CASE LOWER('#{ Environment }#')\n",
                "    WHEN 'production' THEN 0\n",
                "    WHEN 'acceptance' THEN 0\n",
                "    ELSE 0\n",
                "END;\n",
                "\n",
                "SELECT TOP(1)\n",
                "    @workflow_id = workflows.[ID]\n",
                "FROM [DATATINO_ORCHESTRATOR_1].[WORKFLOWS] workflows\n",
                "INNER JOIN [DATATINO_ORCHESTRATOR_1].[V_WORKFLOWS] v_workflows ON v_workflows.[DATAFLOW_ID] = workflows.[DATAFLOW_ID] AND v_workflows.[ID] = workflows.[ID]\n",
                "WHERE v_workflows.[NAME] = @workflow_name;\n",
                "\n",
                "SET @workflow_description = CONCAT('WORKFLOW: ', @workflow_name);\n",
                "\n",
                "EXECUTE [DATATINO_ORCHESTRATOR_1].[UPSERT_WORKFLOW]\n",
                "    @id = @workflow_id, \n",
                "    @workflow_name = @workflow_name,\n",
                "    @description = @workflow_description,\n",
                "    @schedule = '0 13 * * WED', -- AT 02:00 PM, ON WEDNESDAY\n",
                "    @active = @is_active;\n",
                "GO"
            ]
        }
    ],
    "metadata": {
        "kernelspec": {
            "display_name": "SQL",
            "language": "sql",
            "name": "SQL"
        },
        "language_info": {
            "name": "sql",
            "version": ""
        }
    },
    "nbformat": 4,
    "nbformat_minor": 2
}
