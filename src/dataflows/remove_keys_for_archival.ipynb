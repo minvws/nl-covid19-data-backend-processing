{
 "cells": [
  {
   "attachments": {},
   "cell_type": "markdown",
   "metadata": {},
   "source": [
    "```sql\n",
    "-- COPYRIGHT (C) 2020 DE STAAT DER NEDERLANDEN, MINISTERIE VAN   VOLKSGEZONDHEID, WELZIJN EN SPORT.\n",
    "-- LICENSED UNDER THE EUROPEAN UNION PUBLIC LICENCE V. 1.2 - SEE HTTPS://GITHUB.COM/MINVWS/NL-CONTACT-TRACING-APP-COORDINATIONFOR MORE INFORMATION.\n",
    "```"
   ]
  },
  {
   "attachments": {},
   "cell_type": "markdown",
   "metadata": {},
   "source": [
    "# **DEPENDENCIES**\n",
    "\n",
    "---\n",
    "\n",
    "```json\n",
    "{\n",
    "    \"depends-on\": [\n",
    "        \"src/utils/conversions.ipynb\",\n",
    "        \"src/utils/schemas.ipynb\",\n",
    "        \"src/utils/protos.ipynb\"\n",
    "    ]\n",
    "}\n",
    "```"
   ]
  },
  {
   "attachments": {},
   "cell_type": "markdown",
   "metadata": {},
   "source": [
    "# **DISABLE ARCHIVED PROTOKEYS**\n",
    "---"
   ]
  },
  {
   "attachments": {},
   "cell_type": "markdown",
   "metadata": {},
   "source": [
    ">COR-1604 - Archive page: Klachten bij Huisartsen"
   ]
  },
  {
   "cell_type": "code",
   "execution_count": null,
   "metadata": {
    "vscode": {
     "languageId": "sql"
    }
   },
   "outputs": [],
   "source": [
    "SET ANSI_NULLS ON\n",
    "GO\n",
    "\n",
    "SET QUOTED_IDENTIFIER ON\n",
    "GO\n",
    "\n",
    "--DISABLE DOCTOR RELATED KEYS IN NL.JSON\n",
    "UPDATE [DATATINO_PROTO_1].[CONFIGURATIONS]\n",
    "SET [ACTIVE] = 0\n",
    "WHERE [ID] IN (\n",
    "    SELECT configs.[ID]\n",
    "    FROM [DATATINO_PROTO_1].[VIEWS] views\n",
    "    INNER JOIN [DATATINO_PROTO_1].[CONFIGURATIONS] AS configs ON views.[ID] = configs.[VIEW_ID]\n",
    "        AND configs.[NAME] IN (\n",
    "             'doctor'\n",
    "            ,'difference/doctor__covid_symptoms'\n",
    "            ,'difference/doctor__covid_symptoms_per_100k'\n",
    "            )\n",
    "    INNER JOIN [DATATINO_PROTO_1].[PROTOS] AS protos ON protos.[ID] = configs.[PROTO_ID]\n",
    "        AND protos.[NAME] = 'NL'\n",
    ");\n",
    "\n",
    "GO"
   ]
  }
 ],
 "metadata": {
  "language_info": {
   "name": "csharp"
  },
  "orig_nbformat": 4
 },
 "nbformat": 4,
 "nbformat_minor": 2
}
