{
    "cells": [
        {
            "cell_type": "markdown",
            "metadata": {
                "azdata_cell_guid": "d71a6e4c-77d0-4a82-8b2d-c90180c12c9a"
            },
            "source": [
                "# **INTRODUCTIONS**\n",
                "\n",
                "---\n",
                "\n",
                "The source code is separated into multiple sections:\n",
                "\n",
                "1. **[Tables](#tables)**"
            ]
        },
        {
            "cell_type": "markdown",
            "metadata": {},
            "source": [
                "# **DEPENDENCIES**\n",
                "\n",
                "---\n",
                "\n",
                "```json\n",
                "{\n",
                "    \"depends-on\": [\n",
                "        \"src/utils/conversions.ipynb\",\n",
                "        \"src/utils/schemas.ipynb\",\n",
                "        \"src/utils/protos.ipynb\",\n",
                "        \"src/statics/populations/*\"\n",
                "    ]\n",
                "}\n",
                "```"
            ]
        },
        {
            "cell_type": "markdown",
            "metadata": {},
            "source": [
                "# **TABLES**\n",
                "\n",
                "---\n"
            ]
        },
        {
            "cell_type": "markdown",
            "metadata": {},
            "source": [
                "### STAGING"
            ]
        },
        {
            "cell_type": "code",
            "execution_count": null,
            "metadata": {},
            "outputs": [],
            "source": [
                "-- COPYRIGHT (C) 2020 DE STAAT DER NEDERLANDEN, MINISTERIE VAN   VOLKSGEZONDHEID, WELZIJN EN SPORT.\n",
                "-- LICENSED UNDER THE EUROPEAN UNION PUBLIC LICENCE V. 1.2 - SEE HTTPS://GITHUB.COM/MINVWS/NL-CONTACT-TRACING-APP-COORDINATION FOR MORE INFORMATION.\n",
                "\n",
                "IF NOT EXISTS(SELECT * FROM SYS.SEQUENCES WHERE OBJECT_ID = OBJECT_ID(N'[DBO].[SEQ_VWSSTAGE_RIVM_SEWER_MEASUREMENTS_2021]') AND TYPE = 'SO')\n",
                "CREATE SEQUENCE [SEQ_VWSSTAGE_RIVM_SEWER_MEASUREMENTS_2021]\n",
                "\tSTART WITH 1\n",
                "\tINCREMENT BY 1;\n",
                "GO\n",
                "\n",
                "IF NOT EXISTS(SELECT * FROM SYS.TABLES WHERE OBJECT_ID = OBJECT_ID(N'[VWSSTAGE].[RIVM_SEWER_MEASUREMENTS]'))\n",
                "CREATE TABLE [VWSSTAGE].[RIVM_SEWER_MEASUREMENTS] (\n",
                "\t[ID] INT PRIMARY KEY NOT NULL DEFAULT (NEXT VALUE FOR [DBO].[SEQ_VWSSTAGE_RIVM_SEWER_MEASUREMENTS_2021]),\n",
                "\t[VERSION] VARCHAR(100) NULL,\n",
                "\t[DATE_MEASUREMENT] VARCHAR(100) NULL,\n",
                "\t[RWZI_AWZI_CODE] VARCHAR(100) NULL,\n",
                "\t[RWZI_AWZI_NAME] VARCHAR(100) NULL,\n",
                "\t[RNA_PER_ML] VARCHAR(100) NULL,\n",
                "\t[RNA_FLOW_PER_100000] VARCHAR(100) NULL,\n",
                "\t[DATE_OF_REPORT] VARCHAR(100) NULL,\n",
                "\t[DATE_LAST_INSERTED]  DATETIME DEFAULT GETDATE()\n",
                ");\n",
                "GO"
            ]
        }
    ],
    "metadata": {
        "kernelspec": {
            "display_name": "SQL",
            "language": "sql",
            "name": "SQL"
        },
        "language_info": {
            "name": "sql",
            "version": ""
        }
    },
    "nbformat": 4,
    "nbformat_minor": 2
}
