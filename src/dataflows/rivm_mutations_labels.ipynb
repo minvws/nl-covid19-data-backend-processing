{
    "cells": [
        {
            "attachments": {},
            "cell_type": "markdown",
            "metadata": {
                "azdata_cell_guid": "5cdc0d05-c1b4-453a-a8a4-4cfc9a1015ad"
            },
            "source": [
                "```sql\n",
                "-- COPYRIGHT (C) 2020 DE STAAT DER NEDERLANDEN, MINISTERIE VAN   VOLKSGEZONDHEID, WELZIJN EN SPORT.\n",
                "-- LICENSED UNDER THE EUROPEAN UNION PUBLIC LICENCE V. 1.2 - SEE HTTPS://GITHUB.COM/MINVWS/NL-CONTACT-TRACING-APP-COORDINATIONFOR MORE INFORMATION.\n",
                "```"
            ]
        },
        {
            "attachments": {},
            "cell_type": "markdown",
            "metadata": {
                "azdata_cell_guid": "ce7a3bc7-6986-4d81-bf27-1a2818c095ce"
            },
            "source": [
                "# **DEPENDENCIES**\n",
                "\n",
                "---\n",
                "\n",
                "```json\n",
                "{\n",
                "    \"depends-on\": [\n",
                "        \"src/utils/conversions.ipynb\",\n",
                "        \"src/utils/schemas.ipynb\",\n",
                "        \"src/utils/protos.ipynb\"\n",
                "    ]\n",
                "}\n",
                "```"
            ]
        },
        {
            "attachments": {},
            "cell_type": "markdown",
            "metadata": {
                "azdata_cell_guid": "ce43cf11-e280-4187-a3ba-76e9e6a3f3e1"
            },
            "source": [
                "# **UPDATE VIEW**\n",
                "---"
            ]
        },
        {
            "cell_type": "code",
            "execution_count": null,
            "metadata": {},
            "outputs": [],
            "source": [
                "-- Copyright (c) 2020 De Staat der Nederlanden, Ministerie van Volksgezondheid, Welzijn en Sport.\n",
                " -- Licensed under the EUROPEAN UNION PUBLIC LICENCE v. 1.2 - see https://github.com/minvws/nl-contact-tracing-app-coordination for more information.\n",
                " \n",
                " --File name has _A_ to make sure this file is executed before the view that depends on this.\n",
                " CREATE OR ALTER VIEW [VWSDEST].[V_RIVM_MUTATIONS_TABULAR]\n",
                " AS\n",
                " SELECT \n",
                "        [dbo].[CONVERT_DATETIME_TO_UNIX](A.[DATE_OF_REPORT]) AS DATE_OF_REPORT_UNIX\n",
                "       ,[dbo].[CONVERT_DATETIME_TO_UNIX](A.[DATE_OF_STATISTICS_WEEK_START]) AS DATE_START_UNIX\n",
                "       ,[dbo].[CONVERT_DATETIME_TO_UNIX](dbo.WEEK_END(A.[DATE_OF_STATISTICS_WEEK_START])) AS DATE_END_UNIX\n",
                "       ,REPLACE(A.[VARIANT_CODE], '.', '_') AS [VARIANT_CODE]\n",
                "       ,A.[SORT_ORDER] AS [ORDER]\n",
                "       ,A.[IS_VARIANT_OF_CONCERN]\n",
                "       ,A.[HAS_HISTORICAL_SIGNIFICANCE]\n",
                "       ,A.[SAMPLE_SIZE]\n",
                "       ,A.[VARIANT_CASES] AS [OCCURRENCE]\n",
                "       ,A.[VARIANT_PERCENTAGE] AS [PERCENTAGE]\n",
                "       ,[dbo].[CONVERT_DATETIME_TO_UNIX](A.[DATE_LAST_INSERTED]) AS DATE_OF_INSERTION_UNIX\n",
                "       ,B.[LABEL_EN]\n",
                "       ,B.[LABEL_NL]\n",
                "   FROM [VWSDEST].[RIVM_MUTATIONS] A\n",
                "   LEFT JOIN [VWSSTATIC].[MASTERDATA_VARIANTS] B ON A.[VARIANT_CODE] = B.[VARIANT_CODE]\n",
                "   AND B.[DATE_LAST_INSERTED] = (SELECT MAX([DATE_LAST_INSERTED]) FROM [VWSSTATIC].[MASTERDATA_VARIANTS])\n",
                "   WHERE A.[DATE_LAST_INSERTED] = (SELECT MAX([DATE_LAST_INSERTED]) FROM [VWSDEST].[RIVM_MUTATIONS])\n",
                "GO\n"
            ]
        },
        {
            "attachments": {},
            "cell_type": "markdown",
            "metadata": {},
            "source": [
                "# **UPDATE PROTOS CONFIG**\n",
                "---"
            ]
        },
        {
            "cell_type": "code",
            "execution_count": null,
            "metadata": {},
            "outputs": [],
            "source": [
                "-- NEW COLUMN NAMES"
            ]
        }
    ],
    "metadata": {
        "kernelspec": {
            "display_name": "SQL",
            "language": "sql",
            "name": "SQL"
        },
        "language_info": {
            "name": "sql",
            "version": ""
        }
    },
    "nbformat": 4,
    "nbformat_minor": 2
}
