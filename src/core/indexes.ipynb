{
    "cells": [
        {
            "cell_type": "markdown",
            "metadata": {
                "azdata_cell_guid": "a1bff903-eb61-4e65-82a1-c4e918bbcac8"
            },
            "source": [
                "# **INTRODUCTIONS**\n",
                "\n",
                "---\n",
                "\n",
                "The code is separated into multiple sections:\n",
                "\n",
                "1. **[Indexes](#indexes)**"
            ]
        },
        {
            "cell_type": "markdown",
            "metadata": {},
            "source": [
                "# **INDEXES**\n",
                "\n",
                "___"
            ]
        },
        {
            "cell_type": "markdown",
            "metadata": {},
            "source": [
                "### INITIAL CONFIGURATIONS"
            ]
        },
        {
            "cell_type": "code",
            "execution_count": null,
            "metadata": {},
            "outputs": [],
            "source": [
                "-- COPYRIGHT (C) 2020 DE STAAT DER NEDERLANDEN, MINISTERIE VAN   VOLKSGEZONDHEID, WELZIJN EN SPORT.\n",
                "-- LICENSED UNDER THE EUROPEAN UNION PUBLIC LICENCE V. 1.2 - SEE HTTPS://GITHUB.COM/MINVWS/NL-CONTACT-TRACING-APP-COORDINATIONFOR MORE INFORMATION.\n",
                "\n",
                "IF NOT EXISTS(SELECT * FROM SYS.INDEXES WHERE NAME='IX_INTER_RIVM_INFECTIOUS_PEOPLE')\n",
                "    CREATE NONCLUSTERED INDEX IX_INTER_RIVM_INFECTIOUS_PEOPLE\n",
                "    ON VWSINTER.RIVM_INFECTIOUS_PEOPLE(DATE_LAST_INSERTED);\n",
                "GO\n"
            ]
        },
        {
            "cell_type": "code",
            "execution_count": null,
            "metadata": {},
            "outputs": [],
            "source": [
                "-- COPYRIGHT (C) 2020 DE STAAT DER NEDERLANDEN, MINISTERIE VAN   VOLKSGEZONDHEID, WELZIJN EN SPORT.\n",
                "-- LICENSED UNDER THE EUROPEAN UNION PUBLIC LICENCE V. 1.2 - SEE HTTPS://GITHUB.COM/MINVWS/NL-CONTACT-TRACING-APP-COORDINATIONFOR MORE INFORMATION.\n",
                "\n",
                "IF NOT EXISTS(SELECT * FROM SYS.INDEXES WHERE NAME='IX_INTER_FOUNDATION_NICE_IC_INTAKE_COUNT')\n",
                "    CREATE NONCLUSTERED INDEX IX_INTER_FOUNDATION_NICE_IC_INTAKE_COUNT\n",
                "    ON VWSINTER.FOUNDATION_NICE_IC_INTAKE_COUNT(DATE_LAST_INSERTED);\n",
                "GO\n"
            ]
        },
        {
            "cell_type": "code",
            "execution_count": null,
            "metadata": {},
            "outputs": [],
            "source": [
                "-- COPYRIGHT (C) 2020 DE STAAT DER NEDERLANDEN, MINISTERIE VAN   VOLKSGEZONDHEID, WELZIJN EN SPORT.\n",
                "-- LICENSED UNDER THE EUROPEAN UNION PUBLIC LICENCE V. 1.2 - SEE HTTPS://GITHUB.COM/MINVWS/NL-CONTACT-TRACING-APP-COORDINATIONFOR MORE INFORMATION.\n",
                "\n",
                "IF NOT EXISTS(SELECT * FROM SYS.INDEXES WHERE NAME='IX_INTER_RIVM_REPRODUCTION_NUMBER')\n",
                "    CREATE NONCLUSTERED INDEX IX_INTER_RIVM_REPRODUCTION_NUMBER\n",
                "    ON VWSINTER.RIVM_INFECTIOUS_PEOPLE(DATE_LAST_INSERTED);\n",
                "GO\n"
            ]
        },
        {
            "cell_type": "code",
            "execution_count": null,
            "metadata": {},
            "outputs": [],
            "source": [
                "-- COPYRIGHT (C) 2020 DE STAAT DER NEDERLANDEN, MINISTERIE VAN   VOLKSGEZONDHEID, WELZIJN EN SPORT.\n",
                "-- LICENSED UNDER THE EUROPEAN UNION PUBLIC LICENCE V. 1.2 - SEE HTTPS://GITHUB.COM/MINVWS/NL-CONTACT-TRACING-APP-COORDINATIONFOR MORE INFORMATION.\n",
                "\n",
                "IF NOT EXISTS(SELECT * FROM SYS.INDEXES WHERE NAME='IX_INTER_RIVM_COVID_19_CASE_NATIONAL')\n",
                "    CREATE NONCLUSTERED INDEX IX_INTER_RIVM_COVID_19_CASE_NATIONAL\n",
                "    ON VWSINTER.RIVM_COVID_19_CASE_NATIONAL(DATE_LAST_INSERTED, DATE_FILE);\n",
                "GO\n"
            ]
        },
        {
            "cell_type": "code",
            "execution_count": null,
            "metadata": {},
            "outputs": [],
            "source": [
                "-- COPYRIGHT (C) 2020 DE STAAT DER NEDERLANDEN, MINISTERIE VAN   VOLKSGEZONDHEID, WELZIJN EN SPORT.\n",
                "-- LICENSED UNDER THE EUROPEAN UNION PUBLIC LICENCE V. 1.2 - SEE HTTPS://GITHUB.COM/MINVWS/NL-CONTACT-TRACING-APP-COORDINATIONFOR MORE INFORMATION.\n",
                "\n",
                "IF NOT EXISTS(SELECT * FROM SYS.INDEXES WHERE NAME='IX_INTER_NIVEL_SUSPICIONS_GENERAL_PRACTITIONERS')\n",
                "    CREATE NONCLUSTERED INDEX IX_INTER_NIVEL_SUSPICIONS_GENERAL_PRACTITIONERS\n",
                "    ON VWSINTER.NIVEL_SUSPICIONS_GENERAL_PRACTITIONERS(DATE_LAST_INSERTED);\n",
                "GO\n"
            ]
        },
        {
            "cell_type": "code",
            "execution_count": null,
            "metadata": {},
            "outputs": [],
            "source": [
                "-- COPYRIGHT (C) 2020 DE STAAT DER NEDERLANDEN, MINISTERIE VAN   VOLKSGEZONDHEID, WELZIJN EN SPORT.\n",
                "-- LICENSED UNDER THE EUROPEAN UNION PUBLIC LICENCE V. 1.2 - SEE HTTPS://GITHUB.COM/MINVWS/NL-CONTACT-TRACING-APP-COORDINATIONFOR MORE INFORMATION.\n",
                "\n",
                "IF NOT EXISTS(SELECT * FROM SYS.INDEXES WHERE NAME='IX_INTER_RIVM_SEWER_MEASUREMENTS')\n",
                "    CREATE NONCLUSTERED INDEX IX_INTER_RIVM_SEWER_MEASUREMENTS\n",
                "    ON VWSINTER.RIVM_SEWER_MEASUREMENTS(DATE_LAST_INSERTED);\n",
                "GO\n"
            ]
        },
        {
            "cell_type": "code",
            "execution_count": null,
            "metadata": {},
            "outputs": [],
            "source": [
                "-- COPYRIGHT (C) 2020 DE STAAT DER NEDERLANDEN, MINISTERIE VAN   VOLKSGEZONDHEID, WELZIJN EN SPORT.\n",
                "-- LICENSED UNDER THE EUROPEAN UNION PUBLIC LICENCE V. 1.2 - SEE HTTPS://GITHUB.COM/MINVWS/NL-CONTACT-TRACING-APP-COORDINATIONFOR MORE INFORMATION.\n",
                "\n",
                "IF NOT EXISTS(SELECT * FROM SYS.INDEXES WHERE NAME='IX_RIVM_COVID_19_CASE_NATIONAL')\n",
                "    CREATE NONCLUSTERED INDEX IX_RIVM_COVID_19_CASE_NATIONAL\n",
                "    ON VWSSTAGE.RIVM_COVID_19_CASE_NATIONAL(DATE_LAST_INSERTED);\n",
                "GO\n"
            ]
        },
        {
            "cell_type": "code",
            "execution_count": null,
            "metadata": {},
            "outputs": [],
            "source": [
                "-- COPYRIGHT (C) 2020 DE STAAT DER NEDERLANDEN, MINISTERIE VAN   VOLKSGEZONDHEID, WELZIJN EN SPORT.\n",
                "-- LICENSED UNDER THE EUROPEAN UNION PUBLIC LICENCE V. 1.2 - SEE HTTPS://GITHUB.COM/MINVWS/NL-CONTACT-TRACING-APP-COORDINATIONFOR MORE INFORMATION.\n",
                "\n",
                "IF NOT EXISTS(SELECT * FROM SYS.INDEXES WHERE NAME='IX_FOUNDATION_NICE_IC_INTAKE_COUNT')\n",
                "    CREATE NONCLUSTERED INDEX IX_FOUNDATION_NICE_IC_INTAKE_COUNT\n",
                "    ON VWSSTAGE.FOUNDATION_NICE_IC_INTAKE_COUNT(DATE_LAST_INSERTED);\n",
                "GO\n"
            ]
        },
        {
            "cell_type": "code",
            "execution_count": null,
            "metadata": {},
            "outputs": [],
            "source": [
                "-- COPYRIGHT (C) 2020 DE STAAT DER NEDERLANDEN, MINISTERIE VAN   VOLKSGEZONDHEID, WELZIJN EN SPORT.\n",
                "-- LICENSED UNDER THE EUROPEAN UNION PUBLIC LICENCE V. 1.2 - SEE HTTPS://GITHUB.COM/MINVWS/NL-CONTACT-TRACING-APP-COORDINATIONFOR MORE INFORMATION.\n",
                "\n",
                "IF NOT EXISTS(SELECT * FROM SYS.INDEXES WHERE NAME='IX_NIVEL_SUSPICIONS_GENERAL_PRACTITIONERS')\n",
                "    CREATE NONCLUSTERED INDEX IX_NIVEL_SUSPICIONS_GENERAL_PRACTITIONERS\n",
                "    ON VWSSTAGE.NIVEL_SUSPICIONS_GENERAL_PRACTITIONERS(DATE_LAST_INSERTED);\n",
                "GO\n"
            ]
        },
        {
            "cell_type": "code",
            "execution_count": null,
            "metadata": {},
            "outputs": [],
            "source": [
                "-- COPYRIGHT (C) 2020 DE STAAT DER NEDERLANDEN, MINISTERIE VAN   VOLKSGEZONDHEID, WELZIJN EN SPORT.\n",
                "-- LICENSED UNDER THE EUROPEAN UNION PUBLIC LICENCE V. 1.2 - SEE HTTPS://GITHUB.COM/MINVWS/NL-CONTACT-TRACING-APP-COORDINATIONFOR MORE INFORMATION.\n",
                "\n",
                "IF NOT EXISTS(SELECT * FROM SYS.INDEXES WHERE NAME='IX_RIVM_REPRODUCTION_NUMBER')\n",
                "    CREATE NONCLUSTERED INDEX IX_RIVM_REPRODUCTION_NUMBER\n",
                "    ON VWSSTAGE.RIVM_REPRODUCTION_NUMBER(DATE_LAST_INSERTED);\n",
                "GO\n"
            ]
        },
        {
            "cell_type": "code",
            "execution_count": null,
            "metadata": {},
            "outputs": [],
            "source": [
                "-- COPYRIGHT (C) 2020 DE STAAT DER NEDERLANDEN, MINISTERIE VAN   VOLKSGEZONDHEID, WELZIJN EN SPORT.\n",
                "-- LICENSED UNDER THE EUROPEAN UNION PUBLIC LICENCE V. 1.2 - SEE HTTPS://GITHUB.COM/MINVWS/NL-CONTACT-TRACING-APP-COORDINATIONFOR MORE INFORMATION.\n",
                "\n",
                "IF NOT EXISTS(SELECT * FROM SYS.INDEXES WHERE NAME='IX_RIVM_INFECTIOUS_PEOPLE')\n",
                "    CREATE NONCLUSTERED INDEX IX_RIVM_INFECTIOUS_PEOPLE\n",
                "    ON VWSSTAGE.RIVM_INFECTIOUS_PEOPLE(DATE_LAST_INSERTED);\n",
                "GO\n"
            ]
        },
        {
            "cell_type": "code",
            "execution_count": null,
            "metadata": {},
            "outputs": [],
            "source": [
                "-- COPYRIGHT (C) 2020 DE STAAT DER NEDERLANDEN, MINISTERIE VAN   VOLKSGEZONDHEID, WELZIJN EN SPORT.\n",
                "-- LICENSED UNDER THE EUROPEAN UNION PUBLIC LICENCE V. 1.2 - SEE HTTPS://GITHUB.COM/MINVWS/NL-CONTACT-TRACING-APP-COORDINATIONFOR MORE INFORMATION.\n",
                "\n",
                "IF NOT EXISTS(SELECT * FROM SYS.INDEXES WHERE NAME='IX_RIVM_SEWER_MEASUREMENTS')\n",
                "    CREATE NONCLUSTERED INDEX IX_RIVM_SEWER_MEASUREMENTS\n",
                "    ON VWSSTAGE.RIVM_SEWER_MEASUREMENTS(DATE_LAST_INSERTED);\n",
                "GO\n"
            ]
        },
        {
            "cell_type": "code",
            "execution_count": null,
            "metadata": {},
            "outputs": [],
            "source": [
                "-- COPYRIGHT (C) 2020 DE STAAT DER NEDERLANDEN, MINISTERIE VAN   VOLKSGEZONDHEID, WELZIJN EN SPORT.\n",
                "-- LICENSED UNDER THE EUROPEAN UNION PUBLIC LICENCE V. 1.2 - SEE HTTPS://GITHUB.COM/MINVWS/NL-CONTACT-TRACING-APP-COORDINATIONFOR MORE INFORMATION.\n",
                "\n",
                "IF NOT EXISTS(SELECT * FROM SYS.INDEXES WHERE NAME='IX_STAGE_RIVM_COVID_19_CASE_NATIONAL')\n",
                "    CREATE NONCLUSTERED INDEX IX_STAGE_RIVM_COVID_19_CASE_NATIONAL\n",
                "    ON VWSSTAGE.RIVM_COVID_19_CASE_NATIONAL (DATE_LAST_INSERTED) \n",
                "    INCLUDE (PROVINCE, HOSPITAL_ADMISSION, DECEASED, WEEK_OF_DEATH, MUNICIPAL_HEALTH_SERVICE);\n",
                "GO\n"
            ]
        },
        {
            "cell_type": "code",
            "execution_count": null,
            "metadata": {},
            "outputs": [],
            "source": [
                "-- COPYRIGHT (C) 2020 DE STAAT DER NEDERLANDEN, MINISTERIE VAN   VOLKSGEZONDHEID, WELZIJN EN SPORT.\n",
                "-- LICENSED UNDER THE EUROPEAN UNION PUBLIC LICENCE V. 1.2 - SEE HTTPS://GITHUB.COM/MINVWS/NL-CONTACT-TRACING-APP-COORDINATIONFOR MORE INFORMATION.\n",
                "\n",
                "IF NOT EXISTS(SELECT * FROM SYS.INDEXES WHERE NAME='IX_STAGE_RIVM_COVID_19_NUMBER_MUNICIPALITY')\n",
                "    CREATE NONCLUSTERED INDEX IX_STAGE_RIVM_COVID_19_NUMBER_MUNICIPALITY\n",
                "    ON VWSSTAGE.RIVM_COVID_19_NUMBER_MUNICIPALITY (DATE_LAST_INSERTED) \n",
                "    INCLUDE (DATE_OF_REPORT, DATE_OF_PUBLICATION, MUNICIPALITY_CODE, MUNICIPALITY_NAME, PROVINCE, \n",
                "    SECURITY_REGION_CODE, SECURITY_REGION_NAME, MUNICIPAL_HEALTH_SERVICE, ROAZ_REGION, TOTAL_REPORTED, HOSPITAL_ADMISSION, DECEASED);\n",
                "GO\n"
            ]
        },
        {
            "cell_type": "code",
            "execution_count": null,
            "metadata": {},
            "outputs": [],
            "source": [
                "-- COPYRIGHT (C) 2020 DE STAAT DER NEDERLANDEN, MINISTERIE VAN   VOLKSGEZONDHEID, WELZIJN EN SPORT.\n",
                "-- LICENSED UNDER THE EUROPEAN UNION PUBLIC LICENCE V. 1.2 - SEE HTTPS://GITHUB.COM/MINVWS/NL-CONTACT-TRACING-APP-COORDINATIONFOR MORE INFORMATION.\n",
                "\n",
                "IF NOT EXISTS(SELECT * FROM SYS.INDEXES WHERE NAME='IX_INTER_RIVM_SEWER_MEASUREMENTS_DM')\n",
                "    CREATE NONCLUSTERED INDEX IX_INTER_RIVM_SEWER_MEASUREMENTS_DM\n",
                "    ON VWSINTER.RIVM_SEWER_MEASUREMENTS (DATE_LAST_INSERTED) \n",
                "    INCLUDE (DATE_MEASUREMENT, RWZI_AWZI_CODE, RWZI_AWZI_NAME);\n",
                "GO\n"
            ]
        },
        {
            "cell_type": "code",
            "execution_count": null,
            "metadata": {},
            "outputs": [],
            "source": [
                "-- COPYRIGHT (C) 2020 DE STAAT DER NEDERLANDEN, MINISTERIE VAN   VOLKSGEZONDHEID, WELZIJN EN SPORT.\n",
                "-- LICENSED UNDER THE EUROPEAN UNION PUBLIC LICENCE V. 1.2 - SEE HTTPS://GITHUB.COM/MINVWS/NL-CONTACT-TRACING-APP-COORDINATIONFOR MORE INFORMATION.\n",
                "\n",
                "IF NOT EXISTS(SELECT * FROM SYS.INDEXES WHERE NAME='IX_STAGE_RIVM_SEWER_MEASUREMENTS')\n",
                "    CREATE NONCLUSTERED INDEX IX_STAGE_RIVM_SEWER_MEASUREMENTS\n",
                "    ON VWSSTAGE.RIVM_SEWER_MEASUREMENTS (DATE_LAST_INSERTED) \n",
                "    INCLUDE (DATE_MEASUREMENT, RWZI_AWZI_CODE, RWZI_AWZI_NAME, RNA_PER_ML);\n",
                "GO\n"
            ]
        },
        {
            "cell_type": "code",
            "execution_count": null,
            "metadata": {},
            "outputs": [],
            "source": [
                "-- COPYRIGHT (C) 2020 DE STAAT DER NEDERLANDEN, MINISTERIE VAN   VOLKSGEZONDHEID, WELZIJN EN SPORT.\n",
                "-- LICENSED UNDER THE EUROPEAN UNION PUBLIC LICENCE V. 1.2 - SEE HTTPS://GITHUB.COM/MINVWS/NL-CONTACT-TRACING-APP-COORDINATIONFOR MORE INFORMATION.\n",
                "\n",
                "IF NOT EXISTS(SELECT * FROM SYS.INDEXES WHERE NAME='IX_INTER_RIVM_COVID_19_NUMBER_MUNICIPALITY')\n",
                "    CREATE NONCLUSTERED INDEX IX_INTER_RIVM_COVID_19_NUMBER_MUNICIPALITY\n",
                "    ON VWSINTER.RIVM_COVID_19_NUMBER_MUNICIPALITY (DATE_LAST_INSERTED) \n",
                "    INCLUDE (DATE_OF_PUBLICATION, SECURITY_REGION_CODE, TOTAL_REPORTED, HOSPITAL_ADMISSION, DECEASED)\n",
                "GO\n"
            ]
        },
        {
            "cell_type": "code",
            "execution_count": null,
            "metadata": {},
            "outputs": [],
            "source": [
                "-- COPYRIGHT (C) 2020 DE STAAT DER NEDERLANDEN, MINISTERIE VAN   VOLKSGEZONDHEID, WELZIJN EN SPORT.\n",
                "-- LICENSED UNDER THE EUROPEAN UNION PUBLIC LICENCE V. 1.2 - SEE HTTPS://GITHUB.COM/MINVWS/NL-CONTACT-TRACING-APP-COORDINATIONFOR MORE INFORMATION.\n",
                "\n",
                "IF NOT EXISTS(SELECT * FROM SYS.INDEXES WHERE NAME='IX_INTER_RIVM_COVID_19_NUMBER_MUNICIPALITY_MC')\n",
                "    CREATE NONCLUSTERED INDEX IX_INTER_RIVM_COVID_19_NUMBER_MUNICIPALITY_MC\n",
                "    ON VWSINTER.RIVM_COVID_19_NUMBER_MUNICIPALITY (MUNICIPALITY_CODE) \n",
                "    INCLUDE (DATE_OF_PUBLICATION, MUNICIPALITY_NAME, TOTAL_REPORTED, DATE_LAST_INSERTED)\n",
                "GO\n"
            ]
        },
        {
            "cell_type": "code",
            "execution_count": null,
            "metadata": {},
            "outputs": [],
            "source": [
                "-- COPYRIGHT (C) 2020 DE STAAT DER NEDERLANDEN, MINISTERIE VAN   VOLKSGEZONDHEID, WELZIJN EN SPORT.\n",
                "-- LICENSED UNDER THE EUROPEAN UNION PUBLIC LICENCE V. 1.2 - SEE HTTPS://GITHUB.COM/MINVWS/NL-CONTACT-TRACING-APP-COORDINATIONFOR MORE INFORMATION.\n",
                "\n",
                "IF NOT EXISTS(SELECT * FROM SYS.INDEXES WHERE NAME='IX_INTER_RIVM_COVID_19_NUMBER_MUNICIPALITY_DLI')\n",
                "    CREATE NONCLUSTERED INDEX IX_INTER_RIVM_COVID_19_NUMBER_MUNICIPALITY_DLI\n",
                "    ON VWSINTER.RIVM_COVID_19_NUMBER_MUNICIPALITY (DATE_LAST_INSERTED) \n",
                "    INCLUDE (DATE_OF_PUBLICATION, MUNICIPALITY_CODE, MUNICIPALITY_NAME, TOTAL_REPORTED)\n",
                "GO\n"
            ]
        },
        {
            "cell_type": "code",
            "execution_count": null,
            "metadata": {},
            "outputs": [],
            "source": [
                "-- COPYRIGHT (C) 2020 DE STAAT DER NEDERLANDEN, MINISTERIE VAN   VOLKSGEZONDHEID, WELZIJN EN SPORT.\n",
                "-- LICENSED UNDER THE EUROPEAN UNION PUBLIC LICENCE V. 1.2 - SEE HTTPS://GITHUB.COM/MINVWS/NL-CONTACT-TRACING-APP-COORDINATIONFOR MORE INFORMATION.\n",
                "\n",
                "IF NOT EXISTS(SELECT * FROM SYS.INDEXES WHERE NAME='IX_INTER_FOUNDATION_NICE_IC_INTAKE_COUNT_DLI')\n",
                "    CREATE NONCLUSTERED INDEX IX_INTER_FOUNDATION_NICE_IC_INTAKE_COUNT_DLI\n",
                "    ON VWSINTER.FOUNDATION_NICE_IC_INTAKE_COUNT (DATE_LAST_INSERTED) \n",
                "    INCLUDE (DATE_OF_REPORT, VALUE)\n",
                "GO\n"
            ]
        },
        {
            "cell_type": "code",
            "execution_count": null,
            "metadata": {},
            "outputs": [],
            "source": [
                "-- COPYRIGHT (C) 2020 DE STAAT DER NEDERLANDEN, MINISTERIE VAN   VOLKSGEZONDHEID, WELZIJN EN SPORT.\n",
                "-- LICENSED UNDER THE EUROPEAN UNION PUBLIC LICENCE V. 1.2 - SEE HTTPS://GITHUB.COM/MINVWS/NL-CONTACT-TRACING-APP-COORDINATIONFOR MORE INFORMATION.\n",
                "\n",
                "IF NOT EXISTS(SELECT * FROM SYS.INDEXES WHERE NAME='IX_INTER_RIVM_COVID_19_NUMBER_MUNICIPALITY_MC_DP_MN_HA')\n",
                "      CREATE NONCLUSTERED INDEX IX_INTER_RIVM_COVID_19_NUMBER_MUNICIPALITY_MC_DP_MN_HA\n",
                "      ON VWSINTER.RIVM_COVID_19_NUMBER_MUNICIPALITY (MUNICIPALITY_CODE) \n",
                "      INCLUDE (DATE_OF_PUBLICATION, MUNICIPALITY_NAME, HOSPITAL_ADMISSION)\n",
                "GO\n"
            ]
        },
        {
            "cell_type": "code",
            "execution_count": null,
            "metadata": {},
            "outputs": [],
            "source": [
                "-- COPYRIGHT (C) 2020 DE STAAT DER NEDERLANDEN, MINISTERIE VAN   VOLKSGEZONDHEID, WELZIJN EN SPORT.\n",
                "-- LICENSED UNDER THE EUROPEAN UNION PUBLIC LICENCE V. 1.2 - SEE HTTPS://GITHUB.COM/MINVWS/NL-CONTACT-TRACING-APP-COORDINATIONFOR MORE INFORMATION.\n",
                "\n",
                "IF NOT EXISTS(SELECT * FROM SYS.INDEXES WHERE NAME='IX_INTER_RIVM_COVID_19_NUMBER_MUNICIPALITY_MC_DP_MN_HA_DLI')\n",
                "      CREATE NONCLUSTERED INDEX IX_INTER_RIVM_COVID_19_NUMBER_MUNICIPALITY_MC_DP_MN_HA_DLI\n",
                "      ON VWSINTER.RIVM_COVID_19_NUMBER_MUNICIPALITY (MUNICIPALITY_CODE) \n",
                "      INCLUDE (DATE_OF_PUBLICATION, MUNICIPALITY_NAME, HOSPITAL_ADMISSION, DATE_LAST_INSERTED)\n",
                "GO\n"
            ]
        },
        {
            "cell_type": "code",
            "execution_count": null,
            "metadata": {},
            "outputs": [],
            "source": [
                "-- COPYRIGHT (C) 2020 DE STAAT DER NEDERLANDEN, MINISTERIE VAN   VOLKSGEZONDHEID, WELZIJN EN SPORT.\n",
                "-- LICENSED UNDER THE EUROPEAN UNION PUBLIC LICENCE V. 1.2 - SEE HTTPS://GITHUB.COM/MINVWS/NL-CONTACT-TRACING-APP-COORDINATIONFOR MORE INFORMATION.\n",
                "\n",
                "IF NOT EXISTS(SELECT * FROM SYS.INDEXES WHERE NAME='IX_INTER_RIVM_COVID_19_NUMBER_MUNICIPALITY_DLI_DP_MC_MN_HA')\n",
                "      CREATE NONCLUSTERED INDEX IX_INTER_RIVM_COVID_19_NUMBER_MUNICIPALITY_DLI_DP_MC_MN_HA\n",
                "      ON VWSINTER.RIVM_COVID_19_NUMBER_MUNICIPALITY (DATE_LAST_INSERTED) \n",
                "      INCLUDE (DATE_OF_PUBLICATION, MUNICIPALITY_CODE, MUNICIPALITY_NAME, HOSPITAL_ADMISSION)\n",
                "GO\n"
            ]
        },
        {
            "cell_type": "code",
            "execution_count": null,
            "metadata": {},
            "outputs": [],
            "source": [
                "-- COPYRIGHT (C) 2020 DE STAAT DER NEDERLANDEN, MINISTERIE VAN   VOLKSGEZONDHEID, WELZIJN EN SPORT.\n",
                "-- LICENSED UNDER THE EUROPEAN UNION PUBLIC LICENCE V. 1.2 - SEE HTTPS://GITHUB.COM/MINVWS/NL-CONTACT-TRACING-APP-COORDINATIONFOR MORE INFORMATION.\n",
                "\n",
                "IF NOT EXISTS(SELECT * FROM SYS.INDEXES WHERE NAME='IX_STAGE_FOUNDATION_NICE_IC_INTAKE_COUNT')\n",
                "      CREATE NONCLUSTERED INDEX IX_STAGE_FOUNDATION_NICE_IC_INTAKE_COUNT\n",
                "      ON VWSSTAGE.FOUNDATION_NICE_IC_INTAKE_COUNT (DATE_LAST_INSERTED) \n",
                "      INCLUDE (DATE, VALUE)\n",
                "GO\n"
            ]
        },
        {
            "cell_type": "code",
            "execution_count": null,
            "metadata": {},
            "outputs": [],
            "source": [
                "-- COPYRIGHT (C) 2020 DE STAAT DER NEDERLANDEN, MINISTERIE VAN   VOLKSGEZONDHEID, WELZIJN EN SPORT.\n",
                "-- LICENSED UNDER THE EUROPEAN UNION PUBLIC LICENCE V. 1.2 - SEE HTTPS://GITHUB.COM/MINVWS/NL-CONTACT-TRACING-APP-COORDINATIONFOR MORE INFORMATION.\n",
                "\n",
                "IF NOT EXISTS(SELECT * FROM SYS.INDEXES WHERE NAME='IX_DEST_HOSPITAL_ADMISSIONS_DOR')\n",
                "      CREATE NONCLUSTERED INDEX IX_DEST_HOSPITAL_ADMISSIONS_DOR\n",
                "      ON VWSDEST.HOSPITAL_ADMISSIONS (DATE_OF_REPORT) \n",
                "      INCLUDE (DATE_OF_REPORT_UNIX, MOVING_AVERAGE_HOSPITAL, DATE_LAST_INSERTED);\n",
                "GO\n"
            ]
        },
        {
            "cell_type": "code",
            "execution_count": null,
            "metadata": {},
            "outputs": [],
            "source": [
                "-- COPYRIGHT (C) 2020 DE STAAT DER NEDERLANDEN, MINISTERIE VAN   VOLKSGEZONDHEID, WELZIJN EN SPORT.\n",
                "-- LICENSED UNDER THE EUROPEAN UNION PUBLIC LICENCE V. 1.2 - SEE HTTPS://GITHUB.COM/MINVWS/NL-CONTACT-TRACING-APP-COORDINATIONFOR MORE INFORMATION.\n",
                "\n",
                "IF NOT EXISTS(SELECT * FROM SYS.INDEXES WHERE NAME='IX_DEST_HOSPITAL_ADMISSIONS_DLI_DOR')\n",
                "      CREATE NONCLUSTERED INDEX IX_DEST_HOSPITAL_ADMISSIONS_DLI_DOR\n",
                "      ON VWSDEST.HOSPITAL_ADMISSIONS (DATE_LAST_INSERTED, DATE_OF_REPORT) \n",
                "      INCLUDE (DATE_OF_REPORT_UNIX, MOVING_AVERAGE_HOSPITAL);\n",
                "GO\n"
            ]
        },
        {
            "cell_type": "code",
            "execution_count": null,
            "metadata": {},
            "outputs": [],
            "source": [
                "-- COPYRIGHT (C) 2020 DE STAAT DER NEDERLANDEN, MINISTERIE VAN   VOLKSGEZONDHEID, WELZIJN EN SPORT.\n",
                "-- LICENSED UNDER THE EUROPEAN UNION PUBLIC LICENCE V. 1.2 - SEE HTTPS://GITHUB.COM/MINVWS/NL-CONTACT-TRACING-APP-COORDINATIONFOR MORE INFORMATION.\n",
                "\n",
                "IF NOT EXISTS(SELECT * FROM SYS.INDEXES WHERE NAME='IX_DEST_HOSPITAL_ADMISSIONS_PER_MUNICIPALITY_DLI_DOR')\n",
                "      CREATE NONCLUSTERED INDEX IX_DEST_HOSPITAL_ADMISSIONS_PER_MUNICIPALITY_DLI_DOR\n",
                "      ON VWSDEST.HOSPITAL_ADMISSIONS_PER_MUNICIPALITY (DATE_LAST_INSERTED, DATE_OF_REPORT) \n",
                "      INCLUDE (DATE_OF_REPORT_UNIX, MUNICIPALITY_CODE, MUNICIPALITY_NAME, MOVING_AVERAGE_HOSPITAL);\n",
                "GO\n"
            ]
        },
        {
            "cell_type": "code",
            "execution_count": null,
            "metadata": {},
            "outputs": [],
            "source": [
                "-- COPYRIGHT (C) 2020 DE STAAT DER NEDERLANDEN, MINISTERIE VAN   VOLKSGEZONDHEID, WELZIJN EN SPORT.\n",
                "-- LICENSED UNDER THE EUROPEAN UNION PUBLIC LICENCE V. 1.2 - SEE HTTPS://GITHUB.COM/MINVWS/NL-CONTACT-TRACING-APP-COORDINATIONFOR MORE INFORMATION.\n",
                "\n",
                "IF NOT EXISTS(SELECT * FROM SYS.INDEXES WHERE NAME='IX_DEST_POSITIVE_TESTED_PEOPLE_PER_MUNICIPALITY_DLI_DOR')\n",
                "      CREATE NONCLUSTERED INDEX IX_DEST_POSITIVE_TESTED_PEOPLE_PER_MUNICIPALITY_DLI_DOR\n",
                "      ON VWSDEST.POSITIVE_TESTED_PEOPLE_PER_MUNICIPALITY (DATE_LAST_INSERTED, DATE_OF_REPORT) \n",
                "      INCLUDE (DATE_OF_REPORT_UNIX, MUNICIPALITY_CODE, MUNICIPALITY_NAME, INFECTED_DAILY_TOTAL, INFECTED_DAILY_INCREASE);\n",
                "GO\n"
            ]
        },
        {
            "cell_type": "code",
            "execution_count": null,
            "metadata": {},
            "outputs": [],
            "source": [
                "-- COPYRIGHT (C) 2020 DE STAAT DER NEDERLANDEN, MINISTERIE VAN   VOLKSGEZONDHEID, WELZIJN EN SPORT.\n",
                "-- LICENSED UNDER THE EUROPEAN UNION PUBLIC LICENCE V. 1.2 - SEE HTTPS://GITHUB.COM/MINVWS/NL-CONTACT-TRACING-APP-COORDINATIONFOR MORE INFORMATION.\n",
                "\n",
                "IF NOT EXISTS(SELECT * FROM SYS.INDEXES WHERE NAME='IX_DEST_SEWER_MEASUREMENTS_PER_MUNICIPALITY_DLI')\n",
                "      CREATE NONCLUSTERED INDEX IX_DEST_SEWER_MEASUREMENTS_PER_MUNICIPALITY_DLI\n",
                "      ON VWSDEST.SEWER_MEASUREMENTS_PER_MUNICIPALITY (DATE_LAST_INSERTED) \n",
                "      INCLUDE (WEEK_UNIX, GMCODE);\n",
                "GO\n"
            ]
        },
        {
            "cell_type": "code",
            "execution_count": null,
            "metadata": {},
            "outputs": [],
            "source": [
                "-- COPYRIGHT (C) 2020 DE STAAT DER NEDERLANDEN, MINISTERIE VAN   VOLKSGEZONDHEID, WELZIJN EN SPORT.\n",
                "-- LICENSED UNDER THE EUROPEAN UNION PUBLIC LICENCE V. 1.2 - SEE HTTPS://GITHUB.COM/MINVWS/NL-CONTACT-TRACING-APP-COORDINATIONFOR MORE INFORMATION.\n",
                "\n",
                "IF NOT EXISTS(SELECT * FROM SYS.INDEXES WHERE NAME='IX_DEST_SEWER_MEASUREMENTS_PER_RWZI_DLI')\n",
                "      CREATE NONCLUSTERED INDEX IX_DEST_SEWER_MEASUREMENTS_PER_RWZI_DLI\n",
                "      ON VWSDEST.SEWER_MEASUREMENTS_PER_RWZI (DATE_LAST_INSERTED) \n",
                "      INCLUDE (DATE_MEASUREMENT, DATE_MEASUREMENT_UNIX, WEEK, RWZI_AWZI_CODE, RWZI_AWZI_NAME, AVERAGE_RNA_FLOW_PER_100000);\n",
                "GO\n"
            ]
        },
        {
            "cell_type": "code",
            "execution_count": null,
            "metadata": {},
            "outputs": [],
            "source": [
                "-- COPYRIGHT (C) 2020 DE STAAT DER NEDERLANDEN, MINISTERIE VAN   VOLKSGEZONDHEID, WELZIJN EN SPORT.\n",
                "-- LICENSED UNDER THE EUROPEAN UNION PUBLIC LICENCE V. 1.2 - SEE HTTPS://GITHUB.COM/MINVWS/NL-CONTACT-TRACING-APP-COORDINATIONFOR MORE INFORMATION.\n",
                "\n",
                "IF NOT EXISTS(SELECT * FROM SYS.INDEXES WHERE NAME='IX_ARCHIVE_RIVM_COVID_19_CASE_NATIONAL')\n",
                "      CREATE NONCLUSTERED INDEX IX_ARCHIVE_RIVM_COVID_19_CASE_NATIONAL \n",
                "      ON VWSARCHIVE.RIVM_COVID_19_CASE_NATIONAL_ARCHIVE_INTER (DATE_FILE, DATE_LAST_INSERTED)\n",
                "      INCLUDE(AGEGROUP)\n",
                "GO\n"
            ]
        },
        {
            "cell_type": "code",
            "execution_count": null,
            "metadata": {},
            "outputs": [],
            "source": [
                "-- COPYRIGHT (C) 2020 DE STAAT DER NEDERLANDEN, MINISTERIE VAN   VOLKSGEZONDHEID, WELZIJN EN SPORT.\n",
                "-- LICENSED UNDER THE EUROPEAN UNION PUBLIC LICENCE V. 1.2 - SEE HTTPS://GITHUB.COM/MINVWS/NL-CONTACT-TRACING-APP-COORDINATIONFOR MORE INFORMATION.\n",
                "\n",
                "IF NOT EXISTS(SELECT * FROM SYS.INDEXES WHERE NAME='IX_INTER_RIVM_COVID_19_CASE_NATIONAL_DF')\n",
                "      CREATE NONCLUSTERED INDEX IX_INTER_RIVM_COVID_19_CASE_NATIONAL_DF\n",
                "      ON VWSINTER.RIVM_COVID_19_CASE_NATIONAL (DATE_FILE)\n",
                "GO\n"
            ]
        },
        {
            "cell_type": "code",
            "execution_count": null,
            "metadata": {},
            "outputs": [],
            "source": [
                "-- COPYRIGHT (C) 2020 DE STAAT DER NEDERLANDEN, MINISTERIE VAN   VOLKSGEZONDHEID, WELZIJN EN SPORT.\n",
                "-- LICENSED UNDER THE EUROPEAN UNION PUBLIC LICENCE V. 1.2 - SEE HTTPS://GITHUB.COM/MINVWS/NL-CONTACT-TRACING-APP-COORDINATIONFOR MORE INFORMATION.\n",
                "\n",
                "IF NOT EXISTS(SELECT * FROM SYS.INDEXES WHERE NAME='IX_DEST_SEWER_MEASUREMENTS_PER_RWZI')\n",
                "      CREATE NONCLUSTERED INDEX IX_DEST_SEWER_MEASUREMENTS_PER_RWZI\n",
                "      ON VWSDEST.SEWER_MEASUREMENTS_PER_RWZI (DATE_LAST_INSERTED)\n",
                "      INCLUDE(DATE_MEASUREMENT, DATE_MEASUREMENT_UNIX, WEEK, RWZI_AWZI_CODE, RWZI_AWZI_NAME, AVERAGE_RNA_FLOW_PER_100000);\n",
                "GO\n"
            ]
        },
        {
            "cell_type": "code",
            "execution_count": null,
            "metadata": {},
            "outputs": [],
            "source": [
                "-- COPYRIGHT (C) 2020 DE STAAT DER NEDERLANDEN, MINISTERIE VAN   VOLKSGEZONDHEID, WELZIJN EN SPORT.\n",
                "-- LICENSED UNDER THE EUROPEAN UNION PUBLIC LICENCE V. 1.2 - SEE HTTPS://GITHUB.COM/MINVWS/NL-CONTACT-TRACING-APP-COORDINATIONFOR MORE INFORMATION.\n",
                "\n",
                "IF NOT EXISTS(SELECT * FROM SYS.INDEXES WHERE NAME='IX_DEST_SEWER_MEASUREMENTS_PER_REGION')\n",
                "      CREATE NONCLUSTERED INDEX IX_DEST_SEWER_MEASUREMENTS_PER_REGION\n",
                "      ON VWSDEST.SEWER_MEASUREMENTS_PER_REGION (DATE_LAST_INSERTED)\n",
                "      INCLUDE(WEEK_UNIX, VRCODE, AVERAGE_RNA_FLOW_PER_100000);\n",
                "GO\n"
            ]
        },
        {
            "cell_type": "code",
            "execution_count": null,
            "metadata": {},
            "outputs": [],
            "source": [
                "\n",
                "-- COPYRIGHT (C) 2020 DE STAAT DER NEDERLANDEN, MINISTERIE VAN   VOLKSGEZONDHEID, WELZIJN EN SPORT.\n",
                "-- LICENSED UNDER THE EUROPEAN UNION PUBLIC LICENCE V. 1.2 - SEE HTTPS://GITHUB.COM/MINVWS/NL-CONTACT-TRACING-APP-COORDINATIONFOR MORE INFORMATION.\n",
                "\n",
                "IF NOT EXISTS(SELECT * FROM SYS.INDEXES WHERE NAME='IX_DEST_POSITIVE_TESTED_PEOPLE_PERCENTAGE_PER_REGION_DLI')\n",
                "      CREATE NONCLUSTERED INDEX IX_DEST_POSITIVE_TESTED_PEOPLE_PERCENTAGE_PER_REGION_DLI\n",
                "      ON VWSDEST.POSITIVE_TESTED_PEOPLE_PERCENTAGE_PER_REGION (DATE_LAST_INSERTED)\n",
                "      INCLUDE(DATE_OF_REPORT_UNIX, VRCODE, INFECTED_GGD, PERCENTAGE_INFECTED_GGD, TOTAL_TESTED_GGD);\n",
                "GO\n"
            ]
        },
        {
            "cell_type": "code",
            "execution_count": null,
            "metadata": {},
            "outputs": [],
            "source": [
                "\n",
                "-- COPYRIGHT (C) 2020 DE STAAT DER NEDERLANDEN, MINISTERIE VAN   VOLKSGEZONDHEID, WELZIJN EN SPORT.\n",
                "-- LICENSED UNDER THE EUROPEAN UNION PUBLIC LICENCE V. 1.2 - SEE HTTPS://GITHUB.COM/MINVWS/NL-CONTACT-TRACING-APP-COORDINATIONFOR MORE INFORMATION.\n",
                "\n",
                "IF NOT EXISTS(SELECT * FROM SYS.INDEXES WHERE NAME='IX_DEST_RESULTS_PER_REGION_DOR_VR')\n",
                "      CREATE NONCLUSTERED INDEX IX_DEST_RESULTS_PER_REGION_DOR_VR\n",
                "      ON VWSDEST.RESULTS_PER_REGION (DATE_OF_REPORT, VRCODE)\n",
                "      INCLUDE(DATE_OF_REPORT_UNIX, INFECTED_INCREASE_PER_REGION, DATE_LAST_INSERTED);\n",
                "GO\n"
            ]
        },
        {
            "cell_type": "code",
            "execution_count": null,
            "metadata": {},
            "outputs": [],
            "source": [
                "\n",
                "-- COPYRIGHT (C) 2020 DE STAAT DER NEDERLANDEN, MINISTERIE VAN   VOLKSGEZONDHEID, WELZIJN EN SPORT.\n",
                "-- LICENSED UNDER THE EUROPEAN UNION PUBLIC LICENCE V. 1.2 - SEE HTTPS://GITHUB.COM/MINVWS/NL-CONTACT-TRACING-APP-COORDINATIONFOR MORE INFORMATION.\n",
                "\n",
                "IF NOT EXISTS(SELECT * FROM SYS.INDEXES WHERE NAME='IX_DEST_RESULTS_PER_REGION_DOR_VR')\n",
                "      CREATE NONCLUSTERED INDEX IX_DEST_RESULTS_PER_REGION_DLI_DOR\n",
                "      ON VWSDEST.RESULTS_PER_REGION (DATE_LAST_INSERTED, DATE_OF_REPORT)\n",
                "      INCLUDE(DATE_OF_REPORT_UNIX, VRCODE, INFECTED_INCREASE_PER_REGION);\n",
                "GO\n"
            ]
        },
        {
            "cell_type": "code",
            "execution_count": null,
            "metadata": {},
            "outputs": [],
            "source": [
                "\n",
                "-- COPYRIGHT (C) 2020 DE STAAT DER NEDERLANDEN, MINISTERIE VAN   VOLKSGEZONDHEID, WELZIJN EN SPORT.\n",
                "-- LICENSED UNDER THE EUROPEAN UNION PUBLIC LICENCE V. 1.2 - SEE HTTPS://GITHUB.COM/MINVWS/NL-CONTACT-TRACING-APP-COORDINATIONFOR MORE INFORMATION.\n",
                "\n",
                "IF NOT EXISTS(SELECT * FROM SYS.INDEXES WHERE NAME='IX_DEST_RESULTS_PER_REGION_DLI_DOR')\n",
                "      CREATE NONCLUSTERED INDEX IX_DEST_RESULTS_PER_REGION_DLI_DOR\n",
                "      ON VWSDEST.RESULTS_PER_REGION (DATE_LAST_INSERTED, DATE_OF_REPORT)\n",
                "      INCLUDE(DATE_OF_REPORT_UNIX, VRCODE, INFECTED_INCREASE_PER_REGION);\n",
                "GO\n"
            ]
        },
        {
            "cell_type": "code",
            "execution_count": null,
            "metadata": {},
            "outputs": [],
            "source": [
                "\n",
                "-- COPYRIGHT (C) 2020 DE STAAT DER NEDERLANDEN, MINISTERIE VAN   VOLKSGEZONDHEID, WELZIJN EN SPORT.\n",
                "-- LICENSED UNDER THE EUROPEAN UNION PUBLIC LICENCE V. 1.2 - SEE HTTPS://GITHUB.COM/MINVWS/NL-CONTACT-TRACING-APP-COORDINATIONFOR MORE INFORMATION.\n",
                "\n",
                "IF NOT EXISTS(SELECT * FROM SYS.INDEXES WHERE NAME='IX_DEST_POSITIVE_TESTED_PEOPLE_DOR')\n",
                "      CREATE NONCLUSTERED INDEX IX_DEST_POSITIVE_TESTED_PEOPLE_DOR\n",
                "      ON VWSDEST.POSITIVE_TESTED_PEOPLE (DATE_OF_REPORT)\n",
                "      INCLUDE(DATE_OF_REPORT_UNIX, INFECTED_DAILY_INCREASE, DATE_LAST_INSERTED);\n",
                "GO\n"
            ]
        },
        {
            "cell_type": "code",
            "execution_count": null,
            "metadata": {},
            "outputs": [],
            "source": [
                "\n",
                "-- COPYRIGHT (C) 2020 DE STAAT DER NEDERLANDEN, MINISTERIE VAN   VOLKSGEZONDHEID, WELZIJN EN SPORT.\n",
                "-- LICENSED UNDER THE EUROPEAN UNION PUBLIC LICENCE V. 1.2 - SEE HTTPS://GITHUB.COM/MINVWS/NL-CONTACT-TRACING-APP-COORDINATIONFOR MORE INFORMATION.\n",
                "\n",
                "IF NOT EXISTS(SELECT * FROM SYS.INDEXES WHERE NAME='IX_DEST_POSITIVE_TESTED_PEOPLE_DLI_DOR')\n",
                "      CREATE NONCLUSTERED INDEX IX_DEST_POSITIVE_TESTED_PEOPLE_DLI_DOR\n",
                "      ON VWSDEST.POSITIVE_TESTED_PEOPLE (DATE_LAST_INSERTED, DATE_OF_REPORT)\n",
                "      INCLUDE(DATE_OF_REPORT_UNIX, INFECTED_DAILY_INCREASE);\n",
                "GO\n"
            ]
        },
        {
            "cell_type": "code",
            "execution_count": null,
            "metadata": {},
            "outputs": [],
            "source": [
                "\n",
                "-- COPYRIGHT (C) 2020 DE STAAT DER NEDERLANDEN, MINISTERIE VAN   VOLKSGEZONDHEID, WELZIJN EN SPORT.\n",
                "-- LICENSED UNDER THE EUROPEAN UNION PUBLIC LICENCE V. 1.2 - SEE HTTPS://GITHUB.COM/MINVWS/NL-CONTACT-TRACING-APP-COORDINATIONFOR MORE INFORMATION.\n",
                "\n",
                "IF NOT EXISTS(SELECT * FROM SYS.INDEXES WHERE NAME='IX_DEST_POSITIVE_TESTED_PEOPLE_DOR_DT')\n",
                "      CREATE NONCLUSTERED INDEX IX_DEST_POSITIVE_TESTED_PEOPLE_DOR_DT\n",
                "      ON VWSDEST.POSITIVE_TESTED_PEOPLE (DATE_LAST_INSERTED, DATE_OF_REPORT)\n",
                "      INCLUDE(DATE_OF_REPORT_UNIX, INFECTED_DAILY_TOTAL);\n",
                "GO\n"
            ]
        },
        {
            "cell_type": "code",
            "execution_count": null,
            "metadata": {},
            "outputs": [],
            "source": [
                "\n",
                "-- COPYRIGHT (C) 2020 DE STAAT DER NEDERLANDEN, MINISTERIE VAN   VOLKSGEZONDHEID, WELZIJN EN SPORT.\n",
                "-- LICENSED UNDER THE EUROPEAN UNION PUBLIC LICENCE V. 1.2 - SEE HTTPS://GITHUB.COM/MINVWS/NL-CONTACT-TRACING-APP-COORDINATIONFOR MORE INFORMATION.\n",
                "\n",
                "IF NOT EXISTS(SELECT * FROM SYS.INDEXES WHERE NAME='IX_DEST_POSITIVE_TESTED_PEOPLE_DLI_DOR_DT')\n",
                "      CREATE NONCLUSTERED INDEX IX_DEST_POSITIVE_TESTED_PEOPLE_DLI_DOR_DT\n",
                "      ON VWSDEST.POSITIVE_TESTED_PEOPLE (DATE_LAST_INSERTED, DATE_OF_REPORT)\n",
                "      INCLUDE(DATE_OF_REPORT_UNIX, INFECTED_DAILY_TOTAL);\n",
                "GO\n"
            ]
        },
        {
            "cell_type": "code",
            "execution_count": null,
            "metadata": {},
            "outputs": [],
            "source": [
                "\n",
                "-- COPYRIGHT (C) 2020 DE STAAT DER NEDERLANDEN, MINISTERIE VAN   VOLKSGEZONDHEID, WELZIJN EN SPORT.\n",
                "-- LICENSED UNDER THE EUROPEAN UNION PUBLIC LICENCE V. 1.2 - SEE HTTPS://GITHUB.COM/MINVWS/NL-CONTACT-TRACING-APP-COORDINATIONFOR MORE INFORMATION.\n",
                "\n",
                "IF NOT EXISTS(SELECT * FROM SYS.INDEXES WHERE NAME='IX_DEST_POSITIVE_TESTED_PEOPLE_DLI_DOR_DT')\n",
                "      CREATE NONCLUSTERED INDEX IX_DEST_POSITIVE_TESTED_PEOPLE_DLI_DOR_DT\n",
                "      ON VWSDEST.POSITIVE_TESTED_PEOPLE (DATE_LAST_INSERTED, DATE_OF_REPORT)\n",
                "      INCLUDE(DATE_OF_REPORT_UNIX, INFECTED_DAILY_TOTAL);\n",
                "GO\n"
            ]
        },
        {
            "cell_type": "code",
            "execution_count": null,
            "metadata": {},
            "outputs": [],
            "source": [
                "\n",
                "-- COPYRIGHT (C) 2020 DE STAAT DER NEDERLANDEN, MINISTERIE VAN   VOLKSGEZONDHEID, WELZIJN EN SPORT.\n",
                "-- LICENSED UNDER THE EUROPEAN UNION PUBLIC LICENCE V. 1.2 - SEE HTTPS://GITHUB.COM/MINVWS/NL-CONTACT-TRACING-APP-COORDINATIONFOR MORE INFORMATION.\n",
                "\n",
                "IF NOT EXISTS(SELECT * FROM SYS.INDEXES WHERE NAME='IX_DEST_NURSING_HOMES_TOTALS_DOR_TNRL')\n",
                "      CREATE NONCLUSTERED INDEX IX_DEST_NURSING_HOMES_TOTALS_DOR_TNRL\n",
                "      ON VWSDEST.NURSING_HOMES_TOTALS (DATE_OF_REPORT)\n",
                "      INCLUDE(DATE_OF_REPORT_UNIX, TOTAL_NEW_REPORTED_LOCATIONS, DATE_LAST_INSERTED);\n",
                "GO\n"
            ]
        },
        {
            "cell_type": "code",
            "execution_count": null,
            "metadata": {},
            "outputs": [],
            "source": [
                "\n",
                "-- COPYRIGHT (C) 2020 DE STAAT DER NEDERLANDEN, MINISTERIE VAN   VOLKSGEZONDHEID, WELZIJN EN SPORT.\n",
                "-- LICENSED UNDER THE EUROPEAN UNION PUBLIC LICENCE V. 1.2 - SEE HTTPS://GITHUB.COM/MINVWS/NL-CONTACT-TRACING-APP-COORDINATIONFOR MORE INFORMATION.\n",
                "\n",
                "IF NOT EXISTS(SELECT * FROM SYS.INDEXES WHERE NAME='IX_DEST_NURSING_HOMES_TOTALS_DLI_DOR_TNRL')\n",
                "      CREATE NONCLUSTERED INDEX IX_DEST_NURSING_HOMES_TOTALS_DLI_DOR_TNRL\n",
                "      ON VWSDEST.NURSING_HOMES_TOTALS (DATE_LAST_INSERTED, DATE_OF_REPORT)\n",
                "      INCLUDE(DATE_OF_REPORT_UNIX, TOTAL_NEW_REPORTED_LOCATIONS);\n",
                "GO\n"
            ]
        },
        {
            "cell_type": "code",
            "execution_count": null,
            "metadata": {},
            "outputs": [],
            "source": [
                "\n",
                "-- COPYRIGHT (C) 2020 DE STAAT DER NEDERLANDEN, MINISTERIE VAN   VOLKSGEZONDHEID, WELZIJN EN SPORT.\n",
                "-- LICENSED UNDER THE EUROPEAN UNION PUBLIC LICENCE V. 1.2 - SEE HTTPS://GITHUB.COM/MINVWS/NL-CONTACT-TRACING-APP-COORDINATIONFOR MORE INFORMATION.\n",
                "\n",
                "IF NOT EXISTS(SELECT * FROM SYS.INDEXES WHERE NAME='IX_DEST_NURSING_HOMES_TOTALS_DOR_TRL')\n",
                "      CREATE NONCLUSTERED INDEX IX_DEST_NURSING_HOMES_TOTALS_DOR_TRL\n",
                "      ON VWSDEST.NURSING_HOMES_TOTALS (DATE_OF_REPORT)\n",
                "      INCLUDE(DATE_OF_REPORT_UNIX, TOTAL_REPORTED_LOCATIONS, DATE_LAST_INSERTED);\n",
                "GO\n"
            ]
        },
        {
            "cell_type": "code",
            "execution_count": null,
            "metadata": {},
            "outputs": [],
            "source": [
                "\n",
                "-- COPYRIGHT (C) 2020 DE STAAT DER NEDERLANDEN, MINISTERIE VAN   VOLKSGEZONDHEID, WELZIJN EN SPORT.\n",
                "-- LICENSED UNDER THE EUROPEAN UNION PUBLIC LICENCE V. 1.2 - SEE HTTPS://GITHUB.COM/MINVWS/NL-CONTACT-TRACING-APP-COORDINATIONFOR MORE INFORMATION.\n",
                "\n",
                "IF NOT EXISTS(SELECT * FROM SYS.INDEXES WHERE NAME='IX_DEST_NURSING_HOMES_TOTALS_DLI_DOR_TRL')\n",
                "      CREATE NONCLUSTERED INDEX IX_DEST_NURSING_HOMES_TOTALS_DLI_DOR_TRL\n",
                "      ON VWSDEST.NURSING_HOMES_TOTALS (DATE_LAST_INSERTED, DATE_OF_REPORT)\n",
                "      INCLUDE(DATE_OF_REPORT_UNIX, TOTAL_REPORTED_LOCATIONS);\n",
                "GO\n"
            ]
        },
        {
            "cell_type": "code",
            "execution_count": null,
            "metadata": {},
            "outputs": [],
            "source": [
                "\n",
                "-- COPYRIGHT (C) 2020 DE STAAT DER NEDERLANDEN, MINISTERIE VAN   VOLKSGEZONDHEID, WELZIJN EN SPORT.\n",
                "-- LICENSED UNDER THE EUROPEAN UNION PUBLIC LICENCE V. 1.2 - SEE HTTPS://GITHUB.COM/MINVWS/NL-CONTACT-TRACING-APP-COORDINATIONFOR MORE INFORMATION.\n",
                "\n",
                "IF NOT EXISTS(SELECT * FROM SYS.INDEXES WHERE NAME='IX_DEST_NURSING_HOMES_TOTALS_DOR_IND')\n",
                "      CREATE NONCLUSTERED INDEX IX_DEST_NURSING_HOMES_TOTALS_DOR_IND\n",
                "      ON VWSDEST.NURSING_HOMES_TOTALS (DATE_OF_REPORT)\n",
                "      INCLUDE(DATE_OF_REPORT_UNIX, INFECTED_NURSERY_DAILY, DATE_LAST_INSERTED);\n",
                "GO\n"
            ]
        },
        {
            "cell_type": "code",
            "execution_count": null,
            "metadata": {},
            "outputs": [],
            "source": [
                "\n",
                "-- COPYRIGHT (C) 2020 DE STAAT DER NEDERLANDEN, MINISTERIE VAN   VOLKSGEZONDHEID, WELZIJN EN SPORT.\n",
                "-- LICENSED UNDER THE EUROPEAN UNION PUBLIC LICENCE V. 1.2 - SEE HTTPS://GITHUB.COM/MINVWS/NL-CONTACT-TRACING-APP-COORDINATIONFOR MORE INFORMATION.\n",
                "\n",
                "IF NOT EXISTS(SELECT * FROM SYS.INDEXES WHERE NAME='IX_DEST_NURSING_HOMES_TOTALS_DLI_DOR_IND')\n",
                "      CREATE NONCLUSTERED INDEX IX_DEST_NURSING_HOMES_TOTALS_DLI_DOR_IND\n",
                "      ON VWSDEST.NURSING_HOMES_TOTALS (DATE_LAST_INSERTED, DATE_OF_REPORT)\n",
                "      INCLUDE(DATE_OF_REPORT_UNIX, INFECTED_NURSERY_DAILY);\n",
                "GO\n"
            ]
        },
        {
            "cell_type": "code",
            "execution_count": null,
            "metadata": {},
            "outputs": [],
            "source": [
                "\n",
                "-- COPYRIGHT (C) 2020 DE STAAT DER NEDERLANDEN, MINISTERIE VAN   VOLKSGEZONDHEID, WELZIJN EN SPORT.\n",
                "-- LICENSED UNDER THE EUROPEAN UNION PUBLIC LICENCE V. 1.2 - SEE HTTPS://GITHUB.COM/MINVWS/NL-CONTACT-TRACING-APP-COORDINATIONFOR MORE INFORMATION.\n",
                "\n",
                "IF NOT EXISTS(SELECT * FROM SYS.INDEXES WHERE NAME='IX_DEST_NURSING_HOMES_TOTALS_DOR_DND')\n",
                "      CREATE NONCLUSTERED INDEX IX_DEST_NURSING_HOMES_TOTALS_DOR_DND\n",
                "      ON VWSDEST.NURSING_HOMES_TOTALS (DATE_OF_REPORT)\n",
                "      INCLUDE(DATE_OF_REPORT_UNIX, DECEASED_NURSERY_DAILY, DATE_LAST_INSERTED);\n",
                "GO\n"
            ]
        },
        {
            "cell_type": "code",
            "execution_count": null,
            "metadata": {},
            "outputs": [],
            "source": [
                "\n",
                "-- COPYRIGHT (C) 2020 DE STAAT DER NEDERLANDEN, MINISTERIE VAN   VOLKSGEZONDHEID, WELZIJN EN SPORT.\n",
                "-- LICENSED UNDER THE EUROPEAN UNION PUBLIC LICENCE V. 1.2 - SEE HTTPS://GITHUB.COM/MINVWS/NL-CONTACT-TRACING-APP-COORDINATIONFOR MORE INFORMATION.\n",
                "\n",
                "IF NOT EXISTS(SELECT * FROM SYS.INDEXES WHERE NAME='IX_DEST_NURSING_HOMES_TOTALS_DOR_DND')\n",
                "      CREATE NONCLUSTERED INDEX IX_DEST_NURSING_HOMES_TOTALS_DOR_DND\n",
                "      ON VWSDEST.NURSING_HOMES_TOTALS (DATE_OF_REPORT)\n",
                "      INCLUDE(DATE_OF_REPORT_UNIX, DECEASED_NURSERY_DAILY, DATE_LAST_INSERTED);\n",
                "GO\n"
            ]
        },
        {
            "cell_type": "code",
            "execution_count": null,
            "metadata": {},
            "outputs": [],
            "source": [
                "\n",
                "-- COPYRIGHT (C) 2020 DE STAAT DER NEDERLANDEN, MINISTERIE VAN   VOLKSGEZONDHEID, WELZIJN EN SPORT.\n",
                "-- LICENSED UNDER THE EUROPEAN UNION PUBLIC LICENCE V. 1.2 - SEE HTTPS://GITHUB.COM/MINVWS/NL-CONTACT-TRACING-APP-COORDINATIONFOR MORE INFORMATION.\n",
                "\n",
                "IF NOT EXISTS(SELECT * FROM SYS.INDEXES WHERE NAME='IX_DEST_NURSING_HOMES_TOTALS_DLI_DOR_DND')\n",
                "      CREATE NONCLUSTERED INDEX IX_DEST_NURSING_HOMES_TOTALS_DLI_DOR_DND\n",
                "      ON VWSDEST.NURSING_HOMES_TOTALS (DATE_LAST_INSERTED, DATE_OF_REPORT)\n",
                "      INCLUDE(DATE_OF_REPORT_UNIX, DECEASED_NURSERY_DAILY);\n",
                "GO\n"
            ]
        },
        {
            "cell_type": "code",
            "execution_count": null,
            "metadata": {},
            "outputs": [],
            "source": [
                "\n",
                "-- COPYRIGHT (C) 2020 DE STAAT DER NEDERLANDEN, MINISTERIE VAN   VOLKSGEZONDHEID, WELZIJN EN SPORT.\n",
                "-- LICENSED UNDER THE EUROPEAN UNION PUBLIC LICENCE V. 1.2 - SEE HTTPS://GITHUB.COM/MINVWS/NL-CONTACT-TRACING-APP-COORDINATIONFOR MORE INFORMATION.\n",
                "\n",
                "IF NOT EXISTS(SELECT * FROM SYS.INDEXES WHERE NAME='IX_DEST_NURSING_HOMES_PER_REGION')\n",
                "      CREATE NONCLUSTERED INDEX IX_DEST_NURSING_HOMES_PER_REGION\n",
                "      ON VWSDEST.NURSING_HOMES_PER_REGION (DATE_LAST_INSERTED)\n",
                "      INCLUDE([DATE_OF_REPORT_UNIX],[VRCODE],[INFECTED_NURSERY_DAILY],[DECEASED_NURSERY_DAILY]\n",
                "            ,[TOTAL_NEW_REPORTED_LOCATIONS],[TOTAL_REPORTED_LOCATIONS],[INFECTED_LOCATIONS_PERCENTAGE]);\n",
                "GO\n"
            ]
        },
        {
            "cell_type": "code",
            "execution_count": null,
            "metadata": {},
            "outputs": [],
            "source": [
                "\n",
                "-- COPYRIGHT (C) 2020 DE STAAT DER NEDERLANDEN, MINISTERIE VAN   VOLKSGEZONDHEID, WELZIJN EN SPORT.\n",
                "-- LICENSED UNDER THE EUROPEAN UNION PUBLIC LICENCE V. 1.2 - SEE HTTPS://GITHUB.COM/MINVWS/NL-CONTACT-TRACING-APP-COORDINATIONFOR MORE INFORMATION.\n",
                "\n",
                "IF NOT EXISTS(SELECT * FROM SYS.INDEXES WHERE NAME='IX_DEST_SEWER_MEASUREMENTS_PER_RWZI_DLI_2')\n",
                "      CREATE NONCLUSTERED INDEX IX_DEST_SEWER_MEASUREMENTS_PER_RWZI_DLI_2\n",
                "      ON VWSDEST.SEWER_MEASUREMENTS_PER_RWZI (DATE_LAST_INSERTED)\n",
                "      INCLUDE([DATE_MEASUREMENT],[DATE_MEASUREMENT_UNIX],[RWZI_AWZI_CODE],[RWZI_AWZI_NAME],[AVERAGE_RNA_FLOW_PER_100000]);\n",
                "GO\n"
            ]
        },
        {
            "cell_type": "code",
            "execution_count": null,
            "metadata": {},
            "outputs": [],
            "source": [
                "\n",
                "-- COPYRIGHT (C) 2020 DE STAAT DER NEDERLANDEN, MINISTERIE VAN   VOLKSGEZONDHEID, WELZIJN EN SPORT.\n",
                "-- LICENSED UNDER THE EUROPEAN UNION PUBLIC LICENCE V. 1.2 - SEE HTTPS://GITHUB.COM/MINVWS/NL-CONTACT-TRACING-APP-COORDINATIONFOR MORE INFORMATION.\n",
                "\n",
                "IF NOT EXISTS(SELECT * FROM SYS.INDEXES WHERE NAME='IX_DEST_INTENSIVE_CARE_ADMISSIONS_DOR')\n",
                "      CREATE NONCLUSTERED INDEX IX_DEST_INTENSIVE_CARE_ADMISSIONS_DOR\n",
                "      ON VWSDEST.INTENSIVE_CARE_ADMISSIONS (DATE_OF_REPORT)\n",
                "      INCLUDE(DATE_OF_REPORT_UNIX, MOVING_AVERAGE_IC, DATE_LAST_INSERTED);\n",
                "GO\n"
            ]
        },
        {
            "cell_type": "code",
            "execution_count": null,
            "metadata": {},
            "outputs": [],
            "source": [
                "\n",
                "-- COPYRIGHT (C) 2020 DE STAAT DER NEDERLANDEN, MINISTERIE VAN   VOLKSGEZONDHEID, WELZIJN EN SPORT.\n",
                "-- LICENSED UNDER THE EUROPEAN UNION PUBLIC LICENCE V. 1.2 - SEE HTTPS://GITHUB.COM/MINVWS/NL-CONTACT-TRACING-APP-COORDINATIONFOR MORE INFORMATION.\n",
                "\n",
                "IF NOT EXISTS(SELECT * FROM SYS.INDEXES WHERE NAME='IX_DEST_RESULTS_PER_REGION_DOR_VR_HA')\n",
                "      CREATE NONCLUSTERED INDEX IX_DEST_RESULTS_PER_REGION_DOR_VR_HA\n",
                "      ON VWSDEST.RESULTS_PER_REGION (DATE_OF_REPORT, VRCODE)\n",
                "      INCLUDE(DATE_OF_REPORT_UNIX, HOSPITAL_INCREASE_PER_REGION, DATE_LAST_INSERTED);\n",
                "GO\n"
            ]
        },
        {
            "cell_type": "code",
            "execution_count": null,
            "metadata": {},
            "outputs": [],
            "source": [
                "\n",
                "-- COPYRIGHT (C) 2020 DE STAAT DER NEDERLANDEN, MINISTERIE VAN   VOLKSGEZONDHEID, WELZIJN EN SPORT.\n",
                "-- LICENSED UNDER THE EUROPEAN UNION PUBLIC LICENCE V. 1.2 - SEE HTTPS://GITHUB.COM/MINVWS/NL-CONTACT-TRACING-APP-COORDINATIONFOR MORE INFORMATION.\n",
                "\n",
                "IF NOT EXISTS(SELECT * FROM SYS.INDEXES WHERE NAME='IX_DEST_RESULTS_PER_REGION_DLI_DOR_HA')\n",
                "      CREATE NONCLUSTERED INDEX IX_DEST_RESULTS_PER_REGION_DLI_DOR_HA\n",
                "      ON VWSDEST.RESULTS_PER_REGION (DATE_LAST_INSERTED, DATE_OF_REPORT)\n",
                "      INCLUDE(DATE_OF_REPORT_UNIX, VRCODE, HOSPITAL_INCREASE_PER_REGION);\n",
                "GO\n"
            ]
        },
        {
            "cell_type": "code",
            "execution_count": null,
            "metadata": {},
            "outputs": [],
            "source": [
                "\n",
                "-- COPYRIGHT (C) 2020 DE STAAT DER NEDERLANDEN, MINISTERIE VAN   VOLKSGEZONDHEID, WELZIJN EN SPORT.\n",
                "-- LICENSED UNDER THE EUROPEAN UNION PUBLIC LICENCE V. 1.2 - SEE HTTPS://GITHUB.COM/MINVWS/NL-CONTACT-TRACING-APP-COORDINATIONFOR MORE INFORMATION.\n",
                "\n",
                "IF NOT EXISTS(SELECT * FROM SYS.INDEXES WHERE NAME='IX_DEST_HOSPITAL_ADMISSIONS_DOR_2')\n",
                "      CREATE NONCLUSTERED INDEX IX_DEST_HOSPITAL_ADMISSIONS_DOR_2\n",
                "      ON VWSDEST.HOSPITAL_ADMISSIONS (DATE_OF_REPORT)\n",
                "      INCLUDE(DATE_OF_REPORT_UNIX, MOVING_AVERAGE_HOSPITAL, DATE_LAST_INSERTED);\n",
                "GO\n"
            ]
        },
        {
            "cell_type": "code",
            "execution_count": null,
            "metadata": {},
            "outputs": [],
            "source": [
                "\n",
                "-- COPYRIGHT (C) 2020 DE STAAT DER NEDERLANDEN, MINISTERIE VAN   VOLKSGEZONDHEID, WELZIJN EN SPORT.\n",
                "-- LICENSED UNDER THE EUROPEAN UNION PUBLIC LICENCE V. 1.2 - SEE HTTPS://GITHUB.COM/MINVWS/NL-CONTACT-TRACING-APP-COORDINATIONFOR MORE INFORMATION.\n",
                "\n",
                "IF NOT EXISTS(SELECT * FROM SYS.INDEXES WHERE NAME='IX_DEST_HOSPITAL_ADMISSIONS_DLI_DOR_2')\n",
                "      CREATE NONCLUSTERED INDEX IX_DEST_HOSPITAL_ADMISSIONS_DLI_DOR_2\n",
                "      ON VWSDEST.HOSPITAL_ADMISSIONS (DATE_LAST_INSERTED, DATE_OF_REPORT)\n",
                "      INCLUDE(DATE_OF_REPORT_UNIX, MOVING_AVERAGE_HOSPITAL);\n",
                "GO\n"
            ]
        },
        {
            "cell_type": "code",
            "execution_count": null,
            "metadata": {},
            "outputs": [],
            "source": [
                "\n",
                "-- COPYRIGHT (C) 2020 DE STAAT DER NEDERLANDEN, MINISTERIE VAN   VOLKSGEZONDHEID, WELZIJN EN SPORT.\n",
                "-- LICENSED UNDER THE EUROPEAN UNION PUBLIC LICENCE V. 1.2 - SEE HTTPS://GITHUB.COM/MINVWS/NL-CONTACT-TRACING-APP-COORDINATIONFOR MORE INFORMATION.\n",
                "\n",
                "IF NOT EXISTS(SELECT * FROM SYS.INDEXES WHERE NAME='IX_DEST_HOSPITAL_ADMISSIONS_PER_MUNICIPALITY_DOR')\n",
                "      CREATE NONCLUSTERED INDEX IX_DEST_HOSPITAL_ADMISSIONS_PER_MUNICIPALITY_DOR\n",
                "      ON VWSDEST.HOSPITAL_ADMISSIONS_PER_MUNICIPALITY (DATE_OF_REPORT)\n",
                "      INCLUDE(DATE_OF_REPORT_UNIX, MUNICIPALITY_CODE, MOVING_AVERAGE_HOSPITAL, DATE_LAST_INSERTED);\n",
                "GO\n"
            ]
        },
        {
            "cell_type": "code",
            "execution_count": null,
            "metadata": {},
            "outputs": [],
            "source": [
                "\n",
                "-- COPYRIGHT (C) 2020 DE STAAT DER NEDERLANDEN, MINISTERIE VAN   VOLKSGEZONDHEID, WELZIJN EN SPORT.\n",
                "-- LICENSED UNDER THE EUROPEAN UNION PUBLIC LICENCE V. 1.2 - SEE HTTPS://GITHUB.COM/MINVWS/NL-CONTACT-TRACING-APP-COORDINATIONFOR MORE INFORMATION.\n",
                "\n",
                "IF NOT EXISTS(SELECT * FROM SYS.INDEXES WHERE NAME='IX_DEST_HOSPITAL_ADMISSIONS_PER_MUNICIPALITY_DLI_DOR_2')\n",
                "      CREATE NONCLUSTERED INDEX IX_DEST_HOSPITAL_ADMISSIONS_PER_MUNICIPALITY_DLI_DOR_2\n",
                "      ON VWSDEST.HOSPITAL_ADMISSIONS_PER_MUNICIPALITY (DATE_LAST_INSERTED, DATE_OF_REPORT)\n",
                "      INCLUDE(DATE_OF_REPORT_UNIX, MUNICIPALITY_CODE, MOVING_AVERAGE_HOSPITAL);\n",
                "GO\n"
            ]
        },
        {
            "cell_type": "code",
            "execution_count": null,
            "metadata": {},
            "outputs": [],
            "source": [
                "\n",
                "-- COPYRIGHT (C) 2020 DE STAAT DER NEDERLANDEN, MINISTERIE VAN   VOLKSGEZONDHEID, WELZIJN EN SPORT.\n",
                "-- LICENSED UNDER THE EUROPEAN UNION PUBLIC LICENCE V. 1.2 - SEE HTTPS://GITHUB.COM/MINVWS/NL-CONTACT-TRACING-APP-COORDINATIONFOR MORE INFORMATION.\n",
                "\n",
                "IF NOT EXISTS(SELECT * FROM SYS.INDEXES WHERE NAME='IX_DEST_RESULTS_PER_REGION_DOR_VR_DC')\n",
                "      CREATE NONCLUSTERED INDEX IX_DEST_RESULTS_PER_REGION_DOR_VR_DC\n",
                "      ON VWSDEST.RESULTS_PER_REGION (DATE_OF_REPORT, VRCODE)\n",
                "      INCLUDE(DATE_OF_REPORT_UNIX, DATE_LAST_INSERTED, DECEASED);\n",
                "GO\n"
            ]
        },
        {
            "cell_type": "code",
            "execution_count": null,
            "metadata": {},
            "outputs": [],
            "source": [
                "\n",
                "-- COPYRIGHT (C) 2020 DE STAAT DER NEDERLANDEN, MINISTERIE VAN   VOLKSGEZONDHEID, WELZIJN EN SPORT.\n",
                "-- LICENSED UNDER THE EUROPEAN UNION PUBLIC LICENCE V. 1.2 - SEE HTTPS://GITHUB.COM/MINVWS/NL-CONTACT-TRACING-APP-COORDINATIONFOR MORE INFORMATION.\n",
                "\n",
                "IF NOT EXISTS(SELECT * FROM SYS.INDEXES WHERE NAME='IX_DEST_RESULTS_PER_REGION_DLI_DOR_DC')\n",
                "      CREATE NONCLUSTERED INDEX IX_DEST_RESULTS_PER_REGION_DLI_DOR_DC\n",
                "      ON VWSDEST.RESULTS_PER_REGION (DATE_LAST_INSERTED, DATE_OF_REPORT)\n",
                "      INCLUDE(DATE_OF_REPORT_UNIX, VRCODE, DECEASED);\n",
                "GO\n"
            ]
        },
        {
            "cell_type": "code",
            "execution_count": null,
            "metadata": {},
            "outputs": [],
            "source": [
                "\n",
                "-- COPYRIGHT (C) 2020 DE STAAT DER NEDERLANDEN, MINISTERIE VAN   VOLKSGEZONDHEID, WELZIJN EN SPORT.\n",
                "-- LICENSED UNDER THE EUROPEAN UNION PUBLIC LICENCE V. 1.2 - SEE HTTPS://GITHUB.COM/MINVWS/NL-CONTACT-TRACING-APP-COORDINATIONFOR MORE INFORMATION.\n",
                "\n",
                "IF NOT EXISTS(SELECT * FROM SYS.INDEXES WHERE NAME='IX_DEST_RESULTS_PER_REGION_DLI_DOR_DC')\n",
                "      CREATE NONCLUSTERED INDEX IX_DATATINO_PROTO_DATATINO_PROTO_CONFIGURATIONS\n",
                "      ON DATATINO_PROTO.PROTO_CONFIGURATIONS (ACTIVE, LAYOUT_ID)\n",
                "      INCLUDE(PROTO_ID, ITEM_NAME, VIEW_ID, [CONSTRAINT], CONSTRAINT_KEY_NAME, \n",
                "            CONSTRAINT_VALUE, GROUPED, GROUPED_KEY_NAME, GROUPED_LAST_UPDATE_NAME);\n",
                "GO\n"
            ]
        },
        {
            "cell_type": "code",
            "execution_count": null,
            "metadata": {},
            "outputs": [],
            "source": [
                "\n",
                "-- COPYRIGHT (C) 2020 DE STAAT DER NEDERLANDEN, MINISTERIE VAN   VOLKSGEZONDHEID, WELZIJN EN SPORT.\n",
                "-- LICENSED UNDER THE EUROPEAN UNION PUBLIC LICENCE V. 1.2 - SEE HTTPS://GITHUB.COM/MINVWS/NL-CONTACT-TRACING-APP-COORDINATIONFOR MORE INFORMATION.\n",
                "\n",
                "IF NOT EXISTS(SELECT * FROM SYS.INDEXES WHERE NAME='IX_ESCALATIONLEVELS_PER_REGION_DEST')\n",
                "    CREATE NONCLUSTERED INDEX IX_ESCALATIONLEVELS_PER_REGION_DEST\n",
                "    ON VWSDEST.ESCALATIONLEVELS_PER_REGION(DATE_LAST_INSERTED);\n",
                "GO\n"
            ]
        },
        {
            "cell_type": "code",
            "execution_count": null,
            "metadata": {},
            "outputs": [],
            "source": [
                "\n",
                "-- COPYRIGHT (C) 2020 DE STAAT DER NEDERLANDEN, MINISTERIE VAN   VOLKSGEZONDHEID, WELZIJN EN SPORT.\n",
                "-- LICENSED UNDER THE EUROPEAN UNION PUBLIC LICENCE V. 1.2 - SEE HTTPS://GITHUB.COM/MINVWS/NL-CONTACT-TRACING-APP-COORDINATIONFOR MORE INFORMATION.\n",
                "\n",
                "IF NOT EXISTS(SELECT * FROM SYS.INDEXES WHERE NAME='IX_POSITIVE_PER_SMALL_AGE_GROUP_DEST')\n",
                "    CREATE NONCLUSTERED INDEX IX_POSITIVE_PER_SMALL_AGE_GROUP_DEST\n",
                "    ON VWSDEST.POSITIVE_TESTED_PEOPLE_PER_SMALL_AGE_GROUP(DATE_LAST_INSERTED);\n",
                "GO\n"
            ]
        },
        {
            "cell_type": "code",
            "execution_count": null,
            "metadata": {},
            "outputs": [],
            "source": [
                "\n",
                "-- COPYRIGHT (C) 2020 DE STAAT DER NEDERLANDEN, MINISTERIE VAN   VOLKSGEZONDHEID, WELZIJN EN SPORT.\n",
                "-- LICENSED UNDER THE EUROPEAN UNION PUBLIC LICENCE V. 1.2 - SEE HTTPS://GITHUB.COM/MINVWS/NL-CONTACT-TRACING-APP-COORDINATIONFOR MORE INFORMATION.\n",
                "\n",
                "IF NOT EXISTS(SELECT * FROM SYS.INDEXES WHERE NAME='IX_POSITIVE_PER_SMALL_AGE_GROUP_DEST')\n",
                "    CREATE NONCLUSTERED INDEX IX_POSITIVE_PER_SMALL_AGE_GROUP_DEST\n",
                "    ON VWSDEST.POSITIVE_TESTED_PEOPLE_PER_SMALL_AGE_GROUP(DATE_LAST_INSERTED);\n",
                "GO\n"
            ]
        },
        {
            "cell_type": "code",
            "execution_count": null,
            "metadata": {},
            "outputs": [],
            "source": [
                "\n",
                "-- COPYRIGHT (C) 2020 DE STAAT DER NEDERLANDEN, MINISTERIE VAN   VOLKSGEZONDHEID, WELZIJN EN SPORT.\n",
                "-- LICENSED UNDER THE EUROPEAN UNION PUBLIC LICENCE V. 1.2 - SEE HTTPS://GITHUB.COM/MINVWS/NL-CONTACT-TRACING-APP-COORDINATIONFOR MORE INFORMATION.\n",
                "\n",
                "IF NOT EXISTS(SELECT * FROM SYS.INDEXES WHERE NAME='IX_VWSDEST_DISABILITY_DEST')\n",
                "    CREATE NONCLUSTERED INDEX IX_VWSDEST_DISABILITY_DEST\n",
                "    ON VWSDEST.DISABILITY(DATE_LAST_INSERTED);\n",
                "GO\n"
            ]
        },
        {
            "cell_type": "code",
            "execution_count": null,
            "metadata": {},
            "outputs": [],
            "source": [
                "\n",
                "-- COPYRIGHT (C) 2020 DE STAAT DER NEDERLANDEN, MINISTERIE VAN   VOLKSGEZONDHEID, WELZIJN EN SPORT.\n",
                "-- LICENSED UNDER THE EUROPEAN UNION PUBLIC LICENCE V. 1.2 - SEE HTTPS://GITHUB.COM/MINVWS/NL-CONTACT-TRACING-APP-COORDINATIONFOR MORE INFORMATION.\n",
                "\n",
                "IF NOT EXISTS(SELECT * FROM SYS.INDEXES WHERE NAME='IX_VWSDEST_DISABILITY_VR')\n",
                "    CREATE NONCLUSTERED INDEX IX_VWSDEST_DISABILITY_VR\n",
                "    ON VWSDEST.DISABILITY_VR(DATE_LAST_INSERTED);\n",
                "GO\n"
            ]
        },
        {
            "cell_type": "code",
            "execution_count": null,
            "metadata": {},
            "outputs": [],
            "source": [
                "\n",
                "-- COPYRIGHT (C) 2020 DE STAAT DER NEDERLANDEN, MINISTERIE VAN   VOLKSGEZONDHEID, WELZIJN EN SPORT.\n",
                "-- LICENSED UNDER THE EUROPEAN UNION PUBLIC LICENCE V. 1.2 - SEE HTTPS://GITHUB.COM/MINVWS/NL-CONTACT-TRACING-APP-COORDINATIONFOR MORE INFORMATION.\n",
                "\n",
                "IF NOT EXISTS(SELECT * FROM SYS.INDEXES WHERE NAME='IX_RIVM_NURSING_HOMES_COMBINED_INTER')\n",
                "    CREATE NONCLUSTERED INDEX IX_RIVM_NURSING_HOMES_COMBINED_INTER\n",
                "    ON VWSINTER.RIVM_NURSING_HOMES_COMBINED(DATE_LAST_INSERTED);\n",
                "GO\n"
            ]
        },
        {
            "cell_type": "code",
            "execution_count": null,
            "metadata": {},
            "outputs": [],
            "source": [
                "\n",
                "-- COPYRIGHT (C) 2020 DE STAAT DER NEDERLANDEN, MINISTERIE VAN   VOLKSGEZONDHEID, WELZIJN EN SPORT.\n",
                "-- LICENSED UNDER THE EUROPEAN UNION PUBLIC LICENCE V. 1.2 - SEE HTTPS://GITHUB.COM/MINVWS/NL-CONTACT-TRACING-APP-COORDINATIONFOR MORE INFORMATION.\n",
                "\n",
                "IF NOT EXISTS(SELECT * FROM SYS.INDEXES WHERE NAME='IX_VWSINTER_DISABILITY_INTER')\n",
                "    CREATE NONCLUSTERED INDEX IX_VWSINTER_DISABILITY_INTER\n",
                "    ON VWSINTER.DISABILITY(DATE_LAST_INSERTED);\n",
                "GO\n"
            ]
        },
        {
            "cell_type": "code",
            "execution_count": null,
            "metadata": {},
            "outputs": [],
            "source": [
                "\n",
                "-- COPYRIGHT (C) 2020 DE STAAT DER NEDERLANDEN, MINISTERIE VAN   VOLKSGEZONDHEID, WELZIJN EN SPORT.\n",
                "-- LICENSED UNDER THE EUROPEAN UNION PUBLIC LICENCE V. 1.2 - SEE HTTPS://GITHUB.COM/MINVWS/NL-CONTACT-TRACING-APP-COORDINATIONFOR MORE INFORMATION.\n",
                "\n",
                "IF NOT EXISTS(SELECT * FROM SYS.INDEXES WHERE NAME='IX_VWS_CORONALEVEL_REGIONS_STAGE')\n",
                "    CREATE NONCLUSTERED INDEX IX_VWS_CORONALEVEL_REGIONS_STAGE\n",
                "    ON VWSSTAGE.VWS_CORONALEVEL_REGIONS(DATE_LAST_INSERTED);\n",
                "GO\n"
            ]
        },
        {
            "cell_type": "code",
            "execution_count": null,
            "metadata": {},
            "outputs": [],
            "source": [
                "\n",
                "-- COPYRIGHT (C) 2020 DE STAAT DER NEDERLANDEN, MINISTERIE VAN   VOLKSGEZONDHEID, WELZIJN EN SPORT.\n",
                "-- LICENSED UNDER THE EUROPEAN UNION PUBLIC LICENCE V. 1.2 - SEE HTTPS://GITHUB.COM/MINVWS/NL-CONTACT-TRACING-APP-COORDINATIONFOR MORE INFORMATION.\n",
                "\n",
                "IF NOT EXISTS(SELECT * FROM SYS.INDEXES WHERE NAME='IX_RIVM_NURSING_HOMES_COMBINED_STAGE')\n",
                "    CREATE NONCLUSTERED INDEX IX_RIVM_NURSING_HOMES_COMBINED_STAGE\n",
                "    ON VWSSTAGE.RIVM_NURSING_HOMES_COMBINED(DATE_LAST_INSERTED);\n",
                "GO\n"
            ]
        },
        {
            "cell_type": "code",
            "execution_count": null,
            "metadata": {},
            "outputs": [],
            "source": [
                "\n",
                "-- COPYRIGHT (C) 2020 DE STAAT DER NEDERLANDEN, MINISTERIE VAN   VOLKSGEZONDHEID, WELZIJN EN SPORT.\n",
                "-- LICENSED UNDER THE EUROPEAN UNION PUBLIC LICENCE V. 1.2 - SEE HTTPS://GITHUB.COM/MINVWS/NL-CONTACT-TRACING-APP-COORDINATIONFOR MORE INFORMATION.\n",
                "\n",
                "IF NOT EXISTS(SELECT * FROM SYS.INDEXES WHERE NAME='IX_SAFETY_REGIONS_PER_MUNICIPAL')\n",
                "    CREATE NONCLUSTERED INDEX IX_SAFETY_REGIONS_PER_MUNICIPAL\n",
                "    ON VWSSTATIC.SAFETY_REGIONS_PER_MUNICIPAL(GMCODE);\n",
                "GO\n"
            ]
        },
        {
            "cell_type": "code",
            "execution_count": null,
            "metadata": {},
            "outputs": [],
            "source": [
                "\n",
                "-- COPYRIGHT (C) 2020 DE STAAT DER NEDERLANDEN, MINISTERIE VAN   VOLKSGEZONDHEID, WELZIJN EN SPORT.\n",
                "-- LICENSED UNDER THE EUROPEAN UNION PUBLIC LICENCE V. 1.2 - SEE HTTPS://GITHUB.COM/MINVWS/NL-CONTACT-TRACING-APP-COORDINATIONFOR MORE INFORMATION.\n",
                "\n",
                "IF NOT EXISTS(SELECT * FROM SYS.INDEXES WHERE NAME='IX_INHABITANTS_PER_SAFETY_REGION')\n",
                "    CREATE NONCLUSTERED INDEX IX_INHABITANTS_PER_SAFETY_REGION\n",
                "    ON VWSSTATIC.INHABITANTS_PER_SAFETY_REGION(VGRNR);\n",
                "GO\n"
            ]
        },
        {
            "cell_type": "code",
            "execution_count": null,
            "metadata": {},
            "outputs": [],
            "source": [
                "\n",
                "-- COPYRIGHT (C) 2020 DE STAAT DER NEDERLANDEN, MINISTERIE VAN   VOLKSGEZONDHEID, WELZIJN EN SPORT.\n",
                "-- LICENSED UNDER THE EUROPEAN UNION PUBLIC LICENCE V. 1.2 - SEE HTTPS://GITHUB.COM/MINVWS/NL-CONTACT-TRACING-APP-COORDINATIONFOR MORE INFORMATION.\n",
                "\n",
                "IF NOT EXISTS(SELECT * FROM SYS.INDEXES WHERE NAME='IX_INHABITANTS_PER_MUNICIPALITY')\n",
                "    CREATE NONCLUSTERED INDEX IX_INHABITANTS_PER_MUNICIPALITY\n",
                "    ON VWSSTATIC.INHABITANTS_PER_MUNICIPALITY(GMCODE);\n",
                "GO\n"
            ]
        },
        {
            "cell_type": "code",
            "execution_count": null,
            "metadata": {},
            "outputs": [],
            "source": [
                "\n",
                "-- COPYRIGHT (C) 2020 DE STAAT DER NEDERLANDEN, MINISTERIE VAN   VOLKSGEZONDHEID, WELZIJN EN SPORT.\n",
                "-- LICENSED UNDER THE EUROPEAN UNION PUBLIC LICENCE V. 1.2 - SEE HTTPS://GITHUB.COM/MINVWS/NL-CONTACT-TRACING-APP-COORDINATIONFOR MORE INFORMATION.\n",
                "\n",
                "IF NOT EXISTS(SELECT * FROM SYS.INDEXES WHERE NAME='IX_INHABITANTS_PER_MUNICIPALITY')\n",
                "    CREATE NONCLUSTERED INDEX IX_INHABITANTS_PER_MUNICIPALITY\n",
                "    ON VWSSTATIC.INHABITANTS_PER_MUNICIPALITY(GMCODE);\n",
                "GO\n"
            ]
        },
        {
            "cell_type": "code",
            "execution_count": null,
            "metadata": {},
            "outputs": [],
            "source": [
                "\n",
                "-- COPYRIGHT (C) 2020 DE STAAT DER NEDERLANDEN, MINISTERIE VAN   VOLKSGEZONDHEID, WELZIJN EN SPORT.\n",
                "-- LICENSED UNDER THE EUROPEAN UNION PUBLIC LICENCE V. 1.2 - SEE HTTPS://GITHUB.COM/MINVWS/NL-CONTACT-TRACING-APP-COORDINATIONFOR MORE INFORMATION.\n",
                "\n",
                "IF NOT EXISTS(SELECT * FROM SYS.INDEXES WHERE NAME='IX_DIFFERENCE_NURSING_HOME__DECEASED_DAILY_PER_REGION_DOR')\n",
                "CREATE NONCLUSTERED INDEX IX_DIFFERENCE_NURSING_HOME__DECEASED_DAILY_PER_REGION_DOR\n",
                "    ON VWSDEST.NURSING_HOMES_PER_REGION (DATE_OF_REPORT)\n",
                "    INCLUDE(DATE_OF_REPORT_UNIX, VRCODE, DECEASED_NURSERY_DAILY, DATE_LAST_INSERTED);\n",
                "GO\n"
            ]
        },
        {
            "cell_type": "code",
            "execution_count": null,
            "metadata": {},
            "outputs": [],
            "source": [
                "\n",
                "-- COPYRIGHT (C) 2020 DE STAAT DER NEDERLANDEN, MINISTERIE VAN   VOLKSGEZONDHEID, WELZIJN EN SPORT.\n",
                "-- LICENSED UNDER THE EUROPEAN UNION PUBLIC LICENCE V. 1.2 - SEE HTTPS://GITHUB.COM/MINVWS/NL-CONTACT-TRACING-APP-COORDINATIONFOR MORE INFORMATION.\n",
                "\n",
                "IF NOT EXISTS(SELECT * FROM SYS.INDEXES WHERE NAME='IX_DIFFERENCE_NURSING_HOME__DECEASED_DAILY_PER_REGION_DLI_DOR')\n",
                "CREATE NONCLUSTERED INDEX IX_DIFFERENCE_NURSING_HOME__DECEASED_DAILY_PER_REGION_DLI_DOR\n",
                "    ON VWSDEST.NURSING_HOMES_PER_REGION (DATE_OF_REPORT, DATE_LAST_INSERTED)\n",
                "    INCLUDE(DATE_OF_REPORT_UNIX, VRCODE, DECEASED_NURSERY_DAILY);\n",
                "GO\n"
            ]
        },
        {
            "cell_type": "code",
            "execution_count": null,
            "metadata": {},
            "outputs": [],
            "source": [
                "\n",
                "-- COPYRIGHT (C) 2020 DE STAAT DER NEDERLANDEN, MINISTERIE VAN   VOLKSGEZONDHEID, WELZIJN EN SPORT.\n",
                "-- LICENSED UNDER THE EUROPEAN UNION PUBLIC LICENCE V. 1.2 - SEE HTTPS://GITHUB.COM/MINVWS/NL-CONTACT-TRACING-APP-COORDINATIONFOR MORE INFORMATION.\n",
                "\n",
                "IF NOT EXISTS(SELECT * FROM SYS.INDEXES WHERE NAME='IX_DIFFERENCE_NURSING_HOME__DECEASED_DAILY_PER_REGION_DOR_VR')\n",
                "CREATE NONCLUSTERED INDEX IX_DIFFERENCE_NURSING_HOME__DECEASED_DAILY_PER_REGION_DOR_VR\n",
                "    ON VWSDEST.NURSING_HOMES_PER_REGION (DATE_OF_REPORT)\n",
                "    INCLUDE(VRCODE, DATE_LAST_INSERTED);\n",
                "GO\n"
            ]
        },
        {
            "cell_type": "code",
            "execution_count": null,
            "metadata": {},
            "outputs": [],
            "source": [
                "\n",
                "-- COPYRIGHT (C) 2020 DE STAAT DER NEDERLANDEN, MINISTERIE VAN   VOLKSGEZONDHEID, WELZIJN EN SPORT.\n",
                "-- LICENSED UNDER THE EUROPEAN UNION PUBLIC LICENCE V. 1.2 - SEE HTTPS://GITHUB.COM/MINVWS/NL-CONTACT-TRACING-APP-COORDINATIONFOR MORE INFORMATION.\n",
                "\n",
                "IF NOT EXISTS(SELECT * FROM SYS.INDEXES WHERE NAME='IX_DIFFERENCE_NURSING_HOME__INFECTED_LOCATIONS_TOTAL_PER_REGION_VR_DOR')\n",
                "CREATE NONCLUSTERED INDEX IX_DIFFERENCE_NURSING_HOME__INFECTED_LOCATIONS_TOTAL_PER_REGION_VR_DOR\n",
                "    ON VWSDEST.NURSING_HOMES_PER_REGION (VRCODE, DATE_OF_REPORT)\n",
                "    INCLUDE(DATE_OF_REPORT_UNIX, TOTAL_REPORTED_LOCATIONS, DATE_LAST_INSERTED);\n",
                "GO\n"
            ]
        },
        {
            "cell_type": "code",
            "execution_count": null,
            "metadata": {},
            "outputs": [],
            "source": [
                "\n",
                "-- COPYRIGHT (C) 2020 DE STAAT DER NEDERLANDEN, MINISTERIE VAN   VOLKSGEZONDHEID, WELZIJN EN SPORT.\n",
                "-- LICENSED UNDER THE EUROPEAN UNION PUBLIC LICENCE V. 1.2 - SEE HTTPS://GITHUB.COM/MINVWS/NL-CONTACT-TRACING-APP-COORDINATIONFOR MORE INFORMATION.\n",
                "\n",
                "IF NOT EXISTS(SELECT * FROM SYS.INDEXES WHERE NAME='IX_DIFFERENCE_NURSING_HOME__INFECTED_LOCATIONS_TOTAL_PER_REGION_VR_DLI_DOR')\n",
                "CREATE NONCLUSTERED INDEX IX_DIFFERENCE_NURSING_HOME__INFECTED_LOCATIONS_TOTAL_PER_REGION_VR_DLI_DOR\n",
                "    ON VWSDEST.NURSING_HOMES_PER_REGION (VRCODE, DATE_LAST_INSERTED, DATE_OF_REPORT)\n",
                "    INCLUDE(DATE_OF_REPORT_UNIX, TOTAL_REPORTED_LOCATIONS);\n",
                "GO\n"
            ]
        },
        {
            "cell_type": "code",
            "execution_count": null,
            "metadata": {},
            "outputs": [],
            "source": [
                "\n",
                "-- COPYRIGHT (C) 2020 DE STAAT DER NEDERLANDEN, MINISTERIE VAN   VOLKSGEZONDHEID, WELZIJN EN SPORT.\n",
                "-- LICENSED UNDER THE EUROPEAN UNION PUBLIC LICENCE V. 1.2 - SEE HTTPS://GITHUB.COM/MINVWS/NL-CONTACT-TRACING-APP-COORDINATIONFOR MORE INFORMATION.\n",
                "\n",
                "IF NOT EXISTS(SELECT * FROM SYS.INDEXES WHERE NAME='IX_DIFFERENCE_NURSING_HOME__INFECTED_LOCATIONS_TOTAL_PER_REGION_DOR')\n",
                "CREATE NONCLUSTERED INDEX IX_DIFFERENCE_NURSING_HOME__INFECTED_LOCATIONS_TOTAL_PER_REGION_DOR\n",
                "    ON VWSDEST.NURSING_HOMES_PER_REGION (VRCODE, DATE_OF_REPORT)\n",
                "    INCLUDE(DATE_LAST_INSERTED);\n",
                "GO\n"
            ]
        },
        {
            "cell_type": "code",
            "execution_count": null,
            "metadata": {},
            "outputs": [],
            "source": [
                "\n",
                "-- COPYRIGHT (C) 2020 DE STAAT DER NEDERLANDEN, MINISTERIE VAN   VOLKSGEZONDHEID, WELZIJN EN SPORT.\n",
                "-- LICENSED UNDER THE EUROPEAN UNION PUBLIC LICENCE V. 1.2 - SEE HTTPS://GITHUB.COM/MINVWS/NL-CONTACT-TRACING-APP-COORDINATIONFOR MORE INFORMATION.\n",
                "\n",
                "IF NOT EXISTS(SELECT * FROM SYS.INDEXES WHERE NAME='IX_DIFFERENCE_NURSING_HOME__NEWLY_INFECTED_PEOPLE_PER_REGION_DOR')\n",
                "CREATE NONCLUSTERED INDEX IX_DIFFERENCE_NURSING_HOME__NEWLY_INFECTED_PEOPLE_PER_REGION_DOR\n",
                "    ON VWSDEST.NURSING_HOMES_PER_REGION (DATE_OF_REPORT)\n",
                "    INCLUDE(DATE_OF_REPORT_UNIX, VRCODE, INFECTED_NURSERY_DAILY, DATE_LAST_INSERTED);\n",
                "GO\n"
            ]
        },
        {
            "cell_type": "code",
            "execution_count": null,
            "metadata": {},
            "outputs": [],
            "source": [
                "\n",
                "-- COPYRIGHT (C) 2020 DE STAAT DER NEDERLANDEN, MINISTERIE VAN   VOLKSGEZONDHEID, WELZIJN EN SPORT.\n",
                "-- LICENSED UNDER THE EUROPEAN UNION PUBLIC LICENCE V. 1.2 - SEE HTTPS://GITHUB.COM/MINVWS/NL-CONTACT-TRACING-APP-COORDINATIONFOR MORE INFORMATION.\n",
                "\n",
                "IF NOT EXISTS(SELECT * FROM SYS.INDEXES WHERE NAME='IX_DIFFERENCE_NURSING_HOME__NEWLY_INFECTED_PEOPLE_PER_REGION_DLI_DOR')\n",
                "CREATE NONCLUSTERED INDEX IX_DIFFERENCE_NURSING_HOME__NEWLY_INFECTED_PEOPLE_PER_REGION_DLI_DOR\n",
                "    ON VWSDEST.NURSING_HOMES_PER_REGION (DATE_LAST_INSERTED, DATE_OF_REPORT)\n",
                "    INCLUDE(DATE_OF_REPORT_UNIX, VRCODE, INFECTED_NURSERY_DAILY);\n",
                "GO\n"
            ]
        },
        {
            "cell_type": "code",
            "execution_count": null,
            "metadata": {},
            "outputs": [],
            "source": [
                "\n",
                "-- COPYRIGHT (C) 2020 DE STAAT DER NEDERLANDEN, MINISTERIE VAN   VOLKSGEZONDHEID, WELZIJN EN SPORT.\n",
                "-- LICENSED UNDER THE EUROPEAN UNION PUBLIC LICENCE V. 1.2 - SEE HTTPS://GITHUB.COM/MINVWS/NL-CONTACT-TRACING-APP-COORDINATIONFOR MORE INFORMATION.\n",
                "\n",
                "IF NOT EXISTS(SELECT * FROM SYS.INDEXES WHERE NAME='IX_DIFFERENCE_RESULTS_PER_REGION__HOSPITAL_MOVING_AVG_PER_REGION_DLIR_DOR')\n",
                "CREATE NONCLUSTERED INDEX IX_DIFFERENCE_RESULTS_PER_REGION__HOSPITAL_MOVING_AVG_PER_REGION_DLIR_DOR\n",
                "    ON VWSDEST.RESULTS_PER_REGION (DATE_LAST_INSERTED, DATE_OF_REPORT)\n",
                "    INCLUDE(DATE_OF_REPORT_UNIX, VRCODE, HOSPITAL_MOVING_AVG_PER_REGION);\n",
                "GO\n"
            ]
        },
        {
            "cell_type": "code",
            "execution_count": null,
            "metadata": {},
            "outputs": [],
            "source": [
                "\n",
                "-- COPYRIGHT (C) 2020 DE STAAT DER NEDERLANDEN, MINISTERIE VAN   VOLKSGEZONDHEID, WELZIJN EN SPORT.\n",
                "-- LICENSED UNDER THE EUROPEAN UNION PUBLIC LICENCE V. 1.2 - SEE HTTPS://GITHUB.COM/MINVWS/NL-CONTACT-TRACING-APP-COORDINATIONFOR MORE INFORMATION.\n",
                "\n",
                "IF NOT EXISTS(SELECT * FROM SYS.INDEXES WHERE NAME='IX_DIFFERENCE_RESULTS_PER_REGION__HOSPITAL_TOTAL_COUNTS_PER_REGION')\n",
                "CREATE NONCLUSTERED INDEX IX_DIFFERENCE_RESULTS_PER_REGION__HOSPITAL_TOTAL_COUNTS_PER_REGION\n",
                "    ON VWSDEST.RESULTS_PER_REGION (DATE_LAST_INSERTED, DATE_OF_REPORT)\n",
                "    INCLUDE(DATE_OF_REPORT_UNIX, VRCODE, HOSPITAL_TOTAL_COUNTS_PER_REGION);\n",
                "GO\n"
            ]
        },
        {
            "cell_type": "code",
            "execution_count": null,
            "metadata": {},
            "outputs": [],
            "source": [
                "\n",
                "-- COPYRIGHT (C) 2020 DE STAAT DER NEDERLANDEN, MINISTERIE VAN   VOLKSGEZONDHEID, WELZIJN EN SPORT.\n",
                "-- LICENSED UNDER THE EUROPEAN UNION PUBLIC LICENCE V. 1.2 - SEE HTTPS://GITHUB.COM/MINVWS/NL-CONTACT-TRACING-APP-COORDINATIONFOR MORE INFORMATION.\n",
                "\n",
                "IF NOT EXISTS(SELECT * FROM SYS.INDEXES WHERE NAME='IX_DIFFERENCE_RESULTS_PER_REGION__TOTAL_REPORTED_INCREASE_PER_REGION_DLI_DOR')\n",
                "CREATE NONCLUSTERED INDEX IX_DIFFERENCE_RESULTS_PER_REGION__TOTAL_REPORTED_INCREASE_PER_REGION_DLI_DOR\n",
                "    ON VWSDEST.RESULTS_PER_REGION (DATE_LAST_INSERTED, DATE_OF_REPORT)\n",
                "    INCLUDE(DATE_OF_REPORT_UNIX, VRCODE, TOTAL_REPORTED_INCREASE_PER_REGION);\n",
                "GO\n"
            ]
        },
        {
            "cell_type": "code",
            "execution_count": null,
            "metadata": {},
            "outputs": [],
            "source": [
                "\n",
                "-- COPYRIGHT (C) 2020 DE STAAT DER NEDERLANDEN, MINISTERIE VAN   VOLKSGEZONDHEID, WELZIJN EN SPORT.\n",
                "-- LICENSED UNDER THE EUROPEAN UNION PUBLIC LICENCE V. 1.2 - SEE HTTPS://GITHUB.COM/MINVWS/NL-CONTACT-TRACING-APP-COORDINATIONFOR MORE INFORMATION.\n",
                "\n",
                "IF NOT EXISTS(SELECT * FROM SYS.INDEXES WHERE NAME='IX_POS_TESTED_PEOPLE_PER_MUNICIPALITY_LAST_DOR')\n",
                "CREATE NONCLUSTERED INDEX IX_POS_TESTED_PEOPLE_PER_MUNICIPALITY_LAST_DOR\n",
                "    ON VWSDEST.POSITIVE_TESTED_PEOPLE_PER_MUNICIPALITY (DATE_OF_REPORT)\n",
                "    INCLUDE(DATE_OF_REPORT_UNIX, MUNICIPALITY_CODE, INFECTED_DAILY_TOTAL, INFECTED_DAILY_INCREASE);\n",
                "GO\n"
            ]
        },
        {
            "cell_type": "code",
            "execution_count": null,
            "metadata": {},
            "outputs": [],
            "source": [
                "\n",
                "-- COPYRIGHT (C) 2020 DE STAAT DER NEDERLANDEN, MINISTERIE VAN   VOLKSGEZONDHEID, WELZIJN EN SPORT.\n",
                "-- LICENSED UNDER THE EUROPEAN UNION PUBLIC LICENCE V. 1.2 - SEE HTTPS://GITHUB.COM/MINVWS/NL-CONTACT-TRACING-APP-COORDINATIONFOR MORE INFORMATION.\n",
                "\n",
                "IF NOT EXISTS(SELECT * FROM SYS.INDEXES WHERE NAME='IX_POSITIVE_TESTED_PEOPLE_PER_REGION_DOR_VR')\n",
                "CREATE NONCLUSTERED INDEX IX_POSITIVE_TESTED_PEOPLE_PER_REGION_DOR_VR\n",
                "    ON VWSDEST.RESULTS_PER_REGION (DATE_OF_REPORT, VRCODE)\n",
                "    INCLUDE(DATE_OF_REPORT_UNIX, TOTAL_REPORTED_INCREASE_PER_REGION, INFECTED_INCREASE_PER_REGION, DATE_LAST_INSERTED);\n",
                "GO\n"
            ]
        },
        {
            "cell_type": "code",
            "execution_count": null,
            "metadata": {},
            "outputs": [],
            "source": [
                "\n",
                "-- COPYRIGHT (C) 2020 DE STAAT DER NEDERLANDEN, MINISTERIE VAN   VOLKSGEZONDHEID, WELZIJN EN SPORT.\n",
                "-- LICENSED UNDER THE EUROPEAN UNION PUBLIC LICENCE V. 1.2 - SEE HTTPS://GITHUB.COM/MINVWS/NL-CONTACT-TRACING-APP-COORDINATIONFOR MORE INFORMATION.\n",
                "\n",
                "IF NOT EXISTS(SELECT * FROM SYS.INDEXES WHERE NAME='IX_POSITIVE_TESTED_PEOPLE_PER_REGION_DLI_DOR')\n",
                "CREATE NONCLUSTERED INDEX IX_POSITIVE_TESTED_PEOPLE_PER_REGION_DLI_DOR\n",
                "    ON VWSDEST.RESULTS_PER_REGION (DATE_OF_REPORT, DATE_LAST_INSERTED)\n",
                "    INCLUDE(DATE_OF_REPORT_UNIX, VRCODE, TOTAL_REPORTED_INCREASE_PER_REGION, INFECTED_INCREASE_PER_REGION);\n",
                "GO\n"
            ]
        },
        {
            "cell_type": "code",
            "execution_count": null,
            "metadata": {},
            "outputs": [],
            "source": [
                "\n",
                "-- COPYRIGHT (C) 2020 DE STAAT DER NEDERLANDEN, MINISTERIE VAN   VOLKSGEZONDHEID, WELZIJN EN SPORT.\n",
                "-- LICENSED UNDER THE EUROPEAN UNION PUBLIC LICENCE V. 1.2 - SEE HTTPS://GITHUB.COM/MINVWS/NL-CONTACT-TRACING-APP-COORDINATIONFOR MORE INFORMATION.\n",
                "\n",
                "IF NOT EXISTS(SELECT * FROM SYS.INDEXES WHERE NAME='IX_SEWER_MEASUREMENTS_PER_RWZI_RA_DLI')\n",
                "CREATE NONCLUSTERED INDEX IX_SEWER_MEASUREMENTS_PER_RWZI_RA_DLI\n",
                "    ON VWSDEST.SEWER_MEASUREMENTS_PER_RWZI (RWZI_AWZI_CODE, DATE_MEASUREMENT)\n",
                "    INCLUDE(DATE_MEASUREMENT_UNIX, RWZI_AWZI_NAME, RNA_FLOW_PER_100000);\n",
                "GO\n"
            ]
        },
        {
            "cell_type": "code",
            "execution_count": null,
            "metadata": {},
            "outputs": [],
            "source": [
                "\n",
                "-- COPYRIGHT (C) 2020 DE STAAT DER NEDERLANDEN, MINISTERIE VAN   VOLKSGEZONDHEID, WELZIJN EN SPORT.\n",
                "-- LICENSED UNDER THE EUROPEAN UNION PUBLIC LICENCE V. 1.2 - SEE HTTPS://GITHUB.COM/MINVWS/NL-CONTACT-TRACING-APP-COORDINATIONFOR MORE INFORMATION.\n",
                "\n",
                "IF NOT EXISTS(SELECT * FROM SYS.INDEXES WHERE NAME='IX_SEWER_MEASUREMENTS_PER_RWZI_RA_DM')\n",
                "CREATE NONCLUSTERED INDEX IX_SEWER_MEASUREMENTS_PER_RWZI_RA_DM\n",
                "    ON VWSDEST.SEWER_MEASUREMENTS_PER_RWZI (RWZI_AWZI_CODE, DATE_MEASUREMENT)\n",
                "    INCLUDE(DATE_MEASUREMENT_UNIX, RWZI_AWZI_NAME, RNA_FLOW_PER_100000, DATE_LAST_INSERTED);\n",
                "GO\n"
            ]
        },
        {
            "cell_type": "code",
            "execution_count": null,
            "metadata": {},
            "outputs": [],
            "source": [
                "\n",
                "-- COPYRIGHT (C) 2020 DE STAAT DER NEDERLANDEN, MINISTERIE VAN   VOLKSGEZONDHEID, WELZIJN EN SPORT.\n",
                "-- LICENSED UNDER THE EUROPEAN UNION PUBLIC LICENCE V. 1.2 - SEE HTTPS://GITHUB.COM/MINVWS/NL-CONTACT-TRACING-APP-COORDINATIONFOR MORE INFORMATION.\n",
                "\n",
                "IF NOT EXISTS(SELECT * FROM SYS.INDEXES WHERE NAME='IX_SEWER_MEASUREMENTS_PER_RWZI_DLI_VR')\n",
                "CREATE NONCLUSTERED INDEX IX_SEWER_MEASUREMENTS_PER_RWZI_DLI_VR\n",
                "    ON VWSDEST.SEWER_MEASUREMENTS_PER_RWZI ([DATE_LAST_INSERTED])\n",
                "    INCLUDE([DATE_MEASUREMENT], [DATE_MEASUREMENT_UNIX], [RNA_FLOW_PER_100000], [RWZI_AWZI_CODE], [RWZI_AWZI_NAME]);\n",
                "GO\n"
            ]
        },
        {
            "cell_type": "code",
            "execution_count": null,
            "metadata": {},
            "outputs": [],
            "source": [
                "\n",
                "-- COPYRIGHT (C) 2020 DE STAAT DER NEDERLANDEN, MINISTERIE VAN   VOLKSGEZONDHEID, WELZIJN EN SPORT.\n",
                "-- LICENSED UNDER THE EUROPEAN UNION PUBLIC LICENCE V. 1.2 - SEE HTTPS://GITHUB.COM/MINVWS/NL-CONTACT-TRACING-APP-COORDINATIONFOR MORE INFORMATION.\n",
                "\n",
                "IF NOT EXISTS(SELECT * FROM SYS.INDEXES WHERE NAME='IX_DIFFERENCE_RESULTS_PER_REGION__HOSPITAL_MOVING_AVG_PER_REGION_DOR_DLI')\n",
                "CREATE NONCLUSTERED INDEX IX_DIFFERENCE_RESULTS_PER_REGION__HOSPITAL_MOVING_AVG_PER_REGION_DOR_DLI\n",
                "    ON VWSDEST.RESULTS_PER_REGION (VRCODE, DATE_OF_REPORT, DATE_LAST_INSERTED)\n",
                "    INCLUDE(DATE_OF_REPORT_UNIX, HOSPITAL_TOTAL_COUNTS_PER_REGION);\n",
                "GO\n"
            ]
        },
        {
            "cell_type": "code",
            "execution_count": null,
            "metadata": {},
            "outputs": [],
            "source": [
                "\n",
                "-- COPYRIGHT (C) 2020 DE STAAT DER NEDERLANDEN, MINISTERIE VAN   VOLKSGEZONDHEID, WELZIJN EN SPORT.\n",
                "-- LICENSED UNDER THE EUROPEAN UNION PUBLIC LICENCE V. 1.2 - SEE HTTPS://GITHUB.COM/MINVWS/NL-CONTACT-TRACING-APP-COORDINATIONFOR MORE INFORMATION.\n",
                "\n",
                "IF NOT EXISTS(SELECT * FROM SYS.INDEXES WHERE NAME='IX_DIFFERENCE_RESULTS_PER_REGION__HOSPITAL_MOVING_AVG_PER_REGION_DOR_DLI')\n",
                "CREATE NONCLUSTERED INDEX IX_DIFFERENCE_RESULTS_PER_REGION__HOSPITAL_MOVING_AVG_PER_REGION_DOR_DLI\n",
                "    ON VWSDEST.RESULTS_PER_REGION (VRCODE, DATE_OF_REPORT)\n",
                "    INCLUDE(DATE_OF_REPORT_UNIX, TOTAL_REPORTED_INCREASE_PER_REGION, DATE_LAST_INSERTED);\n",
                "GO\n"
            ]
        },
        {
            "cell_type": "code",
            "execution_count": null,
            "metadata": {},
            "outputs": [],
            "source": [
                "\n",
                "-- COPYRIGHT (C) 2020 DE STAAT DER NEDERLANDEN, MINISTERIE VAN   VOLKSGEZONDHEID, WELZIJN EN SPORT.\n",
                "-- LICENSED UNDER THE EUROPEAN UNION PUBLIC LICENCE V. 1.2 - SEE HTTPS://GITHUB.COM/MINVWS/NL-CONTACT-TRACING-APP-COORDINATIONFOR MORE INFORMATION.\n",
                "\n",
                "IF NOT EXISTS(SELECT * FROM SYS.INDEXES WHERE NAME='IX_DIFFERENCE_RESULTS_PER_REGION__TOTAL_REPORTED_INCREASE_PER_REGION_DOR_DLI')\n",
                "    CREATE NONCLUSTERED INDEX IX_DIFFERENCE_RESULTS_PER_REGION__TOTAL_REPORTED_INCREASE_PER_REGION_DOR_DLI\n",
                "    ON VWSDEST.RESULTS_PER_REGION (VRCODE, DATE_OF_REPORT, DATE_LAST_INSERTED)\n",
                "    INCLUDE(DATE_OF_REPORT_UNIX, HOSPITAL_TOTAL_COUNTS_PER_REGION);\n",
                "GO\n"
            ]
        },
        {
            "cell_type": "code",
            "execution_count": null,
            "metadata": {},
            "outputs": [],
            "source": [
                "\n",
                "-- COPYRIGHT (C) 2020 DE STAAT DER NEDERLANDEN, MINISTERIE VAN   VOLKSGEZONDHEID, WELZIJN EN SPORT.\n",
                "-- LICENSED UNDER THE EUROPEAN UNION PUBLIC LICENCE V. 1.2 - SEE HTTPS://GITHUB.COM/MINVWS/NL-CONTACT-TRACING-APP-COORDINATIONFOR MORE INFORMATION.\n",
                "\n",
                "IF NOT EXISTS(SELECT * FROM SYS.INDEXES WHERE NAME='IX_DIFFERENCE_RESULTS_PER_REGION__HOSPITAL_MOVING_AVG_PER_REGION_VR_DOR')\n",
                "    CREATE NONCLUSTERED INDEX IX_DIFFERENCE_RESULTS_PER_REGION__HOSPITAL_MOVING_AVG_PER_REGION_VR_DOR\n",
                "    ON VWSDEST.RESULTS_PER_REGION (VRCODE, DATE_OF_REPORT)\n",
                "    INCLUDE(DATE_OF_REPORT_UNIX, HOSPITAL_MOVING_AVG_PER_REGION, DATE_LAST_INSERTED);\n",
                "GO\n"
            ]
        },
        {
            "cell_type": "code",
            "execution_count": null,
            "metadata": {},
            "outputs": [],
            "source": [
                "\n",
                "-- COPYRIGHT (C) 2020 DE STAAT DER NEDERLANDEN, MINISTERIE VAN   VOLKSGEZONDHEID, WELZIJN EN SPORT.\n",
                "-- LICENSED UNDER THE EUROPEAN UNION PUBLIC LICENCE V. 1.2 - SEE HTTPS://GITHUB.COM/MINVWS/NL-CONTACT-TRACING-APP-COORDINATIONFOR MORE INFORMATION.\n",
                "\n",
                "-- 26-1-21 ADDITIONS BASED ON R__FIND_MISSING_INDEXES_WITH_THRESHOLD\n",
                "-- WHEN PASTING A NEW INDEX, MAKE SURE NO OTHER WITH THE SAME NAME OR SCHEMA ALREADY EXISTS.\n",
                "IF NOT EXISTS(SELECT * FROM SYS.INDEXES WHERE NAME='IX_NICE_HOSPITAL_GM_BASE_GMCODE_DATE_LAST_INSERTED')\n",
                "    CREATE NONCLUSTERED INDEX IX_NICE_HOSPITAL_GM_BASE_GMCODE_DATE_LAST_INSERTED ON [VWSDEST].[NICE_HOSPITAL_GM_BASE] ([GMCODE], [DATE_LAST_INSERTED]) INCLUDE ([DATE_OF_REPORT], [NEW_DATE_OF_REPORT_UNIX], [OLD_DATE_OF_REPORT_UNIX], [OLD_VALUE_REPORTED], [DIFFERENCE_REPORTED])\n",
                "GO\n"
            ]
        },
        {
            "cell_type": "code",
            "execution_count": null,
            "metadata": {},
            "outputs": [],
            "source": [
                "\n",
                "-- COPYRIGHT (C) 2020 DE STAAT DER NEDERLANDEN, MINISTERIE VAN   VOLKSGEZONDHEID, WELZIJN EN SPORT.\n",
                "-- LICENSED UNDER THE EUROPEAN UNION PUBLIC LICENCE V. 1.2 - SEE HTTPS://GITHUB.COM/MINVWS/NL-CONTACT-TRACING-APP-COORDINATIONFOR MORE INFORMATION.\n",
                "\n",
                "IF NOT EXISTS(SELECT * FROM SYS.INDEXES WHERE NAME='IX_NICE_HOSPITAL_GM_BASE_GMCODE')\n",
                "    CREATE NONCLUSTERED INDEX IX_NICE_HOSPITAL_GM_BASE_GMCODE ON [VWSDEST].[NICE_HOSPITAL_GM_BASE] ([GMCODE])\n",
                "GO \n"
            ]
        },
        {
            "cell_type": "code",
            "execution_count": null,
            "metadata": {},
            "outputs": [],
            "source": [
                "\n",
                "-- COPYRIGHT (C) 2020 DE STAAT DER NEDERLANDEN, MINISTERIE VAN   VOLKSGEZONDHEID, WELZIJN EN SPORT.\n",
                "-- LICENSED UNDER THE EUROPEAN UNION PUBLIC LICENCE V. 1.2 - SEE HTTPS://GITHUB.COM/MINVWS/NL-CONTACT-TRACING-APP-COORDINATIONFOR MORE INFORMATION.\n",
                "\n",
                "IF NOT EXISTS(SELECT * FROM SYS.INDEXES WHERE NAME='IX_GGD_TESTED_PEOPLE_VR_REGION_CODE_DATE_LAST_INSERTED')\n",
                "    CREATE NONCLUSTERED INDEX IX_GGD_TESTED_PEOPLE_VR_REGION_CODE_DATE_LAST_INSERTED ON [VWSDEST].[GGD_TESTED_PEOPLE_VR] ([REGION_CODE], [DATE_LAST_INSERTED]) INCLUDE ([DATE_OF_STATISTICS])\n",
                "GO\n"
            ]
        },
        {
            "cell_type": "code",
            "execution_count": null,
            "metadata": {},
            "outputs": [],
            "source": [
                "\n",
                "-- COPYRIGHT (C) 2020 DE STAAT DER NEDERLANDEN, MINISTERIE VAN   VOLKSGEZONDHEID, WELZIJN EN SPORT.\n",
                "-- LICENSED UNDER THE EUROPEAN UNION PUBLIC LICENCE V. 1.2 - SEE HTTPS://GITHUB.COM/MINVWS/NL-CONTACT-TRACING-APP-COORDINATIONFOR MORE INFORMATION.\n",
                "\n",
                "IF NOT EXISTS(SELECT * FROM SYS.INDEXES WHERE NAME='IX_GGD_TESTED_PEOPLE_VR_REGION_CODE')\n",
                "    CREATE NONCLUSTERED INDEX IX_GGD_TESTED_PEOPLE_VR_REGION_CODE ON [VWSDEST].[GGD_TESTED_PEOPLE_VR] ([REGION_CODE]) INCLUDE ([DATE_OF_STATISTICS], [DATE_LAST_INSERTED])\n",
                "GO\n",
                "\n",
                "/* * INDEXES ON PROD THAT WHERE MISSING IN CODEBASE * */\n",
                "\n",
                "\n",
                "/*\n",
                "IF NOT EXISTS(SELECT * FROM SYS.INDEXES WHERE NAME='IX_INTER_RIVM_NURSING_HOMES_DECEASED')\n",
                "    CREATE NONCLUSTERED INDEX IX_INTER_RIVM_NURSING_HOMES_DECEASED \n",
                "    ON [VWSINTER].[RIVM_NURSING_HOMES_DECEASED] ([DATE_LAST_INSERTED]) \n",
                "GO\n",
                "*/\n"
            ]
        },
        {
            "cell_type": "code",
            "execution_count": null,
            "metadata": {},
            "outputs": [],
            "source": [
                "\n",
                "-- COPYRIGHT (C) 2020 DE STAAT DER NEDERLANDEN, MINISTERIE VAN   VOLKSGEZONDHEID, WELZIJN EN SPORT.\n",
                "-- LICENSED UNDER THE EUROPEAN UNION PUBLIC LICENCE V. 1.2 - SEE HTTPS://GITHUB.COM/MINVWS/NL-CONTACT-TRACING-APP-COORDINATIONFOR MORE INFORMATION.\n",
                "\n",
                "IF NOT EXISTS(SELECT * FROM SYS.INDEXES WHERE NAME='IX_DEST_HOSPITAL_ADMISSIONS_DLI')\n",
                "    CREATE NONCLUSTERED INDEX IX_DEST_HOSPITAL_ADMISSIONS_DLI \n",
                "    ON [VWSDEST].[HOSPITAL_ADMISSIONS] ([DATE_LAST_INSERTED]) \n",
                "    INCLUDE ([DATE_OF_REPORT],[DATE_OF_REPORT_UNIX],[TOTAL_COUNTS_PER_DAY],[MOVING_AVERAGE_HOSPITAL])\n",
                "GO\n"
            ]
        },
        {
            "cell_type": "code",
            "execution_count": null,
            "metadata": {},
            "outputs": [],
            "source": [
                "\n",
                "-- COPYRIGHT (C) 2020 DE STAAT DER NEDERLANDEN, MINISTERIE VAN   VOLKSGEZONDHEID, WELZIJN EN SPORT.\n",
                "-- LICENSED UNDER THE EUROPEAN UNION PUBLIC LICENCE V. 1.2 - SEE HTTPS://GITHUB.COM/MINVWS/NL-CONTACT-TRACING-APP-COORDINATIONFOR MORE INFORMATION.\n",
                "\n",
                "IF NOT EXISTS(SELECT * FROM SYS.INDEXES WHERE NAME='IX_DEST_RIVM_DECEASED_DAILY_VR_DLI')\n",
                "    CREATE NONCLUSTERED INDEX IX_DEST_RIVM_DECEASED_DAILY_VR_DLI \n",
                "    ON [VWSDEST].[RIVM_DECEASED_DAILY_PER_REGION] ([DATE_LAST_INSERTED] ) \n",
                "    INCLUDE ([DATE_OF_REPORT],[DATE_OF_REPORT_UNIX],[DECEASED_ACTUAL],[VRCODE])\n",
                "GO\n"
            ]
        },
        {
            "cell_type": "code",
            "execution_count": null,
            "metadata": {},
            "outputs": [],
            "source": [
                "\n",
                "-- COPYRIGHT (C) 2020 DE STAAT DER NEDERLANDEN, MINISTERIE VAN   VOLKSGEZONDHEID, WELZIJN EN SPORT.\n",
                "-- LICENSED UNDER THE EUROPEAN UNION PUBLIC LICENCE V. 1.2 - SEE HTTPS://GITHUB.COM/MINVWS/NL-CONTACT-TRACING-APP-COORDINATIONFOR MORE INFORMATION.\n",
                "\n",
                "IF NOT EXISTS(SELECT * FROM SYS.INDEXES WHERE NAME='IX_POSITIVE_TESTED_PEOPLE_PER_MUNICIPALITY')\n",
                "    CREATE NONCLUSTERED INDEX IX_POSITIVE_TESTED_PEOPLE_PER_MUNICIPALITY \n",
                "    ON [VWSDEST].[POSITIVE_TESTED_PEOPLE_PER_MUNICIPALITY] (MUNICIPALITY_CODE ) \n",
                "GO\n"
            ]
        },
        {
            "cell_type": "code",
            "execution_count": null,
            "metadata": {},
            "outputs": [],
            "source": [
                "\n",
                "-- COPYRIGHT (C) 2020 DE STAAT DER NEDERLANDEN, MINISTERIE VAN   VOLKSGEZONDHEID, WELZIJN EN SPORT.\n",
                "-- LICENSED UNDER THE EUROPEAN UNION PUBLIC LICENCE V. 1.2 - SEE HTTPS://GITHUB.COM/MINVWS/NL-CONTACT-TRACING-APP-COORDINATIONFOR MORE INFORMATION.\n",
                "\n",
                "IF NOT EXISTS(SELECT * FROM SYS.INDEXES WHERE NAME='IX_POSITIVE_TESTED_PEOPLE_PER_MUNICIPALITY_TOTAL')\n",
                "    CREATE NONCLUSTERED INDEX IX_POSITIVE_TESTED_PEOPLE_PER_MUNICIPALITY_TOTAL \n",
                "    ON [VWSDEST].[POSITIVE_TESTED_PEOPLE_PER_MUNICIPALITY] ([DATE_LAST_INSERTED], [DATE_OF_REPORT] ) \n",
                "    INCLUDE ([DATE_OF_REPORT_UNIX],[MUNICIPALITY_NAME],[MUNICIPALITY_CODE],[INFECTED_DAILY_TOTAL],[INFECTED_DAILY_INCREASE])\n",
                "GO\n"
            ]
        },
        {
            "cell_type": "code",
            "execution_count": null,
            "metadata": {},
            "outputs": [],
            "source": [
                "\n",
                "-- COPYRIGHT (C) 2020 DE STAAT DER NEDERLANDEN, MINISTERIE VAN   VOLKSGEZONDHEID, WELZIJN EN SPORT.\n",
                "-- LICENSED UNDER THE EUROPEAN UNION PUBLIC LICENCE V. 1.2 - SEE HTTPS://GITHUB.COM/MINVWS/NL-CONTACT-TRACING-APP-COORDINATIONFOR MORE INFORMATION.\n",
                "\n",
                "IF NOT EXISTS(SELECT * FROM SYS.INDEXES WHERE NAME='IX_SEWER_MEASUREMENTS_PER_MUNICIPALITY')\n",
                "    CREATE NONCLUSTERED INDEX IX_SEWER_MEASUREMENTS_PER_MUNICIPALITY \n",
                "    ON [VWSDEST].[SEWER_MEASUREMENTS_PER_MUNICIPALITY] ([GMCODE] ) \n",
                "GO\n"
            ]
        },
        {
            "cell_type": "code",
            "execution_count": null,
            "metadata": {},
            "outputs": [],
            "source": [
                "\n",
                "-- COPYRIGHT (C) 2020 DE STAAT DER NEDERLANDEN, MINISTERIE VAN   VOLKSGEZONDHEID, WELZIJN EN SPORT.\n",
                "-- LICENSED UNDER THE EUROPEAN UNION PUBLIC LICENCE V. 1.2 - SEE HTTPS://GITHUB.COM/MINVWS/NL-CONTACT-TRACING-APP-COORDINATIONFOR MORE INFORMATION.\n",
                "\n",
                "IF NOT EXISTS(SELECT * FROM SYS.INDEXES WHERE NAME='IX_DEST_SEWER_MEASUREMENTS_PER_MUNICIPALITY_DLI_WU')\n",
                "    CREATE NONCLUSTERED INDEX IX_DEST_SEWER_MEASUREMENTS_PER_MUNICIPALITY_DLI_WU \n",
                "    ON [VWSDEST].[SEWER_MEASUREMENTS_PER_MUNICIPALITY] ([DATE_LAST_INSERTED] ) \n",
                "    INCLUDE ([WEEK_UNIX],[GMCODE],[NUMBER_OF_MEASUREMENTS],[NUMBER_OF_LOCATIONS],[AVERAGE_RNA_FLOW_PER_100000])\n",
                "GO\n"
            ]
        },
        {
            "cell_type": "code",
            "execution_count": null,
            "metadata": {},
            "outputs": [],
            "source": [
                "\n",
                "-- COPYRIGHT (C) 2020 DE STAAT DER NEDERLANDEN, MINISTERIE VAN   VOLKSGEZONDHEID, WELZIJN EN SPORT.\n",
                "-- LICENSED UNDER THE EUROPEAN UNION PUBLIC LICENCE V. 1.2 - SEE HTTPS://GITHUB.COM/MINVWS/NL-CONTACT-TRACING-APP-COORDINATIONFOR MORE INFORMATION.\n",
                "\n",
                "IF NOT EXISTS(SELECT * FROM SYS.INDEXES WHERE NAME='IX_DEST_NICE_HOSPITAL_GM_DLI_2')\n",
                "    CREATE NONCLUSTERED INDEX IX_DEST_NICE_HOSPITAL_GM_DLI_2 \n",
                "    ON [VWSDEST].[NICE_HOSPITAL_GM] ([DATE_LAST_INSERTED] ) \n",
                "    INCLUDE ([DATE_OF_STATISTICS],[GM_CODE],[GM_NAME],[REPORTED],[HOSPITALIZED])\n",
                "GO\n"
            ]
        },
        {
            "cell_type": "code",
            "execution_count": null,
            "metadata": {},
            "outputs": [],
            "source": [
                "\n",
                "-- COPYRIGHT (C) 2020 DE STAAT DER NEDERLANDEN, MINISTERIE VAN   VOLKSGEZONDHEID, WELZIJN EN SPORT.\n",
                "-- LICENSED UNDER THE EUROPEAN UNION PUBLIC LICENCE V. 1.2 - SEE HTTPS://GITHUB.COM/MINVWS/NL-CONTACT-TRACING-APP-COORDINATIONFOR MORE INFORMATION.\n",
                "\n",
                "IF NOT EXISTS(SELECT * FROM SYS.INDEXES WHERE NAME='IX_STAGE_RIVM_INFECTIOUS_PEOPLE_DLI')\n",
                "    CREATE NONCLUSTERED INDEX IX_STAGE_RIVM_INFECTIOUS_PEOPLE_DLI \n",
                "    ON [VWSSTAGE].[RIVM_INFECTIOUS_PEOPLE] ([DATE_LAST_INSERTED] ) \n",
                "    INCLUDE ([DATE],[PREV_LOW],[PREV_AVG],[PREV_UP])\n",
                "GO\n"
            ]
        },
        {
            "cell_type": "code",
            "execution_count": null,
            "metadata": {},
            "outputs": [],
            "source": [
                "\n",
                "-- COPYRIGHT (C) 2020 DE STAAT DER NEDERLANDEN, MINISTERIE VAN   VOLKSGEZONDHEID, WELZIJN EN SPORT.\n",
                "-- LICENSED UNDER THE EUROPEAN UNION PUBLIC LICENCE V. 1.2 - SEE HTTPS://GITHUB.COM/MINVWS/NL-CONTACT-TRACING-APP-COORDINATIONFOR MORE INFORMATION.\n",
                "\n",
                "IF NOT EXISTS(SELECT * FROM SYS.INDEXES WHERE NAME='IX_HOSPITAL_ADMISSIONS_PER_MUNICIPALITY')\n",
                "    CREATE NONCLUSTERED INDEX IX_HOSPITAL_ADMISSIONS_PER_MUNICIPALITY \n",
                "    ON [VWSDEST].[HOSPITAL_ADMISSIONS_PER_MUNICIPALITY] ([MUNICIPALITY_CODE] ) \n",
                "GO\n"
            ]
        },
        {
            "cell_type": "code",
            "execution_count": null,
            "metadata": {},
            "outputs": [],
            "source": [
                "\n",
                "-- COPYRIGHT (C) 2020 DE STAAT DER NEDERLANDEN, MINISTERIE VAN   VOLKSGEZONDHEID, WELZIJN EN SPORT.\n",
                "-- LICENSED UNDER THE EUROPEAN UNION PUBLIC LICENCE V. 1.2 - SEE HTTPS://GITHUB.COM/MINVWS/NL-CONTACT-TRACING-APP-COORDINATIONFOR MORE INFORMATION.\n",
                "\n",
                "IF NOT EXISTS(SELECT * FROM SYS.INDEXES WHERE NAME='IX_HOSPITAL_ADMISSIONS_PER_MUNICIPALITY_TOTAL')\n",
                "    CREATE NONCLUSTERED INDEX IX_HOSPITAL_ADMISSIONS_PER_MUNICIPALITY_TOTAL \n",
                "    ON [VWSDEST].[HOSPITAL_ADMISSIONS_PER_MUNICIPALITY] ([MUNICIPALITY_CODE],[DATE_LAST_INSERTED],[DATE_OF_REPORT] ) \n",
                "GO\n",
                "\n",
                "--INDEXES ON REDUNDANT TABLES\n",
                "/*\n",
                "IF NOT EXISTS(SELECT * FROM SYS.INDEXES WHERE NAME='IX_RIVM_CLUSTERS_INFECTED_PEOPLE')\n",
                "    CREATE NONCLUSTERED INDEX IX_RIVM_CLUSTERS_INFECTED_PEOPLE \n",
                "    ON [VWSINTER].[RIVM_CLUSTERS_INFECTED_PEOPLE] ([DATE_LAST_INSERTED] ) \n",
                "GO\n",
                "\n",
                "IF NOT EXISTS(SELECT * FROM SYS.INDEXES WHERE NAME='IX_INTER_RIVM_COVID_19_NUMBER_MUNICIPALITY_CUMULATIVE')\n",
                "    CREATE NONCLUSTERED INDEX IX_INTER_RIVM_COVID_19_NUMBER_MUNICIPALITY_CUMULATIVE \n",
                "    ON [VWSINTER].[RIVM_COVID_19_NUMBER_MUNICIPALITY_CUMULATIVE] ([DATE_LAST_INSERTED], [MUNICIPALITY_CODE] ) \n",
                "GO\n",
                "\n",
                "IF NOT EXISTS(SELECT * FROM SYS.INDEXES WHERE NAME='IX_RIVM_COVID_19_NUMBER_MUNICIPALITY_CUMULATIVE')\n",
                "    CREATE NONCLUSTERED INDEX IX_RIVM_COVID_19_NUMBER_MUNICIPALITY_CUMULATIVE \n",
                "    ON [VWSSTAGE].[RIVM_COVID_19_NUMBER_MUNICIPALITY_CUMULATIVE]( [DATE_LAST_INSERTED]) \n",
                "GO\n",
                "*/\n"
            ]
        },
        {
            "cell_type": "code",
            "execution_count": null,
            "metadata": {},
            "outputs": [],
            "source": [
                "\n",
                "-- COPYRIGHT (C) 2020 DE STAAT DER NEDERLANDEN, MINISTERIE VAN   VOLKSGEZONDHEID, WELZIJN EN SPORT.\n",
                "-- LICENSED UNDER THE EUROPEAN UNION PUBLIC LICENCE V. 1.2 - SEE HTTPS://GITHUB.COM/MINVWS/NL-CONTACT-TRACING-APP-COORDINATIONFOR MORE INFORMATION.\n",
                "\n",
                "IF NOT EXISTS(SELECT * FROM SYS.INDEXES WHERE NAME='IX_PROTO_CONFIGURATIONS_PROTO_ID_ACTIVE')\n",
                "    CREATE NONCLUSTERED INDEX [IX_PROTO_CONFIGURATIONS_PROTO_ID_ACTIVE] \n",
                "    ON [DATATINO_PROTO].[PROTO_CONFIGURATIONS] ([PROTO_ID], [ACTIVE])\n",
                "GO\n"
            ]
        },
        {
            "cell_type": "code",
            "execution_count": null,
            "metadata": {},
            "outputs": [],
            "source": [
                "\n",
                "-- COPYRIGHT (C) 2020 DE STAAT DER NEDERLANDEN, MINISTERIE VAN   VOLKSGEZONDHEID, WELZIJN EN SPORT.\n",
                "-- LICENSED UNDER THE EUROPEAN UNION PUBLIC LICENCE V. 1.2 - SEE HTTPS://GITHUB.COM/MINVWS/NL-CONTACT-TRACING-APP-COORDINATIONFOR MORE INFORMATION.\n",
                "\n",
                "IF NOT EXISTS(SELECT * FROM SYS.INDEXES WHERE NAME='IX_RIVM_DECEASED_DAILY_PER_MUNICIPALITY_MUNICIPALITY_CODE_DATE_LAST_INSERTED')\n",
                "    CREATE NONCLUSTERED INDEX [IX_RIVM_DECEASED_DAILY_PER_MUNICIPALITY_MUNICIPALITY_CODE_DATE_LAST_INSERTED] \n",
                "    ON [VWSDEST].[RIVM_DECEASED_DAILY_PER_MUNICIPALITY] ([MUNICIPALITY_CODE], [DATE_LAST_INSERTED]) \n",
                "    INCLUDE ([DATE_OF_REPORT], [DATE_OF_REPORT_UNIX], [OLD_DATE_OF_REPORT_UNIX], [OLD_VALUE], [DIFFERENCE])\n",
                "GO\n"
            ]
        },
        {
            "cell_type": "code",
            "execution_count": null,
            "metadata": {},
            "outputs": [],
            "source": [
                "\n",
                "-- COPYRIGHT (C) 2020 DE STAAT DER NEDERLANDEN, MINISTERIE VAN   VOLKSGEZONDHEID, WELZIJN EN SPORT.\n",
                "-- LICENSED UNDER THE EUROPEAN UNION PUBLIC LICENCE V. 1.2 - SEE HTTPS://GITHUB.COM/MINVWS/NL-CONTACT-TRACING-APP-COORDINATIONFOR MORE INFORMATION.\n",
                "\n",
                "IF NOT EXISTS (SELECT * FROM SYS.INDEXES WHERE NAME='IX_RIVM_RWZI_INHIBITANTS_2021_DATE_LAST_INSERTED')\n",
                "    CREATE NONCLUSTERED INDEX [IX_RIVM_RWZI_INHIBITANTS_2021_DATE_LAST_INSERTED] \n",
                "    ON [VWSSTATIC].[RWZI_INHIBITANTS_2021] ([DATE_LAST_INSERTED], [GEBIEDSCODE]) \n",
                "    INCLUDE ([CODE_RWZI], [PERCENTAGE])\n",
                "GO\n"
            ]
        },
        {
            "cell_type": "code",
            "execution_count": null,
            "metadata": {},
            "outputs": [],
            "source": [
                "\n",
                "-- COPYRIGHT (C) 2020 DE STAAT DER NEDERLANDEN, MINISTERIE VAN   VOLKSGEZONDHEID, WELZIJN EN SPORT.\n",
                "-- LICENSED UNDER THE EUROPEAN UNION PUBLIC LICENCE V. 1.2 - SEE HTTPS://GITHUB.COM/MINVWS/NL-CONTACT-TRACING-APP-COORDINATIONFOR MORE INFORMATION.\n",
                "\n",
                "IF NOT EXISTS(SELECT * FROM SYS.INDEXES WHERE NAME='IX_DEST_NICE_HOSPITAL_GM_DLI_3')\n",
                "    CREATE NONCLUSTERED INDEX IX_DEST_NICE_HOSPITAL_GM_DLI_3 \n",
                "    ON [VWSDEST].[NICE_HOSPITAL_GM] ([DATE_LAST_INSERTED] ) \n",
                "    INCLUDE ([DATE_OF_STATISTICS],[GM_CODE],[GM_NAME],[REPORTED],[HOSPITALIZED],[HOSPITALIZED_7D_AVG])\n",
                "GO\n"
            ]
        },
        {
            "cell_type": "code",
            "execution_count": null,
            "metadata": {},
            "outputs": [],
            "source": [
                "\n",
                "-- COPYRIGHT (C) 2020 DE STAAT DER NEDERLANDEN, MINISTERIE VAN   VOLKSGEZONDHEID, WELZIJN EN SPORT.\n",
                "-- LICENSED UNDER THE EUROPEAN UNION PUBLIC LICENCE V. 1.2 - SEE HTTPS://GITHUB.COM/MINVWS/NL-CONTACT-TRACING-APP-COORDINATIONFOR MORE INFORMATION.\n",
                "\n",
                "IF NOT EXISTS(SELECT * FROM SYS.INDEXES WHERE NAME='IX_DEST_POSITIVE_TESTED_PEOPLE_PER_MUNICIPALITY_DLI_DOR_2')\n",
                "    CREATE NONCLUSTERED INDEX IX_DEST_POSITIVE_TESTED_PEOPLE_PER_MUNICIPALITY_DLI_DOR_2\n",
                "    ON VWSDEST.POSITIVE_TESTED_PEOPLE_PER_MUNICIPALITY (DATE_LAST_INSERTED, DATE_OF_REPORT) \n",
                "    INCLUDE (DATE_OF_REPORT_UNIX, MUNICIPALITY_CODE, MUNICIPALITY_NAME, INFECTED_DAILY_TOTAL, INFECTED_DAILY_INCREASE, [7D_AVERAGE_INFECTED_DAILY_INCREASE_TOTAL]);\n",
                "GO\n"
            ]
        },
        {
            "cell_type": "markdown",
            "metadata": {},
            "source": [
                "### ADDITIONAL CONFIGURATIONS"
            ]
        },
        {
            "cell_type": "code",
            "execution_count": null,
            "metadata": {},
            "outputs": [],
            "source": [
                "-- Copyright (c) 2020 De Staat der Nederlanden, Ministerie van   Volksgezondheid, Welzijn en Sport.\n",
                "-- Licensed under the EUROPEAN UNION PUBLIC LICENCE v. 1.2 - see https://github.com/minvws/nl-contact-tracing-app-coordinationfor more information.\n",
                "\n",
                "IF NOT EXISTS(SELECT * FROM sys.indexes WHERE NAME='IX_DEST_ELDERLY_AT_HOME_VR_DLI_DOR')\n",
                "      CREATE NONCLUSTERED INDEX IX_DEST_ELDERLY_AT_HOME_VR_DLI_DOR\n",
                "      ON VWSDEST.ELDERLY_AT_HOME_VR (DATE_LAST_INSERTED, DATE_OF_REPORT)\n",
                "      INCLUDE(DATE_OF_REPORT_UNIX, VRCODE, INFECTED_ELDERLY_AT_HOME_DAILY, INFECTED_ELDERLY_AT_HOME_DAILY_PER_100K, DECEASED_ELDERLY_AT_HOME_DAILY);\n",
                "GO\n"
            ]
        },
        {
            "cell_type": "code",
            "execution_count": null,
            "metadata": {},
            "outputs": [],
            "source": [
                "\n",
                "-- COPYRIGHT (C) 2020 DE STAAT DER NEDERLANDEN, MINISTERIE VAN   VOLKSGEZONDHEID, WELZIJN EN SPORT.\n",
                "-- LICENSED UNDER THE EUROPEAN UNION PUBLIC LICENCE V. 1.2 - SEE HTTPS://GITHUB.COM/MINVWS/NL-CONTACT-TRACING-APP-COORDINATIONFOR MORE INFORMATION.\n",
                "\n",
                "IF NOT EXISTS(SELECT * FROM sys.indexes WHERE NAME='IX_DEST_NICE_HOSPITAL_VR_DLI_DS')\n",
                "      CREATE NONCLUSTERED INDEX IX_DEST_NICE_HOSPITAL_VR_DLI_DS\n",
                "      ON VWSDEST.NICE_HOSPITAL_VR (DATE_LAST_INSERTED, DATE_OF_STATISTICS)\n",
                "      INCLUDE(VR_CODE, HOSPITALIZED_CUMULATIVE);\n",
                "GO\n"
            ]
        },
        {
            "cell_type": "code",
            "execution_count": null,
            "metadata": {},
            "outputs": [],
            "source": [
                "\n",
                "-- COPYRIGHT (C) 2020 DE STAAT DER NEDERLANDEN, MINISTERIE VAN   VOLKSGEZONDHEID, WELZIJN EN SPORT.\n",
                "-- LICENSED UNDER THE EUROPEAN UNION PUBLIC LICENCE V. 1.2 - SEE HTTPS://GITHUB.COM/MINVWS/NL-CONTACT-TRACING-APP-COORDINATIONFOR MORE INFORMATION.\n",
                "\n",
                "IF NOT EXISTS(SELECT * FROM sys.indexes WHERE NAME='IX_DEST_NICE_HOSPITAL_VR')\n",
                "      CREATE NONCLUSTERED INDEX IX_DEST_NICE_HOSPITAL_VR\n",
                "      ON VWSDEST.NICE_HOSPITAL_VR (DATE_LAST_INSERTED, DATE_OF_STATISTICS)\n",
                "      INCLUDE(VR_CODE);\n",
                "GO\n"
            ]
        },
        {
            "cell_type": "code",
            "execution_count": null,
            "metadata": {},
            "outputs": [],
            "source": [
                "\n",
                "-- COPYRIGHT (C) 2020 DE STAAT DER NEDERLANDEN, MINISTERIE VAN   VOLKSGEZONDHEID, WELZIJN EN SPORT.\n",
                "-- LICENSED UNDER THE EUROPEAN UNION PUBLIC LICENCE V. 1.2 - SEE HTTPS://GITHUB.COM/MINVWS/NL-CONTACT-TRACING-APP-COORDINATIONFOR MORE INFORMATION.\n",
                "\n",
                "IF NOT EXISTS(SELECT * FROM sys.indexes WHERE NAME='IX_DEST_NICE_HOSPITAL_VR_AVG')\n",
                "      CREATE NONCLUSTERED INDEX IX_DEST_NICE_HOSPITAL_VR_AVG\n",
                "      ON VWSDEST.NICE_HOSPITAL_VR (DATE_LAST_INSERTED, DATE_OF_STATISTICS)\n",
                "      INCLUDE(VR_CODE, HOSPITALIZED_3D_AVG);\n",
                "GO\n"
            ]
        },
        {
            "cell_type": "code",
            "execution_count": null,
            "metadata": {},
            "outputs": [],
            "source": [
                "\n",
                "-- COPYRIGHT (C) 2020 DE STAAT DER NEDERLANDEN, MINISTERIE VAN   VOLKSGEZONDHEID, WELZIJN EN SPORT.\n",
                "-- LICENSED UNDER THE EUROPEAN UNION PUBLIC LICENCE V. 1.2 - SEE HTTPS://GITHUB.COM/MINVWS/NL-CONTACT-TRACING-APP-COORDINATIONFOR MORE INFORMATION.\n",
                "\n",
                "IF NOT EXISTS(SELECT * FROM sys.indexes WHERE NAME='IX_DEST_SEWER_MEASUREMENTS_PER_REGION_VR')\n",
                "      CREATE NONCLUSTERED INDEX IX_DEST_SEWER_MEASUREMENTS_PER_REGION_VR\n",
                "      ON VWSDEST.SEWER_MEASUREMENTS_PER_REGION (VRCODE)\n",
                "      INCLUDE(WEEK_UNIX, NUMBER_OF_LOCATIONS, AVERAGE_RNA_FLOW_PER_100000, DATE_LAST_INSERTED);\n",
                "GO\n"
            ]
        },
        {
            "cell_type": "code",
            "execution_count": null,
            "metadata": {},
            "outputs": [],
            "source": [
                "\n",
                "-- COPYRIGHT (C) 2020 DE STAAT DER NEDERLANDEN, MINISTERIE VAN   VOLKSGEZONDHEID, WELZIJN EN SPORT.\n",
                "-- LICENSED UNDER THE EUROPEAN UNION PUBLIC LICENCE V. 1.2 - SEE HTTPS://GITHUB.COM/MINVWS/NL-CONTACT-TRACING-APP-COORDINATIONFOR MORE INFORMATION.\n",
                "\n",
                "IF NOT EXISTS(SELECT * FROM sys.indexes WHERE NAME='IX_DEST_SEWER_MEASUREMENTS_PER_REGION_DLI')\n",
                "      CREATE NONCLUSTERED INDEX IX_DEST_SEWER_MEASUREMENTS_PER_REGION_DLI\n",
                "      ON VWSDEST.SEWER_MEASUREMENTS_PER_REGION (DATE_LAST_INSERTED)\n",
                "      INCLUDE(WEEK_UNIX, VRCODE, NUMBER_OF_LOCATIONS, AVERAGE_RNA_FLOW_PER_100000);\n",
                "GO\n"
            ]
        },
        {
            "cell_type": "code",
            "execution_count": null,
            "metadata": {},
            "outputs": [],
            "source": [
                "\n",
                "-- COPYRIGHT (C) 2020 DE STAAT DER NEDERLANDEN, MINISTERIE VAN   VOLKSGEZONDHEID, WELZIJN EN SPORT.\n",
                "-- LICENSED UNDER THE EUROPEAN UNION PUBLIC LICENCE V. 1.2 - SEE HTTPS://GITHUB.COM/MINVWS/NL-CONTACT-TRACING-APP-COORDINATIONFOR MORE INFORMATION.\n",
                "\n",
                "IF NOT EXISTS(SELECT * FROM sys.indexes WHERE NAME='IX_STATIC_RWZI_GMCODE')\n",
                "      CREATE NONCLUSTERED INDEX IX_STATIC_RWZI_GMCODE\n",
                "      ON VWSSTATIC.RWZI_GMCODE (DATE_LAST_INSERTED)\n",
                "      INCLUDE(RWZI_CODE, GM_CODE);\n",
                "GO\n"
            ]
        },
        {
            "cell_type": "code",
            "execution_count": null,
            "metadata": {},
            "outputs": [],
            "source": [
                "\n",
                "-- COPYRIGHT (C) 2020 DE STAAT DER NEDERLANDEN, MINISTERIE VAN   VOLKSGEZONDHEID, WELZIJN EN SPORT.\n",
                "-- LICENSED UNDER THE EUROPEAN UNION PUBLIC LICENCE V. 1.2 - SEE HTTPS://GITHUB.COM/MINVWS/NL-CONTACT-TRACING-APP-COORDINATIONFOR MORE INFORMATION.\n",
                "\n",
                "IF NOT EXISTS(SELECT * FROM sys.indexes WHERE NAME='IX_DEST_SEWER_MEASUREMENTS_PER_MUNICIPALITY')\n",
                "      CREATE NONCLUSTERED INDEX IX_DEST_SEWER_MEASUREMENTS_PER_MUNICIPALITY\n",
                "      ON VWSDEST.SEWER_MEASUREMENTS_PER_MUNICIPALITY (DATE_LAST_INSERTED)\n",
                "      INCLUDE(WEEK_UNIX, GMCODE, NUMBER_OF_LOCATIONS, AVERAGE_RNA_FLOW_PER_100000);\n",
                "GO\n"
            ]
        },
        {
            "cell_type": "code",
            "execution_count": null,
            "metadata": {},
            "outputs": [],
            "source": [
                "\n",
                "-- COPYRIGHT (C) 2020 DE STAAT DER NEDERLANDEN, MINISTERIE VAN   VOLKSGEZONDHEID, WELZIJN EN SPORT.\n",
                "-- LICENSED UNDER THE EUROPEAN UNION PUBLIC LICENCE V. 1.2 - SEE HTTPS://GITHUB.COM/MINVWS/NL-CONTACT-TRACING-APP-COORDINATIONFOR MORE INFORMATION.\n",
                "\n",
                "IF NOT EXISTS(SELECT * FROM sys.indexes WHERE NAME='IX_DEST_SEWER_MEASUREMENTS_PER_MUNICIPALITY')\n",
                "      CREATE NONCLUSTERED INDEX IX_DEST_SEWER_MEASUREMENTS_PER_MUNICIPALITY\n",
                "      ON VWSDEST.RIVM_DECEASED_PER_WEEK (WEEK_START)\n",
                "      INCLUDE(WEEK_START_UNIX, DECEASED_ACTUAL, VRCODE, DATE_LAST_INSERTED);\n",
                "GO\n"
            ]
        },
        {
            "cell_type": "code",
            "execution_count": null,
            "metadata": {},
            "outputs": [],
            "source": [
                "\n",
                "-- COPYRIGHT (C) 2020 DE STAAT DER NEDERLANDEN, MINISTERIE VAN   VOLKSGEZONDHEID, WELZIJN EN SPORT.\n",
                "-- LICENSED UNDER THE EUROPEAN UNION PUBLIC LICENCE V. 1.2 - SEE HTTPS://GITHUB.COM/MINVWS/NL-CONTACT-TRACING-APP-COORDINATIONFOR MORE INFORMATION.\n",
                "\n",
                "IF NOT EXISTS(SELECT * FROM sys.indexes WHERE NAME='IX_DEST_SEWER_MEASUREMENTS_PER_MUNICIPALITY_DLI_WS')\n",
                "      CREATE NONCLUSTERED INDEX IX_DEST_SEWER_MEASUREMENTS_PER_MUNICIPALITY_DLI_WS\n",
                "      ON VWSDEST.RIVM_DECEASED_PER_WEEK (DATE_LAST_INSERTED, WEEK_START)\n",
                "      INCLUDE(WEEK_START_UNIX, DECEASED_ACTUAL, VRCODE);\n",
                "GO\n"
            ]
        },
        {
            "cell_type": "code",
            "execution_count": null,
            "metadata": {},
            "outputs": [],
            "source": [
                "\n",
                "-- COPYRIGHT (C) 2020 DE STAAT DER NEDERLANDEN, MINISTERIE VAN   VOLKSGEZONDHEID, WELZIJN EN SPORT.\n",
                "-- LICENSED UNDER THE EUROPEAN UNION PUBLIC LICENCE V. 1.2 - SEE HTTPS://GITHUB.COM/MINVWS/NL-CONTACT-TRACING-APP-COORDINATIONFOR MORE INFORMATION.\n",
                "\n",
                "IF NOT EXISTS(SELECT * FROM sys.indexes WHERE NAME='IX_DEST_RESULTS_PER_REGION_DOR')\n",
                "      CREATE NONCLUSTERED INDEX IX_DEST_RESULTS_PER_REGION_DOR\n",
                "      ON VWSDEST.RESULTS_PER_REGION (DATE_OF_REPORT)\n",
                "      INCLUDE(DATE_OF_REPORT_UNIX, VRCODE, TOTAL_REPORTED_INCREASE_PER_REGION, INFECTED_TOTAL_COUNTS_PER_REGION, INFECTED_INCREASE_PER_REGION, DATE_LAST_INSERTED);\n",
                "GO\n"
            ]
        },
        {
            "cell_type": "code",
            "execution_count": null,
            "metadata": {},
            "outputs": [],
            "source": [
                "\n",
                "-- COPYRIGHT (C) 2020 DE STAAT DER NEDERLANDEN, MINISTERIE VAN   VOLKSGEZONDHEID, WELZIJN EN SPORT.\n",
                "-- LICENSED UNDER THE EUROPEAN UNION PUBLIC LICENCE V. 1.2 - SEE HTTPS://GITHUB.COM/MINVWS/NL-CONTACT-TRACING-APP-COORDINATIONFOR MORE INFORMATION.\n",
                "\n",
                "IF NOT EXISTS(SELECT * FROM sys.indexes WHERE NAME='IX_DEST_RESULTS_PER_REGION_DLI')\n",
                "      CREATE NONCLUSTERED INDEX IX_DEST_RESULTS_PER_REGION_DLI\n",
                "      ON VWSDEST.RESULTS_PER_REGION (DATE_LAST_INSERTED, DATE_OF_REPORT)\n",
                "      INCLUDE(DATE_OF_REPORT_UNIX, VRCODE, TOTAL_REPORTED_INCREASE_PER_REGION, INFECTED_TOTAL_COUNTS_PER_REGION, INFECTED_INCREASE_PER_REGION);\n",
                "GO\n"
            ]
        },
        {
            "cell_type": "code",
            "execution_count": null,
            "metadata": {},
            "outputs": [],
            "source": [
                "\n",
                "-- COPYRIGHT (C) 2020 DE STAAT DER NEDERLANDEN, MINISTERIE VAN   VOLKSGEZONDHEID, WELZIJN EN SPORT.\n",
                "-- LICENSED UNDER THE EUROPEAN UNION PUBLIC LICENCE V. 1.2 - SEE HTTPS://GITHUB.COM/MINVWS/NL-CONTACT-TRACING-APP-COORDINATIONFOR MORE INFORMATION.\n",
                "\n",
                "IF NOT EXISTS(SELECT * FROM sys.indexes WHERE NAME='IX_DEST_RESTRICTIONS_PER_REGION_DLI')\n",
                "      CREATE NONCLUSTERED INDEX IX_DEST_RESTRICTIONS_PER_REGION_DLI\n",
                "      ON VWSDEST.RESTRICTIONS_PER_REGION (DATE_LAST_INSERTED)\n",
                "      INCLUDE(VRCODE, RESTRICTION_ID, ESCALATION_LEVEL, CATEGORY_ID, RESTRICTION_ORDER, VALID_FROM);\n",
                "GO\n"
            ]
        },
        {
            "cell_type": "code",
            "execution_count": null,
            "metadata": {},
            "outputs": [],
            "source": [
                "\n",
                "-- COPYRIGHT (C) 2020 DE STAAT DER NEDERLANDEN, MINISTERIE VAN   VOLKSGEZONDHEID, WELZIJN EN SPORT.\n",
                "-- LICENSED UNDER THE EUROPEAN UNION PUBLIC LICENCE V. 1.2 - SEE HTTPS://GITHUB.COM/MINVWS/NL-CONTACT-TRACING-APP-COORDINATIONFOR MORE INFORMATION.\n",
                "\n",
                "IF NOT EXISTS(SELECT * FROM sys.indexes WHERE NAME='IX_DEST_REPRODUCTION_NUMBER_DOR')\n",
                "      CREATE NONCLUSTERED INDEX IX_DEST_REPRODUCTION_NUMBER_DOR\n",
                "      ON VWSDEST.REPRODUCTION_NUMBER (DATE_OF_REPORT)\n",
                "      INCLUDE(DATE_OF_REPORT_UNIX, REPRODUCTION_INDEX_LOW, REPRODUCTION_INDEX_AVG, REPRODUCTION_INDEX_HIGH, DATE_LAST_INSERTED);\n",
                "GO\n"
            ]
        },
        {
            "cell_type": "code",
            "execution_count": null,
            "metadata": {},
            "outputs": [],
            "source": [
                "\n",
                "-- COPYRIGHT (C) 2020 DE STAAT DER NEDERLANDEN, MINISTERIE VAN   VOLKSGEZONDHEID, WELZIJN EN SPORT.\n",
                "-- LICENSED UNDER THE EUROPEAN UNION PUBLIC LICENCE V. 1.2 - SEE HTTPS://GITHUB.COM/MINVWS/NL-CONTACT-TRACING-APP-COORDINATIONFOR MORE INFORMATION.\n",
                "\n",
                "IF NOT EXISTS(SELECT * FROM sys.indexes WHERE NAME='IX_DEST_REPRODUCTION_NUMBER_DLI_DOR')\n",
                "      CREATE NONCLUSTERED INDEX IX_DEST_REPRODUCTION_NUMBER_DLI_DOR\n",
                "      ON VWSDEST.REPRODUCTION_NUMBER (DATE_LAST_INSERTED, DATE_OF_REPORT)\n",
                "      INCLUDE(DATE_OF_REPORT_UNIX, REPRODUCTION_INDEX_LOW, REPRODUCTION_INDEX_AVG, REPRODUCTION_INDEX_HIGH);\n",
                "GO\n"
            ]
        },
        {
            "cell_type": "code",
            "execution_count": null,
            "metadata": {},
            "outputs": [],
            "source": [
                "\n",
                "-- COPYRIGHT (C) 2020 DE STAAT DER NEDERLANDEN, MINISTERIE VAN   VOLKSGEZONDHEID, WELZIJN EN SPORT.\n",
                "-- LICENSED UNDER THE EUROPEAN UNION PUBLIC LICENCE V. 1.2 - SEE HTTPS://GITHUB.COM/MINVWS/NL-CONTACT-TRACING-APP-COORDINATIONFOR MORE INFORMATION.\n",
                "\n",
                "IF NOT EXISTS(SELECT * FROM sys.indexes WHERE NAME='IX_DEST_POSITIVE_TESTED_PEOPLE_PERCENTAGE_PER_REGION_DLI_DOR')\n",
                "      CREATE NONCLUSTERED INDEX IX_DEST_POSITIVE_TESTED_PEOPLE_PERCENTAGE_PER_REGION_DLI_DOR\n",
                "      ON VWSDEST.POSITIVE_TESTED_PEOPLE_PERCENTAGE_PER_REGION (DATE_LAST_INSERTED)\n",
                "      INCLUDE(DATE_OF_REPORT, DATE_OF_REPORT_UNIX, VRCODE, INFECTED_GGD, PERCENTAGE_INFECTED_GGD, TOTAL_TESTED_GGD);\n",
                "GO\n"
            ]
        },
        {
            "cell_type": "code",
            "execution_count": null,
            "metadata": {},
            "outputs": [],
            "source": [
                "\n",
                "-- COPYRIGHT (C) 2020 DE STAAT DER NEDERLANDEN, MINISTERIE VAN   VOLKSGEZONDHEID, WELZIJN EN SPORT.\n",
                "-- LICENSED UNDER THE EUROPEAN UNION PUBLIC LICENCE V. 1.2 - SEE HTTPS://GITHUB.COM/MINVWS/NL-CONTACT-TRACING-APP-COORDINATIONFOR MORE INFORMATION.\n",
                "\n",
                "IF NOT EXISTS(SELECT * FROM sys.indexes WHERE NAME='IX_DEST_INFECTIOUS_PEOPLE_DLI')\n",
                "      CREATE NONCLUSTERED INDEX IX_DEST_INFECTIOUS_PEOPLE_DLI\n",
                "      ON VWSDEST.INFECTIOUS_PEOPLE(DATE_LAST_INSERTED)\n",
                "      INCLUDE(DATE_OF_REPORT_UNIX, INFECTIOUS_LOW, INFECTIOUS_AVG, INFECTIOUS_HIGH);\n",
                "GO\n"
            ]
        },
        {
            "cell_type": "code",
            "execution_count": null,
            "metadata": {},
            "outputs": [],
            "source": [
                "\n",
                "-- COPYRIGHT (C) 2020 DE STAAT DER NEDERLANDEN, MINISTERIE VAN   VOLKSGEZONDHEID, WELZIJN EN SPORT.\n",
                "-- LICENSED UNDER THE EUROPEAN UNION PUBLIC LICENCE V. 1.2 - SEE HTTPS://GITHUB.COM/MINVWS/NL-CONTACT-TRACING-APP-COORDINATIONFOR MORE INFORMATION.\n",
                "\n",
                "IF NOT EXISTS(SELECT * FROM sys.indexes WHERE NAME='IX_DEST_HOSPITAL_BED_OCCUPANCY_DLI')\n",
                "      CREATE NONCLUSTERED INDEX IX_DEST_HOSPITAL_BED_OCCUPANCY_DLI\n",
                "      ON VWSDEST.HOSPITAL_BED_OCCUPANCY (DATE_LAST_INSERTED)\n",
                "      INCLUDE(DATE_OF_REPORT_UNIX, NON_IC_BEDS_OCCUPIED_COVID);\n",
                "GO\n"
            ]
        },
        {
            "cell_type": "code",
            "execution_count": null,
            "metadata": {},
            "outputs": [],
            "source": [
                "\n",
                "-- COPYRIGHT (C) 2020 DE STAAT DER NEDERLANDEN, MINISTERIE VAN   VOLKSGEZONDHEID, WELZIJN EN SPORT.\n",
                "-- LICENSED UNDER THE EUROPEAN UNION PUBLIC LICENCE V. 1.2 - SEE HTTPS://GITHUB.COM/MINVWS/NL-CONTACT-TRACING-APP-COORDINATIONFOR MORE INFORMATION.\n",
                "\n",
                "IF NOT EXISTS(SELECT * FROM sys.indexes WHERE NAME='IX_DEST_NURSING_HOME_REGIONS_DOR_VR')\n",
                "      CREATE NONCLUSTERED INDEX IX_DEST_NURSING_HOME_REGIONS_DOR_VR\n",
                "      ON VWSDEST.NURSING_HOMES_PER_REGION (DATE_OF_REPORT, VRCODE)\n",
                "      INCLUDE(DATE_OF_REPORT_UNIX, INFECTED_NURSERY_DAILY, DECEASED_NURSERY_DAILY, TOTAL_NEW_REPORTED_LOCATIONS, TOTAL_REPORTED_LOCATIONS, iNFECTED_LOCATIONS_PERCENTAGE, DATE_LAST_INSERTED);\n",
                "GO\n"
            ]
        },
        {
            "cell_type": "code",
            "execution_count": null,
            "metadata": {},
            "outputs": [],
            "source": [
                "\n",
                "-- COPYRIGHT (C) 2020 DE STAAT DER NEDERLANDEN, MINISTERIE VAN   VOLKSGEZONDHEID, WELZIJN EN SPORT.\n",
                "-- LICENSED UNDER THE EUROPEAN UNION PUBLIC LICENCE V. 1.2 - SEE HTTPS://GITHUB.COM/MINVWS/NL-CONTACT-TRACING-APP-COORDINATIONFOR MORE INFORMATION.\n",
                "\n",
                "IF NOT EXISTS(SELECT * FROM sys.indexes WHERE NAME='IX_DEST_NURSING_HOME_REGIONS_DLI_DOR')\n",
                "      CREATE NONCLUSTERED INDEX IX_DEST_NURSING_HOME_REGIONS_DLI_DOR\n",
                "      ON VWSDEST.NURSING_HOMES_PER_REGION (DATE_LAST_INSERTED, DATE_OF_REPORT)\n",
                "      INCLUDE(DATE_OF_REPORT_UNIX, VRCODE, INFECTED_NURSERY_DAILY, DECEASED_NURSERY_DAILY, TOTAL_NEW_REPORTED_LOCATIONS, TOTAL_REPORTED_LOCATIONS, iNFECTED_LOCATIONS_PERCENTAGE);\n",
                "GO\n"
            ]
        },
        {
            "cell_type": "code",
            "execution_count": null,
            "metadata": {},
            "outputs": [],
            "source": [
                "\n",
                "-- COPYRIGHT (C) 2020 DE STAAT DER NEDERLANDEN, MINISTERIE VAN   VOLKSGEZONDHEID, WELZIJN EN SPORT.\n",
                "-- LICENSED UNDER THE EUROPEAN UNION PUBLIC LICENCE V. 1.2 - SEE HTTPS://GITHUB.COM/MINVWS/NL-CONTACT-TRACING-APP-COORDINATIONFOR MORE INFORMATION.\n",
                "\n",
                "IF NOT EXISTS(SELECT * FROM sys.indexes WHERE NAME='IX_DEST_DISABILITY_VR_DOR')\n",
                "      CREATE NONCLUSTERED INDEX IX_DEST_DISABILITY_VR_DOR\n",
                "      ON VWSDEST.DISABILITY_VR (DATE_OF_REPORT)\n",
                "      INCLUDE(DATE_OF_REPORT_UNIX, VRCODE, INFECTED_DISABILITY_DAILY, DECEASED_DISABILITY_DAILY, TOTAL_NEW_INFECTED_LOCATIONS, TOTAL_INFECTED_LOCATIONS, PERCENTAGE_INFECTED_LOCATIONS, DATE_LAST_INSERTED);\n",
                "GO\n"
            ]
        },
        {
            "cell_type": "code",
            "execution_count": null,
            "metadata": {},
            "outputs": [],
            "source": [
                "\n",
                "-- COPYRIGHT (C) 2020 DE STAAT DER NEDERLANDEN, MINISTERIE VAN   VOLKSGEZONDHEID, WELZIJN EN SPORT.\n",
                "-- LICENSED UNDER THE EUROPEAN UNION PUBLIC LICENCE V. 1.2 - SEE HTTPS://GITHUB.COM/MINVWS/NL-CONTACT-TRACING-APP-COORDINATIONFOR MORE INFORMATION.\n",
                "\n",
                "IF NOT EXISTS(SELECT * FROM sys.indexes WHERE NAME='IX_DEST_DISABILITY_VR_DLI')\n",
                "      CREATE NONCLUSTERED INDEX IX_DEST_DISABILITY_VR_DLI\n",
                "      ON VWSDEST.DISABILITY_VR (DATE_LAST_INSERTED)\n",
                "      INCLUDE(DATE_OF_REPORT);\n",
                "GO\n"
            ]
        },
        {
            "cell_type": "code",
            "execution_count": null,
            "metadata": {},
            "outputs": [],
            "source": [
                "\n",
                "-- COPYRIGHT (C) 2020 DE STAAT DER NEDERLANDEN, MINISTERIE VAN   VOLKSGEZONDHEID, WELZIJN EN SPORT.\n",
                "-- LICENSED UNDER THE EUROPEAN UNION PUBLIC LICENCE V. 1.2 - SEE HTTPS://GITHUB.COM/MINVWS/NL-CONTACT-TRACING-APP-COORDINATIONFOR MORE INFORMATION.\n",
                "\n",
                "IF NOT EXISTS(SELECT * FROM sys.indexes WHERE NAME='IX_DEST_DISABILITY_DOR')\n",
                "      CREATE NONCLUSTERED INDEX IX_DEST_DISABILITY_DOR\n",
                "      ON VWSDEST.DISABILITY (DATE_OF_REPORT)\n",
                "      INCLUDE(DATE_OF_REPORT_UNIX, INFECTED_DISABILITY_DAILY, DECEASED_DISABILITY_DAILY, TOTAL_NEW_INFECTED_LOCATIONS, TOTAL_INFECTED_LOCATIONS, PERCENTAGE_INFECTED_LOCATIONS, DATE_LAST_INSERTED);\n",
                "GO\n"
            ]
        },
        {
            "cell_type": "code",
            "execution_count": null,
            "metadata": {},
            "outputs": [],
            "source": [
                "\n",
                "-- COPYRIGHT (C) 2020 DE STAAT DER NEDERLANDEN, MINISTERIE VAN   VOLKSGEZONDHEID, WELZIJN EN SPORT.\n",
                "-- LICENSED UNDER THE EUROPEAN UNION PUBLIC LICENCE V. 1.2 - SEE HTTPS://GITHUB.COM/MINVWS/NL-CONTACT-TRACING-APP-COORDINATIONFOR MORE INFORMATION.\n",
                "\n",
                "IF NOT EXISTS(SELECT * FROM sys.indexes WHERE NAME='IX_DEST_ELDERLY_AT_HOME_VR_DLI_DOR')\n",
                "      CREATE NONCLUSTERED INDEX IX_DEST_ELDERLY_AT_HOME_VR_DLI_DOR\n",
                "      ON VWSDEST.ELDERLY_AT_HOME_VR (DATE_LAST_INSERTED, DATE_OF_REPORT)\n",
                "      INCLUDE(DATE_OF_REPORT_UNIX, VRCODE, INFECTED_ELDERLY_AT_HOME_DAILY, INFECTED_ELDERLY_AT_HOME_DAILY_PER_100K, DECEASED_ELDERLY_AT_HOME_DAILY);\n",
                "GO\n"
            ]
        },
        {
            "cell_type": "code",
            "execution_count": null,
            "metadata": {},
            "outputs": [],
            "source": [
                "\n",
                "-- COPYRIGHT (C) 2020 DE STAAT DER NEDERLANDEN, MINISTERIE VAN   VOLKSGEZONDHEID, WELZIJN EN SPORT.\n",
                "-- LICENSED UNDER THE EUROPEAN UNION PUBLIC LICENCE V. 1.2 - SEE HTTPS://GITHUB.COM/MINVWS/NL-CONTACT-TRACING-APP-COORDINATIONFOR MORE INFORMATION.\n",
                "\n",
                "IF NOT EXISTS(SELECT * FROM sys.indexes WHERE NAME='IX_DEST_CBS_DECEASED_PER_WEEK_WS')\n",
                "      CREATE NONCLUSTERED INDEX IX_DEST_CBS_DECEASED_PER_WEEK_WS\n",
                "      ON VWSDEST.CBS_DECEASED_PER_WEEK (WEEK_START)\n",
                "      INCLUDE(WEEK_START_UNIX, WEEK_END_UNIX, DECEASED_ACTUAL, DECEASED_FORECAST, DECEASED_FORECAST_HIGH, DECEASED_FORECAST_LOW, DATE_LAST_INSERTED);\n",
                "GO\n"
            ]
        },
        {
            "cell_type": "code",
            "execution_count": null,
            "metadata": {},
            "outputs": [],
            "source": [
                "\n",
                "-- COPYRIGHT (C) 2020 DE STAAT DER NEDERLANDEN, MINISTERIE VAN   VOLKSGEZONDHEID, WELZIJN EN SPORT.\n",
                "-- LICENSED UNDER THE EUROPEAN UNION PUBLIC LICENCE V. 1.2 - SEE HTTPS://GITHUB.COM/MINVWS/NL-CONTACT-TRACING-APP-COORDINATIONFOR MORE INFORMATION.\n",
                "\n",
                "IF NOT EXISTS(SELECT * FROM sys.indexes WHERE NAME='IX_DEST_CBS_DECEASED_PER_WEEK_DLI_WS')\n",
                "      CREATE NONCLUSTERED INDEX IX_DEST_CBS_DECEASED_PER_WEEK_DLI_WS\n",
                "      ON VWSDEST.CBS_DECEASED_PER_WEEK (DATE_LAST_INSERTED, WEEK_START)\n",
                "      INCLUDE(WEEK_START_UNIX, WEEK_END_UNIX, DECEASED_ACTUAL, DECEASED_FORECAST, DECEASED_FORECAST_HIGH, DECEASED_FORECAST_LOW);\n",
                "GO\n"
            ]
        },
        {
            "cell_type": "code",
            "execution_count": null,
            "metadata": {},
            "outputs": [],
            "source": [
                "\n",
                "-- COPYRIGHT (C) 2020 DE STAAT DER NEDERLANDEN, MINISTERIE VAN   VOLKSGEZONDHEID, WELZIJN EN SPORT.\n",
                "-- LICENSED UNDER THE EUROPEAN UNION PUBLIC LICENCE V. 1.2 - SEE HTTPS://GITHUB.COM/MINVWS/NL-CONTACT-TRACING-APP-COORDINATIONFOR MORE INFORMATION.\n",
                "\n",
                "IF NOT EXISTS(SELECT * FROM sys.indexes WHERE NAME='IX_DEST_HOSPITAL_BED_OCCUPANCY_DOR')\n",
                "      CREATE NONCLUSTERED INDEX IX_DEST_HOSPITAL_BED_OCCUPANCY_DOR\n",
                "      ON VWSDEST.HOSPITAL_BED_OCCUPANCY (DATE_OF_REPORT)\n",
                "      INCLUDE(DATE_OF_REPORT_UNIX, NON_IC_BEDS_OCCUPIED_COVID, DATE_LAST_INSERTED);\n",
                "GO\n"
            ]
        },
        {
            "cell_type": "code",
            "execution_count": null,
            "metadata": {},
            "outputs": [],
            "source": [
                "\n",
                "-- COPYRIGHT (C) 2020 DE STAAT DER NEDERLANDEN, MINISTERIE VAN   VOLKSGEZONDHEID, WELZIJN EN SPORT.\n",
                "-- LICENSED UNDER THE EUROPEAN UNION PUBLIC LICENCE V. 1.2 - SEE HTTPS://GITHUB.COM/MINVWS/NL-CONTACT-TRACING-APP-COORDINATIONFOR MORE INFORMATION.\n",
                "\n",
                "IF NOT EXISTS(SELECT * FROM sys.indexes WHERE NAME='IX_DEST_HOSPITAL_BED_OCCUPANCY_DOR_DLI')\n",
                "      CREATE NONCLUSTERED INDEX IX_DEST_HOSPITAL_BED_OCCUPANCY_DOR_DLI\n",
                "      ON VWSDEST.HOSPITAL_BED_OCCUPANCY (DATE_OF_REPORT)\n",
                "      INCLUDE(DATE_LAST_INSERTED);\n",
                "GO\n"
            ]
        },
        {
            "cell_type": "code",
            "execution_count": null,
            "metadata": {},
            "outputs": [],
            "source": [
                "\n",
                "-- COPYRIGHT (C) 2020 DE STAAT DER NEDERLANDEN, MINISTERIE VAN   VOLKSGEZONDHEID, WELZIJN EN SPORT.\n",
                "-- LICENSED UNDER THE EUROPEAN UNION PUBLIC LICENCE V. 1.2 - SEE HTTPS://GITHUB.COM/MINVWS/NL-CONTACT-TRACING-APP-COORDINATIONFOR MORE INFORMATION.\n",
                "\n",
                "IF NOT EXISTS(SELECT * FROM sys.indexes WHERE NAME='IX_DEST_INFECTIOUS_PEOPLE_DOR')\n",
                "      CREATE NONCLUSTERED INDEX IX_DEST_INFECTIOUS_PEOPLE_DOR\n",
                "      ON VWSDEST.INFECTIOUS_PEOPLE (DATE_OF_REPORT)\n",
                "      INCLUDE(DATE_OF_REPORT_UNIX, INFECTIOUS_AVG_NORMALIZED, DATE_LAST_INSERTED);\n",
                "GO\n"
            ]
        },
        {
            "cell_type": "code",
            "execution_count": null,
            "metadata": {},
            "outputs": [],
            "source": [
                "\n",
                "-- COPYRIGHT (C) 2020 DE STAAT DER NEDERLANDEN, MINISTERIE VAN   VOLKSGEZONDHEID, WELZIJN EN SPORT.\n",
                "-- LICENSED UNDER THE EUROPEAN UNION PUBLIC LICENCE V. 1.2 - SEE HTTPS://GITHUB.COM/MINVWS/NL-CONTACT-TRACING-APP-COORDINATIONFOR MORE INFORMATION.\n",
                "\n",
                "IF NOT EXISTS(SELECT * FROM sys.indexes WHERE NAME='IX_DEST_INTENSIVE_CARE_ADMISSIONS_DLI_DOR')\n",
                "      CREATE NONCLUSTERED INDEX IX_DEST_INTENSIVE_CARE_ADMISSIONS_DLI_DOR\n",
                "      ON VWSDEST.INTENSIVE_CARE_ADMISSIONS (DATE_LAST_INSERTED, DATE_OF_REPORT)\n",
                "      INCLUDE(DATE_OF_REPORT_UNIX, MOVING_AVERAGE_IC);\n",
                "GO\n"
            ]
        },
        {
            "cell_type": "code",
            "execution_count": null,
            "metadata": {},
            "outputs": [],
            "source": [
                "\n",
                "-- COPYRIGHT (C) 2020 DE STAAT DER NEDERLANDEN, MINISTERIE VAN   VOLKSGEZONDHEID, WELZIJN EN SPORT.\n",
                "-- LICENSED UNDER THE EUROPEAN UNION PUBLIC LICENCE V. 1.2 - SEE HTTPS://GITHUB.COM/MINVWS/NL-CONTACT-TRACING-APP-COORDINATIONFOR MORE INFORMATION.\n",
                "\n",
                "IF NOT EXISTS(SELECT * FROM sys.indexes WHERE NAME='IX_DEST_HOSPITAL_BED_OCCUPANCY_DOR_2')\n",
                "      CREATE NONCLUSTERED INDEX IX_DEST_HOSPITAL_BED_OCCUPANCY_DOR_2\n",
                "      ON VWSDEST.HOSPITAL_BED_OCCUPANCY (DATE_OF_REPORT)\n",
                "      INCLUDE(DATE_OF_REPORT_UNIX, IC_BEDS_OCCUPIED_COVID, DATE_LAST_INSERTED);\n",
                "GO\n"
            ]
        },
        {
            "cell_type": "code",
            "execution_count": null,
            "metadata": {},
            "outputs": [],
            "source": [
                "\n",
                "-- COPYRIGHT (C) 2020 DE STAAT DER NEDERLANDEN, MINISTERIE VAN   VOLKSGEZONDHEID, WELZIJN EN SPORT.\n",
                "-- LICENSED UNDER THE EUROPEAN UNION PUBLIC LICENCE V. 1.2 - SEE HTTPS://GITHUB.COM/MINVWS/NL-CONTACT-TRACING-APP-COORDINATIONFOR MORE INFORMATION.\n",
                "\n",
                "IF NOT EXISTS(SELECT * FROM sys.indexes WHERE NAME='IX_DEST_DISABILITY_VR_DLI_DOR')\n",
                "      CREATE NONCLUSTERED INDEX IX_DEST_DISABILITY_VR_DLI_DOR\n",
                "      ON VWSDEST.DISABILITY_VR (DATE_LAST_INSERTED, DATE_OF_REPORT)\n",
                "      INCLUDE(DATE_OF_REPORT_UNIX, VRCODE, INFECTED_DISABILITY_DAILY, DECEASED_DISABILITY_DAILY, TOTAL_NEW_INFECTED_LOCATIONS, TOTAL_INFECTED_LOCATIONS, PERCENTAGE_INFECTED_LOCATIONS);\n",
                "GO\n"
            ]
        },
        {
            "cell_type": "code",
            "execution_count": null,
            "metadata": {},
            "outputs": [],
            "source": [
                "\n",
                "-- COPYRIGHT (C) 2020 DE STAAT DER NEDERLANDEN, MINISTERIE VAN   VOLKSGEZONDHEID, WELZIJN EN SPORT.\n",
                "-- LICENSED UNDER THE EUROPEAN UNION PUBLIC LICENCE V. 1.2 - SEE HTTPS://GITHUB.COM/MINVWS/NL-CONTACT-TRACING-APP-COORDINATIONFOR MORE INFORMATION.\n",
                "\n",
                "IF NOT EXISTS(SELECT * FROM sys.indexes WHERE NAME='IX_DEST_INFECTIOUS_PEOPLE_DLI_ALL')\n",
                "      CREATE NONCLUSTERED INDEX IX_DEST_INFECTIOUS_PEOPLE_DLI_ALL\n",
                "      ON VWSDEST.INFECTIOUS_PEOPLE (DATE_LAST_INSERTED)\n",
                "      INCLUDE(DATE_OF_REPORT_UNIX, INFECTIOUS_LOW_NORMALIZED, INFECTIOUS_AVG_NORMALIZED, INFECTIOUS_HIGH_NORMALIZED);\n",
                "GO\n"
            ]
        },
        {
            "cell_type": "code",
            "execution_count": null,
            "metadata": {},
            "outputs": [],
            "source": [
                "\n",
                "-- COPYRIGHT (C) 2020 DE STAAT DER NEDERLANDEN, MINISTERIE VAN   VOLKSGEZONDHEID, WELZIJN EN SPORT.\n",
                "-- LICENSED UNDER THE EUROPEAN UNION PUBLIC LICENCE V. 1.2 - SEE HTTPS://GITHUB.COM/MINVWS/NL-CONTACT-TRACING-APP-COORDINATIONFOR MORE INFORMATION.\n",
                "\n",
                "IF NOT EXISTS(SELECT * FROM sys.indexes WHERE NAME='IX_STATIC_SAFETY_REGIONS_PER_MUNICIPAL_DLI')\n",
                "      CREATE NONCLUSTERED INDEX IX_STATIC_SAFETY_REGIONS_PER_MUNICIPAL_DLI\n",
                "      ON VWSSTATIC.SAFETY_REGIONS_PER_MUNICIPAL (DATE_LAST_INSERTED)\n",
                "      INCLUDE(GMNAAM, VRCODE);\n",
                "GO\n"
            ]
        },
        {
            "cell_type": "code",
            "execution_count": null,
            "metadata": {},
            "outputs": [],
            "source": [
                "\n",
                "-- COPYRIGHT (C) 2020 DE STAAT DER NEDERLANDEN, MINISTERIE VAN   VOLKSGEZONDHEID, WELZIJN EN SPORT.\n",
                "-- LICENSED UNDER THE EUROPEAN UNION PUBLIC LICENCE V. 1.2 - SEE HTTPS://GITHUB.COM/MINVWS/NL-CONTACT-TRACING-APP-COORDINATIONFOR MORE INFORMATION.\n",
                "\n",
                "IF NOT EXISTS(SELECT * FROM sys.indexes WHERE NAME='IX_DEST_NURSING_HOMES_TOTALS_DOR')\n",
                "      CREATE NONCLUSTERED INDEX IX_DEST_NURSING_HOMES_TOTALS_DOR\n",
                "      ON VWSDEST.NURSING_HOMES_TOTALS (DATE_OF_REPORT)\n",
                "      INCLUDE(DATE_OF_REPORT_UNIX, INFECTED_NURSERY_DAILY, DECEASED_NURSERY_DAILY, TOTAL_NEW_REPORTED_LOCATIONS, TOTAL_REPORTED_LOCATIONS, DATE_LAST_INSERTED);\n",
                "GO\n"
            ]
        },
        {
            "cell_type": "code",
            "execution_count": null,
            "metadata": {},
            "outputs": [],
            "source": [
                "\n",
                "-- COPYRIGHT (C) 2020 DE STAAT DER NEDERLANDEN, MINISTERIE VAN   VOLKSGEZONDHEID, WELZIJN EN SPORT.\n",
                "-- LICENSED UNDER THE EUROPEAN UNION PUBLIC LICENCE V. 1.2 - SEE HTTPS://GITHUB.COM/MINVWS/NL-CONTACT-TRACING-APP-COORDINATIONFOR MORE INFORMATION.\n",
                "\n",
                "IF NOT EXISTS(SELECT * FROM sys.indexes WHERE NAME='IX_DEST_NURSING_HOMES_TOTALS_DLI_DOR')\n",
                "      CREATE NONCLUSTERED INDEX IX_DEST_NURSING_HOMES_TOTALS_DLI_DOR\n",
                "      ON VWSDEST.NURSING_HOMES_TOTALS (DATE_LAST_INSERTED, DATE_OF_REPORT)\n",
                "      INCLUDE(DATE_OF_REPORT_UNIX, INFECTED_NURSERY_DAILY, DECEASED_NURSERY_DAILY, TOTAL_NEW_REPORTED_LOCATIONS, TOTAL_REPORTED_LOCATIONS);\n",
                "GO\n"
            ]
        },
        {
            "cell_type": "code",
            "execution_count": null,
            "metadata": {},
            "outputs": [],
            "source": [
                "\n",
                "-- COPYRIGHT (C) 2020 DE STAAT DER NEDERLANDEN, MINISTERIE VAN   VOLKSGEZONDHEID, WELZIJN EN SPORT.\n",
                "-- LICENSED UNDER THE EUROPEAN UNION PUBLIC LICENCE V. 1.2 - SEE HTTPS://GITHUB.COM/MINVWS/NL-CONTACT-TRACING-APP-COORDINATIONFOR MORE INFORMATION.\n",
                "\n",
                "IF NOT EXISTS(SELECT * FROM sys.indexes WHERE NAME='IX_DEST_RESTRICTIONS_PER_REGION_DLI_ALL')\n",
                "      CREATE NONCLUSTERED INDEX IX_DEST_RESTRICTIONS_PER_REGION_DLI_ALL\n",
                "      ON VWSDEST.RESTRICTIONS_PER_REGION (DATE_LAST_INSERTED)\n",
                "      INCLUDE(VRCODE, RESTRICTION_ID, TARGET_REGION, ESCALATION_LEVEL, CATEGORY_ID, RESTRICTION_ORDER, VALID_FROM);\n",
                "GO\n"
            ]
        },
        {
            "cell_type": "code",
            "execution_count": null,
            "metadata": {},
            "outputs": [],
            "source": [
                "\n",
                "-- COPYRIGHT (C) 2020 DE STAAT DER NEDERLANDEN, MINISTERIE VAN   VOLKSGEZONDHEID, WELZIJN EN SPORT.\n",
                "-- LICENSED UNDER THE EUROPEAN UNION PUBLIC LICENCE V. 1.2 - SEE HTTPS://GITHUB.COM/MINVWS/NL-CONTACT-TRACING-APP-COORDINATIONFOR MORE INFORMATION.\n",
                "\n",
                "IF NOT EXISTS(SELECT * FROM sys.indexes WHERE NAME='IX_DEST_NICE_HOSPITAL_VR_DLI')\n",
                "      CREATE NONCLUSTERED INDEX IX_DEST_NICE_HOSPITAL_VR_DLI\n",
                "      ON VWSDEST.NICE_HOSPITAL_VR (DATE_LAST_INSERTED)\n",
                "      INCLUDE(DATE_OF_STATISTICS, VR_CODE, HOSPITALIZED, HOSPITALIZED_3D_AVG, HOSPITALIZED_CUMULATIVE);\n",
                "GO\n"
            ]
        },
        {
            "cell_type": "code",
            "execution_count": null,
            "metadata": {},
            "outputs": [],
            "source": [
                "\n",
                "-- COPYRIGHT (C) 2020 DE STAAT DER NEDERLANDEN, MINISTERIE VAN   VOLKSGEZONDHEID, WELZIJN EN SPORT.\n",
                "-- LICENSED UNDER THE EUROPEAN UNION PUBLIC LICENCE V. 1.2 - SEE HTTPS://GITHUB.COM/MINVWS/NL-CONTACT-TRACING-APP-COORDINATIONFOR MORE INFORMATION.\n",
                "\n",
                "IF NOT EXISTS(SELECT * FROM sys.indexes WHERE NAME='IX_DEST_SEWER_BASE')\n",
                "      CREATE NONCLUSTERED INDEX IX_DEST_SEWER_BASE\n",
                "      ON VWSDEST.SEWER_BASE (DATE_LAST_INSERTED, COUNT_DAILY_MEASUREMENT, RWZI_AWZI_CODE, WEEK_UNIX)\n",
                "      INCLUDE(RNA_PER_ML, RNA_FLOW_PER_100000);\n",
                "GO\n"
            ]
        },
        {
            "cell_type": "code",
            "execution_count": null,
            "metadata": {},
            "outputs": [],
            "source": [
                "\n",
                "-- COPYRIGHT (C) 2020 DE STAAT DER NEDERLANDEN, MINISTERIE VAN   VOLKSGEZONDHEID, WELZIJN EN SPORT.\n",
                "-- LICENSED UNDER THE EUROPEAN UNION PUBLIC LICENCE V. 1.2 - SEE HTTPS://GITHUB.COM/MINVWS/NL-CONTACT-TRACING-APP-COORDINATIONFOR MORE INFORMATION.\n",
                "\n",
                "IF NOT EXISTS(SELECT * FROM sys.indexes WHERE NAME='IX_SEWER_MEASUREMENTS_PER_RWZI_MINIMAL')\n",
                "      CREATE NONCLUSTERED INDEX IX_SEWER_MEASUREMENTS_PER_RWZI_MINIMAL\n",
                "      ON VWSDEST.SEWER_MEASUREMENTS_PER_RWZI_MINIMAL (DATE_LAST_INSERTED, GMCODE, RWZI_AWZI_NAME);      \n",
                "GO\n"
            ]
        },
        {
            "cell_type": "code",
            "execution_count": null,
            "metadata": {},
            "outputs": [],
            "source": [
                "\n",
                "-- COPYRIGHT (C) 2020 DE STAAT DER NEDERLANDEN, MINISTERIE VAN   VOLKSGEZONDHEID, WELZIJN EN SPORT.\n",
                "-- LICENSED UNDER THE EUROPEAN UNION PUBLIC LICENCE V. 1.2 - SEE HTTPS://GITHUB.COM/MINVWS/NL-CONTACT-TRACING-APP-COORDINATIONFOR MORE INFORMATION.\n",
                "\n",
                "IF NOT EXISTS(SELECT * FROM sys.indexes WHERE NAME='IX_POSITIVE_TESTED_PEOPLE_INFECTED_DAILY_INCREASE_BASE_2')\n",
                "      CREATE NONCLUSTERED INDEX [IX_POSITIVE_TESTED_PEOPLE_INFECTED_DAILY_INCREASE_BASE_2] ON [VWSDEST].[POSITIVE_TESTED_PEOPLE_INFECTED_DAILY_INCREASE_BASE]\n",
                "      (\n",
                "      [GMCODE],\n",
                "      [DATE_OF_REPORT]\n",
                "      )\n",
                "      INCLUDE([DATE_LAST_INSERTED])\n",
                "GO\n"
            ]
        },
        {
            "cell_type": "code",
            "execution_count": null,
            "metadata": {},
            "outputs": [],
            "source": [
                "\n",
                "-- COPYRIGHT (C) 2020 DE STAAT DER NEDERLANDEN, MINISTERIE VAN   VOLKSGEZONDHEID, WELZIJN EN SPORT.\n",
                "-- LICENSED UNDER THE EUROPEAN UNION PUBLIC LICENCE V. 1.2 - SEE HTTPS://GITHUB.COM/MINVWS/NL-CONTACT-TRACING-APP-COORDINATIONFOR MORE INFORMATION.\n",
                "\n",
                "IF NOT EXISTS(SELECT * FROM sys.indexes WHERE NAME='IX_POSITIVE_TESTED_PEOPLE_INFECTED_DAILY_INCREASE_BASE_3')\n",
                "      CREATE NONCLUSTERED INDEX [IX_POSITIVE_TESTED_PEOPLE_INFECTED_DAILY_INCREASE_BASE_3] ON [VWSDEST].[POSITIVE_TESTED_PEOPLE_INFECTED_DAILY_INCREASE_BASE]\n",
                "      (\n",
                "      [GMCODE],\n",
                "      [DATE_LAST_INSERTED],\n",
                "      [DATE_OF_REPORT]\n",
                "      )\n",
                "GO"
            ]
        },
        {
            "cell_type": "code",
            "execution_count": null,
            "metadata": {},
            "outputs": [],
            "source": [
                "\n",
                "-- COPYRIGHT (C) 2020 DE STAAT DER NEDERLANDEN, MINISTERIE VAN   VOLKSGEZONDHEID, WELZIJN EN SPORT.\n",
                "-- LICENSED UNDER THE EUROPEAN UNION PUBLIC LICENCE V. 1.2 - SEE HTTPS://GITHUB.COM/MINVWS/NL-CONTACT-TRACING-APP-COORDINATIONFOR MORE INFORMATION.\n",
                "\n",
                "IF NOT EXISTS(SELECT * FROM sys.indexes WHERE NAME='IX_POSITIVE_TESTED_PEOPLE_INFECTED_DAILY_INCREASE_BASE_4')\n",
                "      CREATE NONCLUSTERED INDEX [IX_POSITIVE_TESTED_PEOPLE_INFECTED_DAILY_INCREASE_BASE_4]\n",
                "      ON [VWSDEST].[POSITIVE_TESTED_PEOPLE_INFECTED_DAILY_INCREASE_BASE]\n",
                "      (\n",
                "      [DATE_LAST_INSERTED] ASC\n",
                "      )\n",
                "      INCLUDE (\n",
                "      [DATE_OF_REPORT]\n",
                "      ,[NEW_DATE_OF_REPORT_UNIX]\n",
                "      ,[GMCODE]\n",
                "      ,[OLD_DATE_OF_REPORT_UNIX]\n",
                "      ,[OLD_VALUE]\n",
                "      ,[DIFFERENCE]\n",
                "      )\n",
                "GO"
            ]
        },
        {
            "cell_type": "code",
            "execution_count": null,
            "metadata": {},
            "outputs": [],
            "source": [
                "\n",
                "-- COPYRIGHT (C) 2020 DE STAAT DER NEDERLANDEN, MINISTERIE VAN   VOLKSGEZONDHEID, WELZIJN EN SPORT.\n",
                "-- LICENSED UNDER THE EUROPEAN UNION PUBLIC LICENCE V. 1.2 - SEE HTTPS://GITHUB.COM/MINVWS/NL-CONTACT-TRACING-APP-COORDINATIONFOR MORE INFORMATION.\n",
                "\n",
                "IF NOT EXISTS(SELECT * FROM sys.indexes WHERE NAME='IX_POSITIVE_TESTED_PEOPLE_INFECTED_DAILY_INCREASE_BASE_5')\n",
                "      CREATE NONCLUSTERED INDEX [IX_POSITIVE_TESTED_PEOPLE_INFECTED_DAILY_INCREASE_BASE_5]\n",
                "      ON [VWSDEST].[POSITIVE_TESTED_PEOPLE_INFECTED_DAILY_INCREASE_BASE]\n",
                "      (\n",
                "      [DATE_OF_REPORT] ASC\n",
                "      )\n",
                "\n",
                "      INCLUDE ([GMCODE], [DATE_LAST_INSERTED])\n",
                "GO"
            ]
        },
        {
            "cell_type": "code",
            "execution_count": null,
            "metadata": {},
            "outputs": [],
            "source": [
                "\n",
                "-- COPYRIGHT (C) 2020 DE STAAT DER NEDERLANDEN, MINISTERIE VAN   VOLKSGEZONDHEID, WELZIJN EN SPORT.\n",
                "-- LICENSED UNDER THE EUROPEAN UNION PUBLIC LICENCE V. 1.2 - SEE HTTPS://GITHUB.COM/MINVWS/NL-CONTACT-TRACING-APP-COORDINATIONFOR MORE INFORMATION.\n",
                "\n",
                "IF NOT EXISTS(SELECT * FROM sys.indexes WHERE NAME='IX_POSITIVE_TESTED_PEOPLE_INFECTED_DAILY_INCREASE_BASE_6')\n",
                "      CREATE NONCLUSTERED INDEX [IX_POSITIVE_TESTED_PEOPLE_INFECTED_DAILY_INCREASE_BASE_6]\n",
                "      ON [VWSDEST].[POSITIVE_TESTED_PEOPLE_INFECTED_DAILY_INCREASE_BASE]\n",
                "      (\n",
                "      [GMCODE] ASC\n",
                "      )\n",
                "\n",
                "      INCLUDE (\n",
                "       [DATE_OF_REPORT]\n",
                "      ,[NEW_DATE_OF_REPORT_UNIX]\n",
                "      ,[OLD_DATE_OF_REPORT_UNIX]\n",
                "      ,[OLD_VALUE]\n",
                "      ,[DIFFERENCE]\n",
                "      ,[DATE_LAST_INSERTED]\n",
                "      )\n",
                "GO"
            ]
        },
        {
            "cell_type": "code",
            "execution_count": null,
            "metadata": {},
            "outputs": [],
            "source": [
                "\n",
                "-- COPYRIGHT (C) 2020 DE STAAT DER NEDERLANDEN, MINISTERIE VAN   VOLKSGEZONDHEID, WELZIJN EN SPORT.\n",
                "-- LICENSED UNDER THE EUROPEAN UNION PUBLIC LICENCE V. 1.2 - SEE HTTPS://GITHUB.COM/MINVWS/NL-CONTACT-TRACING-APP-COORDINATIONFOR MORE INFORMATION.\n",
                "\n",
                "IF NOT EXISTS(SELECT * FROM sys.indexes WHERE NAME='IX_RIVM_COVID_19_CASE_NATIONAL_STAGE_CI')\n",
                "      CREATE CLUSTERED INDEX [IX_RIVM_COVID_19_CASE_NATIONAL_STAGE_CI] ON [VWSSTAGE].[RIVM_COVID_19_CASE_NATIONAL]\n",
                "      (\n",
                "            [DATE_LAST_INSERTED] ASC\n",
                "      )\n",
                "GO"
            ]
        },
        {
            "cell_type": "code",
            "execution_count": null,
            "metadata": {},
            "outputs": [],
            "source": [
                "\n",
                "-- COPYRIGHT (C) 2020 DE STAAT DER NEDERLANDEN, MINISTERIE VAN   VOLKSGEZONDHEID, WELZIJN EN SPORT.\n",
                "-- LICENSED UNDER THE EUROPEAN UNION PUBLIC LICENCE V. 1.2 - SEE HTTPS://GITHUB.COM/MINVWS/NL-CONTACT-TRACING-APP-COORDINATIONFOR MORE INFORMATION.\n",
                "\n",
                "IF NOT EXISTS(SELECT * FROM sys.indexes WHERE NAME='IX_RIVM_COVID_19_CASE_NATIONAL_CI')\n",
                "      CREATE CLUSTERED INDEX [IX_RIVM_COVID_19_CASE_NATIONAL_CI] ON [VWSINTER].[RIVM_COVID_19_CASE_NATIONAL]\n",
                "      (\n",
                "            [DATE_LAST_INSERTED] ASC\n",
                "      )\n",
                "GO"
            ]
        }
    ],
    "metadata": {
        "kernelspec": {
            "display_name": "SQL",
            "language": "sql",
            "name": "SQL"
        },
        "language_info": {
            "name": "sql",
            "version": ""
        }
    },
    "nbformat": 4,
    "nbformat_minor": 2
}
