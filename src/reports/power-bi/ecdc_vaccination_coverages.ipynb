{
    "cells": [
        {
            "cell_type": "markdown",
            "metadata": {
                "azdata_cell_guid": "5cdc0d05-c1b4-453a-a8a4-4cfc9a1015ad"
            },
            "source": [
                "# **INTRODUCTIONS**\n",
                "\n",
                "---\n",
                "\n",
                "The source code is separated into multiple sections:\n",
                "\n",
                "1. **[Tables](#tables)**\n",
                "2. **[Stored Procedures](#stored-procedures)**\n",
                "3. **[Datatino Configurations](#datatino-configurations)**"
            ]
        },
        {
            "cell_type": "markdown",
            "metadata": {},
            "source": [
                "# **DEPENDENCIES**\n",
                "\n",
                "---\n",
                "\n",
                "```json\n",
                "{\n",
                "    \"depends-on\": [\n",
                "        \"src/utils/conversions.ipynb\",\n",
                "        \"src/utils/schemas.ipynb\",\n",
                "        \"src/utils/protos.ipynb\"\n",
                "    ]\n",
                "}\n",
                "```"
            ]
        },
        {
            "cell_type": "markdown",
            "metadata": {
                "azdata_cell_guid": "ce43cf11-e280-4187-a3ba-76e9e6a3f3e1"
            },
            "source": [
                "# **TABLES**\n",
                "---"
            ]
        },
        {
            "cell_type": "markdown",
            "metadata": {
                "azdata_cell_guid": "e63ed1c7-3b48-4191-b40b-0844ac35daff"
            },
            "source": [
                "### STAGINGS"
            ]
        },
        {
            "cell_type": "code",
            "execution_count": null,
            "metadata": {
                "azdata_cell_guid": "b3f6a728-c0e6-4f6c-855c-a92cbe1853a4",
                "dotnet_interactive": {
                    "language": "sql"
                },
                "tags": [
                    "hide_input"
                ]
            },
            "outputs": [],
            "source": [
                "-- COPYRIGHT (C) 2020 DE STAAT DER NEDERLANDEN, MINISTERIE VAN VOLKSGEZONDHEID, WELZIJN EN SPORT.\n",
                "-- LICENSED UNDER THE EUROPEAN UNION PUBLIC LICENCE V. 1.2 - SEE HTTPS://GITHUB.COM/MINVWS/NL-CONTACT-TRACING-APP-COORDINATION FOR MORE INFORMATION.\n",
                "\n",
                "SET ANSI_NULLS ON\n",
                "GO\n",
                "\n",
                "SET QUOTED_IDENTIFIER ON\n",
                "GO\n",
                "\n",
                "-- 1) CREATE STAGE TABLE(S).....\n",
                "DROP TABLE IF EXISTS [VWSSTAGE].[ECDC_VACCINATION_COVERAGES]\n",
                "GO\n",
                "\n",
                "CREATE TABLE [VWSSTAGE].[ECDC_VACCINATION_COVERAGES] (\n",
                "\t[ID] [INT] PRIMARY KEY IDENTITY(1,1),\n",
                "\t[DATE_LAST_INSERTED] [DATETIME] DEFAULT GETDATE(),\n",
                "\t[YEAR_WEEK_ISO] [VARCHAR](100) NULL,\n",
                "\t[REPORTING_COUNTRY] [VARCHAR](100) NULL,\n",
                "\t[DENOMINATOR] [VARCHAR](100) NULL,\n",
                "\t[NUMBER_DOSES_RECEIVED] [VARCHAR](100) NULL,\n",
                "\t[NUMBER_DOSES_EXPORTED] [VARCHAR](100) NULL,\n",
                "\t[FIRST_DOSE] [VARCHAR](100) NULL,\n",
                "\t[FIRST_DOSE_REFUSED] [VARCHAR](100) NULL,\n",
                "\t[SECOND_DOSE] [VARCHAR](100) NULL,\n",
                "\t[DOSE_ADDITIONAL1] [VARCHAR](100) NULL,\n",
                "\t[UNKNOWN_DOSE] [VARCHAR](100) NULL,\n",
                "\t[REGION] [VARCHAR](100) NULL,\n",
                "\t[TARGET_GROUP] [VARCHAR](100) NULL,\n",
                "\t[VACCINE] [VARCHAR](100) NULL,\n",
                "\t[POPULATION] [VARCHAR](100) NULL\n",
                ");\n",
                "GO"
            ]
        },
        {
            "cell_type": "markdown",
            "metadata": {
                "azdata_cell_guid": "0fbc9342-fa09-4175-9ff1-0121abd441c8"
            },
            "source": [
                "### INTERMEDIATES"
            ]
        },
        {
            "cell_type": "code",
            "execution_count": null,
            "metadata": {
                "azdata_cell_guid": "b78fe875-a8bf-44d7-84b7-252e58cd45be",
                "dotnet_interactive": {
                    "language": "sql"
                },
                "tags": [
                    "hide_input"
                ]
            },
            "outputs": [],
            "source": [
                "-- COPYRIGHT (C) 2020 DE STAAT DER NEDERLANDEN, MINISTERIE VAN VOLKSGEZONDHEID, WELZIJN EN SPORT.\n",
                "-- LICENSED UNDER THE EUROPEAN UNION PUBLIC LICENCE V. 1.2 - SEE HTTPS://GITHUB.COM/MINVWS/NL-CONTACT-TRACING-APP-COORDINATION FOR MORE INFORMATION.\n",
                "\n",
                "SET ANSI_NULLS ON\n",
                "GO\n",
                "\n",
                "SET QUOTED_IDENTIFIER ON\n",
                "GO\n",
                "\n",
                "-- 1) CREATE INTER TABLE(S).....\n",
                "DROP TABLE IF EXISTS [VWSINTER].[ECDC_VACCINATION_COVERAGES]\n",
                "GO\n",
                "\n",
                "CREATE TABLE [VWSINTER].[ECDC_VACCINATION_COVERAGES](\n",
                "\t[ID] [INT] PRIMARY KEY IDENTITY(1,1),\n",
                "\t[DATE_LAST_INSERTED] [DATETIME] DEFAULT GETDATE(),\n",
                "\t[YEAR_WEEK_ISO] [VARCHAR](100) NULL,\n",
                "\t[REPORTING_COUNTRY] [VARCHAR](100) NULL,\n",
                "\t[DENOMINATOR] [INT] NULL,\n",
                "\t[NUMBER_DOSES_RECEIVED] [INT] NULL,\n",
                "\t[NUMBER_DOSES_EXPORTED] [INT] NULL,\n",
                "\t[FIRST_DOSE] [INT] NULL,\n",
                "\t[FIRST_DOSE_REFUSED] [INT] NULL,\n",
                "\t[SECOND_DOSE] [INT] NULL,\n",
                "\t[DOSE_ADDITIONAL1] [INT] NULL,\n",
                "\t[UNKNOWN_DOSE] [INT] NULL,\n",
                "\t[REGION] [VARCHAR](100) NULL,\n",
                "\t[TARGET_GROUP] VARCHAR(100) NULL,\n",
                "\t[VACCINE] [VARCHAR](100) NULL,\n",
                "\t[POPULATION] [INT] NULL\n",
                ");\n",
                "GO"
            ]
        },
        {
            "cell_type": "markdown",
            "metadata": {
                "azdata_cell_guid": "16945e3c-4c7d-421c-92f9-04bc961e4b08"
            },
            "source": [
                "### REPORTS"
            ]
        },
        {
            "cell_type": "code",
            "execution_count": null,
            "metadata": {
                "azdata_cell_guid": "b5bddd83-3e5c-4916-8f69-3b65bc8aaace",
                "dotnet_interactive": {
                    "language": "sql"
                },
                "tags": [
                    "hide_input"
                ]
            },
            "outputs": [],
            "source": [
                "-- COPYRIGHT (C) 2020 DE STAAT DER NEDERLANDEN, MINISTERIE VAN VOLKSGEZONDHEID, WELZIJN EN SPORT.\n",
                "-- LICENSED UNDER THE EUROPEAN UNION PUBLIC LICENCE V. 1.2 - SEE HTTPS://GITHUB.COM/MINVWS/NL-CONTACT-TRACING-APP-COORDINATION FOR MORE INFORMATION.\n",
                "\n",
                "SET ANSI_NULLS ON\n",
                "GO\n",
                "\n",
                "SET QUOTED_IDENTIFIER ON\n",
                "GO\n",
                "\n",
                "-- 1) CREATE REPORT TABLE(S).....\n",
                "IF NOT EXISTS(SELECT * FROM SYS.TABLES WHERE [OBJECT_ID] = OBJECT_ID(N'[VWSREPORT].[ECDC_VACCINATION_COVERAGES]'))\n",
                "CREATE TABLE [VWSREPORT].[ECDC_VACCINATION_COVERAGES](\n",
                "\t[ID] [INT] PRIMARY KEY IDENTITY(1,1),\n",
                "\t[DATE_LAST_INSERTED] [DATETIME] DEFAULT GETDATE(),\n",
                "\t[REPORTING_COUNTRY] [VARCHAR](100) NULL,\n",
                "    [UPTAKE_ONE_VACCINE_DOSE] [DECIMAL](18, 1) NULL\n",
                ");\n",
                "GO\n",
                "\n",
                "IF NOT EXISTS (\n",
                "\tSELECT \n",
                "\t\t* \n",
                "\tFROM SYS.INDEXES \n",
                "\tWHERE [NAME]='NCIX_RC_UOVD_ECDC_VACCINATION_COVERAGES' \n",
                "\t\tAND [OBJECT_ID] = OBJECT_ID(N'[VWSREPORT].[ECDC_VACCINATION_COVERAGES]')\n",
                ")\n",
                "CREATE NONCLUSTERED INDEX [NCIX_RC_UOVD_ECDC_VACCINATION_COVERAGES]\n",
                "ON [VWSREPORT].[ECDC_VACCINATION_COVERAGES](\n",
                "    [REPORTING_COUNTRY],\n",
                "\t[UPTAKE_ONE_VACCINE_DOSE]\n",
                ");\n",
                "GO"
            ]
        },
        {
            "cell_type": "markdown",
            "metadata": {
                "azdata_cell_guid": "b883932e-c47b-4de6-9629-eca0ff8aeabb"
            },
            "source": [
                "# **VIEWS**\n",
                "---"
            ]
        },
        {
            "cell_type": "code",
            "execution_count": null,
            "metadata": {
                "azdata_cell_guid": "8afe1341-1b29-4d6f-b896-861d70ae3472",
                "tags": [
                    "hide_input"
                ]
            },
            "outputs": [],
            "source": [
                "-- COPYRIGHT (C) 2020 DE STAAT DER NEDERLANDEN, MINISTERIE VAN VOLKSGEZONDHEID, WELZIJN EN SPORT.\n",
                "-- LICENSED UNDER THE EUROPEAN UNION PUBLIC LICENCE V. 1.2 - SEE HTTPS://GITHUB.COM/MINVWS/NL-CONTACT-TRACING-APP-COORDINATION FOR MORE INFORMATION.\n",
                "\n",
                "CREATE OR ALTER VIEW [VWSREPORT].[V_PBI_ECDC_VACCINATION_COVERAGES] \n",
                "AS\n",
                "  SELECT\n",
                "    [REPORTING_COUNTRY],\n",
                "    [UPTAKE_ONE_VACCINE_DOSE]\n",
                "  FROM [VWSREPORT].[ECDC_VACCINATION_COVERAGES];\n",
                "GO"
            ]
        },
        {
            "cell_type": "markdown",
            "metadata": {
                "azdata_cell_guid": "991b613b-1793-4c88-a85a-229f4e6fa51e"
            },
            "source": [
                "# **STORE PROCEDURES**\n",
                "---"
            ]
        },
        {
            "cell_type": "markdown",
            "metadata": {
                "azdata_cell_guid": "157e2e17-d669-4d53-9b88-9bfce9675611"
            },
            "source": [
                "### STAGING &rarr; INTERMEDIATE MAPPING"
            ]
        },
        {
            "cell_type": "code",
            "execution_count": null,
            "metadata": {
                "azdata_cell_guid": "9e39a8d6-8f5a-45cb-a1d6-3405d256a5b5",
                "dotnet_interactive": {
                    "language": "sql"
                },
                "tags": [
                    "hide_input"
                ]
            },
            "outputs": [],
            "source": [
                "-- COPYRIGHT (C) 2020 DE STAAT DER NEDERLANDEN, MINISTERIE VAN VOLKSGEZONDHEID, WELZIJN EN SPORT.\n",
                "-- LICENSED UNDER THE EUROPEAN UNION PUBLIC LICENCE V. 1.2 - SEE HTTPS://GITHUB.COM/MINVWS/NL-CONTACT-TRACING-APP-COORDINATION FOR MORE INFORMATION.\n",
                "\n",
                "-- 1) CREATE STORE PROCEDURE(S) STAGE -> INTER.....\n",
                "CREATE OR ALTER PROCEDURE [DBO].[SP_ECDC_VACCINATION_COVERAGES_STAGE_TO_INTER]\n",
                "AS\n",
                "BEGIN\n",
                "    INSERT INTO [VWSINTER].[ECDC_VACCINATION_COVERAGES] (\n",
                "        [YEAR_WEEK_ISO],\n",
                "        [REPORTING_COUNTRY],\n",
                "        [DENOMINATOR],\n",
                "        [NUMBER_DOSES_RECEIVED],\n",
                "        [NUMBER_DOSES_EXPORTED],\n",
                "        [FIRST_DOSE],\n",
                "        [FIRST_DOSE_REFUSED],\n",
                "        [SECOND_DOSE],\n",
                "        [DOSE_ADDITIONAL1],\n",
                "        [UNKNOWN_DOSE],\n",
                "        [REGION],\n",
                "        [TARGET_GROUP],\n",
                "        [VACCINE],\n",
                "        [POPULATION]\n",
                "    )\n",
                "    SELECT\n",
                "        [YEAR_WEEK_ISO],\n",
                "        [REPORTING_COUNTRY],\n",
                "        CAST([DENOMINATOR] AS INT) AS [DENOMINATOR],\n",
                "        CAST([NUMBER_DOSES_RECEIVED] AS INT) AS [NUMBER_DOSES_RECEIVED],\n",
                "        CAST([NUMBER_DOSES_EXPORTED] AS INT) AS [NUMBER_DOSES_EXPORTED],\n",
                "        CAST([FIRST_DOSE] AS INT) AS [FIRST_DOSE],\n",
                "        CAST([FIRST_DOSE_REFUSED] AS INT) AS [FIRST_DOSE_REFUSED],\n",
                "        CAST([SECOND_DOSE] AS INT) AS [SECOND_DOSE],\n",
                "        CAST([DOSE_ADDITIONAL1] AS INT) AS [DOSE_ADDITIONAL1],\n",
                "        CAST([UNKNOWN_DOSE] AS INT) AS [UNKNOWN_DOSE],\n",
                "        [REGION],\n",
                "        [TARGET_GROUP],\n",
                "        [VACCINE],\n",
                "        CAST ([POPULATION] AS INT) AS [POPULATION]\n",
                "    FROM \n",
                "        [VWSSTAGE].[ECDC_VACCINATION_COVERAGES];\n",
                "\n",
                "    TRUNCATE TABLE [VWSSTAGE].[ECDC_VACCINATION_COVERAGES];\n",
                "END;\n",
                "GO"
            ]
        },
        {
            "cell_type": "markdown",
            "metadata": {
                "azdata_cell_guid": "4285b14f-17c1-4e48-ad9e-49365e008058"
            },
            "source": [
                "### INTERMEDIATE &rarr; REPORT MAPPING"
            ]
        },
        {
            "cell_type": "code",
            "execution_count": null,
            "metadata": {
                "azdata_cell_guid": "ef39c170-5229-4d50-8a83-fe1f3e71365a",
                "dotnet_interactive": {
                    "language": "sql"
                },
                "tags": [
                    "hide_input"
                ]
            },
            "outputs": [],
            "source": [
                "-- Copyright (c) 2020 De Staat der Nederlanden, Ministerie van Volksgezondheid, Welzijn en Sport.\n",
                "-- Licensed under the EUROPEAN UNION PUBLIC LICENCE v. 1.2 - see https://github.com/minvws/nl-contact-tracing-app-coordinationfor more information.\n",
                "\n",
                "-- 1) CREATE STORE PROCEDURE(S) INTER -> REPORT.....\n",
                "CREATE OR ALTER PROCEDURE [dbo].[SP_ECDC_VACCINATION_COVERAGES_INTER_TO_REPORT]\n",
                "AS\n",
                "BEGIN\n",
                "    WITH BASE_CTE AS\n",
                "    (\n",
                "        SELECT \n",
                "            [YEAR_WEEK_ISO],\n",
                "            [REPORTING_COUNTRY],\n",
                "            [DENOMINATOR],\n",
                "            [NUMBER_DOSES_RECEIVED],\n",
                "            [NUMBER_DOSES_EXPORTED],\n",
                "            [FIRST_DOSE],\n",
                "            [FIRST_DOSE_REFUSED],\n",
                "            [SECOND_DOSE],\n",
                "            [DOSE_ADDITIONAL1],\n",
                "            [UNKNOWN_DOSE],\n",
                "            [REGION],\n",
                "            [TARGET_GROUP],\n",
                "            [VACCINE],\n",
                "            [POPULATION]\n",
                "        FROM [VWSINTER].[ECDC_VACCINATION_COVERAGES]\n",
                "        WHERE UPPER([TARGET_GROUP]) IN ('ALL') \n",
                "            AND [REGION] = [REPORTING_COUNTRY]\n",
                "    ),\n",
                "    TOTAL_CTE AS (\n",
                "        SELECT \n",
                "            [REPORTING_COUNTRY],\n",
                "            [DENOMINATOR],\n",
                "            SUM([FIRST_DOSE]) AS [SUM_FIRST_DOSE]\n",
                "        FROM [BASE_CTE]\n",
                "        GROUP BY [REPORTING_COUNTRY], [DENOMINATOR]\n",
                "    )\n",
                "    INSERT INTO [VWSREPORT].[ECDC_VACCINATION_COVERAGES] (\n",
                "        [REPORTING_COUNTRY],\n",
                "        [UPTAKE_ONE_VACCINE_DOSE]\n",
                "    )\n",
                "    SELECT \n",
                "        [REPORTING_COUNTRY],\n",
                "        CAST((CAST([SUM_FIRST_DOSE] AS DECIMAL) / [DENOMINATOR]) * 100 AS decimal(18,1)) AS [UPTAKE_ONE_VACCINE_DOSE]\n",
                "    FROM TOTAL_CTE\n",
                "\n",
                "    TRUNCATE TABLE [VWSINTER].[ECDC_VACCINATION_COVERAGES];\n",
                "END"
            ]
        },
        {
            "cell_type": "markdown",
            "metadata": {
                "azdata_cell_guid": "9ecf89cb-f8c2-4453-90a7-cd43a8ad95fa"
            },
            "source": [
                "# **DATATINO CONFIGURATIONS**\n",
                "---"
            ]
        },
        {
            "cell_type": "markdown",
            "metadata": {
                "azdata_cell_guid": "6bb89854-ad60-462a-b01c-21043bcf8c39"
            },
            "source": [
                "### WORKFLOWS"
            ]
        },
        {
            "cell_type": "code",
            "execution_count": null,
            "metadata": {
                "azdata_cell_guid": "6d3bf3a9-286f-49d0-b60a-926a9b6eb8c3",
                "dotnet_interactive": {
                    "language": "sql"
                },
                "tags": [
                    "hide_input"
                ]
            },
            "outputs": [],
            "source": [
                "-- COPYRIGHT (C) 2020 DE STAAT DER NEDERLANDEN, MINISTERIE VAN   VOLKSGEZONDHEID, WELZIJN EN SPORT.\n",
                "-- LICENSED UNDER THE EUROPEAN UNION PUBLIC LICENCE V. 1.2 - SEE HTTPS://GITHUB.COM/MINVWS/NL-CONTACT-TRACING-APP-COORDINATIONFOR MORE INFORMATION.\n",
                "\n",
                "-- 1) UPSERT WORKFLOW(S).....\n",
                "DECLARE @workflow_name NVARCHAR(50) = 'ECDC_VACCINATION_COVERAGES',\n",
                "        @workflow_id INT,        \n",
                "        @workflow_description VARCHAR(256),\n",
                "        @is_active INT;\n",
                "\n",
                "-- 1.1) SET ENVIRONMENTAL VARIABLES.....\n",
                "SET @is_active = CASE LOWER('#{ Environment }#')\n",
                "    WHEN 'production' THEN 1\n",
                "    WHEN 'acceptance' THEN 1\n",
                "    ELSE 1\n",
                "END;\n",
                "\n",
                "SELECT TOP(1)\n",
                "    @workflow_id = workflows.[ID]\n",
                "FROM [DATATINO_ORCHESTRATOR_1].[WORKFLOWS] workflows\n",
                "INNER JOIN [DATATINO_ORCHESTRATOR_1].[V_WORKFLOWS] v_workflows ON v_workflows.[DATAFLOW_ID] = workflows.[DATAFLOW_ID] AND v_workflows.[ID] = workflows.[ID]\n",
                "WHERE v_workflows.[NAME] = @workflow_name;\n",
                "\n",
                "SET @workflow_description = CONCAT('WORKFLOW: ', @workflow_name);\n",
                "\n",
                "EXECUTE [DATATINO_ORCHESTRATOR_1].[UPSERT_WORKFLOW]\n",
                "    @id = @workflow_id, \n",
                "    @workflow_name = @workflow_name,\n",
                "    @description = @workflow_description,\n",
                "    @schedule = '0 */1 * * *', -- EVERY HOUR\n",
                "    @active = @is_active;\n",
                "\n",
                "-- 2) UPSERT SOURCE(S).....\n",
                "DECLARE @source NVARCHAR(256),\n",
                "        @source_id INT,\n",
                "        @source_name NVARCHAR(256),\n",
                "        @source_description NVARCHAR(256),\n",
                "        @target_name VARCHAR(256),\n",
                "        @location_type VARCHAR(50),\n",
                "        @security_profile VARCHAR(50);\n",
                "\n",
                "-- 2.1) SET ENVIRONMENTAL VARIABLES.....\n",
                "SET @source = CASE LOWER('#{ Environment }#')\n",
                "    WHEN 'production' THEN 'https://opendata.ecdc.europa.eu/covid19/vaccine_tracker/csv/data.csv'\n",
                "    WHEN 'acceptance' THEN 'https://opendata.ecdc.europa.eu/covid19/vaccine_tracker/csv/data.csv'\n",
                "    ELSE 'https://opendata.ecdc.europa.eu/covid19/vaccine_tracker/csv/data.csv'\n",
                "END;\n",
                "\n",
                "SET @location_type = CASE LOWER('#{ Environment }#')\n",
                "    WHEN 'production' THEN 'Web'\n",
                "    WHEN 'acceptance' THEN 'Web'\n",
                "    ELSE 'Web'\n",
                "END;\n",
                "\n",
                "SET @security_profile = CASE LOWER('#{ Environment }#')\n",
                "    WHEN 'production' THEN 'RIVM'\n",
                "    WHEN 'acceptance' THEN 'RIVM'\n",
                "    ELSE 'RIVM'\n",
                "END;\n",
                "\n",
                "-- 2.2) UPSERT TABLE SOURCE(S): STAGING......\n",
                "SET @source_name = CONCAT('SOURCE_', @workflow_name);\n",
                "SET @source_description = CONCAT('LOAD: ', @workflow_name);\n",
                "SET @target_name = CONCAT('VWSSTAGE.', @workflow_name);\n",
                "\n",
                "SELECT TOP(1)\n",
                "    @source_id = [ID]\n",
                "FROM [DATATINO_ORCHESTRATOR_1].[SOURCES]\n",
                "WHERE [NAME] = @source_name;\n",
                "\n",
                "EXECUTE [DATATINO_ORCHESTRATOR_1].[UPSERT_SOURCE]\n",
                "    @id = @source_id,\n",
                "    @source_name = @source_name,\n",
                "    @description = @source_description,\n",
                "    @source = @source,\n",
                "    @source_columns = 'YearWeekISO|ReportingCountry|Denominator|NumberDosesReceived|NumberDosesExported|FirstDose|FirstDoseRefused|SecondDose|DoseAdditional1|UnknownDose|Region|TargetGroup|Vaccine|Population',\n",
                "    @target_columns = 'YEAR_WEEK_ISO|REPORTING_COUNTRY|DENOMINATOR|NUMBER_DOSES_RECEIVED|NUMBER_DOSES_EXPORTED|FIRST_DOSE|FIRST_DOSE_REFUSED|SECOND_DOSE|DOSE_ADDITIONAL1|UNKNOWN_DOSE|REGION|TARGET_GROUP|VACCINE|POPULATION',\n",
                "    @target_name = @target_name,\n",
                "    @source_type = 'CsvFile',\n",
                "    @location_type = @location_type,\n",
                "    @delimiter_type = 'Colon',\n",
                "    @security_profile= @security_profile;\n",
                "\n",
                "-- 2.3) UPSERT STORED PROCEDURE SOURCE(S): STAGE TO INTER......\n",
                "SET @source = CONCAT('dbo.SP_', @workflow_name, '_STAGE_TO_INTER');\n",
                "SET @source_name = CONCAT('SOURCE_SP_', @workflow_name, '_STAGE_TO_INTER');\n",
                "SET @source_description = CONCAT('MAP: ', @workflow_name, ' FROM STAGE TO INTER');\n",
                "\n",
                "SELECT TOP(1)\n",
                "    @source_id = [ID]\n",
                "FROM [DATATINO_ORCHESTRATOR_1].[SOURCES]\n",
                "WHERE [NAME] = @source_name;\n",
                "\n",
                "EXECUTE [DATATINO_ORCHESTRATOR_1].[UPSERT_SOURCE]\n",
                "    @id = @source_id,\n",
                "    @source_name = @source_name,\n",
                "    @description = @source_description,\n",
                "    @source = @source,\n",
                "    @source_columns = null,\n",
                "    @target_columns = null,\n",
                "    @target_name = null,\n",
                "    @source_type = 'StoredProcedure',\n",
                "    @location_type = 'N/A',\n",
                "    @delimiter_type = 'N/A',\n",
                "    @security_profile= @security_profile;\n",
                "\n",
                "-- 2.4) UPSERT STORED PROCEDURE SOURCE(S): INTER TO REPORT.....\n",
                "SET @source = CONCAT('dbo.SP_', @workflow_name, '_INTER_TO_REPORT');\n",
                "SET @source_name = CONCAT('SOURCE_SP_', @workflow_name, '_INTER_TO_REPORT');\n",
                "SET @source_description = CONCAT('MAP: ', @workflow_name, ' FROM INTER TO REPORT');\n",
                "\n",
                "SELECT TOP(1)\n",
                "    @source_id = [ID]\n",
                "FROM [DATATINO_ORCHESTRATOR_1].[SOURCES]\n",
                "WHERE [NAME] = @source_name;\n",
                "\n",
                "EXECUTE [DATATINO_ORCHESTRATOR_1].[UPSERT_SOURCE]\n",
                "    @id = @source_id,\n",
                "    @source_name = @source_name,\n",
                "    @description = @source_description,\n",
                "    @source = @source,\n",
                "    @source_columns = null,\n",
                "    @target_columns = null,\n",
                "    @target_name = null,\n",
                "    @source_type = 'StoredProcedure',\n",
                "    @location_type = 'N/A',\n",
                "    @delimiter_type = 'N/A',\n",
                "    @security_profile= @security_profile;\n",
                "\n",
                "-- 3) UPSERT PROCESS(ES).....\n",
                "DECLARE @process_id INT,\n",
                "        @process_name NVARCHAR(256),\n",
                "        @process_description NVARCHAR(256),\n",
                "        @process_source_name VARCHAR(256);\n",
                "\n",
                "-- 3.1) UPSERT TABLE PROCESS(ES): STAGING......\n",
                "SET @process_name = CONCAT('PROCESS_', @workflow_name, '_TO_STAGE');\n",
                "SET @process_description = CONCAT('LOAD: ', @workflow_name);\n",
                "SET @process_source_name = CONCAT('SOURCE_', @workflow_name);\n",
                "\n",
                "SELECT TOP(1)\n",
                "    @process_id = processes.[ID]\n",
                "FROM [DATATINO_ORCHESTRATOR_1].[PROCESSES] processes\n",
                "INNER JOIN [DATATINO_ORCHESTRATOR_1].[V_WORKFLOWS] v_workflows ON v_workflows.[ID] = processes.[WORKFLOW_ID]\n",
                "INNER JOIN [DATATINO_ORCHESTRATOR_1].[V_PROCESSES] v_processes ON v_processes.[PROCESS_ID] = processes.[ID]\n",
                "WHERE v_processes.[PROCESS_NAME] = @process_name \n",
                "    AND v_workflows.[NAME] = @workflow_name;\n",
                "\n",
                "EXECUTE [DATATINO_ORCHESTRATOR_1].[UPSERT_PROCESS]\n",
                "    @id = @process_id,\n",
                "    @process_name = @process_name,\n",
                "    @description = @process_description,\n",
                "    @source_name = @process_source_name,\n",
                "    @schedule = '* * * * *',\n",
                "    @workflow_name = @workflow_name,\n",
                "    @active = 1;\n",
                "\n",
                "-- 3.2) UPSERT STORED PROCEDURE PROCESS(S): STAGE TO INTER......\n",
                "SET @process_name = CONCAT('PROCESS_SP_', @workflow_name, '_STAGE_TO_INTER');\n",
                "SET @process_description = CONCAT('MAP: ', @workflow_name, ' FROM STAGE TO INTER');\n",
                "SET @process_source_name = CONCAT('SOURCE_SP_', @workflow_name, '_STAGE_TO_INTER');\n",
                "\n",
                "SELECT TOP(1)\n",
                "    @process_id = processes.[ID]\n",
                "FROM [DATATINO_ORCHESTRATOR_1].[PROCESSES] processes\n",
                "INNER JOIN [DATATINO_ORCHESTRATOR_1].[V_WORKFLOWS] v_workflows ON v_workflows.[ID] = processes.[WORKFLOW_ID]\n",
                "INNER JOIN [DATATINO_ORCHESTRATOR_1].[V_PROCESSES] v_processes ON v_processes.[PROCESS_ID] = processes.[ID]\n",
                "WHERE v_processes.[PROCESS_NAME] = @process_name \n",
                "    AND v_workflows.[NAME] = @workflow_name;\n",
                "\n",
                "EXECUTE [DATATINO_ORCHESTRATOR_1].[UPSERT_PROCESS]\n",
                "    @id = @process_id,\n",
                "    @process_name = @process_name,\n",
                "    @description = @process_description,\n",
                "    @source_name = @process_source_name,\n",
                "    @schedule = '* * * * *',\n",
                "    @workflow_name = @workflow_name,\n",
                "    @active = 1;\n",
                "\n",
                "-- 3.3) UPSERT STORED PROCEDURE PROCESS(S): INTER TO REPORT......\n",
                "SET @process_name = CONCAT('PROCESS_SP_', @workflow_name, '_INTER_TO_REPORT');\n",
                "SET @process_description = CONCAT('MAP: ', @workflow_name, ' FROM INTER TO REPORT');\n",
                "SET @process_source_name = CONCAT('SOURCE_SP_', @workflow_name, '_INTER_TO_REPORT');\n",
                "\n",
                "SELECT TOP(1)\n",
                "    @process_id = processes.[ID]\n",
                "FROM [DATATINO_ORCHESTRATOR_1].[PROCESSES] processes\n",
                "INNER JOIN [DATATINO_ORCHESTRATOR_1].[V_WORKFLOWS] v_workflows ON v_workflows.[ID] = processes.[WORKFLOW_ID]\n",
                "INNER JOIN [DATATINO_ORCHESTRATOR_1].[V_PROCESSES] v_processes ON v_processes.[PROCESS_ID] = processes.[ID]\n",
                "WHERE v_processes.[PROCESS_NAME] = @process_name \n",
                "    AND v_workflows.[NAME] = @workflow_name;\n",
                "\n",
                "EXECUTE [DATATINO_ORCHESTRATOR_1].[UPSERT_PROCESS]\n",
                "    @id = @process_id,\n",
                "    @process_name = @process_name,\n",
                "    @description = @process_description,\n",
                "    @source_name = @process_source_name,\n",
                "    @schedule = '* * * * *',\n",
                "    @workflow_name = @workflow_name,\n",
                "    @active = 1;\n",
                "\n",
                "-- 4) UPSERT DEPENDENC(Y)(IES).....\n",
                "DECLARE @dependency_id INT,\n",
                "        @dependency_name NVARCHAR(256),\n",
                "        @dependency_description NVARCHAR(256),\n",
                "        @dependency_dataflow_name NVARCHAR(256),\n",
                "        @dependency_process_name NVARCHAR(256);\n",
                "\n",
                "-- 4.1) UPSERT STAGING TO STORE PROCEDURE DEPENDENC(Y)(IES).....\n",
                "SET @dependency_name = CONCAT('DEPENDENCY_', @workflow_name,'_STAGE_TO_INTER');\n",
                "SET @dependency_dataflow_name = CONCAT('PROCESS_SP_', @workflow_name, '_STAGE_TO_INTER');\n",
                "SET @dependency_process_name = CONCAT('PROCESS_', @workflow_name, '_TO_STAGE');\n",
                "SET @dependency_description = CONCAT('TRIGGER ', @dependency_dataflow_name,' AFTER ', @dependency_process_name ,' HAS FINISHED');\n",
                "\n",
                "SELECT TOP(1)\n",
                "    @dependency_id = dependencies.[ID]\n",
                "FROM [DATATINO_ORCHESTRATOR_1].[DEPENDENCIES] dependencies\n",
                "INNER JOIN [DATATINO_ORCHESTRATOR_1].[V_DEPENDENCIES] v_dependencies ON v_dependencies.[ID] = dependencies.[ID]\n",
                "WHERE dependencies.[NAME] = @dependency_name\n",
                "    AND v_dependencies.[WORKFLOW_NAME] = @workflow_name;\n",
                "\n",
                "EXECUTE [DATATINO_ORCHESTRATOR_1].[UPSERT_DEPENDENCY]\n",
                "    @id = @dependency_id,\n",
                "    @dataflow_name = @dependency_dataflow_name,\n",
                "    @dataflowtype_id = 2,\n",
                "    @dependency_name = @dependency_process_name,\n",
                "    @dependencytype_id = 2,\n",
                "    @workflow_name = @workflow_name,\n",
                "    @name = @dependency_name,\n",
                "    @description = @dependency_description,\n",
                "    @active = 1;\n",
                "\n",
                "-- 4.2) UPSERT STORED PROCEDURE TO STORED PROCEDURE DEPENDENC(Y)(IES)......\n",
                "SET @dependency_name = CONCAT('DEPENDENCY_', @workflow_name,'_INTER_TO_REPORT');\n",
                "SET @dependency_dataflow_name = CONCAT('PROCESS_SP_', @workflow_name, '_INTER_TO_REPORT');\n",
                "SET @dependency_process_name = CONCAT('PROCESS_SP_', @workflow_name, '_STAGE_TO_INTER');\n",
                "SET @dependency_description = CONCAT('TRIGGER ', @dependency_dataflow_name,' AFTER ', @dependency_process_name ,' HAS FINISHED');\n",
                "\n",
                "SELECT TOP(1)\n",
                "    @dependency_id = dependencies.[ID]\n",
                "FROM [DATATINO_ORCHESTRATOR_1].[DEPENDENCIES] dependencies\n",
                "INNER JOIN [DATATINO_ORCHESTRATOR_1].[V_DEPENDENCIES] v_dependencies ON v_dependencies.[ID] = dependencies.[ID]\n",
                "WHERE dependencies.[NAME] = @dependency_name\n",
                "    AND v_dependencies.[WORKFLOW_NAME] = @workflow_name;\n",
                "\n",
                "EXECUTE [DATATINO_ORCHESTRATOR_1].[UPSERT_DEPENDENCY]\n",
                "    @id = @dependency_id,\n",
                "    @dataflow_name = @dependency_dataflow_name,\n",
                "    @dataflowtype_id = 2,\n",
                "    @dependency_name = @dependency_process_name,\n",
                "    @dependencytype_id = 2,\n",
                "    @workflow_name = @workflow_name,\n",
                "    @name = @dependency_name,\n",
                "    @description = @dependency_description,\n",
                "    @active = 1;\n",
                "GO"
            ]
        }
    ],
    "metadata": {
        "kernelspec": {
            "display_name": "SQL",
            "language": "sql",
            "name": "SQL"
        },
        "language_info": {
            "name": "sql",
            "version": ""
        }
    },
    "nbformat": 4,
    "nbformat_minor": 2
}
