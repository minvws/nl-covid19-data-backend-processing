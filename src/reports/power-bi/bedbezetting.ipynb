{
    "cells": [
        {
            "cell_type": "markdown",
            "metadata": {
                "azdata_cell_guid": "5cdc0d05-c1b4-453a-a8a4-4cfc9a1015ad"
            },
            "source": [
                "# **INTRODUCTIONS**\n",
                "\n",
                "---\n",
                "\n",
                "The source code is separated into multiple sections:\n",
                "\n",
                "1. **[Tables](#tables)**\n",
                "2. **[Stored Procedures](#stored-procedures)**\n",
                "3. **[Datatino Configurations](#datatino-configurations)**"
            ]
        },
        {
            "attachments": {},
            "cell_type": "markdown",
            "metadata": {},
            "source": [
                "# **DEPENDENCIES**\n",
                "\n",
                "---\n",
                "\n",
                "```json\n",
                "{\n",
                "    \"depends-on\": [\n",
                "        \"src/utils/conversions.ipynb\",\n",
                "        \"src/utils/schemas.ipynb\",\n",
                "        \"src/utils/protos.ipynb\",\n",
                "        \"src/dataflows/LCPS_API_lnaz_hospital_bed_occupancy_2023.ipynb\"\n",
                "    ]\n",
                "}\n",
                "```"
            ]
        },
        {
            "cell_type": "markdown",
            "metadata": {
                "azdata_cell_guid": "b883932e-c47b-4de6-9629-eca0ff8aeabb"
            },
            "source": [
                "# **VIEWS**\n",
                "---"
            ]
        },
        {
            "cell_type": "code",
            "execution_count": null,
            "metadata": {
                "azdata_cell_guid": "8afe1341-1b29-4d6f-b896-861d70ae3472",
                "tags": [
                    "hide_input"
                ]
            },
            "outputs": [],
            "source": [
                "-- Copyright (c) 2020 De Staat der Nederlanden, Ministerie van   Volksgezondheid, Welzijn en Sport. \n",
                "-- Licensed under the EUROPEAN UNION PUBLIC LICENCE v. 1.2 - see https://github.com/minvws/nl-contact-tracing-app-coordinationfor more information.\n",
                "CREATE OR ALTER VIEW [VWSREPORT].[V_PBI_Bedbezetting]\n",
                "AS \n",
                "    SELECT \n",
                "        CAST([DATE_OF_REPORT] as date)                              AS [Datum]        \n",
                "        ,[IC_BEDS_OCCUPIED_COVID]                                   AS [Bedbezetting IC (COVID)]\n",
                "        ,[IC_BEDS_OCCUPIED_NON_COVID]                               AS [Bedbezetting IC (non-COVID)]\n",
                "        ,[IC_BEDS_OCCUPIED_NON_COVID] + [IC_BEDS_OCCUPIED_COVID]    AS [Bedbezetting IC]\n",
                "        ,[NON_IC_BEDS_OCCUPIED_COVID]                               AS [Bedbezetting]\n",
                "        ,CAST([DATE_LAST_INSERTED] as date)                         AS [Update datum]\n",
                "    FROM [VWSDEST].[HOSPITAL_BED_OCCUPANCY]\n",
                "    WHERE DATE_LAST_INSERTED = (SELECT MAX(DATE_LAST_INSERTED) FROM [VWSDEST].[HOSPITAL_BED_OCCUPANCY])\n",
                "    AND DATE_OF_REPORT < '2022-12-12'\n",
                "\n",
                "UNION ALL\n",
                "\n",
                "    SELECT \n",
                "        CAST([DATE_OF_REPORT] as date)                              AS [Datum]        \n",
                "        ,[IC_BEDS_OCCUPIED_COVID]                                   AS [Bedbezetting IC (COVID)]\n",
                "        ,[IC_BEDS_OCCUPIED_NON_COVID]                               AS [Bedbezetting IC (non-COVID)]\n",
                "        ,[IC_BEDS_OCCUPIED_NON_COVID] + [IC_BEDS_OCCUPIED_COVID]    AS [Bedbezetting IC]\n",
                "        ,[NON_IC_BEDS_OCCUPIED_COVID]                               AS [Bedbezetting]\n",
                "        ,CAST([DATE_LAST_INSERTED] as date)                         AS [Update datum]\n",
                "    FROM [VWSDEST].[LCPS_API_LNAZ_HOSPITAL_BED_OCCUPANCY_2023]\n",
                "    WHERE DATE_LAST_INSERTED = (SELECT MAX(DATE_LAST_INSERTED) FROM [VWSDEST].[LCPS_API_LNAZ_HOSPITAL_BED_OCCUPANCY_2023])\n",
                "    AND DATE_OF_REPORT >= '2022-12-12'\n",
                "GO\n",
                "\n"
            ]
        }
    ],
    "metadata": {
        "kernelspec": {
            "display_name": "SQL",
            "language": "sql",
            "name": "SQL"
        },
        "language_info": {
            "name": "sql",
            "version": ""
        }
    },
    "nbformat": 4,
    "nbformat_minor": 2
}
