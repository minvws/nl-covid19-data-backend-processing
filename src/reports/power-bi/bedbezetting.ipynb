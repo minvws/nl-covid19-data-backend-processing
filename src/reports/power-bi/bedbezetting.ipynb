{
    "cells": [
        {
            "cell_type": "markdown",
            "metadata": {
                "azdata_cell_guid": "5cdc0d05-c1b4-453a-a8a4-4cfc9a1015ad"
            },
            "source": [
                "# **INTRODUCTIONS**\n",
                "\n",
                "---\n",
                "\n",
                "The source code is separated into multiple sections:\n",
                "\n",
                "1. **[Tables](#tables)**\n",
                "2. **[Stored Procedures](#stored-procedures)**\n",
                "3. **[Datatino Configurations](#datatino-configurations)**"
            ]
        },
        {
            "attachments": {},
            "cell_type": "markdown",
            "metadata": {},
            "source": [
                "# **DEPENDENCIES**\n",
                "\n",
                "---\n",
                "\n",
                "```json\n",
                "{\n",
                "    \"depends-on\": [\n",
                "        \"src/utils/conversions.ipynb\",\n",
                "        \"src/utils/schemas.ipynb\",\n",
                "        \"src/utils/protos.ipynb\",\n",
                "        \"src/dataflows/lnaz_hospital_bed_occupancy_old.ipynb\"\n",
                "    ]\n",
                "}\n",
                "```"
            ]
        },
        {
            "cell_type": "markdown",
            "metadata": {
                "azdata_cell_guid": "ce43cf11-e280-4187-a3ba-76e9e6a3f3e1"
            },
            "source": [
                "# **TABLES**\n",
                "---"
            ]
        },
        {
            "cell_type": "markdown",
            "metadata": {
                "azdata_cell_guid": "e63ed1c7-3b48-4191-b40b-0844ac35daff"
            },
            "source": [
                "### STAGINGS"
            ]
        },
        {
            "attachments": {},
            "cell_type": "markdown",
            "metadata": {},
            "source": [
                "> OLD HOSPITAL_BED_OCCUPANCY"
            ]
        },
        {
            "cell_type": "code",
            "execution_count": null,
            "metadata": {
                "azdata_cell_guid": "b3f6a728-c0e6-4f6c-855c-a92cbe1853a4",
                "dotnet_interactive": {
                    "language": "sql"
                },
                "tags": [
                    "hide_input"
                ]
            },
            "outputs": [],
            "source": [
                "-- COPYRIGHT (C) 2020 DE STAAT DER NEDERLANDEN, MINISTERIE VAN VOLKSGEZONDHEID, WELZIJN EN SPORT.\n",
                "-- LICENSED UNDER THE EUROPEAN UNION PUBLIC LICENCE V. 1.2 - SEE HTTPS://GITHUB.COM/MINVWS/NL-CONTACT-TRACING-APP-COORDINATION FOR MORE INFORMATION.\n",
                "\n",
                "SET ANSI_NULLS ON\n",
                "GO\n",
                "\n",
                "SET QUOTED_IDENTIFIER ON\n",
                "GO\n",
                "\n",
                "-- 1) CREATE TABLE(S).....\n",
                "IF NOT EXISTS(SELECT * FROM SYS.TABLES WHERE [OBJECT_ID] = OBJECT_ID(N'[VWSSTAGE].[LNAZ_HOSPITAL_BED_OCCUPANCY]'))\n",
                "BEGIN\n",
                "    CREATE TABLE [VWSSTAGE].[LNAZ_HOSPITAL_BED_OCCUPANCY](\n",
                "        [ID] [INT] PRIMARY KEY IDENTITY(1,1),\n",
                "        [DATUM] [VARCHAR](100) NULL,\n",
                "        [IC_BEDDEN_COVID] [VARCHAR](100) NULL,\n",
                "        [IC_BEDDEN_NON_COVID] [VARCHAR](100) NULL,\n",
                "        [KLINIEK_BEDDEN] [VARCHAR](100) NULL,\n",
                "        [DATE_LAST_INSERTED] [DATETIME] NULL DEFAULT (GETDATE()),\n",
                "        [IC_NIEUWE_OPNAMES_COVID] [VARCHAR](100) NULL,\n",
                "        [KLINIEK_NIEUWE_OPNAMES_COVID] [VARCHAR](100) NULL\n",
                "        );\n",
                "END\n",
                "GO"
            ]
        },
        {
            "attachments": {},
            "cell_type": "markdown",
            "metadata": {},
            "source": [
                "> NEW HOSPITAL_BED_OCCUPANCY"
            ]
        },
        {
            "cell_type": "code",
            "execution_count": null,
            "metadata": {},
            "outputs": [],
            "source": [
                "-- COPYRIGHT (C) 2020 DE STAAT DER NEDERLANDEN, MINISTERIE VAN VOLKSGEZONDHEID, WELZIJN EN SPORT.\n",
                "-- LICENSED UNDER THE EUROPEAN UNION PUBLIC LICENCE V. 1.2 - SEE HTTPS://GITHUB.COM/MINVWS/NL-CONTACT-TRACING-APP-COORDINATION FOR MORE INFORMATION.\n",
                "\n",
                "SET ANSI_NULLS ON\n",
                "GO\n",
                "\n",
                "SET QUOTED_IDENTIFIER ON\n",
                "GO\n",
                "\n",
                "-- 1) CREATE TABLE(S).....\n",
                "IF NOT EXISTS(SELECT * FROM SYS.TABLES WHERE [OBJECT_ID] = OBJECT_ID(N'[VWSSTAGE].[LNAZ_HOSPITAL_BED_OCCUPANCY_2023]'))\n",
                "BEGIN\n",
                "    CREATE TABLE [VWSSTAGE].[LNAZ_HOSPITAL_BED_OCCUPANCY_2023](\n",
                "        [ID] [INT] PRIMARY KEY IDENTITY(1,1),\n",
                "        [DATE_LAST_INSERTED] [DATETIME] NOT NULL DEFAULT GETDATE(),\n",
                "        [DATUM] [VARCHAR](256) NULL,\n",
                "        [IC_CAPACITEIT_TOTAAL] [VARCHAR](256) NULL,\n",
                "        [KLINIEK_CAPACITEIT_TOTAAL] [VARCHAR](256) NULL,\n",
                "        [IC_BEZETTING_COVID] [VARCHAR](256) NULL,\n",
                "        [IC_BEZETTING_COVID_INTERNATIONAAL] [VARCHAR](256) NULL,\n",
                "        [IC_BEZETTING_ONTLABELD] [VARCHAR](256) NULL,\n",
                "        [IC_BEZETTING_NONCOVID] [VARCHAR](256) NULL,\n",
                "        [KLINIEK_BEZETTING_COVID] [VARCHAR](256) NULL,\n",
                "        [KLINIEK_BEZETTING_ONTLABELD] [VARCHAR](256) NULL,\n",
                "        [KLINIEK_BEZETTING_NONCOVID] [VARCHAR](256) NULL,\n",
                "        [IC_OPNAMES_COVID] [VARCHAR](256) NULL,\n",
                "        [KLINIEK_OPNAMES_COVID] [VARCHAR](256) NULL\n",
                "        );\n",
                "END\n",
                "\n",
                "\n",
                "-- 2) CREATE INDEX(ES).....\n",
                "DROP INDEX IF EXISTS [NCIX_LNAZ_HOSPITAL_BED_OCCUPANCY_2023]\n",
                "    ON [VWSSTAGE].[LNAZ_HOSPITAL_BED_OCCUPANCY_2023]\n",
                "GO\n",
                "\n",
                "CREATE NONCLUSTERED INDEX [NCIX_LNAZ_HOSPITAL_BED_OCCUPANCY_2023] \n",
                "ON [VWSSTAGE].[LNAZ_HOSPITAL_BED_OCCUPANCY_2023] (\n",
                "    [DATE_LAST_INSERTED] ASC\n",
                ") WITH (STATISTICS_NORECOMPUTE = OFF, DROP_EXISTING = OFF, ONLINE = OFF, OPTIMIZE_FOR_SEQUENTIAL_KEY = OFF) ON [PRIMARY]\n",
                "GO"
            ]
        },
        {
            "cell_type": "markdown",
            "metadata": {
                "azdata_cell_guid": "0fbc9342-fa09-4175-9ff1-0121abd441c8"
            },
            "source": [
                "### INTERMEDIATES"
            ]
        },
        {
            "attachments": {},
            "cell_type": "markdown",
            "metadata": {},
            "source": [
                "> OLD HOSPITAL_BED_OCCUPANCY"
            ]
        },
        {
            "cell_type": "code",
            "execution_count": null,
            "metadata": {
                "azdata_cell_guid": "b78fe875-a8bf-44d7-84b7-252e58cd45be",
                "dotnet_interactive": {
                    "language": "sql"
                },
                "tags": [
                    "hide_input"
                ]
            },
            "outputs": [],
            "source": [
                "-- COPYRIGHT (C) 2020 DE STAAT DER NEDERLANDEN, MINISTERIE VAN VOLKSGEZONDHEID, WELZIJN EN SPORT.\n",
                "-- LICENSED UNDER THE EUROPEAN UNION PUBLIC LICENCE V. 1.2 - SEE HTTPS://GITHUB.COM/MINVWS/NL-CONTACT-TRACING-APP-COORDINATION FOR MORE INFORMATION.\n",
                "\n",
                "SET ANSI_NULLS ON\n",
                "GO\n",
                "\n",
                "SET QUOTED_IDENTIFIER ON\n",
                "GO\n",
                "\n",
                "-- 1) CREATE TABLE(S).....\n",
                "IF NOT EXISTS(SELECT * FROM SYS.TABLES WHERE [OBJECT_ID] = OBJECT_ID(N'[VWSDEST].[HOSPITAL_BED_OCCUPANCY]'))\n",
                "BEGIN\n",
                "    CREATE TABLE [VWSDEST].[HOSPITAL_BED_OCCUPANCY](\n",
                "        [ID] [INT] PRIMARY KEY IDENTITY(1,1),\n",
                "        [DATE_OF_REPORT] [DATETIME] NULL,\n",
                "        [DATE_OF_REPORT_UNIX] [BIGINT] NULL,\n",
                "        [IC_BEDS_OCCUPIED_COVID] [INT] NULL,\n",
                "        [IC_BEDS_OCCUPIED_NON_COVID] [INT] NULL,\n",
                "        [IC_BEDS_OCCUPIED_COVID_PERCENTAGE] [DECIMAL](16, 2) NULL,\n",
                "        [NON_IC_BEDS_OCCUPIED_COVID] [INT] NULL,\n",
                "        [DATE_LAST_INSERTED] [DATETIME] NULL DEFAULT (GETDATE()),\n",
                "        [IC_INFLUX_COVID] [INT] NULL,\n",
                "        [NON_IC_INFLUX_COVID] [INT] NULL\n",
                "        );\n",
                "END\n",
                "ELSE\n",
                "BEGIN\n",
                "    IF NOT EXISTS (SELECT * FROM SYS.COLUMNS \n",
                "        WHERE [NAME] IN (N'IC_INFLUX_COVID')\n",
                "        AND [OBJECT_ID] = OBJECT_ID(N'[VWSDEST].[HOSPITAL_BED_OCCUPANCY]'))\n",
                "            BEGIN\n",
                "                ALTER TABLE [VWSDEST].[HOSPITAL_BED_OCCUPANCY]\n",
                "                ADD \n",
                "                    [IC_INFLUX_COVID] [INT] NULL;\n",
                "            END\n",
                "    IF NOT EXISTS (SELECT * FROM SYS.COLUMNS \n",
                "        WHERE [NAME] IN (N'NON_IC_INFLUX_COVID')\n",
                "        AND [OBJECT_ID] = OBJECT_ID(N'[VWSDEST].[HOSPITAL_BED_OCCUPANCY]'))\n",
                "            BEGIN\n",
                "                ALTER TABLE [VWSDEST].[HOSPITAL_BED_OCCUPANCY]\n",
                "                ADD \n",
                "                    [NON_IC_INFLUX_COVID] [INT] NULL;\n",
                "            END\n",
                "END\n",
                "GO"
            ]
        },
        {
            "attachments": {},
            "cell_type": "markdown",
            "metadata": {},
            "source": [
                "> NEW HOSPITAL_BED_OCCUPANCY"
            ]
        },
        {
            "cell_type": "code",
            "execution_count": null,
            "metadata": {},
            "outputs": [],
            "source": [
                "-- COPYRIGHT (C) 2020 DE STAAT DER NEDERLANDEN, MINISTERIE VAN VOLKSGEZONDHEID, WELZIJN EN SPORT.\n",
                "-- LICENSED UNDER THE EUROPEAN UNION PUBLIC LICENCE V. 1.2 - SEE HTTPS://GITHUB.COM/MINVWS/NL-CONTACT-TRACING-APP-COORDINATION FOR MORE INFORMATION.\n",
                "\n",
                "SET ANSI_NULLS ON\n",
                "GO\n",
                "\n",
                "SET QUOTED_IDENTIFIER ON\n",
                "GO\n",
                "\n",
                "-- 1) CREATE TABLE(S).....\n",
                "IF NOT EXISTS(SELECT * FROM SYS.TABLES WHERE [OBJECT_ID] = OBJECT_ID(N'[VWSINTER].[LNAZ_HOSPITAL_BED_OCCUPANCY_2023]'))\n",
                "BEGIN\n",
                "    CREATE TABLE [VWSINTER].[LNAZ_HOSPITAL_BED_OCCUPANCY_2023](\n",
                "        [ID] [INT] PRIMARY KEY IDENTITY(1,1),\n",
                "        [DATE_LAST_INSERTED] [DATETIME] NOT NULL DEFAULT GETDATE(),\n",
                "        [DATUM] [DATETIME] NULL,\n",
                "        [IC_CAPACITEIT_TOTAAL] [INT] NULL,\n",
                "        [KLINIEK_CAPACITEIT_TOTAAL] [INT] NULL,\n",
                "        [IC_BEZETTING_COVID] [INT] NULL,\n",
                "        [IC_BEZETTING_COVID_INTERNATIONAAL] [INT] NULL,\n",
                "        [IC_BEZETTING_ONTLABELD] [INT] NULL,\n",
                "        [IC_BEZETTING_NONCOVID] [INT] NULL,\n",
                "        [KLINIEK_BEZETTING_COVID] [INT] NULL,\n",
                "        [KLINIEK_BEZETTING_ONTLABELD] [INT] NULL,\n",
                "        [KLINIEK_BEZETTING_NONCOVID] [INT] NULL,\n",
                "        [IC_OPNAMES_COVID] [INT] NULL,\n",
                "        [KLINIEK_OPNAMES_COVID] [INT] NULL\n",
                "        );\n",
                "END\n",
                "\n",
                "\n",
                "-- 2) CREATE INDEX(ES).....\n",
                "DROP INDEX IF EXISTS [NCIX_LNAZ_HOSPITAL_BED_OCCUPANCY_2023]\n",
                "    ON [VWSINTER].[LNAZ_HOSPITAL_BED_OCCUPANCY_2023]\n",
                "GO\n",
                "\n",
                "CREATE NONCLUSTERED INDEX [NCIX_LNAZ_HOSPITAL_BED_OCCUPANCY_2023] \n",
                "ON [VWSINTER].[LNAZ_HOSPITAL_BED_OCCUPANCY_2023] (\n",
                "    [DATE_LAST_INSERTED] ASC\n",
                ") WITH (STATISTICS_NORECOMPUTE = OFF, DROP_EXISTING = OFF, ONLINE = OFF, OPTIMIZE_FOR_SEQUENTIAL_KEY = OFF) ON [PRIMARY]\n",
                "GO"
            ]
        },
        {
            "attachments": {},
            "cell_type": "markdown",
            "metadata": {},
            "source": [
                "### DESTINATIONS"
            ]
        },
        {
            "attachments": {},
            "cell_type": "markdown",
            "metadata": {},
            "source": [
                "> OLD HOSPITAL_BED_OCCUPANCY"
            ]
        },
        {
            "cell_type": "code",
            "execution_count": null,
            "metadata": {},
            "outputs": [],
            "source": [
                "-- COPYRIGHT (C) 2020 DE STAAT DER NEDERLANDEN, MINISTERIE VAN VOLKSGEZONDHEID, WELZIJN EN SPORT.\n",
                "-- LICENSED UNDER THE EUROPEAN UNION PUBLIC LICENCE V. 1.2 - SEE HTTPS://GITHUB.COM/MINVWS/NL-CONTACT-TRACING-APP-COORDINATION FOR MORE INFORMATION.\n",
                "\n",
                "SET ANSI_NULLS ON\n",
                "GO\n",
                "\n",
                "SET QUOTED_IDENTIFIER ON\n",
                "GO\n",
                "\n",
                "-- 1) CREATE TABLE(S).....\n",
                "IF NOT EXISTS(SELECT * FROM SYS.TABLES WHERE [OBJECT_ID] = OBJECT_ID(N'[VWSDEST].[HOSPITAL_BED_OCCUPANCY]'))\n",
                "BEGIN\n",
                "    CREATE TABLE [VWSDEST].[HOSPITAL_BED_OCCUPANCY](\n",
                "        [ID] [INT] PRIMARY KEY IDENTITY(1,1),\n",
                "        [DATE_OF_REPORT] [DATETIME] NULL,\n",
                "        [DATE_OF_REPORT_UNIX] [BIGINT] NULL,\n",
                "        [IC_BEDS_OCCUPIED_COVID] [INT] NULL,\n",
                "        [IC_BEDS_OCCUPIED_NON_COVID] [INT] NULL,\n",
                "        [IC_BEDS_OCCUPIED_COVID_PERCENTAGE] [DECIMAL](16, 2) NULL,\n",
                "        [NON_IC_BEDS_OCCUPIED_COVID] [INT] NULL,\n",
                "        [DATE_LAST_INSERTED] [DATETIME] NULL DEFAULT (GETDATE()),\n",
                "        [IC_INFLUX_COVID] [INT] NULL,\n",
                "        [NON_IC_INFLUX_COVID] [INT] NULL\n",
                "        );\n",
                "END\n",
                "ELSE\n",
                "BEGIN\n",
                "    IF NOT EXISTS (SELECT * FROM SYS.COLUMNS \n",
                "        WHERE [NAME] IN (N'IC_INFLUX_COVID')\n",
                "        AND [OBJECT_ID] = OBJECT_ID(N'[VWSDEST].[HOSPITAL_BED_OCCUPANCY]'))\n",
                "            BEGIN\n",
                "                ALTER TABLE [VWSDEST].[HOSPITAL_BED_OCCUPANCY]\n",
                "                ADD \n",
                "                    [IC_INFLUX_COVID] [INT] NULL;\n",
                "            END\n",
                "    IF NOT EXISTS (SELECT * FROM SYS.COLUMNS \n",
                "        WHERE [NAME] IN (N'NON_IC_INFLUX_COVID')\n",
                "        AND [OBJECT_ID] = OBJECT_ID(N'[VWSDEST].[HOSPITAL_BED_OCCUPANCY]'))\n",
                "            BEGIN\n",
                "                ALTER TABLE [VWSDEST].[HOSPITAL_BED_OCCUPANCY]\n",
                "                ADD \n",
                "                    [NON_IC_INFLUX_COVID] [INT] NULL;\n",
                "            END\n",
                "END\n",
                "GO\n"
            ]
        },
        {
            "attachments": {},
            "cell_type": "markdown",
            "metadata": {},
            "source": [
                "> NEW HOSPITAL_BED_OCCUPANCY"
            ]
        },
        {
            "cell_type": "code",
            "execution_count": null,
            "metadata": {},
            "outputs": [],
            "source": [
                "-- COPYRIGHT (C) 2020 DE STAAT DER NEDERLANDEN, MINISTERIE VAN VOLKSGEZONDHEID, WELZIJN EN SPORT.\n",
                "-- LICENSED UNDER THE EUROPEAN UNION PUBLIC LICENCE V. 1.2 - SEE HTTPS://GITHUB.COM/MINVWS/NL-CONTACT-TRACING-APP-COORDINATION FOR MORE INFORMATION.\n",
                "\n",
                "SET ANSI_NULLS ON\n",
                "GO\n",
                "\n",
                "SET QUOTED_IDENTIFIER ON\n",
                "GO\n",
                "\n",
                "-- 1) CREATE TABLE(S).....\n",
                "IF NOT EXISTS(SELECT * FROM SYS.TABLES WHERE [OBJECT_ID] = OBJECT_ID(N'[VWSDEST].[LNAZ_HOSPITAL_BED_OCCUPANCY_2023]'))\n",
                "BEGIN\n",
                "    CREATE TABLE [VWSDEST].[LNAZ_HOSPITAL_BED_OCCUPANCY_2023](\n",
                "        [ID] [INT] PRIMARY KEY IDENTITY(1,1),\n",
                "        [DATE_LAST_INSERTED] [DATETIME] NOT NULL DEFAULT GETDATE(),\n",
                "        [DATE_OF_REPORT] [DATETIME] NULL,\n",
                "        [DATE_OF_REPORT_UNIX] [BIGINT] NULL,\n",
                "        [IC_BEDS_OCCUPIED_COVID] [INT] NULL,\n",
                "        [IC_BEDS_OCCUPIED_NON_COVID] [INT] NULL,\n",
                "        [IC_BEDS_OCCUPIED_COVID_PERCENTAGE] [DECIMAL](16, 2) NULL,\n",
                "        [NON_IC_BEDS_OCCUPIED_COVID] [INT] NULL,\n",
                "        [IC_INFLUX_COVID] [INT] NULL,\n",
                "        [NON_IC_INFLUX_COVID] [INT] NULL\n",
                "        );\n",
                "END\n",
                "\n",
                "\n",
                "-- 2) CREATE INDEX(ES).....\n",
                "DROP INDEX IF EXISTS [NCIX_LNAZ_HOSPITAL_BED_OCCUPANCY_2023]\n",
                "    ON [VWSDEST].[LNAZ_HOSPITAL_BED_OCCUPANCY_2023]\n",
                "GO\n",
                "\n",
                "CREATE NONCLUSTERED INDEX [NCIX_LNAZ_HOSPITAL_BED_OCCUPANCY_2023] \n",
                "ON [VWSDEST].[LNAZ_HOSPITAL_BED_OCCUPANCY_2023] (\n",
                "    [DATE_LAST_INSERTED] ASC\n",
                ") WITH (STATISTICS_NORECOMPUTE = OFF, DROP_EXISTING = OFF, ONLINE = OFF, OPTIMIZE_FOR_SEQUENTIAL_KEY = OFF) ON [PRIMARY]\n",
                "GO"
            ]
        },
        {
            "cell_type": "markdown",
            "metadata": {
                "azdata_cell_guid": "b883932e-c47b-4de6-9629-eca0ff8aeabb"
            },
            "source": [
                "# **VIEWS**\n",
                "---"
            ]
        },
        {
            "cell_type": "code",
            "execution_count": null,
            "metadata": {
                "azdata_cell_guid": "8afe1341-1b29-4d6f-b896-861d70ae3472",
                "tags": [
                    "hide_input"
                ]
            },
            "outputs": [],
            "source": [
                "SET ANSI_NULLS ON\n",
                "GO\n",
                "SET QUOTED_IDENTIFIER ON\n",
                "GO\n",
                "\n",
                "-- Copyright (c) 2020 De Staat der Nederlanden, Ministerie van   Volksgezondheid, Welzijn en Sport.\n",
                "-- Licensed under the EUROPEAN UNION PUBLIC LICENCE v. 1.2 - see https://github.com/minvws/nl-contact-tracing-app-coordinationfor more information.\n",
                "CREATE   VIEW [VWSREPORT].[V_PBI_Bedbezetting_02022023]\n",
                "AS \n",
                "    SELECT \n",
                "        CAST([DATE_OF_REPORT] as date)                              AS [Datum]        \n",
                "        ,[IC_BEDS_OCCUPIED_COVID]                                   AS [Bedbezetting IC (COVID)]\n",
                "        ,[IC_BEDS_OCCUPIED_NON_COVID]                               AS [Bedbezetting IC (non-COVID)]\n",
                "        ,[IC_BEDS_OCCUPIED_NON_COVID] + [IC_BEDS_OCCUPIED_COVID]    AS [Bedbezetting IC]\n",
                "        ,[NON_IC_BEDS_OCCUPIED_COVID]                               AS [Bedbezetting]\n",
                "        ,CAST([DATE_LAST_INSERTED] as date)                         AS [Update datum]\n",
                "    FROM [VWSDEST].[HOSPITAL_BED_OCCUPANCY]\n",
                "\n",
                "    WHERE \n",
                "        DATE_LAST_INSERTED=\n",
                "            (SELECT MAX(DATE_LAST_INSERTED) FROM VWSDEST.HOSPITAL_BED_OCCUPANCY)\n",
                "GO"
            ]
        },
        {
            "cell_type": "markdown",
            "metadata": {
                "azdata_cell_guid": "991b613b-1793-4c88-a85a-229f4e6fa51e"
            },
            "source": [
                "# **STORE PROCEDURES**\n",
                "---"
            ]
        },
        {
            "cell_type": "markdown",
            "metadata": {
                "azdata_cell_guid": "157e2e17-d669-4d53-9b88-9bfce9675611"
            },
            "source": [
                "### STAGING &rarr; INTERMEDIATE MAPPING"
            ]
        },
        {
            "attachments": {},
            "cell_type": "markdown",
            "metadata": {},
            "source": [
                "> OLD HOSPITAL_BED_OCCUPANCY"
            ]
        },
        {
            "cell_type": "code",
            "execution_count": null,
            "metadata": {
                "azdata_cell_guid": "9e39a8d6-8f5a-45cb-a1d6-3405d256a5b5",
                "dotnet_interactive": {
                    "language": "sql"
                },
                "tags": [
                    "hide_input"
                ]
            },
            "outputs": [],
            "source": [
                "-- Copyright (c) 2020 De Staat der Nederlanden, Ministerie van   Volksgezondheid, Welzijn en Sport. \n",
                "-- Licensed under the EUROPEAN UNION PUBLIC LICENCE v. 1.2 - see https://github.com/minvws/nl-contact-tracing-app-coordinationfor more information.\n",
                "\n",
                "-- Move national data from staging to intermediate table.\n",
                "\n",
                "-- 1) CREATE STORE PROCEDURE(S) STAGE -> INTER.....\n",
                "CREATE OR ALTER PROCEDURE [dbo].[SP_LNAZ_HOSPITAL_BED_OCCUPANCY_INTER]\n",
                "AS\n",
                "BEGIN\n",
                "    INSERT INTO VWSINTER.LNAZ_HOSPITAL_BED_OCCUPANCY\n",
                "        (   [DATUM],\n",
                "            [IC_BEDDEN_COVID],\n",
                "            [IC_BEDDEN_NON_COVID],\n",
                "            [KLINIEK_BEDDEN],\n",
                "            [IC_NIEUWE_OPNAMES_COVID],\n",
                "            [KLINIEK_NIEUWE_OPNAMES_COVID]\n",
                "        )    SELECT\n",
                "    --- conversion of date in dd-mm-yyyy format ---\n",
                "        CONVERT(DATETIME, [DATUM], 105),\n",
                "    -- allow empty values and make them null\n",
                "        IIF([IC_BEDDEN_COVID] IN ('', 'NA'), NULL, TRIM([IC_BEDDEN_COVID])),\n",
                "        IIF([IC_BEDDEN_NON_COVID] IN ('', 'NA'), NULL, TRIM([IC_BEDDEN_NON_COVID])),\n",
                "        IIF([KLINIEK_BEDDEN] IN ('', 'NA'), NULL, TRIM([KLINIEK_BEDDEN])),\n",
                "        IIF([IC_NIEUWE_OPNAMES_COVID] IN ('', 'NA'), NULL, TRIM([IC_NIEUWE_OPNAMES_COVID])),\n",
                "        IIF([KLINIEK_NIEUWE_OPNAMES_COVID] IN ('', 'NA'), NULL, TRIM([KLINIEK_NIEUWE_OPNAMES_COVID]))\n",
                "    FROM\n",
                "       VWSSTAGE.LNAZ_HOSPITAL_BED_OCCUPANCY\n",
                "    WHERE DATE_LAST_INSERTED = (SELECT MAX(DATE_LAST_INSERTED) FROM VWSSTAGE.LNAZ_HOSPITAL_BED_OCCUPANCY)\n",
                "END;\n",
                "GO"
            ]
        },
        {
            "attachments": {},
            "cell_type": "markdown",
            "metadata": {},
            "source": [
                "> NEW HOSPITAL_BED_OCCUPANCY"
            ]
        },
        {
            "cell_type": "code",
            "execution_count": null,
            "metadata": {},
            "outputs": [],
            "source": [
                "-- Copyright (c) 2020 De Staat der Nederlanden, Ministerie van   Volksgezondheid, Welzijn en Sport. \n",
                "-- Licensed under the EUROPEAN UNION PUBLIC LICENCE v. 1.2 - see https://github.com/minvws/nl-contact-tracing-app-coordinationfor more information.\n",
                "\n",
                "-- Move national data from staging to intermediate table.\n",
                "\n",
                "-- 1) CREATE STORE PROCEDURE(S) STAGE -> INTER.....\n",
                "CREATE OR ALTER PROCEDURE [DBO].[SP_LNAZ_HOSPITAL_BED_OCCUPANCY_2023_STAGE_TO_INTER]\n",
                "AS\n",
                "BEGIN\n",
                "    INSERT INTO [VWSINTER].[LNAZ_HOSPITAL_BED_OCCUPANCY_2023] (\n",
                "        [DATUM],\n",
                "        [IC_CAPACITEIT_TOTAAL],\n",
                "        [KLINIEK_CAPACITEIT_TOTAAL],\n",
                "        [IC_BEZETTING_COVID],\n",
                "        [IC_BEZETTING_COVID_INTERNATIONAAL],\n",
                "        [IC_BEZETTING_ONTLABELD],\n",
                "        [IC_BEZETTING_NONCOVID],\n",
                "        [KLINIEK_BEZETTING_COVID],\n",
                "        [KLINIEK_BEZETTING_ONTLABELD],\n",
                "        [KLINIEK_BEZETTING_NONCOVID],\n",
                "        [IC_OPNAMES_COVID],\n",
                "        [KLINIEK_OPNAMES_COVID]\n",
                "    )\n",
                "    SELECT\n",
                "        --- conversion of date in dd-mm-yyyy format ---\n",
                "        CONVERT(DATETIME, [DATUM], 105),\n",
                "        -- allow empty values and make them null\n",
                "        IIF([IC_CAPACITEIT_TOTAAL] IN ('', 'NA'), NULL, TRIM([IC_CAPACITEIT_TOTAAL])),\n",
                "        IIF([KLINIEK_CAPACITEIT_TOTAAL] IN ('', 'NA'), NULL, TRIM([KLINIEK_CAPACITEIT_TOTAAL])),\n",
                "        IIF([IC_BEZETTING_COVID] IN ('', 'NA'), NULL, TRIM([IC_BEZETTING_COVID])),\n",
                "        IIF([IC_BEZETTING_COVID_INTERNATIONAAL] IN ('', 'NA'), NULL, TRIM([IC_BEZETTING_COVID_INTERNATIONAAL])),\n",
                "        IIF([IC_BEZETTING_ONTLABELD] IN ('', 'NA'), NULL, TRIM([IC_BEZETTING_ONTLABELD])),\n",
                "        IIF([IC_BEZETTING_NONCOVID] IN ('', 'NA'), NULL, TRIM([IC_BEZETTING_NONCOVID])),\n",
                "        IIF([KLINIEK_BEZETTING_COVID] IN ('', 'NA'), NULL, TRIM([KLINIEK_BEZETTING_COVID])),\n",
                "        IIF([KLINIEK_BEZETTING_ONTLABELD] IN ('', 'NA'), NULL, TRIM([KLINIEK_BEZETTING_ONTLABELD])),\n",
                "        IIF([KLINIEK_BEZETTING_NONCOVID] IN ('', 'NA'), NULL, TRIM([KLINIEK_BEZETTING_NONCOVID])),\n",
                "        IIF([IC_OPNAMES_COVID] IN ('', 'NA'), NULL, TRIM([IC_OPNAMES_COVID])),\n",
                "        IIF([KLINIEK_OPNAMES_COVID] IN ('', 'NA'), NULL, TRIM([KLINIEK_OPNAMES_COVID]))\n",
                "    FROM \n",
                "        [VWSSTAGE].[LNAZ_HOSPITAL_BED_OCCUPANCY_2023]\n",
                "    WHERE [DATE_LAST_INSERTED] = (SELECT MAX([DATE_LAST_INSERTED]) FROM [VWSSTAGE].[LNAZ_HOSPITAL_BED_OCCUPANCY_2023])\n",
                "END;\n",
                "GO\n"
            ]
        },
        {
            "attachments": {},
            "cell_type": "markdown",
            "metadata": {
                "azdata_cell_guid": "4285b14f-17c1-4e48-ad9e-49365e008058"
            },
            "source": [
                "### INTERMEDIATE &rarr; DESTINATION MAPPING"
            ]
        },
        {
            "attachments": {},
            "cell_type": "markdown",
            "metadata": {},
            "source": [
                "> OLD HOSPITAL_BED_OCCUPANCY"
            ]
        },
        {
            "cell_type": "code",
            "execution_count": null,
            "metadata": {
                "azdata_cell_guid": "ef39c170-5229-4d50-8a83-fe1f3e71365a",
                "dotnet_interactive": {
                    "language": "sql"
                },
                "tags": [
                    "hide_input"
                ]
            },
            "outputs": [],
            "source": [
                "-- COPYRIGHT (C) 2020 DE STAAT DER NEDERLANDEN, MINISTERIE VAN VOLKSGEZONDHEID, WELZIJN EN SPORT.\n",
                "-- LICENSED UNDER THE EUROPEAN UNION PUBLIC LICENCE V. 1.2 - SEE HTTPS://GITHUB.COM/MINVWS/NL-CONTACT-TRACING-APP-COORDINATION FOR MORE INFORMATION.\n",
                "\n",
                "-- 1) CREATE STORE PROCEDURE(S) INTER -> DEST.....\n",
                "CREATE OR ALTER PROCEDURE [dbo].[SP_HOSPITAL_BED_OCCUPANCY]\n",
                "AS\n",
                "BEGIN\n",
                "    INSERT INTO VWSDEST.HOSPITAL_BED_OCCUPANCY\n",
                "        (   [DATE_OF_REPORT],\n",
                "\t        [DATE_OF_REPORT_UNIX],\n",
                "            [IC_BEDS_OCCUPIED_COVID],\n",
                "            [IC_BEDS_OCCUPIED_NON_COVID],\n",
                "            [IC_BEDS_OCCUPIED_COVID_PERCENTAGE],\n",
                "            [NON_IC_BEDS_OCCUPIED_COVID],\n",
                "            [IC_INFLUX_COVID],\n",
                "            [NON_IC_INFLUX_COVID]\n",
                "        )\n",
                "    SELECT\n",
                "        [DATUM] AS DATE_OF_REPORT,\n",
                "        dbo.CONVERT_DATETIME_TO_UNIX(DATUM) AS DATE_OF_REPORT_UNIX,\n",
                "        [IC_BEDDEN_COVID] AS IC_BEDS_OCCUPIED_COVID,\n",
                "        [IC_BEDDEN_NON_COVID] AS IC_BEDS_OCCUPIED_NON_COVID,\n",
                "        --If either IC_BEDDEN_COVID or IC_BEDDEN_NON_COVID equals NULL, NULL is the result of the line below\n",
                "        ROUND((CAST([IC_BEDDEN_COVID] as DECIMAL)/([IC_BEDDEN_NON_COVID]+[IC_BEDDEN_COVID]) * 100.0),2) AS IC_BEDS_OCCUPIED_COVID_PERCENTAGE,\n",
                "        [KLINIEK_BEDDEN] AS NON_IC_BEDS_OCCUPIED_COVID,\n",
                "        [IC_NIEUWE_OPNAMES_COVID],\n",
                "        [KLINIEK_NIEUWE_OPNAMES_COVID]\n",
                "    FROM\n",
                "       VWSINTER.LNAZ_HOSPITAL_BED_OCCUPANCY\n",
                "    WHERE DATE_LAST_INSERTED = (SELECT MAX(DATE_LAST_INSERTED) FROM VWSINTER.LNAZ_HOSPITAL_BED_OCCUPANCY)\n",
                "END;\n",
                "GO\n"
            ]
        },
        {
            "attachments": {},
            "cell_type": "markdown",
            "metadata": {},
            "source": [
                "> NEW HOSPITAL_BED_OCCUPANCY"
            ]
        },
        {
            "cell_type": "code",
            "execution_count": null,
            "metadata": {},
            "outputs": [],
            "source": [
                "-- COPYRIGHT (C) 2020 DE STAAT DER NEDERLANDEN, MINISTERIE VAN VOLKSGEZONDHEID, WELZIJN EN SPORT.\n",
                "-- LICENSED UNDER THE EUROPEAN UNION PUBLIC LICENCE V. 1.2 - SEE HTTPS://GITHUB.COM/MINVWS/NL-CONTACT-TRACING-APP-COORDINATION FOR MORE INFORMATION.\n",
                "\n",
                "-- 1) CREATE STORE PROCEDURE(S) INTER -> DEST.....\n",
                "CREATE OR ALTER PROCEDURE [DBO].[SP_LNAZ_HOSPITAL_BED_OCCUPANCY_2023_INTER_TO_DEST]\n",
                "AS\n",
                "BEGIN\n",
                "    INSERT INTO [VWSDEST].[LNAZ_HOSPITAL_BED_OCCUPANCY_2023] (\n",
                "        [DATE_OF_REPORT],\n",
                "        [DATE_OF_REPORT_UNIX],\n",
                "        [IC_BEDS_OCCUPIED_COVID],\n",
                "        [IC_BEDS_OCCUPIED_NON_COVID],\n",
                "        [IC_BEDS_OCCUPIED_COVID_PERCENTAGE],\n",
                "        [NON_IC_BEDS_OCCUPIED_COVID],\n",
                "        [IC_INFLUX_COVID],\n",
                "        [NON_IC_INFLUX_COVID]\n",
                "    )\n",
                "    SELECT \n",
                "        [DATUM]                                                                                                 AS DATE_OF_REPORT,\n",
                "        dbo.CONVERT_DATETIME_TO_UNIX([DATUM])                                                                   AS DATE_OF_REPORT_UNIX,\n",
                "        [IC_BEZETTING_COVID]                                                                                    AS IC_BEDS_OCCUPIED_COVID,\n",
                "        [IC_BEZETTING_NONCOVID]                                                                                 AS IC_BEDS_OCCUPIED_NON_COVID,\n",
                "        --If either IC_BEDDEN_COVID or IC_BEDDEN_NON_COVID equals NULL, NULL is the result of the line below\n",
                "        ROUND((CAST([IC_BEZETTING_COVID] as DECIMAL)/([IC_BEZETTING_NONCOVID]+[IC_BEZETTING_COVID]) * 100.0),2) AS IC_BEDS_OCCUPIED_COVID_PERCENTAGE,\n",
                "        [KLINIEK_BEZETTING_COVID]                                                                               AS NON_IC_BEDS_OCCUPIED_COVID,\n",
                "        [IC_OPNAMES_COVID]                                                                                      AS IC_INFLUX_COVID,\n",
                "        [KLINIEK_OPNAMES_COVID]                                                                                 AS NON_IC_INFLUX_COVID\n",
                "    FROM [VWSINTER].[LNAZ_HOSPITAL_BED_OCCUPANCY_2023]\n",
                "    WHERE [DATE_LAST_INSERTED] = (SELECT MAX([DATE_LAST_INSERTED]) FROM [VWSINTER].[LNAZ_HOSPITAL_BED_OCCUPANCY_2023])\n",
                "END\n",
                "GO\n"
            ]
        },
        {
            "cell_type": "markdown",
            "metadata": {
                "azdata_cell_guid": "9ecf89cb-f8c2-4453-90a7-cd43a8ad95fa"
            },
            "source": [
                "# **DATATINO CONFIGURATIONS**\n",
                "---"
            ]
        },
        {
            "cell_type": "markdown",
            "metadata": {
                "azdata_cell_guid": "6bb89854-ad60-462a-b01c-21043bcf8c39"
            },
            "source": [
                "### WORKFLOWS"
            ]
        },
        {
            "attachments": {},
            "cell_type": "markdown",
            "metadata": {},
            "source": [
                "> OLD HOSPITAL_BED_OCCUPANCY"
            ]
        },
        {
            "cell_type": "code",
            "execution_count": null,
            "metadata": {
                "azdata_cell_guid": "6d3bf3a9-286f-49d0-b60a-926a9b6eb8c3",
                "dotnet_interactive": {
                    "language": "sql"
                },
                "tags": [
                    "hide_input"
                ]
            },
            "outputs": [],
            "source": [
                "-- COPYRIGHT (C) 2020 DE STAAT DER NEDERLANDEN, MINISTERIE VAN   VOLKSGEZONDHEID, WELZIJN EN SPORT.\n",
                "-- LICENSED UNDER THE EUROPEAN UNION PUBLIC LICENCE V. 1.2 - SEE HTTPS://GITHUB.COM/MINVWS/NL-CONTACT-TRACING-APP-COORDINATIONFOR MORE INFORMATION.\n",
                "\n",
                "-- 1) UPSERT WORKFLOW(S).....\n",
                "DECLARE @workflow_name NVARCHAR(50) = 'LNAZ_HOSPITAL_BED_OCCUPANCY',\n",
                "        @workflow_id INT,        \n",
                "        @workflow_description VARCHAR(256),\n",
                "        @is_active INT;\n",
                "\n",
                "-- 1.1) SET ENVIRONMENTAL VARIABLES.....\n",
                "SET @is_active = CASE LOWER('#{ Environment }#')\n",
                "    WHEN 'production' THEN 1\n",
                "    WHEN 'acceptance' THEN 1\n",
                "    ELSE 1\n",
                "END;\n",
                "\n",
                "SET @workflow_id = NULL;\n",
                "\n",
                "SELECT TOP(1)\n",
                "    @workflow_id = workflows.[ID]\n",
                "FROM [DATATINO_ORCHESTRATOR_1].[WORKFLOWS] workflows\n",
                "INNER JOIN [DATATINO_ORCHESTRATOR_1].[V_WORKFLOWS] v_workflows ON v_workflows.[DATAFLOW_ID] = workflows.[DATAFLOW_ID] AND v_workflows.[ID] = workflows.[ID]\n",
                "WHERE v_workflows.[NAME] = @workflow_name;\n",
                "\n",
                "SET @workflow_description = CONCAT('WORKFLOW: ', @workflow_name);\n",
                "\n",
                "EXECUTE [DATATINO_ORCHESTRATOR_1].[UPSERT_WORKFLOW]\n",
                "    @id = @workflow_id, \n",
                "    @workflow_name = @workflow_name,\n",
                "    @description = @workflow_description,\n",
                "    @schedule = '0 13,14 * * MON-FRI',\n",
                "    @active = @is_active;\n",
                "\n",
                "-- 2) UPSERT SOURCE(S).....\n",
                "DECLARE @source NVARCHAR(256),\n",
                "        @source_id INT,\n",
                "        @source_name NVARCHAR(256),\n",
                "        @source_description NVARCHAR(256),\n",
                "        @target_name VARCHAR(256),\n",
                "        @location_type VARCHAR(50),\n",
                "        @security_profile VARCHAR(50);\n",
                "\n",
                "-- 2.1) SET ENVIRONMENTAL VARIABLES.....\n",
                "SET @source = CASE LOWER('#{ Environment }#')\n",
                "    WHEN 'production' THEN 'datafiles/VWS/covid-19-datafeed-oud-v1.csv'\n",
                "    WHEN 'acceptance' THEN 'datafiles/VWS/covid-19-datafeed-oud-v1.csv'\n",
                "    ELSE 'datafiles/VWS/covid-19-datafeed-oud-v1.csv'\n",
                "END;\n",
                "\n",
                "SET @location_type = CASE LOWER('#{ Environment }#')\n",
                "    WHEN 'production' THEN 'AzureBlob'\n",
                "    WHEN 'acceptance' THEN 'AzureBlob'\n",
                "    ELSE 'AzureBlob'\n",
                "END;\n",
                "\n",
                "SET @security_profile = CASE LOWER('#{ Environment }#')\n",
                "    WHEN 'production' THEN 'N/A'\n",
                "    WHEN 'acceptance' THEN 'N/A'\n",
                "    ELSE 'N/A'\n",
                "END;\n",
                "\n",
                "-- 2.2) UPSERT TABLE SOURCE(S): STAGING......\n",
                "SET @source_id = NULL;\n",
                "SET @source_name = 'SOURCE_Load_Hospital_Bed_Occupancy';\n",
                "SET @source_description = 'Loads bed occupancy data into target table';\n",
                "SET @target_name = CONCAT('VWSSTAGE.', @workflow_name);\n",
                "\n",
                "SELECT TOP(1)\n",
                "    @source_id = [ID]\n",
                "FROM [DATATINO_ORCHESTRATOR_1].[SOURCES]\n",
                "WHERE [NAME] = @source_name;\n",
                "\n",
                "EXECUTE [DATATINO_ORCHESTRATOR_1].[UPSERT_SOURCE]\n",
                "    @id = @source_id,\n",
                "    @source_name = @source_name,\n",
                "    @description = @source_description,\n",
                "    @source = @source,\n",
                "    @source_columns = 'Datum|IC_Bedden_COVID_Nederland|IC_Bedden_Non_COVID_Nederland|Kliniek_Bedden_Nederland|IC_Nieuwe_Opnames_COVID_Nederland|Kliniek_Nieuwe_Opnames_COVID_Nederland',\n",
                "    @target_columns = 'DATUM|IC_BEDDEN_COVID|IC_BEDDEN_NON_COVID|KLINIEK_BEDDEN|IC_NIEUWE_OPNAMES_COVID|KLINIEK_NIEUWE_OPNAMES_COVID|DATE_LAST_INSERTED=GETDATE',\n",
                "    @target_name = @target_name,\n",
                "    @source_type = 'CsvFile',\n",
                "    @location_type = @location_type,\n",
                "    @delimiter_type = 'Colon',\n",
                "    @security_profile= @security_profile;\n",
                "\n",
                "-- 2.3) UPSERT STORED PROCEDURE SOURCE(S): STAGE TO INTER......\n",
                "SET @source_id = NULL;\n",
                "SET @source = 'DBO.SP_LNAZ_HOSPITAL_BED_OCCUPANCY_INTER';\n",
                "SET @source_name = 'SOURCE_Inter_Hospital_Bed_Occupancy';\n",
                "SET @source_description = 'Move bed occupancy data from stage table to intermediate table';\n",
                "\n",
                "SELECT TOP(1)\n",
                "    @source_id = [ID]\n",
                "FROM [DATATINO_ORCHESTRATOR_1].[SOURCES]\n",
                "WHERE [NAME] = @source_name;\n",
                "\n",
                "EXECUTE [DATATINO_ORCHESTRATOR_1].[UPSERT_SOURCE]\n",
                "    @id = @source_id,\n",
                "    @source_name = @source_name,\n",
                "    @description = @source_description,\n",
                "    @source = @source,\n",
                "    @source_columns = null,\n",
                "    @target_columns = null,\n",
                "    @target_name = null,\n",
                "    @source_type = 'StoredProcedure',\n",
                "    @location_type = 'N/A',\n",
                "    @delimiter_type = 'N/A',\n",
                "    @security_profile= @security_profile;\n",
                "\n",
                "-- 2.4) UPSERT STORED PROCEDURE SOURCE(S): INTER TO DEST.....\n",
                "SET @source_id = NULL;\n",
                "SET @source = 'DBO.SP_HOSPITAL_BED_OCCUPANCY';\n",
                "SET @source_name = 'SOURCE_Dest_Hospital_Bed_Occupancy';\n",
                "SET @source_description = 'Move bed occupancy data from intermediate table to dest table';\n",
                "\n",
                "SELECT TOP(1)\n",
                "    @source_id = [ID]\n",
                "FROM [DATATINO_ORCHESTRATOR_1].[SOURCES]\n",
                "WHERE [NAME] = @source_name;\n",
                "\n",
                "EXECUTE [DATATINO_ORCHESTRATOR_1].[UPSERT_SOURCE]\n",
                "    @id = @source_id,\n",
                "    @source_name = @source_name,\n",
                "    @description = @source_description,\n",
                "    @source = @source,\n",
                "    @source_columns = null,\n",
                "    @target_columns = null,\n",
                "    @target_name = null,\n",
                "    @source_type = 'StoredProcedure',\n",
                "    @location_type = 'N/A',\n",
                "    @delimiter_type = 'N/A',\n",
                "    @security_profile= @security_profile;\n",
                "\n",
                "-- 3) UPSERT PROCESS(ES).....\n",
                "DECLARE @process_id INT,\n",
                "        @process_name NVARCHAR(256),\n",
                "        @process_description NVARCHAR(256),\n",
                "        @process_source_name VARCHAR(256);\n",
                "\n",
                "-- 2.1) UPSERT TABLE PROCESS(ES): STAGING......\n",
                "SET @process_id = NULL;\n",
                "SET @process_name = 'PROCESS_Load_Hospital_Bed_Occupancy';\n",
                "SET @process_description = 'Loads bed occupancy data into target table';\n",
                "SET @process_source_name = 'SOURCE_Load_Hospital_Bed_Occupancy';\n",
                "\n",
                "SELECT TOP(1)\n",
                "    @process_id = processes.[ID]\n",
                "FROM [DATATINO_ORCHESTRATOR_1].[PROCESSES] processes\n",
                "INNER JOIN [DATATINO_ORCHESTRATOR_1].[V_WORKFLOWS] v_workflows ON v_workflows.[ID] = processes.[WORKFLOW_ID]\n",
                "INNER JOIN [DATATINO_ORCHESTRATOR_1].[V_PROCESSES] v_processes ON v_processes.[PROCESS_ID] = processes.[ID]\n",
                "WHERE v_processes.[PROCESS_NAME] = @process_name \n",
                "    AND v_workflows.[NAME] = @workflow_name;\n",
                "\n",
                "EXECUTE [DATATINO_ORCHESTRATOR_1].[UPSERT_PROCESS]\n",
                "    @id = @process_id,\n",
                "    @process_name = @process_name,\n",
                "    @description = @process_description,\n",
                "    @source_name = @process_source_name,\n",
                "    @schedule = '* * * * *',\n",
                "    @workflow_name = @workflow_name,\n",
                "    @active = 1;\n",
                "\n",
                "-- 3.2) UPSERT STORED PROCEDURE PROCESS(S): STAGE TO INTER......\n",
                "SET @process_id = NULL;\n",
                "SET @process_name = 'PROCESS_Inter_Hospital_Bed_Occupancy';\n",
                "SET @process_description = 'Move bed occupancy data from stage table to intermediate table';\n",
                "SET @process_source_name = 'SOURCE_Inter_Hospital_Bed_Occupancy';\n",
                "\n",
                "SELECT TOP(1)\n",
                "    @process_id = processes.[ID]\n",
                "FROM [DATATINO_ORCHESTRATOR_1].[PROCESSES] processes\n",
                "INNER JOIN [DATATINO_ORCHESTRATOR_1].[V_WORKFLOWS] v_workflows ON v_workflows.[ID] = processes.[WORKFLOW_ID]\n",
                "INNER JOIN [DATATINO_ORCHESTRATOR_1].[V_PROCESSES] v_processes ON v_processes.[PROCESS_ID] = processes.[ID]\n",
                "WHERE v_processes.[PROCESS_NAME] = @process_name \n",
                "    AND v_workflows.[NAME] = @workflow_name;\n",
                "\n",
                "EXECUTE [DATATINO_ORCHESTRATOR_1].[UPSERT_PROCESS]\n",
                "    @id = @process_id,\n",
                "    @process_name = @process_name,\n",
                "    @description = @process_description,\n",
                "    @source_name = @process_source_name,\n",
                "    @schedule = '* * * * *',\n",
                "    @workflow_name = @workflow_name,\n",
                "    @active = 1;\n",
                "\n",
                "-- 3.3) UPSERT STORED PROCEDURE PROCESS(S): INTER TO DEST......\n",
                "SET @process_id = NULL;\n",
                "SET @process_name = 'PROCESS_Dest_Hospital_Bed_Occupancy';\n",
                "SET @process_description = 'Move bed occupancy data from intermediate table to dest table';\n",
                "SET @process_source_name = 'SOURCE_Dest_Hospital_Bed_Occupancy';\n",
                "\n",
                "SELECT TOP(1)\n",
                "    @process_id = processes.[ID]\n",
                "FROM [DATATINO_ORCHESTRATOR_1].[PROCESSES] processes\n",
                "INNER JOIN [DATATINO_ORCHESTRATOR_1].[V_WORKFLOWS] v_workflows ON v_workflows.[ID] = processes.[WORKFLOW_ID]\n",
                "INNER JOIN [DATATINO_ORCHESTRATOR_1].[V_PROCESSES] v_processes ON v_processes.[PROCESS_ID] = processes.[ID]\n",
                "WHERE v_processes.[PROCESS_NAME] = @process_name \n",
                "    AND v_workflows.[NAME] = @workflow_name;\n",
                "\n",
                "EXECUTE [DATATINO_ORCHESTRATOR_1].[UPSERT_PROCESS]\n",
                "    @id = @process_id,\n",
                "    @process_name = @process_name,\n",
                "    @description = @process_description,\n",
                "    @source_name = @process_source_name,\n",
                "    @schedule = '* * * * *',\n",
                "    @workflow_name = @workflow_name,\n",
                "    @active = 1;\n",
                "\n",
                "-- 4) UPSERT DEPENDENC(Y)(IES).....\n",
                "DECLARE @dependency_id INT,\n",
                "        @dependency_name NVARCHAR(256),\n",
                "        @dependency_description NVARCHAR(256),\n",
                "        @dependency_dataflow_name NVARCHAR(256),\n",
                "        @dependency_process_name NVARCHAR(256);\n",
                "\n",
                "-- 4.1) UPSERT STAGING TO STORE PROCEDURE DEPENDENC(Y)(IES).....\n",
                "SET @dependency_id = NULL;\n",
                "SET @dependency_name = 'DEPENDENCY_PROCESS_Inter_Hospital_Bed_Occupancy';\n",
                "SET @dependency_dataflow_name = 'PROCESS_Inter_Hospital_Bed_Occupancy';\n",
                "SET @dependency_process_name = 'PROCESS_Load_Hospital_Bed_Occupancy';\n",
                "SET @dependency_description = 'Dependency for PROCESS_Inter_Hospital_Bed_Occupancy';\n",
                "\n",
                "SELECT TOP(1)\n",
                "    @dependency_id = dependencies.[ID]\n",
                "FROM [DATATINO_ORCHESTRATOR_1].[DEPENDENCIES] dependencies\n",
                "INNER JOIN [DATATINO_ORCHESTRATOR_1].[V_DEPENDENCIES] v_dependencies ON v_dependencies.[ID] = dependencies.[ID]\n",
                "WHERE dependencies.[NAME] = @dependency_name\n",
                "    AND v_dependencies.[WORKFLOW_NAME] = @workflow_name;\n",
                "\n",
                "EXECUTE [DATATINO_ORCHESTRATOR_1].[UPSERT_DEPENDENCY]\n",
                "    @id = @dependency_id,\n",
                "    @dataflow_name = @dependency_dataflow_name,\n",
                "    @dataflowtype_id = 2,\n",
                "    @dependency_name = @dependency_process_name,\n",
                "    @dependencytype_id = 2,\n",
                "    @workflow_name = @workflow_name,\n",
                "    @name = @dependency_name,\n",
                "    @description = @dependency_description,\n",
                "    @active = 1;\n",
                "\n",
                "-- 4.2) UPSERT STORED PROCEDURE TO STORED PROCEDURE DEPENDENC(Y)(IES)......\n",
                "SET @dependency_id = NULL;\n",
                "SET @dependency_name = 'DEPENDENCY_PROCESS_Dest_Hospital_Bed_Occupancy';\n",
                "SET @dependency_dataflow_name = 'PROCESS_Dest_Hospital_Bed_Occupancy';\n",
                "SET @dependency_process_name = 'PROCESS_Inter_Hospital_Bed_Occupancy';\n",
                "SET @dependency_description = 'Dependency for PROCESS_Dest_Hospital_Bed_Occupancy';\n",
                "\n",
                "SELECT TOP(1)\n",
                "    @dependency_id = dependencies.[ID]\n",
                "FROM [DATATINO_ORCHESTRATOR_1].[DEPENDENCIES] dependencies\n",
                "INNER JOIN [DATATINO_ORCHESTRATOR_1].[V_DEPENDENCIES] v_dependencies ON v_dependencies.[ID] = dependencies.[ID]\n",
                "WHERE dependencies.[NAME] = @dependency_name\n",
                "    AND v_dependencies.[WORKFLOW_NAME] = @workflow_name;\n",
                "\n",
                "EXECUTE [DATATINO_ORCHESTRATOR_1].[UPSERT_DEPENDENCY]\n",
                "    @id = @dependency_id,\n",
                "    @dataflow_name = @dependency_dataflow_name,\n",
                "    @dataflowtype_id = 2,\n",
                "    @dependency_name = @dependency_process_name,\n",
                "    @dependencytype_id = 2,\n",
                "    @workflow_name = @workflow_name,\n",
                "    @name = @dependency_name,\n",
                "    @description = @dependency_description,\n",
                "    @active = 1;\n",
                "GO"
            ]
        },
        {
            "attachments": {},
            "cell_type": "markdown",
            "metadata": {},
            "source": [
                "> NEW HOSPITAL_BED_OCCUPANCY"
            ]
        }
    ],
    "metadata": {
        "kernelspec": {
            "display_name": "SQL",
            "language": "sql",
            "name": "SQL"
        },
        "language_info": {
            "name": "sql",
            "version": ""
        }
    },
    "nbformat": 4,
    "nbformat_minor": 2
}
