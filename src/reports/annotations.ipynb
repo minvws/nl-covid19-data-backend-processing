{
    "cells": [
        {
            "cell_type": "markdown",
            "metadata": {
                "azdata_cell_guid": "a1bff903-eb61-4e65-82a1-c4e918bbcac8"
            },
            "source": [
                "# **INTRODUCTIONS**\n",
                "\n",
                "---\n",
                "\n",
                "The code is separated into multiple sections:\n",
                "\n",
                "1. **[Tables](#tables)**\n",
                "2. **[Views](#views)**"
            ]
        },
        {
            "cell_type": "markdown",
            "metadata": {},
            "source": [
                "# **DEPENDENCIES**\n",
                "\n",
                "---\n",
                "\n",
                "```json\n",
                "{\n",
                "    \"depends-on\": [\n",
                "        \"src/utils/schemas.ipynb\"\n",
                "    ]\n",
                "}\n",
                "```"
            ]
        },
        {
            "cell_type": "markdown",
            "metadata": {
                "azdata_cell_guid": "b883932e-c47b-4de6-9629-eca0ff8aeabb"
            },
            "source": [
                "# **TABLES**\n",
                "\n",
                "---"
            ]
        },
        {
            "cell_type": "markdown",
            "metadata": {},
            "source": [
                "### REPORTS"
            ]
        },
        {
            "cell_type": "code",
            "execution_count": null,
            "metadata": {},
            "outputs": [],
            "source": [
                "-- COPYRIGHT (C) 2020 DE STAAT DER NEDERLANDEN, MINISTERIE VAN VOLKSGEZONDHEID, WELZIJN EN SPORT.\n",
                "-- LICENSED UNDER THE EUROPEAN UNION PUBLIC LICENCE V. 1.2 - SEE HTTPS://GITHUB.COM/MINVWS/NL-CONTACT-TRACING-APP-COORDINATION FOR MORE INFORMATION.\n",
                "\n",
                "SET ANSI_NULLS ON\n",
                "GO\n",
                "\n",
                "SET QUOTED_IDENTIFIER ON\n",
                "GO\n",
                "\n",
                "-- 1) CREATE REPORT TABLE(S).....\n",
                "DROP TABLE IF EXISTS [VWSREPORT].[ANNOTATIONS];\n",
                "GO\n",
                "\n",
                "CREATE TABLE [VWSREPORT].[ANNOTATIONS]\n",
                "(\n",
                "    [ID] [INT] PRIMARY KEY IDENTITY(1,1),\n",
                "    [START_DATE] [VARCHAR](256) NOT NULL,\n",
                "    [END_DATE] [VARCHAR](256) NULL,\n",
                "    [TITLE] [VARCHAR](256) NULL,\n",
                "    [DESCRIPTION] [VARCHAR](MAX) NULL,\n",
                "    [CATEGORY] [VARCHAR](256) NULL,\n",
                "    [SHORT_DESCRIPTION] [VARCHAR](512) NULL,\n",
                "    [LONG_DESCRIPTION] [VARCHAR](MAX) NULL\n",
                ");\n",
                "GO\n",
                "\n",
                "-- 2) CREATE REPORT INDEX(ES).....\n",
                "CREATE NONCLUSTERED INDEX [NCIX_SD_AND_ED] ON [VWSREPORT].[ANNOTATIONS] (\n",
                "    [START_DATE],\n",
                "    [END_DATE]\n",
                ") WITH (STATISTICS_NORECOMPUTE = OFF, DROP_EXISTING = OFF, ONLINE = OFF, OPTIMIZE_FOR_SEQUENTIAL_KEY = OFF) ON [PRIMARY];\n",
                "GO\n",
                "\n",
                "-- 3) INSERT REPORT RECORD(S).....\n",
                "INSERT INTO [VWSREPORT].[ANNOTATIONS]  (\n",
                "    [START_DATE],\n",
                "    [END_DATE],\n",
                "    [TITLE],\n",
                "    [DESCRIPTION],\n",
                "    [CATEGORY],\n",
                "    [SHORT_DESCRIPTION],\n",
                "    [LONG_DESCRIPTION]\n",
                ")\n",
                "VALUES\n",
                "    ('02-03-2020', '31-05-2020','Beperkte testcapaciteit','Nog niet iedereen kon zich laten testen. Het aantal positieve testen in daardoor laag.','Gebeurtenissen','2-3-2020 - 31-5-2020\\nBeperkte testcapaciteit', '2-3-2020 - 31-5-2020\\nBeperkte testcapaciteit\\nNog niet iedereen kon zich laten testen. Het aantal positieve testen in daardoor laag.'),\n",
                "    ('09-03-2020', '15-03-2020','De eerste maatregelen gaan in,','Het kabinet stelt basisregels in: handen wassen, niezen in de elleboog, geen handen schudden, afstand houden, thuisblijven bij klachten. Verschillende maatregelen gaan in: geen bijeenkomsten met meer dan 100 mensen. Horeca, scholen en kinderopvang, sportclubs dicht. Thuiswerken.','Maatregelen','9-3-2020 - 15-3-2020\\nDe eerste maatregelen gaan in,', '9-3-2020 - 15-3-2020\\nDe eerste maatregelen gaan in \\nHet kabinet stelt basisregels in: handen wassen, niezen in de elleboog, geen handen schudden, afstand houden, thuisblijven bij klachten. Verschillende maatregelen gaan in: geen bijeenkomsten met meer dan 100 mensen. Horeca, scholen en kinderopvang, sportclubs dicht. Thuiswerken.'),\n",
                "    ('23-03-2020', '31-05-2020','Intelligente lockdown','Iedereen moet zo veel mogelijk thuisblijven. Maximaal 3 mensen op bezoek. Alle bijeenkomsten zijn verboden behalve begrafenissen en kerkelijke bruiloften. Uitoefenen van contactberoepen verboden.', NULL, '23-3-2020 - 31-5-2020\\nIntelligente lockdown','23-3-2020 - 31-5-2020\\nIntelligente lockdown\\nIedereen moet zo veel mogelijk thuisblijven. Maximaal 3 mensen op bezoek. Alle bijeenkomsten zijn verboden behalve begrafenissen en kerkelijke bruiloften. Uitoefenen van contactberoepen verboden.'),\n",
                "    ('06-05-2020', '18-05-2020','Testen bij klachten voor bepaalde beroepen','Verschillende beroepsgroepen kunnen zich laten testen bij klachten: leraren en medewerkers kinderopvang (vanaf 6 mei), mensen met een contactberoep (vanaf 11 mei), mantelzorgers, personeel openbaar vervoer en medewerkers politie, marechaussee en andere handhavers (vanaf 18 mei).', NULL,'6-5-2020 - 18-5-2020\\nTesten bij klachten voor bepaalde beroepen', '6-5-2020 - 18-5-2020\\nTesten bij klachten voor bepaalde beroepen\\nVerschillende beroepsgroepen kunnen zich laten testen bij klachten: leraren en medewerkers kinderopvang (vanaf 6 mei), mensen met een contactberoep (vanaf 11 mei), mantelzorgers, personeel openbaar vervoer en medewerkers politie, marechaussee en andere handhavers (vanaf 18 mei).'),\n",
                "    ('01-06-2020', '08-06-2020','Versoepeling maatregelen en testen voor iedereen','Horeca, theaters en musea mogen open onder voorwaarden. Mondkapje verplicht in het openbaar vervoer. Iedereen met klachten kan zich laten testen. Voortgezet onderwijs open (vanaf 2 juni). Basisscholen en kinderopvang open (vanaf 8 juni).', NULL,'1-6-2020 - 8-6-2020\\nVersoepeling maatregelen en testen voor iedereen', '1-6-2020 - 8-6-2020\\nVersoepeling maatregelen en testen voor iedereen\\nHoreca, theaters en musea mogen open onder voorwaarden. Mondkapje verplicht in het openbaar vervoer. Iedereen met klachten kan zich laten testen. Voortgezet onderwijs open (vanaf 2 juni). Basisscholen en kinderopvang open (vanaf 8 juni).'),\n",
                "    ('01-07-2020', NULL, 'Verdere versoepeling maatregelen','Afstand houden blijft de norm, behalve voor kinderen tot 18 jaar onderling. Evenementen toegestaan. Geen maximumaantal bezoekers in doorstroomlocaties. Geen maximumaantal bezoekers in binnen- en buitenruimtes met vaste zitplaats en gezondheidscheck.', NULL,'1-7-2020\\nVerdere versoepeling maatregelen', '1-7-2020\\nVerdere versoepeling maatregelen\\nAfstand houden blijft de norm, behalve voor kinderen tot 18 jaar onderling. Evenementen toegestaan. Geen maximumaantal bezoekers in doorstroomlocaties. Geen maximumaantal bezoekers in binnen- en buitenruimtes met vaste zitplaats en gezondheidscheck.'),\n",
                "    ('18-08-2020', NULL,'Strengere maatregelen,','Maximaal 6 mensen thuis op bezoek.', NULL,'18-8-2020\\nStrengere maatregelen,', '18-8-2020\\nStrengere maatregelen \\nMaximaal 6 mensen thuis op bezoek.'),\n",
                "    ('31-08-2020', NULL,'Alle scholen weer open,','Alle scholen in het primair en voortgezet onderwijs zijn weer volledig open.', NULL,'31-8-2020\\nAlle scholen weer open', '31-8-2020\\nAlle scholen weer open \\nAlle scholen in het primair en voortgezet onderwijs zijn weer volledig open.'),\n",
                "    ('20-09-2020', NULL,'Extra maatregelen in 6 van de 25 veiligheidsregio''s','In de veiligheidsregio''s Amsterdam-Amstelland, Haaglanden, Hollands-Midden, Kennemerland, Rotterdam-Rijnmond en Utrecht gaan extra maatregelen gelden: horeca eerder dicht, beperking groepsgrootte.,', NULL,'20-9-2020\\nExtra maatregelen in 6 van de 25 veiligheidsregio''s', '20-9-2020\\nExtra maatregelen in 6 van de 25 veiligheidsregio''s\\nIn de veiligheidsregio''s Amsterdam-Amstelland, Haaglanden, Hollands-Midden, Kennemerland, Rotterdam-Rijnmond en Utrecht gaan extra maatregelen gelden: horeca eerder dicht, beperking groepsgrootte.'),\n",
                "    ('27-09-2020', NULL,'Extra maatregelen in 14 van de 25 veiligheidsregio''s','Sinds een week gelden meer maatregelen in zes regio''s. Daar komen acht regio''s bij: Brabant-Noord, Brabant Zuidoost, Flevoland, Gelderland-Zuid, Gooi en Vechtstreek, Groningen, Zaanstreek-Waterland en Zuid-Holland Zuid. Hier geldt: horeca eerder dicht, beperking groepsgrootte.', NULL,'27-9-2020\\nExtra maatregelen in 14 van de 25 veiligheidsregio''s', '27-9-2020\\nExtra maatregelen in 14 van de 25 veiligheidsregio''s\\nSinds een week gelden meer maatregelen in zes regio''s. Daar komen acht regio''s bij: Brabant-Noord, Brabant Zuidoost, Flevoland, Gelderland-Zuid, Gooi en Vechtstreek, Groningen, Zaanstreek-Waterland en Zuid-Holland Zuid. Hier geldt: horeca eerder dicht, beperking groepsgrootte.'),\n",
                "    ('29-09-2020', NULL,'Aanscherping maatregelen','Maximaal 3 mensen op bezoek. Beperking groepsgrootte. Horeca eerder dicht. Geen publiek bij sportwedstrijden.', NULL,'29-9-2020\\nAanscherping maatregelen', '29-9-2020\\nAanscherping maatregelen\\nMaximaal 3 mensen op bezoek. Beperking groepsgrootte. Horeca eerder dicht. Geen publiek bij sportwedstrijden.'),\n",
                "    ('14-10-2020', NULL,'Gedeeltelijke lockdown,','Onder andere: Restaurants en cafés dicht. Geen alcoholverkoop tussen 20.00 en 7.00 uur. Evenementen verboden. Sporten beperkt mogelijk, wedstrijden niet toegestaan. Dringend advies voor mondkapje in publieke binnenruimtes.,', NULL,'14-10-2020\\nGedeeltelijke lockdown,', '14-10-2020\\nGedeeltelijke lockdown \\nOnder andere: Restaurants en cafés dicht. Geen alcoholverkoop tussen 20.00 en 7.00 uur. Evenementen verboden. Sporten beperkt mogelijk, wedstrijden niet toegestaan. Dringend advies voor mondkapje in publieke binnenruimtes.,'),\n",
                "    ('04-11-2020', '18-11-2020','Verzwaring gedeeltelijke lockdown,','Maximaal 2 mensen per dag op bezoek. Groepsgrootte binnen en buiten maximaal 2 mensen. Maximaal 30 mensen bij een uitvaart, 20 bij een huwelijk. Publiek toegankelijke locaties dicht, behalve hotels, sportscholen, luchthavens, huwelijkslocaties en uitvaartcentra.', NULL,'4-11-2020 - 18-11-2020\\nVerzwaring gedeeltelijke lockdown,', '4-11-2020 - 18-11-2020\\nVerzwaring gedeeltelijke lockdown \\nMaximaal 2 mensen per dag op bezoek. Groepsgrootte binnen en buiten maximaal 2 mensen. Maximaal 30 mensen bij een uitvaart, 20 bij een huwelijk. Publiek toegankelijke locaties dicht, behalve hotels, sportscholen, luchthavens, huwelijkslocaties en uitvaartcentra.'),\n",
                "    ('01-12-2020', NULL,'Testen zonder klachten en mondkapjesplicht','Mensen kunnen zich ook zonder klachten laten testen na een melding uit bron- en contactonderzoek of de CoronaMelder-app. Mondkapje verplicht in alle openbare en overdekte ruimten, in het onderwijs, het openbaar vervoer en bij contactberoepen.', NULL,'1-12-2020\\nTesten zonder klachten en mondkapjesplicht', '1-12-2020\\nTesten zonder klachten en mondkapjesplicht\\nMensen kunnen zich ook zonder klachten laten testen na een melding uit bron- en contactonderzoek of de CoronaMelder-app. Mondkapje verplicht in alle openbare en overdekte ruimten, in het onderwijs, het openbaar vervoer en bij contactberoepen.'),\n",
                "    ('15-12-2020', NULL,'Lockdown','De gedeeltelijke lockdown wordt een volledige lockdown: onderwijs op afstand, uitoefenen contactberoepen verboden, winkels dicht, binnensportlocaties dicht, alle publiek toegankelijke locaties dicht.', NULL,'15-12-2020\\nLockdown', '15-12-2020\\nLockdown\\nDe gedeeltelijke lockdown wordt een volledige lockdown: onderwijs op afstand, uitoefenen contactberoepen verboden, winkels dicht, binnensportlocaties dicht, alle publiek toegankelijke locaties dicht.'),\n",
                "    ('06-01-2021', NULL,'Eerste prik gezet','De vaccinatie tegen COVID-19 is begonnen. Zorgmedewerkers van verpleeghuizen en medewerkers uit de directe COVID-zorg zijn als eerste aan de beurt.', NULL,'6-1-2021\\nEerste prik gezet', '6-1-2021\\nEerste prik gezet\\nDe vaccinatie tegen COVID-19 is begonnen. Zorgmedewerkers van verpleeghuizen en medewerkers uit de directe COVID-zorg zijn als eerste aan de beurt.'),\n",
                "    ('23-01-2021', '27-04-2021','Invoering avondklok,','Er geldt een avondklok: niet naar buiten tussen 21.00 en 04.30 uur (vanaf 31 maart: tussen 22.00 en 04.30 uur). Maximaal 1 persoon per dag thuis op bezoek.', NULL,'23-1-2021 - 27-4-2021\\nInvoering avondklok,', '23-1-2021 - 27-4-2021\\nInvoering avondklok \\nEr geldt een avondklok: niet naar buiten tussen 21.00 en 04.30 uur (vanaf 31 maart: tussen 22.00 en 04.30 uur). Maximaal 1 persoon per dag thuis op bezoek.'),\n",
                "    ('26-01-2021', NULL,'Opmars alfavariant','Het RIVM meldt dat de alfavariant (eerder Britse variant genoemd) steeds vaker gevonden wordt in Nederland. Deze variant is besmettelijker en leidt tot meer ziekenhuisopnames. Om verspreiding tegen te gaan, zijn de maatregelen deze week strenger geworden.', NULL,'26-1-2021\\nOpmars alfavariant', '26-1-2021\\nOpmars alfavariant\\nHet RIVM meldt dat de alfavariant (eerder Britse variant genoemd) steeds vaker gevonden wordt in Nederland. Deze variant is besmettelijker en leidt tot meer ziekenhuisopnames. Om verspreiding tegen te gaan, zijn de maatregelen deze week strenger geworden.'),\n",
                "    ('01-03-2021', '03-03-2021','Voorzichtige verruiming lockdown','Scholen open (vanaf 1 maart). Contactberoepen mogen weer starten, winkels open op afspraak, buiten sporten in groepen toegestaan voor mensen tot 27 jaar (vanaf 3 maart).', NULL,'1-3-2021 - 3-3-2021\\nVoorzichtige verruiming lockdown', '1-3-2021 - 3-3-2021\\nVoorzichtige verruiming lockdown\\nScholen open (vanaf 1 maart). Contactberoepen mogen weer starten, winkels open op afspraak, buiten sporten in groepen toegestaan voor mensen tot 27 jaar (vanaf 3 maart).'),\n",
                "    ('31-03-2021', NULL,'Zelftesten beschikbaar','Mensen kunnen bij zichzelf een sneltest afnemen. Als de uitslag positief is, moetenmensen alsnog een test laten afnemen bij de GGD.', NULL,'31-3-2021\\nZelftesten beschikbaar', '31-3-2021\\nZelftesten beschikbaar\\nMensen kunnen bij zichzelf een sneltest afnemen. Als de uitslag positief is, moetenmensen alsnog een test laten afnemen bij de GGD.'),\n",
                "    ('28-04-2021', NULL,'Stap 1 openingsplan','Hoger onderwijs beperkt open (vanaf 26 april). Einde avondklok. Maximaal 2 bezoekers thuis. Winkels en terrassen open.', NULL,'28-4-2021\\nStap 1 openingsplan', '28-4-2021\\nStap 1 openingsplan\\nHoger onderwijs beperkt open (vanaf 26 april). Einde avondklok. Maximaal 2 bezoekers thuis. Winkels en terrassen open.'),\n",
                "    ('19-05-2021', NULL,'Stap 2 openingsplan','Binnensportlocaties beperkt open, recreatielocaties buiten open, kunst- en cultuurbeoefening binnen beperkt mogelijk, buitenlocaties podiumkunsten open, terrassen langer open.', NULL,'19-5-2021\\nStap 2 openingsplan', '19-5-2021\\nStap 2 openingsplan\\nBinnensportlocaties beperkt open, recreatielocaties buiten open, kunst- en cultuurbeoefening binnen beperkt mogelijk, buitenlocaties podiumkunsten open, terrassen langer open.'),\n",
                "    ('31-05-2021', NULL,'Middelbare scholen open','Middelbare scholen kunnen weer volledig open. Leerlingen hoeven geen afstand te houden. Zelftesten beschikbaar voor personeel en leerlingen.', NULL,'31-5-2021\\nMiddelbare scholen open', '31-5-2021\\nMiddelbare scholen open\\nMiddelbare scholen kunnen weer volledig open. Leerlingen hoeven geen afstand te houden. Zelftesten beschikbaar voor personeel en leerlingen.'),\n",
                "    ('05-06-2021', NULL,'Stap 3 openingsplan','Maximaal 4 bezoekers thuis, groepsgrootte buiten maximaal 4 personen. Culturele instellingen binnen open. Binnenruimtes recreatielocaties open. Verruiming mogelijkheden sport. Horeca binnen open. Meer bezoekers toegestaan met testen voor toegang.', NULL,'5-6-2021\\nStap 3 openingsplan', '5-6-2021\\nStap 3 openingsplan\\nMaximaal 4 bezoekers thuis, groepsgrootte buiten maximaal 4 personen. Culturele instellingen binnen open. Binnenruimtes recreatielocaties open. Verruiming mogelijkheden sport. Horeca binnen open. Meer bezoekers toegestaan met testen voor toegang.'),\n",
                "    ('22-06-2021', NULL,'Deltavariant rukt op','Deltavariant rukt op.', NULL,'22-6-2021\\nDeltavariant rukt op','22-6-2021\\nDeltavariant rukt op\\nDeltavariant rukt op.'),\n",
                "    ('26-06-2021', NULL,'Stap 4 openingsplan','Geen beperkingen aantal bezoekers thuis en groepsgrootte. Mondkapjesplicht vervalt grotendeels. Deels op kantoor werken mogelijk. Amateursportwedstrijden toegestaan, met publiek. Alle locaties en evenementen open onder voorwaarden. Einde verbod alcoholverkoop na 22.00 uur.', NULL,'26-6-2021\\nStap 4 openingsplan', '26-6-2021\\nStap 4 openingsplan\\nGeen beperkingen aantal bezoekers thuis en groepsgrootte.),Mondkapjesplicht vervalt grotendeels. Deels op kantoor werken mogelijk. Amateursportwedstrijden toegestaan, met publiek. Alle locaties en evenementen open onder voorwaarden. Einde verbod alcoholverkoop na 22.00 uur.'),\n",
                "    ('10-07-2021', NULL,'Maatregelen weer strenger','Vaste zitplaats verplicht in horeca, bij evenementen en bij locaties voor cultuur en sport. Discotheken en nachtclubs gesloten. Horeca gesloten tussen 00.00 en 06.00 uur.Toegangstesten korter geldig.', NULL,'10-7-2021\\nMaatregelen weer strenger', '10-7-2021\\nMaatregelen weer strenger\\nVaste zitplaats verplicht in horeca, bij evenementen en bij locaties voor cultuur en sport. Discotheken en nachtclubs gesloten. Horeca gesloten tussen 00.00 en 06.00 uur. Toegangstesten korter geldig.,');\n",
                "GO\n",
                "\n",
                "SET IDENTITY_INSERT [VWSREPORT].[ANNOTATIONS] OFF;\n",
                "GO"
            ]
        },
        {
            "cell_type": "markdown",
            "metadata": {},
            "source": [
                "# **VIEWS**\n",
                "\n",
                "---\n"
            ]
        },
        {
            "cell_type": "code",
            "execution_count": null,
            "metadata": {},
            "outputs": [],
            "source": [
                "-- COPYRIGHT (C) 2020 DE STAAT DER NEDERLANDEN, MINISTERIE VAN VOLKSGEZONDHEID, WELZIJN EN SPORT.\n",
                "-- LICENSED UNDER THE EUROPEAN UNION PUBLIC LICENCE V. 1.2 - SEE HTTPS://GITHUB.COM/MINVWS/NL-CONTACT-TRACING-APP-COORDINATIONFOR MORE INFORMATION.\n",
                "\n",
                "-- 1) CREATE VIEW(S).....\n",
                "CREATE OR ALTER VIEW [VWSREPORT].[V_ANNOTATIONS]\n",
                "AS\n",
                "    SELECT \n",
                "        CONVERT(DATE, [START_DATE], 105) AS [START_DATE],\n",
                "        CONVERT(DATE, [END_DATE], 105) AS [END_DATE],\n",
                "        [TITLE],\n",
                "        [DESCRIPTION],\n",
                "        [CATEGORY],\n",
                "        [SHORT_DESCRIPTION],\n",
                "        [LONG_DESCRIPTION]\n",
                "    FROM [VWSREPORT].[ANNOTATIONS]\n",
                "GO"
            ]
        }
    ],
    "metadata": {
        "kernelspec": {
            "display_name": "SQL",
            "language": "sql",
            "name": "SQL"
        },
        "language_info": {
            "name": "sql",
            "version": ""
        }
    },
    "nbformat": 4,
    "nbformat_minor": 2
}
