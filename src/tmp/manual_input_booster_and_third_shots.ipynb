{
    "cells": [
        {
            "cell_type": "markdown",
            "metadata": {
                "azdata_cell_guid": "a1bff903-eb61-4e65-82a1-c4e918bbcac8"
            },
            "source": [
                "# **INTRODUCTIONS**\n",
                "\n",
                "---\n",
                "\n",
                "Used for exceptional processes.\n",
                "\n",
                "The code is separated into multiple sections:\n",
                "\n",
                "1. **[Views](#views)**\n",
                "2. **[Datatino Configurations](#datatino-configurations)**"
            ]
        },
        {
            "cell_type": "markdown",
            "metadata": {},
            "source": [
                "# **DEPENDENCIES**\n",
                "\n",
                "---\n",
                "\n",
                "```json\n",
                "{\n",
                "    \"depends-on\": [\n",
                "        \"src/dataflows/rivm_booster_shots_administered.ipynb\",        \n",
                "        \"src/dataflows/rivm_booster_shots_coverage.ipynb\",\n",
                "        \"src/dataflows/rivm_third_shots_administered.ipynb\",\n",
                "        \"src/common/schemas.ipynb\"\n",
                "    ]\n",
                "}\n",
                "```"
            ]
        },
        {
            "cell_type": "markdown",
            "metadata": {},
            "source": [
                "# **TABLES**\n",
                "\n",
                "---\n"
            ]
        },
        {
            "cell_type": "code",
            "execution_count": null,
            "metadata": {},
            "outputs": [],
            "source": [
                "-- COPYRIGHT (C) 2020 DE STAAT DER NEDERLANDEN, MINISTERIE VAN   VOLKSGEZONDHEID, WELZIJN EN SPORT.\n",
                "-- LICENSED UNDER THE EUROPEAN UNION PUBLIC LICENCE V. 1.2 - SEE HTTPS://GITHUB.COM/MINVWS/NL-CONTACT-TRACING-APP-COORDINATIONFOR MORE INFORMATION.\n",
                "\n",
                "SET ANSI_NULLS ON\n",
                "GO\n",
                "\n",
                "SET QUOTED_IDENTIFIER ON\n",
                "GO\n",
                "\n",
                "-- 1) CREATE TABLE(S).....\n",
                "DROP TABLE IF EXISTS [VWSSTAGE].[MANUAL_INPUT_BOOSTER_AND_THIRD_SHOTS]\n",
                "\n",
                "CREATE TABLE [VWSSTAGE].[MANUAL_INPUT_BOOSTER_AND_THIRD_SHOTS](\n",
                "\t[ID] [INT] IDENTITY (1,1) NOT NULL,\n",
                "\t[CATEGORY] [NVARCHAR](255) NULL,\n",
                "\t[KEY] [NVARCHAR](255) NULL,\n",
                "\t[VALUE] [NVARCHAR](255) NULL,\n",
                "  \t[DATE_LAST_INSERTED] [DATETIME] NOT NULL DEFAULT GETDATE()\n",
                ");\n",
                "GO;\n",
                "\n",
                "-- 2) CREATE STAGE INDEX(ES).....\n",
                "IF NOT EXISTS (SELECT * FROM SYS.INDEXES WHERE [NAME] = 'IX_STAGE_MANUAL_INPUT_BOOSTER_AND_THIRD_SHOTS')\n",
                "CREATE NONCLUSTERED INDEX [IX_STAGE_MANUAL_INPUT_BOOSTER_AND_THIRD_SHOTS] ON [VWSSTAGE].[MANUAL_INPUT_BOOSTER_AND_THIRD_SHOTS]\n",
                "(\n",
                "    [DATE_LAST_INSERTED] ASC\n",
                ")WITH (STATISTICS_NORECOMPUTE = OFF, DROP_EXISTING = OFF, ONLINE = OFF, OPTIMIZE_FOR_SEQUENTIAL_KEY = OFF) ON [PRIMARY]\n",
                "GO"
            ]
        },
        {
            "cell_type": "markdown",
            "metadata": {
                "azdata_cell_guid": "b883932e-c47b-4de6-9629-eca0ff8aeabb"
            },
            "source": [
                "# **VIEWS**\n",
                "---"
            ]
        },
        {
            "cell_type": "markdown",
            "metadata": {},
            "source": [
                "### BOOSTER SHOT ADMINISTERED"
            ]
        },
        {
            "cell_type": "code",
            "execution_count": null,
            "metadata": {},
            "outputs": [],
            "source": [
                "-- COPYRIGHT (C) 2020 DE STAAT DER NEDERLANDEN, MINISTERIE VAN   VOLKSGEZONDHEID, WELZIJN EN SPORT.\n",
                "-- LICENSED UNDER THE EUROPEAN UNION PUBLIC LICENCE V. 1.2 - SEE HTTPS://GITHUB.COM/MINVWS/NL-CONTACT-TRACING-APP-COORDINATIONFOR MORE INFORMATION.\n",
                "\n",
                "CREATE OR ALTER  VIEW [VWSDEST].[V_MANUAL_BOOSTER_SHOT_ADMINISTERED]\n",
                "AS\n",
                "\tWITH CTE AS (\n",
                "\t\tSELECT *\n",
                "\t\tFROM [VWSSTAGE].[MANUAL_INPUT_BOOSTER_AND_THIRD_SHOTS]\n",
                "    WHERE [DATE_LAST_INSERTED] = (SELECT MAX([DATE_LAST_INSERTED]) FROM [VWSSTAGE].[MANUAL_INPUT_BOOSTER_AND_THIRD_SHOTS])\n",
                "\t\tAND CATEGORY = 'BOOSTER_SHOT_ADMINISTERED' \n",
                "\t)\n",
                "    SELECT\n",
                "        -- Select columns,\n",
                "        Top (1)\n",
                "\t\t(SELECT CAST([VALUE] AS INT) FROM CTE WHERE [KEY] = 'GGD_ADMINISTERED_LAST_7_DAYS') AS [GGD_ADMINISTERED_LAST_7_DAYS] ,\n",
                "\t\t(SELECT CAST([VALUE] AS INT) FROM CTE WHERE [KEY] = 'GGD_ADMINISTERED_TOTAL') AS [GGD_ADMINISTERED_TOTAL],\n",
                "\t\t(SELECT CAST([VALUE] AS INT) FROM CTE WHERE [KEY] = 'OTHERS_ADMINISTERED_TOTAL') AS [OTHERS_ADMINISTERED_TOTAL],\n",
                "\t\tdbo.[CONVERT_DATETIME_TO_UNIX] (CONVERT([DATETIME], (SELECT [VALUE] FROM CTE WHERE [KEY] = 'DATE_START_UNIX'), 105)) AS [DATE_START_UNIX],\n",
                "\t\tdbo.[CONVERT_DATETIME_TO_UNIX] (CONVERT([DATETIME], (SELECT [VALUE] FROM CTE WHERE [KEY] = 'DATE_END_UNIX'), 105)) AS [DATE_END_UNIX],\n",
                "        dbo.[CONVERT_DATETIME_TO_UNIX] ((SELECT [DATE_LAST_INSERTED] FROM CTE WHERE [KEY] = 'DATE_UNIX')) AS [DATE_OF_INSERTION_UNIX]\n",
                "    FROM CTE\n",
                "GO;\n",
                "\n"
            ]
        },
        {
            "cell_type": "markdown",
            "metadata": {},
            "source": [
                "### THIRD SHOTS ADMINISTERED"
            ]
        },
        {
            "cell_type": "code",
            "execution_count": null,
            "metadata": {},
            "outputs": [],
            "source": [
                "\n",
                "-- COPYRIGHT (C) 2020 DE STAAT DER NEDERLANDEN, MINISTERIE VAN   VOLKSGEZONDHEID, WELZIJN EN SPORT.\n",
                "-- LICENSED UNDER THE EUROPEAN UNION PUBLIC LICENCE V. 1.2 - SEE HTTPS://GITHUB.COM/MINVWS/NL-CONTACT-TRACING-APP-COORDINATIONFOR MORE INFORMATION.\n",
                "\n",
                "CREATE OR ALTER  VIEW [VWSDEST].[V_MANUAL_THIRD_SHOT_ADMINISTERED]\n",
                "AS\n",
                "\tWITH CTE AS (\n",
                "\t\tSELECT *\n",
                "\t\tFROM [VWSSTAGE].[MANUAL_INPUT_BOOSTER_AND_THIRD_SHOTS]\n",
                "    WHERE [DATE_LAST_INSERTED] = (SELECT MAX([DATE_LAST_INSERTED]) FROM [VWSSTAGE].[MANUAL_INPUT_BOOSTER_AND_THIRD_SHOTS])\n",
                "\t\tAND CATEGORY = 'THIRD_SHOT_ADMINISTERED'\n",
                "\t)\n",
                "    SELECT\n",
                "        -- Select columns,\n",
                "\t\tTop (1)\n",
                "\t\t(SELECT CAST([VALUE] AS INT) FROM CTE WHERE [KEY] = 'ADMINISTERED_TOTAL')  AS ADMINISTERED_TOTAL,\n",
                "\t\tdbo.[CONVERT_DATETIME_TO_UNIX] (CONVERT([DATETIME], (SELECT [VALUE] FROM CTE WHERE [KEY] = 'DATE_UNIX'), 105)) AS DATE_UNIX,\n",
                "        dbo.[CONVERT_DATETIME_TO_UNIX] ((SELECT [DATE_LAST_INSERTED] FROM CTE WHERE [KEY] = 'DATE_UNIX')) AS [DATE_OF_INSERTION_UNIX]\n",
                "    FROM CTE\n",
                "GO;\n",
                "\n"
            ]
        },
        {
            "cell_type": "markdown",
            "metadata": {},
            "source": [
                "### BOOSTER AND THIRD SHOTS ADMINISTERED"
            ]
        },
        {
            "cell_type": "code",
            "execution_count": null,
            "metadata": {},
            "outputs": [],
            "source": [
                "-- COPYRIGHT (C) 2020 DE STAAT DER NEDERLANDEN, MINISTERIE VAN   VOLKSGEZONDHEID, WELZIJN EN SPORT.\n",
                "-- LICENSED UNDER THE EUROPEAN UNION PUBLIC LICENCE V. 1.2 - SEE HTTPS://GITHUB.COM/MINVWS/NL-CONTACT-TRACING-APP-COORDINATIONFOR MORE INFORMATION.\n",
                "\n",
                "CREATE  OR ALTER VIEW [VWSDEST].[V_MANUAL_BOOSTER_AND_THIRD_SHOT_ADMINISTERED]\n",
                "AS\n",
                "\tWITH CTE AS (\n",
                "\t\tSELECT \n",
                "\t\t\t*\n",
                "\t\tFROM [VWSSTAGE].[MANUAL_INPUT_BOOSTER_AND_THIRD_SHOTS]\n",
                "    WHERE [DATE_LAST_INSERTED] = (SELECT MAX([DATE_LAST_INSERTED]) FROM [VWSSTAGE].[MANUAL_INPUT_BOOSTER_AND_THIRD_SHOTS])\n",
                "\t\tAND CATEGORY = 'BOOSTER_AND_THIRD_SHOT_ADMINISTERED'\n",
                "\t)\n",
                "    SELECT\n",
                "        -- SELECT COLUMNS,\n",
                "        Top (1)\n",
                "\t\t(SELECT CAST([VALUE] AS INT) FROM CTE WHERE [KEY] = 'ADMINISTERED_TOTAL') AS ADMINISTERED_TOTAL,\n",
                "\t\tdbo.[CONVERT_DATETIME_TO_UNIX] (CONVERT([DATETIME], (SELECT [VALUE] FROM CTE WHERE [KEY] = 'DATE_UNIX'), 105)) AS DATE_UNIX,\n",
                "        dbo.[CONVERT_DATETIME_TO_UNIX] ((SELECT [DATE_LAST_INSERTED] FROM CTE WHERE [KEY] = 'DATE_UNIX')) AS [DATE_OF_INSERTION_UNIX]\n",
                "    FROM CTE\n",
                "GO;\n"
            ]
        },
        {
            "cell_type": "markdown",
            "metadata": {},
            "source": [
                "### BOOSTER SHOTS PLANNED"
            ]
        },
        {
            "cell_type": "code",
            "execution_count": null,
            "metadata": {},
            "outputs": [],
            "source": [
                "-- COPYRIGHT (C) 2020 DE STAAT DER NEDERLANDEN, MINISTERIE VAN   VOLKSGEZONDHEID, WELZIJN EN SPORT.\n",
                "-- LICENSED UNDER THE EUROPEAN UNION PUBLIC LICENCE V. 1.2 - SEE HTTPS://GITHUB.COM/MINVWS/NL-CONTACT-TRACING-APP-COORDINATIONFOR MORE INFORMATION.\n",
                "\n",
                "CREATE  OR ALTER    VIEW [VWSDEST].[V_MANUAL_BOOSTER_SHOT_PLANNED]\n",
                "AS\n",
                "\tWITH CTE AS (\n",
                "\t\tSELECT *\n",
                "\t\tFROM [VWSSTAGE].[MANUAL_INPUT_BOOSTER_AND_THIRD_SHOTS]\n",
                "    WHERE [DATE_LAST_INSERTED] = (SELECT MAX([DATE_LAST_INSERTED]) FROM [VWSSTAGE].[MANUAL_INPUT_BOOSTER_AND_THIRD_SHOTS])\n",
                "\t\tAND CATEGORY = 'BOOSTER_SHOT_PLANNED'\n",
                "\t)\n",
                "    SELECT\n",
                "        -- SELECT COLUMNS,\n",
                "        Top (1)\n",
                "\t\t(SELECT CAST([VALUE] AS INT) FROM CTE WHERE [KEY] = 'PLANNED_7_DAYS') AS PLANNED_7_DAYS,\n",
                "\t\tdbo.[CONVERT_DATETIME_TO_UNIX] (CONVERT([DATETIME], (SELECT [VALUE] FROM CTE WHERE [KEY] = 'DATE_UNIX'), 105)) AS [DATE_UNIX],\n",
                "        dbo.[CONVERT_DATETIME_TO_UNIX] ((SELECT [DATE_LAST_INSERTED] FROM CTE WHERE [KEY] = 'DATE_UNIX')) AS [DATE_OF_INSERTION_UNIX]\n",
                "    FROM CTE\n",
                "GO;\n"
            ]
        },
        {
            "cell_type": "markdown",
            "metadata": {},
            "source": [
                "### BOOSTER COVERAGE"
            ]
        },
        {
            "cell_type": "code",
            "execution_count": null,
            "metadata": {},
            "outputs": [],
            "source": [
                "-- COPYRIGHT (C) 2020 DE STAAT DER NEDERLANDEN, MINISTERIE VAN   VOLKSGEZONDHEID, WELZIJN EN SPORT.\n",
                "-- LICENSED UNDER THE EUROPEAN UNION PUBLIC LICENCE V. 1.2 - SEE HTTPS://GITHUB.COM/MINVWS/NL-CONTACT-TRACING-APP-COORDINATIONFOR MORE INFORMATION.\n",
                "\n",
                "-- 1) CREATE VIEW(S).....\n",
                "CREATE OR ALTER VIEW [VWSDEST].[V_RIVM_VACCINATIONS_BOOSTER_SHOTS_COVERAGE_NL]\n",
                "AS\n",
                "    WITH CTE AS (\n",
                "        SELECT\n",
                "            *\n",
                "        FROM [VWSDEST].[MANUAL_INPUT_BOOSTER_AND_THIRD_SHOTS]\n",
                "        WHERE [DATE_LAST_INSERTED] = (SELECT MAX([DATE_LAST_INSERTED]) FROM [VWSDEST].[MANUAL_INPUT_BOOSTER_AND_THIRD_SHOTS])\n",
                "    )\n",
                "    SELECT TOP(1)\n",
                "        (SELECT CAST([VALUE] AS INT) FROM CTE WHERE [KEY] = 'BOOSTER_COVERAGE') AS [PERCENTAGE]\n",
                "        dbo.[CONVERT_DATETIME_TO_UNIX] ((SELECT [DATE_LAST_INSERTED] FROM CTE WHERE [KEY] = 'DATE_UNIX')) AS [DATE_UNIX]\n",
                "        dbo.[CONVERT_DATETIME_TO_UNIX] ((SELECT [DATE_LAST_INSERTED] FROM CTE WHERE [KEY] = 'DATE_UNIX')) AS [DATE_OF_INSERTION_UNIX]\n",
                "    FROM CTE\n",
                "GO"
            ]
        },
        {
            "cell_type": "markdown",
            "metadata": {},
            "source": [
                "# **DROP ARTIFACTS**\n",
                "\n",
                "---\n"
            ]
        },
        {
            "cell_type": "code",
            "execution_count": null,
            "metadata": {},
            "outputs": [],
            "source": [
                "-- COPYRIGHT (C) 2020 DE STAAT DER NEDERLANDEN, MINISTERIE VAN   VOLKSGEZONDHEID, WELZIJN EN SPORT.\n",
                "-- LICENSED UNDER THE EUROPEAN UNION PUBLIC LICENCE V. 1.2 - SEE HTTPS://GITHUB.COM/MINVWS/NL-CONTACT-TRACING-APP-COORDINATIONFOR MORE INFORMATION.\n",
                "\n",
                "-- 1) DROP VIEW(S).....\n",
                "DROP VIEW IF EXISTS [VWSDEST].[V_Handmatig_BOOSTER_SHOT_PLANNED]\n",
                "GO\n",
                "\n",
                "DROP VIEW IF EXISTS [VWSDEST].[V_Handmatig_BOOSTER_AND_THIRD_SHOT_ADMINISTERED]\n",
                "GO\n",
                "\n",
                "DROP VIEW IF EXISTS [VWSDEST].[V_Handmatig_THIRD_SHOT_ADMINISTERED]\n",
                "GO\n",
                "\n",
                "DROP VIEW IF EXISTS [VWSDEST].[V_Handmatig_BOOSTER_SHOT_ADMINISTERED]\n",
                "GO\n",
                "\n",
                "-- 2) DROP TABLE(S).....\n",
                "DROP TABLE IF EXISTS [VWSSTAGE].[Handmatige_invoer_booster_data]\n",
                "GO\n"
            ]
        },
        {
            "cell_type": "markdown",
            "metadata": {
                "azdata_cell_guid": "9ecf89cb-f8c2-4453-90a7-cd43a8ad95fa"
            },
            "source": [
                "# **DATATINO CONFIGURATIONS**\n",
                "---"
            ]
        },
        {
            "cell_type": "markdown",
            "metadata": {},
            "source": [
                "### WORKFLOWS"
            ]
        },
        {
            "cell_type": "code",
            "execution_count": null,
            "metadata": {},
            "outputs": [],
            "source": [
                "-- COPYRIGHT (C) 2020 DE STAAT DER NEDERLANDEN, MINISTERIE VAN   VOLKSGEZONDHEID, WELZIJN EN SPORT.\n",
                "-- LICENSED UNDER THE EUROPEAN UNION PUBLIC LICENCE V. 1.2 - SEE HTTPS://GITHUB.COM/MINVWS/NL-CONTACT-TRACING-APP-COORDINATIONFOR MORE INFORMATION.\n",
                "\n",
                "DECLARE @workflow_name NVARCHAR(50) = 'MANUAL INSERT BOOSTER DATA'\n",
                "\n",
                "-- 1) UPSERT WORKFLOW(S).....\n",
                "EXECUTE [DATATINO_ORCHESTRATOR_1].[UPSERT_WORKFLOW]\n",
                "    @id = null, \n",
                "    @workflow_name = @workflow_name,\n",
                "    @description = 'Manual insert of booster data', \n",
                "    @schedule = '0 13 * * TUE,THU', -- SET TO ACTIVE ONLY WHEN WORKFLOW NEEDS TO BE RUN\n",
                "    @active = 1\n",
                "\n",
                "-- 2) UPSERT SOURCE(S).....\n",
                "EXECUTE [DATATINO_ORCHESTRATOR_1].[UPSERT_SOURCE] \n",
                "    @id = null,\n",
                "    @source_name = 'SOURCE_LOAD_MANUAL_INSERT_BOOSTER_DATA',\n",
                "    @description = 'Source manual insert of booster data',\n",
                "    @source = 'datafiles/TEST/Handmatige_invoer_Booster_data.csv',\n",
                "    @source_columns = 'CATEGORY|KEY|VALUE',\n",
                "    @target_columns = 'CATEGORY|KEY|VALUE',\n",
                "    @target_name = 'VWSSTAGE.MANUAL_INPUT_BOOSTER_AND_THIRD_SHOTS',\n",
                "    @source_type = 'CsvFile',\n",
                "    @location_type = 'AzureBlob',\n",
                "    @delimiter_type = 'SemiColon',\n",
                "    @security_profile= 'RIVM'\n",
                "GO"
            ]
        },
        {
            "cell_type": "markdown",
            "metadata": {
                "azdata_cell_guid": "ed69a7b9-56b5-49f0-894a-4fd9aa55b797"
            },
            "source": [
                "### PROTOS"
            ]
        },
        {
            "cell_type": "code",
            "execution_count": null,
            "metadata": {
                "azdata_cell_guid": "4b23e306-f4e6-40b8-830e-e80efd535a5b",
                "tags": [
                    "hide_input"
                ]
            },
            "outputs": [],
            "source": [
                "-- COPYRIGHT (C) 2020 DE STAAT DER NEDERLANDEN, MINISTERIE VAN   VOLKSGEZONDHEID, WELZIJN EN SPORT.\n",
                "-- LICENSED UNDER THE EUROPEAN UNION PUBLIC LICENCE V. 1.2 - SEE HTTPS://GITHUB.COM/MINVWS/NL-CONTACT-TRACING-APP-COORDINATIONFOR MORE INFORMATION.\n",
                "\n",
                "DECLARE @workflow_name NVARCHAR(50) = 'MANUAL INSERT BOOSTER DATA'\n",
                "\n",
                "-- 1) UPSERT PROTO VIEW(S).....\n",
                "EXECUTE [DATATINO_PROTO_1].[UPSERT_VIEW] \n",
                "    @id = null,\n",
                "    @view_name ='VWSDEST.V_MANUAL_BOOSTER_SHOT_ADMINISTERED',\n",
                "    @description = 'View of V_MANUAL_BOOSTER_SHOT_ADMINISTERED',\n",
                "    @last_update_name = 'DATE_OF_INSERTION_UNIX',\n",
                "    @constraint_key_name = null,\n",
                "    @constraint_value = null,\n",
                "    @grouped_key_name = null,\n",
                "    @grouped_last_update_name = null\n",
                "\n",
                "-- 2) UPSERT PROTO CONFIGURATION(S).....\n",
                "\n",
                "EXECUTE [DATATINO_PROTO_1].[UPSERT_CONFIGURATION]\n",
                "    @id = null,\n",
                "    @proto_name = 'NL',\n",
                "    @description = 'View configuration for VWSDEST.V_MANUAL_BOOSTER_SHOT_ADMINISTERED',\n",
                "    @view_name = 'VWSDEST.V_MANUAL_BOOSTER_SHOT_ADMINISTERED',\n",
                "    @item_name = 'booster_shot_administered',\n",
                "    @constrained = '0',\n",
                "    @grouped = '0',\n",
                "    @columns = '*',\n",
                "    @mapping = '=LOWER()',\n",
                "    @layout_type_id = '1',\n",
                "    @active = '1'\n",
                "\n",
                "--VIEW THIRD_SHOT_ADMINISTERED\n",
                "-- 1) UPSERT PROTO VIEW(S).....\n",
                "\n",
                "    EXECUTE [DATATINO_PROTO_1].[UPSERT_VIEW] \n",
                "    @id = null,\n",
                "    @view_name ='VWSDEST.V_MANUAL_THIRD_SHOT_ADMINISTERED',\n",
                "    @description = 'View of V_MANUAL_THIRD_SHOT_ADMINISTERED',\n",
                "    @last_update_name = 'DATE_OF_INSERTION_UNIX',\n",
                "    @constraint_key_name = null,\n",
                "    @constraint_value = null,\n",
                "    @grouped_key_name = null,\n",
                "    @grouped_last_update_name = null\n",
                "\n",
                "-- 2) UPSERT PROTO CONFIGURATION(S).....\n",
                "\n",
                "EXECUTE [DATATINO_PROTO_1].[UPSERT_CONFIGURATION]\n",
                "    @id = null,\n",
                "    @proto_name = 'NL',\n",
                "    @description = 'View configuration for VWSDEST.V_MANUAL_THIRD_SHOT_ADMINISTERED',\n",
                "    @view_name = 'VWSDEST.V_MANUAL_THIRD_SHOT_ADMINISTERED',\n",
                "    @item_name = 'third_shot_administered',\n",
                "    @constrained = '0',\n",
                "    @grouped = '0',\n",
                "    @columns = '*',\n",
                "    @mapping = '=LOWER()',\n",
                "    @layout_type_id = '1',\n",
                "    @active = '1'\n",
                "\n",
                "--VIEW BOOSTER_AND_THIRD_SHOT_ADMINISTERED\n",
                "-- 1) UPSERT PROTO VIEW(S).....\n",
                "\n",
                "    EXECUTE [DATATINO_PROTO_1].[UPSERT_VIEW] \n",
                "    @id = null,\n",
                "    @view_name ='VWSDEST.V_MANUAL_BOOSTER_AND_THIRD_SHOT_ADMINISTERED',\n",
                "    @description = 'View of V_MANUAL_BOOSTER_AND_THIRD_SHOT_ADMINISTERED',\n",
                "    @last_update_name = 'DATE_OF_INSERTION_UNIX',\n",
                "    @constraint_key_name = null,\n",
                "    @constraint_value = null,\n",
                "    @grouped_key_name = null,\n",
                "    @grouped_last_update_name = null\n",
                "\n",
                "-- 2) UPSERT PROTO CONFIGURATION(S).....\n",
                "EXECUTE [DATATINO_PROTO_1].[UPSERT_CONFIGURATION]\n",
                "    @id = null,\n",
                "    @proto_name = 'NL',\n",
                "    @description = 'View configuration for VWSDEST.V_MANUAL_BOOSTER_AND_THIRD_SHOT_ADMINISTERED',\n",
                "    @view_name = 'VWSDEST.V_MANUAL_BOOSTER_AND_THIRD_SHOT_ADMINISTERED',\n",
                "    @item_name = 'booster_and_third_shot_administered',\n",
                "    @constrained = '0',\n",
                "    @grouped = '0',\n",
                "    @columns = '*',\n",
                "    @mapping = '=LOWER()',\n",
                "    @layout_type_id = '1',\n",
                "    @active = '1'\n",
                "\n",
                "--VIEW V_Handmatig_BOOSTER_SHOT_PLANNED\n",
                "-- 1) UPSERT PROTO VIEW(S).....\n",
                "\n",
                "    EXECUTE [DATATINO_PROTO_1].[UPSERT_VIEW] \n",
                "    @id = null,\n",
                "    @view_name ='VWSDEST.V_MANUAL_BOOSTER_SHOT_PLANNED',\n",
                "    @description = 'View of V_MANUAL_BOOSTER_SHOT_PLANNED',\n",
                "    @last_update_name = 'DATE_OF_INSERTION_UNIX',\n",
                "    @constraint_key_name = null,\n",
                "    @constraint_value = null,\n",
                "    @grouped_key_name = null,\n",
                "    @grouped_last_update_name = null\n",
                "\n",
                "-- 2) UPSERT PROTO CONFIGURATION(S).....\n",
                "EXECUTE [DATATINO_PROTO_1].[UPSERT_CONFIGURATION]\n",
                "    @id = null,\n",
                "    @proto_name = 'NL',\n",
                "    @description = 'View configuration for VWSDEST.V_MANUAL_BOOSTER_SHOT_PLANNED',\n",
                "    @view_name = 'VWSDEST.V_MANUAL_BOOSTER_SHOT_PLANNED',\n",
                "    @item_name = 'booster_shot_planned',\n",
                "    @constrained = '0',\n",
                "    @grouped = '0',\n",
                "    @columns = '*',\n",
                "    @mapping = '=LOWER()',\n",
                "    @layout_type_id = '1',\n",
                "    @active = '1'\n",
                "\n",
                "EXECUTE [DATATINO_ORCHESTRATOR_1].[UPSERT_PROCESS] \n",
                "    @id = null, \n",
                "    @process_name = 'PROCESS_LOAD_MANUAL_INSERT_BOOSTER_DATA',\n",
                "    @description = 'Loads the source for manual insert booster data',\n",
                "    @source_name = 'SOURCE_LOAD_MANUAL_INSERT_BOOSTER_DATA',\n",
                "    @schedule = '* * * * *',\n",
                "    @workflow_name = 'MANUAL INSERT BOOSTER DATA',\n",
                "    @active = 1\n",
                "GO\n",
                "\n",
                "--VIEW V_MANUAL_BOOSTER_COVERAGE\n",
                "-- 1) UPSERT PROTO VIEW(S).....\n",
                "\n",
                "    EXECUTE [DATATINO_PROTO_1].[UPSERT_VIEW] \n",
                "    @id = null,\n",
                "    @view_name ='VWSDEST.V_RIVM_VACCINATIONS_BOOSTER_SHOTS_COVERAGE_NL',\n",
                "    @description = 'View of V_RIVM_VACCINATIONS_BOOSTER_SHOTS_COVERAGE_NL',\n",
                "    @last_update_name = 'DATE_OF_INSERTION_UNIX',\n",
                "    @constraint_key_name = null,\n",
                "    @constraint_value = null,\n",
                "    @grouped_key_name = null,\n",
                "    @grouped_last_update_name = null\n",
                "\n",
                "-- 2) UPSERT PROTO CONFIGURATION(S).....\n",
                "EXECUTE [DATATINO_PROTO_1].[UPSERT_CONFIGURATION]\n",
                "    @id = null,\n",
                "    @proto_name = 'NL',\n",
                "    @description = 'View configuration for VWSDEST.V_RIVM_VACCINATIONS_BOOSTER_SHOTS_COVERAGE_NL',\n",
                "    @view_name = 'VWSDEST.V_RIVM_VACCINATIONS_BOOSTER_SHOTS_COVERAGE_NL',\n",
                "    @item_name = 'booster_coverage',\n",
                "    @constrained = '0',\n",
                "    @grouped = '0',\n",
                "    @columns = '*',\n",
                "    @mapping = '=LOWER()',\n",
                "    @layout_type_id = '1',\n",
                "    @active = '1'\n",
                "\n",
                "EXECUTE [DATATINO_ORCHESTRATOR_1].[UPSERT_PROCESS] \n",
                "    @id = null, \n",
                "    @process_name = 'PROCESS_LOAD_MANUAL_INSERT_BOOSTER_DATA',\n",
                "    @description = 'Loads the source for manual insert booster data',\n",
                "    @source_name = 'SOURCE_LOAD_MANUAL_INSERT_BOOSTER_DATA',\n",
                "    @schedule = '* * * * *',\n",
                "    @workflow_name = 'MANUAL INSERT BOOSTER DATA',\n",
                "    @active = 1\n",
                "GO"
            ]
        }
    ],
    "metadata": {
        "kernelspec": {
            "display_name": "SQL",
            "language": "sql",
            "name": "SQL"
        },
        "language_info": {
            "name": "sql",
            "version": ""
        }
    },
    "nbformat": 4,
    "nbformat_minor": 2
}
