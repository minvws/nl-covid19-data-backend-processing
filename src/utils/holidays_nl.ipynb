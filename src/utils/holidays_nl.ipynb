{
 "cells": [
  {
   "cell_type": "markdown",
   "metadata": {},
   "source": [
    "```sql\n",
    "-- COPYRIGHT (C) 2020 DE STAAT DER NEDERLANDEN, MINISTERIE VAN VOLKSGEZONDHEID, WELZIJN EN SPORT.\n",
    "-- LICENSED UNDER THE EUROPEAN UNION PUBLIC LICENCE V. 1.2 - SEE HTTPS://GITHUB.COM/MINVWS/NL-CONTACT-TRACING-APP-COORDINATION FOR MORE INFORMATION.\n",
    "```\n",
    "\n",
    "# **INTRODUCTIONS**\n",
    "\n",
    "---\n",
    "\n",
    "The code is separated into multiple sections:\n",
    "\n",
    "1. **[Nation Vaccation Days](#national-vaccation-days)**"
   ]
  },
  {
   "cell_type": "markdown",
   "metadata": {},
   "source": [
    "# **DEPENDENCIES**\n",
    "\n",
    "---\n",
    "\n",
    "```json\n",
    "{\n",
    "    \"depends-on\": [\n",
    "        \"src/utils/schemas.ipynb\"\n",
    "    ]\n",
    "}\n",
    "```"
   ]
  },
  {
   "cell_type": "markdown",
   "metadata": {},
   "source": [
    "# **NATIONAL HOLIDAYS**\n",
    "\n",
    "---"
   ]
  },
  {
   "cell_type": "markdown",
   "metadata": {},
   "source": [
    "## **TABLES**"
   ]
  },
  {
   "cell_type": "markdown",
   "metadata": {},
   "source": [
    "### STATICS"
   ]
  },
  {
   "cell_type": "code",
   "execution_count": null,
   "metadata": {
    "vscode": {
     "languageId": "sql"
    }
   },
   "outputs": [],
   "source": [
    "SET ANSI_NULLS ON\n",
    "GO\n",
    "\n",
    "SET QUOTED_IDENTIFIER ON\n",
    "GO\n",
    "\n",
    "-- 1) CREATE TABLE(S).....\n",
    "DROP TABLE IF EXISTS [VWSSTATIC].[HOLIDAYS_NL]\n",
    "GO\n",
    "\n",
    "IF NOT EXISTS (SELECT * FROM SYS.TABLES WHERE [object_id] = OBJECT_ID('[VWSSTATIC].[HOLIDAYS_NL]'))\n",
    "CREATE TABLE [VWSSTATIC].[HOLIDAYS_NL] (\n",
    "\t[ID] [BIGINT] IDENTITY(1,1) NOT NULL,\n",
    "\t[DATETIME] [DATETIME2](7) NOT NULL,\n",
    "\t[NAME] [NVARCHAR](200) NOT NULL,\n",
    "\t[DESCRIPTION] [NVARCHAR](MAX) NOT NULL\n",
    ") ON [PRIMARY] TEXTIMAGE_ON [PRIMARY]\n",
    "GO\n",
    "\n",
    "-- 2) CREATE INDEX(ES).....\n",
    "DROP INDEX IF EXISTS [NCIX_DT_HOLIDAYS_NL] \n",
    "    ON [VWSSTATIC].[HOLIDAYS_NL]\n",
    "GO\n",
    "CREATE NONCLUSTERED INDEX [NCIX_DT_HOLIDAYS_NL] \n",
    "    ON [VWSSTATIC].[HOLIDAYS_NL] (\n",
    "\t[DATETIME] ASC\n",
    ")\n",
    "GO"
   ]
  },
  {
   "cell_type": "code",
   "execution_count": null,
   "metadata": {
    "vscode": {
     "languageId": "sql"
    }
   },
   "outputs": [],
   "source": [
    "INSERT INTO [VWSSTATIC].[HOLIDAYS_NL]\n",
    "VALUES\n",
    "    ('2022-04-17','Eerste paasdag','Eerste paasdag'),\n",
    "    ('2022-04-18','Tweede paasdag','Tweede paasdag'),\n",
    "    ('2022-04-27','Koningsdag','Koningsdag'),\n",
    "    ('2022-05-05','Bevrijdingsdag','Bevrijdingsdag'),\n",
    "    ('2022-05-26','Hemelvaartsdag','Hemelvaartsdag'),\n",
    "    ('2022-06-05','Eerste pinksterdag','Eerste pinksterdag'),\n",
    "    ('2022-06-06','Tweede pinksterdag','Tweede pinksterdag'),\n",
    "    ('2022-12-25','Eerste Kerstdag','Eerste Kerstdag'),\n",
    "    ('2022-12-26','Tweede Kerstdag','Tweede Kerstdag'),\n",
    "    ('2023-01-01','Nieuwjaarsdag','Nieuwjaarsdag'),\n",
    "    ('2023-04-09','Eerste paasdag','Eerste paasdag'),\n",
    "    ('2023-04-10','Tweede paasdag','Tweede paasdag'),\n",
    "    ('2023-04-27','Koningsdag','Koningsdag'),\n",
    "    ('2023-05-05','Bevrijdingsdag','Bevrijdingsdag'),\n",
    "    ('2023-05-18','Hemelvaartsdag','Hemelvaartsdag'),\n",
    "    ('2023-05-28','Eerste pinksterdag','Eerste pinksterdag'),\n",
    "    ('2023-05-29','Tweede pinksterdag','Tweede pinksterdag'),\n",
    "    ('2023-12-25','Eerste Kerstdag','Eerste Kerstdag'),\n",
    "    ('2023-12-26','Tweede Kerstdag','Tweede Kerstdag'),\n",
    "    ('2024-01-01','Nieuwjaarsdag', 'Nieuwjaarsdag');\n",
    "GO"
   ]
  },
  {
   "cell_type": "markdown",
   "metadata": {},
   "source": [
    "## **STORED PROCEDURES**"
   ]
  },
  {
   "cell_type": "code",
   "execution_count": null,
   "metadata": {
    "vscode": {
     "languageId": "sql"
    }
   },
   "outputs": [],
   "source": [
    "CREATE OR ALTER PROCEDURE [dbo].[SP_CHECK_IS_HOLIDAYS_NL]\n",
    "AS\n",
    "BEGIN\n",
    "    IF EXISTS (\n",
    "        SELECT \n",
    "            [DATETIME]\n",
    "        FROM [VWSSTATIC].[HOLIDAYS_NL] \n",
    "        WHERE CONVERT (DATE, [DATETIME]) = CONVERT (DATE, GETDATE())\n",
    "    )\n",
    "        SELECT 1 AS [IsHoliday]\n",
    "    ELSE \n",
    "        SELECT 0 AS [IsHoliday]\n",
    "END\n",
    "GO"
   ]
  }
 ],
 "metadata": {
  "language_info": {
   "name": "csharp"
  },
  "orig_nbformat": 4
 },
 "nbformat": 4,
 "nbformat_minor": 2
}
