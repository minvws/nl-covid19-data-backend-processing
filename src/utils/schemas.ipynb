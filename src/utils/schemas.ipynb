{
    "cells": [
        {
            "cell_type": "markdown",
            "metadata": {
                "azdata_cell_guid": "a1bff903-eb61-4e65-82a1-c4e918bbcac8"
            },
            "source": [
                "# **INTRODUCTIONS** \n",
                "\n",
                "---\n",
                "\n",
                "The code is separated into multiple sections:\n",
                "\n",
                "1. **[Schemas](#schemas)**"
            ]
        },
        {
            "cell_type": "markdown",
            "metadata": {},
            "source": [
                "# **SCHEMAS**\n",
                "\n",
                "---"
            ]
        },
        {
            "cell_type": "markdown",
            "metadata": {},
            "source": [
                "### STAGINGS"
            ]
        },
        {
            "cell_type": "code",
            "execution_count": null,
            "metadata": {},
            "outputs": [],
            "source": [
                "-- COPYRIGHT (C) 2020 DE STAAT DER NEDERLANDEN, MINISTERIE VAN   VOLKSGEZONDHEID, WELZIJN EN SPORT. \n",
                "-- LICENSED UNDER THE EUROPEAN UNION PUBLIC LICENCE V. 1.2 - SEE HTTPS://GITHUB.COM/MINVWS/NL-CONTACT-TRACING-APP-COORDINATIONFOR MORE INFORMATION.\n",
                "\n",
                "IF NOT EXISTS (SELECT * FROM SYS.SCHEMAS WHERE [NAME] = N'VWSSTAGE')\n",
                "EXEC ('CREATE SCHEMA [VWSSTAGE] AUTHORIZATION [dbo]');\n",
                "GO"
            ]
        },
        {
            "cell_type": "markdown",
            "metadata": {},
            "source": [
                "### INTERMEDIATES"
            ]
        },
        {
            "cell_type": "code",
            "execution_count": null,
            "metadata": {},
            "outputs": [],
            "source": [
                "-- COPYRIGHT (C) 2020 DE STAAT DER NEDERLANDEN, MINISTERIE VAN   VOLKSGEZONDHEID, WELZIJN EN SPORT. \n",
                "-- LICENSED UNDER THE EUROPEAN UNION PUBLIC LICENCE V. 1.2 - SEE HTTPS://GITHUB.COM/MINVWS/NL-CONTACT-TRACING-APP-COORDINATIONFOR MORE INFORMATION.\n",
                "\n",
                "IF NOT EXISTS (SELECT * FROM SYS.SCHEMAS WHERE [NAME] = N'VWSINTER')\n",
                "EXEC ('CREATE SCHEMA [VWSINTER] AUTHORIZATION [dbo]');\n",
                "GO"
            ]
        },
        {
            "cell_type": "markdown",
            "metadata": {},
            "source": [
                "### DESTINATIONS"
            ]
        },
        {
            "cell_type": "code",
            "execution_count": null,
            "metadata": {},
            "outputs": [],
            "source": [
                "-- COPYRIGHT (C) 2020 DE STAAT DER NEDERLANDEN, MINISTERIE VAN   VOLKSGEZONDHEID, WELZIJN EN SPORT. \n",
                "-- LICENSED UNDER THE EUROPEAN UNION PUBLIC LICENCE V. 1.2 - SEE HTTPS://GITHUB.COM/MINVWS/NL-CONTACT-TRACING-APP-COORDINATIONFOR MORE INFORMATION.\n",
                "\n",
                "IF NOT EXISTS (SELECT * FROM SYS.SCHEMAS WHERE [NAME] = N'VWSDEST')\n",
                "EXEC ('CREATE SCHEMA [VWSDEST] AUTHORIZATION [dbo]');\n",
                "GO"
            ]
        },
        {
            "cell_type": "markdown",
            "metadata": {},
            "source": [
                "### ARCHIVES"
            ]
        },
        {
            "cell_type": "code",
            "execution_count": null,
            "metadata": {},
            "outputs": [],
            "source": [
                "-- COPYRIGHT (C) 2020 DE STAAT DER NEDERLANDEN, MINISTERIE VAN   VOLKSGEZONDHEID, WELZIJN EN SPORT. \n",
                "-- LICENSED UNDER THE EUROPEAN UNION PUBLIC LICENCE V. 1.2 - SEE HTTPS://GITHUB.COM/MINVWS/NL-CONTACT-TRACING-APP-COORDINATIONFOR MORE INFORMATION.\n",
                "\n",
                "IF NOT EXISTS (SELECT * FROM SYS.SCHEMAS WHERE [NAME] = N'VWSARCHIVE')\n",
                "EXEC ('CREATE SCHEMA [VWSARCHIVE] AUTHORIZATION [dbo]');\n",
                "GO"
            ]
        },
        {
            "cell_type": "markdown",
            "metadata": {},
            "source": [
                "### STATICS"
            ]
        },
        {
            "cell_type": "code",
            "execution_count": null,
            "metadata": {},
            "outputs": [],
            "source": [
                "-- COPYRIGHT (C) 2020 DE STAAT DER NEDERLANDEN, MINISTERIE VAN   VOLKSGEZONDHEID, WELZIJN EN SPORT. \n",
                "-- LICENSED UNDER THE EUROPEAN UNION PUBLIC LICENCE V. 1.2 - SEE HTTPS://GITHUB.COM/MINVWS/NL-CONTACT-TRACING-APP-COORDINATIONFOR MORE INFORMATION.\n",
                "\n",
                "IF NOT EXISTS (SELECT * FROM SYS.SCHEMAS WHERE [NAME] = N'VWSSTATIC')\n",
                "EXEC ('CREATE SCHEMA [VWSSTATIC] AUTHORIZATION [dbo]');\n",
                "GO"
            ]
        },
        {
            "cell_type": "markdown",
            "metadata": {},
            "source": [
                "### REPORTS"
            ]
        },
        {
            "cell_type": "code",
            "execution_count": null,
            "metadata": {},
            "outputs": [],
            "source": [
                "-- COPYRIGHT (C) 2020 DE STAAT DER NEDERLANDEN, MINISTERIE VAN   VOLKSGEZONDHEID, WELZIJN EN SPORT. \n",
                "-- LICENSED UNDER THE EUROPEAN UNION PUBLIC LICENCE V. 1.2 - SEE HTTPS://GITHUB.COM/MINVWS/NL-CONTACT-TRACING-APP-COORDINATIONFOR MORE INFORMATION.\n",
                "\n",
                "IF NOT EXISTS (SELECT * FROM SYS.SCHEMAS WHERE [NAME] = N'VWSREPORT')\n",
                "EXEC ('CREATE SCHEMA [VWSREPORT] AUTHORIZATION [dbo]');\n",
                "GO"
            ]
        },
        {
            "cell_type": "markdown",
            "metadata": {},
            "source": [
                "### MISCELLANEOUS"
            ]
        },
        {
            "cell_type": "code",
            "execution_count": null,
            "metadata": {},
            "outputs": [],
            "source": [
                "-- COPYRIGHT (C) 2020 DE STAAT DER NEDERLANDEN, MINISTERIE VAN   VOLKSGEZONDHEID, WELZIJN EN SPORT. \n",
                "-- LICENSED UNDER THE EUROPEAN UNION PUBLIC LICENCE V. 1.2 - SEE HTTPS://GITHUB.COM/MINVWS/NL-CONTACT-TRACING-APP-COORDINATIONFOR MORE INFORMATION.\n",
                "\n",
                "IF NOT EXISTS (SELECT * FROM SYS.SCHEMAS WHERE [NAME] = N'VWSMISC')\n",
                "EXEC ('CREATE SCHEMA [VWSMISC] AUTHORIZATION [dbo]');\n",
                "GO"
            ]
        },
        {
            "cell_type": "markdown",
            "metadata": {},
            "source": [
                "### ANALYTICS"
            ]
        },
        {
            "cell_type": "code",
            "execution_count": null,
            "metadata": {},
            "outputs": [],
            "source": [
                "-- COPYRIGHT (C) 2020 DE STAAT DER NEDERLANDEN, MINISTERIE VAN   VOLKSGEZONDHEID, WELZIJN EN SPORT. \n",
                "-- LICENSED UNDER THE EUROPEAN UNION PUBLIC LICENCE V. 1.2 - SEE HTTPS://GITHUB.COM/MINVWS/NL-CONTACT-TRACING-APP-COORDINATIONFOR MORE INFORMATION.\n",
                "\n",
                "IF NOT EXISTS (SELECT * FROM SYS.SCHEMAS WHERE [NAME] = N'VWSANALYTICS')\n",
                "EXEC ('CREATE SCHEMA [VWSANALYTICS] AUTHORIZATION [dbo]');\n",
                "GO\n"
            ]
        }
    ],
    "metadata": {
        "kernelspec": {
            "display_name": "SQL",
            "language": "sql",
            "name": "SQL"
        },
        "language_info": {
            "name": "sql",
            "version": ""
        }
    },
    "nbformat": 4,
    "nbformat_minor": 2
}
