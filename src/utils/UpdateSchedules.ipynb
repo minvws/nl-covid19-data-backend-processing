{
    "cells": [
        {
            "cell_type": "markdown",
            "metadata": {
                "azdata_cell_guid": "a1bff903-eb61-4e65-82a1-c4e918bbcac8"
            },
            "source": [
                "# **INTRODUCTIONS**\n",
                "\n",
                "---\n",
                "\n",
                "The code is separated into multiple sections:\n",
                "\n",
                "1. **[Schemas](#schemas)**"
            ]
        },
        {
            "cell_type": "markdown",
            "metadata": {},
            "source": [
                "# **DEPENDENCIES**\n",
                "\n",
                "---\n",
                "\n",
                "```json\n",
                "{\n",
                "    \"depends-on\": [\n",
                "        \"src/dataflows/nice_hospitals.ipynb\",\n",
                "         \"src/dataflows/vws_vaccine_deliveries_administered.ipynb\"\n",
                "    ]\n",
                "}\n",
                "```"
            ]
        },
        {
            "cell_type": "markdown",
            "metadata": {},
            "source": [
                "# **SCHEMAS**\n",
                "\n",
                "---"
            ]
        },
        {
            "cell_type": "markdown",
            "metadata": {},
            "source": [
                "### UPDATE WORKFLOWS TO ONLY TRIGGER ON TUESDAY AND FRIDAYS"
            ]
        },
        {
            "cell_type": "code",
            "execution_count": null,
            "metadata": {
                "dotnet_interactive": {
                    "language": "sql"
                },
                "vscode": {
                    "languageId": "dotnet-interactive.sql"
                }
            },
            "outputs": [],
            "source": [
                "-- COPYRIGHT (C) 2020 DE STAAT DER NEDERLANDEN, MINISTERIE VAN   VOLKSGEZONDHEID, WELZIJN EN SPORT. \n",
                "-- LICENSED UNDER THE EUROPEAN UNION PUBLIC LICENCE V. 1.2 - SEE HTTPS://GITHUB.COM/MINVWS/NL-CONTACT-TRACING-APP-COORDINATIONFOR MORE INFORMATION.\n",
                "\n",
                "WITH CTE AS \n",
                "(\n",
                "    SELECT \n",
                "          T2.ID            AS WORKFLOW_ID\n",
                "        ,T3.[NAME]        AS WORKFLOW_NAME\n",
                "        ,T2.SCHEDULE      AS SCHEDULE\n",
                "        ,T2.LAST_RUN      AS LAST_RUN\n",
                "        ,T2.NEXT_RUN      AS NEXT_RUN\n",
                "        ,T2.ACTIVE        AS ACTIVE\n",
                "        ,[SOURCE_CONTENT]\n",
                "    FROM [DATATINO_ORCHESTRATOR_1].[SOURCES]            AS T0\n",
                "    LEFT JOIN [DATATINO_ORCHESTRATOR_1].[PROCESSES]     AS T1 ON T1.SOURCE_ID = T0.ID \n",
                "    LEFT JOIN [DATATINO_ORCHESTRATOR_1].[WORKFLOWS]     AS T2 ON T2.ID = T1.WORKFLOW_ID\n",
                "    LEFT JOIN [DATATINO_ORCHESTRATOR_1].[DATAFLOWS]     AS T3 ON T3.ID = T2.DATAFLOW_ID\n",
                "    WHERE SOURCE_TYPE_ID <> 1 -- SELECT all external sources\n",
                ")\n",
                "UPDATE [DATATINO_ORCHESTRATOR_1].[WORKFLOWS] \n",
                "SET SCHEDULE = '0 12 * * TUE,FRI'\n",
                "WHERE ID in (\n",
                "    SELECT WORKFLOW_ID FROM CTE \n",
                "    WHERE CTE.SOURCE_CONTENT in (\n",
                "        'datafiles/RIVM/COVID-19_aantallen_gemeente_per_dag.csv' --adf\n",
                "        ,'https://data.rivm.nl/data/vws/covid-19/COVID-19_casus_landelijk.csv' --adf\n",
                "        ,'https://data.rivm.nl/data/vws/covid-19/COVID-19_gehandicaptenzorg.csv'\n",
                "        ,'https://data.rivm.nl/data/vws/covid-19/COVID-19_ic_opnames.csv'\n",
                "        ,'https://data.rivm.nl/data/vws/covid-19/COVID-19_thuiswonend_70plus.csv'\n",
                "        ,'https://data.rivm.nl/data/vws/covid-19/COVID-19_uitgevoerde_testen.csv'\n",
                "        ,'https://data.rivm.nl/data/vws/covid-19/COVID-19_verpleeghuizen.csv'\n",
                "        ,'https://data.rivm.nl/data/vws/covid-19/COVID-19_ziekenhuisopnames.csv' --Notebook known\n",
                "        ,'https://data.rivm.nl/data/vws/covid-19/COVID-19_aantallen_settings_per_dag.csv' \n",
                "    )\n",
                ")"
            ]
        },
        {
            "cell_type": "markdown",
            "metadata": {},
            "source": [
                "### UPDATE WORKFLOWS TO ONLY TRIGGER ON WEDNESDAYS"
            ]
        },
        {
            "cell_type": "code",
            "execution_count": null,
            "metadata": {
                "dotnet_interactive": {
                    "language": "sql"
                },
                "vscode": {
                    "languageId": "dotnet-interactive.sql"
                }
            },
            "outputs": [],
            "source": [
                "WITH CTE AS \n",
                "(\n",
                "    SELECT \n",
                "         T2.ID            AS WORKFLOW_ID\n",
                "        ,T3.[NAME]        AS WORKFLOW_NAME\n",
                "        ,T2.SCHEDULE      AS SCHEDULE\n",
                "        ,T2.LAST_RUN      AS LAST_RUN\n",
                "        ,T2.NEXT_RUN      AS NEXT_RUN\n",
                "        ,T2.ACTIVE        AS ACTIVE\n",
                "        ,[SOURCE_CONTENT]\n",
                "    FROM [DATATINO_ORCHESTRATOR_1].[SOURCES]            AS T0\n",
                "    LEFT JOIN [DATATINO_ORCHESTRATOR_1].[PROCESSES]     AS T1 ON T1.SOURCE_ID = T0.ID \n",
                "    LEFT JOIN [DATATINO_ORCHESTRATOR_1].[WORKFLOWS]     AS T2 ON T2.ID = T1.WORKFLOW_ID\n",
                "    LEFT JOIN [DATATINO_ORCHESTRATOR_1].[DATAFLOWS]     AS T3 ON T3.ID = T2.DATAFLOW_ID\n",
                "    WHERE SOURCE_TYPE_ID <> 1 -- SELECT all external sources\n",
                ")\n",
                "UPDATE [DATATINO_ORCHESTRATOR_1].[WORKFLOWS] \n",
                "SET SCHEDULE = '0 12 * * WED'\n",
                "WHERE ID in (\n",
                "    SELECT WORKFLOW_ID FROM CTE \n",
                "    WHERE CTE.SOURCE_CONTENT in (\n",
                "        'https://data.rivm.nl/data/vws/covid-19/VWS_COVID-19_Berggrafiek.csv' --notebook known --allready on notebook set\n",
                "        ,'https://data.rivm.nl/data/vws/covid-19/VWS_COVID-19_Gevaccineerde_mensen_12PLUS.csv' --notebook known --allready on notebook set\n",
                "        ,'https://data.rivm.nl/data/vws/covid-19/VWS_COVID-19_geschatte_vaccinatiegraad.csv'\n",
                "        ,'https://data.rivm.nl/data/vws/covid-19/VWS_COVID-19_gevaccineerde_mensen.csv'\n",
                "        ,'https://data.rivm.nl/data/vws/covid-19/VWS_COVID-19_vaccinatie_gezette_prikken.csv'\n",
                "        ,'https://data.rivm.nl/data/vws/covid-19/VWS_COVID-19_vaccinatiegraad_GM_VR_week_leeftijd.csv' --notebook known --allready on notebook set\n",
                "        ,'https://data.rivm.nl/data/vws/covid-19/VWS_COVID-19_vaccinatiegraad_booster_geboortejaar.csv' --notebook known --allready on notebook set\n",
                "        ,'https://data.rivm.nl/data/vws/covid-19/VWS_COVID-19_vaccinatiegraad_per_gemeente_per_week_leeftijd.csv'\n",
                "        ,'https://data.rivm.nl/data/vws/covid-19/VWS_COVID-19_vaccinatiegraad_per_week_geboortejaar.csv'\n",
                "        \n",
                "    )\n",
                ")"
            ]
        },
        {
            "cell_type": "markdown",
            "metadata": {},
            "source": [
                "### UPDATE WORKFLOWS TO ONLY TRIGGER ON TUESDAYS"
            ]
        },
        {
            "cell_type": "code",
            "execution_count": null,
            "metadata": {
                "dotnet_interactive": {
                    "language": "sql"
                },
                "vscode": {
                    "languageId": "dotnet-interactive.sql"
                }
            },
            "outputs": [],
            "source": [
                "WITH CTE AS \n",
                "(\n",
                "    SELECT \n",
                "         T2.ID            AS WORKFLOW_ID\n",
                "        ,T3.[NAME]        AS WORKFLOW_NAME\n",
                "        ,T2.SCHEDULE      AS SCHEDULE\n",
                "        ,T2.LAST_RUN      AS LAST_RUN\n",
                "        ,T2.NEXT_RUN      AS NEXT_RUN\n",
                "        ,T2.ACTIVE        AS ACTIVE\n",
                "        ,[SOURCE_CONTENT]\n",
                "    FROM [DATATINO_ORCHESTRATOR_1].[SOURCES]            AS T0\n",
                "    LEFT JOIN [DATATINO_ORCHESTRATOR_1].[PROCESSES]     AS T1 ON T1.SOURCE_ID = T0.ID \n",
                "    LEFT JOIN [DATATINO_ORCHESTRATOR_1].[WORKFLOWS]     AS T2 ON T2.ID = T1.WORKFLOW_ID\n",
                "    LEFT JOIN [DATATINO_ORCHESTRATOR_1].[DATAFLOWS]     AS T3 ON T3.ID = T2.DATAFLOW_ID\n",
                "    WHERE SOURCE_TYPE_ID <> 1 -- SELECT all external sources\n",
                "    AND T2.ACTIVE =1\n",
                ")\n",
                "UPDATE [DATATINO_ORCHESTRATOR_1].[WORKFLOWS] \n",
                "SET SCHEDULE = '0 12 * * TUE'\n",
                "WHERE ID in (\n",
                "    SELECT WORKFLOW_ID FROM CTE \n",
                "    WHERE CTE.SOURCE_CONTENT in (\n",
                "        'https://data.rivm.nl/data/vws/covid-19/COVID-19_ziekenhuis_ic_opnames_per_leeftijdsgroep.csv' \n",
                "        ,'https://data.rivm.nl/data/vws/covid-19/VWS_COVID-19_infectieradar_trend_per_leeftijd.csv'\n",
                "    )\n",
                ")"
            ]
        },
        {
            "cell_type": "markdown",
            "metadata": {},
            "source": [
                "### UPDATE WORKFLOWS TO ONLY TRIGGER ON FRIDAYS"
            ]
        },
        {
            "cell_type": "code",
            "execution_count": null,
            "metadata": {
                "dotnet_interactive": {
                    "language": "sql"
                },
                "vscode": {
                    "languageId": "dotnet-interactive.sql"
                }
            },
            "outputs": [],
            "source": [
                "WITH CTE AS \n",
                "(\n",
                "    SELECT \n",
                "         T2.ID            AS WORKFLOW_ID\n",
                "        ,T3.[NAME]        AS WORKFLOW_NAME\n",
                "        ,T2.SCHEDULE      AS SCHEDULE\n",
                "        ,T2.LAST_RUN      AS LAST_RUN\n",
                "        ,T2.NEXT_RUN      AS NEXT_RUN\n",
                "        ,T2.ACTIVE        AS ACTIVE\n",
                "        ,[SOURCE_CONTENT]\n",
                "    FROM [DATATINO_ORCHESTRATOR_1].[SOURCES]            AS T0\n",
                "    LEFT JOIN [DATATINO_ORCHESTRATOR_1].[PROCESSES]     AS T1 ON T1.SOURCE_ID = T0.ID \n",
                "    LEFT JOIN [DATATINO_ORCHESTRATOR_1].[WORKFLOWS]     AS T2 ON T2.ID = T1.WORKFLOW_ID\n",
                "    LEFT JOIN [DATATINO_ORCHESTRATOR_1].[DATAFLOWS]     AS T3 ON T3.ID = T2.DATAFLOW_ID\n",
                "    WHERE SOURCE_TYPE_ID <> 1 -- SELECT all external sources\n",
                "    AND T2.ACTIVE =1\n",
                ")\n",
                "UPDATE [DATATINO_ORCHESTRATOR_1].[WORKFLOWS] \n",
                "SET SCHEDULE = '0 12 * * FRI'\n",
                "WHERE ID in (\n",
                "    SELECT WORKFLOW_ID FROM CTE \n",
                "    WHERE CTE.SOURCE_CONTENT in (\n",
                "        'https://data.rivm.nl/data/vws/covid-19/COVID-19_varianten.csv' --set in notebook too\n",
                "        ,'https://data.rivm.nl/data/vws/covid-19/VWS_COVID-19_varianten_master.csv' --set in notebook too\n",
                "    )\n",
                ")"
            ]
        }
    ],
    "metadata": {
        "kernelspec": {
            "display_name": ".NET (C#)",
            "language": "C#",
            "name": ".net-csharp"
        },
        "language_info": {
            "file_extension": ".cs",
            "mimetype": "text/x-csharp",
            "name": "C#",
            "pygments_lexer": "csharp",
            "version": "9.0"
        }
    },
    "nbformat": 4,
    "nbformat_minor": 2
}
