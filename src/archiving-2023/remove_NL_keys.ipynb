{
    "cells": [
        {
            "attachments": {},
            "cell_type": "markdown",
            "metadata": {
                "azdata_cell_guid": "5cdc0d05-c1b4-453a-a8a4-4cfc9a1015ad"
            },
            "source": [
                "```sql\n",
                "-- COPYRIGHT (C) 2020 DE STAAT DER NEDERLANDEN, MINISTERIE VAN   VOLKSGEZONDHEID, WELZIJN EN SPORT.\n",
                "-- LICENSED UNDER THE EUROPEAN UNION PUBLIC LICENCE V. 1.2 - SEE HTTPS://GITHUB.COM/MINVWS/NL-CONTACT-TRACING-APP-COORDINATIONFOR MORE INFORMATION.\n",
                "```"
            ]
        },
        {
            "attachments": {},
            "cell_type": "markdown",
            "metadata": {
                "azdata_cell_guid": "ce7a3bc7-6986-4d81-bf27-1a2818c095ce"
            },
            "source": [
                "# **DEPENDENCIES**\n",
                "\n",
                "---\n",
                "\n",
                "```json\n",
                "{\n",
                "    \"depends-on\": [\n",
                "        \"src/utils/conversions.ipynb\",\n",
                "        \"src/utils/schemas.ipynb\",\n",
                "        \"src/utils/protos.ipynb\"\n",
                "    ]\n",
                "}\n",
                "```"
            ]
        },
        {
            "attachments": {},
            "cell_type": "markdown",
            "metadata": {
                "azdata_cell_guid": "ce43cf11-e280-4187-a3ba-76e9e6a3f3e1"
            },
            "source": [
                "# **DISABLE NL KEYS**\n",
                "---"
            ]
        },
        {
            "cell_type": "code",
            "execution_count": null,
            "metadata": {},
            "outputs": [],
            "source": [
                "-- INACTIVATE NL PROTO CONFIGURATIONS.\n",
                "\n",
                "UPDATE [DATATINO_PROTO_1].[CONFIGURATIONS]\n",
                "SET [ACTIVE] = 0\n",
                "WHERE [ID] IN (\n",
                "    SELECT configs.[ID]\n",
                "    FROM [DATATINO_PROTO_1].[VIEWS] views\n",
                "    INNER JOIN [DATATINO_PROTO_1].[CONFIGURATIONS] AS configs ON views.[ID] = configs.[VIEW_ID]\n",
                "        AND (\n",
                "            configs.[NAME] IN (\n",
                "                'behavior',\n",
                "                'behavior_annotations',\n",
                "                'behavior_per_age_group',\n",
                "                'difference/disability_care__newly_infected_people_archived_20230126',\n",
                "                'difference/disability_care__infected_locations_total_archived_20230126',\n",
                "                'difference/elderly_at_home__positive_tested_daily_archived_20230126',\n",
                "                'difference/corona_melder_app_warning__count',\n",
                "                'reproduction',\n",
                "                'difference/reproduction__index_average',\n",
                "                'difference/nursing_home__deceased_daily_archived_20230126',\n",
                "                'difference/nursing_home__newly_infected_people_archived_20230126',\n",
                "                'nursing_home_archived_20230126',\n",
                "                'vulnerable_nursing_home',\n",
                "                'vulnerable_hospital_admissions',\n",
                "                'difference/vulnerable_hospital_admissions',\n",
                "                'difference/vulnerable_nursing_home__infected_locations_total',\n",
                "                'vulnerable_tested_per_age_group',\n",
                "                'difference/vulnerable_tested_per_age_group',\n",
                "                'tested_ggd_archived',\n",
                "                'vaccine_delivery_estimate',\n",
                "                'difference/tested_ggd__infected_percentage_moving_average',\n",
                "                'difference/tested_ggd__tested_total_moving_average',\n",
                "                'difference/tested_overall__infected_moving_average',\n",
                "                'difference/tested_overall__infected_per_100k_moving_average',\n",
                "                'g_number',\n",
                "                'tested_ggd',\n",
                "                'tested_overall',\n",
                "                'tested_per_age_group',\n",
                "                'corona_melder_app_warning',\n",
                "                'corona_melder_app_download',\n",
                "                'infectious_people',\n",
                "                'repeating_shot_administered',\n",
                "                'vaccine_coverage',\n",
                "                'vaccine_delivery_per_supplier',\n",
                "                'vaccine_stock',\n",
                "                'vaccine_vaccinated_or_support',\n",
                "                'booster_coverage_archived_20220904',\n",
                "                'booster_shot_administered_archived_20220904',\n",
                "                'deceased_rivm_archived_20221231',\n",
                "                'deceased_rivm_per_age_group_archived_20221231',\n",
                "                'difference/deceased_rivm__covid_daily_archived_20221231',\n",
                "                'disability_care_archived_20230126',\n",
                "                'elderly_at_home_archived_20230126',\n",
                "                'vaccine_campaigns_archived_20220908',\n",
                "                'vaccine_campaigns_archived_20220908/vaccine_campaigns',\n",
                "                'vaccine_coverage_per_age_group_archived',\n",
                "                'vaccine_coverage_per_age_group_archived_20220908',\n",
                "                'vaccine_coverage_per_age_group_estimated_archived_20220908',\n",
                "                'vaccine_planned_archived_20220908'\n",
                "            )\n",
                "            OR configs.[NAME] LIKE 'behavior_per_age_group/%'\n",
                "        ) -- remove all sub-keys\n",
                "    INNER JOIN [DATATINO_PROTO_1].[PROTOS] AS protos ON protos.[ID] = configs.[PROTO_ID]\n",
                "        AND protos.[NAME] = 'NL'\n",
                ");\n",
                "\n"
            ]
        }
    ],
    "metadata": {
        "kernelspec": {
            "display_name": "SQL",
            "language": "sql",
            "name": "SQL"
        },
        "language_info": {
            "name": "sql",
            "version": ""
        }
    },
    "nbformat": 4,
    "nbformat_minor": 2
}
