{
    "cells": [
        {
            "attachments": {},
            "cell_type": "markdown",
            "metadata": {
                "azdata_cell_guid": "5cdc0d05-c1b4-453a-a8a4-4cfc9a1015ad"
            },
            "source": [
                "```sql\n",
                "-- COPYRIGHT (C) 2020 DE STAAT DER NEDERLANDEN, MINISTERIE VAN   VOLKSGEZONDHEID, WELZIJN EN SPORT.\n",
                "-- LICENSED UNDER THE EUROPEAN UNION PUBLIC LICENCE V. 1.2 - SEE HTTPS://GITHUB.COM/MINVWS/NL-CONTACT-TRACING-APP-COORDINATION FOR MORE INFORMATION.\n",
                "```"
            ]
        },
        {
            "attachments": {},
            "cell_type": "markdown",
            "metadata": {
                "azdata_cell_guid": "ce7a3bc7-6986-4d81-bf27-1a2818c095ce"
            },
            "source": [
                "# **DEPENDENCIES**\n",
                "\n",
                "---\n",
                "\n",
                "```json\n",
                "{\n",
                "    \"depends-on\": [\n",
                "        \"src/utils/conversions.ipynb\",\n",
                "        \"src/utils/schemas.ipynb\",\n",
                "        \"src/utils/protos.ipynb\"\n",
                "    ]\n",
                "}\n",
                "```"
            ]
        },
        {
            "attachments": {},
            "cell_type": "markdown",
            "metadata": {
                "azdata_cell_guid": "ce43cf11-e280-4187-a3ba-76e9e6a3f3e1"
            },
            "source": [
                "# **DISABLE GM KEYS**\n",
                "---"
            ]
        },
        {
            "cell_type": "code",
            "execution_count": null,
            "metadata": {},
            "outputs": [],
            "source": [
                "-- INACTIVATE GM PROTO CONFIGURATIONS.\n",
                "\n",
                "UPDATE [DATATINO_PROTO_1].[CONFIGURATIONS]\n",
                "SET [ACTIVE] = 0\n",
                "WHERE [ID] IN (\n",
                "    SELECT configs.[ID]\n",
                "    FROM [DATATINO_PROTO_1].[VIEWS] views\n",
                "    INNER JOIN [DATATINO_PROTO_1].[CONFIGURATIONS] AS configs ON views.[ID] = configs.[VIEW_ID]\n",
                "        AND (\n",
                "            configs.[NAME] IN (\n",
                "                'difference/tested_overall__infected_moving_average',\t\n",
                "                'difference/tested_overall__infected_per_100k_moving_average',\n",
                "                'tested_overall',\n",
                "                'booster_coverage_archived_20220904',\n",
                "                'deceased_rivm_archived_20221231',\n",
                "                'difference/deceased_rivm__covid_daily_archived_20221231',\n",
                "                'vaccine_coverage_per_age_group_archived',\n",
                "                'vaccine_coverage_per_age_group_archived_20220908',\n",
                "                'difference/hospital_nice__admissions_on_date_of_reporting_moving_average'\n",
                "            )\n",
                "        )\n",
                "    INNER JOIN [DATATINO_PROTO_1].[PROTOS] AS protos ON protos.[ID] = configs.[PROTO_ID]\n",
                "        AND protos.[NAME] LIKE 'GM____'\n",
                ");\n",
                "\n"
            ]
        }
    ],
    "metadata": {
        "kernelspec": {
            "display_name": "SQL",
            "language": "sql",
            "name": "SQL"
        },
        "language_info": {
            "name": "sql",
            "version": ""
        }
    },
    "nbformat": 4,
    "nbformat_minor": 2
}
