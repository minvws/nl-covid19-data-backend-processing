{
    "cells": [
        {
            "attachments": {},
            "cell_type": "markdown",
            "metadata": {
                "azdata_cell_guid": "5cdc0d05-c1b4-453a-a8a4-4cfc9a1015ad"
            },
            "source": [
                "```sql\n",
                "-- COPYRIGHT (C) 2020 DE STAAT DER NEDERLANDEN, MINISTERIE VAN   VOLKSGEZONDHEID, WELZIJN EN SPORT..\n",
                "-- LICENSED UNDER THE EUROPEAN UNION PUBLIC LICENCE V. 1.2 - SEE HTTPS://GITHUB.COM/MINVWS/NL-CONTACT-TRACING-APP-COORDINATIONFOR MORE INFORMATION.\n",
                "```"
            ]
        },
        {
            "attachments": {},
            "cell_type": "markdown",
            "metadata": {
                "azdata_cell_guid": "ce7a3bc7-6986-4d81-bf27-1a2818c095ce"
            },
            "source": [
                "# **DEPENDENCIES**\n",
                "\n",
                "---\n",
                "\n",
                "```json\n",
                "{\n",
                "    \"depends-on\": [\n",
                "        \"src/utils/conversions.ipynb\",\n",
                "        \"src/utils/schemas.ipynb\",\n",
                "        \"src/utils/protos.ipynb\"\n",
                "    ]\n",
                "}\n",
                "```"
            ]
        },
        {
            "attachments": {},
            "cell_type": "markdown",
            "metadata": {
                "azdata_cell_guid": "ce43cf11-e280-4187-a3ba-76e9e6a3f3e1"
            },
            "source": [
                "# **DISABLE VR_COLLECTION KEYS**\n",
                "---"
            ]
        },
        {
            "cell_type": "code",
            "execution_count": null,
            "metadata": {},
            "outputs": [],
            "source": [
                "-- INACTIVATE GM_COLLECTION PROTO CONFIGURATIONS\n",
                "\n",
                "UPDATE [DATATINO_PROTO_1].[CONFIGURATIONS]\n",
                "SET [ACTIVE] = 0\n",
                "WHERE [ID] IN (\n",
                "    SELECT configs.[ID]\n",
                "    FROM [DATATINO_PROTO_1].[VIEWS] views\n",
                "    INNER JOIN [DATATINO_PROTO_1].[CONFIGURATIONS] AS configs ON views.[ID] = configs.[VIEW_ID]\n",
                "        AND configs.[NAME] IN (\n",
                "            'tested_overall',\n",
                "            'hospital_nice'\n",
                "            )\n",
                "    INNER JOIN [DATATINO_PROTO_1].[PROTOS] AS protos ON protos.[ID] = configs.[PROTO_ID]\n",
                "        AND protos.[NAME] = 'GM_COLLECTION'\n",
                ");\n"
            ]
        }
    ],
    "metadata": {
        "kernelspec": {
            "display_name": "SQL",
            "language": "sql",
            "name": "SQL"
        },
        "language_info": {
            "name": "sql",
            "version": ""
        }
    },
    "nbformat": 4,
    "nbformat_minor": 2
}
