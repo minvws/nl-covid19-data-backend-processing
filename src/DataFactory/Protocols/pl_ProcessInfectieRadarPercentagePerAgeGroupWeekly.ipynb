{
        "cells": [
                {
                        "cell_type": "markdown",
                        "metadata": {},
                        "source": [
                                "```sql\n",
                                "-- COPYRIGHT (C) 2022 DE STAAT DER NEDERLANDEN, MINISTERIE VAN VOLKSGEZONDHEID, WELZIJN EN SPORT.\n",
                                "-- LICENSED UNDER THE EUROPEAN UNION PUBLIC LICENCE V. 1.2 - SEE HTTPS://GITHUB.COM/MINVWS/NL-CONTACT-TRACING-APP-COORDINATION FOR MORE INFORMATION.\n",
                                "```"
                        ]
                },
                {
                        "cell_type": "markdown",
                        "metadata": {},
                        "source": [
                                "# **DEPENDENCIES**\n",
                                "\n",
                                "---\n",
                                "\n",
                                "```json\n",
                                "{\n",
                                "    \"depends-on\": [\n",
                                "        \"src/DataFactory/Utils/Functions.ipynb\",\n",
                                "        \"src/DataFactory/Utils/Schemas.ipynb\",\n",
                                "        \"src/DataFactory/Utils/Protos.ipynb\"\n",
                                "        // Additional dependencies (!NOTE! DO NOT FORGET THE COMMA (i.e. ,))\n",
                                "    ]\n",
                                "}\n",
                                "```"
                        ]
                },
                {
                        "cell_type": "markdown",
                        "metadata": {},
                        "source": [
                                "### **<span style='color:cadetblue'>PROTOS</span>**"
                        ]
                },
                {
                        "cell_type": "code",
                        "execution_count": null,
                        "metadata": {
                                "dotnet_interactive": {
                                        "language": "csharp"
                                },
                                "polyglot_notebook": {
                                        "kernelName": "csharp"
                                }
                        },
                        "outputs": [],
                        "source": [
                                "-- 1) SET ENVIRONMENTAL VARIABLES.....\n",
                                "DECLARE @view_name VARCHAR(256) = 'VWSDEST.V_RIVM_INFECTIE_RADAR_PERCENTAGE_PER_AGEGROUP_WEEKLY',\n",
                                "        @view_description VARCHAR(256),\n",
                                "        @item_name VARCHAR(256) = 'infectionradar_symptoms_trend_per_age_group_weekly',\n",
                                "        @config_description VARCHAR(256),\n",
                                "        @constraint_value VARCHAR(50) = NULL,\n",
                                "        @constraint_key_name VARCHAR(50) = NULL,\n",
                                "        @grouped_key_name VARCHAR(50) = NULL,\n",
                                "        @grouped_last_update_name VARCHAR(50) = NULL,\n",
                                "        @proto_name VARCHAR(50) = 'NL',\n",
                                "        @columns VARCHAR(256) = '*',\n",
                                "        @layout_type_id INT = 1,\n",
                                "        @last_update_name VARCHAR(50) = 'DATE_END_UNIX',\n",
                                "        @is_active INT;\n",
                                "        \n",
                                "SET @is_active = CASE LOWER('#{ Environment }#')\n",
                                "    WHEN 'production' THEN 1\n",
                                "    WHEN 'acceptance' THEN 1\n",
                                "    ELSE 1\n",
                                "END;\n",
                                "\n",
                                "SET @view_description = CONCAT('VIEW: ', @view_name, ' FOR ', @item_name);\n",
                                "SET @config_description = CONCAT('VIEW CONFIGURATION: ', @view_name, ' FOR ', @item_name);\n",
                                "\n",
                                "-- 2) DETERMINE VIEW ID & CONFIGURATION ID\n",
                                "DECLARE @constrained INT,\n",
                                "        @grouped INT,\n",
                                "        @view_id BIGINT,\n",
                                "        @config_id BIGINT;\n",
                                "\n",
                                "SET @constrained = CASE \n",
                                "    WHEN @constraint_key_name IS NULL THEN 0\n",
                                "    ELSE 1\n",
                                "END;\n",
                                "SET @grouped = CASE \n",
                                "    WHEN @grouped_key_name IS NULL THEN 0\n",
                                "    ELSE 1\n",
                                "END;\n",
                                "\n",
                                "DELETE FROM [DATATINO_PROTO_1].[CONFIGURATIONS]\n",
                                "WHERE [ID] IN (\n",
                                "    SELECT\n",
                                "        configs.[ID]\n",
                                "    FROM [DATATINO_PROTO_1].[VIEWS] views\n",
                                "    INNER JOIN [DATATINO_PROTO_1].[CONFIGURATIONS] AS configs ON views.[ID] = configs.[VIEW_ID]\n",
                                "        AND configs.[NAME] = @item_name\n",
                                "    INNER JOIN [DATATINO_PROTO_1].[PROTOS] AS protos ON protos.[ID] = configs.[PROTO_ID]\n",
                                "        AND protos.[NAME] = @proto_name\n",
                                ");\n",
                                "\n",
                                "SELECT \n",
                                "    @view_id = [ID]\n",
                                "FROM [DATATINO_PROTO_1].[VIEWS]\n",
                                "WHERE ISNULL([CONSTRAINT_VALUE], 'X') = ISNULL(@constraint_value, 'X')\n",
                                "    AND ISNULL([CONSTRAINT_KEY_NAME], 'X') = ISNULL(@constraint_key_name, 'X')\n",
                                "    AND ISNULL([GROUPED_KEY_NAME], 'X') = ISNULL(@grouped_key_name, 'X')\n",
                                "    AND ISNULL([GROUPED_LAST_UPDATE_NAME], 'X') = ISNULL(@grouped_last_update_name, 'X')\n",
                                "    AND [NAME] = @view_name;\n",
                                "\n",
                                "SELECT\n",
                                "    @config_id = configs.[ID]\n",
                                "FROM [DATATINO_PROTO_1].[VIEWS] views\n",
                                "INNER JOIN [DATATINO_PROTO_1].[CONFIGURATIONS] AS configs ON views.[ID] = configs.[VIEW_ID]\n",
                                "    AND configs.[NAME] = @item_name\n",
                                "    AND configs.[VIEW_ID] = @view_id\n",
                                "INNER JOIN [DATATINO_PROTO_1].[PROTOS] AS protos ON protos.[ID] = configs.[PROTO_ID]\n",
                                "    AND protos.[NAME] = @proto_name\n",
                                "WHERE views.[NAME] = @view_name;\n",
                                "\n",
                                "-- 3) UPSERT PROTO VIEW(S).....\n",
                                "EXECUTE [DATATINO_PROTO_1].[UPSERT_VIEW]\n",
                                "    @id = @view_id,\n",
                                "    @view_name = @view_name,\n",
                                "    @description = @view_description,\n",
                                "    @last_update_name = @last_update_name,\n",
                                "    @constraint_key_name = @constraint_key_name,\n",
                                "    @constraint_value = @constraint_value,\n",
                                "    @grouped_key_name = @grouped_key_name,\n",
                                "    @grouped_last_update_name = @grouped_last_update_name;\n",
                                "\n",
                                "-- 4) UPSERT PROTO CONFIGURATION(S).....\n",
                                "EXECUTE [DATATINO_PROTO_1].[UPSERT_CONFIGURATION]\n",
                                "    @id = @config_id,\n",
                                "    @proto_name = @proto_name,\n",
                                "    @description =  @config_description,\n",
                                "    @view_name = @view_name,\n",
                                "    @item_name = @item_name,\n",
                                "    @constrained = @constrained,\n",
                                "    @grouped = @grouped,\n",
                                "    @columns = @columns,\n",
                                "    @mapping = '=LOWER()',\n",
                                "    @layout_type_id = @layout_type_id,\n",
                                "    @active = @is_active,\n",
                                "    @constraint_key_name = @constraint_key_name,\n",
                                "    @constraint_value = @constraint_value,\n",
                                "    @grouped_key_name = @grouped_key_name,\n",
                                "    @grouped_last_update_name = @grouped_last_update_name;\n",
                                "GO\n"
                        ]
                }
        ],
        "metadata": {
                "kernelspec": {
                        "display_name": "SQL",
                        "language": "sql",
                        "name": "SQL"
                },
                "language_info": {
                        "name": "sql",
                        "version": ""
                }
        },
        "nbformat": 4,
        "nbformat_minor": 2
}
