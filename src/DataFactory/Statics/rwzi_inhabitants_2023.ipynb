{
    "cells": [
        {
            "attachments": {},
            "cell_type": "markdown",
            "metadata": {
                "azdata_cell_guid": "a1bff903-eb61-4e65-82a1-c4e918bbcac8"
            },
            "source": [
                "```sql\n",
                "-- COPYRIGHT (C) 2020 DE STAAT DER NEDERLANDEN, MINISTERIE VAN   VOLKSGEZONDHEID, WELZIJN EN SPORT.\n",
                "-- LICENSED UNDER THE EUROPEAN UNION PUBLIC LICENCE V. 1.2 - SEE HTTPS://GITHUB.COM/MINVWS/NL-CONTACT-TRACING-APP-COORDINATIONFOR MORE INFORMATION.\n",
                "```\n",
                "\n",
                "# **INTRODUCTIONS**\n",
                "\n",
                "---\n",
                "\n",
                "The code is separated into multiple sections:\n",
                "\n",
                "1. **[Dependencies](#dependencies)**\n",
                "2. **[Tables](#tables)**\n",
                "3. **[Stored Procedures](#stored-procedures)**"
            ]
        },
        {
            "attachments": {},
            "cell_type": "markdown",
            "metadata": {},
            "source": [
                "# **DEPENDENCIES**\n",
                "\n",
                "---\n",
                "\n",
                "```json\n",
                "{\n",
                "    \"depends-on\": [\n",
                "        \"src/DataFactory/Utils/Schemas.ipynb\",\n",
                "        \"src/DataFactory/Utils/Protos.ipynb\",\n",
                "        \"src/statics/municipalities/inhabitants_per_municipality.ipynb\"\n",
                "    ]\n",
                "}\n",
                "```"
            ]
        },
        {
            "attachments": {},
            "cell_type": "markdown",
            "metadata": {
                "azdata_cell_guid": "b883932e-c47b-4de6-9629-eca0ff8aeabb"
            },
            "source": [
                "# **TABLES**\n",
                "\n",
                "---"
            ]
        },
        {
            "attachments": {},
            "cell_type": "markdown",
            "metadata": {},
            "source": [
                "### STAGINGS"
            ]
        },
        {
            "cell_type": "code",
            "execution_count": null,
            "metadata": {
                "dotnet_interactive": {
                    "language": "sql"
                },
                "polyglot_notebook": {
                    "kernelName": "sql"
                },
                "vscode": {
                    "languageId": "polyglot-notebook"
                }
            },
            "outputs": [],
            "source": [
                "-- Copyright (c) 2020 De Staat der Nederlanden, Ministerie van   Volksgezondheid, Welzijn en Sport.\n",
                "-- Licensed under the EUROPEAN UNION PUBLIC LICENCE v. 1.2 - see https://github.com/minvws/nl-contact-tracing-app-coordinationfor more information.\n",
                "\n",
                "SET ANSI_NULLS ON\n",
                "GO\n",
                "\n",
                "SET QUOTED_IDENTIFIER ON\n",
                "GO\n",
                "\n",
                "-- 1) CREATE TABLE(S).....\n",
                "IF NOT EXISTS(SELECT * FROM SYS.TABLES WHERE [OBJECT_ID] = OBJECT_ID(N'[VWSSTAGE].[RWZI_CONNECTED_INHABITANTS]'))\n",
                "CREATE TABLE [VWSSTAGE].[RWZI_CONNECTED_INHABITANTS] (\n",
                "\t[ID] [BIGINT] PRIMARY KEY IDENTITY(1,1),\n",
                "\t[REGIO_CODE] [VARCHAR](100) NULL,\n",
                "\t[REGIO_NAME] [VARCHAR](100) NULL,\n",
                "    [CONNECTED_INHABITANTS] [VARCHAR](100) NULL,\n",
                "\t[DATE_LAST_INSERTED] [DATETIME] DEFAULT GETDATE()\n",
                ");\n",
                "GO"
            ]
        },
        {
            "attachments": {},
            "cell_type": "markdown",
            "metadata": {},
            "source": [
                "### STATICS"
            ]
        },
        {
            "cell_type": "code",
            "execution_count": null,
            "metadata": {
                "dotnet_interactive": {
                    "language": "sql"
                },
                "polyglot_notebook": {
                    "kernelName": "sql"
                },
                "vscode": {
                    "languageId": "polyglot-notebook"
                }
            },
            "outputs": [],
            "source": [
                "-- Copyright (c) 2020 De Staat der Nederlanden, Ministerie van   Volksgezondheid, Welzijn en Sport.\n",
                "-- Licensed under the EUROPEAN UNION PUBLIC LICENCE v. 1.2 - see https://github.com/minvws/nl-contact-tracing-app-coordinationfor more information.\n",
                "\n",
                "IF NOT EXISTS(SELECT * FROM sys.sequences WHERE object_id = OBJECT_ID(N'[dbo].[SEQ_VWSSTATIC_RWZI_CONNECTED_INHABITANTS]') AND type = 'SO')\n",
                "CREATE SEQUENCE SEQ_VWSSTATIC_RWZI_CONNECTED_INHABITANTS\n",
                "  START WITH 1\n",
                "  INCREMENT BY 1;\n",
                "GO\n",
                "\n",
                "IF NOT EXISTS(SELECT * FROM SYS.TABLES WHERE [OBJECT_ID] = OBJECT_ID(N'[VWSSTATIC].[RWZI_CONNECTED_INHABITANTS]'))\n",
                "CREATE TABLE VWSSTATIC.RWZI_CONNECTED_INHABITANTS(\n",
                "    [ID] INT PRIMARY KEY NOT NULL DEFAULT (NEXT VALUE FOR [dbo].[SEQ_VWSSTATIC_RWZI_CONNECTED_INHABITANTS]),\n",
                "\t  [REGIO_CODE] [VARCHAR](100) NULL,\n",
                "\t  [REGIO_NAME] [VARCHAR](100) NULL,\n",
                "    [CONNECTED_INHABITANTS] INT NULL,\n",
                "\t  [DATE_LAST_INSERTED] [DATETIME] DEFAULT GETDATE()\n",
                ");\n",
                "GO"
            ]
        },
        {
            "attachments": {},
            "cell_type": "markdown",
            "metadata": {},
            "source": [
                "# **STORED PROCEDURES**\n",
                "\n",
                "---"
            ]
        },
        {
            "attachments": {},
            "cell_type": "markdown",
            "metadata": {},
            "source": [
                "### STAGE &rarr; STATIC MAPPING"
            ]
        },
        {
            "cell_type": "code",
            "execution_count": null,
            "metadata": {
                "dotnet_interactive": {
                    "language": "sql"
                },
                "polyglot_notebook": {
                    "kernelName": "sql"
                },
                "vscode": {
                    "languageId": "polyglot-notebook"
                }
            },
            "outputs": [],
            "source": [
                "-- Copyright (c) 2020 De Staat der Nederlanden, Ministerie van   Volksgezondheid, Welzijn en Sport.\n",
                "-- Licensed under the EUROPEAN UNION PUBLIC LICENCE v. 1.2 - see https://github.com/minvws/nl-contact-tracing-app-coordinationfor more information.\n",
                "\n",
                "CREATE OR ALTER PROCEDURE [DBO].[SP_RWZI_CONNECTED_INHABITANTS]\n",
                "AS\n",
                "BEGIN\n",
                "    INSERT INTO [VWSSTATIC].[RWZI_CONNECTED_INHABITANTS] (        \n",
                "        [REGIO_CODE],\n",
                "\t    [REGIO_NAME],\n",
                "        [CONNECTED_INHABITANTS]\n",
                "    )\n",
                "    SELECT\n",
                "        [REGIO_CODE],\n",
                "\t    [REGIO_NAME],\n",
                "        [CONNECTED_INHABITANTS]\n",
                "    FROM [VWSSTAGE].[RWZI_CONNECTED_INHABITANTS]\n",
                "    WHERE [DATE_LAST_INSERTED] = (SELECT MAX([DATE_LAST_INSERTED]) FROM [VWSSTAGE].[RWZI_CONNECTED_INHABITANTS] WITH(NOLOCK))\n",
                "END;\n",
                "GO"
            ]
        },
        {
            "attachments": {},
            "cell_type": "markdown",
            "metadata": {},
            "source": [
                "### UPDATE INHABITANTS VIEW"
            ]
        },
        {
            "cell_type": "code",
            "execution_count": null,
            "metadata": {
                "dotnet_interactive": {
                    "language": "sql"
                },
                "polyglot_notebook": {
                    "kernelName": "sql"
                },
                "vscode": {
                    "languageId": "polyglot-notebook"
                }
            },
            "outputs": [],
            "source": [
                "-- Copyright (c) 2020 De Staat der Nederlanden, Ministerie van   Volksgezondheid, Welzijn en Sport.\n",
                "-- Licensed under the EUROPEAN UNION PUBLIC LICENCE v. 1.2 - see https://github.com/minvws/nl-contact-tracing-app-coordinationfor more information.\n",
                "\n",
                "\n",
                "CREATE OR ALTER VIEW [VWSDEST].[V_INHABITANTS_PER_MUNICIPALITY]\n",
                "AS\n",
                "SELECT [GMCODE]\n",
                "      ,[INHABITANTS] AS POPULATION_COUNT\n",
                "      ,rwzi.[CONNECTED_INHABITANTS] AS POPULATION_COUNT_CONNECTED_TO_RWZIS\n",
                "      ,mun.[DATE_LAST_INSERTED]\n",
                "FROM [VWSSTATIC].[INHABITANTS_PER_MUNICIPALITY] as mun\n",
                "JOIN [VWSSTATIC].[RWZI_CONNECTED_INHABITANTS] as rwzi on rwzi.[REGIO_CODE] = mun.[GMCODE]\n",
                "WHERE mun.DATE_LAST_INSERTED = (SELECT MAX(DATE_LAST_INSERTED)\n",
                "                            FROM [VWSSTATIC].[INHABITANTS_PER_MUNICIPALITY])\n",
                "AND rwzi.[DATE_LAST_INSERTED] = (SELECT MAX(DATE_LAST_INSERTED)\n",
                "                            FROM [VWSSTATIC].[RWZI_CONNECTED_INHABITANTS])\n",
                "\n",
                "GO "
            ]
        },
        {
            "attachments": {},
            "cell_type": "markdown",
            "metadata": {},
            "source": [
                "### UPDATE [DATATINO_PROTO_1].[CONFIGURATIONS] adjust [COLUMNS] value for all GM PROTO CONFIGS"
            ]
        },
        {
            "cell_type": "code",
            "execution_count": null,
            "metadata": {
                "dotnet_interactive": {
                    "language": "sql"
                },
                "polyglot_notebook": {
                    "kernelName": "sql"
                },
                "vscode": {
                    "languageId": "polyglot-notebook"
                }
            },
            "outputs": [],
            "source": [
                "-- Copyright (c) 2020 De Staat der Nederlanden, Ministerie van   Volksgezondheid, Welzijn en Sport.\n",
                "-- Licensed under the EUROPEAN UNION PUBLIC LICENCE v. 1.2 - see https://github.com/minvws/nl-contact-tracing-app-coordinationfor more information.\n",
                "\n",
                "UPDATE [DATATINO_PROTO_1].[CONFIGURATIONS]\n",
                "SET [COLUMNS] = 'POPULATION_COUNT|POPULATION_COUNT_CONNECTED_TO_RWZIS'\n",
                "WHERE [NAME] = 'static_values' AND [COLUMNS] = 'POPULATION_COUNT'\n",
                "AND PROTO_ID in (SELECT ID FROM  [DATATINO_PROTO_1].[PROTOS] WHERE NAME like 'GM%')"
            ]
        }
    ],
    "metadata": {
        "kernelspec": {
            "display_name": "SQL",
            "language": "sql",
            "name": "SQL"
        },
        "language_info": {
            "name": "sql",
            "version": ""
        }
    },
    "nbformat": 4,
    "nbformat_minor": 2
}
