{
    "cells": [
        {
            "cell_type": "markdown",
            "metadata": {
                "azdata_cell_guid": "a1bff903-eb61-4e65-82a1-c4e918bbcac8"
            },
            "source": [
                "```sql\n",
                "-- COPYRIGHT (C) 2022 DE STAAT DER NEDERLANDEN, MINISTERIE VAN VOLKSGEZONDHEID, WELZIJN EN SPORT.\n",
                "-- LICENSED UNDER THE EUROPEAN UNION PUBLIC LICENCE V. 1.2 - SEE HTTPS://GITHUB.COM/MINVWS/NL-CONTACT-TRACING-APP-COORDINATIONFOR MORE INFORMATION.\n",
                "```\n",
                "\n",
                "# **INTRODUCTIONS**\n",
                "\n",
                "---\n",
                "\n",
                "The code is separated into multiple sections:\n",
                "\n",
                "1. **[Flow Diagrams](#flow-diagrams)**\n",
                "2. **[Dependencies](#dependencies)**\n",
                "3. **[Input Layer](#input-layer)**\n",
                "4. **[Static Layer](#intermediate-layer)**\n",
                "\n",
                "\n",
                "# **FLOW DIAGRAMS**\n",
                "\n",
                "---\n",
                "\n",
                "[![](https://mermaid.ink/img/pako:eNpdT71uAjEMfpXIE0jQB7ih0lUwINGFsDVV5UvMXcTlRz6HiiLevWmhA_Vk-fv1BWxyBA0cxvRpB2RRarszUdWZStcz5kFtYi6itngmviGaZ-1XYXoZUzdXy6Uy8Nrq_Xq3avftxwnZY5TpyU4nAxV-VvptNgn2Pvbz95sFRfcvRQuKtw8xv9pN1ZbubqoC5vxoAwsIxAG9q29cfs4GZKBABpq6OuSjAROvlVeyQ6G185IYmgOOEy0AiyR9jhYa4UJ_pJXHWivcWddvOI1hAA)](https://mermaid-js.github.io/mermaid-live-editor/edit#pako:eNpdT71uAjEMfpXIE0jQB7ih0lUwINGFsDVV5UvMXcTlRz6HiiLevWmhA_Vk-fv1BWxyBA0cxvRpB2RRarszUdWZStcz5kFtYi6itngmviGaZ-1XYXoZUzdXy6Uy8Nrq_Xq3avftxwnZY5TpyU4nAxV-VvptNgn2Pvbz95sFRfcvRQuKtw8xv9pN1ZbubqoC5vxoAwsIxAG9q29cfs4GZKBABpq6OuSjAROvlVeyQ6G185IYmgOOEy0AiyR9jhYa4UJ_pJXHWivcWddvOI1hAA)\n",
                "\n",
                "Required steps:\n",
                "\n",
                "1. **[Source]()**: contains the `\"subvariant masterdata\"` data collected to be used to mapping the COVID-19 variants and used for further processing.\n",
                "2. **[Staging](#input-layer)**: inserts the raw `Source` data within the `[VWSSTAGE].[RIVM_SUBVARIANT_MAPPING]` table.\n",
                "3. **[Subvariant Mapping](#static-layer)**: inserts the `Staging` data and cast the correct `Database Types` within `[VWSSTATIC].[RIVM_SUBVARIANT_MAPPING]` using business logic implemented in `[dbo].[SP_INSERT_SL_RIVM_SUBVARIANT_MAPPING]`.\n",
                "\n",
                "- **<font color=teal>SL</font>**: Static Layer"
            ]
        },
        {
            "cell_type": "markdown",
            "metadata": {
                "azdata_cell_guid": "5f7eda1c-d087-4bbd-8504-802228776c0d"
            },
            "source": [
                "# **DEPENDENCIES**\n",
                "\n",
                "---\n",
                "\n",
                "```json\n",
                "{\n",
                "    \"depends-on\": [\n",
                "        \"src/DataFactory/Utils/Schemas.ipynb\"\n",
                "        // Additional dependencies (!NOTE! DO NOT FORGET THE COMMA (i.e. ,))\n",
                "    ]\n",
                "}\n",
                "```"
            ]
        },
        {
            "cell_type": "markdown",
            "metadata": {},
            "source": [
                "# **INPUT LAYER**\n",
                "\n",
                "---"
            ]
        },
        {
            "cell_type": "markdown",
            "metadata": {},
            "source": [
                "## **<span style='color:teal'>TABLES</span>**"
            ]
        },
        {
            "cell_type": "code",
            "execution_count": null,
            "metadata": {
                "azdata_cell_guid": "247bfd81-3df9-4f8e-981e-3f5a3dbdc126"
            },
            "outputs": [],
            "source": [
                "SET ANSI_NULLS ON\n",
                "GO\n",
                "\n",
                "SET QUOTED_IDENTIFIER ON\n",
                "GO\n",
                "\n",
                "-- 1) CREATE TABLE(S).....\n",
                "IF NOT EXISTS (SELECT * FROM [SYS].[TABLES] WHERE [OBJECT_ID] = OBJECT_ID('[VWSSTAGE].[RIVM_SUBVARIANT_MAPPING]'))\n",
                "CREATE TABLE [VWSSTAGE].[RIVM_SUBVARIANT_MAPPING] (\n",
                "\t[ID] [BIGINT] PRIMARY KEY IDENTITY(1,1),\n",
                "\t[DATE_LAST_INSERTED]  [DATETIME] DEFAULT GETDATE(),\n",
                "    [VARIANT_CODE] [VARCHAR] (100) NULL,\n",
                "    [VARIANT_NAME] [VARCHAR] (100) NULL,\n",
                "    [LABEL] [VARCHAR] (100) NULL,\n",
                "    [HISTORICALY_SIGNIFICANT] [VARCHAR] (100) NULL\n",
                ");\n",
                "GO"
            ]
        },
        {
            "cell_type": "markdown",
            "metadata": {},
            "source": [
                "# **STATIC LAYER**\n",
                "\n",
                "---"
            ]
        },
        {
            "cell_type": "markdown",
            "metadata": {},
            "source": [
                "## **<span style='color:teal'>TABLES</span>**"
            ]
        },
        {
            "cell_type": "code",
            "execution_count": null,
            "metadata": {},
            "outputs": [],
            "source": [
                "SET ANSI_NULLS ON\n",
                "GO\n",
                "\n",
                "SET QUOTED_IDENTIFIER ON\n",
                "GO\n",
                "\n",
                "-- 1) CREATE TABLE(S).....\n",
                "IF NOT EXISTS (SELECT * FROM [SYS].[TABLES] WHERE [OBJECT_ID] = OBJECT_ID('[VWSSTATIC].[RIVM_SUBVARIANT_MAPPING]'))\n",
                "CREATE TABLE [VWSSTATIC].[RIVM_SUBVARIANT_MAPPING] (\n",
                "\t[ID] [BIGINT] PRIMARY KEY IDENTITY(1,1),\n",
                "\t[DATE_LAST_INSERTED]  [DATETIME] DEFAULT GETDATE(),\n",
                "    [VARIANT_CODE] [VARCHAR] (100)  NULL,\n",
                "    [VARIANT_NAME] [VARCHAR] (100)  NULL,\n",
                "    [LABEL] [VARCHAR] (100)  NULL,\n",
                "    [HISTORICALY_SIGNIFICANT] [BIT] DEFAULT(0) NULL\n",
                ");\n",
                "GO\n",
                "\n",
                "-- 2) CREATE INDEX(ES).....\n",
                "DROP INDEX IF EXISTS [NCIX_DLI_RIVM_SUBVARIANT_MAPPING]\n",
                "\tON [VWSSTATIC].[RIVM_SUBVARIANT_MAPPING]\n",
                "GO\n",
                "\n",
                "CREATE INDEX [NCIX_DLI_RIVM_SUBVARIANT_MAPPING]\n",
                "\tON [VWSSTATIC].[RIVM_SUBVARIANT_MAPPING] (\n",
                "\t\t[DATE_LAST_INSERTED]\n",
                "\t)\n",
                "GO"
            ]
        },
        {
            "cell_type": "markdown",
            "metadata": {},
            "source": [
                "## **<span style='color:teal'>STORED PROCEDURES</span>**"
            ]
        },
        {
            "cell_type": "code",
            "execution_count": null,
            "metadata": {},
            "outputs": [],
            "source": [
                "-- 1) CREATE STORED PROCEDURE(S): STAGING TO STATIC.....\n",
                "CREATE OR ALTER PROCEDURE [dbo].[SP_INSERT_SL_RIVM_SUBVARIANT_MAPPING]\n",
                "AS\n",
                "BEGIN\n",
                "    INSERT INTO [VWSSTATIC].[RIVM_SUBVARIANT_MAPPING] (\n",
                "        [VARIANT_CODE],\n",
                "        [VARIANT_NAME],\n",
                "        [LABEL],\n",
                "        [HISTORICALY_SIGNIFICANT]\n",
                "    )\n",
                "    SELECT\n",
                "        [VARIANT_CODE],\n",
                "        [VARIANT_NAME],\n",
                "        [LABEL],\n",
                "        [HISTORICALY_SIGNIFICANT]\n",
                "    FROM\n",
                "        [VWSSTAGE].[RIVM_SUBVARIANT_MAPPING]\n",
                "    WHERE [DATE_LAST_INSERTED] = (SELECT MAX([DATE_LAST_INSERTED]) FROM [VWSSTAGE].[RIVM_SUBVARIANT_MAPPING])\n",
                "END;\n",
                "GO"
            ]
        }
    ],
    "metadata": {
        "kernelspec": {
            "display_name": "SQL",
            "language": "sql",
            "name": "SQL"
        },
        "language_info": {
            "name": "sql",
            "version": ""
        }
    },
    "nbformat": 4,
    "nbformat_minor": 2
}
