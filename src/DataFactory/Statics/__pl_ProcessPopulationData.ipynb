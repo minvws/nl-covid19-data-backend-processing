{
    "cells": [
        {
            "cell_type": "markdown",
            "metadata": {},
            "source": [
                "```sql\n",
                "-- COPYRIGHT (C) 2022 DE STAAT DER NEDERLANDEN, MINISTERIE VAN VOLKSGEZONDHEID, WELZIJN EN SPORT.\n",
                "-- LICENSED UNDER THE EUROPEAN UNION PUBLIC LICENCE V. 1.2 - SEE HTTPS://GITHUT2.COM/MINVWS/NL-CONTACT-TRACING-APP-COORDINATIONFOR MORE INFORMATION.\n",
                "```\n",
                "\n",
                "# **INTRODUCTIONS**\n",
                "\n",
                "---\n",
                "\n",
                "The code is separated into multiple sections:\n",
                "\n",
                "1. **[Flow Diagrams](#flow-diagrams)**\n",
                "2. **[Dependencies](#dependencies)**\n",
                "3. **[Input Layer](#input-layer)**\n",
                "4. **[Intermediate Layer](#intermediate-layer)**\n",
                "5. **[Static Layer](#static-layer)**\n",
                "\n",
                "\n",
                "# **FLOW DIAGRAMS**\n",
                "\n",
                "---\n",
                "\n",
                "[![](https://mermaid.ink/img/pako:eNplT8sKwjAQ_JWwpwrqB_QgKHoQPNljI7I2axtsk7DdKCr-u_EFintaZmZnZq9QeUOQw771p6pBFqVWa-1Umj7uasbQqKULUdQKz8QvpuCsnF4i06z1u81AjUZKQ_AhtiiWtgYFx1V_1JCYiSrKrBesrasHm9c9OfMXIcQdGYtCP0lPh2WZ2S_Blw0MoUs4WpN-uD5gDdJQRxrytBrkgwbtbkkXQ-pFC2PFM-R7bHsaAkbxxdlVkAtH-ojmFlOt7q263QHxt2D6)](https://mermaid-js.github.io/mermaid-live-editor/edit#pako:eNplT8sKwjAQ_JWwpwrqB_QgKHoQPNljI7I2axtsk7DdKCr-u_EFintaZmZnZq9QeUOQw771p6pBFqVWa-1Umj7uasbQqKULUdQKz8QvpuCsnF4i06z1u81AjUZKQ_AhtiiWtgYFx1V_1JCYiSrKrBesrasHm9c9OfMXIcQdGYtCP0lPh2WZ2S_Blw0MoUs4WpN-uD5gDdJQRxrytBrkgwbtbkkXQ-pFC2PFM-R7bHsaAkbxxdlVkAtH-ojmFlOt7q263QHxt2D6)\n",
                "\n",
                "Required steps:\n",
                "\n",
                "1. **[AzureBlob]()**: contains the static `\"population\"` data collected by VWS to be used for further processing.\n",
                "2. **[Staging](#input-layer)**: inserts the raw `Source` data within the `[VWSSTAGE].[VWS_POPULATION]` table.\n",
                "3. **[Intermediate](#static-layer)**: inserts the `Staging` data and cast the correct `Database Types` within `[VWSINTER].[VWS_POPULATION]` using business logic implemented in `[dbo].[SP_INSERT_IL_VWS_POPULATION]`.\n",
                "\n",
                "- **<font color=teal>IL</font>**: Intermediate Layer\n",
                "- **<font color=teal>SL</font>**: Static Layer"
            ]
        },
        {
            "cell_type": "markdown",
            "metadata": {},
            "source": [
                "# **DEPENDENCIES**\n",
                "\n",
                "---\n",
                "\n",
                "```json\n",
                "{\n",
                "    \"depends-on\": [\n",
                "        \"src/DataFactory/Utils/Schemas.ipynb\",\n",
                "        \"src/DataFactory/Utils/MunicipalityRemapping.ipynb\"\n",
                "        // Additional dependencies (!NOTE! DO NOT FORGET THE COMMA (i.e. ,))\n",
                "    ]\n",
                "}\n",
                "```"
            ]
        },
        {
            "cell_type": "markdown",
            "metadata": {},
            "source": [
                "# **INPUT LAYER**\n",
                "\n",
                "---"
            ]
        },
        {
            "cell_type": "markdown",
            "metadata": {},
            "source": [
                "## **<span style='color:teal'>TABLES</span>**"
            ]
        },
        {
            "cell_type": "code",
            "execution_count": null,
            "metadata": {},
            "outputs": [],
            "source": [
                "SET ANSI_NULLS ON\n",
                "GO\n",
                "\n",
                "SET QUOTED_IDENTIFIER ON\n",
                "GO\n",
                "\n",
                "-- 1) CREATE TABLE(S).....\n",
                "IF NOT EXISTS (SELECT * FROM [SYS].[TABLES] WHERE [OBJECT_ID] = OBJECT_ID('[VWSSTAGE].[VWS_POPULATION]'))\n",
                "CREATE TABLE [VWSSTAGE].[VWS_POPULATION] (\n",
                "\t[ID] [BIGINT] PRIMARY KEY IDENTITY(1,1),\n",
                "\t[DATE_LAST_INSERTED] [DATETIME] DEFAULT GETDATE(),\n",
                "\t[GM_CODE]  [VARCHAR](100) NULL,\n",
                "\t[GM_NAME] [VARCHAR](100) NULL,\n",
                "\t[AGE] [VARCHAR](100) NULL,\n",
                "\t[SEX] [VARCHAR](100) NULL,\n",
                "\t[DATE_OF_POLL] [VARCHAR](100) NULL,\n",
                "\t[POPULATION] [VARCHAR](100) NULL,\n",
                "\t[VR_CODE] [VARCHAR](100) NULL,\n",
                "\t[VR_NAME] [VARCHAR](100) NULL,\n",
                "\t[PROVINCE_CODE] [VARCHAR](100) NULL,\n",
                "\t[PROVINCE_NAME] [VARCHAR](100) NULL,\n",
                "\t[GGD_CODE] [VARCHAR](100) NULL,\n",
                "\t[GGD_NAME] [VARCHAR](100) NULL\n",
                ");\n",
                "GO"
            ]
        },
        {
            "cell_type": "markdown",
            "metadata": {},
            "source": [
                "# **INTERMEDIATE LAYER**\n",
                "\n",
                "---"
            ]
        },
        {
            "cell_type": "markdown",
            "metadata": {},
            "source": [
                "## **<span style='color:teal'>TABLES</span>**"
            ]
        },
        {
            "cell_type": "code",
            "execution_count": null,
            "metadata": {},
            "outputs": [],
            "source": [
                "SET ANSI_NULLS ON\n",
                "GO\n",
                "\n",
                "SET QUOTED_IDENTIFIER ON\n",
                "GO\n",
                "\n",
                "-- 1) CREATE TABLE(S).....\n",
                "IF NOT EXISTS (SELECT * FROM [SYS].[TABLES] WHERE [OBJECT_ID] = OBJECT_ID('[VWSINTER].[VWS_POPULATION]'))\n",
                "CREATE TABLE [VWSINTER].[VWS_POPULATION] (\n",
                "\t[ID] [BIGINT] PRIMARY KEY IDENTITY(1,1),\n",
                "\t[DATE_LAST_INSERTED] [DATETIME] DEFAULT GETDATE(),\n",
                "\t[GM_CODE]  [VARCHAR](100) NULL,\n",
                "\t[GM_NAME] [VARCHAR](100) NULL,\n",
                "\t[AGE] [VARCHAR](100) NULL,\n",
                "\t[SEX] [VARCHAR](100) NULL,\n",
                "\t[DATE_OF_POLL] [VARCHAR](100) NULL,\n",
                "\t[POPULATION] [VARCHAR](100) NULL,\n",
                "\t[VR_CODE] [VARCHAR](100) NULL,\n",
                "\t[VR_NAME] [VARCHAR](100) NULL,\n",
                "\t[PROVINCE_CODE] [VARCHAR](100) NULL,\n",
                "\t[PROVINCE_NAME] [VARCHAR](100) NULL,\n",
                "\t[GGD_CODE] [VARCHAR](100) NULL,\n",
                "\t[GGD_NAME] [VARCHAR](100) NULL\n",
                ");\n",
                "GO"
            ]
        },
        {
            "cell_type": "markdown",
            "metadata": {},
            "source": [
                "## **<span style='color:teal'>STORED PROCEDURES</span>**"
            ]
        },
        {
            "cell_type": "code",
            "execution_count": null,
            "metadata": {},
            "outputs": [],
            "source": [
                "-- 1) CREATE STORED PROCEDURE(S): STAGING TO STATIC.....\n",
                "CREATE OR ALTER PROCEDURE [dbo].[SP_INSERT_SL_VWS_POPULATION_DATA]\n",
                "AS\n",
                "BEGIN\n",
                "    INSERT INTO [VWSSTATIC].[VWS_POPULATION] (\n",
                "        [GM_CODE],\n",
                "        [GM_NAME],\n",
                "        [AGE],\n",
                "        [SEX],\n",
                "        [DATE_OF_POLL],\n",
                "        [POPULATION],\n",
                "        [VR_CODE],\n",
                "        [VR_NAME],\n",
                "        [PROVINCE_CODE],\n",
                "        [PROVINCE_NAME],\n",
                "        [GGD_CODE],\n",
                "        [GGD_NAME]\n",
                "    )\n",
                "    SELECT\n",
                "        ISNULL(T2.[GM_CODE_NEW],[GM_CODE]),\n",
                "        ISNULL(T2.[GM_NAME_NEW],[GM_NAME]),\n",
                "        T1.[AGE],\n",
                "        T1.[SEX],\n",
                "        CAST(T1.[DATE_OF_POLL] AS DATE),\n",
                "        ROUND(SUM(CAST(T1.[POPULATION] AS INT) * ISNULL(T2.[SHARES],1.0)),0), \n",
                "        ISNULL(T2.[VR_CODE],T1.[VR_CODE]),\n",
                "        ISNULL(T2.[VR_NAME],T1.[VR_NAME]),\n",
                "        ISNULL(T2.[PROVINCE_CODE],T1.[PROVINCE_CODE]),\n",
                "        ISNULL(T2.[PROVINCE_NAME],T1.[PROVINCE_NAME]),\n",
                "        ISNULL(T2.[GGD_CODE], T1.[GGD_CODE]),\n",
                "        ISNULL(T2.[GGD_NAME],T1.[GGD_NAME])\n",
                "    FROM\n",
                "        [VWSSTAGE].[VWS_POPULATION] T1\n",
                "    LEFT JOIN (\n",
                "        SELECT \n",
                "            * \n",
                "        FROM [VWSSTATIC].[VWS_MUNICIPALITY_REMAPPING] WITH(NOLOCK)\n",
                "        WHERE [ACTIVE] = 1 \n",
                "            AND [DATE_LAST_INSERTED] = (SELECT MAX([DATE_LAST_INSERTED]) FROM [VWSSTATIC].[VWS_MUNICIPALITY_REMAPPING] WITH(NOLOCK))  \n",
                "    ) T2 ON T1.[GM_CODE] = T2.[GM_CODE_ORIGINAL]\n",
                "    WHERE T1.[DATE_LAST_INSERTED] = (SELECT MAX([DATE_LAST_INSERTED]) FROM [VWSSTAGE].[VWS_POPULATION])\n",
                "    GROUP BY\n",
                "        ISNULL(T2.[GM_CODE_NEW],[GM_CODE]),\n",
                "        ISNULL(T2.[GM_NAME_NEW],[GM_NAME]),\n",
                "        T1.[AGE],\n",
                "        T1.[SEX],\n",
                "        CAST(T1.[DATE_OF_POLL] AS DATE),\n",
                "        ISNULL(T2.[VR_CODE],T1.[VR_CODE]), \n",
                "        ISNULL(T2.[VR_NAME],T1.[VR_NAME]), \n",
                "        ISNULL(T2.[PROVINCE_CODE],T1.[PROVINCE_CODE]),\n",
                "        ISNULL(T2.[PROVINCE_NAME],T1.[PROVINCE_NAME]),\n",
                "        ISNULL(T2.[GGD_CODE],T1.[GGD_CODE]),\n",
                "        ISNULL(T2.[GGD_NAME],T1.[GGD_NAME]) \n",
                "    ORDER BY \n",
                "        CAST(T1.[DATE_OF_POLL] AS DATE), \n",
                "        ISNULL(T2.[GM_CODE_NEW],[GM_CODE])\n",
                "END;\n",
                "GO"
            ]
        },
        {
            "cell_type": "markdown",
            "metadata": {},
            "source": [
                "# **STATIC LAYER**\n",
                "\n",
                "---"
            ]
        },
        {
            "cell_type": "markdown",
            "metadata": {},
            "source": [
                "## **<span style='color:teal'>POPULATION PER AGE 10</span>**"
            ]
        },
        {
            "cell_type": "markdown",
            "metadata": {},
            "source": [
                "### **<span style='color:cadetblue'>TABLES</span>**"
            ]
        },
        {
            "cell_type": "code",
            "execution_count": null,
            "metadata": {},
            "outputs": [],
            "source": [
                "SET ANSI_NULLS ON\n",
                "GO\n",
                "\n",
                "SET QUOTED_IDENTIFIER ON\n",
                "GO\n",
                "\n",
                "-- 1) CREATE TABLE(S).....\n",
                "IF NOT EXISTS (SELECT * FROM [SYS].[TABLES] WHERE [OBJECT_ID] = OBJECT_ID('[VWSSTATIC].[VWS_POPULATION_PER_AGE_GROUP_10]'))\n",
                "CREATE TABLE [VWSSTATIC].[VWS_POPULATION_PER_AGE_GROUP_10] (\n",
                "\t[ID] [BIGINT] PRIMARY KEY IDENTITY(1,1),\n",
                "\t[DATE_LAST_INSERTED] [DATETIME] DEFAULT GETDATE(),\n",
                "\t[AGE_GROUP] [VARCHAR](10) NULL,\n",
                "\t[DATE_OF_POLL] [DATE] NULL,\n",
                "\t[POPULATION] [INT] NULL\n",
                ");\n",
                "GO"
            ]
        },
        {
            "cell_type": "markdown",
            "metadata": {},
            "source": [
                "### **<span style='color:cadetblue'>STORED PROCEDURES</span>**"
            ]
        },
        {
            "cell_type": "code",
            "execution_count": null,
            "metadata": {},
            "outputs": [],
            "source": [
                "-- 1) CREATE STORED PROCEDURE(S): STAGING TO STATIC.....\n",
                "CREATE OR ALTER PROCEDURE [dbo].[SP_INSERT_SL_VWS_POPULATION_PER_AGE_GROUP_10]\n",
                "AS\n",
                "BEGIN\n",
                "    WITH CTE AS (\n",
                "        SELECT \n",
                "            [DATE_OF_POLL],\n",
                "            [AGE],\n",
                "            CASE \n",
                "                WHEN [AGE] >= 0 AND [AGE] <= 9 THEN '0-9'\n",
                "                WHEN [AGE] >= 10 AND [AGE] <= 19 THEN '10-19'\n",
                "                WHEN [AGE] >= 20 AND [AGE] <= 29 THEN '20-29'\n",
                "                WHEN [AGE] >= 30 AND [AGE] <= 39 THEN '30-39'\n",
                "                WHEN [AGE] >= 40 AND [AGE] <= 49 THEN '40-49'\n",
                "                WHEN [AGE] >= 50 AND [AGE] <= 59 THEN '50-59'\n",
                "                WHEN [AGE] >= 60 AND [AGE] <= 69 THEN '60-69'\n",
                "                WHEN [AGE] >= 70 AND [AGE] <= 79 THEN '70-79'\n",
                "                WHEN [AGE] >= 80 AND [AGE] <= 89 THEN '80-89'\n",
                "                WHEN [AGE] >= 90 THEN '90+'\n",
                "                ELSE NULL\n",
                "            END AS [AGE_GROUP],\n",
                "            [POPULATION]\n",
                "        FROM \n",
                "            [VWSINTER].[VWS_POPULATION]\n",
                "        WHERE [DATE_LAST_INSERTED] = (SELECT MAX([DATE_LAST_INSERTED])  FROM [VWSINTER].[VWS_POPULATION])\n",
                "    )\n",
                "    INSERT INTO [VWSSTATIC].[VWS_POPULATION] (\n",
                "        [DATE_OF_POLL],\n",
                "        [AGE_GROUP],\n",
                "        [POPULATION]\n",
                "    )\n",
                "    SELECT\n",
                "        [DATE_OF_POLL],\n",
                "        [AGE_GROUP],\n",
                "        SUM([POPULATION])\n",
                "    FROM\n",
                "        CTE\n",
                "    WHERE [AGE_GROUP] IS NOT NULL\n",
                "    GROUP BY [AGE_GROUP], [DATE_OF_POLL]\n",
                "    ORDER BY [DATE_OF_POLL], [AGE_GROUP]\n",
                "END;\n",
                "GO"
            ]
        },
        {
            "cell_type": "markdown",
            "metadata": {},
            "source": [
                "## **<span style='color:teal'>POPULATION PER AGE DECEASED</span>**"
            ]
        },
        {
            "cell_type": "markdown",
            "metadata": {},
            "source": [
                "### **<span style='color:cadetblue'>TABLES</span>**"
            ]
        },
        {
            "cell_type": "code",
            "execution_count": null,
            "metadata": {},
            "outputs": [],
            "source": [
                "SET ANSI_NULLS ON\n",
                "GO\n",
                "\n",
                "SET QUOTED_IDENTIFIER ON\n",
                "GO\n",
                "\n",
                "-- 1) CREATE TABLE(S).....\n",
                "IF NOT EXISTS (SELECT * FROM [SYS].[TABLES] WHERE [OBJECT_ID] = OBJECT_ID('[VWSSTATIC].[VWS_POPULATION_PER_AGE_GROUP_DECEASED]'))\n",
                "CREATE TABLE [VWSSTATIC].[VWS_POPULATION_PER_AGE_GROUP_DECEASED] (\n",
                "\t[ID] [BIGINT] PRIMARY KEY IDENTITY(1,1),\n",
                "\t[DATE_LAST_INSERTED] [DATETIME] DEFAULT GETDATE(),\n",
                "\t-- ADD COLUMNS\n",
                ");\n",
                "GO"
            ]
        },
        {
            "cell_type": "markdown",
            "metadata": {},
            "source": [
                "### **<span style='color:cadetblue'>STORED PROCEDURES</span>**"
            ]
        },
        {
            "cell_type": "code",
            "execution_count": null,
            "metadata": {},
            "outputs": [],
            "source": [
                "-- 1) CREATE STORED PROCEDURE(S): STAGING TO STATIC.....\n",
                "CREATE OR ALTER PROCEDURE [dbo].[SP_INSERT_SL_VWS_POPULATION_DATA]\n",
                "AS\n",
                "BEGIN\n",
                "    INSERT INTO [VWSSTATIC].[VWS_POPULATION] (\n",
                "        -- ADD COLUMN NAMES\n",
                "    )\n",
                "    SELECT\n",
                "        -- SELECT COLUMNS \n",
                "    FROM\n",
                "        [VWSSTAGE].[VWS_POPULATION]\n",
                "    WHERE [DATE_LAST_INSERTED] = (SELECT MAX([DATE_LAST_INSERTED]) FROM [VWSSTAGE].[VWS_POPULATION])\n",
                "END;\n",
                "GO"
            ]
        },
        {
            "cell_type": "markdown",
            "metadata": {},
            "source": [
                "## **<span style='color:teal'>POPULATION PER AGE HOSPITAL IC</span>**"
            ]
        },
        {
            "cell_type": "markdown",
            "metadata": {},
            "source": [
                "### **<span style='color:cadetblue'>TABLES</span>**"
            ]
        },
        {
            "cell_type": "code",
            "execution_count": null,
            "metadata": {},
            "outputs": [],
            "source": [
                "SET ANSI_NULLS ON\n",
                "GO\n",
                "\n",
                "SET QUOTED_IDENTIFIER ON\n",
                "GO\n",
                "\n",
                "-- 1) CREATE TABLE(S).....\n",
                "IF NOT EXISTS (SELECT * FROM [SYS].[TABLES] WHERE [OBJECT_ID] = OBJECT_ID('[VWSSTATIC].[VWS_POPULATION]'))\n",
                "CREATE TABLE [VWSSTATIC].[VWS_POPULATION] (\n",
                "\t[ID] [BIGINT] PRIMARY KEY IDENTITY(1,1),\n",
                "\t[DATE_LAST_INSERTED] [DATETIME] DEFAULT GETDATE(),\n",
                "\t-- ADD COLUMNS\n",
                ");\n",
                "GO"
            ]
        },
        {
            "cell_type": "markdown",
            "metadata": {},
            "source": [
                "### **<span style='color:cadetblue'>STORED PROCEDURES</span>**"
            ]
        },
        {
            "cell_type": "code",
            "execution_count": null,
            "metadata": {},
            "outputs": [],
            "source": [
                "-- 1) CREATE STORED PROCEDURE(S): STAGING TO STATIC.....\n",
                "CREATE OR ALTER PROCEDURE [dbo].[SP_INSERT_SL_VWS_POPULATION_DATA]\n",
                "AS\n",
                "BEGIN\n",
                "    INSERT INTO [VWSSTATIC].[VWS_POPULATION] (\n",
                "        -- ADD COLUMN NAMES\n",
                "    )\n",
                "    SELECT\n",
                "        -- SELECT COLUMNS \n",
                "    FROM\n",
                "        [VWSSTAGE].[VWS_POPULATION]\n",
                "    WHERE [DATE_LAST_INSERTED] = (SELECT MAX([DATE_LAST_INSERTED]) FROM [VWSSTAGE].[VWS_POPULATION])\n",
                "END;\n",
                "GO"
            ]
        },
        {
            "cell_type": "markdown",
            "metadata": {},
            "source": [
                "## **<span style='color:teal'>POPULATION NL</span>**"
            ]
        },
        {
            "cell_type": "markdown",
            "metadata": {},
            "source": [
                "### **<span style='color:cadetblue'>TABLES</span>**"
            ]
        },
        {
            "cell_type": "code",
            "execution_count": null,
            "metadata": {},
            "outputs": [],
            "source": [
                "SET ANSI_NULLS ON\n",
                "GO\n",
                "\n",
                "SET QUOTED_IDENTIFIER ON\n",
                "GO\n",
                "\n",
                "-- 1) CREATE TABLE(S).....\n",
                "IF NOT EXISTS (SELECT * FROM [SYS].[TABLES] WHERE [OBJECT_ID] = OBJECT_ID('[VWSSTATIC].[VWS_POPULATION]'))\n",
                "CREATE TABLE [VWSSTATIC].[VWS_POPULATION] (\n",
                "\t[ID] [BIGINT] PRIMARY KEY IDENTITY(1,1),\n",
                "\t[DATE_LAST_INSERTED] [DATETIME] DEFAULT GETDATE(),\n",
                "\t-- ADD COLUMNS\n",
                ");\n",
                "GO"
            ]
        },
        {
            "cell_type": "markdown",
            "metadata": {},
            "source": [
                "### **<span style='color:cadetblue'>STORED PROCEDURES</span>**"
            ]
        },
        {
            "cell_type": "code",
            "execution_count": null,
            "metadata": {},
            "outputs": [],
            "source": [
                "-- 1) CREATE STORED PROCEDURE(S): STAGING TO STATIC.....\n",
                "CREATE OR ALTER PROCEDURE [dbo].[SP_INSERT_SL_VWS_POPULATION_DATA]\n",
                "AS\n",
                "BEGIN\n",
                "    INSERT INTO [VWSSTATIC].[VWS_POPULATION] (\n",
                "        -- ADD COLUMN NAMES\n",
                "    )\n",
                "    SELECT\n",
                "        -- SELECT COLUMNS \n",
                "    FROM\n",
                "        [VWSSTAGE].[VWS_POPULATION]\n",
                "    WHERE [DATE_LAST_INSERTED] = (SELECT MAX([DATE_LAST_INSERTED]) FROM [VWSSTAGE].[VWS_POPULATION])\n",
                "END;\n",
                "GO"
            ]
        },
        {
            "cell_type": "markdown",
            "metadata": {},
            "source": [
                "## **<span style='color:teal'>POPULATION PER GM</span>**"
            ]
        },
        {
            "cell_type": "markdown",
            "metadata": {},
            "source": [
                "### **<span style='color:cadetblue'>TABLES</span>**"
            ]
        },
        {
            "cell_type": "code",
            "execution_count": null,
            "metadata": {},
            "outputs": [],
            "source": [
                "SET ANSI_NULLS ON\n",
                "GO\n",
                "\n",
                "SET QUOTED_IDENTIFIER ON\n",
                "GO\n",
                "\n",
                "-- 1) CREATE TABLE(S).....\n",
                "IF NOT EXISTS (SELECT * FROM [SYS].[TABLES] WHERE [OBJECT_ID] = OBJECT_ID('[VWSSTATIC].[VWS_POPULATION]'))\n",
                "CREATE TABLE [VWSSTATIC].[VWS_POPULATION] (\n",
                "\t[ID] [BIGINT] PRIMARY KEY IDENTITY(1,1),\n",
                "\t[DATE_LAST_INSERTED] [DATETIME] DEFAULT GETDATE(),\n",
                "\t-- ADD COLUMNS\n",
                ");\n",
                "GO"
            ]
        },
        {
            "cell_type": "markdown",
            "metadata": {},
            "source": [
                "### **<span style='color:cadetblue'>STORED PROCEDURES</span>**"
            ]
        },
        {
            "cell_type": "code",
            "execution_count": null,
            "metadata": {},
            "outputs": [],
            "source": [
                "-- 1) CREATE STORED PROCEDURE(S): STAGING TO STATIC.....\n",
                "CREATE OR ALTER PROCEDURE [dbo].[SP_INSERT_SL_VWS_POPULATION_DATA]\n",
                "AS\n",
                "BEGIN\n",
                "    INSERT INTO [VWSSTATIC].[VWS_POPULATION] (\n",
                "        -- ADD COLUMN NAMES\n",
                "    )\n",
                "    SELECT\n",
                "        -- SELECT COLUMNS \n",
                "    FROM\n",
                "        [VWSSTAGE].[VWS_POPULATION]\n",
                "    WHERE [DATE_LAST_INSERTED] = (SELECT MAX([DATE_LAST_INSERTED]) FROM [VWSSTAGE].[VWS_POPULATION])\n",
                "END;\n",
                "GO"
            ]
        },
        {
            "cell_type": "markdown",
            "metadata": {},
            "source": [
                "## **<span style='color:teal'>POPULATION PER VR</span>**"
            ]
        },
        {
            "cell_type": "markdown",
            "metadata": {},
            "source": [
                "### **<span style='color:cadetblue'>TABLES</span>**"
            ]
        },
        {
            "cell_type": "code",
            "execution_count": null,
            "metadata": {},
            "outputs": [],
            "source": [
                "SET ANSI_NULLS ON\n",
                "GO\n",
                "\n",
                "SET QUOTED_IDENTIFIER ON\n",
                "GO\n",
                "\n",
                "-- 1) CREATE TABLE(S).....\n",
                "IF NOT EXISTS (SELECT * FROM [SYS].[TABLES] WHERE [OBJECT_ID] = OBJECT_ID('[VWSSTATIC].[VWS_POPULATION]'))\n",
                "CREATE TABLE [VWSSTATIC].[VWS_POPULATION] (\n",
                "\t[ID] [BIGINT] PRIMARY KEY IDENTITY(1,1),\n",
                "\t[DATE_LAST_INSERTED] [DATETIME] DEFAULT GETDATE(),\n",
                "\t-- ADD COLUMNS\n",
                ");\n",
                "GO"
            ]
        },
        {
            "cell_type": "markdown",
            "metadata": {},
            "source": [
                "### **<span style='color:cadetblue'>STORED PROCEDURES</span>**"
            ]
        },
        {
            "cell_type": "code",
            "execution_count": null,
            "metadata": {},
            "outputs": [],
            "source": [
                "-- 1) CREATE STORED PROCEDURE(S): STAGING TO STATIC.....\n",
                "CREATE OR ALTER PROCEDURE [dbo].[SP_INSERT_SL_VWS_POPULATION_DATA]\n",
                "AS\n",
                "BEGIN\n",
                "    INSERT INTO [VWSSTATIC].[VWS_POPULATION] (\n",
                "        -- ADD COLUMN NAMES\n",
                "    )\n",
                "    SELECT\n",
                "        -- SELECT COLUMNS \n",
                "    FROM\n",
                "        [VWSSTAGE].[VWS_POPULATION]\n",
                "    WHERE [DATE_LAST_INSERTED] = (SELECT MAX([DATE_LAST_INSERTED]) FROM [VWSSTAGE].[VWS_POPULATION])\n",
                "END;\n",
                "GO"
            ]
        }
    ],
    "metadata": {
        "kernelspec": {
            "display_name": "SQL",
            "language": "sql",
            "name": "SQL"
        },
        "language_info": {
            "name": "sql",
            "version": ""
        }
    },
    "nbformat": 4,
    "nbformat_minor": 2
}
