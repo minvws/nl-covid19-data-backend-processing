{
    "cells": [
        {
            "cell_type": "markdown",
            "metadata": {},
            "source": [
                "```sql\n",
                "-- COPYRIGHT (C) 2022 DE STAAT DER NEDERLANDEN, MINISTERIE VAN VOLKSGEZONDHEID, WELZIJN EN SPORT.\n",
                "-- LICENSED UNDER THE EUROPEAN UNION PUBLIC LICENCE V. 1.2 - SEE HTTPS://GITHUB.COM/MINVWS/NL-CONTACT-TRACING-APP-COORDINATIONFOR MORE INFORMATION.\n",
                "```\n",
                "\n",
                "# **INTRODUCTIONS**\n",
                "\n",
                "---\n",
                "\n",
                "The code is separated into multiple sections:\n",
                "\n",
                "1. **[Flow Diagrams](#flow-diagrams)**\n",
                "2. **[Dependencies](#dependencies)**\n",
                "3. **[Input Layer](#input-layer)**\n",
                "4. **[Static Layer](#static-layer)**\n",
                "\n",
                "\n",
                "# **FLOW DIAGRAMS**\n",
                "\n",
                "---\n",
                "\n",
                "[![](https://mermaid.ink/img/pako:eNpdT81qwzAMfhWjUwptzcZgI4dBt_RQKBssx7gHxXETscQ2tswIpe8-d91gm06Svj_pBNp1Bko4ju5DDxhYiP2bsiJXTG0f0A9iZ31iscfZhCtSh6J5fqoPC7FaCQUDs4-llM4b2yHjWrdxbUf5WuVh40m6y1Y-3N3f3rxsK6kg6x5F3RSRsSfbLw5X3yz_F10zMuk_2V_aXVOQHbAlRstR-IwqOyVLmjyOxPMvS1jCZMKE1OU_T5e1Ah7MZBSUue0wvCtQ9px5yedLzbYjdgHKI47RLAETu3q2GkoOyfyQKsJ84vTNOn8C_tRr3A)](https://mermaid-js.github.io/mermaid-live-editor/edit#pako:eNpdT81qwzAMfhWjUwptzcZgI4dBt_RQKBssx7gHxXETscQ2tswIpe8-d91gm06Svj_pBNp1Bko4ju5DDxhYiP2bsiJXTG0f0A9iZ31iscfZhCtSh6J5fqoPC7FaCQUDs4-llM4b2yHjWrdxbUf5WuVh40m6y1Y-3N3f3rxsK6kg6x5F3RSRsSfbLw5X3yz_F10zMuk_2V_aXVOQHbAlRstR-IwqOyVLmjyOxPMvS1jCZMKE1OU_T5e1Ah7MZBSUue0wvCtQ9px5yedLzbYjdgHKI47RLAETu3q2GkoOyfyQKsJ84vTNOn8C_tRr3A)\n",
                "\n",
                "Required steps:\n",
                "\n",
                "1. **[CBS](https://opendata.cbs.nl/ODataApi/odata/84721NED/TypedDataSet?$select=RegioS,%20Code_1,%20Code_42,%20Naam_43,%20Inwonertal_52)**: contains the static `\"inhabitants per municipality\"` data collected by CBS to be used for further processing.\n",
                "2. **[Staging](#input-layer)**: inserts the raw `Source` data within the `[VWSSTAGE].[CBS_INHABITANTS_PER_GM]` table.\n",
                "3. **[Inhabitants Per Municipality](#static-layer)**: inserts the `Staging` data and cast the correct `Database Types` within `[VWSSTATIC].[CBS_INHABITANTS_PER_GM]` using business logic implemented in `[dbo].[SP_INSERT_SL_CBS_INHABITANTS_PER_GM]`.\n",
                "\n",
                "- **<font color=teal>SL</font>**: Static Layer\n"
            ]
        },
        {
            "cell_type": "markdown",
            "metadata": {},
            "source": [
                "# **DEPENDENCIES**\n",
                "\n",
                "---\n",
                "\n",
                "```json\n",
                "{\n",
                "    \"depends-on\": [\n",
                "        \"src/DataFactory/Utils/Functions.ipynb\",\n",
                "        \"src/DataFactory/Utils/Schemas.ipynb\",\n",
                "        \"src/DataFactory/Utils/Protos.ipynb\",\n",
                "        \"src/DataFactory/Utils/MunicipalityRemapping.ipynb\"\n",
                "        // Additional dependencies (!NOTE! DO NOT FORGET THE COMMA (i.e. ,))\n",
                "    ]\n",
                "}\n",
                "```"
            ]
        },
        {
            "cell_type": "markdown",
            "metadata": {},
            "source": [
                "# **INPUT LAYER**\n",
                "\n",
                "---"
            ]
        },
        {
            "cell_type": "markdown",
            "metadata": {},
            "source": [
                "## **<span style='color:teal'>TABLES</span>**"
            ]
        },
        {
            "cell_type": "code",
            "execution_count": null,
            "metadata": {},
            "outputs": [],
            "source": [
                "SET ANSI_NULLS ON\n",
                "GO\n",
                "\n",
                "SET QUOTED_IDENTIFIER ON\n",
                "GO\n",
                "\n",
                "-- 1) CREATE TABLE(S).....\n",
                "IF NOT EXISTS (SELECT * FROM [SYS].[TABLES] WHERE [OBJECT_ID] = OBJECT_ID('[VWSSTAGE].[CBS_INHABITANTS_PER_GM]'))\n",
                "CREATE TABLE [VWSSTAGE].[CBS_INHABITANTS_PER_GM] (\n",
                "\t[ID] [BIGINT] PRIMARY KEY IDENTITY(1,1),\n",
                "\t[DATE_LAST_INSERTED] [DATETIME] DEFAULT GETDATE(),\n",
                "    [REGIONS] [VARCHAR](100),\n",
                "    [CODE_1] [VARCHAR](100),\n",
                "\t[CODE_42] [VARCHAR](100),\n",
                "\t[NAME_43] [VARCHAR](100),\n",
                "\t[INHABITANTS_50] [VARCHAR](100)\n",
                ");\n",
                "GO"
            ]
        },
        {
            "cell_type": "markdown",
            "metadata": {},
            "source": [
                "# **STATIC LAYER**\n",
                "\n",
                "---"
            ]
        },
        {
            "cell_type": "markdown",
            "metadata": {},
            "source": [
                "## **<span style='color:teal'>TABLES</span>**"
            ]
        },
        {
            "cell_type": "code",
            "execution_count": null,
            "metadata": {},
            "outputs": [],
            "source": [
                "SET ANSI_NULLS ON\n",
                "GO\n",
                "\n",
                "SET QUOTED_IDENTIFIER ON\n",
                "GO\n",
                "\n",
                "-- 1) CREATE TABLE(S).....\n",
                "IF NOT EXISTS (SELECT * FROM [SYS].[TABLES] WHERE [OBJECT_ID] = OBJECT_ID('[VWSSTATIC].[CBS_INHABITANTS_PER_GM]'))\n",
                "CREATE TABLE [VWSSTATIC].[CBS_INHABITANTS_PER_GM] (\n",
                "\t[ID] [BIGINT] PRIMARY KEY IDENTITY(1,1),\n",
                "\t[DATE_LAST_INSERTED] [DATETIME] DEFAULT GETDATE(),\n",
                "    [VRCODE] VARCHAR(5),\n",
                "    [GMCODE] VARCHAR(10),\n",
                "\t[INHABITANTS] BIGINT\n",
                ");\n",
                "GO\n",
                "\n",
                "-- 2) CREATE INDEX(ES).....\n",
                "DROP INDEX IF EXISTS [NCIX_DLI_VC_GC_CBS_INHABITANTS_PER_GM]\n",
                "\tON [VWSSTATIC].[CBS_INHABITANTS_PER_GM]\n",
                "GO\n",
                "\n",
                "CREATE INDEX [NCIX_DLI_VC_GC_CBS_INHABITANTS_PER_GM]\n",
                "\tON [VWSSTATIC].[CBS_INHABITANTS_PER_GM] (\n",
                "\t\t[DATE_LAST_INSERTED],\n",
                "\t\t[VRCODE], \n",
                "\t\t[GMCODE]\n",
                "\t) \n",
                "\tINCLUDE (\n",
                "\t\t[INHABITANTS]\n",
                "\t);\n",
                "GO"
            ]
        },
        {
            "cell_type": "markdown",
            "metadata": {},
            "source": [
                "## **<span style='color:teal'>STORED PROCEDURES</span>**"
            ]
        },
        {
            "cell_type": "code",
            "execution_count": null,
            "metadata": {},
            "outputs": [],
            "source": [
                "-- 1) CREATE STORED PROCEDURE(S): STAGING TO STATIC.....\n",
                "CREATE OR ALTER PROCEDURE [dbo].[SP_INSERT_SL_CBS_INHABITANTS_PER_GM]\n",
                "AS\n",
                "BEGIN\n",
                "    INSERT INTO [VWSSTATIC].[CBS_INHABITANTS_PER_GM] (\n",
                "        [VRCODE], \n",
                "        [GMCODE], \n",
                "        [INHABITANTS]\n",
                "    )\n",
                "    SELECT\n",
                "        ISNULL(B.[VR_CODE], [CODE_42]),\n",
                "        ISNULL(B.[GM_CODE_NEW], [CODE_1]),\n",
                "        CAST(ROUND(SUM(CAST(A.[INHABITANTS_50] AS INT) * ISNULL(B.[SHARES],1.0)),0) AS INT)\n",
                "    FROM\n",
                "        [VWSSTAGE].[CBS_INHABITANTS_PER_GM] A\n",
                "    LEFT JOIN (\n",
                "            SELECT \n",
                "                * \n",
                "            FROM [VWSSTATIC].[VWS_MUNICIPALITY_REMAPPING] WITH(NOLOCK)\n",
                "            WHERE [ACTIVE] = 1 \n",
                "                AND [DATE_LAST_INSERTED] = (SELECT MAX([DATE_LAST_INSERTED]) FROM [VWSSTATIC].[VWS_MUNICIPALITY_REMAPPING]  WITH(NOLOCK))  \n",
                "    ) B ON A.[CODE_1] = B.[GM_CODE_ORIGINAL]\n",
                "    WHERE A.[DATE_LAST_INSERTED] = (SELECT MAX([DATE_LAST_INSERTED]) FROM [VWSSTAGE].[CBS_INHABITANTS_PER_GM])\n",
                "    GROUP BY \n",
                "        ISNULL(B.[VR_CODE],[CODE_42]), \n",
                "        ISNULL(B.[GM_CODE_NEW],[CODE_1])\n",
                "END;\n",
                "GO"
            ]
        }
    ],
    "metadata": {
        "kernelspec": {
            "display_name": "SQL",
            "language": "sql",
            "name": "SQL"
        },
        "language_info": {
            "name": "sql",
            "version": ""
        }
    },
    "nbformat": 4,
    "nbformat_minor": 2
}
