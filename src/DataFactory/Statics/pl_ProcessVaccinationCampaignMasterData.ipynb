{
    "cells": [
        {
            "cell_type": "markdown",
            "metadata": {},
            "source": [
                "```sql\n",
                "-- COPYRIGHT (C) 2022 DE STAAT DER NEDERLANDEN, MINISTERIE VAN VOLKSGEZONDHEID, WELZIJN EN SPORT.\n",
                "-- LICENSED UNDER THE EUROPEAN UNION PUBLIC LICENCE V. 1.2 - SEE HTTPS://GITHUB.COM/MINVWS/NL-CONTACT-TRACING-APP-COORDINATIONFOR MORE INFORMATION.\n",
                "```\n",
                "\n",
                "# **INTRODUCTIONS**\n",
                "\n",
                "---\n",
                "\n",
                "The code is separated into multiple sections:\n",
                "\n",
                "1. **[Flow Diagrams](#flow-diagrams)**\n",
                "2. **[Dependencies](#dependencies)**\n",
                "3. **[Input Layer](#input-layer)**\n",
                "4. **[Static Layer](#static-layer)**\n",
                "\n",
                "\n",
                "# **FLOW DIAGRAMS**\n",
                "\n",
                "---\n",
                "\n",
                "\n",
                "Required steps:\n",
                "\n",
                "\n",
                "\n",
                "- **<font color=teal>SL</font>**: Static Layer\n"
            ]
        },
        {
            "cell_type": "markdown",
            "metadata": {},
            "source": [
                "# **DEPENDENCIES**\n",
                "\n",
                "---\n",
                "\n",
                "```json\n",
                "{\n",
                "    \"depends-on\": [\n",
                "        \"src/DataFactory/Utils/Schemas.ipynb\"\n",
                "        // Additional dependencies (!NOTE! DO NOT FORGET THE COMMA (i.e. ,))\n",
                "    ]\n",
                "}\n",
                "```"
            ]
        },
        {
            "cell_type": "markdown",
            "metadata": {},
            "source": [
                "# **INPUT LAYER**\n",
                "\n",
                "---"
            ]
        },
        {
            "cell_type": "markdown",
            "metadata": {},
            "source": [
                "## **<span style='color:teal'>TABLES</span>**"
            ]
        },
        {
            "cell_type": "code",
            "execution_count": null,
            "metadata": {},
            "outputs": [],
            "source": [
                "SET ANSI_NULLS ON\n",
                "GO\n",
                "\n",
                "SET QUOTED_IDENTIFIER ON\n",
                "GO\n",
                "\n",
                "-- 1) CREATE TABLE(S).....\n",
                "IF NOT EXISTS (SELECT * FROM [SYS].[TABLES] WHERE [OBJECT_ID] = OBJECT_ID('[VWSSTAGE].[RIVM_VACCINATION_CAMPAIGNS_MASTER_DATA]'))\n",
                "CREATE TABLE [VWSSTAGE].[RIVM_VACCINATION_CAMPAIGNS_MASTER_DATA] (\n",
                "\t[ID] [BIGINT] IDENTITY(1,1),\n",
                "\t[DATE_LAST_INSERTED] [DATETIME] DEFAULT GETDATE(),\n",
                "\t[CAMPAIGN_LABEL_NL] [VARCHAR](255),\n",
                "\t[CAMPAIGN_LABEL_EN] [VARCHAR](255),\n",
                "\t[CAMPAIGN_CODE] [VARCHAR](255),\n",
                "\t[ORDER] [VARCHAR](100)\n",
                ");\n",
                "GO"
            ]
        },
        {
            "cell_type": "markdown",
            "metadata": {},
            "source": [
                "# **STATIC LAYER**\n",
                "\n",
                "---"
            ]
        },
        {
            "cell_type": "markdown",
            "metadata": {},
            "source": [
                "## **<span style='color:teal'>TABLES</span>**"
            ]
        },
        {
            "cell_type": "code",
            "execution_count": null,
            "metadata": {},
            "outputs": [],
            "source": [
                "SET ANSI_NULLS ON\n",
                "GO\n",
                "\n",
                "SET QUOTED_IDENTIFIER ON\n",
                "GO\n",
                "\n",
                "-- 1) CREATE TABLE(S).....\n",
                "IF NOT EXISTS (SELECT * FROM [SYS].[TABLES] WHERE [OBJECT_ID] = OBJECT_ID('[VWSSTATIC].[RIVM_VACCINATION_CAMPAIGNS_MASTER_DATA]'))\n",
                "CREATE TABLE [VWSSTATIC].[RIVM_VACCINATION_CAMPAIGNS_MASTER_DATA] (\n",
                "\t[ID] [BIGINT] PRIMARY KEY IDENTITY(1,1),\n",
                "\t[DATE_LAST_INSERTED] [DATETIME] DEFAULT GETDATE(),\n",
                "\t[CAMPAIGN_LABEL_NL] [VARCHAR](255),\n",
                "\t[CAMPAIGN_LABEL_EN] [VARCHAR](255),\n",
                "\t[CAMPAIGN_CODE] [VARCHAR](255),\n",
                "\t[ORDER] INT\n",
                ");\n",
                "GO\n",
                "\n",
                "-- 2) CREATE INDEX(ES).....\n",
                "DROP INDEX IF EXISTS [NCIX_DLI_RIVM_VACCINATION_CAMPAIGNS_MASTER_DATA]\n",
                "\tON [VWSSTATIC].[RIVM_VACCINATION_CAMPAIGNS_MASTER_DATA]\n",
                "GO\n",
                "\n",
                "CREATE INDEX [NCIX_DLI_RIVM_VACCINATION_CAMPAIGNS_MASTER_DATA]\n",
                "\tON [VWSSTATIC].[RIVM_VACCINATION_CAMPAIGNS_MASTER_DATA] (\n",
                "\t\t[DATE_LAST_INSERTED]\n",
                "\t);\n",
                "GO"
            ]
        },
        {
            "cell_type": "markdown",
            "metadata": {},
            "source": [
                "## **<span style='color:teal'>STORED PROCEDURES</span>**"
            ]
        },
        {
            "cell_type": "code",
            "execution_count": null,
            "metadata": {},
            "outputs": [],
            "source": [
                "-- 1) CREATE STORED PROCEDURE(S): STAGING TO STATIC.....\n",
                "CREATE OR ALTER PROCEDURE [dbo].[SP_INSERT_SL_RIVM_VACCINATION_CAMPAIGNS_MASTER_DATA]\n",
                "AS\n",
                "BEGIN\n",
                "    INSERT INTO [VWSSTATIC].[RIVM_VACCINATION_CAMPAIGNS_MASTER_DATA] (\n",
                "        [CAMPAIGN_LABEL_NL],\n",
                "        [CAMPAIGN_LABEL_EN],\n",
                "        [CAMPAIGN_CODE],\n",
                "        [ORDER]\n",
                "    )\n",
                "    SELECT\n",
                "        [CAMPAIGN_LABEL_NL],\n",
                "        [CAMPAIGN_LABEL_EN],\n",
                "        [CAMPAIGN_CODE],\n",
                "        [ORDER]\n",
                "    FROM\n",
                "        [VWSSTAGE].[RIVM_VACCINATION_CAMPAIGNS_MASTER_DATA]\n",
                "    WHERE [DATE_LAST_INSERTED] = (SELECT MAX([DATE_LAST_INSERTED]) FROM [VWSSTAGE].[RIVM_VACCINATION_CAMPAIGNS_MASTER_DATA])\n",
                "END;\n",
                "GO"
            ]
        }
    ],
    "metadata": {
        "kernelspec": {
            "display_name": "SQL",
            "language": "sql",
            "name": "SQL"
        },
        "language_info": {
            "name": "sql",
            "version": ""
        }
    },
    "nbformat": 4,
    "nbformat_minor": 2
}
