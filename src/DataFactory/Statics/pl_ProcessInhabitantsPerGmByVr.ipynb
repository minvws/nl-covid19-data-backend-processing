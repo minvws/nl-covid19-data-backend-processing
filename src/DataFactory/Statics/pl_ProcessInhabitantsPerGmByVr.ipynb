{
    "cells": [
        {
            "cell_type": "markdown",
            "metadata": {},
            "source": [
                "```sql\n",
                "-- COPYRIGHT (C) 2022 DE STAAT DER NEDERLANDEN, MINISTERIE VAN VOLKSGEZONDHEID, WELZIJN EN SPORT.\n",
                "-- LICENSED UNDER THE EUROPEAN UNION PUBLIC LICENCE V. 1.2 - SEE HTTPS://GITHUB.COM/MINVWS/NL-CONTACT-TRACING-APP-COORDINATIONFOR MORE INFORMATION.\n",
                "```\n",
                "\n",
                "# **INTRODUCTIONS**\n",
                "\n",
                "---\n",
                "\n",
                "The code is separated into multiple sections:\n",
                "\n",
                "1. **[Flow Diagrams](#flow-diagrams)**\n",
                "2. **[Dependencies](#dependencies)**\n",
                "3. **[Input Layer](#input-layer)**\n",
                "4. **[Static Layer](#static-layer)**\n",
                "\n",
                "\n",
                "# **FLOW DIAGRAMS**\n",
                "\n",
                "---\n",
                "\n",
                "[![](https://mermaid.ink/img/pako:eNpdj8FOwzAMQH8l8mmTNj6gByQQHCbtRI_NNLmJ20a0TuU4oDLt3wkMpIJPlv3sZ1_ARU9QQTfGdzegqDHHF8umRMptLzgP5sBzVnPEheTWqWXTPHxkoccxtqet2e-NhcADtkGRNZ1nkvOUObgw4xh0uXPpzULh7k3dbJJiH7jfnm7biP0_Ya2owf0xfs8ems3KYorFWl57TLuYhB2VTKgPkVcO2MFEMmHw5d3LV9mCDjSRhaqkHuXVguVr4fLsUenZB40CVYdjoh1g1lgv7KBSyfQLPQUsN08_1PUTQWBx9w)](https://mermaid-js.github.io/mermaid-live-editor/edit#pako:eNpdj8FOwzAMQH8l8mmTNj6gByQQHCbtRI_NNLmJ20a0TuU4oDLt3wkMpIJPlv3sZ1_ARU9QQTfGdzegqDHHF8umRMptLzgP5sBzVnPEheTWqWXTPHxkoccxtqet2e-NhcADtkGRNZ1nkvOUObgw4xh0uXPpzULh7k3dbJJiH7jfnm7biP0_Ya2owf0xfs8ems3KYorFWl57TLuYhB2VTKgPkVcO2MFEMmHw5d3LV9mCDjSRhaqkHuXVguVr4fLsUenZB40CVYdjoh1g1lgv7KBSyfQLPQUsN08_1PUTQWBx9w)\n",
                "\n",
                "Required steps:\n",
                "\n",
                "1. **[AzureBlob]()**: contains the static `\"inhabitants per municipality\"` data collected by VWS to be used for further processing.\n",
                "2. **[Staging](#input-layer)**: inserts the raw `Source` data within the `[VWSSTAGE].[VWS_INHABITANTS_PER_GM_BY_VR]` table.\n",
                "3. **[Inhabitants Per Municipality By Safety Region](#static-layer)**: inserts the `Staging` data and cast the correct `Database Types` within `[VWSSTATIC].[VWS_INHABITANTS_PER_GM_BY_VR]` using business logic implemented in `[dbo].[SP_INSERT_SL_VWS_INHABITANTS_PER_GM_BY_VR]`.\n",
                "\n",
                "- **<font color=teal>SL</font>**: Static Layer\n"
            ]
        },
        {
            "cell_type": "markdown",
            "metadata": {},
            "source": [
                "# **DEPENDENCIES**\n",
                "\n",
                "---\n",
                "\n",
                "```json\n",
                "{\n",
                "    \"depends-on\": [\n",
                "        \"src/DataFactory/Utils/Functions.ipynb\",\n",
                "        \"src/DataFactory/Utils/Schemas.ipynb\",\n",
                "        \"src/DataFactory/Utils/Protos.ipynb\",\n",
                "        \"src/DataFactory/Utils/MunicipalityRemapping.ipynb\"\n",
                "        // Additional dependencies (!NOTE! DO NOT FORGET THE COMMA (i.e. ,))\n",
                "    ]\n",
                "}\n",
                "```"
            ]
        },
        {
            "cell_type": "markdown",
            "metadata": {},
            "source": [
                "# **INPUT LAYER**\n",
                "\n",
                "---"
            ]
        },
        {
            "cell_type": "markdown",
            "metadata": {},
            "source": [
                "## **<span style='color:teal'>TABLES</span>**"
            ]
        },
        {
            "cell_type": "code",
            "execution_count": null,
            "metadata": {},
            "outputs": [],
            "source": [
                "SET ANSI_NULLS ON\n",
                "GO\n",
                "\n",
                "SET QUOTED_IDENTIFIER ON\n",
                "GO\n",
                "\n",
                "-- 1) CREATE TABLE(S).....\n",
                "IF NOT EXISTS (SELECT * FROM [SYS].[TABLES] WHERE [OBJECT_ID] = OBJECT_ID('[VWSSTAGE].[VWS_INHABITANTS_PER_GM_BY_VR]'))\n",
                "CREATE TABLE [VWSSTAGE].[VWS_INHABITANTS_PER_GM_BY_VR] (\n",
                "\t[ID] [BIGINT] PRIMARY KEY IDENTITY(1,1),\n",
                "\t[DATE_LAST_INSERTED] [DATETIME] DEFAULT GETDATE(),\n",
                "\t[REGION] [VARCHAR](50) NOT NULL,\n",
                "\t[GM_CODE] [VARCHAR](50) NOT NULL,\n",
                "\t[VR_CODE] [VARCHAR](50) NOT NULL,\n",
                "\t[VR_NAME] [VARCHAR](50) NOT NULL,\n",
                "\t[INHABITANTS] [VARCHAR](50) NOT NULL\n",
                ");\n",
                "GO"
            ]
        },
        {
            "cell_type": "markdown",
            "metadata": {},
            "source": [
                "# **STATIC LAYER**\n",
                "\n",
                "---"
            ]
        },
        {
            "cell_type": "markdown",
            "metadata": {},
            "source": [
                "## **<span style='color:teal'>TABLES</span>**"
            ]
        },
        {
            "cell_type": "code",
            "execution_count": null,
            "metadata": {},
            "outputs": [],
            "source": [
                "SET ANSI_NULLS ON\n",
                "GO\n",
                "\n",
                "SET QUOTED_IDENTIFIER ON\n",
                "GO\n",
                "\n",
                "-- 1) CREATE TABLE(S).....\n",
                "IF NOT EXISTS (SELECT * FROM [SYS].[TABLES] WHERE [OBJECT_ID] = OBJECT_ID('[VWSSTATIC].[VWS_INHABITANTS_PER_GM_BY_VR]'))\n",
                "CREATE TABLE [VWSSTATIC].[VWS_INHABITANTS_PER_GM_BY_VR] (\n",
                "\t[ID] [BIGINT] PRIMARY KEY IDENTITY(1,1),\n",
                "\t[DATE_LAST_INSERTED] [DATETIME] DEFAULT GETDATE(),\n",
                "    [REGION] [VARCHAR](50) NOT NULL,\n",
                "\t[GMCODE] [VARCHAR](50) NOT NULL,\n",
                "\t[VRCODE] [VARCHAR](50) NOT NULL,\n",
                "\t[VRNAME] [VARCHAR](50) NOT NULL,\n",
                "\t[INHABITANTS] [INT] NOT NULL\n",
                ");\n",
                "GO"
            ]
        },
        {
            "cell_type": "markdown",
            "metadata": {},
            "source": [
                "## **<span style='color:teal'>STORED PROCEDURES</span>**"
            ]
        },
        {
            "cell_type": "code",
            "execution_count": null,
            "metadata": {},
            "outputs": [],
            "source": [
                "-- 1) CREATE STORED PROCEDURE(S): STAGING TO STATIC.....\n",
                "CREATE OR ALTER PROCEDURE [dbo].[SP_INSERT_SL_VWS_INHABITANTS_PER_GM_BY_VR]\n",
                "AS\n",
                "BEGIN\n",
                "    INSERT INTO [VWSSTATIC].[VWS_INHABITANTS_PER_GM_BY_VR] (\n",
                "        [REGION], \n",
                "        [GMCODE], \n",
                "        [VRCODE], \n",
                "        [VRNAME], \n",
                "        [INHABITANTS]\n",
                "    )\n",
                "    SELECT\n",
                "        ISNULL(T2.[GM_NAME_NEW],T1.[REGION]),\n",
                "        ISNULL(T2.[GM_CODE_NEW],T1.[GM_CODE]),\n",
                "        ISNULL(T2.[VR_CODE],T1.[VR_CODE]),\n",
                "        ISNULL(T2.[VR_NAME],T1.[VR_NAME]),\n",
                "        CAST(ROUND(SUM(CAST(T1.[INHABITANTS] AS INT) * ISNULL(T2.[SHARES], 1.0)),0) AS INT)\n",
                "    FROM\n",
                "        [VWSSTAGE].[VWS_INHABITANTS_PER_GM_BY_VR] T1\n",
                "    LEFT JOIN (\n",
                "        SELECT \n",
                "            * \n",
                "        FROM [VWSSTATIC].[VWS_MUNICIPALITY_REMAPPING] WITH(NOLOCK)\n",
                "        WHERE [ACTIVE] = 1\n",
                "            AND [DATE_LAST_INSERTED] = (SELECT MAX([DATE_LAST_INSERTED]) FROM [VWSSTATIC].[VWS_MUNICIPALITY_REMAPPING] WITH(NOLOCK))  \n",
                "    ) T2 ON T1.[GM_CODE] = T2.[GM_CODE_ORIGINAL]\n",
                "    WHERE T1.[DATE_LAST_INSERTED] = (SELECT MAX([DATE_LAST_INSERTED]) FROM [VWSSTAGE].[VWS_INHABITANTS_PER_GM_BY_VR])\n",
                "    GROUP BY \n",
                "        ISNULL(T2.[GM_NAME_NEW],T1.[REGION]),\n",
                "        ISNULL(T2.[GM_CODE_NEW],T1.[GM_CODE]),\n",
                "        ISNULL(T2.[VR_CODE],T1.[VR_CODE]),\n",
                "        ISNULL(T2.[VR_NAME],T1.[VR_NAME])\n",
                "END;\n",
                "GO"
            ]
        }
    ],
    "metadata": {
        "kernelspec": {
            "display_name": "SQL",
            "language": "sql",
            "name": "SQL"
        },
        "language_info": {
            "name": "sql",
            "version": ""
        }
    },
    "nbformat": 4,
    "nbformat_minor": 2
}
