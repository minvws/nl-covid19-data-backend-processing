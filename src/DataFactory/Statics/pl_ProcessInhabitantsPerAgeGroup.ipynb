{
    "cells": [
        {
            "cell_type": "markdown",
            "metadata": {},
            "source": [
                "```sql\n",
                "-- COPYRIGHT (C) 2022 DE STAAT DER NEDERLANDEN, MINISTERIE VAN VOLKSGEZONDHEID, WELZIJN EN SPORT.\n",
                "-- LICENSED UNDER THE EUROPEAN UNION PUBLIC LICENCE V. 1.2 - SEE HTTPS://GITHUB.COM/MINVWS/NL-CONTACT-TRACING-APP-COORDINATIONFOR MORE INFORMATION.\n",
                "```\n",
                "\n",
                "# **INTRODUCTIONS**\n",
                "\n",
                "---\n",
                "\n",
                "The code is separated into multiple sections:\n",
                "\n",
                "1. **[Flow Diagrams](#flow-diagrams)**\n",
                "2. **[Dependencies](#dependencies)**\n",
                "3. **[Input Layer](#input-layer)**\n",
                "4. **[Static Layer](#static-layer)**\n",
                "\n",
                "\n",
                "# **FLOW DIAGRAMS**\n",
                "\n",
                "---\n",
                "\n",
                "[![](https://mermaid.ink/img/pako:eNpdT19LAzEM_yolTzfYVkFEvAdhOh8GA8F7vO4hu2Z3xbu0tCkyxr67nVNQ85Tk9y85QectQQ2H0X90A0ZRavtmWJVKed9HDIPacMiitnikeEWaWLXPT81uphYLZWAQCanW2gdii4LLbp-WPOrXdRlWwWl_2eqb2_u7ByarDRTdo2raKgn2jvvZ7upb5P-iG0Fx3Z_sL-2mrRwPuHeCLEmFghrGnlQffQ6__GAOE8UJnS1Pni5rAzLQRAbq0lqM7wYMnwsvh3ImvVgnPkJ9wDHRHDCLb47cQS0x0w9p7bDcN32zzp_GyWqg)](https://mermaid-js.github.io/mermaid-live-editor/edit#pako:eNpdT19LAzEM_yolTzfYVkFEvAdhOh8GA8F7vO4hu2Z3xbu0tCkyxr67nVNQ85Tk9y85QectQQ2H0X90A0ZRavtmWJVKed9HDIPacMiitnikeEWaWLXPT81uphYLZWAQCanW2gdii4LLbp-WPOrXdRlWwWl_2eqb2_u7ByarDRTdo2raKgn2jvvZ7upb5P-iG0Fx3Z_sL-2mrRwPuHeCLEmFghrGnlQffQ6__GAOE8UJnS1Pni5rAzLQRAbq0lqM7wYMnwsvh3ImvVgnPkJ9wDHRHDCLb47cQS0x0w9p7bDcN32zzp_GyWqg)\n",
                "\n",
                "Required steps:\n",
                "\n",
                "1. **[CBS](TypedDataSet?$filter=((Geslacht%20eq%20%27T001038%27))%20and%20((RegioS%20eq%20%27NL01%20%20%27))%20and%20((Perioden%20eq%20%272020JJ00%27))%20and%20((BurgerlijkeStaat%20eq%20%27T001019%27)))**: contains the static `\"inhabitants per age group\"` data collected by CBS to be used for further processing.\n",
                "2. **[Staging](#input-layer)**: inserts the raw `Source` data within the `[VWSSTAGE].[CBS_INHABITANTS_PER_AGE_GROUP]` table.\n",
                "3. **[Inhabitants Per Municipality](#static-layer)**: inserts the `Staging` data and cast the correct `Database Types` within `[VWSSTATIC].[CBS_INHABITANTS_PER_AGE_GROUP]` using business logic implemented in `[dbo].[SP_INSERT_SL_CBS_INHABITANTS_PER_AGE_GROUP]`.\n",
                "\n",
                "- **<font color=teal>SL</font>**: Static Layer\n"
            ]
        },
        {
            "cell_type": "markdown",
            "metadata": {},
            "source": [
                "# **DEPENDENCIES**\n",
                "\n",
                "---\n",
                "\n",
                "```json\n",
                "{\n",
                "    \"depends-on\": [\n",
                "        \"src/DataFactory/Utils/Schemas.ipynb\"\n",
                "        // Additional dependencies (!NOTE! DO NOT FORGET THE COMMA (i.e. ,))\n",
                "    ]\n",
                "}\n",
                "```"
            ]
        },
        {
            "cell_type": "markdown",
            "metadata": {},
            "source": [
                "# **INPUT LAYER**\n",
                "\n",
                "---"
            ]
        },
        {
            "cell_type": "markdown",
            "metadata": {},
            "source": [
                "## **<span style='color:teal'>TABLES</span>**"
            ]
        },
        {
            "cell_type": "code",
            "execution_count": null,
            "metadata": {},
            "outputs": [],
            "source": [
                "SET ANSI_NULLS ON\n",
                "GO\n",
                "\n",
                "SET QUOTED_IDENTIFIER ON\n",
                "GO\n",
                "\n",
                "-- 1) CREATE TABLE(S).....\n",
                "IF NOT EXISTS (SELECT * FROM [SYS].[TABLES] WHERE [OBJECT_ID] = OBJECT_ID('[VWSSTAGE].[CBS_INHABITANTS_PER_AGE_GROUP]'))\n",
                "CREATE TABLE [VWSSTAGE].[CBS_INHABITANTS_PER_AGE_GROUP] (\n",
                "\t[ID] [BIGINT] IDENTITY(1,1),\n",
                "\t[DATE_LAST_INSERTED] [DATETIME] DEFAULT GETDATE(),\n",
                "\t[SEX] [VARCHAR](100),\n",
                "\t[AGE] [VARCHAR](100),\n",
                "\t[MARITAL_STATUS] [VARCHAR](100),\n",
                "\t[REGIONS] [VARCHAR](100),\n",
                "\t[PERIODS] [VARCHAR](100),\n",
                "    [POPULATION_ON_1ST_OF_JANUARY_1] [VARCHAR](100),\n",
                "\t[AVERAGE_POPULATION_2] [VARCHAR](100)\n",
                ");\n",
                "GO"
            ]
        },
        {
            "cell_type": "markdown",
            "metadata": {},
            "source": [
                "# **STATIC LAYER**\n",
                "\n",
                "---"
            ]
        },
        {
            "cell_type": "markdown",
            "metadata": {},
            "source": [
                "## **<span style='color:teal'>TABLES</span>**"
            ]
        },
        {
            "cell_type": "code",
            "execution_count": null,
            "metadata": {},
            "outputs": [],
            "source": [
                "SET ANSI_NULLS ON\n",
                "GO\n",
                "\n",
                "SET QUOTED_IDENTIFIER ON\n",
                "GO\n",
                "\n",
                "-- 1) CREATE TABLE(S).....\n",
                "IF NOT EXISTS (SELECT * FROM [SYS].[TABLES] WHERE [OBJECT_ID] = OBJECT_ID('[VWSSTATIC].[CBS_INHABITANTS_PER_AGE_GROUP]'))\n",
                "CREATE TABLE [VWSSTATIC].[CBS_INHABITANTS_PER_AGE_GROUP] (\n",
                "\t[ID] [BIGINT] PRIMARY KEY IDENTITY(1,1),\n",
                "\t[DATE_LAST_INSERTED] [DATETIME] DEFAULT GETDATE(),\n",
                "\t[SEX] [VARCHAR](100),\n",
                "\t[AGE] [VARCHAR](100),\n",
                "\t[MARITAL_STATUS] [VARCHAR](100),\n",
                "\t[REGIONS] [VARCHAR](100),\n",
                "\t[PERIODS] [VARCHAR](100),\n",
                "    [POPULATION_ON_1ST_OF_JANUARY_1] [BIGINT],\n",
                "\t[AVERAGE_POPULATION_2] [DECIMAL](10,2)\n",
                ");\n",
                "GO\n",
                "\n",
                "-- 2) CREATE INDEX(ES).....\n",
                "DROP INDEX IF EXISTS [NCIX_DLI_CBS_INHABITANTS_PER_AGE_GROUP]\n",
                "\tON [VWSSTATIC].[CBS_INHABITANTS_PER_AGE_GROUP]\n",
                "GO\n",
                "\n",
                "CREATE INDEX [NCIX_DLI_CBS_INHABITANTS_PER_AGE_GROUP]\n",
                "\tON [VWSSTATIC].[CBS_INHABITANTS_PER_AGE_GROUP] (\n",
                "\t\t[DATE_LAST_INSERTED]\n",
                "\t);\n",
                "GO"
            ]
        },
        {
            "cell_type": "markdown",
            "metadata": {},
            "source": [
                "## **<span style='color:teal'>STORED PROCEDURES</span>**"
            ]
        },
        {
            "cell_type": "code",
            "execution_count": null,
            "metadata": {},
            "outputs": [],
            "source": [
                "-- 1) CREATE STORED PROCEDURE(S): STAGING TO STATIC.....\n",
                "CREATE OR ALTER PROCEDURE [dbo].[SP_INSERT_SL_CBS_INHABITANTS_PER_AGE_GROUP]\n",
                "AS\n",
                "BEGIN\n",
                "    INSERT INTO [VWSSTATIC].[CBS_INHABITANTS_PER_AGE_GROUP] (\n",
                "        [SEX],\n",
                "        [AGE],\n",
                "        [MARITAL_STATUS],\n",
                "        [REGIONS],\n",
                "        [PERIODS],\n",
                "        [POPULATION_ON_1ST_OF_JANUARY_1],\n",
                "        [AVERAGE_POPULATION_2]\n",
                "    )\n",
                "    SELECT\n",
                "        [SEX],\n",
                "        [AGE],\n",
                "        [MARITAL_STATUS],\n",
                "        [REGIONS],\n",
                "        [PERIODS],\n",
                "        [POPULATION_ON_1ST_OF_JANUARY_1],\n",
                "        [AVERAGE_POPULATION_2]\n",
                "    FROM\n",
                "        [VWSSTAGE].[CBS_INHABITANTS_PER_AGE_GROUP]\n",
                "    WHERE [DATE_LAST_INSERTED] = (SELECT MAX([DATE_LAST_INSERTED]) FROM [VWSSTAGE].[CBS_INHABITANTS_PER_AGE_GROUP])\n",
                "END;\n",
                "GO"
            ]
        }
    ],
    "metadata": {
        "kernelspec": {
            "display_name": "SQL",
            "language": "sql",
            "name": "SQL"
        },
        "language_info": {
            "name": "sql",
            "version": ""
        }
    },
    "nbformat": 4,
    "nbformat_minor": 2
}
