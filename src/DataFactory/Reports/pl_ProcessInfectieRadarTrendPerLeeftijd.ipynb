{
        "cells": [
                {
                        "cell_type": "markdown",
                        "metadata": {},
                        "source": [
                                "```sql\n",
                                "-- COPYRIGHT (C) 2022 DE STAAT DER NEDERLANDEN, MINISTERIE VAN VOLKSGEZONDHEID, WELZIJN EN SPORT.\n",
                                "-- LICENSED UNDER THE EUROPEAN UNION PUBLIC LICENCE V. 1.2 - SEE HTTPS://GITHUB.COM/MINVWS/NL-CONTACT-TRACING-APP-COORDINATIONFOR MORE INFORMATION.\n",
                                "```\n",
                                "\n",
                                "# **INTRODUCTIONS**\n",
                                "\n",
                                "---\n",
                                "\n",
                                "The code is separated into multiple sections:\n",
                                "\n",
                                "1. **[Flow Diagrams](#flow-diagrams)**\n",
                                "2. **[Dependencies](#dependencies)**\n",
                                "3. **[Input Layer](#input-layer)**\n",
                                "4. **[Intermediate Layer](#intermediate-layer)**\n",
                                "5. **[Ouput Layer](#output-layer)**\n",
                                "\n",
                                "\n",
                                "# **FLOW DIAGRAMS**\n",
                                "\n",
                                "---\n",
                                "\n",
                                "[![](https://mermaid.ink/img/pako:eNp1kE9rhDAQxb9KmJMLG8Grh57agyAVKpSC6SFrRs2uJjZOWmTZ796o_bulc0pmXn7vTc5QW4WQQtPbt7qTjhjLH4RhoSZ_aJ0cO5aZ0RPL5Yxum5QuQkOaZm7kgDvGORPQ6B6Xa1xPrwJC74aVVTSRbLVpd8_bSzTqD5zQDai0JPzlsRKyKtI_BP9jCk9XIbMVUCRV5I1-8cjtKuH9ItmCf9PYFU7AU6j4OFkjYJsVCePxsqdMG8mnURsTrIDFweXxPk-iRczt4Yg1bfgvOuxhCDtIrcJPn5e2AOpwQAFpOCrpTovLJej8qMKed0qTdRCM-gn3ID3ZcjY1pOQ8foputQxhhw_V5R2AMpSJ)](https://mermaid-js.github.io/mermaid-live-editor/edit#pako:eNp1kE9rhDAQxb9KmJMLG8Grh57agyAVKpSC6SFrRs2uJjZOWmTZ796o_bulc0pmXn7vTc5QW4WQQtPbt7qTjhjLH4RhoSZ_aJ0cO5aZ0RPL5Yxum5QuQkOaZm7kgDvGORPQ6B6Xa1xPrwJC74aVVTSRbLVpd8_bSzTqD5zQDai0JPzlsRKyKtI_BP9jCk9XIbMVUCRV5I1-8cjtKuH9ItmCf9PYFU7AU6j4OFkjYJsVCePxsqdMG8mnURsTrIDFweXxPk-iRczt4Yg1bfgvOuxhCDtIrcJPn5e2AOpwQAFpOCrpTovLJej8qMKed0qTdRCM-gn3ID3ZcjY1pOQ8foputQxhhw_V5R2AMpSJ)\n",
                                "\n",
                                "`UPDATE DIAGRAM BY CLICKING ON THE DIAGRAM!`\n",
                                "\n",
                                "Required steps:\n",
                                "\n",
                                "1. `ADD REQUIRMENT STEP LIST HERE!`\n",
                                "\n",
                                "- **<font color=teal>IL</font>**: Intermediate Layer\n",
                                "- **<font color=teal>OL</font>**: Output Layer"
                        ]
                },
                {
                        "cell_type": "markdown",
                        "metadata": {},
                        "source": [
                                "# **DEPENDENCIES**\n",
                                "\n",
                                "---\n",
                                "\n",
                                "```json\n",
                                "{\n",
                                "    \"depends-on\": [\n",
                                "        \"src/DataFactory/Utils/Functions.ipynb\",\n",
                                "        \"src/DataFactory/Utils/Schemas.ipynb\",\n",
                                "        \"src/DataFactory/Utils/Protos.ipynb\"\n",
                                "        // Additional dependencies (!NOTE! DO NOT FORGET THE COMMA (i.e. ,))\n",
                                "    ]\n",
                                "}\n",
                                "```"
                        ]
                },
                {
                        "cell_type": "markdown",
                        "metadata": {},
                        "source": [
                                "# **INPUT LAYER**\n",
                                "\n",
                                "---"
                        ]
                },
                {
                        "cell_type": "markdown",
                        "metadata": {},
                        "source": [
                                "## **<span style='color:teal'>TABLES</span>**"
                        ]
                },
                {
                        "cell_type": "code",
                        "execution_count": null,
                        "metadata": {},
                        "outputs": [],
                        "source": [
                                "SET ANSI_NULLS ON\n",
                                "GO\n",
                                "\n",
                                "SET QUOTED_IDENTIFIER ON\n",
                                "GO\n",
                                "\n",
                                "-- 1) CREATE TABLE(S).....\n",
                                "IF NOT EXISTS (SELECT * FROM [SYS].[TABLES] WHERE [OBJECT_ID] = OBJECT_ID('[VWSSTAGE].[RIVM_INFECTIE_RADAR_TREND_PER_LEEFTIJD]'))\n",
                                "CREATE TABLE [VWSSTAGE].[RIVM_INFECTIE_RADAR_TREND_PER_LEEFTIJD] (\n",
                                "\t[ID] [BIGINT] IDENTITY(1,1),\n",
                                "\t[DATE_LAST_INSERTED] [DATETIME] DEFAULT GETDATE(),\n",
                                "\t[VERSION] VARCHAR(50),\n",
                                "\t[DATE_OF_REPORT] VARCHAR(50),\n",
                                "\t[DATE_OF_STATISTICS] VARCHAR(50),\n",
                                "\t[PERC_COVID_SYMPTOMS] VARCHAR(50),\n",
                                "\t[MA_PERC_COVID_SYMPTOMS] VARCHAR(50),\n",
                                "\t[AGE_GROUPS] VARCHAR(50)\n",
                                ");\n",
                                "GO"
                        ]
                },
                {
                        "cell_type": "markdown",
                        "metadata": {},
                        "source": [
                                "# **INTERMEDIATE LAYER**\n",
                                "\n",
                                "---"
                        ]
                },
                {
                        "cell_type": "markdown",
                        "metadata": {},
                        "source": [
                                "## **<span style='color:teal'>TABLES</span>**"
                        ]
                },
                {
                        "cell_type": "code",
                        "execution_count": null,
                        "metadata": {},
                        "outputs": [],
                        "source": [
                                "SET ANSI_NULLS ON\n",
                                "GO\n",
                                "\n",
                                "SET QUOTED_IDENTIFIER ON\n",
                                "GO\n",
                                "\n",
                                "-- 1) CREATE TABLE(S).....\n",
                                "IF NOT EXISTS (SELECT * FROM [SYS].[TABLES] WHERE [OBJECT_ID] = OBJECT_ID('[VWSINTER].[RIVM_INFECTIE_RADAR_TREND_PER_LEEFTIJD]'))\n",
                                "CREATE TABLE [VWSINTER].[RIVM_INFECTIE_RADAR_TREND_PER_LEEFTIJD] (\n",
                                "\t[ID] [BIGINT] IDENTITY(1,1),\n",
                                "\t[DATE_LAST_INSERTED] [DATETIME] DEFAULT GETDATE(),\n",
                                "\t[VERSION] INT NULL,\n",
                                "\t[DATE_OF_REPORT] DATETIME2 NULL,\n",
                                "\t[DATE_OF_STATISTICS] DATETIME2 NULL,\n",
                                "\t[PERC_COVID_SYMPTOMS] FLOAT NULL,\n",
                                "\t[MA_PERC_COVID_SYMPTOMS] FLOAT NULL,\n",
                                "\t[AGE_GROUPS] VARCHAR(50) NULL\n",
                                ");\n",
                                "GO"
                        ]
                },
                {
                        "cell_type": "markdown",
                        "metadata": {},
                        "source": [
                                "## **<span style='color:teal'>STORED PROCEDURES</span>**"
                        ]
                },
                {
                        "cell_type": "code",
                        "execution_count": null,
                        "metadata": {},
                        "outputs": [],
                        "source": [
                                "-- 1) CREATE STORED PROCEDURE(S): STAGING TO INTERMEDIATE.....\n",
                                "CREATE OR ALTER PROCEDURE [dbo].[SP_INSERT_IL_RIVM_INFECTIE_RADAR_TREND_PER_LEEFTIJD]\n",
                                "AS\n",
                                "BEGIN\n",
                                "    INSERT INTO [VWSINTER].[RIVM_INFECTIE_RADAR_TREND_PER_LEEFTIJD] (\n",
                                "        [VERSION],\n",
                                "        [DATE_OF_REPORT],\n",
                                "        [DATE_OF_STATISTICS],\n",
                                "        [PERC_COVID_SYMPTOMS],\n",
                                "        [MA_PERC_COVID_SYMPTOMS],\n",
                                "        [AGE_GROUPS]\n",
                                "    )\n",
                                "    SELECT\n",
                                "        [VERSION],\n",
                                "        [dbo].[TRY_CONVERT_TO_DATETIME]([DATE_OF_REPORT]),\n",
                                "        [dbo].[TRY_CONVERT_TO_DATETIME]([DATE_OF_STATISTICS]),\n",
                                "        CONVERT(FLOAT, IIF([PERC_COVID_SYMPTOMS] IN ('', 'NA'), NULL, Replace([PERC_COVID_SYMPTOMS], ',', '.'))),\n",
                                "        CONVERT(FLOAT, IIF([MA_PERC_COVID_SYMPTOMS] IN ('', 'NA'), NULL, Replace([MA_PERC_COVID_SYMPTOMS], ',', '.'))),\n",
                                "        [AGE_GROUPS]\n",
                                "    FROM\n",
                                "        [VWSSTAGE].[RIVM_INFECTIE_RADAR_TREND_PER_LEEFTIJD]\n",
                                "    WHERE [DATE_LAST_INSERTED] = (SELECT MAX([DATE_LAST_INSERTED]) FROM [VWSSTAGE].[RIVM_INFECTIE_RADAR_TREND_PER_LEEFTIJD])\n",
                                "END;\n",
                                "GO"
                        ]
                },
                {
                        "cell_type": "markdown",
                        "metadata": {},
                        "source": [
                                "# **OUTPUT LAYER**\n",
                                "\n",
                                "---"
                        ]
                },
                {
                        "cell_type": "markdown",
                        "metadata": {},
                        "source": [
                                "## **<span style='color:teal'>INFECTIE RADAR TREND PER LEEFTIJD </span>**"
                        ]
                },
                {
                        "cell_type": "markdown",
                        "metadata": {},
                        "source": [
                                "### **<span style='color:cadetblue'>TABLES</span>**"
                        ]
                },
                {
                        "cell_type": "code",
                        "execution_count": null,
                        "metadata": {},
                        "outputs": [],
                        "source": [
                                "SET ANSI_NULLS ON\n",
                                "GO\n",
                                "\n",
                                "SET QUOTED_IDENTIFIER ON\n",
                                "GO\n",
                                "\n",
                                "-- 1) CREATE TABLE(S).....\n",
                                "IF NOT EXISTS (SELECT * FROM [SYS].[TABLES] WHERE [OBJECT_ID] = OBJECT_ID('[VWSDEST].[RIVM_INFECTIE_RADAR_TREND_PER_LEEFTIJD]'))\n",
                                "CREATE TABLE [VWSDEST].[RIVM_INFECTIE_RADAR_TREND_PER_LEEFTIJD] (\n",
                                "\t[ID] [BIGINT] PRIMARY KEY IDENTITY(1,1),\n",
                                "\t[DATE_LAST_INSERTED] [DATETIME] DEFAULT GETDATE(),\n",
                                "\t[VERSION] INT NULL,\n",
                                "\t[DATE_OF_REPORT] DATETIME2 NULL,\n",
                                "\t[DATE_OF_STATISTICS] DATETIME2 NULL,\n",
                                "\t[PERC_COVID_SYMPTOMS] FLOAT NULL,\n",
                                "\t[MA_PERC_COVID_SYMPTOMS] FLOAT NULL,\n",
                                "\t[AGE_GROUPS] VARCHAR(50) NULL\n",
                                ");\n",
                                "GO\n",
                                "\n",
                                "-- 2) CREATE INDEX(S).....\n",
                                "DROP INDEX IF EXISTS [NCIX_DLI_RIVM_INFECTIE_RADAR_TREND_PER_LEEFTIJD] \n",
                                "\tON [VWSDEST].[RIVM_INFECTIE_RADAR_TREND_PER_LEEFTIJD]\n",
                                "GO\n",
                                "\n",
                                "CREATE NONCLUSTERED INDEX [NCIX_DLI_RIVM_INFECTIE_RADAR_TREND_PER_LEEFTIJD]\n",
                                "    ON [VWSDEST].[RIVM_INFECTIE_RADAR_TREND_PER_LEEFTIJD] (\n",
                                "\t\t[DATE_LAST_INSERTED]\n",
                                "\t)\n",
                                "GO"
                        ]
                },
                {
                        "cell_type": "markdown",
                        "metadata": {},
                        "source": [
                                "### **<span style='color:cadetblue'>STORED PROCEDURES</span>**"
                        ]
                },
                {
                        "cell_type": "code",
                        "execution_count": null,
                        "metadata": {},
                        "outputs": [],
                        "source": [
                                "-- 1) CREATE STORED PROCEDURE(S): INTERMEDIATE TO DESTINATION.....\n",
                                "CREATE OR ALTER PROCEDURE [dbo].[SP_INSERT_OL_RIVM_INFECTIE_RADAR_TREND_PER_LEEFTIJD]\n",
                                "AS\n",
                                "BEGIN\n",
                                "    INSERT INTO [VWSDEST].[RIVM_INFECTIE_RADAR_TREND_PER_LEEFTIJD] (\n",
                                "        [VERSION],\n",
                                "        [DATE_OF_REPORT],\n",
                                "        [DATE_OF_STATISTICS],\n",
                                "        [PERC_COVID_SYMPTOMS],\n",
                                "        [MA_PERC_COVID_SYMPTOMS],\n",
                                "        [AGE_GROUPS]\n",
                                "    )\n",
                                "    SELECT\n",
                                "        [VERSION],\n",
                                "        [DATE_OF_REPORT],\n",
                                "        [DATE_OF_STATISTICS],\n",
                                "        [PERC_COVID_SYMPTOMS],\n",
                                "        [MA_PERC_COVID_SYMPTOMS],\n",
                                "        [AGE_GROUPS]\n",
                                "    FROM\n",
                                "        [VWSINTER].[RIVM_INFECTIE_RADAR_TREND_PER_LEEFTIJD]\n",
                                "    WHERE [DATE_LAST_INSERTED] = (SELECT MAX([DATE_LAST_INSERTED]) FROM [VWSINTER].[RIVM_INFECTIE_RADAR_TREND_PER_LEEFTIJD])\n",
                                "END;\n",
                                "GO"
                        ]
                },
                {
                        "cell_type": "markdown",
                        "metadata": {},
                        "source": [
                                "### **<span style='color:cadetblue'>VIEWS</span>**"
                        ]
                },
                {
                        "cell_type": "code",
                        "execution_count": null,
                        "metadata": {},
                        "outputs": [],
                        "source": [
                                "-- 1) CREATE VIEW(S).....\n",
                                "CREATE OR ALTER VIEW [VWSREPORT].[V_RIVM_INFECTIE_RADAR_TREND_PER_LEEFTIJD] AS\n",
                                "WITH CTE AS (\n",
                                "    SELECT\n",
                                "        [VERSION],\n",
                                "        [DATE_LAST_INSERTED],\n",
                                "        [DATE_OF_REPORT],\n",
                                "        [DATE_OF_STATISTICS],\n",
                                "        [PERC_COVID_SYMPTOMS],\n",
                                "        [MA_PERC_COVID_SYMPTOMS],\n",
                                "        [AGE_GROUPS]\n",
                                "    FROM [VWSDEST].[RIVM_INFECTIE_RADAR_TREND_PER_LEEFTIJD] WITH(NOLOCK)\n",
                                "    WHERE [DATE_LAST_INSERTED] = (SELECT MAX([DATE_LAST_INSERTED]) FROM [VWSDEST].[RIVM_INFECTIE_RADAR_TREND_PER_LEEFTIJD] WITH(NOLOCK))\n",
                                ")\n",
                                "SELECT\n",
                                "    *\n",
                                "FROM CTE\n",
                                "GO"
                        ]
                }
        ],
        "metadata": {
                "kernelspec": {
                        "display_name": "SQL",
                        "language": "sql",
                        "name": "SQL"
                },
                "language_info": {
                        "name": "sql",
                        "version": ""
                }
        },
        "nbformat": 4,
        "nbformat_minor": 2
}
