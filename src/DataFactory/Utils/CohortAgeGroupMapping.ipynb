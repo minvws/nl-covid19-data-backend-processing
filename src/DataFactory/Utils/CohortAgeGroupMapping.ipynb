{
    "cells": [
        {
            "cell_type": "markdown",
            "metadata": {
                "azdata_cell_guid": "a1bff903-eb61-4e65-82a1-c4e918bbcac8"
            },
            "source": [
                "# **INTRODUCTIONS**\n",
                "\n",
                "---\n",
                "\n",
                "The code is separated into multiple sections:\n",
                "\n",
                "1. **[Tables](#tables)**"
            ]
        },
        {
            "cell_type": "markdown",
            "metadata": {},
            "source": [
                "# **DEPENDENCIES**\n",
                "\n",
                "---\n",
                "\n",
                "```json\n",
                "{\n",
                "    \"depends-on\": [\n",
                "        \"src/DataFactory/Utils/Schemas.ipynb\"\n",
                "    ]\n",
                "}\n",
                "```"
            ]
        },
        {
            "cell_type": "markdown",
            "metadata": {
                "azdata_cell_guid": "b883932e-c47b-4de6-9629-eca0ff8aeabb"
            },
            "source": [
                "# **TABLES**\n",
                "\n",
                "---"
            ]
        },
        {
            "cell_type": "markdown",
            "metadata": {},
            "source": [
                "### STATICS"
            ]
        },
        {
            "cell_type": "markdown",
            "metadata": {},
            "source": [
                "> COHORT TO AGE GROUPS MAPPING"
            ]
        },
        {
            "cell_type": "code",
            "execution_count": null,
            "metadata": {},
            "outputs": [],
            "source": [
                "-- COPYRIGHT (C) 2020 DE STAAT DER NEDERLANDEN, MINISTERIE VAN VOLKSGEZONDHEID, WELZIJN EN SPORT.\n",
                "-- LICENSED UNDER THE EUROPEAN UNION PUBLIC LICENCE V. 1.2 - SEE HTTPS://GITHUB.COM/MINVWS/NL-CONTACT-TRACING-APP-COORDINATION FOR MORE INFORMATION.\n",
                "\n",
                "SET ANSI_NULLS ON\n",
                "GO\n",
                "\n",
                "SET QUOTED_IDENTIFIER ON\n",
                "GO\n",
                "\n",
                "-- 1) CREATE TABLE(S).....\n",
                "DROP TABLE IF EXISTS [VWSSTATIC].[COHORT_TO_AGE_GROUPS_MAPPING]\n",
                "GO\n",
                "\n",
                "CREATE TABLE [VWSSTATIC].[COHORT_TO_AGE_GROUPS_MAPPING]\n",
                "(\n",
                "    [ID] [INT] PRIMARY KEY IDENTITY(1,1),\n",
                "    [COHORT] [VARCHAR](256) NOT NULL,\n",
                "    [AGE_GROUP] [VARCHAR](256) NOT NULL\n",
                ");\n",
                "GO\n",
                "\n",
                "-- 2) CREATE INDEX(ES).....\n",
                "CREATE NONCLUSTERED INDEX [NCIX_AGE_GROUP_AND_COHORT] ON [VWSSTATIC].[COHORT_TO_AGE_GROUPS_MAPPING] (\n",
                "    [COHORT],\n",
                "    [AGE_GROUP]\n",
                ") WITH (STATISTICS_NORECOMPUTE = OFF, DROP_EXISTING = OFF, ONLINE = OFF, OPTIMIZE_FOR_SEQUENTIAL_KEY = OFF) ON [PRIMARY];\n",
                "GO"
            ]
        },
        {
            "cell_type": "code",
            "execution_count": null,
            "metadata": {},
            "outputs": [],
            "source": [
                "\n",
                "INSERT INTO [VWSSTATIC].[COHORT_TO_AGE_GROUPS_MAPPING] (\n",
                "    [COHORT],\n",
                "    [AGE_GROUP]\n",
                ")\n",
                "VALUES\n",
                "    -- 2021\n",
                "    ('<=1940','81+'),\n",
                "    ('1941-1950','71-80'),\n",
                "    ('1951-1960','61-70'),\n",
                "    ('1961-1970','51-60'),\n",
                "    ('1971-1980','41-50'),\n",
                "    ('1981-1990','31-40'),\n",
                "    ('1991-2003','18-30'),\n",
                "    ('2004-2009','12-17'),\n",
                "    ('2010-2016','5-11'),\n",
                "    ('<=2003','18+'),\n",
                "    ('<2004','18+'),\n",
                "    ('<=2009','12+'),\n",
                "    ('<=2016','5+'),\n",
                "    -- 2022\n",
                "    ('<=1941','81+'),\n",
                "    ('1942-1951','71-80'),\n",
                "    ('1952-1961','61-70'),\n",
                "    ('1962-1971','51-60'),\n",
                "    ('1972-1981','41-50'),\n",
                "    ('1982-1991','31-40'),\n",
                "    ('1992-2004','18-30'),\n",
                "    ('2005-2010','12-17'),\n",
                "    ('2011-2017','5-11'),\n",
                "    ('<=2004','18+'),\n",
                "    ('<2005','18+'),\n",
                "    ('<=2010','12+'),\n",
                "    ('<=2017','5+'),\n",
                "    -- 2022 v2\n",
                "    ('<=1942','80+') ,\n",
                "    ('1943-1952','70-79') ,\n",
                "    ('1953-1962','60-69') ,\n",
                "    ('1963-1972','50-59') ,\n",
                "    ('1973-1982','40-49') ,\n",
                "    ('1983-1992','30-39') ,\n",
                "    ('1993-2004','18-29') ,\n",
                "    ('Unknown','Unknown') \n",
                "GO\n",
                "\n",
                "SET IDENTITY_INSERT [VWSSTATIC].[COHORT_TO_AGE_GROUPS_MAPPING] OFF;\n",
                "GO"
            ]
        },
        {
            "cell_type": "markdown",
            "metadata": {},
            "source": [
                "> COHORT NAMES MAPPING"
            ]
        },
        {
            "cell_type": "code",
            "execution_count": null,
            "metadata": {},
            "outputs": [],
            "source": [
                "-- COPYRIGHT (C) 2020 DE STAAT DER NEDERLANDEN, MINISTERIE VAN VOLKSGEZONDHEID, WELZIJN EN SPORT.\n",
                "-- LICENSED UNDER THE EUROPEAN UNION PUBLIC LICENCE V. 1.2 - SEE HTTPS://GITHUB.COM/MINVWS/NL-CONTACT-TRACING-APP-COORDINATION FOR MORE INFORMATION.\n",
                "\n",
                "SET ANSI_NULLS ON\n",
                "GO\n",
                "\n",
                "SET QUOTED_IDENTIFIER ON\n",
                "GO\n",
                "\n",
                "-- 1) CREATE STATIC TABLE(S).....\n",
                "DROP TABLE IF EXISTS [VWSSTATIC].[COHORT_TO_NAMES_MAPPING]\n",
                "GO\n",
                "\n",
                "CREATE TABLE [VWSSTATIC].[COHORT_TO_NAMES_MAPPING] (\n",
                "\t[ID] [INT] IDENTITY(1,1) NOT NULL,\n",
                "\t[COHORT_ORIGINAL] [NVARCHAR](50) NOT NULL,\n",
                "\t[COHORT_ADJUSTED] [NVARCHAR](50) NOT NULL\n",
                ");\n",
                "GO\n",
                "\n",
                "-- 2) CREATE INDEX(ES).....\n",
                "CREATE NONCLUSTERED INDEX [NCIX_COHORT_ORIGINAL_AND_ADJUSTED] ON [VWSSTATIC].[COHORT_TO_NAMES_MAPPING] (\n",
                "    [COHORT_ORIGINAL],\n",
                "    [COHORT_ADJUSTED]\n",
                ") WITH (STATISTICS_NORECOMPUTE = OFF, DROP_EXISTING = OFF, ONLINE = OFF, OPTIMIZE_FOR_SEQUENTIAL_KEY = OFF) ON [PRIMARY];\n",
                "GO"
            ]
        },
        {
            "cell_type": "code",
            "execution_count": null,
            "metadata": {},
            "outputs": [],
            "source": [
                "INSERT INTO [VWSSTATIC].[COHORT_TO_NAMES_MAPPING] (\n",
                "    [COHORT_ORIGINAL],\n",
                "    [COHORT_ADJUSTED]\n",
                ")\n",
                "VALUES\n",
                "    -- 2021\n",
                "    (N'<=1940', N'-1940'),\n",
                "    (N'<=2003', N'-2003'),\n",
                "    (N'<2004', N'-2003'),\n",
                "    (N'<=2009', N'-2009'),\n",
                "    (N'<=2016', N'-2016'),\n",
                "    -- 2022\n",
                "    (N'<=1941', N'-1941'),\n",
                "    (N'<=2004', N'-2004'),\n",
                "    (N'<2005', N'-2004'),\n",
                "    (N'<=2010', N'-2010'),\n",
                "    (N'<=2017', N'-2017'),\n",
                "    -- 2022 v2\n",
                "    (N'<=1942',N'-1942') ;\n",
                "GO\n",
                "\n",
                "SET IDENTITY_INSERT [VWSSTATIC].[COHORT_TO_NAMES_MAPPING] OFF;\n",
                "GO"
            ]
        }
    ],
    "metadata": {
        "kernelspec": {
            "display_name": "SQL",
            "language": "sql",
            "name": "SQL"
        },
        "language_info": {
            "name": "sql",
            "version": ""
        }
    },
    "nbformat": 4,
    "nbformat_minor": 2
}
