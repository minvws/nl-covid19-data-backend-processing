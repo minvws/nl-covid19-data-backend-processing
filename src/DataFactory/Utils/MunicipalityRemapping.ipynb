{
    "cells": [
        {
            "cell_type": "markdown",
            "metadata": {},
            "source": [
                "```sql\n",
                "-- COPYRIGHT (C) 2022 DE STAAT DER NEDERLANDEN, MINISTERIE VAN VOLKSGEZONDHEID, WELZIJN EN SPORT.\n",
                "-- LICENSED UNDER THE EUROPEAN UNION PUBLIC LICENCE V. 1.2 - SEE HTTPS://GITHUB.COM/MINVWS/NL-CONTACT-TRACING-APP-COORDINATIONFOR MORE INFORMATION.\n",
                "```\n",
                "\n",
                "# **INTRODUCTIONS**\n",
                "\n",
                "---\n",
                "\n",
                "The code is separated into multiple sections:\n",
                "\n",
                "1. **[Flow Diagrams](#flow-diagrams)**\n",
                "2. **[Dependencies](#dependencies)**\n",
                "3. **[Static Layer](#static-layer)**\n",
                "\n",
                "\n",
                "# **FLOW DIAGRAMS**\n",
                "\n",
                "---\n",
                "\n",
                "**<font color=red>NO DIAGRAM!</font>**\n",
                "\n",
                "In 2022 a select amount of municipalities were merged and/or changed into other or new municipalities. Using the table `[VWSSTATIC].[VWS_MUNICIPALITY_REMAPPING]` within `Stored Procedures` the remapping can be handeled in the background.\n",
                "\n",
                "Required steps:\n",
                "\n",
                "1. `N/A`\n",
                "\n",
                "- **<font color=teal>SL</font>**: Static Layer\n"
            ]
        },
        {
            "cell_type": "markdown",
            "metadata": {},
            "source": [
                "# **DEPENDENCIES**\n",
                "\n",
                "---\n",
                "\n",
                "```json\n",
                "{\n",
                "    \"depends-on\": [\n",
                "        \"src/DataFactory/Utils/Schemas.ipynb\"\n",
                "        // Additional dependencies (!NOTE! DO NOT FORGET THE COMMA (i.e. ,))\n",
                "    ]\n",
                "}\n",
                "```"
            ]
        },
        {
            "cell_type": "markdown",
            "metadata": {},
            "source": [
                "# **STATIC LAYER**\n",
                "\n",
                "---"
            ]
        },
        {
            "cell_type": "markdown",
            "metadata": {},
            "source": [
                "## **<span style='color:teal'>TABLES</span>**"
            ]
        },
        {
            "cell_type": "code",
            "execution_count": null,
            "metadata": {},
            "outputs": [],
            "source": [
                "SET ANSI_NULLS ON\n",
                "GO\n",
                "\n",
                "SET QUOTED_IDENTIFIER ON\n",
                "GO\n",
                "\n",
                "-- 1) CREATE TABLE(S).....\n",
                "IF NOT EXISTS (SELECT * FROM [SYS].[TABLES] WHERE [OBJECT_ID] = OBJECT_ID('[VWSSTATIC].[VWS_MUNICIPALITY_REMAPPING]'))\n",
                "CREATE TABLE [VWSSTATIC].[VWS_MUNICIPALITY_REMAPPING] (\n",
                "\t[ID] [BIGINT] PRIMARY KEY IDENTITY(1,1),\n",
                "\t[DATE_LAST_INSERTED] [DATETIME] DEFAULT GETDATE(),\n",
                "\t[GM_CODE_ORIGINAL] [NVARCHAR](10),\n",
                "\t[GM_NAME_ORIGINAL] [NVARCHAR](255),\n",
                "\t[GM_CODE_NEW] [NVARCHAR](10),\n",
                "\t[GM_NAME_NEW] [NVARCHAR](255),\n",
                "\t[VR_CODE] [NVARCHAR](10),\n",
                "\t[VR_NAME] [NVARCHAR](255),\n",
                "\t[PROVINCE_CODE] [NVARCHAR](10),\n",
                "\t[PROVINCE_NAME] [NVARCHAR](255),\n",
                "\t[GGD_CODE] [NVARCHAR](10),\n",
                "\t[GGD_NAME] [NVARCHAR](255),\n",
                "\t[SHARES] [DECIMAL](16,6) NOT NULL DEFAULT (1.0),\n",
                "\t[ACTIVE] [INT] NOT NULL DEFAULT(0)\n",
                ");\n",
                "GO\n",
                "\n",
                "INSERT INTO [VWSSTATIC].[VWS_MUNICIPALITY_REMAPPING] (\n",
                "\t[GM_CODE_ORIGINAL],\n",
                "\t[GM_NAME_ORIGINAL],\n",
                "\t[GM_CODE_NEW],\n",
                "\t[GM_NAME_NEW],\n",
                "\t[VR_CODE],\n",
                "\t[VR_NAME],\n",
                "\t[PROVINCE_CODE],\n",
                "\t[PROVINCE_NAME],\n",
                "\t[GGD_CODE],\n",
                "\t[GGD_NAME],\n",
                "\t[SHARES],\n",
                "\t[ACTIVE]) -- MUST BE SET TO 1 TO ALLOW PROPER MAPPING\n",
                "VALUES \n",
                "\t('GM1684','Cuijk','GM1982','Land van Cuijk','VR21','Brabant-Noord','PV30','Noord-Brabant','GG5406','GGD Hart voor Brabant',1,1),\n",
                "\t('GM0756','Boxmeer','GM1982','Land van Cuijk','VR21','Brabant-Noord','PV30','Noord-Brabant','GG5406','GGD Hart voor Brabant',1,1),\n",
                "\t('GM0815','Mill en Sint Hubert','GM1982','Land van Cuijk','VR21','Brabant-Noord','PV30','Noord-Brabant','GG5406','GGD Hart voor Brabant',1,1),\n",
                "\t('GM1702','Sint Anthonis','GM1982','Land van Cuijk','VR21','Brabant-Noord','PV30','Noord-Brabant','GG5406','GGD Hart voor Brabant',1,1),\n",
                "\t('GM0786','Grave','GM1982','Land van Cuijk','VR21','Brabant-Noord','PV30','Noord-Brabant','GG5406','GGD Hart voor Brabant',1,1),\n",
                "\t('GM1685','Landerd','GM1991','Maashorst','VR21','Brabant-Noord','PV30','Noord-Brabant','GG5406','GGD Hart voor Brabant',1,1),\n",
                "\t('GM0856','Uden','GM1991','Maashorst','VR21','Brabant-Noord','PV30','Noord-Brabant','GG5406','GGD Hart voor Brabant',1,1),\n",
                "\t('GM0398','Heerhugowaard','GM1980','Dijk en Waard','VR10','Noord-Holland-Noord','PV27','Noord-Holland','GG2707','GGD Hollands-Noorden',1,1),\n",
                "\t('GM0416','Langedijk','GM1980','Dijk en Waard','VR10','Noord-Holland-Noord','PV27','Noord-Holland','GG2707','GGD Hollands-Noorden',1,1),\n",
                "\t('GM0370','Beemster','GM0439','Purmerend','VR11','Zaanstreek-Waterland','PV27','Noord-Holland','GG7306','GGD Zaanstreek/Waterland',1,1),\n",
                "\t('GM0457','Weesp','GM0363','Amsterdam','VR13','Amsterdam-Amstelland','PV27','Noord-Holland','GG3406','GGD Amsterdam',1,1);\n",
                "GO"
            ]
        }
    ],
    "metadata": {
        "kernelspec": {
            "display_name": "SQL",
            "language": "sql",
            "name": "SQL"
        },
        "language_info": {
            "name": "sql",
            "version": ""
        }
    },
    "nbformat": 4,
    "nbformat_minor": 2
}
