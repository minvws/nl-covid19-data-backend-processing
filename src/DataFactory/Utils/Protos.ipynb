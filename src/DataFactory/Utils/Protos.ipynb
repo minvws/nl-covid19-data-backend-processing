{
    "cells": [
        {
            "attachments": {},
            "cell_type": "markdown",
            "metadata": {
                "dotnet_interactive": {
                    "language": "csharp"
                },
                "polyglot_notebook": {
                    "kernelName": "csharp"
                }
            },
            "source": [
                "# **INTRODUCTIONS**\n",
                "\n",
                "---\n",
                "\n",
                "The code is separated into multiple sections:\n",
                "\n",
                "1. **[Protos](#protos)**"
            ]
        },
        {
            "attachments": {},
            "cell_type": "markdown",
            "metadata": {
                "dotnet_interactive": {
                    "language": "csharp"
                },
                "polyglot_notebook": {
                    "kernelName": "csharp"
                }
            },
            "source": [
                "# **PROTOS**\n",
                "\n",
                "---"
            ]
        },
        {
            "attachments": {},
            "cell_type": "markdown",
            "metadata": {
                "dotnet_interactive": {
                    "language": "csharp"
                },
                "polyglot_notebook": {
                    "kernelName": "csharp"
                }
            },
            "source": [
                "### NATIONAL"
            ]
        },
        {
            "cell_type": "code",
            "execution_count": null,
            "metadata": {
                "dotnet_interactive": {
                    "language": "sql"
                },
                "polyglot_notebook": {
                    "kernelName": "sql"
                },
                "vscode": {
                    "languageId": "sql"
                }
            },
            "outputs": [],
            "source": [
                "-- COPYRIGHT (C) 2020 DE STAAT DER NEDERLANDEN, MINISTERIE VAN VOLKSGEZONDHEID, WELZIJN EN SPORT.\n",
                "-- LICENSED UNDER THE EUROPEAN UNION PUBLIC LICENCE V. 1.2 - SEE HTTPS://GITHUB.COM/MINVWS/NL-CONTACT-TRACING-APP-COORDINATION FOR MORE INFORMATION.\n",
                "\n",
                "DECLARE @proto_id BIGINT,\n",
                "        @proto_name VARCHAR(50),\n",
                "\t\t@header_values VARCHAR(256),\n",
                "\t\t@description VARCHAR(256),\n",
                "\t\t@is_active INT = 1;\n",
                "\n",
                "DECLARE @proto_name_table TABLE (\n",
                "    [PROTO_NAME] VARCHAR(50)\n",
                ");\n",
                "\n",
                "-- 1) CREATE PROTO(S)....\n",
                "INSERT INTO @proto_name_table\n",
                "VALUES \n",
                "\t('NL'); -- The Netherlands\n",
                "\n",
                "DECLARE CUR CURSOR LOCAL FAST_FORWARD\n",
                "FOR\n",
                "SELECT [PROTO_NAME]\n",
                "FROM @proto_name_table;\n",
                "\n",
                "OPEN CUR;\n",
                "\n",
                "FETCH NEXT FROM CUR\n",
                "INTO @proto_name;\n",
                "\n",
                "WHILE @@FETCH_STATUS = 0\n",
                "BEGIN\n",
                "    \n",
                "\tSELECT\n",
                "\t\t@proto_id = [ID]\n",
                "\tFROM [DATATINO_PROTO_1].[PROTOS]\n",
                "\tWHERE [NAME] = @proto_name;\n",
                "\n",
                "\tSET @header_values = CONCAT(@proto_name, '|', @proto_name, '|', @proto_name ,'|=GETDATE()');\n",
                "\tSET @description = CONCAT('PROTO FILE FOR ',  @proto_name);\n",
                "\n",
                "\tEXEC [DATATINO_PROTO_1].[UPSERT_PROTO]\n",
                "\t\t@id = @proto_id,\n",
                "\t\t@proto_name = @proto_name,\n",
                "\t\t@header_names = 'name|code|proto_name|last_generated',\n",
                "\t\t@header_values = @header_values,\n",
                "\t\t@description = @description,\n",
                "\t\t@active = @is_active;\n",
                "\n",
                "    FETCH NEXT FROM CUR\n",
                "    INTO @proto_name;    \n",
                "END\n",
                "\n",
                "CLOSE CUR;\n",
                "DEALLOCATE CUR;\n",
                "DELETE FROM @proto_name_table;\n",
                "GO"
            ]
        },
        {
            "attachments": {},
            "cell_type": "markdown",
            "metadata": {
                "dotnet_interactive": {
                    "language": "csharp"
                },
                "polyglot_notebook": {
                    "kernelName": "csharp"
                }
            },
            "source": [
                "### REGIONAL"
            ]
        },
        {
            "attachments": {},
            "cell_type": "markdown",
            "metadata": {
                "dotnet_interactive": {
                    "language": "csharp"
                },
                "polyglot_notebook": {
                    "kernelName": "csharp"
                }
            },
            "source": [
                "> SINGLES"
            ]
        },
        {
            "cell_type": "code",
            "execution_count": null,
            "metadata": {
                "dotnet_interactive": {
                    "language": "sql"
                },
                "polyglot_notebook": {
                    "kernelName": "sql"
                },
                "vscode": {
                    "languageId": "sql"
                }
            },
            "outputs": [],
            "source": [
                "-- COPYRIGHT (C) 2020 DE STAAT DER NEDERLANDEN, MINISTERIE VAN VOLKSGEZONDHEID, WELZIJN EN SPORT.\n",
                "-- LICENSED UNDER THE EUROPEAN UNION PUBLIC LICENCE V. 1.2 - SEE HTTPS://GITHUB.COM/MINVWS/NL-CONTACT-TRACING-APP-COORDINATION FOR MORE INFORMATION.\n",
                "\n",
                "DECLARE @proto_id BIGINT,\n",
                "        @proto_name VARCHAR(50),\n",
                "\t\t@header_values VARCHAR(256),\n",
                "\t\t@description VARCHAR(256),\n",
                "\t\t@is_active INT  = 0; -- disabled per May 2023\n",
                "\n",
                "DECLARE @proto_name_table TABLE (\n",
                "    [PROTO_NAME] VARCHAR(50)\n",
                ");\n",
                "\n",
                "-- 1) CREATE PROTO(S)...\n",
                "INSERT INTO @proto_name_table\n",
                "VALUES \n",
                "\t('VR01'),\n",
                "\t('VR02'),\n",
                "\t('VR03'),\n",
                "\t('VR04'),\n",
                "\t('VR05'),\n",
                "\t('VR06'),\n",
                "\t('VR07'),\n",
                "\t('VR08'),\n",
                "\t('VR09'),\n",
                "\t('VR10'),\n",
                "\t('VR11'),\n",
                "\t('VR12'),\n",
                "\t('VR13'),\n",
                "\t('VR14'),\n",
                "\t('VR15'),\n",
                "\t('VR16'),\n",
                "\t('VR17'),\n",
                "\t('VR18'),\n",
                "\t('VR19'),\n",
                "\t('VR20'),\n",
                "\t('VR21'),\n",
                "\t('VR22'),\n",
                "\t('VR23'),\n",
                "\t('VR24'),\n",
                "\t('VR25');\n",
                "\n",
                "DECLARE CUR CURSOR LOCAL FAST_FORWARD\n",
                "FOR\n",
                "SELECT [PROTO_NAME]\n",
                "FROM @proto_name_table;\n",
                "\n",
                "OPEN CUR;\n",
                "\n",
                "FETCH NEXT FROM CUR\n",
                "INTO @proto_name;\n",
                "\n",
                "WHILE @@FETCH_STATUS = 0\n",
                "BEGIN\n",
                "    \n",
                "\tSELECT\n",
                "\t\t@proto_id = [ID]\n",
                "\tFROM [DATATINO_PROTO_1].[PROTOS]\n",
                "\tWHERE [NAME] = @proto_name;\n",
                "\n",
                "\tSET @header_values = CONCAT(@proto_name, '|', @proto_name, '|', @proto_name ,'|=GETDATE()');\n",
                "\tSET @description = CONCAT('PROTO FILE FOR ',  @proto_name);\n",
                "\n",
                "\tEXEC [DATATINO_PROTO_1].[UPSERT_PROTO]\n",
                "\t\t@id = @proto_id,\n",
                "\t\t@proto_name = @proto_name,\n",
                "\t\t@header_names = 'name|code|proto_name|last_generated',\n",
                "\t\t@header_values = @header_values,\n",
                "\t\t@description = @description,\n",
                "\t\t@active = @is_active;\n",
                "\n",
                "    FETCH NEXT FROM CUR\n",
                "    INTO @proto_name;    \n",
                "END\n",
                "\n",
                "CLOSE CUR;\n",
                "DEALLOCATE CUR;\n",
                "DELETE FROM @proto_name_table;\n",
                "GO"
            ]
        },
        {
            "attachments": {},
            "cell_type": "markdown",
            "metadata": {
                "dotnet_interactive": {
                    "language": "csharp"
                },
                "polyglot_notebook": {
                    "kernelName": "csharp"
                }
            },
            "source": [
                "> COLLECTIONS"
            ]
        },
        {
            "cell_type": "code",
            "execution_count": null,
            "metadata": {
                "dotnet_interactive": {
                    "language": "sql"
                },
                "polyglot_notebook": {
                    "kernelName": "sql"
                },
                "vscode": {
                    "languageId": "sql"
                }
            },
            "outputs": [],
            "source": [
                "-- COPYRIGHT (C) 2020 DE STAAT DER NEDERLANDEN, MINISTERIE VAN VOLKSGEZONDHEID, WELZIJN EN SPORT.\n",
                "-- LICENSED UNDER THE EUROPEAN UNION PUBLIC LICENCE V. 1.2 - SEE HTTPS://GITHUB.COM/MINVWS/NL-CONTACT-TRACING-APP-COORDINATION FOR MORE INFORMATION.\n",
                "\n",
                "DECLARE @proto_id BIGINT,\n",
                "        @proto_name VARCHAR(50),\n",
                "\t\t@header_values VARCHAR(256),\n",
                "\t\t@description VARCHAR(256),\n",
                "\t\t@is_active INT  = 1;\n",
                "\n",
                "DECLARE @proto_name_table TABLE (\n",
                "    [PROTO_NAME] VARCHAR(50)\n",
                ");\n",
                "\n",
                "-- 1) CREATE PROTO(S)...\n",
                "INSERT INTO @proto_name_table\n",
                "VALUES \n",
                "\t('VR_COLLECTION');\n",
                "\n",
                "DECLARE CUR CURSOR LOCAL FAST_FORWARD\n",
                "FOR\n",
                "SELECT [PROTO_NAME]\n",
                "FROM @proto_name_table;\n",
                "\n",
                "OPEN CUR;\n",
                "\n",
                "FETCH NEXT FROM CUR\n",
                "INTO @proto_name;\n",
                "\n",
                "WHILE @@FETCH_STATUS = 0\n",
                "BEGIN\n",
                "    \n",
                "\tSELECT\n",
                "\t\t@proto_id = [ID]\n",
                "\tFROM [DATATINO_PROTO_1].[PROTOS]\n",
                "\tWHERE [NAME] = @proto_name;\n",
                "\n",
                "\tSET @header_values = CONCAT(@proto_name, '|', @proto_name, '|', @proto_name ,'|=GETDATE()');\n",
                "\tSET @description = CONCAT('PROTO FILE FOR ',  @proto_name);\n",
                "\n",
                "\tEXEC [DATATINO_PROTO_1].[UPSERT_PROTO]\n",
                "\t\t@id = @proto_id,\n",
                "\t\t@proto_name = @proto_name,\n",
                "\t\t@header_names = 'name|code|proto_name|last_generated',\n",
                "\t\t@header_values = @header_values,\n",
                "\t\t@description = @description,\n",
                "\t\t@active = @is_active;\n",
                "\n",
                "    FETCH NEXT FROM CUR\n",
                "    INTO @proto_name;    \n",
                "END\n",
                "\n",
                "CLOSE CUR;\n",
                "DEALLOCATE CUR;\n",
                "DELETE FROM @proto_name_table;\n",
                "GO"
            ]
        },
        {
            "attachments": {},
            "cell_type": "markdown",
            "metadata": {
                "dotnet_interactive": {
                    "language": "csharp"
                },
                "polyglot_notebook": {
                    "kernelName": "csharp"
                }
            },
            "source": [
                "### MUNCIPALITIES"
            ]
        },
        {
            "attachments": {},
            "cell_type": "markdown",
            "metadata": {
                "dotnet_interactive": {
                    "language": "csharp"
                },
                "polyglot_notebook": {
                    "kernelName": "csharp"
                }
            },
            "source": [
                "> SINGLES"
            ]
        },
        {
            "cell_type": "code",
            "execution_count": null,
            "metadata": {
                "dotnet_interactive": {
                    "language": "sql"
                },
                "polyglot_notebook": {
                    "kernelName": "sql"
                },
                "vscode": {
                    "languageId": "sql"
                }
            },
            "outputs": [],
            "source": [
                "-- COPYRIGHT (C) 2020 DE STAAT DER NEDERLANDEN, MINISTERIE VAN VOLKSGEZONDHEID, WELZIJN EN SPORT.\n",
                "-- LICENSED UNDER THE EUROPEAN UNION PUBLIC LICENCE V. 1.2 - SEE HTTPS://GITHUB.COM/MINVWS/NL-CONTACT-TRACING-APP-COORDINATION FOR MORE INFORMATION.\n",
                "\n",
                "-- COPYRIGHT (C) 2020 DE STAAT DER NEDERLANDEN, MINISTERIE VAN VOLKSGEZONDHEID, WELZIJN EN SPORT.\n",
                "-- LICENSED UNDER THE EUROPEAN UNION PUBLIC LICENCE V. 1.2 - SEE HTTPS://GITHUB.COM/MINVWS/NL-CONTACT-TRACING-APP-COORDINATION FOR MORE INFORMATION.\n",
                "\n",
                "DECLARE @proto_id BIGINT,\n",
                "        @proto_name VARCHAR(50),\n",
                "\t\t@header_values VARCHAR(256),\n",
                "\t\t@description VARCHAR(256),\n",
                "\t\t@is_active INT  = 1;\n",
                "\n",
                "DECLARE @proto_name_table TABLE (\n",
                "    [PROTO_NAME] VARCHAR(50)\n",
                ");\n",
                "\n",
                "-- 1) CREATE PROTO(S)...\n",
                "INSERT INTO @proto_name_table\n",
                "VALUES \n",
                "\t('GM0014'),('GM0034'),('GM0037'),('GM0047'),('GM0050'),('GM0059'),('GM0060'),('GM0072'),\n",
                "\t('GM0074'),('GM0080'),('GM0085'),('GM0086'),('GM0088'),('GM0090'),('GM0093'),('GM0096'),\n",
                "\t('GM0098'),('GM0106'),('GM0109'),('GM0114'),('GM0118'),('GM0119'),('GM0141'),('GM0147'),\n",
                "\t('GM0148'),('GM0150'),('GM0153'),('GM0158'),('GM0160'),('GM0163'),('GM0164'),('GM0166'),\n",
                "\t('GM0168'),('GM0171'),('GM0173'),('GM0175'),('GM0177'),('GM0180'),('GM0183'),('GM0184'),\n",
                "\t('GM0189'),('GM0193'),('GM0197'),('GM0200'),('GM0202'),('GM0203'),('GM0209'),('GM0213'),\n",
                "\t('GM0214'),('GM0216'),('GM0221'),('GM0222'),('GM0225'),('GM0226'),('GM0228'),('GM0230'),\n",
                "\t('GM0232'),('GM0233'),('GM0243'),('GM0244'),('GM0246'),('GM0252'),('GM0262'),('GM0263'),\n",
                "\t('GM0267'),('GM0268'),('GM0269'),('GM0273'),('GM0274'),('GM0275'),('GM0277'),('GM0279'),\n",
                "\t('GM0281'),('GM0285'),('GM0289'),('GM0293'),('GM0294'),('GM0296'),('GM0297'),('GM0299'),\n",
                "\t('GM0301'),('GM0302'),('GM0303'),('GM0307'),('GM0308'),('GM0310'),('GM0312'),('GM0313'),\n",
                "\t('GM0317'),('GM0321'),('GM0327'),('GM0331'),('GM0335'),('GM0339'),('GM0340'),('GM0342'),\n",
                "\t('GM0344'),('GM0345'),('GM0351'),('GM0352'),('GM0353'),('GM0355'),('GM0356'),('GM0358'),\n",
                "\t('GM0361'),('GM0362'),('GM0363'),('GM0370'),('GM0373'),('GM0375'),('GM0376'),('GM0377'),\n",
                "\t('GM0383'),('GM0384'),('GM0385'),('GM0388'),('GM0392'),('GM0394'),('GM0396'),('GM0397'),\n",
                "\t('GM0398'),('GM0399'),('GM0400'),('GM0402'),('GM0405'),('GM0406'),('GM0415'),('GM0416'),\n",
                "\t('GM0417'),('GM0420'),('GM0431'),('GM0432'),('GM0437'),('GM0439'),('GM0441'),('GM0448'),\n",
                "\t('GM0450'),('GM0451'),('GM0453'),('GM0457'),('GM0473'),('GM0479'),('GM0482'),('GM0484'),\n",
                "\t('GM0489'),('GM0498'),('GM0502'),('GM0503'),('GM0505'),('GM0512'),('GM0513'),\n",
                "\t('GM0518'),('GM0523'),('GM0531'),('GM0532'),('GM0534'),('GM0537'),('GM0542'),\n",
                "\t('GM0546'),('GM0547'),('GM0553'),('GM0556'),('GM0569'),('GM0575'),('GM0579'),('GM0589'),\n",
                "\t('GM0590'),('GM0597'),('GM0599'),('GM0603'),('GM0606'),('GM0610'),('GM0613'),\n",
                "\t('GM0622'),('GM0626'),('GM0627'),('GM0629'),('GM0632'),('GM0637'),('GM0638'),('GM0642'),\n",
                "\t('GM0654'),('GM0664'),('GM0668'),('GM0677'),('GM0678'),('GM0687'),('GM0703'),('GM0715'),\n",
                "\t('GM0716'),('GM0717'),('GM0718'),('GM0736'),('GM0737'),('GM0743'),('GM0744'),('GM0748'),\n",
                "\t('GM0753'),('GM0755'),('GM0756'),('GM0757'),('GM0758'),('GM0762'),('GM0765'),('GM0766'),\n",
                "\t('GM0770'),('GM0772'),('GM0777'),('GM0779'),('GM0784'),('GM0785'),('GM0786'),('GM0794'),\n",
                "\t('GM0796'),('GM0797'),('GM0798'),('GM0809'),('GM0815'),('GM0820'),('GM0823'),('GM0824'),\n",
                "\t('GM0826'),('GM0828'),('GM0840'),('GM0845'),('GM0847'),('GM0848'),('GM0851'),('GM0852'),\n",
                "\t('GM0855'),('GM0856'),('GM0858'),('GM0861'),('GM0865'),('GM0866'),('GM0867'),('GM0873'),\n",
                "\t('GM0879'),('GM0880'),('GM0882'),('GM0888'),('GM0889'),('GM0893'),('GM0899'),('GM0907'),\n",
                "\t('GM0917'),('GM0928'),('GM0935'),('GM0938'),('GM0944'),('GM0946'),('GM0957'),('GM0965'),\n",
                "\t('GM0971'),('GM0981'),('GM0983'),('GM0984'),('GM0986'),('GM0988'),('GM0994'),('GM0995'),\n",
                "\t('GM1507'),('GM1509'),('GM1525'),('GM1581'),('GM1586'),('GM1598'),('GM1621'),('GM1640'),\n",
                "\t('GM1641'),('GM1652'),('GM1655'),('GM1658'),('GM1659'),('GM1667'),('GM1669'),('GM1674'),\n",
                "\t('GM1676'),('GM1680'),('GM1681'),('GM1684'),('GM1685'),('GM1690'),('GM1695'),('GM1696'),\n",
                "\t('GM1699'),('GM1700'),('GM1701'),('GM1702'),('GM1705'),('GM1706'),('GM1708'),('GM1709'),\n",
                "\t('GM1711'),('GM1714'),('GM1719'),('GM1721'),('GM1723'),('GM1724'),('GM1728'),('GM1729'),\n",
                "\t('GM1730'),('GM1731'),('GM1734'),('GM1735'),('GM1740'),('GM1742'),('GM1771'),('GM1773'),\n",
                "\t('GM1774'),('GM1783'),('GM1842'),('GM1859'),('GM1876'),('GM1883'),('GM1884'),('GM1891'),\n",
                "\t('GM1892'),('GM1894'),('GM1895'),('GM1896'),('GM1900'),('GM1901'),('GM1903'),('GM1904'),\n",
                "\t('GM1911'),('GM1916'),('GM1924'),('GM1926'),('GM1930'),('GM1931'),('GM1940'),('GM1942'),\n",
                "\t('GM1945'),('GM1948'),('GM1949'),('GM1950'),('GM1952'),('GM1954'),('GM1955'),('GM1959'),\n",
                "\t('GM1960'),('GM1961'),('GM1963'),('GM1966'),('GM1969'),('GM1970'),('GM1978'),('GM1979'),\n",
                "\t('GM1982'), -- Land van Cuijk\n",
                "\t('GM1991'), -- Maashorst\n",
                "\t('GM1980'), -- Dijk en Waard\n",
                "\t('GM1992'); -- Voorne aan Zee\n",
                "\n",
                "DECLARE CUR CURSOR LOCAL FAST_FORWARD\n",
                "FOR\n",
                "SELECT [PROTO_NAME]\n",
                "FROM @proto_name_table;\n",
                "\n",
                "OPEN CUR;\n",
                "\n",
                "FETCH NEXT FROM CUR\n",
                "INTO @proto_name;\n",
                "\n",
                "WHILE @@FETCH_STATUS = 0\n",
                "BEGIN\n",
                "    \n",
                "    SET @proto_id = NULL\n",
                "\tSELECT\n",
                "\t\t@proto_id = [ID]\n",
                "\tFROM [DATATINO_PROTO_1].[PROTOS]\n",
                "\tWHERE [NAME] = @proto_name;\n",
                "\n",
                "\tSET @header_values = CONCAT(@proto_name, '|', @proto_name, '|', @proto_name ,'|=GETDATE()');\n",
                "\tSET @description = CONCAT('PROTO FILE FOR ',  @proto_name);\n",
                "\n",
                "\tEXEC [DATATINO_PROTO_1].[UPSERT_PROTO]\n",
                "\t\t@id = @proto_id,\n",
                "\t\t@proto_name = @proto_name,\n",
                "\t\t@header_names = 'name|code|proto_name|last_generated',\n",
                "\t\t@header_values = @header_values,\n",
                "\t\t@description = @description,\n",
                "\t\t@active = @is_active;\n",
                "\n",
                "    FETCH NEXT FROM CUR\n",
                "    INTO @proto_name;    \n",
                "END\n",
                "\n",
                "CLOSE CUR;\n",
                "DEALLOCATE CUR;\n",
                "DELETE FROM @proto_name_table;\n",
                "GO"
            ]
        },
        {
            "attachments": {},
            "cell_type": "markdown",
            "metadata": {
                "dotnet_interactive": {
                    "language": "csharp"
                },
                "polyglot_notebook": {
                    "kernelName": "csharp"
                }
            },
            "source": [
                "#### DEACTIVATING OBSOLETE MUNICIPALITIES"
            ]
        },
        {
            "attachments": {},
            "cell_type": "markdown",
            "metadata": {
                "dotnet_interactive": {
                    "language": "csharp"
                },
                "polyglot_notebook": {
                    "kernelName": "csharp"
                }
            },
            "source": [
                "\n",
                "\n",
                "On the other hand, the muncipality codes `GM1684` (Cuijk), `GM0756` (Boxmeer), `GM0815` (Mill en Sint Hubert), `GM1702` (Sint Anthonis), `GM0786` (Grave), `GM1685` (Landerd), `GM0856` (Uden), `GM0398` (Heerhugowaard), `GM0416` (Langedijk) and `GM0370` (Beemster) were set as deactivated `PROTOS` (i.e. `@is_active INT = 0`).\n",
                "\n",
                "> DEACTIVATED"
            ]
        },
        {
            "cell_type": "code",
            "execution_count": null,
            "metadata": {
                "dotnet_interactive": {
                    "language": "sql"
                },
                "polyglot_notebook": {
                    "kernelName": "sql"
                },
                "vscode": {
                    "languageId": "sql"
                }
            },
            "outputs": [],
            "source": [
                "-- COPYRIGHT (C) 2020 DE STAAT DER NEDERLANDEN, MINISTERIE VAN VOLKSGEZONDHEID, WELZIJN EN SPORT.\n",
                "-- LICENSED UNDER THE EUROPEAN UNION PUBLIC LICENCE V. 1.2 - SEE HTTPS://GITHUB.COM/MINVWS/NL-CONTACT-TRACING-APP-COORDINATION FOR MORE INFORMATION.\n",
                "\n",
                "DECLARE @proto_id BIGINT,\n",
                "        @proto_name VARCHAR(50),\n",
                "\t\t@header_values VARCHAR(256),\n",
                "\t\t@description VARCHAR(256),\n",
                "\t\t@is_active INT = 0;\n",
                "\n",
                "DECLARE @proto_name_table TABLE (\n",
                "    [PROTO_NAME] VARCHAR(50)\n",
                ");\n",
                "\n",
                "-- 2) CREATE PROTO(S).....\n",
                "INSERT INTO @proto_name_table\n",
                "VALUES \n",
                "\t('GM1684'), -- Cuijk\n",
                "\t('GM0756'), -- Boxmeer\n",
                "\t('GM0815'), -- Mill en Sint Hubert\n",
                "\t('GM1702'), -- Sint Anthonis\n",
                "\t('GM0786'), -- Grave\n",
                "\t('GM1685'), -- Landerd\n",
                "\t('GM0856'), -- Uden\n",
                "\t('GM0398'), -- Heerhugowaard\n",
                "\t('GM0416'), -- Langedijk\n",
                "\t('GM0370'), -- Beemster (MERGED WITH Purmerend)\n",
                "\t('GM0457'), -- Weesp\n",
                "\t('GM0501'), -- Brielle\n",
                "\t('GM0530'), -- Hellevoetsluis\n",
                "\t('GM0614'); -- Westvoorne\n",
                "\n",
                "DECLARE CUR CURSOR LOCAL FAST_FORWARD\n",
                "FOR\n",
                "SELECT [PROTO_NAME]\n",
                "FROM @proto_name_table;\n",
                "\n",
                "OPEN CUR;\n",
                "\n",
                "FETCH NEXT FROM CUR\n",
                "INTO @proto_name;\n",
                "\n",
                "WHILE @@FETCH_STATUS = 0\n",
                "BEGIN\n",
                "    \n",
                "    SET @proto_id = NULL\n",
                "\tSELECT\n",
                "\t\t@proto_id = [ID]\n",
                "\tFROM [DATATINO_PROTO_1].[PROTOS]\n",
                "\tWHERE [NAME] = @proto_name;\n",
                "\n",
                "\tSET @header_values = CONCAT(@proto_name, '|', @proto_name, '|', @proto_name ,'|=GETDATE()');\n",
                "\tSET @description = CONCAT('PROTO FILE FOR ',  @proto_name);\n",
                "\n",
                "\tEXEC [DATATINO_PROTO_1].[UPSERT_PROTO]\n",
                "\t\t@id = @proto_id,\n",
                "\t\t@proto_name = @proto_name,\n",
                "\t\t@header_names = 'name|code|proto_name|last_generated',\n",
                "\t\t@header_values = @header_values,\n",
                "\t\t@description = @description,\n",
                "\t\t@active = @is_active;\n",
                "\n",
                "    FETCH NEXT FROM CUR\n",
                "    INTO @proto_name;    \n",
                "END\n",
                "\n",
                "CLOSE CUR;\n",
                "DEALLOCATE CUR;\n",
                "DELETE FROM @proto_name_table;\n",
                "GO"
            ]
        },
        {
            "attachments": {},
            "cell_type": "markdown",
            "metadata": {
                "dotnet_interactive": {
                    "language": "csharp"
                },
                "polyglot_notebook": {
                    "kernelName": "csharp"
                }
            },
            "source": [
                "> COLLECTIONS"
            ]
        },
        {
            "cell_type": "code",
            "execution_count": null,
            "metadata": {
                "dotnet_interactive": {
                    "language": "sql"
                },
                "polyglot_notebook": {
                    "kernelName": "sql"
                },
                "vscode": {
                    "languageId": "sql"
                }
            },
            "outputs": [],
            "source": [
                "-- COPYRIGHT (C) 2020 DE STAAT DER NEDERLANDEN, MINISTERIE VAN VOLKSGEZONDHEID, WELZIJN EN SPORT.\n",
                "-- LICENSED UNDER THE EUROPEAN UNION PUBLIC LICENCE V. 1.2 - SEE HTTPS://GITHUB.COM/MINVWS/NL-CONTACT-TRACING-APP-COORDINATION FOR MORE INFORMATION.\n",
                "\n",
                "DECLARE @proto_id BIGINT,\n",
                "        @proto_name VARCHAR(50),\n",
                "\t\t@header_values VARCHAR(256),\n",
                "\t\t@description VARCHAR(256),\n",
                "\t\t@is_active INT  = 1;\n",
                "\n",
                "DECLARE @proto_name_table TABLE (\n",
                "    [PROTO_NAME] VARCHAR(50)\n",
                ");\n",
                "\n",
                "-- 1) CREATE PROTO(S)...\n",
                "INSERT INTO @proto_name_table\n",
                "VALUES \n",
                "\t('GM_COLLECTION');\n",
                "\n",
                "DECLARE CUR CURSOR LOCAL FAST_FORWARD\n",
                "FOR\n",
                "SELECT [PROTO_NAME]\n",
                "FROM @proto_name_table;\n",
                "\n",
                "OPEN CUR;\n",
                "\n",
                "FETCH NEXT FROM CUR\n",
                "INTO @proto_name;\n",
                "\n",
                "WHILE @@FETCH_STATUS = 0\n",
                "BEGIN\n",
                "    \n",
                "\tSELECT\n",
                "\t\t@proto_id = [ID]\n",
                "\tFROM [DATATINO_PROTO_1].[PROTOS]\n",
                "\tWHERE [NAME] = @proto_name;\n",
                "\n",
                "\tSET @header_values = CONCAT(@proto_name, '|', @proto_name, '|', @proto_name ,'|=GETDATE()');\n",
                "\tSET @description = CONCAT('PROTO FILE FOR ',  @proto_name);\n",
                "\n",
                "\tEXEC [DATATINO_PROTO_1].[UPSERT_PROTO]\n",
                "\t\t@id = @proto_id,\n",
                "\t\t@proto_name = @proto_name,\n",
                "\t\t@header_names = 'name|code|proto_name|last_generated',\n",
                "\t\t@header_values = @header_values,\n",
                "\t\t@description = @description,\n",
                "\t\t@active = @is_active;\n",
                "\n",
                "    FETCH NEXT FROM CUR\n",
                "    INTO @proto_name;    \n",
                "END\n",
                "\n",
                "CLOSE CUR;\n",
                "DEALLOCATE CUR;\n",
                "DELETE FROM @proto_name_table;\n",
                "GO"
            ]
        },
        {
            "attachments": {},
            "cell_type": "markdown",
            "metadata": {
                "dotnet_interactive": {
                    "language": "csharp"
                },
                "polyglot_notebook": {
                    "kernelName": "csharp"
                }
            },
            "source": [
                "### INTERNATIONAL"
            ]
        },
        {
            "attachments": {},
            "cell_type": "markdown",
            "metadata": {
                "dotnet_interactive": {
                    "language": "csharp"
                },
                "polyglot_notebook": {
                    "kernelName": "csharp"
                }
            },
            "source": [
                "> SINGLES"
            ]
        },
        {
            "cell_type": "code",
            "execution_count": null,
            "metadata": {
                "dotnet_interactive": {
                    "language": "sql"
                },
                "polyglot_notebook": {
                    "kernelName": "sql"
                },
                "vscode": {
                    "languageId": "sql"
                }
            },
            "outputs": [],
            "source": [
                "-- COPYRIGHT (C) 2020 DE STAAT DER NEDERLANDEN, MINISTERIE VAN VOLKSGEZONDHEID, WELZIJN EN SPORT.\n",
                "-- LICENSED UNDER THE EUROPEAN UNION PUBLIC LICENCE V. 1.2 - SEE HTTPS://GITHUB.COM/MINVWS/NL-CONTACT-TRACING-APP-COORDINATION FOR MORE INFORMATION.\n",
                "\n",
                "DECLARE @proto_id BIGINT,\n",
                "        @proto_name VARCHAR(50),\n",
                "\t\t@header_values VARCHAR(256),\n",
                "\t\t@description VARCHAR(256),\n",
                "\t\t@is_active INT  = 0;\n",
                "\n",
                "DECLARE @proto_name_table TABLE (\n",
                "    [PROTO_NAME] VARCHAR(50)\n",
                ");\n",
                "\n",
                "-- 1) CREATE PROTO(S)...\n",
                "INSERT INTO @proto_name_table\n",
                "VALUES \n",
                "\t('IN_AUT'),\n",
                "\t('IN_BEL'),\n",
                "\t('IN_BGR'),\n",
                "\t('IN_CHE'),\n",
                "\t('IN_CYP'),\n",
                "\t('IN_CZE'),\n",
                "\t('IN_DEU'),\n",
                "\t('IN_GBR'),\n",
                "\t('IN_MLT'),\n",
                "\t('IN_DNK'),\n",
                "\t('IN_ESP'),\n",
                "\t('IN_EST'),\n",
                "\t('IN_FIN'),\n",
                "\t('IN_FRA'),\n",
                "\t('IN_HRV'),\n",
                "\t('IN_GRC'),\n",
                "\t('IN_HUN'),\n",
                "\t('IN_IRL'),\n",
                "\t('IN_ISL'),\n",
                "\t('IN_ITA'),\n",
                "\t('IN_LIE'),\n",
                "\t('IN_LTU'),\n",
                "\t('IN_LUX'),\n",
                "\t('IN_LVA'),\n",
                "\t('IN_NLD'),\n",
                "\t('IN_NOR'),\n",
                "\t('IN_POL'),\n",
                "\t('IN_PRT'),\n",
                "\t('IN_ROU'),\n",
                "\t('IN_SVK'),\n",
                "\t('IN_SVN'),\n",
                "\t('IN_SWE');\n",
                "\n",
                "DECLARE CUR CURSOR LOCAL FAST_FORWARD\n",
                "FOR\n",
                "SELECT [PROTO_NAME]\n",
                "FROM @proto_name_table;\n",
                "\n",
                "OPEN CUR;\n",
                "\n",
                "FETCH NEXT FROM CUR\n",
                "INTO @proto_name;\n",
                "\n",
                "WHILE @@FETCH_STATUS = 0\n",
                "BEGIN\n",
                "\n",
                "\tSELECT\n",
                "\t\t@proto_id = [ID]\n",
                "\tFROM [DATATINO_PROTO_1].[PROTOS]\n",
                "\tWHERE [NAME] = @proto_name;\n",
                "\n",
                "\tSET @header_values = CONCAT(@proto_name, '|', REPLACE(@proto_name, 'IN_', ''), '|', @proto_name ,'|=GETDATE()');\n",
                "\tSET @description = CONCAT('PROTO FILE FOR ',  @proto_name);\n",
                "\n",
                "\tEXEC [DATATINO_PROTO_1].[UPSERT_PROTO]\n",
                "\t\t@id = @proto_id,\n",
                "\t\t@proto_name = @proto_name,\n",
                "\t\t@header_names = 'name|code|proto_name|last_generated',\n",
                "\t\t@header_values = @header_values,\n",
                "\t\t@description = @description,\n",
                "\t\t@active = @is_active;\n",
                "\n",
                "    FETCH NEXT FROM CUR\n",
                "    INTO @proto_name;    \n",
                "END\n",
                "\n",
                "CLOSE CUR;\n",
                "DEALLOCATE CUR;\n",
                "DELETE FROM @proto_name_table;\n",
                "GO"
            ]
        },
        {
            "attachments": {},
            "cell_type": "markdown",
            "metadata": {
                "dotnet_interactive": {
                    "language": "csharp"
                },
                "polyglot_notebook": {
                    "kernelName": "csharp"
                }
            },
            "source": [
                "> COLLECTIONS"
            ]
        },
        {
            "cell_type": "code",
            "execution_count": null,
            "metadata": {
                "dotnet_interactive": {
                    "language": "sql"
                },
                "polyglot_notebook": {
                    "kernelName": "sql"
                },
                "vscode": {
                    "languageId": "sql"
                }
            },
            "outputs": [],
            "source": [
                "-- COPYRIGHT (C) 2020 DE STAAT DER NEDERLANDEN, MINISTERIE VAN VOLKSGEZONDHEID, WELZIJN EN SPORT.\n",
                "-- LICENSED UNDER THE EUROPEAN UNION PUBLIC LICENCE V. 1.2 - SEE HTTPS://GITHUB.COM/MINVWS/NL-CONTACT-TRACING-APP-COORDINATION FOR MORE INFORMATION.\n",
                "\n",
                "DECLARE @proto_id BIGINT,\n",
                "        @proto_name VARCHAR(50),\n",
                "\t\t@header_values VARCHAR(256),\n",
                "\t\t@description VARCHAR(256),\n",
                "\t\t@is_active INT  = 0;\n",
                "\n",
                "DECLARE @proto_name_table TABLE (\n",
                "    [PROTO_NAME] VARCHAR(50)\n",
                ");\n",
                "\n",
                "-- 1) CREATE PROTO(S)...\n",
                "INSERT INTO @proto_name_table\n",
                "VALUES \n",
                "\t('IN_COLLECTION');\n",
                "\n",
                "DECLARE CUR CURSOR LOCAL FAST_FORWARD\n",
                "FOR\n",
                "SELECT [PROTO_NAME]\n",
                "FROM @proto_name_table;\n",
                "\n",
                "OPEN CUR;\n",
                "\n",
                "FETCH NEXT FROM CUR\n",
                "INTO @proto_name;\n",
                "\n",
                "WHILE @@FETCH_STATUS = 0\n",
                "BEGIN\n",
                "    \n",
                "\tSELECT\n",
                "\t\t@proto_id = [ID]\n",
                "\tFROM [DATATINO_PROTO_1].[PROTOS]\n",
                "\tWHERE [NAME] = @proto_name;\n",
                "\n",
                "\tSET @header_values = CONCAT(@proto_name, '|', @proto_name, '|', @proto_name ,'|=GETDATE()');\n",
                "\tSET @description = CONCAT('PROTO FILE FOR ',  @proto_name);\n",
                "\n",
                "\tEXEC [DATATINO_PROTO_1].[UPSERT_PROTO]\n",
                "\t\t@id = @proto_id,\n",
                "\t\t@proto_name = @proto_name,\n",
                "\t\t@header_names = 'name|code|proto_name|last_generated',\n",
                "\t\t@header_values = @header_values,\n",
                "\t\t@description = @description,\n",
                "\t\t@active = @is_active;\n",
                "\n",
                "    FETCH NEXT FROM CUR\n",
                "    INTO @proto_name;    \n",
                "END\n",
                "\n",
                "CLOSE CUR;\n",
                "DEALLOCATE CUR;\n",
                "DELETE FROM @proto_name_table;\n",
                "GO"
            ]
        },
        {
            "attachments": {},
            "cell_type": "markdown",
            "metadata": {
                "dotnet_interactive": {
                    "language": "csharp"
                },
                "polyglot_notebook": {
                    "kernelName": "csharp"
                }
            },
            "source": [
                "### OTHERS"
            ]
        },
        {
            "cell_type": "code",
            "execution_count": null,
            "metadata": {
                "dotnet_interactive": {
                    "language": "sql"
                },
                "polyglot_notebook": {
                    "kernelName": "sql"
                },
                "vscode": {
                    "languageId": "sql"
                }
            },
            "outputs": [],
            "source": [
                "-- COPYRIGHT (C) 2020 DE STAAT DER NEDERLANDEN, MINISTERIE VAN VOLKSGEZONDHEID, WELZIJN EN SPORT.\n",
                "-- LICENSED UNDER THE EUROPEAN UNION PUBLIC LICENCE V. 1.2 - SEE HTTPS://GITHUB.COM/MINVWS/NL-CONTACT-TRACING-APP-COORDINATION FOR MORE INFORMATION.\n",
                "\n",
                "DECLARE @proto_id BIGINT,\n",
                "        @proto_name VARCHAR(50),\n",
                "\t\t@header_values VARCHAR(256),\n",
                "\t\t@description VARCHAR(256),\n",
                "\t\t@is_active INT  = 0;\n",
                "\n",
                "DECLARE @proto_name_table TABLE (\n",
                "    [PROTO_NAME] VARCHAR(50)\n",
                ");\n",
                "\n",
                "-- 1) CREATE PROTO(S)...\n",
                "INSERT INTO @proto_name_table\n",
                "VALUES \n",
                "\t('RANGES');\n",
                "\n",
                "DECLARE CUR CURSOR LOCAL FAST_FORWARD\n",
                "FOR\n",
                "SELECT [PROTO_NAME]\n",
                "FROM @proto_name_table;\n",
                "\n",
                "OPEN CUR;\n",
                "\n",
                "FETCH NEXT FROM CUR\n",
                "INTO @proto_name;\n",
                "\n",
                "WHILE @@FETCH_STATUS = 0\n",
                "BEGIN\n",
                "\n",
                "\tSELECT\n",
                "\t\t@proto_id = [ID]\n",
                "\tFROM [DATATINO_PROTO_1].[PROTOS]\n",
                "\tWHERE [NAME] = @proto_name;\n",
                "\n",
                "\tSET @header_values = CONCAT(LOWER(@proto_name), '|ra|', @proto_name ,'|=GETDATE()');\n",
                "\tSET @description = CONCAT('PROTO FILE FOR ',  @proto_name);\n",
                "\n",
                "\tEXEC [DATATINO_PROTO_1].[UPSERT_PROTO]\n",
                "\t\t@id = @proto_id,\n",
                "\t\t@proto_name = @proto_name,\n",
                "\t\t@header_names = 'name|code|proto_name|last_generated',\n",
                "\t\t@header_values = @header_values,\n",
                "\t\t@description = @description,\n",
                "\t\t@active = @is_active;\n",
                "\n",
                "    FETCH NEXT FROM CUR\n",
                "    INTO @proto_name;    \n",
                "END\n",
                "\n",
                "CLOSE CUR;\n",
                "DEALLOCATE CUR;\n",
                "DELETE FROM @proto_name_table;\n",
                "GO"
            ]
        }
    ],
    "metadata": {
        "kernelspec": {
            "display_name": ".NET (C#)",
            "language": "C#",
            "name": ".net-csharp"
        },
        "polyglot_notebook": {
            "kernelInfo": {
                "defaultKernelName": "csharp",
                "items": [
                    {
                        "aliases": [
                            "c#",
                            "C#"
                        ],
                        "languageName": "C#",
                        "name": "csharp"
                    },
                    {
                        "aliases": [
                            "frontend"
                        ],
                        "languageName": null,
                        "name": "vscode"
                    }
                ]
            }
        }
    },
    "nbformat": 4,
    "nbformat_minor": 2
}
