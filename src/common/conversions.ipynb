{
    "cells": [
        {
            "cell_type": "markdown",
            "metadata": {
                "azdata_cell_guid": "a1bff903-eb61-4e65-82a1-c4e918bbcac8"
            },
            "source": [
                "# **INTRODUCTIONS**\n",
                "\n",
                "---\n",
                "\n",
                "The code is separated into multiple sections:\n",
                "\n",
                "1. **[Functions](#functions)**"
            ]
        },
        {
            "cell_type": "markdown",
            "metadata": {
                "azdata_cell_guid": "b883932e-c47b-4de6-9629-eca0ff8aeabb"
            },
            "source": [
                "# **FUNCTIONS**\n",
                "\n",
                "---"
            ]
        },
        {
            "cell_type": "code",
            "execution_count": null,
            "metadata": {},
            "outputs": [],
            "source": [
                "-- COPYRIGHT (C) 2020 DE STAAT DER NEDERLANDEN, MINISTERIE VAN VOLKSGEZONDHEID, WELZIJN EN SPORT.\n",
                "-- LICENSED UNDER THE EUROPEAN UNION PUBLIC LICENCE V. 1.2 - SEE HTTPS://GITHUB.COM/MINVWS/NL-CONTACT-TRACING-APP-COORDINATION FOR MORE INFORMATION.\n",
                "\n",
                "CREATE OR ALTER FUNCTION [dbo].[CALC_PERC_CHANGE] (@new BIGINT, @old BIGINT)\n",
                "RETURNS FLOAT\n",
                "AS BEGIN\n",
                "    DECLARE @res FLOAT\n",
                "    -- Return null if div through 0\n",
                "    set @res = 1.0*(@new-@old)/NULLIF(@old, 0)\n",
                "    RETURN @res\n",
                "END;\n",
                "GO\n"
            ]
        },
        {
            "cell_type": "code",
            "execution_count": null,
            "metadata": {},
            "outputs": [],
            "source": [
                "-- COPYRIGHT (C) 2020 DE STAAT DER NEDERLANDEN, MINISTERIE VAN VOLKSGEZONDHEID, WELZIJN EN SPORT.\n",
                "-- LICENSED UNDER THE EUROPEAN UNION PUBLIC LICENCE V. 1.2 - SEE HTTPS://GITHUB.COM/MINVWS/NL-CONTACT-TRACING-APP-COORDINATION FOR MORE INFORMATION.\n",
                "\n",
                "CREATE OR ALTER FUNCTION [dbo].[CONVERT_DATETIME_TO_ISO_WEEKNUMBER] (@input DATETIME)\n",
                "RETURNS INT\n",
                "AS BEGIN\n",
                "    DECLARE @res INT\n",
                "    set @res = DATEPART(ISO_WEEK, @input)\n",
                "    RETURN @res\n",
                "END;\n",
                "GO\n"
            ]
        },
        {
            "cell_type": "code",
            "execution_count": null,
            "metadata": {},
            "outputs": [],
            "source": [
                "-- COPYRIGHT (C) 2020 DE STAAT DER NEDERLANDEN, MINISTERIE VAN VOLKSGEZONDHEID, WELZIJN EN SPORT.\n",
                "-- LICENSED UNDER THE EUROPEAN UNION PUBLIC LICENCE V. 1.2 - SEE HTTPS://GITHUB.COM/MINVWS/NL-CONTACT-TRACING-APP-COORDINATION FOR MORE INFORMATION.\n",
                "\n",
                "CREATE OR ALTER FUNCTION [dbo].[CONVERT_DATETIME_TO_UNIX] (@input DATETIME)\n",
                "RETURNS BIGINT\n",
                "AS BEGIN\n",
                "    DECLARE @work BIGINT\n",
                "    set @work = DATEDIFF(SECOND,{d '1970-01-01'}, convert(datetime, @input, 101))\n",
                "    RETURN @work\n",
                "END;\n",
                "GO\n"
            ]
        },
        {
            "cell_type": "code",
            "execution_count": null,
            "metadata": {},
            "outputs": [],
            "source": [
                "-- COPYRIGHT (C) 2020 DE STAAT DER NEDERLANDEN, MINISTERIE VAN VOLKSGEZONDHEID, WELZIJN EN SPORT.\n",
                "-- LICENSED UNDER THE EUROPEAN UNION PUBLIC LICENCE V. 1.2 - SEE HTTPS://GITHUB.COM/MINVWS/NL-CONTACT-TRACING-APP-COORDINATION FOR MORE INFORMATION.\n",
                "\n",
                "CREATE OR ALTER  FUNCTION [dbo].[CONVERT_ISO_WEEK_TO_DATETIME] (@year INT, @week INT)\n",
                "RETURNS DATETIME\n",
                "AS BEGIN\n",
                "    DECLARE @result DATETIME\n",
                "    -- 01/04 - 4th of January - to identify week 01 (see https://en.wikipedia.org/wiki/ISO_8601#Week_dates)\n",
                "    SET @result = DATEADD(wk,DATEDIFF(wk,0,DATEFROMPARTS(@year,1,4)),0)+((@week-1)*7)\n",
                "    RETURN @result\n",
                "END;\n",
                "GO\n"
            ]
        },
        {
            "cell_type": "code",
            "execution_count": null,
            "metadata": {},
            "outputs": [],
            "source": [
                "-- COPYRIGHT (C) 2020 DE STAAT DER NEDERLANDEN, MINISTERIE VAN VOLKSGEZONDHEID, WELZIJN EN SPORT.\n",
                "-- LICENSED UNDER THE EUROPEAN UNION PUBLIC LICENCE V. 1.2 - SEE HTTPS://GITHUB.COM/MINVWS/NL-CONTACT-TRACING-APP-COORDINATION FOR MORE INFORMATION.\n",
                "\n",
                "CREATE OR ALTER FUNCTION [dbo].[CONVERT_ISO_WEEK_TO_UNIX] (@year INT, @week INT)\n",
                "RETURNS BIGINT\n",
                "AS BEGIN\n",
                "    DECLARE @result BIGINT\n",
                "    set @result=[dbo].[CONVERT_DATETIME_TO_UNIX]([dbo].[CONVERT_ISO_WEEK_TO_DATETIME](@year, @week))\n",
                "    RETURN @result\n",
                "END;\n",
                "GO\n"
            ]
        },
        {
            "cell_type": "code",
            "execution_count": null,
            "metadata": {},
            "outputs": [],
            "source": [
                "-- COPYRIGHT (C) 2020 DE STAAT DER NEDERLANDEN, MINISTERIE VAN VOLKSGEZONDHEID, WELZIJN EN SPORT.\n",
                "-- LICENSED UNDER THE EUROPEAN UNION PUBLIC LICENCE V. 1.2 - SEE HTTPS://GITHUB.COM/MINVWS/NL-CONTACT-TRACING-APP-COORDINATION FOR MORE INFORMATION.\n",
                "\n",
                "CREATE OR ALTER FUNCTION [dbo].[CONVERT_UNIX_TO_DATETIME] (@input BIGINT)\n",
                "RETURNS DATETIME\n",
                "AS BEGIN\n",
                "    DECLARE @res DATETIME\n",
                "    set @res = DATEADD(S, @input, '1970-01-01')\n",
                "    RETURN @res\n",
                "END;\n",
                "GO\n"
            ]
        },
        {
            "cell_type": "code",
            "execution_count": null,
            "metadata": {},
            "outputs": [],
            "source": [
                "-- COPYRIGHT (C) 2020 DE STAAT DER NEDERLANDEN, MINISTERIE VAN VOLKSGEZONDHEID, WELZIJN EN SPORT.\n",
                "-- LICENSED UNDER THE EUROPEAN UNION PUBLIC LICENCE V. 1.2 - SEE HTTPS://GITHUB.COM/MINVWS/NL-CONTACT-TRACING-APP-COORDINATION FOR MORE INFORMATION.\n",
                "\n",
                "CREATE OR ALTER FUNCTION [dbo].[CONVERT_UNIX_TO_ISO_WEEKNUMBER] (@input BIGINT)\n",
                "RETURNS INT\n",
                "AS BEGIN\n",
                "    DECLARE @res INT\n",
                "    set @res = dbo.CONVERT_DATETIME_TO_ISO_WEEKNUMBER(dbo.CONVERT_UNIX_TO_DATETIME(@input))\n",
                "    RETURN @res\n",
                "END;\n",
                "GO\n"
            ]
        },
        {
            "cell_type": "code",
            "execution_count": null,
            "metadata": {},
            "outputs": [],
            "source": [
                "-- COPYRIGHT (C) 2020 DE STAAT DER NEDERLANDEN, MINISTERIE VAN VOLKSGEZONDHEID, WELZIJN EN SPORT.\n",
                "-- LICENSED UNDER THE EUROPEAN UNION PUBLIC LICENCE V. 1.2 - SEE HTTPS://GITHUB.COM/MINVWS/NL-CONTACT-TRACING-APP-COORDINATION FOR MORE INFORMATION.\n",
                "\n",
                "CREATE OR ALTER FUNCTION [dbo].[CONVERT_WEEKNUMBER_TO_DATETIME] (@year VARCHAR(4), @week VARCHAR(2))\n",
                "RETURNS DATETIME\n",
                "AS BEGIN\n",
                "    DECLARE @result DATETIME\n",
                "    set @result = DATEADD(wk,DATEDIFF(wk,0,'01/04/'+@year),0)+((@week-1)*7)\n",
                "    RETURN @result\n",
                "END;\n",
                "GO\n"
            ]
        },
        {
            "cell_type": "code",
            "execution_count": null,
            "metadata": {},
            "outputs": [],
            "source": [
                "-- COPYRIGHT (C) 2020 DE STAAT DER NEDERLANDEN, MINISTERIE VAN VOLKSGEZONDHEID, WELZIJN EN SPORT.\n",
                "-- LICENSED UNDER THE EUROPEAN UNION PUBLIC LICENCE V. 1.2 - SEE HTTPS://GITHUB.COM/MINVWS/NL-CONTACT-TRACING-APP-COORDINATION FOR MORE INFORMATION.\n",
                "\n",
                "CREATE OR ALTER FUNCTION [dbo].[CONVERT_WEEKNUMBER_TO_UNIX] (@year INT, @week INT)\n",
                "RETURNS BIGINT\n",
                "AS BEGIN\n",
                "    DECLARE @result BIGINT\n",
                "    set @result=[dbo].[CONVERT_DATETIME_TO_UNIX]([dbo].[CONVERT_WEEKNUMBER_TO_DATETIME](@year, @week))\n",
                "    RETURN @result\n",
                "END;\n",
                "GO\n"
            ]
        },
        {
            "cell_type": "code",
            "execution_count": null,
            "metadata": {},
            "outputs": [],
            "source": [
                "-- COPYRIGHT (C) 2020 DE STAAT DER NEDERLANDEN, MINISTERIE VAN VOLKSGEZONDHEID, WELZIJN EN SPORT.\n",
                "-- LICENSED UNDER THE EUROPEAN UNION PUBLIC LICENCE V. 1.2 - SEE HTTPS://GITHUB.COM/MINVWS/NL-CONTACT-TRACING-APP-COORDINATION FOR MORE INFORMATION.\n",
                "\n",
                "CREATE OR ALTER FUNCTION [dbo].[INT_TO_CHANGE] (@val INT)\n",
                "RETURNS VARCHAR(10)\n",
                "AS\n",
                "BEGIN\n",
                "    RETURN\n",
                "        CASE \n",
                "            WHEN @val > 0 THEN 'up'\n",
                "            WHEN @val < 0 THEN 'down'\n",
                "            WHEN @val = 0  THEN 'equal'\n",
                "            ELSE NULL\n",
                "        END \n",
                "END;\n",
                "GO\n"
            ]
        },
        {
            "cell_type": "code",
            "execution_count": null,
            "metadata": {},
            "outputs": [],
            "source": [
                "-- COPYRIGHT (C) 2020 DE STAAT DER NEDERLANDEN, MINISTERIE VAN VOLKSGEZONDHEID, WELZIJN EN SPORT.\n",
                "-- LICENSED UNDER THE EUROPEAN UNION PUBLIC LICENCE V. 1.2 - SEE HTTPS://GITHUB.COM/MINVWS/NL-CONTACT-TRACING-APP-COORDINATION FOR MORE INFORMATION.\n",
                "\n",
                "CREATE OR ALTER FUNCTION DBO.NO_NEGATIVE_NUMBER_F (@input FLOAT)\n",
                "RETURNS FLOAT\n",
                "AS BEGIN\n",
                "    DECLARE @Work FLOAT\n",
                "\n",
                "    SET @Work = @Input\n",
                "    -- if the value was null keep \n",
                "    set @Work = (CASE WHEN @work IS NULL THEN NULL\n",
                "    ELSE\n",
                "        (SELECT CASE WHEN @work > 0 THEN @work ELSE 0.0 END)\n",
                "    END)\n",
                "    RETURN @work\n",
                "END;\n",
                "GO\n"
            ]
        },
        {
            "cell_type": "code",
            "execution_count": null,
            "metadata": {},
            "outputs": [],
            "source": [
                "-- COPYRIGHT (C) 2020 DE STAAT DER NEDERLANDEN, MINISTERIE VAN VOLKSGEZONDHEID, WELZIJN EN SPORT.\n",
                "-- LICENSED UNDER THE EUROPEAN UNION PUBLIC LICENCE V. 1.2 - SEE HTTPS://GITHUB.COM/MINVWS/NL-CONTACT-TRACING-APP-COORDINATION FOR MORE INFORMATION.\n",
                "\n",
                "CREATE OR ALTER FUNCTION DBO.NO_NEGATIVE_NUMBER_I (@input INT)\n",
                "RETURNS INT\n",
                "AS BEGIN\n",
                "    DECLARE @Work INT\n",
                "\n",
                "    SET @Work = @Input\n",
                "    -- if the value was null keep it at null\n",
                "    set @Work = (CASE WHEN @work IS NULL THEN NULL\n",
                "    ELSE\n",
                "        (SELECT CASE WHEN @work > 0 THEN @work ELSE 0 END)\n",
                "    END)\n",
                "    RETURN @work\n",
                "END;\n",
                "GO\n"
            ]
        },
        {
            "cell_type": "code",
            "execution_count": null,
            "metadata": {},
            "outputs": [],
            "source": [
                "-- COPYRIGHT (C) 2020 DE STAAT DER NEDERLANDEN, MINISTERIE VAN VOLKSGEZONDHEID, WELZIJN EN SPORT.\n",
                "-- LICENSED UNDER THE EUROPEAN UNION PUBLIC LICENCE V. 1.2 - SEE HTTPS://GITHUB.COM/MINVWS/NL-CONTACT-TRACING-APP-COORDINATION FOR MORE INFORMATION.\n",
                "\n",
                "CREATE OR ALTER FUNCTION [dbo].[NORMALIZATION] (@input FLOAT)\n",
                "RETURNS FLOAT\n",
                "AS BEGIN\n",
                "    DECLARE @NORMALIZATION FLOAT;\n",
                "    SET @NORMALIZATION = @input /100000.0;\n",
                "    RETURN @NORMALIZATION\n",
                "END\n",
                "GO\n"
            ]
        },
        {
            "cell_type": "code",
            "execution_count": null,
            "metadata": {},
            "outputs": [],
            "source": [
                "-- COPYRIGHT (C) 2020 DE STAAT DER NEDERLANDEN, MINISTERIE VAN VOLKSGEZONDHEID, WELZIJN EN SPORT.\n",
                "-- LICENSED UNDER THE EUROPEAN UNION PUBLIC LICENCE V. 1.2 - SEE HTTPS://GITHUB.COM/MINVWS/NL-CONTACT-TRACING-APP-COORDINATION FOR MORE INFORMATION.\n",
                "\n",
                "CREATE OR ALTER FUNCTION [dbo].[WEEK_END] (@input DATETIME)\n",
                "RETURNS DATETIME\n",
                "AS BEGIN\n",
                "    DECLARE @work DATETIME\n",
                "    SET @work = @input\n",
                "    set @work = DATEADD(week, DATEDIFF(day, 0, @work)/7, 6) \n",
                "    RETURN @work\n",
                "END\n",
                "GO\n"
            ]
        },
        {
            "cell_type": "code",
            "execution_count": null,
            "metadata": {},
            "outputs": [],
            "source": [
                "-- COPYRIGHT (C) 2020 DE STAAT DER NEDERLANDEN, MINISTERIE VAN VOLKSGEZONDHEID, WELZIJN EN SPORT.\n",
                "-- LICENSED UNDER THE EUROPEAN UNION PUBLIC LICENCE V. 1.2 - SEE HTTPS://GITHUB.COM/MINVWS/NL-CONTACT-TRACING-APP-COORDINATION FOR MORE INFORMATION.\n",
                "\n",
                "CREATE OR ALTER FUNCTION [dbo].[WEEK_END_FROM_WEEKNUMBER] (@input INT)\n",
                "RETURNS DATETIME\n",
                "AS BEGIN\n",
                "    DECLARE @work DATETIME\n",
                "    SET @work = convert(datetime, DATEADD(day, 6, dateadd(week,@input-1, DATEADD(wk, DATEDIFF(wk,-1,DATEADD(yy, DATEDIFF(yy,0,getdate()), 0)), 0))), 101)\n",
                "    set @work = DATEADD(week, DATEDIFF(day, 0, @work)/7, 6) \n",
                "    RETURN @work\n",
                "END\n",
                "GO\n"
            ]
        },
        {
            "cell_type": "code",
            "execution_count": null,
            "metadata": {},
            "outputs": [],
            "source": [
                "-- COPYRIGHT (C) 2020 DE STAAT DER NEDERLANDEN, MINISTERIE VAN VOLKSGEZONDHEID, WELZIJN EN SPORT.\n",
                "-- LICENSED UNDER THE EUROPEAN UNION PUBLIC LICENCE V. 1.2 - SEE HTTPS://GITHUB.COM/MINVWS/NL-CONTACT-TRACING-APP-COORDINATION FOR MORE INFORMATION.\n",
                "\n",
                "CREATE OR ALTER FUNCTION [dbo].[WEEK_START] (@input DATETIME)\n",
                "RETURNS DATETIME\n",
                "AS BEGIN\n",
                "    DECLARE @work DATETIME\n",
                "    SET @work = @input\n",
                "    set @work = DATEADD(week, DATEDIFF(day, 0, @work)/7, 0) \n",
                "    RETURN @work\n",
                "END\n",
                "GO\n"
            ]
        },
        {
            "cell_type": "code",
            "execution_count": null,
            "metadata": {},
            "outputs": [],
            "source": [
                "-- COPYRIGHT (C) 2020 DE STAAT DER NEDERLANDEN, MINISTERIE VAN VOLKSGEZONDHEID, WELZIJN EN SPORT.\n",
                "-- LICENSED UNDER THE EUROPEAN UNION PUBLIC LICENCE V. 1.2 - SEE HTTPS://GITHUB.COM/MINVWS/NL-CONTACT-TRACING-APP-COORDINATION FOR MORE INFORMATION.\n",
                "\n",
                "CREATE OR ALTER FUNCTION [dbo].[WEEK_START_FROM_WEEKNUMBER] (@input INT)\n",
                "RETURNS DATETIME\n",
                "AS BEGIN\n",
                "    DECLARE @work DATETIME\n",
                "    SET @work = convert(datetime, DATEADD(day, 6, dateadd(week,@input-1, DATEADD(wk, DATEDIFF(wk,-1,DATEADD(yy, DATEDIFF(yy,0,getdate()), 0)), 0))), 101)\n",
                "    set @work = DATEADD(week, DATEDIFF(day, 0, @work)/7, 0) \n",
                "    RETURN @work\n",
                "END;\n",
                "GO"
            ]
        }
    ],
    "metadata": {
        "kernelspec": {
            "display_name": "SQL",
            "language": "sql",
            "name": "SQL"
        },
        "language_info": {
            "name": "sql",
            "version": ""
        }
    },
    "nbformat": 4,
    "nbformat_minor": 2
}
