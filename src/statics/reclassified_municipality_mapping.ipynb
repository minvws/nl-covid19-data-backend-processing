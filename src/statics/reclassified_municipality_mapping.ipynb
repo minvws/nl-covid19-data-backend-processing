{
    "cells": [
        {
            "attachments": {},
            "cell_type": "markdown",
            "metadata": {
                "azdata_cell_guid": "889802d2-8bf9-4a7f-8e4b-12bf67351e60"
            },
            "source": [
                "# **Hercoderen gemeenten 2022**\n",
                "\n",
                "In 2022 zijn er een aantal gemeenten samengevoegd tot nieuwe gemeenten. Dit werkt door op een aantal plaatsen in de database:\n",
                "\n",
                "2. In de data voor de Rioolwaterzuiveringsinstallaties (RWZI's). Waarschijnlijk wordt dit gewijzigd aangeleverd door RIVM, maar voor de zekerheid is er code ontwikkeld om dit op te vangen mocht de data in de oude indeling worden aangeleverd.\n",
                "\n"
            ]
        },
        {
            "cell_type": "markdown",
            "metadata": {},
            "source": [
                "# **DEPENDENCIES**\n",
                "\n",
                "---\n",
                "\n",
                "```json\n",
                "{\n",
                "    \"depends-on\": [\n",
                "        \"src/utils/schemas.ipynb\"\n",
                "    ]\n",
                "}\n",
                "```"
            ]
        },
        {
            "cell_type": "markdown",
            "metadata": {},
            "source": [
                "# **TABLES**\n",
                "\n",
                "---\n"
            ]
        },
        {
            "cell_type": "markdown",
            "metadata": {},
            "source": [
                "### STATICS\n",
                "\n",
                "Om de gemeentelijke indeling te kunnen aanpassen naar de gewenste indeling wordt er een mapping tabel gemaakt die de wijzigingen bevat. Met behulp van deze mapping-tabel wordt de data die van VWSTAGE naar VWSSTATIC wordt gekopieerd, direct in de goede gemeentelijke indeling gezet. Dit gebeurt in de Stored Procedure `SP_CBS_POPULATION_BASE_STATIC`.\n",
                "\n",
                "N.B. de kolom \"Active\" in de tabel `Recode_Municipality` staat default op 0, wat betekent dat deze grenswijzigingen _NIET_ worden uitgevoerd. Om ze actief te maken moet met een update commando de waarde in de kolom \"Active\" op 1 worden gezet: \n",
                "\n",
                "```sql\n",
                "Update [VWSSTATIC].[RECLASSIFIED_MUNICIPALITY_MAPPING] \n",
                "SET [ACTIVE] = 1\n",
                "FROM [VWSSTATIC].[RECLASSIFIED_MUNICIPALITY_MAPPING]\n",
                "WHERE [DATE_LAST_INSERTED] = (SELECT MAX([DATE_LAST_INSERTED]) FROM [VWSSTATIC].[RECLASSIFIED_MUNICIPALITY_MAPPING])\n",
                "```"
            ]
        },
        {
            "cell_type": "code",
            "execution_count": null,
            "metadata": {},
            "outputs": [],
            "source": [
                "-- COPYRIGHT (C) 2020 DE STAAT DER NEDERLANDEN, MINISTERIE VAN VOLKSGEZONDHEID, WELZIJN EN SPORT.\n",
                "-- LICENSED UNDER THE EUROPEAN UNION PUBLIC LICENCE V. 1.2 - SEE HTTPS://GITHUB.COM/MINVWS/NL-CONTACT-TRACING-APP-COORDINATIONFOR MORE INFORMATION.\n",
                "\n",
                "-- 1) CREATE STATIC TABLE(S).....\n",
                "DROP TABLE IF EXISTS [VWSSTATIC].[RECLASSIFIED_MUNICIPALITY_MAPPING];\n",
                "GO\n",
                "\n",
                "-- THIS TABLE CONTAINS THE REQUIRED MAPPING REGARDING THE RECLASSIFICATIONS OF MULTIPLE MUNCIPALITIES.\n",
                "CREATE TABLE [VWSSTATIC].[RECLASSIFIED_MUNICIPALITY_MAPPING] (\n",
                "\t[ID] [INT] PRIMARY KEY IDENTITY (1,1)\n",
                "   ,DATE_LAST_INSERTED [DATETIME] NOT NULL DEFAULT GETDATE()\n",
                "   ,[GM_CODE_ORIGINAL] [NVARCHAR](10)\n",
                "   ,[GM_NAME_ORIGINAL] [NVARCHAR](255)\n",
                "   ,[GM_CODE_NEW] [NVARCHAR](10)\n",
                "   ,[GM_NAME_NEW] [NVARCHAR](255)\n",
                "   ,[VR_CODE] [NVARCHAR](10)\n",
                "   ,[VR_NAME] [NVARCHAR](255)\n",
                "   ,[PROVINCE_CODE] [NVARCHAR](10)\n",
                "   ,[PROVINCE_NAME] [NVARCHAR](255)\n",
                "   ,[GGD_CODE] [NVARCHAR](10)\n",
                "   ,[GGD_NAME] [NVARCHAR](255)\n",
                "   ,[SHARES] [DECIMAL](16,6) NOT NULL DEFAULT (1.0)\n",
                "   ,[ACTIVE] [INT] NOT NULL DEFAULT(0)\n",
                ") ON [PRIMARY];\n",
                "GO\n",
                "\n",
                "INSERT INTO [VWSSTATIC].[RECLASSIFIED_MUNICIPALITY_MAPPING] (\n",
                "   [GM_CODE_ORIGINAL],\n",
                "   [GM_NAME_ORIGINAL],\n",
                "   [GM_CODE_NEW],\n",
                "   [GM_NAME_NEW],\n",
                "   [VR_CODE],\n",
                "   [VR_NAME],\n",
                "   [PROVINCE_CODE],\n",
                "   [PROVINCE_NAME],\n",
                "   [GGD_CODE],\n",
                "   [GGD_NAME],\n",
                "   [SHARES],\n",
                "   [ACTIVE]) -- MUST BE SET TO 1 TO ALLOW PROPER MAPPING\n",
                "VALUES \n",
                "   ('GM1684','Cuijk','GM1982','Land van Cuijk','VR21','Brabant-Noord','PV30','Noord-Brabant','GG5406','GGD Hart voor Brabant',1,1)\n",
                "   ,('GM0756','Boxmeer','GM1982','Land van Cuijk','VR21','Brabant-Noord','PV30','Noord-Brabant','GG5406','GGD Hart voor Brabant',1,1)\n",
                "\t,('GM0815','Mill en Sint Hubert','GM1982','Land van Cuijk','VR21','Brabant-Noord','PV30','Noord-Brabant','GG5406','GGD Hart voor Brabant',1,1)\n",
                "\t,('GM1702','Sint Anthonis','GM1982','Land van Cuijk','VR21','Brabant-Noord','PV30','Noord-Brabant','GG5406','GGD Hart voor Brabant',1,1)\n",
                "\t,('GM0786','Grave','GM1982','Land van Cuijk','VR21','Brabant-Noord','PV30','Noord-Brabant','GG5406','GGD Hart voor Brabant',1,1)\n",
                "\t,('GM1685','Landerd','GM1991','Maashorst','VR21','Brabant-Noord','PV30','Noord-Brabant','GG5406','GGD Hart voor Brabant',1,1)\n",
                "\t,('GM0856','Uden','GM1991','Maashorst','VR21','Brabant-Noord','PV30','Noord-Brabant','GG5406','GGD Hart voor Brabant',1,1)\n",
                "\t,('GM0398','Heerhugowaard','GM1980','Dijk en Waard','VR10','Noord-Holland-Noord','PV27','Noord-Holland','GG2707','GGD Hollands-Noorden',1,1)\n",
                "\t,('GM0416','Langedijk','GM1980','Dijk en Waard','VR10','Noord-Holland-Noord','PV27','Noord-Holland','GG2707','GGD Hollands-Noorden',1,1)\n",
                "\t,('GM0370','Beemster','GM0439','Purmerend','VR11','Zaanstreek-Waterland','PV27','Noord-Holland','GG7306','GGD Zaanstreek/Waterland',1,1)\n",
                "   ,('GM0457','Weesp','GM0363','Amsterdam','VR13','Amsterdam-Amstelland','PV27','Noord-Holland','GG3406','GGD Amsterdam',1,1);\n",
                "GO"
            ]
        },
        {
            "cell_type": "markdown",
            "metadata": {},
            "source": [
                "# **OTHER**\n",
                "\n",
                "---\n"
            ]
        },
        {
            "attachments": {},
            "cell_type": "markdown",
            "metadata": {
                "azdata_cell_guid": "4e9ec496-fbe1-46a9-ac47-c448824da602"
            },
            "source": [
                "Hier wordt gebruik gemaakt van de al aanwezige stored procedure `SP_MERGE_MOVE_STATIC_CBS_RWZI` om wijzigingen aan te brengen in de mapping van RWZI's naar gemeenten. Hiervoor wordt er een aantal regels toegevoegd aan het csv-bestand `Aantal_inwoners_per_verzorgingsgebied_mutaties**.csv` in de blob-storage, `datafiles\\STATIC` map."
            ]
        }
    ],
    "metadata": {
        "kernelspec": {
            "display_name": "SQL",
            "language": "sql",
            "name": "SQL"
        },
        "language_info": {
            "name": "sql",
            "version": ""
        }
    },
    "nbformat": 4,
    "nbformat_minor": 2
}
