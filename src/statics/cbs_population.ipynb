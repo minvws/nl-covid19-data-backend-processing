{
    "cells": [
        {
            "cell_type": "markdown",
            "metadata": {
                "azdata_cell_guid": "a1bff903-eb61-4e65-82a1-c4e918bbcac8"
            },
            "source": [
                "# **INTRODUCTIONS**\n",
                "\n",
                "---\n",
                "\n",
                "The code is separated into multiple sections:\n",
                "\n",
                "1. **[Tables](#tables)**"
            ]
        },
        {
            "cell_type": "markdown",
            "metadata": {},
            "source": [
                "# **DEPENDENCIES**\n",
                "\n",
                "---\n",
                "\n",
                "```json\n",
                "{\n",
                "    \"depends-on\": [\n",
                "        \"src/utils/schemas.ipynb\"\n",
                "    ]\n",
                "}\n",
                "```"
            ]
        },
        {
            "cell_type": "markdown",
            "metadata": {
                "azdata_cell_guid": "b883932e-c47b-4de6-9629-eca0ff8aeabb"
            },
            "source": [
                "# **TABLES**\n",
                "\n",
                "---"
            ]
        },
        {
            "cell_type": "markdown",
            "metadata": {},
            "source": [
                "### STAGES"
            ]
        },
        {
            "cell_type": "code",
            "execution_count": null,
            "metadata": {},
            "outputs": [],
            "source": [
                "-- COPYRIGHT (C) 2020 DE STAAT DER NEDERLANDEN, MINISTERIE VAN VOLKSGEZONDHEID, WELZIJN EN SPORT.\n",
                "-- LICENSED UNDER THE EUROPEAN UNION PUBLIC LICENCE V. 1.2 - SEE HTTPS://GITHUB.COM/MINVWS/NL-CONTACT-TRACING-APP-COORDINATION FOR MORE INFORMATION.\n",
                "\n",
                "IF NOT EXISTS(SELECT * FROM SYS.SEQUENCES WHERE OBJECT_ID = OBJECT_ID(N'[DBO].[SEQ_VWSSTAGE_CBS_POPULATION_BASE]') AND TYPE = 'SO')\n",
                "CREATE SEQUENCE SEQ_VWSSTAGE_CBS_POPULATION_BASE\n",
                "  START WITH 1\n",
                "  INCREMENT BY 1;\n",
                "GO\n",
                "\n",
                "IF NOT EXISTS(SELECT * FROM SYS.TABLES WHERE [OBJECT_ID] = OBJECT_ID(N'[VWSSTAGE].[CBS_POPULATION_BASE]'))\n",
                "CREATE TABLE [VWSSTAGE].[CBS_POPULATION_BASE](\n",
                "\t[ID] INT PRIMARY KEY NONCLUSTERED NOT NULL DEFAULT (NEXT VALUE FOR [DBO].[SEQ_VWSSTAGE_CBS_POPULATION_BASE]),\n",
                "\t[DATE_LAST_INSERTED] DATETIME DEFAULT GETDATE(),\n",
                "  [GEMEENTE_CODE]  VARCHAR(100) NULL,\n",
                "  [GEMEENTE] VARCHAR(100) NULL,\n",
                "  [LEEFTIJD] VARCHAR(100) NULL,\n",
                "  [GESLACHT] VARCHAR(100) NULL,\n",
                "  [DATUM_PEILING] VARCHAR(100) NULL,\n",
                "  [POPULATIE] VARCHAR(100) NULL,\n",
                "  [VEILIGHEIDSREGIO_CODE] VARCHAR(100) NULL,\n",
                "  [VEILIGHEIDSREGIO_NAAM] VARCHAR(100) NULL,\n",
                "  [PROVINCIE_CODE] VARCHAR(100) NULL,\n",
                "  [PROVINCIE_NAAM] VARCHAR(100) NULL,\n",
                "  [GGD_CODE] VARCHAR(100) NULL,\n",
                "  [GGD_NAAM] VARCHAR(100) NULL\n",
                ");\n",
                "GO\n",
                "\n",
                "IF NOT EXISTS (SELECT * FROM SYS.INDEXES WHERE [NAME] = 'CI_DLI_VWSSTAGE_CBS_POPULATION_BASE')\n",
                "CREATE CLUSTERED INDEX [CI_DLI_VWSSTAGE_CBS_POPULATION_BASE] ON [VWSSTAGE].[CBS_POPULATION_BASE] (\n",
                "  [DATE_LAST_INSERTED]\n",
                ");\n",
                "GO\n",
                "\n",
                "IF NOT EXISTS (SELECT * FROM SYS.INDEXES WHERE [NAME] = 'NCI_DLI_VWSSTAGE_CIMS_VACCINATED_AGE_GROUP')\n",
                "CREATE NONCLUSTERED INDEX [NCI_DLI_VWSSTAGE_CIMS_VACCINATED_AGE_GROUP] ON [VWSSTAGE].[CBS_POPULATION_BASE] (\n",
                "  [DATE_LAST_INSERTED], \n",
                "  [GEMEENTE_CODE], \n",
                "  [GEMEENTE], \n",
                "  [LEEFTIJD], \n",
                "  [GESLACHT], \n",
                "  [DATUM_PEILING], \n",
                "  [POPULATIE], \n",
                "  [VEILIGHEIDSREGIO_CODE], \n",
                "  [VEILIGHEIDSREGIO_NAAM], \n",
                "  [PROVINCIE_CODE], \n",
                "  [PROVINCIE_NAAM], \n",
                "  [GGD_CODE], \n",
                "  [GGD_NAAM]\n",
                ") WITH (STATISTICS_NORECOMPUTE = OFF, DROP_EXISTING = OFF, ONLINE = OFF, OPTIMIZE_FOR_SEQUENTIAL_KEY = OFF) ON [PRIMARY];\n",
                "GO\n"
            ]
        },
        {
            "cell_type": "markdown",
            "metadata": {},
            "source": [
                "### STATICS"
            ]
        },
        {
            "cell_type": "code",
            "execution_count": null,
            "metadata": {},
            "outputs": [],
            "source": [
                "-- COPYRIGHT (C) 2020 DE STAAT DER NEDERLANDEN, MINISTERIE VAN VOLKSGEZONDHEID, WELZIJN EN SPORT.\n",
                "-- LICENSED UNDER THE EUROPEAN UNION PUBLIC LICENCE V. 1.2 - SEE HTTPS://GITHUB.COM/MINVWS/NL-CONTACT-TRACING-APP-COORDINATION FOR MORE INFORMATION.\n",
                "\n",
                "IF NOT EXISTS(SELECT * FROM SYS.SEQUENCES WHERE [OBJECT_ID] = OBJECT_ID(N'[DBO].[SEQ_VWSSTATIC_CBS_POPULATION_BASE]') AND [TYPE] = 'SO')\n",
                "CREATE SEQUENCE [SEQ_VWSSTATIC_CBS_POPULATION_BASE]\n",
                "  START WITH 1\n",
                "  INCREMENT BY 1;\n",
                "GO\n",
                "\n",
                "IF NOT EXISTS(SELECT * FROM SYS.TABLES WHERE [OBJECT_ID] = OBJECT_ID(N'[VWSSTATIC].[CBS_POPULATION_BASE]'))\n",
                "CREATE TABLE [VWSSTATIC].[CBS_POPULATION_BASE](\n",
                "\t[ID] [INT] PRIMARY KEY NONCLUSTERED NOT NULL DEFAULT (NEXT VALUE FOR [DBO].[SEQ_VWSSTATIC_CBS_POPULATION_BASE]),\n",
                "  \t[GEMEENTE_CODE]  [VARCHAR](10) NULL,\n",
                "  \t[GEMEENTE] [VARCHAR](100) NULL,\n",
                "  \t[LEEFTIJD] [INT] NULL,\n",
                "  \t[GESLACHT] [VARCHAR](10) NULL,\n",
                "  \t[DATUM_PEILING] [DATE] NULL,\n",
                "  \t[POPULATIE] [INT] NULL,\n",
                "  \t[VEILIGHEIDSREGIO_CODE] [VARCHAR](10) NULL,\n",
                "  \t[VEILIGHEIDSREGIO_NAAM] [VARCHAR](100) NULL,\n",
                "  \t[PROVINCIE_CODE] [VARCHAR](10) NULL,\n",
                "  \t[PROVINCIE_NAAM] [VARCHAR](100) NULL,\n",
                "  \t[GGD_CODE] [VARCHAR](10) NULL,\n",
                "  \t[GGD_NAAM] [VARCHAR](100) NULL,\n",
                "\t[DATE_LAST_INSERTED] [DATETIME] DEFAULT GETDATE()\n",
                ");\n",
                "GO\n",
                "\n",
                "IF NOT EXISTS (SELECT * FROM SYS.INDEXES WHERE [NAME] = 'CI_DLI_VWSSTATIC_CBS_POPULATION_BASE')\n",
                "CREATE CLUSTERED INDEX [CI_DLI_VWSSTATIC_CBS_POPULATION_BASE] ON [VWSSTATIC].[CBS_POPULATION_BASE] (\n",
                "    [DATE_LAST_INSERTED] ASC\n",
                ");\n",
                "GO\n"
            ]
        }
    ],
    "metadata": {
        "kernelspec": {
            "display_name": "SQL",
            "language": "sql",
            "name": "SQL"
        },
        "language_info": {
            "name": "sql",
            "version": ""
        }
    },
    "nbformat": 4,
    "nbformat_minor": 2
}
