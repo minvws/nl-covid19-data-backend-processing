{
    "cells": [
        {
            "cell_type": "markdown",
            "metadata": {
                "azdata_cell_guid": "a1bff903-eb61-4e65-82a1-c4e918bbcac8"
            },
            "source": [
                "# **INTRODUCTIONS**\n",
                "\n",
                "---\n",
                "\n",
                "This flow is added because of a depencency to ECDC_VARIANTS\n",
                "\n",
                "\n",
                "\n",
                "1. **[Tables](#tables)**\n",
                "1. **[Datatino configurations](#DATATINO-CONFIGURATIONS)**\n"
            ]
        },
        {
            "cell_type": "markdown",
            "metadata": {},
            "source": [
                "# **DEPENDENCIES**\n",
                "---\n",
                "\n",
                "```json\n",
                "{\n",
                "    \"depends-on\": [\n",
                "        \"src/utils/schemas.ipynb\",\n",
                "        \"src/utils/conversions.ipynb\"\n",
                "    ]\n",
                "}"
            ]
        },
        {
            "cell_type": "markdown",
            "metadata": {},
            "source": [
                "# **TABLES**\n",
                "---"
            ]
        },
        {
            "cell_type": "markdown",
            "metadata": {},
            "source": [
                "### STAGING"
            ]
        },
        {
            "cell_type": "code",
            "execution_count": null,
            "metadata": {
                "dotnet_interactive": {
                    "language": "sql"
                },
                "vscode": {
                    "languageId": "dotnet-interactive.sql"
                }
            },
            "outputs": [],
            "source": [
                "-- Copyright (c) 2020 De Staat der Nederlanden, Ministerie van Volksgezondheid, Welzijn en Sport.\n",
                "-- Licensed under the EUROPEAN UNION PUBLIC LICENCE v. 1.2 - see https://github.com/minvws/nl-contact-tracing-app-coordination for more information.\n",
                "\n",
                "IF NOT EXISTS(SELECT * FROM sys.sequences WHERE object_id = OBJECT_ID(N'[dbo].[SEQ_VWSSTAGE_MASTERDATA_VARIANTS]') AND type = 'SO')\n",
                "CREATE SEQUENCE SEQ_VWSSTAGE_MASTERDATA_VARIANTS\n",
                "  START WITH 1\n",
                "  INCREMENT BY 1;\n",
                "GO\n",
                "\n",
                "-- 1) CREATE TABLE(S).....\n",
                "IF NOT EXISTS(SELECT * FROM SYS.TABLES WHERE [OBJECT_ID] = OBJECT_ID(N'[VWSSTAGE].[MASTERDATA_VARIANTS]'))\n",
                "BEGIN\n",
                "  CREATE TABLE [VWSSTAGE].[MASTERDATA_VARIANTS] (\n",
                "    [ID] BIGINT PRIMARY KEY IDENTITY(1,1),\n",
                "    [ECDC_CATEGORY] VARCHAR (100) NULL,\n",
                "    [WHO_CATEGORY] VARCHAR (100) NULL,\n",
                "    [VARIANT_CODE] VARCHAR (100) NULL,\n",
                "    [VARIANT_NAME] VARCHAR (100) NULL,\n",
                "    [IS_SUBVARIANT_OF] VARCHAR (100) NULL,\n",
                "    [SHOWS_ON_VWS_DASHBOARD] VARCHAR (100) NULL,\n",
                "    [LABEL] VARCHAR (100) NULL,\n",
                "    [DATE_LAST_INSERTED] DATETIME DEFAULT (GETDATE()) NULL\n",
                "  );\n",
                "END\n",
                "GO"
            ]
        },
        {
            "cell_type": "markdown",
            "metadata": {},
            "source": [
                "### STATICS"
            ]
        },
        {
            "cell_type": "code",
            "execution_count": null,
            "metadata": {
                "dotnet_interactive": {
                    "language": "sql"
                },
                "vscode": {
                    "languageId": "dotnet-interactive.sql"
                }
            },
            "outputs": [],
            "source": [
                "-- Copyright (c) 2020 De Staat der Nederlanden, Ministerie van Volksgezondheid, Welzijn en Sport.\n",
                "-- Licensed under the EUROPEAN UNION PUBLIC LICENCE v. 1.2 - see https://github.com/minvws/nl-contact-tracing-app-coordination for more information.\n",
                "\n",
                "-- 1) CREATE TABLE(S).....\n",
                "IF NOT EXISTS(SELECT * FROM SYS.TABLES WHERE [OBJECT_ID] = OBJECT_ID(N'[VWSSTATIC].[MASTERDATA_VARIANTS]'))\n",
                "BEGIN\n",
                "  CREATE TABLE [VWSSTATIC].[MASTERDATA_VARIANTS] (\n",
                "    [ID] BIGINT PRIMARY KEY IDENTITY(1,1),\n",
                "    [ECDC_CATEGORY] VARCHAR (100) NULL,\n",
                "    [WHO_CATEGORY] VARCHAR (100) NULL,\n",
                "    [VARIANT_CODE] VARCHAR (100) NULL,\n",
                "    [VARIANT_NAME] VARCHAR (100) NULL,\n",
                "    [IS_SUBVARIANT_OF] VARCHAR (100) NULL,\n",
                "    [SHOWS_ON_VWS_DASHBOARD] BIT DEFAULT(0) NULL,\n",
                "    [LABEL] VARCHAR (100) NULL,\n",
                "    [DATE_LAST_INSERTED] DATETIME DEFAULT (getdate()) NULL\n",
                ");\n",
                "END\n",
                "GO\n",
                "\n",
                "-- 2) CREATE INDEX(ES).....\n",
                "DROP INDEX IF EXISTS [NCIX_DLI_MASTERDATA_VARIANTS]\n",
                "  ON [VWSSTATIC].[MASTERDATA_VARIANTS]\n",
                "GO\n",
                "\n",
                "CREATE INDEX [NCIX_DLI_MASTERDATA_VARIANTS]\n",
                "  ON [VWSSTATIC].[MASTERDATA_VARIANTS] (\n",
                "    [DATE_LAST_INSERTED]\n",
                "  )\n",
                "GO"
            ]
        },
        {
            "cell_type": "markdown",
            "metadata": {},
            "source": [
                "# **STORED PROCEDURES**\n",
                "---"
            ]
        },
        {
            "cell_type": "markdown",
            "metadata": {},
            "source": [
                "### STAGE &rarr; STATIC MAPPING"
            ]
        },
        {
            "cell_type": "code",
            "execution_count": null,
            "metadata": {
                "dotnet_interactive": {
                    "language": "sql"
                },
                "vscode": {
                    "languageId": "dotnet-interactive.sql"
                }
            },
            "outputs": [],
            "source": [
                "-- 1) CREATE STORED PROCEDURE(S).....\n",
                "CREATE OR ALTER PROCEDURE [DBO].[SP_MASTERDATA_VARIANTS_STAGING_TO_STATIC]\n",
                "AS\n",
                "BEGIN\n",
                "        INSERT INTO [VWSSTATIC].[MASTERDATA_VARIANTS] (\n",
                "                [ECDC_CATEGORY],\n",
                "                [WHO_CATEGORY],\n",
                "                [VARIANT_CODE],\n",
                "                [VARIANT_NAME],\n",
                "                [IS_SUBVARIANT_OF] ,\n",
                "                [SHOWS_ON_VWS_DASHBOARD],\n",
                "                [LABEL]\n",
                "        )\n",
                "        SELECT\n",
                "                [ECDC_CATEGORY],\n",
                "                [WHO_CATEGORY],\n",
                "                [VARIANT_CODE],\n",
                "                [VARIANT_NAME],\n",
                "                [IS_SUBVARIANT_OF] ,\n",
                "                [SHOWS_ON_VWS_DASHBOARD],\n",
                "                [LABEL]\n",
                "        FROM [VWSSTAGE].[MASTERDATA_VARIANTS]\n",
                "        WHERE [DATE_LAST_INSERTED] = (SELECT MAX([DATE_LAST_INSERTED]) FROM [VWSSTAGE].[MASTERDATA_VARIANTS])\n",
                "END;\n",
                "GO"
            ]
        },
        {
            "cell_type": "markdown",
            "metadata": {},
            "source": [
                "# **DATATINO CONFIGURATIONS**\n",
                "---"
            ]
        },
        {
            "cell_type": "code",
            "execution_count": null,
            "metadata": {
                "dotnet_interactive": {
                    "language": "sql"
                },
                "vscode": {
                    "languageId": "dotnet-interactive.sql"
                }
            },
            "outputs": [],
            "source": [
                "-- COPYRIGHT (C) 2020 DE STAAT DER NEDERLANDEN, MINISTERIE VAN   VOLKSGEZONDHEID, WELZIJN EN SPORT.\n",
                "-- LICENSED UNDER THE EUROPEAN UNION PUBLIC LICENCE V. 1.2 - SEE HTTPS://GITHUB.COM/MINVWS/NL-CONTACT-TRACING-APP-COORDINATIONFOR MORE INFORMATION.\n",
                "\n",
                "-- 1) UPSERT WORKFLOW(S).....\n",
                "DECLARE @workflow_name NVARCHAR(50) = 'MASTERDATA_VARIANTS',\n",
                "        @workflow_id INT,        \n",
                "        @workflow_description VARCHAR(256),\n",
                "        @is_active INT;\n",
                "\n",
                "\n",
                "    -- 1.1) SET ENVIRONMENTAL VARIABLES.....\n",
                "    SET @is_active = CASE LOWER('#{ Environment }#')\n",
                "        WHEN 'production' THEN 1\n",
                "        WHEN 'acceptance' THEN 1\n",
                "        ELSE 1\n",
                "    END;\n",
                "\n",
                "    SELECT TOP(1)\n",
                "        @workflow_id = workflows.[ID]\n",
                "    FROM [DATATINO_ORCHESTRATOR_1].[WORKFLOWS] workflows\n",
                "    INNER JOIN [DATATINO_ORCHESTRATOR_1].[V_WORKFLOWS] v_workflows ON v_workflows.[DATAFLOW_ID] = workflows.[DATAFLOW_ID] AND v_workflows.[ID] = workflows.[ID]\n",
                "    WHERE v_workflows.[NAME] = @workflow_name;\n",
                "\n",
                "    SET @workflow_description = CONCAT('WORKFLOW: ', @workflow_name);\n",
                "\n",
                "    EXECUTE [DATATINO_ORCHESTRATOR_1].[UPSERT_WORKFLOW]\n",
                "        @id = @workflow_id, \n",
                "        @workflow_name = @workflow_name,\n",
                "        @description = @workflow_description,\n",
                "        @schedule = '0 12 * * WED', -- AT 11:00 PM, EVERY 3 MONTHS FROM MONDAY TO FRIDAY\n",
                "        @active = @is_active;\n",
                "\n",
                "    -- 2) UPSERT SOURCE(S).....\n",
                "    DECLARE @source NVARCHAR(256),\n",
                "            @source_id INT,\n",
                "            @source_name NVARCHAR(256),\n",
                "            @source_description NVARCHAR(256),\n",
                "            @target_name VARCHAR(256),\n",
                "            @location_type VARCHAR(50),\n",
                "            @security_profile VARCHAR(50);\n",
                "\n",
                "    -- 2.1) SET ENVIRONMENTAL VARIABLES.....\n",
                "    SET @source = CASE LOWER('#{ Environment }#')\n",
                "    WHEN 'production' THEN 'https://data.rivm.nl/data/vws/covid-19/VWS_COVID-19_varianten_master.csv'\n",
                "    WHEN 'acceptance' THEN 'https://acceptatie.data.rivm.nl/data/vws/covid-19/VWS_COVID-19_varianten_master.csv'\n",
                "        ELSE 'datafiles/STATIC/VWS_COVID-19_varianten_master.csv'\n",
                "    END;\n",
                "\n",
                "    SET @location_type = CASE LOWER('#{ Environment }#')\n",
                "        WHEN 'production' THEN 'Web'\n",
                "        WHEN 'acceptance' THEN 'Web'\n",
                "        ELSE 'AzureBlob'\n",
                "    END;\n",
                "\n",
                "    SET @security_profile = CASE LOWER('#{ Environment }#')\n",
                "        WHEN 'production' THEN 'RIVM'\n",
                "        WHEN 'acceptance' THEN 'RIVM'\n",
                "        ELSE 'N/A'\n",
                "    END;\n",
                "\n",
                "    -- 2.2) UPSERT TABLE SOURCE(S): STAGING......\n",
                "    SET @source_name = CONCAT('SOURCE_', @workflow_name);\n",
                "    SET @source_description = CONCAT('LOAD: ', @workflow_name);\n",
                "    SET @target_name = CONCAT('VWSSTAGE.', @workflow_name);\n",
                "\n",
                "    SELECT TOP(1)\n",
                "        @source_id = [ID]\n",
                "    FROM [DATATINO_ORCHESTRATOR_1].[SOURCES]\n",
                "    WHERE [NAME] = @source_name;\n",
                "\n",
                "    EXECUTE [DATATINO_ORCHESTRATOR_1].[UPSERT_SOURCE]\n",
                "        @id = @source_id,\n",
                "        @source_name = @source_name,\n",
                "        @description = @source_description,\n",
                "        @source = @source,\n",
                "        @source_columns = 'ECDC_category|WHO_category|Variant_code|Variant_name|Is_subvariant_of|Shows_on_vws_dashboard|Label',\n",
                "        @target_columns = 'ECDC_CATEGORY|WHO_CATEGORY|VARIANT_CODE|VAIRANT_NAME|IS_SUBVARIANT_OF|SHOWS_ON_VWS_DASHBOARD|LABEL',\n",
                "        @target_name = @target_name,\n",
                "        @source_type = 'CsvFile',\n",
                "        @location_type = @location_type,\n",
                "        @delimiter_type = 'SemiColon',\n",
                "        @security_profile= @security_profile;\n",
                "\n",
                "    -- 2) UPSERT PROCESS(ES).....\n",
                "    DECLARE @process_id INT,\n",
                "            @process_name NVARCHAR(256),\n",
                "            @process_description NVARCHAR(256),\n",
                "            @process_source_name VARCHAR(256);\n",
                "\n",
                "    -- 2.1) UPSERT TABLE PROCESS(ES): STAGING......\n",
                "    SET @process_name = CONCAT('PROCESS_', @workflow_name);\n",
                "    SET @process_description = CONCAT('LOAD: ', @workflow_name);\n",
                "    SET @process_source_name = CONCAT('SOURCE_', @workflow_name);\n",
                "\n",
                "    SELECT TOP(1)\n",
                "        @process_id = processes.[ID]\n",
                "    FROM [DATATINO_ORCHESTRATOR_1].[PROCESSES] processes\n",
                "    INNER JOIN [DATATINO_ORCHESTRATOR_1].[V_WORKFLOWS] v_workflows ON v_workflows.[ID] = processes.[WORKFLOW_ID]\n",
                "    INNER JOIN [DATATINO_ORCHESTRATOR_1].[V_PROCESSES] v_processes ON v_processes.[PROCESS_ID] = processes.[ID]\n",
                "    WHERE v_processes.[PROCESS_NAME] = @process_name \n",
                "        AND v_workflows.[NAME] = @workflow_name;\n",
                "\n",
                "    EXECUTE [DATATINO_ORCHESTRATOR_1].[UPSERT_PROCESS]\n",
                "        @id = @process_id,\n",
                "        @process_name = @process_name,\n",
                "        @description = @process_description,\n",
                "        @source_name = @process_source_name,\n",
                "        @schedule = '* * * * *',\n",
                "        @workflow_name = @workflow_name,\n",
                "        @active = 1;"
            ]
        },
        {
            "cell_type": "markdown",
            "metadata": {},
            "source": [
                "### UPSERT STORED PROCEDURE STAGING TO STATIC"
            ]
        },
        {
            "cell_type": "code",
            "execution_count": null,
            "metadata": {
                "dotnet_interactive": {
                    "language": "sql"
                },
                "vscode": {
                    "languageId": "dotnet-interactive.sql"
                }
            },
            "outputs": [],
            "source": [
                "-- Copyright (c) 2020 De Staat der Nederlanden, Ministerie van   Volksgezondheid, Welzijn en Sport. \n",
                "-- Licensed under the EUROPEAN UNION PUBLIC LICENCE v. 1.2 - see https://github.com/minvws/nl-contact-tracing-app-coordinationfor more information.\n",
                "\n",
                "-- 1 UPSERT STORED PROCEDURE SOURCE(S): STAGE TO STATIC......\n",
                "DECLARE @source NVARCHAR(256),\n",
                "        @source_id INT,\n",
                "        @source_name NVARCHAR(256),\n",
                "        @source_description NVARCHAR(256),\n",
                "        @workflow_name NVARCHAR(50) = 'MASTERDATA_VARIANTS';\n",
                "        \n",
                "\n",
                "SET @source = 'DBO.SP_MASTERDATA_VARIANTS_STAGING_TO_STATIC';\n",
                "SET @source_name = 'SOURCE_Staging_Masterdata_variants';\n",
                "SET @source_description = 'Move masterdata variants data from stage table to static table';\n",
                "\n",
                "SELECT TOP(1)\n",
                "    @source_id = [ID]\n",
                "FROM [DATATINO_ORCHESTRATOR_1].[SOURCES]\n",
                "WHERE [NAME] = @source_name;\n",
                "\n",
                "EXECUTE [DATATINO_ORCHESTRATOR_1].[UPSERT_SOURCE]\n",
                "    @id = @source_id,\n",
                "    @source_name = @source_name,\n",
                "    @description = @source_description,\n",
                "    @source = @source,\n",
                "    @source_columns = null,\n",
                "    @target_columns = null,\n",
                "    @target_name = null,\n",
                "    @source_type = 'StoredProcedure',\n",
                "    @location_type = 'N/A',\n",
                "    @delimiter_type = 'N/A',\n",
                "    @security_profile= 'N/A';\n",
                "\n",
                "-- 2) UPSERT STORED PROCEDURE PROCESS(S): STAGING TO STATIC......\n",
                "DECLARE @process_id INT,\n",
                "        @process_name NVARCHAR(256),\n",
                "        @process_description NVARCHAR(256),\n",
                "        @process_source_name VARCHAR(256);\n",
                "\n",
                "\n",
                "SET @process_name = CONCAT('PROCESS_SP_', @workflow_name, '_STAGING_TO_STATIC');\n",
                "SET @process_description = CONCAT('MAP: ', @workflow_name, ' FROM STAGING TO STATIC');\n",
                "SET @process_source_name =  @source_name --CONCAT('SOURCE_SP_', @workflow_name, '_STAGING_TO_STATIC');\n",
                "\n",
                "SELECT TOP(1)\n",
                "    @process_id = processes.[ID]\n",
                "FROM [DATATINO_ORCHESTRATOR_1].[PROCESSES] processes\n",
                "INNER JOIN [DATATINO_ORCHESTRATOR_1].[V_WORKFLOWS] v_workflows ON v_workflows.[ID] = processes.[WORKFLOW_ID]\n",
                "INNER JOIN [DATATINO_ORCHESTRATOR_1].[V_PROCESSES] v_processes ON v_processes.[PROCESS_ID] = processes.[ID]\n",
                "WHERE v_processes.[PROCESS_NAME] = @process_name \n",
                "    AND v_workflows.[NAME] = @workflow_name;\n",
                "\n",
                "EXECUTE [DATATINO_ORCHESTRATOR_1].[UPSERT_PROCESS]\n",
                "    @id = @process_id,\n",
                "    @process_name = @process_name,\n",
                "    @description = @process_description,\n",
                "    @source_name = @process_source_name,\n",
                "    @schedule = '* * * * *',\n",
                "    @workflow_name = @workflow_name,\n",
                "    @active = 1;\n",
                "\n",
                "-- 3) UPSERT STAGING TO STORE PROCEDURE DEPENDENC(Y)(IES)....\n",
                "DECLARE @dependency_id INT,\n",
                "        @dependency_name NVARCHAR(256),\n",
                "        @dependency_description NVARCHAR(256),\n",
                "        @dependency_dataflow_name NVARCHAR(256),\n",
                "        @dependency_process_name NVARCHAR(256);\n",
                "\n",
                "SET @dependency_name = CONCAT('DEPENDENCY_', @workflow_name,'_STAGING_TO_STATIC');\n",
                "SET @dependency_dataflow_name = CONCAT('PROCESS_SP_', @workflow_name, '_STAGING_TO_STATIC');\n",
                "SET @dependency_process_name = CONCAT('PROCESS_', @workflow_name);\n",
                "SET @dependency_description = CONCAT('TRIGGER ', @dependency_dataflow_name,' AFTER ', @dependency_process_name ,' HAS FINISHED');\n",
                "\n",
                "SELECT TOP(1)\n",
                "    @dependency_id = dependencies.[ID]\n",
                "FROM [DATATINO_ORCHESTRATOR_1].[DEPENDENCIES] dependencies\n",
                "INNER JOIN [DATATINO_ORCHESTRATOR_1].[V_DEPENDENCIES] v_dependencies ON v_dependencies.[ID] = dependencies.[ID]\n",
                "WHERE dependencies.[NAME] = @dependency_name\n",
                "    AND v_dependencies.[WORKFLOW_NAME] = @workflow_name;\n",
                "\n",
                "EXECUTE [DATATINO_ORCHESTRATOR_1].[UPSERT_DEPENDENCY]\n",
                "    @id = @dependency_id,\n",
                "    @dataflow_name = @dependency_dataflow_name,\n",
                "    @dataflowtype_id = 2,\n",
                "    @dependency_name = @dependency_process_name,\n",
                "    @dependencytype_id = 2,\n",
                "    @workflow_name = @workflow_name,\n",
                "    @name = @dependency_name,\n",
                "    @description = @dependency_description,\n",
                "    @active = 1;"
            ]
        }
    ],
    "metadata": {
        "kernelspec": {
            "display_name": ".NET (C#)",
            "language": "C#",
            "name": ".net-csharp"
        },
        "language_info": {
            "file_extension": ".cs",
            "mimetype": "text/x-csharp",
            "name": "C#",
            "pygments_lexer": "csharp",
            "version": "9.0"
        }
    },
    "nbformat": 4,
    "nbformat_minor": 2
}
