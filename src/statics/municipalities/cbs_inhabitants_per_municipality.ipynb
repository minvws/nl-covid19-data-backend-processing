{
    "cells": [
        {
            "cell_type": "markdown",
            "metadata": {
                "azdata_cell_guid": "a1bff903-eb61-4e65-82a1-c4e918bbcac8"
            },
            "source": [
                "# **INTRODUCTIONS**\n",
                "\n",
                "---\n",
                "\n",
                "The code is separated into multiple sections:\n",
                "\n",
                "1. **[Tables](#tables)**"
            ]
        },
        {
            "cell_type": "markdown",
            "metadata": {},
            "source": [
                "# **DEPENDENCIES**\n",
                "\n",
                "---\n",
                "\n",
                "```json\n",
                "{\n",
                "    \"depends-on\": [\n",
                "        \"src/utils/schemas.ipynb\",\n",
                "        \"src/statics/reclassified_municipality_mapping.ipynb\"\n",
                "    ]\n",
                "}\n",
                "```"
            ]
        },
        {
            "cell_type": "markdown",
            "metadata": {
                "azdata_cell_guid": "b883932e-c47b-4de6-9629-eca0ff8aeabb"
            },
            "source": [
                "# **TABLES**\n",
                "\n",
                "---"
            ]
        },
        {
            "cell_type": "markdown",
            "metadata": {},
            "source": [
                "### STAGES"
            ]
        },
        {
            "cell_type": "code",
            "execution_count": null,
            "metadata": {},
            "outputs": [],
            "source": [
                "-- COPYRIGHT (C) 2020 DE STAAT DER NEDERLANDEN, MINISTERIE VAN   VOLKSGEZONDHEID, WELZIJN EN SPORT.\n",
                "-- LICENSED UNDER THE EUROPEAN UNION PUBLIC LICENCE V. 1.2 - SEE HTTPS://GITHUB.COM/MINVWS/NL-CONTACT-TRACING-APP-COORDINATIONFOR MORE INFORMATION.\n",
                "\n",
                "IF NOT EXISTS(SELECT * FROM SYS.SEQUENCES WHERE [OBJECT_ID] = OBJECT_ID(N'[DBO].[SEQ_VWSSTAGE_CBS_INHABITANTS_PER_MUNICIPALITY]') AND [TYPE] = 'SO')\n",
                "CREATE SEQUENCE [SEQ_VWSSTAGE_CBS_INHABITANTS_PER_MUNICIPALITY]\n",
                "    START WITH 1\n",
                "    INCREMENT BY 1;\n",
                "GO\n",
                "\n",
                "IF NOT EXISTS(SELECT * FROM SYS.TABLES WHERE [OBJECT_ID] = OBJECT_ID(N'[VWSSTAGE].[CBS_INHABITANTS_PER_MUNICIPALITY]'))\n",
                "CREATE TABLE [VWSSTAGE].[CBS_INHABITANTS_PER_MUNICIPALITY] (\n",
                "    [ID] [INT] PRIMARY KEY NOT NULL DEFAULT (NEXT VALUE FOR [DBO].[SEQ_VWSSTAGE_CBS_INHABITANTS_PER_MUNICIPALITY]),\n",
                "\t[DATE_LAST_INSERTED] [DATETIME] DEFAULT GETDATE(),\n",
                "    [REGIOS] [VARCHAR](100),\n",
                "    [CODE_1] [VARCHAR](100),\n",
                "\t[CODE_42] [VARCHAR](100),\n",
                "\t[NAAM_43] [VARCHAR](100),\n",
                "\t[INWONERTAL_50] [VARCHAR](100)\n",
                ");\n",
                "GO"
            ]
        },
        {
            "cell_type": "markdown",
            "metadata": {},
            "source": [
                "### STATICS"
            ]
        },
        {
            "cell_type": "code",
            "execution_count": null,
            "metadata": {},
            "outputs": [],
            "source": [
                "-- COPYRIGHT (C) 2020 DE STAAT DER NEDERLANDEN, MINISTERIE VAN   VOLKSGEZONDHEID, WELZIJN EN SPORT.\n",
                "-- LICENSED UNDER THE EUROPEAN UNION PUBLIC LICENCE V. 1.2 - SEE HTTPS://GITHUB.COM/MINVWS/NL-CONTACT-TRACING-APP-COORDINATIONFOR MORE INFORMATION.\n",
                "\n",
                "IF NOT EXISTS(SELECT * FROM SYS.SEQUENCES WHERE OBJECT_ID = OBJECT_ID(N'[DBO].[SEQ_CBS_INHABITANTS_PER_MUNICIPALITY]') AND TYPE = 'SO')\n",
                "CREATE SEQUENCE [SEQ_CBS_INHABITANTS_PER_MUNICIPALITY]\n",
                "    START WITH 1\n",
                "    INCREMENT BY 1;\n",
                "GO\n",
                "\n",
                "IF NOT EXISTS(SELECT * FROM SYS.TABLES WHERE [OBJECT_ID] = OBJECT_ID(N'[VWSSTATIC].[CBS_INHABITANTS_PER_MUNICIPALITY]'))\n",
                "CREATE TABLE [VWSSTATIC].[CBS_INHABITANTS_PER_MUNICIPALITY] (\n",
                "    [ID] INT PRIMARY KEY NOT NULL DEFAULT (NEXT VALUE FOR [DBO].[SEQ_CBS_INHABITANTS_PER_MUNICIPALITY]),\n",
                "    [VRCODE] VARCHAR(5),\n",
                "    [GMCODE] VARCHAR(10),\n",
                "\t[INHABITANTS] BIGINT,\n",
                "\t[DATE_LAST_INSERTED] DATETIME DEFAULT GETDATE()\n",
                ");\n",
                "GO\n",
                "\n",
                "IF NOT EXISTS(SELECT * FROM SYS.INDEXES WHERE NAME='IX_VWS_VWSSTATIC_CBS_INHABITANTS_PER_MUNICIPALITY')\n",
                "CREATE NONCLUSTERED INDEX [IX_VWS_VWSSTATIC_CBS_INHABITANTS_PER_MUNICIPALITY] ON [VWSSTATIC].[CBS_INHABITANTS_PER_MUNICIPALITY] (\n",
                "    [DATE_LAST_INSERTED], \n",
                "    [VRCODE], \n",
                "    [GMCODE]\n",
                ") INCLUDE ([INHABITANTS]);\n",
                "GO"
            ]
        },
        {
            "cell_type": "markdown",
            "metadata": {},
            "source": [
                "# **STORED PROCEDURES**\n",
                "\n",
                "---\n",
                "\n",
                "De SP die de data van VWSStage naar VWSStatic kopieert wordt uitgebreid met een join naar de tabel Recode\\_Municipality om de gegevens direct om te zetten naar de nieuwe gemeentelijke indeling."
            ]
        },
        {
            "cell_type": "markdown",
            "metadata": {},
            "source": [
                "### STAGING &rarr; STATIC MAPPING"
            ]
        },
        {
            "cell_type": "code",
            "execution_count": null,
            "metadata": {},
            "outputs": [],
            "source": [
                "-- COPYRIGHT (C) 2020 DE STAAT DER NEDERLANDEN, MINISTERIE VAN VOLKSGEZONDHEID, WELZIJN EN SPORT.\n",
                "-- LICENSED UNDER THE EUROPEAN UNION PUBLIC LICENCE V. 1.2 - SEE HTTPS://GITHUB.COM/MINVWS/NL-CONTACT-TRACING-APP-COORDINATIONFOR MORE INFORMATION.\n",
                "\n",
                "CREATE OR ALTER PROCEDURE [dbo].[SP_INHABITANTS_PER_REGION_STATIC]\n",
                "AS\n",
                "BEGIN\n",
                "    INSERT INTO [VWSSTATIC].[CBS_INHABITANTS_PER_MUNICIPALITY]  (\n",
                "        [VRCODE], \n",
                "        [GMCODE], \n",
                "        [INHABITANTS]\n",
                "    )\n",
                "    SELECT\n",
                "        ISNULL(B.[VR_CODE], [CODE_42]),\n",
                "        ISNULL(B.[GM_CODE_NEW], [CODE_1]),\n",
                "        CAST(ROUND(SUM(CAST(A.[INWONERTAL_50] AS INT) * ISNULL(B.[SHARES],1.0)),0) AS INT)\n",
                "    FROM [VWSSTAGE].[CBS_INHABITANTS_PER_MUNICIPALITY] A\n",
                "        LEFT JOIN   (\n",
                "                    SELECT \n",
                "                        * \n",
                "                    FROM [VWSSTATIC].[RECLASSIFIED_MUNICIPALITY_MAPPING] \n",
                "                    WHERE [ACTIVE] = 1 \n",
                "                        AND [DATE_LAST_INSERTED] = (SELECT MAX([DATE_LAST_INSERTED]) FROM [VWSSTATIC].[RECLASSIFIED_MUNICIPALITY_MAPPING])  \n",
                "                ) B ON A.[CODE_1] = B.[GM_CODE_ORIGINAL]\n",
                "    WHERE A.[DATE_LAST_INSERTED] = (SELECT MAX(DATE_LAST_INSERTED) FROM [VWSSTAGE].[CBS_INHABITANTS_PER_MUNICIPALITY])\n",
                "    GROUP BY ISNULL(B.[VR_CODE],[CODE_42]), ISNULL(B.[GM_CODE_NEW],[CODE_1])\n",
                "END;\n",
                "GO"
            ]
        }
    ],
    "metadata": {
        "kernelspec": {
            "display_name": "SQL",
            "language": "sql",
            "name": "SQL"
        },
        "language_info": {
            "name": "sql",
            "version": ""
        }
    },
    "nbformat": 4,
    "nbformat_minor": 2
}
