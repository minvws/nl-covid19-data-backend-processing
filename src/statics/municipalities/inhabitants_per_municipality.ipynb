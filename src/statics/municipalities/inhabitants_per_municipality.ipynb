{
    "cells": [
        {
            "cell_type": "markdown",
            "metadata": {
                "azdata_cell_guid": "a1bff903-eb61-4e65-82a1-c4e918bbcac8"
            },
            "source": [
                "# **INTRODUCTIONS**\n",
                "\n",
                "---\n",
                "\n",
                "The code is separated into multiple sections:\n",
                "\n",
                "1. **[Tables](#tables)**"
            ]
        },
        {
            "cell_type": "markdown",
            "metadata": {},
            "source": [
                "# **DEPENDENCIES**\n",
                "\n",
                "---\n",
                "\n",
                "```json\n",
                "{\n",
                "    \"depends-on\": [\n",
                "        \"src/utils/schemas.ipynb\",\n",
                "        \"src/statics/reclassified_municipality_mapping.ipynb\"\n",
                "    ]\n",
                "}\n",
                "```"
            ]
        },
        {
            "cell_type": "markdown",
            "metadata": {
                "azdata_cell_guid": "b883932e-c47b-4de6-9629-eca0ff8aeabb"
            },
            "source": [
                "# **TABLES**\n",
                "\n",
                "---"
            ]
        },
        {
            "cell_type": "markdown",
            "metadata": {},
            "source": [
                "### STAGES\n",
                "\n",
                "De tabel INHABITANTS\\_PER\\_MUNICIPALITY wordt direct in het VWSStatic schema ingelezen. Hiervoor wordt een tabel aangemaakt in het VWSStage schema alsemede een stored procedure om de data van Stage naar Static te kopieren en gedurende de kopieer-actie aan te passen aan de gewenste gemeentelijke indeling. \n",
                "\n",
                "Daarnaast moet er nog een Process worden toegevoegd aan de workflow."
            ]
        },
        {
            "cell_type": "code",
            "execution_count": null,
            "metadata": {},
            "outputs": [],
            "source": [
                "-- COPYRIGHT (C) 2020 DE STAAT DER NEDERLANDEN, MINISTERIE VAN VOLKSGEZONDHEID, WELZIJN EN SPORT.\n",
                "-- LICENSED UNDER THE EUROPEAN UNION PUBLIC LICENCE V. 1.2 - SEE HTTPS://GITHUB.COM/MINVWS/NL-CONTACT-TRACING-APP-COORDINATIONFOR MORE INFORMATION.\n",
                "\n",
                "SET ANSI_NULLS ON\n",
                "GO\n",
                "\n",
                "SET QUOTED_IDENTIFIER ON\n",
                "GO\n",
                "\n",
                "DROP TABLE IF EXISTS [VWSSTAGE].[INHABITANTS_PER_MUNICIPALITY]\n",
                "GO\n",
                "\n",
                "CREATE TABLE [VWSSTAGE].[INHABITANTS_PER_MUNICIPALITY] (\n",
                "\t[ID] [INT] PRIMARY KEY IDENTITY (1,1),\n",
                "\t[DATE_LAST_INSERTED] [DATETIME] NOT NULL DEFAULT GETDATE(),\n",
                "\t[REGION] [VARCHAR](50) NOT NULL,\n",
                "\t[GM_CODE] [VARCHAR](50) NOT NULL,\n",
                "\t[VR_CODE] [VARCHAR](50) NOT NULL,\n",
                "\t[VR_NAME] [VARCHAR](50) NOT NULL,\n",
                "\t[INHABITANTS] [VARCHAR](50) NOT NULL\n",
                ") ON [PRIMARY];\n",
                "GO"
            ]
        },
        {
            "cell_type": "markdown",
            "metadata": {},
            "source": [
                "### STATICS"
            ]
        },
        {
            "cell_type": "code",
            "execution_count": null,
            "metadata": {},
            "outputs": [],
            "source": [
                "-- COPYRIGHT (C) 2020 DE STAAT DER NEDERLANDEN, MINISTERIE VAN   VOLKSGEZONDHEID, WELZIJN EN SPORT.\n",
                "-- LICENSED UNDER THE EUROPEAN UNION PUBLIC LICENCE V. 1.2 - SEE HTTPS://GITHUB.COM/MINVWS/NL-CONTACT-TRACING-APP-COORDINATIONFOR MORE INFORMATION.\n",
                "\n",
                "SET ANSI_NULLS ON\n",
                "GO\n",
                "\n",
                "SET QUOTED_IDENTIFIER ON\n",
                "GO\n",
                "\n",
                "IF NOT EXISTS(SELECT * FROM SYS.TABLES WHERE [OBJECT_ID] = OBJECT_ID(N'[VWSSTATIC].[INHABITANTS_PER_MUNICIPALITY]'))\n",
                "CREATE TABLE [VWSSTATIC].[INHABITANTS_PER_MUNICIPALITY] (\n",
                "\t[DATE_LAST_INSERTED] DATETIME DEFAULT GETDATE(),\n",
                "    [REGIO] [VARCHAR](50) NOT NULL,\n",
                "\t[GMCODE] [VARCHAR](50) NOT NULL,\n",
                "\t[VRCODE] [VARCHAR](50) NOT NULL,\n",
                "\t[VRNAME] [VARCHAR](50) NOT NULL,\n",
                "\t[INHABITANTS] [INT] NOT NULL\n",
                ");\n",
                "GO"
            ]
        },
        {
            "cell_type": "markdown",
            "metadata": {},
            "source": [
                "# **STORED PROCEDURES**\n",
                "\n",
                "---\n",
                "\n",
                "De tabel INHABITANTS\\_PER\\_MUNICIPALITY wordt direct in het VWSStatic schema ingelezen. Hiervoor wordt een tabel aangemaakt in het VWSStage schema alsemede een stored procedure om de data van Stage naar Static te kopieren en gedurende de kopieer-actie aan te passen aan de gewenste gemeentelijke indeling. \n",
                "\n",
                "Daarnaast moet er nog een Process worden toegevoegd aan de workflow."
            ]
        },
        {
            "cell_type": "markdown",
            "metadata": {},
            "source": [
                "### STAGING &rarr; STATIC MAPPING"
            ]
        },
        {
            "cell_type": "code",
            "execution_count": null,
            "metadata": {},
            "outputs": [],
            "source": [
                "-- COPYRIGHT (C) 2020 DE STAAT DER NEDERLANDEN, MINISTERIE VAN VOLKSGEZONDHEID, WELZIJN EN SPORT.\n",
                "-- LICENSED UNDER THE EUROPEAN UNION PUBLIC LICENCE V. 1.2 - SEE HTTPS://GITHUB.COM/MINVWS/NL-CONTACT-TRACING-APP-COORDINATIONFOR MORE INFORMATION.\n",
                "\n",
                "CREATE OR ALTER PROCEDURE [DBO].[SP_INHABITANTS_PER_MUNICIPALITY_STAGE_TO_STATIC]\n",
                "AS\n",
                "BEGIN\n",
                "\n",
                "    INSERT INTO [VWSSTATIC].[INHABITANTS_PER_MUNICIPALITY] (\n",
                "            [REGIO], \n",
                "            [GMCODE], \n",
                "            [VRCODE], \n",
                "            [VRNAME], \n",
                "            [INHABITANTS], \n",
                "            [DATE_LAST_INSERTED]\n",
                "        )\n",
                "    SELECT  ISNULL(B.[GM_NAME_NEW],A.[REGION]),\n",
                "            ISNULL(B.[GM_CODE_NEW],A.[GM_CODE]),\n",
                "            ISNULL(B.[VR_CODE],A.[VR_CODE]),\n",
                "            ISNULL(B.[VR_NAME],A.[VR_NAME]),\n",
                "            CAST(ROUND(SUM(CAST(A.[INHABITANTS] AS INT) * ISNULL(B.[SHARES],1.0)),0) AS INT),\n",
                "            MAX(A.[DATE_LAST_INSERTED])\n",
                "    FROM [VWSSTAGE].[INHABITANTS_PER_MUNICIPALITY] A\n",
                "    LEFT JOIN   (\n",
                "                    SELECT \n",
                "                        * \n",
                "                    FROM [VWSSTATIC].[RECLASSIFIED_MUNICIPALITY_MAPPING] \n",
                "                    WHERE [ACTIVE]=1\n",
                "                        AND [DATE_LAST_INSERTED] = (SELECT MAX([DATE_LAST_INSERTED]) FROM [VWSSTATIC].[RECLASSIFIED_MUNICIPALITY_MAPPING])  \n",
                "                ) B ON A.[GM_CODE] = B.[GM_CODE_ORIGINAL]\n",
                "    WHERE A.[DATE_LAST_INSERTED] = (SELECT MAX([DATE_LAST_INSERTED]) FROM [VWSSTATIC].[INHABITANTS_PER_MUNICIPALITY])    \n",
                "    GROUP BY ISNULL(B.[GM_NAME_NEW],A.[REGION]),\n",
                "            ISNULL(B.[GM_CODE_NEW],A.[GM_CODE]),\n",
                "            ISNULL(B.[VR_CODE],A.[VR_CODE]),\n",
                "            ISNULL(B.[VR_NAME],A.[VR_NAME])\n",
                "END;\n",
                "GO"
            ]
        }
    ],
    "metadata": {
        "kernelspec": {
            "display_name": "SQL",
            "language": "sql",
            "name": "SQL"
        },
        "language_info": {
            "name": "sql",
            "version": ""
        }
    },
    "nbformat": 4,
    "nbformat_minor": 2
}
