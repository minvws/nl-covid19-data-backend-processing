{
    "cells": [
        {
            "cell_type": "markdown",
            "metadata": {
                "azdata_cell_guid": "a1bff903-eb61-4e65-82a1-c4e918bbcac8"
            },
            "source": [
                "# **INTRODUCTIONS**\n",
                "\n",
                "---\n",
                "\n",
                "The code is separated into multiple sections:\n",
                "\n",
                "1. **[Tables](#tables)**"
            ]
        },
        {
            "cell_type": "markdown",
            "metadata": {},
            "source": [
                "# **DEPENDENCIES**\n",
                "\n",
                "---\n",
                "\n",
                "```json\n",
                "{\n",
                "    \"depends-on\": [\n",
                "        \"src/utils/schemas.ipynb\"\n",
                "    ]\n",
                "}\n",
                "```"
            ]
        },
        {
            "cell_type": "markdown",
            "metadata": {
                "azdata_cell_guid": "b883932e-c47b-4de6-9629-eca0ff8aeabb"
            },
            "source": [
                "# **TABLES**\n",
                "\n",
                "---"
            ]
        },
        {
            "cell_type": "markdown",
            "metadata": {},
            "source": [
                "### STAGES\n",
                "\n",
                "**<a style=\"color:red\">This table is not yet used!</a>**"
            ]
        },
        {
            "cell_type": "code",
            "execution_count": null,
            "metadata": {},
            "outputs": [],
            "source": [
                "-- COPYRIGHT (C) 2020 DE STAAT DER NEDERLANDEN, MINISTERIE VAN   VOLKSGEZONDHEID, WELZIJN EN SPORT.\n",
                "-- LICENSED UNDER THE EUROPEAN UNION PUBLIC LICENCE V. 1.2 - SEE HTTPS://GITHUB.COM/MINVWS/NL-CONTACT-TRACING-APP-COORDINATIONFOR MORE INFORMATION.\n",
                "\n",
                "SET ANSI_NULLS ON\n",
                "GO\n",
                "\n",
                "SET QUOTED_IDENTIFIER ON\n",
                "GO\n",
                "\n",
                "-- 1) CREATE STAGE TABLE(S).....\n",
                "DROP TABLE IF EXISTS [VWSSTAGE].[INHABITANTS_PER_SAFETY_REGION]\n",
                "GO\n",
                "\n",
                "CREATE TABLE [VWSSTAGE].[INHABITANTS_PER_SAFETY_REGION] (\n",
                "\t[ID] [INT] PRIMARY KEY IDENTITY (1,1),\n",
                "\t[DATE_LAST_INSERTED] [DATETIME] DEFAULT GETDATE(),\n",
                "\t[VR_CODE] [VARCHAR](100) NULL,\n",
                "\t[VR_NAME] [VARCHAR](100) NULL,\n",
                "\t[INHABITANTS] [INT] NULL\n",
                ");\n",
                "GO"
            ]
        },
        {
            "cell_type": "markdown",
            "metadata": {},
            "source": [
                "### STATICS"
            ]
        },
        {
            "cell_type": "code",
            "execution_count": null,
            "metadata": {},
            "outputs": [],
            "source": [
                "-- COPYRIGHT (C) 2020 DE STAAT DER NEDERLANDEN, MINISTERIE VAN   VOLKSGEZONDHEID, WELZIJN EN SPORT.\n",
                "-- LICENSED UNDER THE EUROPEAN UNION PUBLIC LICENCE V. 1.2 - SEE HTTPS://GITHUB.COM/MINVWS/NL-CONTACT-TRACING-APP-COORDINATIONFOR MORE INFORMATION.\n",
                "\n",
                "-- 1) CREATE STATIC SEQUENCE(S).....\n",
                "IF NOT EXISTS(SELECT * FROM SYS.SEQUENCES WHERE [OBJECT_ID] = OBJECT_ID(N'[DBO].[SEQ_VWSSTATIC_INHABITANTS_PER_SAFETY_REGION]') AND [TYPE] = 'SO')\n",
                "CREATE SEQUENCE [SEQ_VWSSTATIC_INHABITANTS_PER_SAFETY_REGION]\n",
                "\tSTART WITH 1\n",
                "\tINCREMENT BY 1;\n",
                "GO\n",
                "\n",
                "-- 2) CREATE STATIC TABLE(S).....\n",
                "IF NOT EXISTS(SELECT * FROM SYS.TABLES WHERE [OBJECT_ID] = OBJECT_ID(N'[VWSSTATIC].[INHABITANTS_PER_SAFETY_REGION]'))\n",
                "CREATE TABLE [VWSSTATIC].[INHABITANTS_PER_SAFETY_REGION] (\n",
                "\t[ID] INT PRIMARY KEY NOT NULL DEFAULT (NEXT VALUE FOR [DBO].[SEQ_VWSSTATIC_INHABITANTS_PER_SAFETY_REGION]),\n",
                "\t[DATE_LAST_INSERTED] DATETIME DEFAULT GETDATE(),\n",
                "\t[VGRNR] VARCHAR(100) NULL,\n",
                "\t[VGRNAAM] VARCHAR(100) NULL,\n",
                "\t[INHABITANTS] INT NULL\n",
                ");\n",
                "GO"
            ]
        }
    ],
    "metadata": {
        "kernelspec": {
            "display_name": "SQL",
            "language": "sql",
            "name": "SQL"
        },
        "language_info": {
            "name": "sql",
            "version": ""
        }
    },
    "nbformat": 4,
    "nbformat_minor": 2
}
