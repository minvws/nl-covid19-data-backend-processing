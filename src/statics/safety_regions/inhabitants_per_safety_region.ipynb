{
    "cells": [
        {
            "cell_type": "markdown",
            "metadata": {
                "azdata_cell_guid": "a1bff903-eb61-4e65-82a1-c4e918bbcac8"
            },
            "source": [
                "# **INTRODUCTIONS**\n",
                "\n",
                "---\n",
                "\n",
                "The code is separated into multiple sections:\n",
                "\n",
                "1. **[Tables](#tables)**"
            ]
        },
        {
            "cell_type": "markdown",
            "metadata": {},
            "source": [
                "# **DEPENDENCIES**\n",
                "\n",
                "---\n",
                "\n",
                "```json\n",
                "{\n",
                "    \"depends-on\": [\n",
                "        \"src/utils/schemas.ipynb\"\n",
                "    ]\n",
                "}\n",
                "```"
            ]
        },
        {
            "cell_type": "markdown",
            "metadata": {
                "azdata_cell_guid": "b883932e-c47b-4de6-9629-eca0ff8aeabb"
            },
            "source": [
                "# **TABLES**\n",
                "\n",
                "---"
            ]
        },
        {
            "cell_type": "markdown",
            "metadata": {},
            "source": [
                "### STAGES\n",
                "\n",
                "**<a style=\"color:red\">This table is not yet used!</a>**"
            ]
        },
        {
            "cell_type": "code",
            "execution_count": null,
            "metadata": {},
            "outputs": [],
            "source": [
                "-- COPYRIGHT (C) 2020 DE STAAT DER NEDERLANDEN, MINISTERIE VAN   VOLKSGEZONDHEID, WELZIJN EN SPORT.\n",
                "-- LICENSED UNDER THE EUROPEAN UNION PUBLIC LICENCE V. 1.2 - SEE HTTPS://GITHUB.COM/MINVWS/NL-CONTACT-TRACING-APP-COORDINATIONFOR MORE INFORMATION.\n",
                "\n",
                "SET ANSI_NULLS ON\n",
                "GO\n",
                "\n",
                "SET QUOTED_IDENTIFIER ON\n",
                "GO\n",
                "\n",
                "-- 1) CREATE STAGE TABLE(S).....\n",
                "DROP TABLE IF EXISTS [VWSSTAGE].[INHABITANTS_PER_SAFETY_REGION]\n",
                "GO\n",
                "\n",
                "CREATE TABLE [VWSSTAGE].[INHABITANTS_PER_SAFETY_REGION] (\n",
                "\t[ID] [INT] PRIMARY KEY IDENTITY (1,1),\n",
                "\t[DATE_LAST_INSERTED] [DATETIME] DEFAULT GETDATE(),\n",
                "\t[VR_CODE] [VARCHAR](100) NULL,\n",
                "\t[VR_NAME] [VARCHAR](100) NULL,\n",
                "\t[INHABITANTS] [INT] NULL\n",
                ");\n",
                "GO"
            ]
        },
        {
            "cell_type": "markdown",
            "metadata": {},
            "source": [
                "### STATICS"
            ]
        },
        {
            "cell_type": "code",
            "execution_count": null,
            "metadata": {},
            "outputs": [],
            "source": [
                "-- COPYRIGHT (C) 2020 DE STAAT DER NEDERLANDEN, MINISTERIE VAN   VOLKSGEZONDHEID, WELZIJN EN SPORT.\n",
                "-- LICENSED UNDER THE EUROPEAN UNION PUBLIC LICENCE V. 1.2 - SEE HTTPS://GITHUB.COM/MINVWS/NL-CONTACT-TRACING-APP-COORDINATIONFOR MORE INFORMATION.\n",
                "\n",
                "-- 1) CREATE STATIC SEQUENCE(S).....\n",
                "IF NOT EXISTS(SELECT * FROM SYS.SEQUENCES WHERE [OBJECT_ID] = OBJECT_ID(N'[DBO].[SEQ_VWSSTATIC_INHABITANTS_PER_SAFETY_REGION]') AND [TYPE] = 'SO')\n",
                "CREATE SEQUENCE [SEQ_VWSSTATIC_INHABITANTS_PER_SAFETY_REGION]\n",
                "\tSTART WITH 1\n",
                "\tINCREMENT BY 1;\n",
                "GO\n",
                "\n",
                "-- 2) CREATE STATIC TABLE(S).....\n",
                "IF NOT EXISTS(SELECT * FROM SYS.TABLES WHERE [OBJECT_ID] = OBJECT_ID(N'[VWSSTATIC].[INHABITANTS_PER_SAFETY_REGION]'))\n",
                "CREATE TABLE [VWSSTATIC].[INHABITANTS_PER_SAFETY_REGION] (\n",
                "\t[ID] INT PRIMARY KEY NOT NULL DEFAULT (NEXT VALUE FOR [DBO].[SEQ_VWSSTATIC_INHABITANTS_PER_SAFETY_REGION]),\n",
                "\t[DATE_LAST_INSERTED] DATETIME DEFAULT GETDATE(),\n",
                "\t[VGRNR] VARCHAR(100) NULL,\n",
                "\t[VGRNAAM] VARCHAR(100) NULL,\n",
                "\t[INHABITANTS] INT NULL\n",
                ");\n",
                "GO\n"
            ]
        },
        {
            "cell_type": "markdown",
            "metadata": {},
            "source": [
                "# **DATATINO CONFIGURATIONS**\n",
                "\n",
                "---\n"
            ]
        },
        {
            "cell_type": "markdown",
            "metadata": {},
            "source": [
                "### WORKFLOWS"
            ]
        },
        {
            "cell_type": "code",
            "execution_count": null,
            "metadata": {},
            "outputs": [],
            "source": [
                "-- COPYRIGHT (C) 2020 DE STAAT DER NEDERLANDEN, MINISTERIE VAN   VOLKSGEZONDHEID, WELZIJN EN SPORT.\n",
                "-- LICENSED UNDER THE EUROPEAN UNION PUBLIC LICENCE V. 1.2 - SEE HTTPS://GITHUB.COM/MINVWS/NL-CONTACT-TRACING-APP-COORDINATIONFOR MORE INFORMATION.\n",
                "\n",
                "-- 1) UPSERT WORKFLOW(S).....\n",
                "DECLARE @workflow_name NVARCHAR(50) = 'STATIC_DATA',\n",
                "        @workflow_id INT,        \n",
                "        @workflow_description VARCHAR(256),\n",
                "        @is_active INT;\n",
                "\n",
                "-- 1.1) SET ENVIRONMENTAL VARIABLES.....\n",
                "SET @is_active = CASE LOWER('#{ Environment }#')\n",
                "    WHEN 'production' THEN 1\n",
                "    WHEN 'acceptance' THEN 1\n",
                "    ELSE 1\n",
                "END;\n",
                "\n",
                "-- 2) UPSERT WORKFLOW(S).....\n",
                "SELECT TOP(1)\n",
                "    @workflow_id = workflows.[ID]\n",
                "FROM [DATATINO_ORCHESTRATOR_1].[WORKFLOWS] workflows\n",
                "INNER JOIN [DATATINO_ORCHESTRATOR_1].[V_WORKFLOWS] v_workflows ON v_workflows.[DATAFLOW_ID] = workflows.[DATAFLOW_ID] AND v_workflows.[ID] = workflows.[ID]\n",
                "WHERE v_workflows.[NAME] = @workflow_name;\n",
                "\n",
                "SET @workflow_description = CONCAT('WORKFLOW: ', @workflow_name);\n",
                "\n",
                "EXECUTE [DATATINO_ORCHESTRATOR_1].[UPSERT_WORKFLOW]\n",
                "    @id = @workflow_id, \n",
                "    @workflow_name = @workflow_name,\n",
                "    @description = @workflow_description,\n",
                "    @SCHEDULE = '0 14 * */3 MON-FRI', -- AT 12:00 PM, EVERY 3 MONTHS\n",
                "    @active = @is_active;\n",
                "\n",
                "-- 2) UPSERT SOURCE(S).....\n",
                "DECLARE @source NVARCHAR(256),\n",
                "        @source_id INT,\n",
                "        @source_name NVARCHAR(256),\n",
                "        @source_description NVARCHAR(256),\n",
                "        @target_name VARCHAR(256),\n",
                "        @location_type VARCHAR(50),\n",
                "        @security_profile VARCHAR(50);\n",
                "\n",
                "-- 2.1) SET ENVIRONMENTAL VARIABLES.....\n",
                "SET @source = CASE LOWER('#{ Environment }#')\n",
                "    WHEN 'production' THEN 'datafiles/STATIC/inhabitants_per_safety_region.csv'\n",
                "    WHEN 'acceptance' THEN 'datafiles/STATIC/inhabitants_per_safety_region.csv'\n",
                "    ELSE 'datafiles/STATIC/inhabitants_per_safety_region.csv'\n",
                "END;\n",
                "\n",
                "SET @location_type = CASE LOWER('#{ Environment }#')\n",
                "    WHEN 'production' THEN 'AzureBlob'\n",
                "    WHEN 'acceptance' THEN 'AzureBlob'\n",
                "    ELSE 'AzureBlob'\n",
                "END;\n",
                "\n",
                "SET @security_profile = CASE LOWER('#{ Environment }#')\n",
                "    WHEN 'production' THEN 'RIVM'\n",
                "    WHEN 'acceptance' THEN 'RIVM'\n",
                "    ELSE 'RIVM'\n",
                "END;\n",
                "\n",
                "-- 2.2) UPSERT TABLE SOURCE(S): STATIC......\n",
                "SET @source_name = 'SOURCE_LOAD_INHABITANTS_SR_STATIC_DATA';\n",
                "SET @source_description = CONCAT('LOAD: INHABITANTS_PER_SAFETY_REGION - ', @workflow_name);\n",
                "SET @target_name = 'VWSSTATIC.INHABITANTS_PER_SAFETY_REGION';\n",
                "\n",
                "SELECT TOP(1)\n",
                "    @source_id = [ID]\n",
                "FROM [DATATINO_ORCHESTRATOR_1].[SOURCES]\n",
                "WHERE [NAME] = @source_name;\n",
                "\n",
                "EXECUTE [DATATINO_ORCHESTRATOR_1].[UPSERT_SOURCE]\n",
                "    @id = @source_id,\n",
                "    @source_name = @source_name,\n",
                "    @description = @source_description,\n",
                "    @source = @source,\n",
                "    @source_columns = 'VGRNR|VGRNAAM|INHABITANTS',\n",
                "    @target_columns = 'VGRNR|VGRNAAM|INHABITANTS|DATE_LAST_INSERTED=GETDATE',\n",
                "    @target_name = @target_name,\n",
                "    @source_type = 'CsvFile',\n",
                "    @location_type = @location_type,\n",
                "    @delimiter_type = 'Colon',\n",
                "    @security_profile= @security_profile;\n",
                "\n",
                "-- 3) UPSERT PROCESS(ES).....\n",
                "DECLARE @process_id INT,\n",
                "        @process_name NVARCHAR(256),\n",
                "        @process_description NVARCHAR(256),\n",
                "        @process_source_name VARCHAR(256);\n",
                "\n",
                "-- 3.1) UPSERT TABLE PROCESS(ES): STATIC......\n",
                "SET @process_name = 'PROCESS_LOAD_INHABITANTS_SR_STATIC_DATA';\n",
                "SET @process_description = CONCAT('LOAD: INHABITANTS_PER_SAFETY_REGION - ', @workflow_name);\n",
                "SET @process_source_name = 'SOURCE_LOAD_INHABITANTS_SR_STATIC_DATA';\n",
                "\n",
                "SELECT TOP(1)\n",
                "    @process_id = processes.[ID]\n",
                "FROM [DATATINO_ORCHESTRATOR_1].[PROCESSES] processes\n",
                "INNER JOIN [DATATINO_ORCHESTRATOR_1].[V_WORKFLOWS] v_workflows ON v_workflows.[ID] = processes.[WORKFLOW_ID]\n",
                "INNER JOIN [DATATINO_ORCHESTRATOR_1].[V_PROCESSES] v_processes ON v_processes.[PROCESS_ID] = processes.[ID]\n",
                "WHERE v_processes.[PROCESS_NAME] = @process_name \n",
                "    AND v_workflows.[NAME] = @workflow_name;\n",
                "\n",
                "EXECUTE [DATATINO_ORCHESTRATOR_1].[UPSERT_PROCESS]\n",
                "    @id = @process_id,\n",
                "    @process_name = @process_name,\n",
                "    @description = @process_description,\n",
                "    @source_name = @process_source_name,\n",
                "    @schedule = '* * * * *',\n",
                "    @workflow_name = @workflow_name,\n",
                "    @active = 1;\n",
                "GO"
            ]
        }
    ],
    "metadata": {
        "kernelspec": {
            "display_name": "SQL",
            "language": "sql",
            "name": "SQL"
        },
        "language_info": {
            "name": "sql",
            "version": ""
        }
    },
    "nbformat": 4,
    "nbformat_minor": 2
}
