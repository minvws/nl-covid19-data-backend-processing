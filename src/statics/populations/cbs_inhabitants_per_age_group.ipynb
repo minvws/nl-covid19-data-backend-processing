{
    "cells": [
        {
            "cell_type": "markdown",
            "metadata": {
                "azdata_cell_guid": "a1bff903-eb61-4e65-82a1-c4e918bbcac8"
            },
            "source": [
                "# **INTRODUCTIONS**\n",
                "\n",
                "---\n",
                "\n",
                "The code is separated into multiple sections:\n",
                "\n",
                "1. **[Tables](#tables)**"
            ]
        },
        {
            "cell_type": "markdown",
            "metadata": {},
            "source": [
                "# **DEPENDENCIES**\n",
                "\n",
                "---\n",
                "\n",
                "```json\n",
                "{\n",
                "    \"depends-on\": [\n",
                "        \"src/utils/schemas.ipynb\"\n",
                "    ]\n",
                "}\n",
                "```"
            ]
        },
        {
            "cell_type": "markdown",
            "metadata": {
                "azdata_cell_guid": "b883932e-c47b-4de6-9629-eca0ff8aeabb"
            },
            "source": [
                "# **TABLES**\n",
                "\n",
                "---"
            ]
        },
        {
            "cell_type": "markdown",
            "metadata": {},
            "source": [
                "### STAGINGS"
            ]
        },
        {
            "cell_type": "code",
            "execution_count": null,
            "metadata": {},
            "outputs": [],
            "source": [
                "-- COPYRIGHT (C) 2020 DE STAAT DER NEDERLANDEN, MINISTERIE VAN   VOLKSGEZONDHEID, WELZIJN EN SPORT.\n",
                "-- LICENSED UNDER THE EUROPEAN UNION PUBLIC LICENCE V. 1.2 - SEE HTTPS://GITHUB.COM/MINVWS/NL-CONTACT-TRACING-APP-COORDINATIONFOR MORE INFORMATION.\n",
                "\n",
                "SET ANSI_NULLS ON\n",
                "GO\n",
                "\n",
                "SET QUOTED_IDENTIFIER ON\n",
                "GO\n",
                "\n",
                "-- 1) CREATE STAGE SEQUENCE(S).....\n",
                "IF NOT EXISTS(SELECT * FROM SYS.SEQUENCES WHERE [OBJECT_ID] = OBJECT_ID(N'[DBO].[SEQ_VWSSTAGE_CBS_INHABITANTS_PER_AGEGROUP]') AND [TYPE] = 'SO')\n",
                "CREATE SEQUENCE [SEQ_VWSSTAGE_CBS_INHABITANTS_PER_AGEGROUP]\n",
                "    START WITH 1\n",
                "    INCREMENT BY 1;\n",
                "GO\n",
                "\n",
                "-- 2) CREATE STAGE TABLE(S).....\n",
                "IF NOT EXISTS(SELECT * FROM SYS.TABLES WHERE [OBJECT_ID] = OBJECT_ID(N'[VWSSTAGE].[CBS_INHABITANTS_PER_AGEGROUP]'))\n",
                "CREATE TABLE [VWSSTAGE].[CBS_INHABITANTS_PER_AGEGROUP](\n",
                "    [STAGE_ID] INT PRIMARY KEY NOT NULL DEFAULT (NEXT VALUE FOR [DBO].[SEQ_VWSSTAGE_CBS_INHABITANTS_PER_AGEGROUP]),\n",
                "    [ID] VARCHAR(100),\n",
                "\t[GESLACHT] VARCHAR(100),\n",
                "\t[LEEFTIJD] VARCHAR(100),\n",
                "\t[BURGERLIJKESTAAT] VARCHAR(100),\n",
                "\t[REGIOS] VARCHAR(100),\n",
                "\t[PERIODEN] VARCHAR(100),\n",
                "    [BEVOLKINGOP1JANUARI_1] VARCHAR(100),\n",
                "\t[GEMIDDELDEBEVOLKING_2] VARCHAR(100),\n",
                "\t[DATE_LAST_INSERTED] DATETIME DEFAULT GETDATE()\n",
                ");\n",
                "GO"
            ]
        },
        {
            "cell_type": "markdown",
            "metadata": {},
            "source": [
                "### STATICS"
            ]
        },
        {
            "cell_type": "code",
            "execution_count": null,
            "metadata": {},
            "outputs": [],
            "source": [
                "-- COPYRIGHT (C) 2020 DE STAAT DER NEDERLANDEN, MINISTERIE VAN   VOLKSGEZONDHEID, WELZIJN EN SPORT.\n",
                "-- LICENSED UNDER THE EUROPEAN UNION PUBLIC LICENCE V. 1.2 - SEE HTTPS://GITHUB.COM/MINVWS/NL-CONTACT-TRACING-APP-COORDINATIONFOR MORE INFORMATION.\n",
                "\n",
                "SET ANSI_NULLS ON\n",
                "GO\n",
                "\n",
                "SET QUOTED_IDENTIFIER ON\n",
                "GO\n",
                "\n",
                "-- 1) CREATE STATIC SEQUENCE(S).....\n",
                "IF NOT EXISTS(SELECT * FROM SYS.SEQUENCES WHERE [OBJECT_ID] = OBJECT_ID(N'[DBO].[SEQ_VWSSTATIC_CBS_INHABITANTS_PER_AGEGROUP]') AND [TYPE] = 'SO')\n",
                "CREATE SEQUENCE [SEQ_VWSSTATIC_CBS_INHABITANTS_PER_AGEGROUP]\n",
                "    START WITH 1\n",
                "    INCREMENT BY 1;\n",
                "GO\n",
                "\n",
                "-- 2) CREATE STATIC TABLE(S).....\n",
                "IF NOT EXISTS(SELECT * FROM SYS.TABLES WHERE [OBJECT_ID] = OBJECT_ID(N'[VWSSTATIC].[CBS_INHABITANTS_PER_AGEGROUP]'))\n",
                "CREATE TABLE [VWSSTATIC].[CBS_INHABITANTS_PER_AGEGROUP] (\n",
                "    [ID] INT PRIMARY KEY NOT NULL DEFAULT (NEXT VALUE FOR [DBO].[SEQ_VWSSTATIC_CBS_INHABITANTS_PER_AGEGROUP]),\n",
                "    [GESLACHT] VARCHAR(10),\n",
                "\t[LEEFTIJD] VARCHAR(10),\n",
                "\t[BURGERLIJKESTAAT] VARCHAR(10),\n",
                "\t[REGIOS] VARCHAR(10),\n",
                "\t[PERIODEN] VARCHAR(10),\n",
                "    [BEVOLKINGOP1JANUARI_1] BIGINT,\n",
                "\t[GEMIDDELDEBEVOLKING_2] BIGINT,\n",
                "\t[DATE_LAST_INSERTED] DATETIME DEFAULT GETDATE()\n",
                ");\n",
                "GO\n",
                "\n",
                "-- 2.1) ALTER STATIC TABLE(S).....\n",
                "ALTER TABLE [VWSSTATIC].[CBS_INHABITANTS_PER_AGEGROUP]\n",
                "    ALTER COLUMN [GEMIDDELDEBEVOLKING_2] FLOAT;\n",
                "GO"
            ]
        },
        {
            "cell_type": "markdown",
            "metadata": {},
            "source": [
                "# **STORED PROCEDURES**\n",
                "\n",
                "---"
            ]
        },
        {
            "cell_type": "markdown",
            "metadata": {},
            "source": [
                "### STAGE &rarr; STATIC MAPPING"
            ]
        },
        {
            "cell_type": "code",
            "execution_count": null,
            "metadata": {},
            "outputs": [],
            "source": [
                "-- COPYRIGHT (C) 2020 DE STAAT DER NEDERLANDEN, MINISTERIE VAN   VOLKSGEZONDHEID, WELZIJN EN SPORT. \n",
                "-- LICENSED UNDER THE EUROPEAN UNION PUBLIC LICENCE V. 1.2 - SEE HTTPS://GITHUB.COM/MINVWS/NL-CONTACT-TRACING-APP-COORDINATIONFOR MORE INFORMATION.\n",
                "\n",
                "CREATE OR ALTER PROCEDURE [DBO].[SP_INHABITANTS_PER_AGEGROUP]\n",
                "AS\n",
                "BEGIN\n",
                "    INSERT INTO [VWSSTATIC].[CBS_INHABITANTS_PER_AGEGROUP]\n",
                "    (\n",
                "\t\t[GESLACHT], \n",
                "\t\t[LEEFTIJD], \n",
                "\t\t[BURGERLIJKESTAAT], \n",
                "\t\t[REGIOS], \n",
                "\t\t[PERIODEN], \n",
                "\t\t[BEVOLKINGOP1JANUARI_1], \n",
                "\t\t[GEMIDDELDEBEVOLKING_2]\n",
                "\t)\n",
                "    SELECT\n",
                "        [GESLACHT],\n",
                "        [LEEFTIJD],\n",
                "        [BURGERLIJKESTAAT],\n",
                "        [REGIOS],\n",
                "        [PERIODEN],\n",
                "        [BEVOLKINGOP1JANUARI_1],\n",
                "        CAST([GEMIDDELDEBEVOLKING_2] AS FLOAT)\n",
                "    FROM [VWSSTAGE].[CBS_INHABITANTS_PER_AGEGROUP]\n",
                "    WHERE [DATE_LAST_INSERTED] = (SELECT MAX([DATE_LAST_INSERTED]) FROM [VWSSTAGE].[CBS_INHABITANTS_PER_AGEGROUP])\n",
                "END;\n",
                "GO\n"
            ]
        }
    ],
    "metadata": {
        "kernelspec": {
            "display_name": "SQL",
            "language": "sql",
            "name": "SQL"
        },
        "language_info": {
            "name": "sql",
            "version": ""
        }
    },
    "nbformat": 4,
    "nbformat_minor": 2
}
