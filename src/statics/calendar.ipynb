{
    "cells": [
        {
            "cell_type": "markdown",
            "metadata": {
                "azdata_cell_guid": "a1bff903-eb61-4e65-82a1-c4e918bbcac8"
            },
            "source": [
                "# **INTRODUCTIONS**\n",
                "\n",
                "---\n",
                "\n",
                "The code is separated into multiple sections:\n",
                "\n",
                "1. **[Tables](#tables)**"
            ]
        },
        {
            "cell_type": "markdown",
            "metadata": {},
            "source": [
                "# **DEPENDENCIES**\n",
                "\n",
                "---\n",
                "\n",
                "```json\n",
                "{\n",
                "    \"depends-on\": [\n",
                "        \"src/utils/schemas.ipynb\"\n",
                "    ]\n",
                "}\n",
                "```"
            ]
        },
        {
            "cell_type": "markdown",
            "metadata": {
                "azdata_cell_guid": "b883932e-c47b-4de6-9629-eca0ff8aeabb"
            },
            "source": [
                "# **TABLES**\n",
                "\n",
                "---"
            ]
        },
        {
            "cell_type": "markdown",
            "metadata": {},
            "source": [
                "### STAGES\n",
                "\n",
                "**<a style=\"color:red\">This table is not yet used!</a>**"
            ]
        },
        {
            "cell_type": "code",
            "execution_count": null,
            "metadata": {},
            "outputs": [],
            "source": [
                "-- COPYRIGHT (C) 2020 DE STAAT DER NEDERLANDEN, MINISTERIE VAN   VOLKSGEZONDHEID, WELZIJN EN SPORT.\n",
                "-- LICENSED UNDER THE EUROPEAN UNION PUBLIC LICENCE V. 1.2 - SEE HTTPS://GITHUB.COM/MINVWS/NL-CONTACT-TRACING-APP-COORDINATIONFOR MORE INFORMATION.\n",
                "\n",
                "SET ANSI_NULLS ON\n",
                "GO\n",
                "\n",
                "SET QUOTED_IDENTIFIER ON\n",
                "GO\n",
                "\n",
                "-- 1) CREATE STAGE SEQUENCE(S).....\n",
                "IF NOT EXISTS(SELECT * FROM SYS.SEQUENCES WHERE [OBJECT_ID] = OBJECT_ID(N'[DBO].[SEQ_VWSSTAGE_CALENDAR]') AND [TYPE] = 'SO')\n",
                "CREATE SEQUENCE [SEQ_VWSSTAGE_CALENDAR]\n",
                "  START WITH 1\n",
                "  INCREMENT BY 1;\n",
                "GO\n",
                "\n",
                "-- 2) CREATE STATIC TABLE(S).....\n",
                "DROP TABLE IF EXISTS [VWSSTAGE].[CALENDAR]\n",
                "GO\n",
                "\n",
                "CREATE TABLE [VWSSTAGE].[CALENDAR] (\n",
                "  [ID] [INT] PRIMARY KEY NOT NULL DEFAULT (NEXT VALUE FOR [DBO].[SEQ_VWSSTAGE_CALENDAR]),\n",
                "  [DAY] [DATE]\n",
                ");\n",
                "GO"
            ]
        },
        {
            "cell_type": "markdown",
            "metadata": {},
            "source": [
                "### STATICS"
            ]
        },
        {
            "cell_type": "code",
            "execution_count": null,
            "metadata": {},
            "outputs": [],
            "source": [
                "-- COPYRIGHT (C) 2020 DE STAAT DER NEDERLANDEN, MINISTERIE VAN   VOLKSGEZONDHEID, WELZIJN EN SPORT.\n",
                "-- LICENSED UNDER THE EUROPEAN UNION PUBLIC LICENCE V. 1.2 - SEE HTTPS://GITHUB.COM/MINVWS/NL-CONTACT-TRACING-APP-COORDINATIONFOR MORE INFORMATION.\n",
                "\n",
                "SET ANSI_NULLS ON\n",
                "GO\n",
                "\n",
                "SET QUOTED_IDENTIFIER ON\n",
                "GO\n",
                "\n",
                "-- 1) CREATE STATIC SEQUENCE(S).....\n",
                "IF NOT EXISTS(SELECT * FROM SYS.SEQUENCES WHERE [OBJECT_ID] = OBJECT_ID(N'[DBO].[SEQ_VWSSTATIC_CALENDAR]') AND [TYPE] = 'SO')\n",
                "CREATE SEQUENCE [SEQ_VWSSTATIC_CALENDAR]\n",
                "  START WITH 1\n",
                "  INCREMENT BY 1;\n",
                "GO\n",
                "\n",
                "-- 2) CREATE STATIC TABLE(S).....\n",
                "IF NOT EXISTS(SELECT * FROM SYS.TABLES WHERE [OBJECT_ID] = OBJECT_ID(N'[VWSSTATIC].[CALENDAR]'))\n",
                "CREATE TABLE [VWSSTATIC].[CALENDAR] (\n",
                "  [ID] [INT] PRIMARY KEY NOT NULL DEFAULT (NEXT VALUE FOR [DBO].[SEQ_VWSSTATIC_CALENDAR]),\n",
                "  [DAY] [DATE]\n",
                ");\n",
                "GO"
            ]
        }
    ],
    "metadata": {
        "kernelspec": {
            "display_name": "SQL",
            "language": "sql",
            "name": "SQL"
        },
        "language_info": {
            "name": "sql",
            "version": ""
        }
    },
    "nbformat": 4,
    "nbformat_minor": 2
}
