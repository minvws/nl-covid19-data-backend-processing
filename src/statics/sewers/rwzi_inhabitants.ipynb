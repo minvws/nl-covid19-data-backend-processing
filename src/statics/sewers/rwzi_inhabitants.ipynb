{
    "cells": [
        {
            "cell_type": "markdown",
            "metadata": {
                "azdata_cell_guid": "a1bff903-eb61-4e65-82a1-c4e918bbcac8"
            },
            "source": [
                "```sql\n",
                "-- COPYRIGHT (C) 2020 DE STAAT DER NEDERLANDEN, MINISTERIE VAN   VOLKSGEZONDHEID, WELZIJN EN SPORT.\n",
                "-- LICENSED UNDER THE EUROPEAN UNION PUBLIC LICENCE V. 1.2 - SEE HTTPS://GITHUB.COM/MINVWS/NL-CONTACT-TRACING-APP-COORDINATIONFOR MORE INFORMATION.\n",
                "```\n",
                "\n",
                "# **INTRODUCTIONS**\n",
                "\n",
                "---\n",
                "\n",
                "The code is separated into multiple sections:\n",
                "\n",
                "1. **[Dependencies](#dependencies)**\n",
                "2. **[Tables](#tables)**\n",
                "3. **[Stored Procedures](#stored-procedures)**"
            ]
        },
        {
            "cell_type": "markdown",
            "metadata": {},
            "source": [
                "# **DEPENDENCIES**\n",
                "\n",
                "---\n",
                "\n",
                "```json\n",
                "{\n",
                "    \"depends-on\": [\n",
                "        \"src/utils/schemas.ipynb\"\n",
                "    ]\n",
                "}\n",
                "```"
            ]
        },
        {
            "cell_type": "markdown",
            "metadata": {
                "azdata_cell_guid": "b883932e-c47b-4de6-9629-eca0ff8aeabb"
            },
            "source": [
                "# **TABLES**\n",
                "\n",
                "---"
            ]
        },
        {
            "cell_type": "markdown",
            "metadata": {},
            "source": [
                "### STAGINGS"
            ]
        },
        {
            "cell_type": "code",
            "execution_count": null,
            "metadata": {},
            "outputs": [],
            "source": [
                "-- SET ANSI_NULLS ON\n",
                "-- GO\n",
                "\n",
                "-- SET QUOTED_IDENTIFIER ON\n",
                "-- GO\n",
                "\n",
                "-- -- 1) CREATE TABLE(S).....\n",
                "-- IF NOT EXISTS(SELECT * FROM SYS.TABLES WHERE [OBJECT_ID] = OBJECT_ID(N'[VWSSTAGE].[RWZI_AWZI]'))\n",
                "-- CREATE TABLE [VWSSTAGE].[RWZI_AWZI] (\n",
                "-- \t[ID] [BIGINT] PRIMARY KEY IDENTITY(1,1),\n",
                "-- \t[RWZI_AWZI_CODE] [VARCHAR](100) NULL,\n",
                "-- \t[RWZI_AWZI_NAME] [VARCHAR](100) NULL,\n",
                "-- \t[DATE_LAST_INSERTED] [DATETIME] DEFAULT GETDATE()\n",
                "-- );\n",
                "-- GO"
            ]
        },
        {
            "cell_type": "markdown",
            "metadata": {},
            "source": [
                "### STATICS"
            ]
        },
        {
            "cell_type": "code",
            "execution_count": null,
            "metadata": {},
            "outputs": [],
            "source": [
                "-- Copyright (c) 2020 De Staat der Nederlanden, Ministerie van   Volksgezondheid, Welzijn en Sport.\n",
                "-- Licensed under the EUROPEAN UNION PUBLIC LICENCE v. 1.2 - see https://github.com/minvws/nl-contact-tracing-app-coordinationfor more information.\n",
                "IF NOT EXISTS(SELECT * FROM sys.sequences WHERE object_id = OBJECT_ID(N'[dbo].[SEQ_VWSSTATIC_RWZI_INHIBITANTS]') AND type = 'SO')\n",
                "CREATE SEQUENCE SEQ_VWSSTATIC_RWZI_INHIBITANTS\n",
                "  START WITH 1\n",
                "  INCREMENT BY 1;\n",
                "GO\n",
                "\n",
                "IF NOT EXISTS(SELECT * FROM SYS.TABLES WHERE [OBJECT_ID] = OBJECT_ID(N'[VWSSTATIC].[RWZI_INHIBITANTS_2021]'))\n",
                "CREATE TABLE VWSSTATIC.RWZI_INHIBITANTS_2021(\n",
                "    [ID] INT PRIMARY KEY NOT NULL DEFAULT (NEXT VALUE FOR [dbo].[SEQ_VWSSTATIC_RWZI_INHIBITANTS]),\n",
                "    [CODE_RWZI] VARCHAR(100) NULL,\n",
                "    [NAME_RWZI] VARCHAR(100) NULL,\n",
                "    [INHABITANTS] INT NULL,\n",
                "\t[GEBIEDSCODE] VARCHAR(100) NULL,\n",
                "    [PERCENTAGE] DECIMAL(12,2) NULL,\n",
                "    [DATE_LAST_INSERTED]  DATETIME DEFAULT GETDATE()\n",
                ");\n"
            ]
        },
        {
            "cell_type": "markdown",
            "metadata": {},
            "source": [
                "# **STORED PROCEDURES**\n",
                "\n",
                "---"
            ]
        },
        {
            "cell_type": "markdown",
            "metadata": {},
            "source": [
                "### STAGE &rarr; STATIC MAPPING"
            ]
        },
        {
            "cell_type": "code",
            "execution_count": null,
            "metadata": {},
            "outputs": [],
            "source": [
                "-- CREATE OR ALTER PROCEDURE [DBO].[SP_SEWER_MEASUREMENTS_PER_RWZI]\n",
                "-- AS\n",
                "-- BEGIN\n",
                "--     INSERT INTO [VWSSTATIC].[RWZI_AWZI] (        \n",
                "--         [RWZI_AWZI_CODE],\n",
                "--         [RWZI_AWZI_NAME]\n",
                "--     )\n",
                "--     SELECT\n",
                "--         [RWZI_AWZI_CODE],\n",
                "--         [RWZI_AWZI_NAME]\n",
                "--     FROM [VWSSTAGE].[RWZI_AWZI]\n",
                "--     WHERE [DATE_LAST_INSERTED] = (SELECT MAX([DATE_LAST_INSERTED]) FROM [VWSSTAGE].[RWZI_AWZI] WITH(NOLOCK))\n",
                "-- END;\n",
                "-- GO"
            ]
        }
    ],
    "metadata": {
        "kernelspec": {
            "display_name": "SQL",
            "language": "sql",
            "name": "SQL"
        },
        "language_info": {
            "name": "sql",
            "version": ""
        }
    },
    "nbformat": 4,
    "nbformat_minor": 2
}
