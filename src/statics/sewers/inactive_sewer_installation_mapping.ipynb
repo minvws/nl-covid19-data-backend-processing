{
    "cells": [
        {
            "cell_type": "markdown",
            "metadata": {
                "azdata_cell_guid": "a1bff903-eb61-4e65-82a1-c4e918bbcac8"
            },
            "source": [
                "# **INTRODUCTIONS**\n",
                "\n",
                "---\n",
                "\n",
                "The code is separated into multiple sections:\n",
                "\n",
                "1. **[Tables](#tables)**"
            ]
        },
        {
            "cell_type": "markdown",
            "metadata": {},
            "source": [
                "# **DEPENDENCIES**\n",
                "\n",
                "---\n",
                "\n",
                "```json\n",
                "{\n",
                "    \"depends-on\": [\n",
                "        \"src/utils/schemas.ipynb\"\n",
                "    ]\n",
                "}\n",
                "```"
            ]
        },
        {
            "cell_type": "markdown",
            "metadata": {
                "azdata_cell_guid": "b883932e-c47b-4de6-9629-eca0ff8aeabb"
            },
            "source": [
                "# **TABLES**\n",
                "\n",
                "---"
            ]
        },
        {
            "cell_type": "markdown",
            "metadata": {},
            "source": [
                "### STATICS"
            ]
        },
        {
            "cell_type": "code",
            "execution_count": null,
            "metadata": {
                "dotnet_interactive": {
                    "language": "sql"
                },
                "vscode": {
                    "languageId": "dotnet-interactive.sql"
                }
            },
            "outputs": [],
            "source": [
                "-- COPYRIGHT (C) 2020 DE STAAT DER NEDERLANDEN, MINISTERIE VAN VOLKSGEZONDHEID, WELZIJN EN SPORT.\n",
                "-- LICENSED UNDER THE EUROPEAN UNION PUBLIC LICENCE V. 1.2 - SEE HTTPS://GITHUB.COM/MINVWS/NL-CONTACT-TRACING-APP-COORDINATION FOR MORE INFORMATION.\n",
                "\n",
                "SET ANSI_NULLS ON\n",
                "GO\n",
                "\n",
                "SET QUOTED_IDENTIFIER ON\n",
                "GO\n",
                "\n",
                "-- 1) CREATE TABLE(S).....\n",
                "DROP TABLE IF EXISTS [VWSSTATIC].[INACTIVE_SEWER_INSTALLATION_MAPPING];\n",
                "GO\n",
                "\n",
                "CREATE TABLE [VWSSTATIC].[INACTIVE_SEWER_INSTALLATION_MAPPING]\n",
                "(\n",
                "    [ID] [INT] PRIMARY KEY IDENTITY(1,1),\n",
                "    [RWZI_CODE] [INT] NOT NULL,\n",
                "    [RWZI_NAME] [VARCHAR](256) NULL,\n",
                "    [ACTIVE] [BIT] NOT NULL\n",
                ");\n",
                "GO\n",
                "\n",
                "-- 2) CREATE INDEX(ES).....\n",
                "CREATE NONCLUSTERED INDEX [NCIX_RWZI_CODE_AND_NAME] ON [VWSSTATIC].[INACTIVE_SEWER_INSTALLATION_MAPPING] (\n",
                "    [RWZI_CODE],\n",
                "    [RWZI_NAME]\n",
                ") WITH (STATISTICS_NORECOMPUTE = OFF, DROP_EXISTING = OFF, ONLINE = OFF, OPTIMIZE_FOR_SEQUENTIAL_KEY = OFF) ON [PRIMARY];\n",
                "GO\n",
                "\n",
                "INSERT INTO [VWSSTATIC].[INACTIVE_SEWER_INSTALLATION_MAPPING] (\n",
                "    [RWZI_CODE],\n",
                "    [RWZI_NAME],\n",
                "    [ACTIVE]\n",
                ")\n",
                "VALUES\n",
                "    (14002,'Woerden', 0)\n",
                "GO\n",
                "\n",
                "SET IDENTITY_INSERT [VWSSTATIC].[INACTIVE_SEWER_INSTALLATION_MAPPING] OFF;\n",
                "GO\n"
            ]
        },
        {
            "cell_type": "markdown",
            "metadata": {},
            "source": [
                "### Add extra record"
            ]
        },
        {
            "cell_type": "code",
            "execution_count": null,
            "metadata": {
                "dotnet_interactive": {
                    "language": "sql"
                },
                "vscode": {
                    "languageId": "dotnet-interactive.sql"
                }
            },
            "outputs": [],
            "source": [
                "IF NOT EXISTS (SELECT * FROM  [VWSSTATIC].[INACTIVE_SEWER_INSTALLATION_MAPPING] \n",
                "    WHERE RWZI_CODE = 12016 )\n",
                "BEGIN\n",
                "INSERT INTO [VWSSTATIC].[INACTIVE_SEWER_INSTALLATION_MAPPING]  (RWZI_CODE,RWZI_NAME, ACTIVE)\n",
                "VALUES  (12016 ,'Katwoude', 0)\n",
                "END"
            ]
        }
    ],
    "metadata": {
        "kernelspec": {
            "display_name": ".NET (C#)",
            "language": "C#",
            "name": ".net-csharp"
        },
        "language_info": {
            "file_extension": ".cs",
            "mimetype": "text/x-csharp",
            "name": "C#",
            "pygments_lexer": "csharp",
            "version": "9.0"
        }
    },
    "nbformat": 4,
    "nbformat_minor": 2
}
