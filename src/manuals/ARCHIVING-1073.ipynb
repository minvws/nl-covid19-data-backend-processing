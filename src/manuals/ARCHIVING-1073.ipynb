{
    "cells": [
        {
            "cell_type": "markdown",
            "metadata": {
                "azdata_cell_guid": "a1bff903-eb61-4e65-82a1-c4e918bbcac8"
            },
            "source": [
                "# **INTRODUCTIONS**\n",
                "\n",
                "---\n",
                "\n",
                "Used for exceptional processes.\n",
                "\n",
                "The code is separated into multiple sections:\n",
                "\n",
                "1. **[VACCINE_COVERAGE_PER_AGE_GROUP_ARCHIVED_20220908](#VACCINE_COVERAGE_PER_AGE_GROUP_ARCHIVED_20220908)**\n",
                "2. **[xxxx](#xxxx)**"
            ]
        },
        {
            "cell_type": "markdown",
            "metadata": {
                "azdata_cell_guid": "5f7eda1c-d087-4bbd-8504-802228776c0d"
            },
            "source": [
                "# **DEPENDENCIES**\n",
                "\n",
                "---\n",
                "\n",
                "```json\n",
                "{\n",
                "    \"depends-on\": [\n",
                "        \"src/utils/schemas.ipynb\",\n",
                "        \"src/utils/conversions.ipynb\",\n",
                "        \"src/utils/protos.ipynb\"\n",
                "    ]\n",
                "}\n",
                "```"
            ]
        },
        {
            "cell_type": "markdown",
            "metadata": {},
            "source": [
                "# **VACCINE_COVERAGE_PER_AGE_GROUP_ARCHIVED_20220908**\n",
                "\n",
                "---"
            ]
        },
        {
            "cell_type": "markdown",
            "metadata": {},
            "source": [
                "table"
            ]
        },
        {
            "cell_type": "code",
            "execution_count": null,
            "metadata": {
                "dotnet_interactive": {
                    "language": "sql"
                },
                "vscode": {
                    "languageId": "dotnet-interactive.sql"
                }
            },
            "outputs": [],
            "source": [
                "SET ANSI_NULLS ON\n",
                "GO\n",
                "\n",
                "SET QUOTED_IDENTIFIER ON\n",
                "GO\n",
                "\n",
                "-- 1) CREATE TABLE(S).....\n",
                "IF NOT EXISTS(SELECT * FROM SYS.TABLES WHERE [OBJECT_ID] = OBJECT_ID(N'[VWSARCHIVE].[CIMS_VACCINATED_PER_AGE_GROUP_ARCHIVED_20220908]'))\n",
                "CREATE TABLE [VWSARCHIVE].[CIMS_VACCINATED_PER_AGE_GROUP_ARCHIVED_20220908](\n",
                "\t[ID] [BIGINT] PRIMARY KEY IDENTITY(1,1),\n",
                "  [DATE_OF_REPORT] DATETIME NULL,\n",
                "  [DATE_OF_STATISTICS_WEEK_START] DATETIME NULL,\n",
                "  [DATE_OF_STATISTICS_WEEK_END] DATETIME NULL,\n",
                "  [AGE_GROUP] VARCHAR(100) NULL,\n",
                "  [AGE_GROUP_POPULATION] BIGINT NULL,\n",
                "  [AGE_GROUP_POPULATION_PERCENTAGE] DECIMAL(16,2) NULL,\n",
                "  [VACCINATION_ALL] BIGINT NULL,\n",
                "  [VACCINATION_COMPLETED] BIGINT NULL,\n",
                "  [VACCINATED_PARTIALLY] BIGINT NULL,\n",
                "  [VACCINATION_COVERAGE_ALL] DECIMAL(16,2) NULL,\n",
                "  [VACCINATED_COVERAGE_PARTIALLY] DECIMAL(16,2) NULL,\n",
                "  [VACCINATION_COVERAGE_COMPLETED] DECIMAL(16,2) NULL,\n",
                "  [DATE_LAST_INSERTED] DATETIME DEFAULT GETDATE(),\n",
                "  [BIRTH_COHORT] VARCHAR(100) NULL\n",
                ");\n",
                "GO\n",
                "\n",
                "-- 2) CREATE INDEX(ES).....\n",
                "DROP INDEX IF EXISTS [NCIX_DLI_DOS_AG_CIMS_VACCINATED_PER_AGE_GROUP_ARCHIVED_20220908] \n",
                "  ON [VWSARCHIVE].[CIMS_VACCINATED_PER_AGE_GROUP_ARCHIVED_20220908]\n",
                "GO\n",
                "\n",
                "CREATE NONCLUSTERED INDEX [NCIX_DLI_DOS_AG_CIMS_VACCINATED_PER_AGE_GROUP_ARCHIVED_20220908] \n",
                "  ON [VWSARCHIVE].[CIMS_VACCINATED_PER_AGE_GROUP_ARCHIVED_20220908] (\n",
                "    [DATE_LAST_INSERTED], \n",
                "    [DATE_OF_STATISTICS_WEEK_START], \n",
                "    [DATE_OF_STATISTICS_WEEK_END], \n",
                "    [AGE_GROUP]\n",
                "  );\n",
                "GO"
            ]
        },
        {
            "cell_type": "markdown",
            "metadata": {},
            "source": [
                "table 2"
            ]
        },
        {
            "cell_type": "code",
            "execution_count": null,
            "metadata": {
                "dotnet_interactive": {
                    "language": "sql"
                },
                "vscode": {
                    "languageId": "dotnet-interactive.sql"
                }
            },
            "outputs": [],
            "source": [
                "-- COPYRIGHT (C) 2020 DE STAAT DER NEDERLANDEN, MINISTERIE VAN VOLKSGEZONDHEID, WELZIJN EN SPORT.\n",
                "-- LICENSED UNDER THE EUROPEAN UNION PUBLIC LICENCE V. 1.2 - SEE HTTPS://GITHUB.COM/MINVWS/NL-CONTACT-TRACING-APP-COORDINATION FOR MORE INFORMATION.\n",
                "\n",
                "SET ANSI_NULLS ON\n",
                "GO\n",
                "\n",
                "SET QUOTED_IDENTIFIER ON\n",
                "GO\n",
                "\n",
                "-- 1) CREATE TABLE(S).....\n",
                "IF NOT EXISTS(SELECT * FROM SYS.TABLES WHERE [OBJECT_ID] = OBJECT_ID(N'[VWSARCHIVE].[RIVM_VACCINATIONS_BOOSTER_SHOTS_COVERAGE_NL_ARCHIVED_20220908]'))\n",
                "BEGIN\n",
                "    CREATE TABLE [VWSARCHIVE].[RIVM_VACCINATIONS_BOOSTER_SHOTS_COVERAGE_NL_ARCHIVED_20220908] (\n",
                "        [ID] [INT] PRIMARY KEY IDENTITY(1,1),\n",
                "        [DATE_LAST_INSERTED] [DATETIME] NOT NULL DEFAULT GETDATE(),\n",
                "        [VERSION] [INT] NULL,\n",
                "        [DATE_OF_REPORT] [DATETIME] NULL,\n",
                "        [DATE_OF_STATISTICS] [DATETIME] NULL,\n",
                "        [AGE_GROUP] [VARCHAR] (256) NULL,\n",
                "        [POPULATION_AGEGROUP] [INT] NULL,\n",
                "        [BASE_SERIES] [VARCHAR](256) NULL,\n",
                "        [BOOSTER1] [VARCHAR](256) NULL,\n",
                "        [AMOUNT_CUMULATIVE] [INT] NULL,\n",
                "        [COVERAGE_AGEGROUP] [NUMERIC](10,2) NULL,\n",
                "        [COVERAGE_TO_BASE_SERIES] [NUMERIC](10,2) NULL\n",
                "    );\n",
                "END\n",
                "GO\n",
                "\n",
                "-- 2) CREATE INDEX(ES).....\n",
                "DROP INDEX IF EXISTS [NCIX_RIVM_VACCINATIONS_BOOSTER_SHOTS_COVERAGE_NL_ARCHIVED_20220908]\n",
                "    ON [VWSDEST].[RIVM_VACCINATIONS_BOOSTER_SHOTS_COVERAGE_NL_ARCHIVED_20220908]\n",
                "GO\n",
                "\n",
                "CREATE NONCLUSTERED INDEX [NCIX_RIVM_VACCINATIONS_BOOSTER_SHOTS_COVERAGE_NL_ARCHIVED_20220908] \n",
                "ON [VWSDEST].[RIVM_VACCINATIONS_BOOSTER_SHOTS_COVERAGE_NL_ARCHIVED_20220908] (\n",
                "    [DATE_LAST_INSERTED] ASC\n",
                ")WITH (STATISTICS_NORECOMPUTE = OFF, DROP_EXISTING = OFF, ONLINE = OFF, OPTIMIZE_FOR_SEQUENTIAL_KEY = OFF) ON [PRIMARY]\n",
                "GO"
            ]
        },
        {
            "cell_type": "markdown",
            "metadata": {},
            "source": [
                "stored procedure"
            ]
        },
        {
            "cell_type": "code",
            "execution_count": null,
            "metadata": {
                "dotnet_interactive": {
                    "language": "sql"
                },
                "vscode": {
                    "languageId": "dotnet-interactive.sql"
                }
            },
            "outputs": [],
            "source": [
                "-- Hiervoor eenmalig een query runnen die dit INTO een VWSARCHIVE tabel schrijft\n",
                "-- met als extensie 20220908 en die filtert op de datum 2022-0908\n",
                "\n",
                "\n",
                "-- 1) CREATE STORED PROCEDURE(S): ARCHIVE EXISTING DATA\n",
                "CREATE OR ALTER PROCEDURE [DBO].[SP_CIMS_VACCINATED_PER_AGE_GROUP_DEST_TO_ARCHIVED_20220908]\n",
                "AS\n",
                "BEGIN\n",
                "TRUNCATE TABLE [VWSARCHIVE].[CIMS_VACCINATED_PER_AGE_GROUP_ARCHIVED_20220908]\n",
                "\n",
                "    INSERT INTO [VWSARCHIVE].[CIMS_VACCINATED_PER_AGE_GROUP_ARCHIVED_20220908] (        \n",
                "        [DATE_OF_REPORT],\n",
                "        [DATE_OF_STATISTICS_WEEK_START],\n",
                "        [DATE_OF_STATISTICS_WEEK_END],\n",
                "        [AGE_GROUP],\n",
                "        [AGE_GROUP_POPULATION],\n",
                "        [AGE_GROUP_POPULATION_PERCENTAGE],\n",
                "        [VACCINATION_ALL],\n",
                "        [VACCINATION_COMPLETED],\n",
                "        [VACCINATED_PARTIALLY],\n",
                "        [VACCINATION_COVERAGE_ALL],\n",
                "        [VACCINATED_COVERAGE_PARTIALLY],\n",
                "        [VACCINATION_COVERAGE_COMPLETED],\n",
                "        [DATE_LAST_INSERTED],\n",
                "        [BIRTH_COHORT]\n",
                "    )\n",
                "    SELECT \n",
                "        [DATE_OF_REPORT],\n",
                "        [DATE_OF_STATISTICS_WEEK_START],\n",
                "        [DATE_OF_STATISTICS_WEEK_END],\n",
                "        [AGE_GROUP],\n",
                "        [AGE_GROUP_POPULATION],\n",
                "        [AGE_GROUP_POPULATION_PERCENTAGE],\n",
                "        [VACCINATION_ALL],\n",
                "        [VACCINATION_COMPLETED],\n",
                "        [VACCINATED_PARTIALLY],\n",
                "        [VACCINATION_COVERAGE_ALL],\n",
                "        [VACCINATED_COVERAGE_PARTIALLY],\n",
                "        [VACCINATION_COVERAGE_COMPLETED],\n",
                "        [DATE_LAST_INSERTED],\n",
                "        [BIRTH_COHORT]\n",
                "    FROM [VWSDEST].[CIMS_VACCINATED_AGE_GROUP] WITH(NOLOCK)\n",
                "    WHERE [DATE_LAST_INSERTED] = (SELECT MAX([DATE_LAST_INSERTED]) FROM [VWSDEST].[CIMS_VACCINATED_AGE_GROUP])\n",
                "END;\n",
                "GO"
            ]
        },
        {
            "cell_type": "markdown",
            "metadata": {},
            "source": [
                "stored procedure 2"
            ]
        },
        {
            "cell_type": "code",
            "execution_count": null,
            "metadata": {
                "dotnet_interactive": {
                    "language": "sql"
                },
                "vscode": {
                    "languageId": "dotnet-interactive.sql"
                }
            },
            "outputs": [],
            "source": [
                "-- Hiervoor eenmalig een query runnen die dit INTO een VWSARCHIVE tabel schrijft\n",
                "-- met als extensie 20220908 en die filtert op de datum 2022-0908\n",
                "\n",
                "\n",
                "-- 1) CREATE STORED PROCEDURE(S): ARCHIVE EXISTING DATA\n",
                "CREATE OR ALTER PROCEDURE [DBO].[SP_RIVM_VACCINATIONS_BOOSTER_SHOTS_COVERAGE_NL_ARCHIVED_20220908]\n",
                "AS\n",
                "BEGIN\n",
                "TRUNCATE TABLE [VWSARCHIVE].[RIVM_VACCINATIONS_BOOSTER_SHOTS_COVERAGE_NL_ARCHIVED_20220908]\n",
                "\n",
                "    INSERT INTO [VWSARCHIVE].[RIVM_VACCINATIONS_BOOSTER_SHOTS_COVERAGE_NL_ARCHIVED_20220908] (        \n",
                "        [DATE_LAST_INSERTED],\n",
                "        [VERSION],\n",
                "        [DATE_OF_REPORT],\n",
                "        [DATE_OF_STATISTICS],\n",
                "        [AGE_GROUP],\n",
                "        [POPULATION_AGEGROUP],\n",
                "        [BASE_SERIES],\n",
                "        [BOOSTER1],\n",
                "        [AMOUNT_CUMULATIVE],\n",
                "        [COVERAGE_AGEGROUP],\n",
                "        [COVERAGE_TO_BASE_SERIES]\n",
                "    )\n",
                "    SELECT \n",
                "        [DATE_LAST_INSERTED],\n",
                "        [VERSION],\n",
                "        [DATE_OF_REPORT],\n",
                "        [DATE_OF_STATISTICS],\n",
                "        [AGE_GROUP],\n",
                "        [POPULATION_AGEGROUP],\n",
                "        [BASE_SERIES],\n",
                "        [BOOSTER1],\n",
                "        [AMOUNT_CUMULATIVE],\n",
                "        [COVERAGE_AGEGROUP],\n",
                "        [COVERAGE_TO_BASE_SERIES]\n",
                "    FROM [VWSDEST].[RIVM_VACCINATIONS_BOOSTER_SHOTS_COVERAGE_NL] WITH(NOLOCK)\n",
                "    WHERE [DATE_LAST_INSERTED] = (SELECT MAX([DATE_LAST_INSERTED]) FROM [VWSDEST].[RIVM_VACCINATIONS_BOOSTER_SHOTS_COVERAGE_NL])\n",
                "END;\n",
                "GO"
            ]
        },
        {
            "cell_type": "markdown",
            "metadata": {},
            "source": [
                "View"
            ]
        },
        {
            "cell_type": "code",
            "execution_count": null,
            "metadata": {
                "dotnet_interactive": {
                    "language": "sql"
                },
                "vscode": {
                    "languageId": "dotnet-interactive.sql"
                }
            },
            "outputs": [],
            "source": [
                "CREATE OR ALTER VIEW [VWSDEST].[V_CIMS_VACCINATED_PER_AGE_GROUP_ARCHIVED_20220908] \n",
                "AS\n",
                "    WITH CTE AS (\n",
                "        SELECT\n",
                "            [AGE_GROUP],\n",
                "            [COVERAGE_AGEGROUP],\n",
                "            [DATE_OF_STATISTICS],\n",
                "            [AMOUNT_CUMULATIVE]\n",
                "        FROM [VWSARCHIVE].[RIVM_VACCINATIONS_BOOSTER_SHOTS_COVERAGE_NL_ARCHIVED_20220908] WITH(NOLOCK)\n",
                "        WHERE [DATE_LAST_INSERTED] = (SELECT MAX([DATE_LAST_INSERTED]) \n",
                "            FROM [VWSARCHIVE].[RIVM_VACCINATIONS_BOOSTER_SHOTS_COVERAGE_NL_ARCHIVED_20220908] WITH(NOLOCK))\n",
                "    )\n",
                "    SELECT\n",
                "        [DBO].[CONVERT_DATETIME_TO_UNIX](DATE_OF_REPORT) AS [DATE_OF_REPORT_UNIX],\n",
                "        [DBO].[CONVERT_DATETIME_TO_UNIX](DATE_OF_STATISTICS_WEEK_END) AS [DATE_UNIX],\n",
                "        T1.[AGE_GROUP] AS [AGE_GROUP_RANGE],\n",
                "        [BIRTH_COHORT] AS [BIRTHYEAR_RANGE],\n",
                "        [AGE_GROUP_POPULATION] AS [AGE_GROUP_TOTAL],\n",
                "        [AGE_GROUP_POPULATION_PERCENTAGE] AS [AGE_GROUP_PERCENTAGE],\n",
                "        [VACCINATION_COMPLETED] AS [FULLY_VACCINATED],\n",
                "        [VACCINATION_ALL] AS [HAS_ONE_SHOT],\n",
                "        T2.[AMOUNT_CUMULATIVE] AS [BOOSTER_SHOT],\n",
                "        CAST(FLOOR(T2.[COVERAGE_AGEGROUP]) AS INT) AS [BOOSTER_SHOT_PERCENTAGE],\n",
                "        CAST(FLOOR([VACCINATION_COVERAGE_ALL]) AS INT) AS [HAS_ONE_SHOT_PERCENTAGE],\n",
                "        CAST(FLOOR([VACCINATION_COVERAGE_COMPLETED]) AS INT) AS [FULLY_VACCINATED_PERCENTAGE],\n",
                "        [DBO].[CONVERT_DATETIME_TO_UNIX]([DATE_LAST_INSERTED]) AS [DATE_OF_INSERTION_UNIX]\n",
                "    FROM [VWSARCHIVE].[CIMS_VACCINATED_PER_AGE_GROUP_ARCHIVED_20220908] T1 WITH(NOLOCK)\n",
                "        LEFT JOIN CTE T2 ON T1.[DATE_OF_STATISTICS_WEEK_END] = T2.[DATE_OF_STATISTICS]\n",
                "            AND T1.[AGE_GROUP] = T2.[AGE_GROUP]\n",
                "    WHERE [DATE_LAST_INSERTED] = (SELECT MAX([DATE_LAST_INSERTED]) FROM [VWSARCHIVE].[CIMS_VACCINATED_PER_AGE_GROUP_ARCHIVED_20220908] WITH(NOLOCK))\n",
                "        AND T1.[AGE_GROUP] NOT IN ('12+','18+', '5+');\n",
                "GO"
            ]
        },
        {
            "cell_type": "markdown",
            "metadata": {},
            "source": [
                "protos"
            ]
        },
        {
            "cell_type": "code",
            "execution_count": null,
            "metadata": {
                "dotnet_interactive": {
                    "language": "sql"
                },
                "vscode": {
                    "languageId": "dotnet-interactive.sql"
                }
            },
            "outputs": [],
            "source": [
                "DECLARE @view_name VARCHAR(256) = 'VWSDEST.V_CIMS_VACCINATED_PER_AGE_GROUP_ARCHIVED_20220908',\n",
                "        @view_description VARCHAR(256),\n",
                "        @item_name VARCHAR(256) = 'vaccine_coverage_per_age_group_archived_20220908',\n",
                "        @config_description VARCHAR(256),\n",
                "        @constraint_value VARCHAR(50) = NULL,\n",
                "        @constraint_key_name VARCHAR(50) = NULL,\n",
                "        @grouped_key_name VARCHAR(50) = null,\n",
                "        @grouped_last_update_name VARCHAR(50) = null,\n",
                "        @proto_name VARCHAR(50) = 'NL',\n",
                "        @columns VARCHAR(256) = '*',\n",
                "        @layout_type_id INT = 2, -- VALUES\n",
                "        @last_update_name VARCHAR(50) = 'DATE_UNIX',\n",
                "        @is_active INT;\n",
                "\n",
                "-- 1) SET ENVIRONMENTAL VARIABLES.....\n",
                "SET @is_active = CASE LOWER('#{ Environment }#')\n",
                "    WHEN 'production' THEN 1\n",
                "    WHEN 'acceptance' THEN 1\n",
                "    ELSE 1\n",
                "END;\n",
                "\n",
                "SET @view_description = CONCAT('VIEW: ', @view_name, ' FOR ', @item_name);\n",
                "SET @config_description = CONCAT('VIEW CONFIGURATION: ', @view_name, ' FOR ', @item_name);\n",
                "\n",
                "-- 2) DETERMINE VIEW ID & CONFIGURATION ID\n",
                "DECLARE @constrained INT,\n",
                "        @grouped INT,\n",
                "        @view_id BIGINT,\n",
                "        @config_id BIGINT;\n",
                "\n",
                "SET @constrained = CASE \n",
                "    WHEN @constraint_key_name IS NULL THEN 0\n",
                "    ELSE 1\n",
                "END;\n",
                "SET @grouped = CASE \n",
                "    WHEN @grouped_key_name IS NULL THEN 0\n",
                "    ELSE 1\n",
                "END;\n",
                "\n",
                "SELECT \n",
                "    @view_id = [ID]\n",
                "FROM [DATATINO_PROTO_1].[VIEWS]\n",
                "WHERE ISNULL([CONSTRAINT_VALUE], 'X') = ISNULL(@constraint_value, 'X')\n",
                "    AND ISNULL([CONSTRAINT_KEY_NAME], 'X') = ISNULL(@constraint_key_name, 'X')\n",
                "    AND ISNULL([GROUPED_KEY_NAME], 'X') = ISNULL(@grouped_key_name, 'X')\n",
                "    AND ISNULL([GROUPED_LAST_UPDATE_NAME], 'X') = ISNULL(@grouped_last_update_name, 'X')\n",
                "    AND [NAME] = @view_name;\n",
                "    \n",
                "SELECT\n",
                "    @config_id = configs.[ID]\n",
                "FROM [DATATINO_PROTO_1].[VIEWS] views\n",
                "INNER JOIN [DATATINO_PROTO_1].[CONFIGURATIONS] AS configs ON views.[ID] = configs.[VIEW_ID]\n",
                "    AND configs.[NAME] = @item_name\n",
                "    AND configs.[VIEW_ID] = @view_id\n",
                "INNER JOIN [DATATINO_PROTO_1].[PROTOS] AS protos ON protos.[ID] = configs.[PROTO_ID]\n",
                "    AND protos.[NAME] = @proto_name\n",
                "WHERE views.[NAME] = @view_name;\n",
                "\n",
                "-- 3) UPSERT PROTO VIEW(S).....\n",
                "EXECUTE [DATATINO_PROTO_1].[UPSERT_VIEW]\n",
                "    @id = @view_id,\n",
                "    @view_name = @view_name,\n",
                "    @description = @view_description,\n",
                "    @last_update_name = @last_update_name,\n",
                "    @constraint_key_name = @constraint_key_name,\n",
                "    @constraint_value = @constraint_value,\n",
                "    @grouped_key_name = @grouped_key_name,\n",
                "    @grouped_last_update_name = @grouped_last_update_name;\n",
                "\n",
                "-- 4) UPSERT PROTO CONFIGURATION(S).....\n",
                "EXECUTE [DATATINO_PROTO_1].[UPSERT_CONFIGURATION]\n",
                "    @id = @config_id,\n",
                "    @proto_name = @proto_name,\n",
                "    @description =  @config_description,\n",
                "    @view_name = @view_name,\n",
                "    @item_name = @item_name,\n",
                "    @constrained = @constrained,\n",
                "    @grouped = @grouped,\n",
                "    @columns = @columns,\n",
                "    @mapping = '=LOWER()',\n",
                "    @layout_type_id = @layout_type_id,\n",
                "    @active = @is_active,\n",
                "    @constraint_key_name = @constraint_key_name,\n",
                "    @constraint_value = @constraint_value,\n",
                "    @grouped_key_name = @grouped_key_name,\n",
                "    @grouped_last_update_name = @grouped_last_update_name;\n",
                "GO"
            ]
        }
    ],
    "metadata": {
        "kernelspec": {
            "display_name": ".NET (C#)",
            "language": "C#",
            "name": ".net-csharp"
        },
        "language_info": {
            "file_extension": ".cs",
            "mimetype": "text/x-csharp",
            "name": "C#",
            "pygments_lexer": "csharp",
            "version": "9.0"
        }
    },
    "nbformat": 4,
    "nbformat_minor": 2
}
