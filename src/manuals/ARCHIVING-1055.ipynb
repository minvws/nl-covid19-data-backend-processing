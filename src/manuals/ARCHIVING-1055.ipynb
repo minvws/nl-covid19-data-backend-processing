{
    "cells": [
        {
            "cell_type": "markdown",
            "metadata": {
                "azdata_cell_guid": "a1bff903-eb61-4e65-82a1-c4e918bbcac8"
            },
            "source": [
                "# **INTRODUCTIONS**\n",
                "\n",
                "---\n",
                "\n",
                "Used for exceptional processes.\n",
                "\n",
                "The code is separated into multiple sections:\n",
                "\n",
                "1. **[VACCINE_COVERAGE_PER_AGE_GROUP_ESTIMATED_ARCHIVED_20220908](#VACCINE_COVERAGE_PER_AGE_GROUP_ESTIMATED_ARCHIVED_20220908)**\n",
                "2. **[xxxx](#xxxx)**"
            ]
        },
        {
            "cell_type": "markdown",
            "metadata": {
                "azdata_cell_guid": "5f7eda1c-d087-4bbd-8504-802228776c0d"
            },
            "source": [
                "# **DEPENDENCIES**\n",
                "\n",
                "---\n",
                "\n",
                "```json\n",
                "{\n",
                "    \"depends-on\": [\n",
                "        \"src/utils/schemas.ipynb\",\n",
                "        \"src/utils/conversions.ipynb\",\n",
                "        \"src/utils/protos.ipynb\"\n",
                "    ]\n",
                "}\n",
                "```"
            ]
        },
        {
            "cell_type": "markdown",
            "metadata": {},
            "source": [
                "# **VACCINE_COVERAGE_PER_AGE_GROUP_ESTIMATED_ARCHIVED_20220908**\n",
                "\n",
                "---"
            ]
        },
        {
            "cell_type": "markdown",
            "metadata": {},
            "source": [
                "table"
            ]
        },
        {
            "cell_type": "code",
            "execution_count": null,
            "metadata": {
                "dotnet_interactive": {
                    "language": "sql"
                },
                "vscode": {
                    "languageId": "dotnet-interactive.sql"
                }
            },
            "outputs": [],
            "source": [
                "-- 1) CREATE TABLE(S).....\n",
                "IF NOT EXISTS (SELECT * FROM [SYS].[TABLES] WHERE [OBJECT_ID] = OBJECT_ID('[VWSARCHIVE].[RIVM_VACCINATION_SHOT_COVERAGES_PER_CAMPAIGN_NL_ARCHIVED_20220908]'))\n",
                "CREATE TABLE [VWSARCHIVE].[RIVM_VACCINATION_SHOT_COVERAGES_PER_CAMPAIGN_NL_ARCHIVED_20220908] (\n",
                "\t[ID] BIGINT,\n",
                "\t[DATE_LAST_INSERTED] [DATETIME] DEFAULT GETDATE(),\n",
                "    [DATE_OF_STATISTICS] DATETIME,\n",
                "    [DATE_OF_REPORT] DATETIME,\n",
                "\t[AGE_GROUP] VARCHAR(50) NULL,\n",
                "    [BIRTH_YEAR] VARCHAR(50),\n",
                "    [PERCENTAGE_PARTLY] FLOAT,\n",
                "    [PERCENTAGE_COMPLETED] FLOAT\n",
                ");\n",
                "GO\n"
            ]
        },
        {
            "cell_type": "markdown",
            "metadata": {},
            "source": [
                "stored procedure"
            ]
        },
        {
            "cell_type": "code",
            "execution_count": null,
            "metadata": {
                "dotnet_interactive": {
                    "language": "sql"
                },
                "vscode": {
                    "languageId": "dotnet-interactive.sql"
                }
            },
            "outputs": [],
            "source": [
                "\n",
                "CREATE OR ALTER PROCEDURE [dbo].[SP_RIVM_VACCINATION_SHOT_COVERAGES_PER_CAMPAIGN_NL_ARCHIVED_20220908] AS\n",
                "BEGIN\n",
                "    TRUNCATE TABLE [VWSARCHIVE].[RIVM_VACCINATION_SHOT_COVERAGES_PER_CAMPAIGN_NL_ARCHIVED_20220908]\n",
                "\n",
                "    INSERT INTO [VWSARCHIVE].[RIVM_VACCINATION_SHOT_COVERAGES_PER_CAMPAIGN_NL_ARCHIVED_20220908] (\n",
                "        [ID],\n",
                "        [DATE_LAST_INSERTED],\n",
                "        [DATE_OF_STATISTICS],\n",
                "        [DATE_OF_REPORT],\n",
                "        [AGE_GROUP],\n",
                "        [BIRTH_YEAR],\n",
                "        [PERCENTAGE_PARTLY],\n",
                "        [PERCENTAGE_COMPLETED]\n",
                "    )\n",
                "    SELECT \n",
                "        [ID],\n",
                "        [DATE_LAST_INSERTED],\n",
                "        [DATE_OF_STATISTICS],\n",
                "        [DATE_OF_REPORT],\n",
                "        [AGE_GROUP],\n",
                "        [BIRTH_YEAR],\n",
                "        [PERCENTAGE_PARTLY],\n",
                "        [PERCENTAGE_COMPLETED]\n",
                "    FROM VWSDEST.RIVM_VACCINATION_SHOT_COVERAGES_NL\n",
                "    WHERE CAST([DATE_LAST_INSERTED] as Date) = CAST('2022-09-08' as Date)\n",
                "END\n"
            ]
        },
        {
            "cell_type": "markdown",
            "metadata": {},
            "source": [
                "View"
            ]
        },
        {
            "cell_type": "code",
            "execution_count": null,
            "metadata": {
                "dotnet_interactive": {
                    "language": "sql"
                },
                "vscode": {
                    "languageId": "dotnet-interactive.sql"
                }
            },
            "outputs": [],
            "source": [
                "CREATE OR ALTER VIEW [VWSDEST].[V_RIVM_VACCINATION_SHOT_COVERAGES_NL_ARCHIVED_20220908] AS\n",
                "    WITH CTE AS (\n",
                "        SELECT\n",
                "            [dbo].[CONVERT_DATETIME_TO_UNIX]([DATE_LAST_INSERTED]) AS [DATE_OF_INSERTION_UNIX],\n",
                "            [dbo].[CONVERT_DATETIME_TO_UNIX]([DATE_OF_STATISTICS]) AS [DATE_UNIX],\n",
                "            [DATE_OF_REPORT],\n",
                "            [AGE_GROUP],\n",
                "            REPLACE([BIRTH_YEAR], '<=', '-') AS [BIRTH_YEAR],\n",
                "            CAST([PERCENTAGE_PARTLY] AS [NUMERIC](10,1)) AS [VACCINATION_COVERAGE_PARTLY],\n",
                "            CAST([PERCENTAGE_COMPLETED] AS [NUMERIC](10,1)) AS [VACCINATION_COVERAGE_COMPLETED]\n",
                "        FROM [VWSARCHIVE].[RIVM_VACCINATION_SHOT_COVERAGES_PER_CAMPAIGN_NL_ARCHIVED_20220908] WITH(NOLOCK)\n",
                "        WHERE [DATE_LAST_INSERTED] = (SELECT MAX([DATE_LAST_INSERTED]) FROM [VWSARCHIVE].[RIVM_VACCINATION_SHOT_COVERAGES_PER_CAMPAIGN_NL_ARCHIVED_20220908] WITH(NOLOCK))\n",
                "    ),\n",
                "    COVERAGE_12_PLUS AS (\n",
                "        SELECT\n",
                "            [DATE_UNIX],\n",
                "            [DATE_OF_INSERTION_UNIX],\n",
                "            [DATE_OF_REPORT],\n",
                "            [BIRTH_YEAR],\n",
                "            [VACCINATION_COVERAGE_PARTLY],\n",
                "            [VACCINATION_COVERAGE_COMPLETED]\n",
                "        FROM CTE\n",
                "        WHERE [DATE_UNIX] = (SELECT MAX([DATE_UNIX]) FROM CTE)\n",
                "            AND [AGE_GROUP] = '12+'\n",
                "    ),\n",
                "    COVERAGE_18_PLUS AS (\n",
                "        SELECT\n",
                "            [DATE_UNIX],\n",
                "            [DATE_OF_INSERTION_UNIX],\n",
                "            [DATE_OF_REPORT],\n",
                "            [BIRTH_YEAR],\n",
                "            [VACCINATION_COVERAGE_PARTLY],\n",
                "            [VACCINATION_COVERAGE_COMPLETED]\n",
                "        FROM CTE\n",
                "        WHERE [DATE_UNIX] = (SELECT MAX([DATE_UNIX]) FROM CTE)\n",
                "            AND [AGE_GROUP] = '18+'\n",
                "    )\n",
                "    SELECT\n",
                "        T1.[BIRTH_YEAR] AS [AGE_12_PLUS_BIRTHYEAR],\n",
                "        T1.[VACCINATION_COVERAGE_PARTLY] AS [AGE_12_PLUS_HAS_ONE_SHOT],\n",
                "        T1.[VACCINATION_COVERAGE_COMPLETED] AS [AGE_12_PLUS_FULLY_VACCINATED],\n",
                "        T2.[BIRTH_YEAR] AS [AGE_18_PLUS_BIRTHYEAR],\n",
                "        T2.[VACCINATION_COVERAGE_PARTLY] AS [AGE_18_PLUS_HAS_ONE_SHOT],\n",
                "        T2.[VACCINATION_COVERAGE_COMPLETED] AS [AGE_18_PLUS_FULLY_VACCINATED],\n",
                "        T2.[DATE_UNIX],\n",
                "        T2.[DATE_OF_INSERTION_UNIX]\n",
                "    FROM COVERAGE_12_PLUS T1\n",
                "    INNER JOIN COVERAGE_18_PLUS T2 ON T1.[DATE_OF_REPORT] = T2.[DATE_OF_REPORT]\n",
                "GO"
            ]
        },
        {
            "cell_type": "markdown",
            "metadata": {},
            "source": [
                "protos"
            ]
        },
        {
            "cell_type": "code",
            "execution_count": null,
            "metadata": {
                "dotnet_interactive": {
                    "language": "sql"
                },
                "vscode": {
                    "languageId": "dotnet-interactive.sql"
                }
            },
            "outputs": [],
            "source": [
                "-- 1) SET ENVIRONMENTAL VARIABLES.....\n",
                "DECLARE @view_name VARCHAR(256) = 'VWSDEST.V_RIVM_VACCINATION_SHOT_COVERAGES_NL_ARCHIVED_20220908',\n",
                "        @view_description VARCHAR(256),\n",
                "        @item_name VARCHAR(256) = 'vaccine_coverage_per_age_group_estimated_archived_20220908',\n",
                "        @config_description VARCHAR(256),\n",
                "        @constraint_value VARCHAR(50) = NULL,\n",
                "        @constraint_key_name VARCHAR(50) = NULL,\n",
                "        @grouped_key_name VARCHAR(50) = NULL,\n",
                "        @grouped_last_update_name VARCHAR(50) = NULL,\n",
                "        @proto_name VARCHAR(50) = 'NL',\n",
                "        @columns VARCHAR(256) = '*',\n",
                "        @layout_type_id INT = 1,\n",
                "        @last_update_name VARCHAR(50) = 'DATE_UNIX',\n",
                "        @is_active INT;\n",
                "        \n",
                "SET @is_active = CASE LOWER('#{ Environment }#')\n",
                "    WHEN 'production' THEN 1\n",
                "    WHEN 'acceptance' THEN 1\n",
                "    ELSE 1\n",
                "END;\n",
                "\n",
                "SET @view_description = CONCAT('VIEW: ', @view_name, ' FOR ', @item_name);\n",
                "SET @config_description = CONCAT('VIEW CONFIGURATION: ', @view_name, ' FOR ', @item_name);\n",
                "\n",
                "-- 2) DETERMINE VIEW ID & CONFIGURATION ID\n",
                "DECLARE @constrained INT,\n",
                "        @grouped INT,\n",
                "        @view_id BIGINT,\n",
                "        @config_id BIGINT;\n",
                "\n",
                "SET @constrained = CASE \n",
                "    WHEN @constraint_key_name IS NULL THEN 0\n",
                "    ELSE 1\n",
                "END;\n",
                "SET @grouped = CASE \n",
                "    WHEN @grouped_key_name IS NULL THEN 0\n",
                "    ELSE 1\n",
                "END;\n",
                "\n",
                "DELETE FROM [DATATINO_PROTO_1].[CONFIGURATIONS]\n",
                "WHERE [ID] IN (\n",
                "    SELECT\n",
                "        configs.[ID]\n",
                "    FROM [DATATINO_PROTO_1].[VIEWS] views\n",
                "    INNER JOIN [DATATINO_PROTO_1].[CONFIGURATIONS] AS configs ON views.[ID] = configs.[VIEW_ID]\n",
                "        AND configs.[NAME] = @item_name\n",
                "    INNER JOIN [DATATINO_PROTO_1].[PROTOS] AS protos ON protos.[ID] = configs.[PROTO_ID]\n",
                "        AND protos.[NAME] = @proto_name\n",
                ");\n",
                "\n",
                "SELECT \n",
                "    @view_id = [ID]\n",
                "FROM [DATATINO_PROTO_1].[VIEWS]\n",
                "WHERE ISNULL([CONSTRAINT_VALUE], 'X') = ISNULL(@constraint_value, 'X')\n",
                "    AND ISNULL([CONSTRAINT_KEY_NAME], 'X') = ISNULL(@constraint_key_name, 'X')\n",
                "    AND ISNULL([GROUPED_KEY_NAME], 'X') = ISNULL(@grouped_key_name, 'X')\n",
                "    AND ISNULL([GROUPED_LAST_UPDATE_NAME], 'X') = ISNULL(@grouped_last_update_name, 'X')\n",
                "    AND [NAME] = @view_name;\n",
                "\n",
                "SELECT\n",
                "    @config_id = configs.[ID]\n",
                "FROM [DATATINO_PROTO_1].[VIEWS] views\n",
                "INNER JOIN [DATATINO_PROTO_1].[CONFIGURATIONS] AS configs ON views.[ID] = configs.[VIEW_ID]\n",
                "    AND configs.[NAME] = @item_name\n",
                "    AND configs.[VIEW_ID] = @view_id\n",
                "INNER JOIN [DATATINO_PROTO_1].[PROTOS] AS protos ON protos.[ID] = configs.[PROTO_ID]\n",
                "    AND protos.[NAME] = @proto_name\n",
                "WHERE views.[NAME] = @view_name;\n",
                "\n",
                "-- 3) UPSERT PROTO VIEW(S).....\n",
                "EXECUTE [DATATINO_PROTO_1].[UPSERT_VIEW]\n",
                "    @id = @view_id,\n",
                "    @view_name = @view_name,\n",
                "    @description = @view_description,\n",
                "    @last_update_name = @last_update_name,\n",
                "    @constraint_key_name = @constraint_key_name,\n",
                "    @constraint_value = @constraint_value,\n",
                "    @grouped_key_name = @grouped_key_name,\n",
                "    @grouped_last_update_name = @grouped_last_update_name;\n",
                "\n",
                "-- 4) UPSERT PROTO CONFIGURATION(S).....\n",
                "EXECUTE [DATATINO_PROTO_1].[UPSERT_CONFIGURATION]\n",
                "    @id = @config_id,\n",
                "    @proto_name = @proto_name,\n",
                "    @description =  @config_description,\n",
                "    @view_name = @view_name,\n",
                "    @item_name = @item_name,\n",
                "    @constrained = @constrained,\n",
                "    @grouped = @grouped,\n",
                "    @columns = @columns,\n",
                "    @mapping = '=LOWER()',\n",
                "    @layout_type_id = @layout_type_id,\n",
                "    @active = @is_active,\n",
                "    @constraint_key_name = @constraint_key_name,\n",
                "    @constraint_value = @constraint_value,\n",
                "    @grouped_key_name = @grouped_key_name,\n",
                "    @grouped_last_update_name = @grouped_last_update_name;\n",
                "GO"
            ]
        }
    ],
    "metadata": {
        "kernelspec": {
            "display_name": ".NET (C#)",
            "language": "C#",
            "name": ".net-csharp"
        },
        "language_info": {
            "file_extension": ".cs",
            "mimetype": "text/x-csharp",
            "name": "C#",
            "pygments_lexer": "csharp",
            "version": "9.0"
        }
    },
    "nbformat": 4,
    "nbformat_minor": 2
}
