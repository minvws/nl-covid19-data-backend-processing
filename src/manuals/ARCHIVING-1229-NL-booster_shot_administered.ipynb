{
    "cells": [
        {
            "cell_type": "markdown",
            "metadata": {
                "azdata_cell_guid": "a1bff903-eb61-4e65-82a1-c4e918bbcac8"
            },
            "source": [
                "# **booster_shot_administered_archived_20220904**\n"
            ]
        },
        {
            "cell_type": "markdown",
            "metadata": {
                "azdata_cell_guid": "5f7eda1c-d087-4bbd-8504-802228776c0d"
            },
            "source": [
                "# **DEPENDENCIES**\n",
                "\n",
                "---\n",
                "\n",
                "```json\n",
                "{\n",
                "    \"depends-on\": [\n",
                "        \"src/utils/schemas.ipynb\",\n",
                "        \"src/utils/conversions.ipynb\",\n",
                "        \"src/utils/protos.ipynb\"\n",
                "    ]\n",
                "}\n",
                "```"
            ]
        },
        {
            "cell_type": "markdown",
            "metadata": {},
            "source": [
                "TABLE"
            ]
        },
        {
            "cell_type": "code",
            "execution_count": null,
            "metadata": {
                "dotnet_interactive": {
                    "language": "sql"
                },
                "vscode": {
                    "languageId": "dotnet-interactive.sql"
                }
            },
            "outputs": [],
            "source": [
                "-- COPYRIGHT (C) 2020 DE STAAT DER NEDERLANDEN, MINISTERIE VAN VOLKSGEZONDHEID, WELZIJN EN SPORT.\n",
                "-- LICENSED UNDER THE EUROPEAN UNION PUBLIC LICENCE V. 1.2 - SEE HTTPS://GITHUB.COM/MINVWS/NL-CONTACT-TRACING-APP-COORDINATION FOR MORE INFORMATION.\n",
                "\n",
                "SET ANSI_NULLS ON\n",
                "GO\n",
                "\n",
                "SET QUOTED_IDENTIFIER ON\n",
                "GO\n",
                "\n",
                "-- 1) CREATE VWSARCHIVE SEQUENCE(S).....\n",
                "IF NOT EXISTS (SELECT * FROM SYS.SEQUENCES WHERE [OBJECT_ID] = OBJECT_ID('DBO.SEQ_VWSARCHIVE_RIVM_VACCINATIONS_BOOSTER_SHOTS_ADMINISTERED_NL_ARCHIVED_20220904'))\n",
                "CREATE SEQUENCE [DBO].[SEQ_VWSARCHIVE_RIVM_VACCINATIONS_BOOSTER_SHOTS_ADMINISTERED_NL_ARCHIVED_20220904]\n",
                "    START WITH 1  \n",
                "    INCREMENT BY 1;  \n",
                "GO\n",
                "\n",
                "-- 2) CREATE VWSARCHIVE TABLE(S).....\n",
                "IF NOT EXISTS (SELECT * FROM SYS.TABLES WHERE object_id = OBJECT_ID('VWSARCHIVE.RIVM_VACCINATIONS_BOOSTER_SHOTS_ADMINISTERED_NL_ARCHIVED_20220904'))\n",
                "CREATE TABLE [VWSARCHIVE].[RIVM_VACCINATIONS_BOOSTER_SHOTS_ADMINISTERED_NL_ARCHIVED_20220904]\n",
                "(\n",
                "    [ID] [INT] PRIMARY KEY NONCLUSTERED NOT NULL DEFAULT (NEXT VALUE FOR [DBO].[SEQ_VWSARCHIVE_RIVM_VACCINATIONS_BOOSTER_SHOTS_ADMINISTERED_NL_ARCHIVED_20220904]),\n",
                "    [DATE_LAST_INSERTED] [DATETIME] NOT NULL DEFAULT GETDATE(),\n",
                "    [VERSION] [INT] NULL,\n",
                "    [DATE_OF_REPORT] [DATETIME] NULL,\n",
                "    [DATE_OF_STATISTICS] [DATETIME] NULL,\n",
                "    [GGD_ADMINISTERED_BOOSTER_SHOTS] [INT] NULL,\n",
                "    [GGD_CUMSUM_ADMINISTERED_BOOSTER_SHOTS] [INT] NULL,\n",
                "    [GGD_ADMINISTERED_BOOSTER_SHOTS_7DAYS] [INT] NULL,\n",
                "    [OTHERS_ESTIMATED_BOOSTER_SHOTS] [INT] NULL,\n",
                "    [OTHERS_CUMSUM_ESTIMATED_BOOSTER_SHOTS] [INT] NULL,\n",
                "    [OTHERS_ESTIMATED_BOOSTER_SHOTS_7DAYS] [INT] NULL,\n",
                ");\n",
                "GO"
            ]
        },
        {
            "cell_type": "markdown",
            "metadata": {},
            "source": [
                "STORED PROCEDURE"
            ]
        },
        {
            "cell_type": "code",
            "execution_count": null,
            "metadata": {
                "dotnet_interactive": {
                    "language": "sql"
                },
                "vscode": {
                    "languageId": "dotnet-interactive.sql"
                }
            },
            "outputs": [],
            "source": [
                "\n",
                "CREATE OR ALTER PROCEDURE [dbo].[SP_RIVM_VACCINATIONS_BOOSTER_SHOTS_ADMINISTERED_NL_ARCHIVED_20220904] AS\n",
                "BEGIN\n",
                "    TRUNCATE TABLE [VWSARCHIVE].[RIVM_VACCINATIONS_BOOSTER_SHOTS_ADMINISTERED_NL_ARCHIVED_20220904]\n",
                "\n",
                "    INSERT INTO [VWSARCHIVE].[RIVM_VACCINATIONS_BOOSTER_SHOTS_ADMINISTERED_NL_ARCHIVED_20220904] (\n",
                "        [DATE_LAST_INSERTED],\n",
                "        [VERSION],\n",
                "        [DATE_OF_REPORT],\n",
                "        [DATE_OF_STATISTICS],\n",
                "        [GGD_ADMINISTERED_BOOSTER_SHOTS],\n",
                "        [GGD_CUMSUM_ADMINISTERED_BOOSTER_SHOTS],\n",
                "        [GGD_ADMINISTERED_BOOSTER_SHOTS_7DAYS],\n",
                "        [OTHERS_ESTIMATED_BOOSTER_SHOTS],\n",
                "        [OTHERS_CUMSUM_ESTIMATED_BOOSTER_SHOTS],\n",
                "        [OTHERS_ESTIMATED_BOOSTER_SHOTS_7DAYS]\n",
                "    )\n",
                "    SELECT \n",
                "        [DATE_LAST_INSERTED],\n",
                "        [VERSION],\n",
                "        [DATE_OF_REPORT],\n",
                "        [DATE_OF_STATISTICS],\n",
                "        [GGD_ADMINISTERED_BOOSTER_SHOTS],\n",
                "        [GGD_CUMSUM_ADMINISTERED_BOOSTER_SHOTS],\n",
                "        [GGD_ADMINISTERED_BOOSTER_SHOTS_7DAYS],\n",
                "        [OTHERS_ESTIMATED_BOOSTER_SHOTS],\n",
                "        [OTHERS_CUMSUM_ESTIMATED_BOOSTER_SHOTS],\n",
                "        [OTHERS_ESTIMATED_BOOSTER_SHOTS_7DAYS]\n",
                "    FROM [VWSDEST].[RIVM_VACCINATIONS_BOOSTER_SHOTS_ADMINISTERED_NL]\n",
                "    WHERE [DATE_LAST_INSERTED] = (SELECT MAX([DATE_LAST_INSERTED]) FROM [VWSDEST].[RIVM_VACCINATIONS_BOOSTER_SHOTS_ADMINISTERED_NL])\n",
                "END\n"
            ]
        },
        {
            "cell_type": "markdown",
            "metadata": {},
            "source": [
                "VIEW"
            ]
        },
        {
            "cell_type": "code",
            "execution_count": null,
            "metadata": {
                "dotnet_interactive": {
                    "language": "sql"
                },
                "vscode": {
                    "languageId": "dotnet-interactive.sql"
                }
            },
            "outputs": [],
            "source": [
                "-- COPYRIGHT (C) 2020 DE STAAT DER NEDERLANDEN, MINISTERIE VAN   VOLKSGEZONDHEID, WELZIJN EN SPORT.\n",
                "-- LICENSED UNDER THE EUROPEAN UNION PUBLIC LICENCE V. 1.2 - SEE HTTPS://GITHUB.COM/MINVWS/NL-CONTACT-TRACING-APP-COORDINATIONFOR MORE INFORMATION.\n",
                "\n",
                "-- 1) CREATE VIEW(S).....\n",
                "CREATE OR ALTER VIEW [VWSDEST].[V_RIVM_VACCINATIONS_BOOSTER_SHOTS_ADMINISTERED_NL_ARCHIVED_20220904]\n",
                "AS\n",
                "    WITH CTE AS (\n",
                "        SELECT\n",
                "            -- [GGD_ADMINISTERED_BOOSTER_SHOTS_7DAYS],\n",
                "            [GGD_CUMSUM_ADMINISTERED_BOOSTER_SHOTS],\n",
                "            [OTHERS_CUMSUM_ESTIMATED_BOOSTER_SHOTS],\n",
                "            [GGD_CUMSUM_ADMINISTERED_BOOSTER_SHOTS] + [OTHERS_CUMSUM_ESTIMATED_BOOSTER_SHOTS] AS [CUMSUM_ADMINISTERED_BOOSTER_SHOTS],\n",
                "            -- [DBO].[CONVERT_DATETIME_TO_UNIX](DATEADD(day, -7, [DATE_OF_REPORT])) AS [DATE_START_UNIX],\n",
                "            -- [DBO].[CONVERT_DATETIME_TO_UNIX]([DATE_OF_STATISTICS]) AS [DATE_END_UNIX],\n",
                "            [DBO].[CONVERT_DATETIME_TO_UNIX]([DATE_OF_STATISTICS]) AS [DATE_UNIX],\n",
                "            [DBO].[CONVERT_DATETIME_TO_UNIX]([DATE_LAST_INSERTED]) AS [DATE_OF_INSERTION_UNIX]\n",
                "        FROM [VWSARCHIVE].[RIVM_VACCINATIONS_BOOSTER_SHOTS_ADMINISTERED_NL_ARCHIVED_20220904]        \n",
                "        WHERE [DATE_LAST_INSERTED] = (SELECT MAX([DATE_LAST_INSERTED]) FROM [VWSARCHIVE].[RIVM_VACCINATIONS_BOOSTER_SHOTS_ADMINISTERED_NL_ARCHIVED_20220904])\n",
                "    ) \n",
                "    SELECT \n",
                "        -- [GGD_ADMINISTERED_BOOSTER_SHOTS_7DAYS] AS [GGD_ADMINISTERED_LAST_7_DAYS],\n",
                "        [GGD_CUMSUM_ADMINISTERED_BOOSTER_SHOTS] AS [GGD_ADMINISTERED_TOTAL],\n",
                "        [OTHERS_CUMSUM_ESTIMATED_BOOSTER_SHOTS] AS [OTHERS_ADMINISTERED_TOTAL],\n",
                "        [CUMSUM_ADMINISTERED_BOOSTER_SHOTS] AS [ADMINISTERED_TOTAL],\n",
                "        [DATE_OF_INSERTION_UNIX],\n",
                "        -- [DATE_START_UNIX],\n",
                "        -- [DATE_END_UNIX]\n",
                "        [DATE_UNIX]\n",
                "    FROM CTE\n",
                "    -- WHERE [DATE_END_UNIX] = (SELECT MAX([DATE_END_UNIX]) FROM CTE);\n",
                "    WHERE [DATE_UNIX] = (SELECT MAX([DATE_UNIX]) FROM CTE);\n",
                "GO\n"
            ]
        },
        {
            "cell_type": "markdown",
            "metadata": {},
            "source": [
                "PROTOS"
            ]
        },
        {
            "cell_type": "code",
            "execution_count": null,
            "metadata": {
                "dotnet_interactive": {
                    "language": "sql"
                },
                "vscode": {
                    "languageId": "dotnet-interactive.sql"
                }
            },
            "outputs": [],
            "source": [
                "-- COPYRIGHT (C) 2020 DE STAAT DER NEDERLANDEN, MINISTERIE VAN   VOLKSGEZONDHEID, WELZIJN EN SPORT.\n",
                "-- LICENSED UNDER THE EUROPEAN UNION PUBLIC LICENCE V. 1.2 - SEE HTTPS://GITHUB.COM/MINVWS/NL-CONTACT-TRACING-APP-COORDINATIONFOR MORE INFORMATION.\n",
                "\n",
                "-- 1) SET ENVIRONMENTAL VARIABLES.....\n",
                "DECLARE @view_name VARCHAR(256) = 'VWSDEST.V_RIVM_VACCINATIONS_BOOSTER_SHOTS_ADMINISTERED_NL_ARCHIVED_20220904',\n",
                "        @view_description VARCHAR(256),\n",
                "        @item_name VARCHAR(256) = 'booster_shot_administered_archived_20220904',\n",
                "        @config_description VARCHAR(256),\n",
                "        @constraint_value VARCHAR(50) = NULL,\n",
                "        @constraint_key_name VARCHAR(50) = NULL,\n",
                "        @grouped_key_name VARCHAR(50) = null,\n",
                "        @grouped_last_update_name VARCHAR(50) = null,\n",
                "        @proto_name VARCHAR(50) = 'NL',\n",
                "        @columns VARCHAR(256) = '*',\n",
                "        @layout_type_id INT = 1, -- LASTVALUES\n",
                "        @last_update_name VARCHAR(50) = 'DATE_UNIX',\n",
                "        @is_active INT;\n",
                "        \n",
                "SET @is_active = CASE LOWER('#{ Environment }#')\n",
                "    WHEN 'production' THEN 1\n",
                "    WHEN 'acceptance' THEN 1\n",
                "    ELSE 1\n",
                "END;\n",
                "\n",
                "SET @view_description = CONCAT('VIEW: ', @view_name, ' FOR ', @item_name);\n",
                "SET @config_description = CONCAT('VIEW CONFIGURATION: ', @view_name, ' FOR ', @item_name);\n",
                "\n",
                "-- 2) DETERMINE VIEW ID & CONFIGURATION ID\n",
                "DECLARE @constrained INT,\n",
                "        @grouped INT,\n",
                "        @view_id BIGINT,\n",
                "        @config_id BIGINT;\n",
                "\n",
                "SET @constrained = CASE \n",
                "    WHEN @constraint_key_name IS NULL THEN 0\n",
                "    ELSE 1\n",
                "END;\n",
                "SET @grouped = CASE \n",
                "    WHEN @grouped_key_name IS NULL THEN 0\n",
                "    ELSE 1\n",
                "END;\n",
                "\n",
                "DELETE FROM [DATATINO_PROTO_1].[CONFIGURATIONS]\n",
                "WHERE [ID] IN (\n",
                "    SELECT\n",
                "        configs.[ID]\n",
                "    FROM [DATATINO_PROTO_1].[VIEWS] views\n",
                "    INNER JOIN [DATATINO_PROTO_1].[CONFIGURATIONS] AS configs ON views.[ID] = configs.[VIEW_ID]\n",
                "        AND configs.[NAME] = @item_name\n",
                "    INNER JOIN [DATATINO_PROTO_1].[PROTOS] AS protos ON protos.[ID] = configs.[PROTO_ID]\n",
                "        AND protos.[NAME] = @proto_name\n",
                ");\n",
                "\n",
                "SELECT \n",
                "    @view_id = [ID]\n",
                "FROM [DATATINO_PROTO_1].[VIEWS]\n",
                "WHERE ISNULL([CONSTRAINT_VALUE], 'X') = ISNULL(@constraint_value, 'X')\n",
                "    AND ISNULL([CONSTRAINT_KEY_NAME], 'X') = ISNULL(@constraint_key_name, 'X')\n",
                "    AND ISNULL([GROUPED_KEY_NAME], 'X') = ISNULL(@grouped_key_name, 'X')\n",
                "    AND ISNULL([GROUPED_LAST_UPDATE_NAME], 'X') = ISNULL(@grouped_last_update_name, 'X')\n",
                "    AND [NAME] = @view_name;\n",
                "\n",
                "SELECT\n",
                "    @config_id = configs.[ID]\n",
                "FROM [DATATINO_PROTO_1].[VIEWS] views\n",
                "INNER JOIN [DATATINO_PROTO_1].[CONFIGURATIONS] AS configs ON views.[ID] = configs.[VIEW_ID]\n",
                "    AND configs.[NAME] = @item_name\n",
                "    AND configs.[VIEW_ID] = @view_id\n",
                "INNER JOIN [DATATINO_PROTO_1].[PROTOS] AS protos ON protos.[ID] = configs.[PROTO_ID]\n",
                "    AND protos.[NAME] = @proto_name\n",
                "WHERE views.[NAME] = @view_name;\n",
                "\n",
                "-- 3) UPSERT PROTO VIEW(S).....\n",
                "EXECUTE [DATATINO_PROTO_1].[UPSERT_VIEW]\n",
                "    @id = @view_id,\n",
                "    @view_name = @view_name,\n",
                "    @description = @view_description,\n",
                "    @last_update_name = @last_update_name,\n",
                "    @constraint_key_name = @constraint_key_name,\n",
                "    @constraint_value = @constraint_value,\n",
                "    @grouped_key_name = @grouped_key_name,\n",
                "    @grouped_last_update_name = @grouped_last_update_name;\n",
                "\n",
                "-- 4) UPSERT PROTO CONFIGURATION(S).....\n",
                "EXECUTE [DATATINO_PROTO_1].[UPSERT_CONFIGURATION]\n",
                "    @id = @config_id,\n",
                "    @proto_name = @proto_name,\n",
                "    @description =  @config_description,\n",
                "    @view_name = @view_name,\n",
                "    @item_name = @item_name,\n",
                "    @constrained = @constrained,\n",
                "    @grouped = @grouped,\n",
                "    @columns = @columns,\n",
                "    @mapping = '=LOWER()',\n",
                "    @layout_type_id = @layout_type_id,\n",
                "    @active = @is_active,\n",
                "    @constraint_key_name = @constraint_key_name,\n",
                "    @constraint_value = @constraint_value,\n",
                "    @grouped_key_name = @grouped_key_name,\n",
                "    @grouped_last_update_name = @grouped_last_update_name;\n",
                "GO"
            ]
        }
    ],
    "metadata": {
        "kernelspec": {
            "display_name": ".NET (C#)",
            "language": "C#",
            "name": ".net-csharp"
        },
        "language_info": {
            "file_extension": ".cs",
            "mimetype": "text/x-csharp",
            "name": "C#",
            "pygments_lexer": "csharp",
            "version": "9.0"
        }
    },
    "nbformat": 4,
    "nbformat_minor": 2
}
