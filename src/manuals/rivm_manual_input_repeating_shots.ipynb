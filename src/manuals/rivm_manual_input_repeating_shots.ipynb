{
    "cells": [
        {
            "cell_type": "markdown",
            "metadata": {
                "azdata_cell_guid": "a1bff903-eb61-4e65-82a1-c4e918bbcac8"
            },
            "source": [
                "# **INTRODUCTIONS**\n",
                "\n",
                "---\n",
                "\n",
                "Used for exceptional processes.\n",
                "\n",
                "The code is separated into multiple sections:\n",
                "\n",
                "1. **[Views](#views)**\n",
                "2. **[Datatino Configurations](#datatino-configurations)**"
            ]
        },
        {
            "cell_type": "markdown",
            "metadata": {
                "azdata_cell_guid": "5f7eda1c-d087-4bbd-8504-802228776c0d"
            },
            "source": [
                "# **DEPENDENCIES**\n",
                "\n",
                "---\n",
                "\n",
                "```json\n",
                "{\n",
                "    \"depends-on\": [\n",
                "        \"src/utils/schemas.ipynb\",\n",
                "        \"src/utils/conversions.ipynb\",\n",
                "        \"src/utils/protos.ipynb\"\n",
                "    ]\n",
                "}\n",
                "```"
            ]
        },
        {
            "cell_type": "markdown",
            "metadata": {
                "azdata_cell_guid": "4dff827b-0bbf-4a4f-8d1e-da7352806b96"
            },
            "source": [
                "# **TABLES**\n",
                "\n",
                "---\n"
            ]
        },
        {
            "cell_type": "code",
            "execution_count": null,
            "metadata": {
                "azdata_cell_guid": "247bfd81-3df9-4f8e-981e-3f5a3dbdc126"
            },
            "outputs": [],
            "source": [
                "-- COPYRIGHT (C) 2020 DE STAAT DER NEDERLANDEN, MINISTERIE VAN   VOLKSGEZONDHEID, WELZIJN EN SPORT.\n",
                "-- LICENSED UNDER THE EUROPEAN UNION PUBLIC LICENCE V. 1.2 - SEE HTTPS://GITHUB.COM/MINVWS/NL-CONTACT-TRACING-APP-COORDINATIONFOR MORE INFORMATION.\n",
                "\n",
                "SET ANSI_NULLS ON\n",
                "GO\n",
                "\n",
                "SET QUOTED_IDENTIFIER ON\n",
                "GO\n",
                "\n",
                "-- 1) CREATE TABLE(S).....\n",
                "IF NOT EXISTS (SELECT * FROM SYS.TABLES WHERE object_id = OBJECT_ID('VWSSTAGE.MANUAL_INPUT_REPEATING_SHOTS'))\n",
                "CREATE TABLE [VWSSTAGE].[MANUAL_INPUT_REPEATING_SHOTS](\n",
                "\t[ID] [INT] IDENTITY (1,1) NOT NULL,\n",
                "\t[CATEGORY] [NVARCHAR](255) NULL,\n",
                "\t[KEY] [NVARCHAR](255) NULL,\n",
                "\t[VALUE] [NVARCHAR](255) NULL,\n",
                "  \t[DATE_LAST_INSERTED] [DATETIME] NOT NULL DEFAULT GETDATE()\n",
                ");\n",
                "GO\n",
                "\n",
                "-- 2) CREATE STAGE INDEX(ES).....\n",
                "IF NOT EXISTS (SELECT * FROM SYS.INDEXES WHERE [NAME] = 'IX_STAGE_MANUAL_INPUT_REPEATING_SHOTS')\n",
                "CREATE NONCLUSTERED INDEX [IX_STAGE_MANUAL_INPUT_REPEATING_SHOTS] ON [VWSSTAGE].[MANUAL_INPUT_REPEATING_SHOTS]\n",
                "(\n",
                "    [DATE_LAST_INSERTED] ASC\n",
                ")WITH (STATISTICS_NORECOMPUTE = OFF, DROP_EXISTING = OFF, ONLINE = OFF, OPTIMIZE_FOR_SEQUENTIAL_KEY = OFF) ON [PRIMARY]\n",
                "GO"
            ]
        },
        {
            "cell_type": "markdown",
            "metadata": {
                "azdata_cell_guid": "b883932e-c47b-4de6-9629-eca0ff8aeabb"
            },
            "source": [
                "# **VIEWS**\n",
                "---"
            ]
        },
        {
            "cell_type": "markdown",
            "metadata": {
                "azdata_cell_guid": "9b5464a6-7f31-4717-812d-ff7d57317f8b"
            },
            "source": [
                "### REPEATING SHOTS ADMINISTERED"
            ]
        },
        {
            "cell_type": "code",
            "execution_count": null,
            "metadata": {
                "azdata_cell_guid": "bd311e52-c092-4c83-a611-0bf2c06cc0c3"
            },
            "outputs": [],
            "source": [
                "\n",
                "-- COPYRIGHT (C) 2020 DE STAAT DER NEDERLANDEN, MINISTERIE VAN   VOLKSGEZONDHEID, WELZIJN EN SPORT.\n",
                "-- LICENSED UNDER THE EUROPEAN UNION PUBLIC LICENCE V. 1.2 - SEE HTTPS://GITHUB.COM/MINVWS/NL-CONTACT-TRACING-APP-COORDINATIONFOR MORE INFORMATION.\n",
                "\n",
                "CREATE OR ALTER  VIEW [VWSDEST].[V_MANUAL_REPEATING_SHOTS_ADMINISTERED]\n",
                "AS\n",
                "\tWITH CTE AS (\n",
                "\t\tSELECT *\n",
                "\t\tFROM [VWSSTAGE].[MANUAL_INPUT_REPEATING_SHOTS]\n",
                "    WHERE [DATE_LAST_INSERTED] = (SELECT MAX([DATE_LAST_INSERTED]) FROM [VWSSTAGE].[MANUAL_INPUT_REPEATING_SHOTS])\n",
                "\t\tAND CATEGORY = 'HERHAALPRIK_ADMINISTERED'\n",
                "\t)\n",
                "    SELECT\n",
                "        -- Select columns,\n",
                "\t\tTop (1)\n",
                "\t\t(SELECT CAST([VALUE] AS INT) FROM CTE WHERE [KEY] = 'GGD_ADMINISTERED_TOTAL')  AS GGD_ADMINISTERED_TOTAL,\n",
                "\t\tdbo.[CONVERT_DATETIME_TO_UNIX] (CONVERT([DATETIME], (SELECT [VALUE] FROM CTE WHERE [KEY] = 'DATE_UNIX'), 105)) AS DATE_UNIX,\n",
                "        dbo.[CONVERT_DATETIME_TO_UNIX] ((SELECT [DATE_LAST_INSERTED] FROM CTE WHERE [KEY] = 'DATE_UNIX')) AS [DATE_OF_INSERTION_UNIX]\n",
                "    FROM CTE\n",
                "GO"
            ]
        },
        {
            "cell_type": "markdown",
            "metadata": {
                "azdata_cell_guid": "0b6e6071-863d-40e5-9eaf-8db2b677bf62"
            },
            "source": [
                "# **DROP ARTIFACTS**\n",
                "\n",
                "---\n"
            ]
        },
        {
            "cell_type": "markdown",
            "metadata": {
                "azdata_cell_guid": "25346da0-3039-42b5-a960-be37869ecbed"
            },
            "source": [
                "### WORKFLOWS"
            ]
        },
        {
            "cell_type": "code",
            "execution_count": null,
            "metadata": {
                "azdata_cell_guid": "5a8f74a8-fdce-4cfa-b03f-340117b681ca"
            },
            "outputs": [],
            "source": [
                "-- COPYRIGHT (C) 2020 DE STAAT DER NEDERLANDEN, MINISTERIE VAN   VOLKSGEZONDHEID, WELZIJN EN SPORT.\n",
                "-- LICENSED UNDER THE EUROPEAN UNION PUBLIC LICENCE V. 1.2 - SEE HTTPS://GITHUB.COM/MINVWS/NL-CONTACT-TRACING-APP-COORDINATIONFOR MORE INFORMATION.\n",
                "\n",
                "DECLARE @workflow_name NVARCHAR(50) = 'MANUAL INSERT REPEATING SHOTS DATA',\n",
                "        @proto_name VARCHAR(50) = 'NL';\n",
                "\n",
                "-- 1) DROP PROTOS CONFIGURATION(S).....\n",
                "DELETE FROM [DATATINO_PROTO_1].[CONFIGURATIONS]\n",
                "WHERE [VIEW_ID] IN (\n",
                "    SELECT [ID] AS VID FROM  [DATATINO_PROTO_1].[VIEWS]\n",
                "    WHERE TRIM([NAME]) IN (\n",
                "        'VWSDEST.V_MANUAL_REPEATING_SHOTS_ADMINISTERED'\n",
                "    ))\n",
                "    AND [PROTO_ID] IN (\n",
                "        SELECT [ID] FROM [DATATINO_PROTO_1].[PROTOS] protos \n",
                "        WHERE [NAME] = @proto_name\n",
                "    ) AND [NAME] IN (\n",
                "        'repeating_shots_administered',\n",
                "        'repeating_shot_administered'\n",
                "    );\n",
                "\n",
                "DELETE FROM [DATATINO_PROTO_1].[VIEWS]\n",
                "WHERE [ID] IN (\n",
                "    SELECT \n",
                "        [ID] AS VID \n",
                "    FROM  [DATATINO_PROTO_1].[VIEWS]\n",
                "    WHERE TRIM([NAME]) IN (\n",
                "        'VWSDEST.V_MANUAL_REPEATING_SHOTS_ADMINISTERED'\n",
                "    )\n",
                ")\n",
                "\n",
                "-- 2) DROP PROCESS(ES)......\n",
                ";WITH CTE \n",
                "AS\n",
                "(\n",
                "    SELECT\n",
                "        v_processes.[PROCESS_NAME],\n",
                "        processes.[ID]\n",
                "    FROM [DATATINO_ORCHESTRATOR_1].[PROCESSES] processes\n",
                "    INNER JOIN [DATATINO_ORCHESTRATOR_1].[V_WORKFLOWS] v_workflows ON v_workflows.[ID] = processes.[WORKFLOW_ID]\n",
                "    INNER JOIN [DATATINO_ORCHESTRATOR_1].[V_PROCESSES] v_processes ON v_processes.[PROCESS_ID] = processes.[ID]\n",
                "    WHERE v_processes.[PROCESS_NAME] IN (\n",
                "        'PROCESS_LOAD_MANUAL_INSERT_REPEATING_SHOTS_DATA'\n",
                "    ) AND v_workflows.[NAME] = @workflow_name\n",
                ")\n",
                "DELETE [DATATINO_ORCHESTRATOR_1].[PROCESSES] \n",
                "FROM [DATATINO_ORCHESTRATOR_1].[DATAFLOWS] dataflows, [DATATINO_ORCHESTRATOR_1].[PROCESSES] processes\n",
                "WHERE dataflows.[NAME] IN (SELECT [PROCESS_NAME] FROM CTE) \n",
                "    AND processes.[ID] IN (SELECT [ID] FROM CTE);\n",
                "\n",
                "-- 4) DROP SOURCE(S).....\n",
                "DELETE FROM [DATATINO_ORCHESTRATOR_1].[SOURCES]\n",
                "WHERE [NAME] IN (\n",
                "    'SOURCE_LOAD_MANUAL_INSERT_REPEATING_SHOTS_DATA'\n",
                ");\n",
                "\n",
                "-- 5) DROP WORKFLOW(S).....\n",
                "DELETE [DATATINO_ORCHESTRATOR_1].[WORKFLOWS]\n",
                "FROM [DATATINO_ORCHESTRATOR_1].[DATAFLOWS] dataflows, [DATATINO_ORCHESTRATOR_1].[WORKFLOWS] workflows\n",
                "WHERE dataflows.[NAME] = @workflow_name\n",
                "    AND workflows.[ID] IN (\n",
                "        SELECT\n",
                "            workflows.[ID]\n",
                "        FROM [DATATINO_ORCHESTRATOR_1].[WORKFLOWS] workflows\n",
                "        INNER JOIN [DATATINO_ORCHESTRATOR_1].[V_WORKFLOWS] v_workflows ON v_workflows.[DATAFLOW_ID] = workflows.[DATAFLOW_ID] \n",
                "            AND v_workflows.[ID] = workflows.[ID]\n",
                "        WHERE v_workflows.[NAME] = @workflow_name\n",
                "    );\n",
                "\n",
                "-- 6) DROP DATAFLOW(S).....\n",
                "DELETE [DATATINO_ORCHESTRATOR_1].[H_DATAFLOWS]\n",
                "WHERE [NAME] IN (\n",
                "    'PROCESS_LOAD_MANUAL_INSERT_REPEATING_SHOTS_DATA',\n",
                "    @workflow_name\n",
                ");\n",
                "\n",
                "DELETE  [DATATINO_ORCHESTRATOR_1].[DATAFLOWS]\n",
                "WHERE [NAME] IN (\n",
                "    'PROCESS_LOAD_MANUAL_INSERT_REPEATING_SHOTS_DATA',\n",
                "    @workflow_name\n",
                ")\n",
                "GO"
            ]
        },
        {
            "cell_type": "markdown",
            "metadata": {
                "azdata_cell_guid": "9ecf89cb-f8c2-4453-90a7-cd43a8ad95fa"
            },
            "source": [
                "# **DATATINO CONFIGURATIONS**\n",
                "---"
            ]
        },
        {
            "cell_type": "markdown",
            "metadata": {
                "azdata_cell_guid": "748e7055-51b9-4a20-aca7-6a0204882033"
            },
            "source": [
                "### WORKFLOWS"
            ]
        },
        {
            "cell_type": "code",
            "execution_count": null,
            "metadata": {
                "azdata_cell_guid": "e764231c-a4a5-4719-9f91-a1b3e27f82f5"
            },
            "outputs": [],
            "source": [
                "-- COPYRIGHT (C) 2020 DE STAAT DER NEDERLANDEN, MINISTERIE VAN   VOLKSGEZONDHEID, WELZIJN EN SPORT.\n",
                "-- LICENSED UNDER THE EUROPEAN UNION PUBLIC LICENCE V. 1.2 - SEE HTTPS://GITHUB.COM/MINVWS/NL-CONTACT-TRACING-APP-COORDINATIONFOR MORE INFORMATION.\n",
                "\n",
                "DECLARE @workflow_name NVARCHAR(50) = 'MANUAL INSERT REPEATING SHOTS DATA'\n",
                "\n",
                "-- 1) UPSERT WORKFLOW(S).....\n",
                "EXECUTE [DATATINO_ORCHESTRATOR_1].[UPSERT_WORKFLOW]\n",
                "    @id = null, \n",
                "    @workflow_name = @workflow_name,\n",
                "    @description = 'MANUAL INSERT OF REPEATING SHOTS DATA', \n",
                "    @schedule = '0 14 * * MON-FRI', -- DAILY AT 01:00 PM\n",
                "    @active = 1;\n",
                "\n",
                "-- 2) UPSERT SOURCE(S).....\n",
                "EXECUTE [DATATINO_ORCHESTRATOR_1].[UPSERT_SOURCE] \n",
                "    @id = null,\n",
                "    @source_name = 'SOURCE_LOAD_MANUAL_INSERT_REPEATING_SHOTS_DATA',\n",
                "    @description = 'SOURCE MANUAL INSERT OF REPEATING SHOTS DATA',\n",
                "    @source = 'datafiles/VWS/Handmatige_invoer_Herhaalprik_data.csv',\n",
                "    @source_columns = 'CATEGORY|KEY|VALUE',\n",
                "    @target_columns = 'CATEGORY|KEY|VALUE',\n",
                "    @target_name = 'VWSSTAGE.MANUAL_INPUT_REPEATING_SHOTS',\n",
                "    @source_type = 'CsvFile',\n",
                "    @location_type = 'AzureBlob',\n",
                "    @delimiter_type = 'SemiColon',\n",
                "    @security_profile= 'RIVM';\n",
                "\n",
                "-- 3) UPSERT PROCESS(ES).....\n",
                "DECLARE @process_id INT,\n",
                "        @process_name NVARCHAR(256),\n",
                "        @process_description NVARCHAR(256),\n",
                "        @process_source_name VARCHAR(256);\n",
                "\n",
                "-- 3.1) UPSERT TABLE PROCESS(ES): STAGING......\n",
                "SET @process_name = 'PROCESS_LOAD_MANUAL_INSERT_REPEATING_SHOTS_DATA';\n",
                "SET @process_description = CONCAT('LOAD: ', @workflow_name);\n",
                "SET @process_source_name = 'SOURCE_LOAD_MANUAL_INSERT_REPEATING_SHOTS_DATA';\n",
                "\n",
                "SELECT TOP(1)\n",
                "    @process_id = processes.[ID]\n",
                "FROM [DATATINO_ORCHESTRATOR_1].[PROCESSES] processes\n",
                "INNER JOIN [DATATINO_ORCHESTRATOR_1].[V_WORKFLOWS] v_workflows ON v_workflows.[ID] = processes.[WORKFLOW_ID]\n",
                "INNER JOIN [DATATINO_ORCHESTRATOR_1].[V_PROCESSES] v_processes ON v_processes.[PROCESS_ID] = processes.[ID]\n",
                "WHERE v_processes.[PROCESS_NAME] = @process_name \n",
                "    AND v_workflows.[NAME] = @workflow_name;\n",
                "\n",
                "EXECUTE [DATATINO_ORCHESTRATOR_1].[UPSERT_PROCESS]\n",
                "    @id = @process_id,\n",
                "    @process_name = @process_name,\n",
                "    @description = @process_description,\n",
                "    @source_name = @process_source_name,\n",
                "    @schedule = '* * * * *',\n",
                "    @workflow_name = @workflow_name,\n",
                "    @active = 1;  \n",
                "GO"
            ]
        },
        {
            "cell_type": "markdown",
            "metadata": {
                "azdata_cell_guid": "ed69a7b9-56b5-49f0-894a-4fd9aa55b797"
            },
            "source": [
                "### PROTOS"
            ]
        },
        {
            "cell_type": "code",
            "execution_count": null,
            "metadata": {
                "azdata_cell_guid": "4b23e306-f4e6-40b8-830e-e80efd535a5b",
                "tags": []
            },
            "outputs": [],
            "source": [
                "-- COPYRIGHT (C) 2020 DE STAAT DER NEDERLANDEN, MINISTERIE VAN   VOLKSGEZONDHEID, WELZIJN EN SPORT.\n",
                "-- LICENSED UNDER THE EUROPEAN UNION PUBLIC LICENCE V. 1.2 - SEE HTTPS://GITHUB.COM/MINVWS/NL-CONTACT-TRACING-APP-COORDINATIONFOR MORE INFORMATION.\n",
                "\n",
                "DECLARE @workflow_name NVARCHAR(50) = 'MANUAL INSERT REPEATING SHOTS DATA';\n",
                "\n",
                "--VIEW THIRD_SHOT_ADMINISTERED\n",
                "-- 1) UPSERT PROTO VIEW(S).....\n",
                "    EXECUTE [DATATINO_PROTO_1].[UPSERT_VIEW] \n",
                "    @id = null,\n",
                "    @view_name ='VWSDEST.V_MANUAL_REPEATING_SHOTS_ADMINISTERED',\n",
                "    @description = 'VIEW OF V_MANUAL_REPEATING_SHOTS_ADMINISTERED',\n",
                "    @last_update_name = 'DATE_OF_INSERTION_UNIX',\n",
                "    @constraint_key_name = null,\n",
                "    @constraint_value = null,\n",
                "    @grouped_key_name = null,\n",
                "    @grouped_last_update_name = null;\n",
                "\n",
                "-- 2) UPSERT PROTO CONFIGURATION(S).....\n",
                "EXECUTE [DATATINO_PROTO_1].[UPSERT_CONFIGURATION]\n",
                "    @id = null,\n",
                "    @proto_name = 'NL',\n",
                "    @description = 'VIEW CONFIGURATION FOR VWSDEST.V_MANUAL_REPEATING_SHOTS_ADMINISTERED',\n",
                "    @view_name = 'VWSDEST.V_MANUAL_REPEATING_SHOTS_ADMINISTERED',\n",
                "    @item_name = 'repeating_shot_administered',\n",
                "    @constrained = '0',\n",
                "    @grouped = '0',\n",
                "    @columns = '*',\n",
                "    @mapping = '=LOWER()',\n",
                "    @layout_type_id = '1',\n",
                "    @active = '1';"
            ]
        }
    ],
    "metadata": {
        "kernelspec": {
            "display_name": "SQL",
            "language": "sql",
            "name": "SQL"
        },
        "language_info": {
            "name": "sql",
            "version": ""
        }
    },
    "nbformat": 4,
    "nbformat_minor": 2
}
