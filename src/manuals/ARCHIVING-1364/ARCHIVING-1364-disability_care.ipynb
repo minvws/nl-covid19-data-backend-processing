{
    "cells": [
        {
            "attachments": {},
            "cell_type": "markdown",
            "metadata": {
                "azdata_cell_guid": "a1bff903-eb61-4e65-82a1-c4e918bbcac8"
            },
            "source": [
                "# **INTRODUCTIONS**\n",
                "\n",
                "---"
            ]
        },
        {
            "cell_type": "markdown",
            "metadata": {
                "azdata_cell_guid": "5f7eda1c-d087-4bbd-8504-802228776c0d"
            },
            "source": [
                "# **DEPENDENCIES**\n",
                "\n",
                "---\n",
                "\n",
                "```json\n",
                "{\n",
                "    \"depends-on\": [\n",
                "        \"src/utils/schemas.ipynb\",\n",
                "        \"src/utils/conversions.ipynb\",\n",
                "        \"src/utils/protos.ipynb\"\n",
                "    ]\n",
                "}\n",
                "```"
            ]
        },
        {
            "attachments": {},
            "cell_type": "markdown",
            "metadata": {},
            "source": [
                "# **DISABILITY_CARE - NL**\n",
                "\n",
                "---"
            ]
        },
        {
            "attachments": {},
            "cell_type": "markdown",
            "metadata": {},
            "source": [
                "Archive Table"
            ]
        },
        {
            "cell_type": "code",
            "execution_count": null,
            "metadata": {
                "dotnet_interactive": {
                    "language": "sql"
                },
                "vscode": {
                    "languageId": "sql"
                }
            },
            "outputs": [],
            "source": [
                "-- 1) CREATE TABLE(S).....\n",
                "IF NOT EXISTS (SELECT * FROM [SYS].[TABLES] WHERE [OBJECT_ID] = OBJECT_ID('[VWSARCHIVE].[DISABILITY_ARCHIVED_20230126]'))\n",
                "CREATE TABLE [VWSARCHIVE].[DISABILITY_ARCHIVED_20230126] (\n",
                "\t[ID] [int] NOT NULL,\n",
                "\t[DATE_OF_REPORT] [datetime] NULL,\n",
                "\t[DATE_OF_REPORT_UNIX] [bigint] NULL,\n",
                "\t[INFECTED_DISABILITY_DAILY] [int] NULL,\n",
                "\t[DECEASED_DISABILITY_DAILY] [int] NULL,\n",
                "\t[TOTAL_NEW_INFECTED_LOCATIONS] [int] NULL,\n",
                "\t[TOTAL_INFECTED_LOCATIONS] [int] NULL,\n",
                "\t[TOTAL_LOCATIONS] [int] NULL,\n",
                "\t[PERCENTAGE_INFECTED_LOCATIONS] [float] NULL,\n",
                "\t[DATE_LAST_INSERTED] [DATETIME] DEFAULT GETDATE(),\n",
                "\t[DATE_RANGE_START] [datetime] NULL,\n",
                "\t[DATE_OF_REPORTS_LAG] [datetime] NULL,\n",
                "\t[DATE_RANGE_START_LAG] [datetime] NULL,\n",
                "\t[7D_AVERAGE_TOTAL_INFECTED] [decimal](16, 2) NULL,\n",
                "\t[7D_AVERAGE_TOTAL_INFECTED_LAG] [decimal](16, 2) NULL,\n",
                "\t[7D_AVERAGE_TOTAL_DECEASED] [decimal](16, 2) NULL,\n",
                "\t[7D_AVERAGE_TOTAL_DECEASED_LAG] [decimal](16, 2) NULL\n",
                ");\n",
                "GO\n"
            ]
        },
        {
            "attachments": {},
            "cell_type": "markdown",
            "metadata": {},
            "source": [
                "Stored procedure"
            ]
        },
        {
            "cell_type": "code",
            "execution_count": null,
            "metadata": {
                "dotnet_interactive": {
                    "language": "sql"
                },
                "vscode": {
                    "languageId": "sql"
                }
            },
            "outputs": [],
            "source": [
                "\n",
                "CREATE OR ALTER PROCEDURE [dbo].[SP_DISABILITY_ARCHIVED_20230126] AS\n",
                "BEGIN\n",
                "    TRUNCATE TABLE [VWSARCHIVE].[DISABILITY_ARCHIVED_20230126]\n",
                "\n",
                "    INSERT INTO [VWSARCHIVE].[DISABILITY_ARCHIVED_20230126] (\n",
                "        \t[ID],\n",
                "            [DATE_OF_REPORT],\n",
                "            [DATE_OF_REPORT_UNIX],\n",
                "            [INFECTED_DISABILITY_DAILY],\n",
                "            [DECEASED_DISABILITY_DAILY],\n",
                "            [TOTAL_NEW_INFECTED_LOCATIONS],\n",
                "            [TOTAL_INFECTED_LOCATIONS],\n",
                "            [TOTAL_LOCATIONS],\n",
                "            [PERCENTAGE_INFECTED_LOCATIONS],\n",
                "            [DATE_LAST_INSERTED],\n",
                "            [DATE_RANGE_START],\n",
                "            [DATE_OF_REPORTS_LAG],\n",
                "            [DATE_RANGE_START_LAG],\n",
                "            [7D_AVERAGE_TOTAL_INFECTED],\n",
                "            [7D_AVERAGE_TOTAL_INFECTED_LAG],\n",
                "            [7D_AVERAGE_TOTAL_DECEASED],\n",
                "            [7D_AVERAGE_TOTAL_DECEASED_LAG]\n",
                "    )\n",
                "    SELECT \n",
                "            [ID],\n",
                "            [DATE_OF_REPORT],\n",
                "            [DATE_OF_REPORT_UNIX],\n",
                "            [INFECTED_DISABILITY_DAILY],\n",
                "            [DECEASED_DISABILITY_DAILY],\n",
                "            [TOTAL_NEW_INFECTED_LOCATIONS],\n",
                "            [TOTAL_INFECTED_LOCATIONS],\n",
                "            [TOTAL_LOCATIONS],\n",
                "            [PERCENTAGE_INFECTED_LOCATIONS],\n",
                "            [DATE_LAST_INSERTED],\n",
                "            [DATE_RANGE_START],\n",
                "            [DATE_OF_REPORTS_LAG],\n",
                "            [DATE_RANGE_START_LAG],\n",
                "            [7D_AVERAGE_TOTAL_INFECTED],\n",
                "            [7D_AVERAGE_TOTAL_INFECTED_LAG],\n",
                "            [7D_AVERAGE_TOTAL_DECEASED],\n",
                "            [7D_AVERAGE_TOTAL_DECEASED_LAG]\n",
                "    FROM [VWSDEST].[DISABILITY]\n",
                "    WHERE [DATE_LAST_INSERTED] = (SELECT MAX([DATE_LAST_INSERTED]) FROM [VWSDEST].[DISABILITY])\n",
                "END\n"
            ]
        },
        {
            "cell_type": "markdown",
            "metadata": {},
            "source": [
                "View"
            ]
        },
        {
            "cell_type": "code",
            "execution_count": null,
            "metadata": {
                "dotnet_interactive": {
                    "language": "sql"
                },
                "vscode": {
                    "languageId": "sql"
                }
            },
            "outputs": [],
            "source": [
                "-- Copyright (c) 2020 De Staat der Nederlanden, Ministerie van   Volksgezondheid, Welzijn en Sport.\n",
                "-- Licensed under the EUROPEAN UNION PUBLIC LICENCE v. 1.2 - see https://github.com/minvws/nl-contact-tracing-app-coordinationfor more information.\n",
                "CREATE OR ALTER VIEW [VWSDEST].[V_DISABILITY_NATIONAL_ARCHIVED_20230126]\n",
                "AS\n",
                "    SELECT\n",
                "    [INFECTED_DISABILITY_DAILY] AS newly_infected_people,\n",
                "    [7D_AVERAGE_TOTAL_INFECTED] AS NEWLY_INFECTED_PEOPLE_MOVING_AVERAGE,\n",
                "    [TOTAL_NEW_INFECTED_LOCATIONS] AS newly_infected_locations,\n",
                "    [TOTAL_INFECTED_LOCATIONS] AS infected_locations_total,\n",
                "    [PERCENTAGE_INFECTED_LOCATIONS] AS infected_locations_percentage,\n",
                "    [DECEASED_DISABILITY_DAILY] AS deceased_daily,\n",
                "    [7D_AVERAGE_TOTAL_DECEASED] AS DECEASED_DAILY_MOVING_AVERAGE,\n",
                "    [DATE_OF_REPORT_UNIX] AS date_unix,\n",
                "    dbo.CONVERT_DATETIME_TO_UNIX([DATE_LAST_INSERTED]) AS date_of_insertion_unix\n",
                "    FROM [VWSARCHIVE].[DISABILITY_ARCHIVED_20230126]\n",
                "    WHERE DATE_OF_REPORT >=  '2020-02-27 00:00:00.000'\n",
                "    AND DATE_OF_REPORT <  (SELECT MAX(DATE_OF_REPORT) FROM [VWSARCHIVE].[DISABILITY_ARCHIVED_20230126])\n",
                "    AND DATE_LAST_INSERTED = (SELECT max(DATE_LAST_INSERTED) FROM [VWSARCHIVE].[DISABILITY_ARCHIVED_20230126])\n",
                "GO\n",
                "\n",
                "\n"
            ]
        },
        {
            "cell_type": "markdown",
            "metadata": {},
            "source": [
                "protos"
            ]
        },
        {
            "cell_type": "code",
            "execution_count": null,
            "metadata": {
                "vscode": {
                    "languageId": "sql"
                }
            },
            "outputs": [],
            "source": [
                "-- INACTIVATE OLD PROTO CONFIGURATION\n",
                "@item_name VARCHAR(256) = 'disability_care',\n",
                "@proto_name VARCHAR(50) = 'NL',\n",
                "@is_active INT = 0;\n",
                "\n",
                "UPDATE [DATATINO_PROTO_1].[CONFIGURATIONS]\n",
                "SET [ACTIVE] = @is_active\n",
                "WHERE [ID] IN (\n",
                "    SELECT\n",
                "        configs.[ID]\n",
                "    FROM [DATATINO_PROTO_1].[VIEWS] views\n",
                "    INNER JOIN [DATATINO_PROTO_1].[CONFIGURATIONS] AS configs ON views.[ID] = configs.[VIEW_ID]\n",
                "        AND configs.[NAME] = @item_name\n",
                "    INNER JOIN [DATATINO_PROTO_1].[PROTOS] AS protos ON protos.[ID] = configs.[PROTO_ID]\n",
                "        AND protos.[NAME] NOT LIKE '%_COLLECTION' AND protos.[NAME] LIKE @proto_name \n",
                ");"
            ]
        },
        {
            "cell_type": "code",
            "execution_count": null,
            "metadata": {
                "dotnet_interactive": {
                    "language": "sql"
                },
                "vscode": {
                    "languageId": "sql"
                }
            },
            "outputs": [],
            "source": [
                "-- 1) SET ENVIRONMENTAL VARIABLES.....\n",
                "DECLARE @view_name VARCHAR(256) = 'VWSDEST.V_DISABILITY_NATIONAL_ARCHIVED_20230126',\n",
                "        @view_description VARCHAR(256),\n",
                "        @item_name VARCHAR(256) = 'disability_care_archived_20230126',\n",
                "        @config_description VARCHAR(256),\n",
                "        @constraint_value VARCHAR(50) = NULL,\n",
                "        @constraint_key_name VARCHAR(50) = NULL,\n",
                "        @grouped_key_name VARCHAR(50) = NULL,\n",
                "        @grouped_last_update_name VARCHAR(50) = NULL,\n",
                "        @proto_name VARCHAR(50) = 'NL',\n",
                "        @columns VARCHAR(256) = '*',\n",
                "        @layout_type_id INT = 1,\n",
                "        @last_update_name VARCHAR(50) = 'DATE_UNIX',\n",
                "        @is_active INT;\n",
                "        \n",
                "SET @is_active = CASE LOWER('#{ Environment }#')\n",
                "    WHEN 'production' THEN 1\n",
                "    WHEN 'acceptance' THEN 1\n",
                "    ELSE 1\n",
                "END;\n",
                "\n",
                "SET @view_description = CONCAT('VIEW: ', @view_name, ' FOR ', @item_name);\n",
                "SET @config_description = CONCAT('VIEW CONFIGURATION: ', @view_name, ' FOR ', @item_name);\n",
                "\n",
                "-- 2) DETERMINE VIEW ID & CONFIGURATION ID\n",
                "DECLARE @constrained INT,\n",
                "        @grouped INT,\n",
                "        @view_id BIGINT,\n",
                "        @config_id BIGINT;\n",
                "\n",
                "SET @constrained = CASE \n",
                "    WHEN @constraint_key_name IS NULL THEN 0\n",
                "    ELSE 1\n",
                "END;\n",
                "SET @grouped = CASE \n",
                "    WHEN @grouped_key_name IS NULL THEN 0\n",
                "    ELSE 1\n",
                "END;\n",
                "\n",
                "DELETE FROM [DATATINO_PROTO_1].[CONFIGURATIONS]\n",
                "WHERE [ID] IN (\n",
                "    SELECT\n",
                "        configs.[ID]\n",
                "    FROM [DATATINO_PROTO_1].[VIEWS] views\n",
                "    INNER JOIN [DATATINO_PROTO_1].[CONFIGURATIONS] AS configs ON views.[ID] = configs.[VIEW_ID]\n",
                "        AND configs.[NAME] = @item_name\n",
                "    INNER JOIN [DATATINO_PROTO_1].[PROTOS] AS protos ON protos.[ID] = configs.[PROTO_ID]\n",
                "        AND protos.[NAME] = @proto_name\n",
                ");\n",
                "\n",
                "SELECT \n",
                "    @view_id = [ID]\n",
                "FROM [DATATINO_PROTO_1].[VIEWS]\n",
                "WHERE ISNULL([CONSTRAINT_VALUE], 'X') = ISNULL(@constraint_value, 'X')\n",
                "    AND ISNULL([CONSTRAINT_KEY_NAME], 'X') = ISNULL(@constraint_key_name, 'X')\n",
                "    AND ISNULL([GROUPED_KEY_NAME], 'X') = ISNULL(@grouped_key_name, 'X')\n",
                "    AND ISNULL([GROUPED_LAST_UPDATE_NAME], 'X') = ISNULL(@grouped_last_update_name, 'X')\n",
                "    AND [NAME] = @view_name;\n",
                "\n",
                "SELECT\n",
                "    @config_id = configs.[ID]\n",
                "FROM [DATATINO_PROTO_1].[VIEWS] views\n",
                "INNER JOIN [DATATINO_PROTO_1].[CONFIGURATIONS] AS configs ON views.[ID] = configs.[VIEW_ID]\n",
                "    AND configs.[NAME] = @item_name\n",
                "    AND configs.[VIEW_ID] = @view_id\n",
                "INNER JOIN [DATATINO_PROTO_1].[PROTOS] AS protos ON protos.[ID] = configs.[PROTO_ID]\n",
                "    AND protos.[NAME] = @proto_name\n",
                "WHERE views.[NAME] = @view_name;\n",
                "\n",
                "-- 3) UPSERT PROTO VIEW(S).....\n",
                "EXECUTE [DATATINO_PROTO_1].[UPSERT_VIEW]\n",
                "    @id = @view_id,\n",
                "    @view_name = @view_name,\n",
                "    @description = @view_description,\n",
                "    @last_update_name = @last_update_name,\n",
                "    @constraint_key_name = @constraint_key_name,\n",
                "    @constraint_value = @constraint_value,\n",
                "    @grouped_key_name = @grouped_key_name,\n",
                "    @grouped_last_update_name = @grouped_last_update_name;\n",
                "\n",
                "-- 4) UPSERT PROTO CONFIGURATION(S).....\n",
                "EXECUTE [DATATINO_PROTO_1].[UPSERT_CONFIGURATION]\n",
                "    @id = @config_id,\n",
                "    @proto_name = @proto_name,\n",
                "    @description =  @config_description,\n",
                "    @view_name = @view_name,\n",
                "    @item_name = @item_name,\n",
                "    @constrained = @constrained,\n",
                "    @grouped = @grouped,\n",
                "    @columns = @columns,\n",
                "    @mapping = '=LOWER()',\n",
                "    @layout_type_id = @layout_type_id,\n",
                "    @active = @is_active,\n",
                "    @constraint_key_name = @constraint_key_name,\n",
                "    @constraint_value = @constraint_value,\n",
                "    @grouped_key_name = @grouped_key_name,\n",
                "    @grouped_last_update_name = @grouped_last_update_name;\n",
                "GO"
            ]
        },
        {
            "attachments": {},
            "cell_type": "markdown",
            "metadata": {},
            "source": [
                "# **DISABILITY_CARE - VR**\n",
                "\n",
                "---"
            ]
        },
        {
            "attachments": {},
            "cell_type": "markdown",
            "metadata": {},
            "source": [
                "Archive Table"
            ]
        },
        {
            "cell_type": "code",
            "execution_count": null,
            "metadata": {
                "vscode": {
                    "languageId": "sql"
                }
            },
            "outputs": [],
            "source": [
                "-- 1) CREATE TABLE(S).....\n",
                "IF NOT EXISTS (SELECT * FROM [SYS].[TABLES] WHERE [OBJECT_ID] = OBJECT_ID('[VWSARCHIVE].[DISABILITY_VR_ARCHIVED_20230126]'))\n",
                "CREATE TABLE [VWSARCHIVE].[DISABILITY_VR_ARCHIVED_20230126](\n",
                "\t[ID] [int] NOT NULL,\n",
                "\t[DATE_OF_REPORT] [datetime] NULL,\n",
                "\t[DATE_OF_REPORT_UNIX] [bigint] NULL,\n",
                "\t[VRCODE] [varchar](100) NULL,\n",
                "\t[INFECTED_DISABILITY_DAILY] [int] NULL,\n",
                "\t[DECEASED_DISABILITY_DAILY] [int] NULL,\n",
                "\t[TOTAL_NEW_INFECTED_LOCATIONS] [int] NULL,\n",
                "\t[TOTAL_INFECTED_LOCATIONS] [int] NULL,\n",
                "\t[TOTAL_LOCATIONS] [int] NULL,\n",
                "\t[PERCENTAGE_INFECTED_LOCATIONS] [float] NULL,\n",
                "\t[DATE_LAST_INSERTED] [DATETIME] DEFAULT GETDATE(),\n",
                "\t[DATE_RANGE_START] [datetime] NULL,\n",
                "\t[DATE_OF_REPORTS_LAG] [datetime] NULL,\n",
                "\t[DATE_RANGE_START_LAG] [datetime] NULL,\n",
                "\t[7D_AVERAGE_TOTAL_INFECTED] [decimal](16, 2) NULL,\n",
                "\t[7D_AVERAGE_TOTAL_INFECTED_LAG] [decimal](16, 2) NULL,\n",
                "\t[7D_AVERAGE_TOTAL_DECEASED] [decimal](16, 2) NULL,\n",
                "\t[7D_AVERAGE_TOTAL_DECEASED_LAG] [decimal](16, 2) NULL\n",
                ");\n",
                "GO\n"
            ]
        },
        {
            "attachments": {},
            "cell_type": "markdown",
            "metadata": {},
            "source": [
                "Stored Procedure"
            ]
        },
        {
            "cell_type": "code",
            "execution_count": null,
            "metadata": {
                "vscode": {
                    "languageId": "sql"
                }
            },
            "outputs": [],
            "source": [
                "\n",
                "CREATE OR ALTER PROCEDURE [dbo].[SP_DISABILITY_VR_ARCHIVED_20230126] AS\n",
                "BEGIN\n",
                "    TRUNCATE TABLE [VWSARCHIVE].[DISABILITY_VR_ARCHIVED_20230126]\n",
                "\n",
                "    INSERT INTO [VWSARCHIVE].[DISABILITY_VR_ARCHIVED_20230126] (\n",
                "        \t[ID],\n",
                "            [DATE_OF_REPORT],\n",
                "            [DATE_OF_REPORT_UNIX],\n",
                "            [VRCODE],\n",
                "            [INFECTED_DISABILITY_DAILY],\n",
                "            [DECEASED_DISABILITY_DAILY],\n",
                "            [TOTAL_NEW_INFECTED_LOCATIONS],\n",
                "            [TOTAL_INFECTED_LOCATIONS],\n",
                "            [TOTAL_LOCATIONS],\n",
                "            [PERCENTAGE_INFECTED_LOCATIONS],\n",
                "            [DATE_LAST_INSERTED],\n",
                "            [DATE_RANGE_START],\n",
                "            [DATE_OF_REPORTS_LAG],\n",
                "            [DATE_RANGE_START_LAG],\n",
                "            [7D_AVERAGE_TOTAL_INFECTED],\n",
                "            [7D_AVERAGE_TOTAL_INFECTED_LAG],\n",
                "            [7D_AVERAGE_TOTAL_DECEASED],\n",
                "            [7D_AVERAGE_TOTAL_DECEASED_LAG]\n",
                "    )\n",
                "    SELECT \n",
                "        \t[ID],\n",
                "            [DATE_OF_REPORT],\n",
                "            [DATE_OF_REPORT_UNIX],\n",
                "            [VRCODE],\n",
                "            [INFECTED_DISABILITY_DAILY],\n",
                "            [DECEASED_DISABILITY_DAILY],\n",
                "            [TOTAL_NEW_INFECTED_LOCATIONS],\n",
                "            [TOTAL_INFECTED_LOCATIONS],\n",
                "            [TOTAL_LOCATIONS],\n",
                "            [PERCENTAGE_INFECTED_LOCATIONS],\n",
                "            [DATE_LAST_INSERTED],\n",
                "            [DATE_RANGE_START],\n",
                "            [DATE_OF_REPORTS_LAG],\n",
                "            [DATE_RANGE_START_LAG],\n",
                "            [7D_AVERAGE_TOTAL_INFECTED],\n",
                "            [7D_AVERAGE_TOTAL_INFECTED_LAG],\n",
                "            [7D_AVERAGE_TOTAL_DECEASED],\n",
                "            [7D_AVERAGE_TOTAL_DECEASED_LAG]\n",
                "    FROM [VWSDEST].[DISABILITY_VR]\n",
                "    WHERE [DATE_LAST_INSERTED] = (SELECT MAX([DATE_LAST_INSERTED]) FROM [VWSDEST].[DISABILITY_VR])\n",
                "END\n"
            ]
        },
        {
            "attachments": {},
            "cell_type": "markdown",
            "metadata": {},
            "source": [
                "View"
            ]
        },
        {
            "cell_type": "code",
            "execution_count": null,
            "metadata": {
                "vscode": {
                    "languageId": "sql"
                }
            },
            "outputs": [],
            "source": [
                "-- Copyright (c) 2020 De Staat der Nederlanden, Ministerie van   Volksgezondheid, Welzijn en Sport.\n",
                "-- Licensed under the EUROPEAN UNION PUBLIC LICENCE v. 1.2 - see https://github.com/minvws/nl-contact-tracing-app-coordinationfor more information.\n",
                "CREATE OR ALTER VIEW [VWSDEST].[V_DISABILITY_VR_ARCHIVED_20230126]\n",
                "AS\n",
                "    SELECT\n",
                "    [DATE_OF_REPORT_UNIX] AS date_unix,\n",
                "    dbo.CONVERT_DATETIME_TO_UNIX([DATE_LAST_INSERTED]) AS date_of_insertion_unix,\n",
                "    [VRCODE] as vrcode,\n",
                "    [INFECTED_DISABILITY_DAILY] AS newly_infected_people,\n",
                "    [7D_AVERAGE_TOTAL_INFECTED] AS NEWLY_INFECTED_PEOPLE_MOVING_AVERAGE,\n",
                "    [TOTAL_NEW_INFECTED_LOCATIONS] AS newly_infected_locations,\n",
                "    [TOTAL_INFECTED_LOCATIONS] AS infected_locations_total,\n",
                "    [PERCENTAGE_INFECTED_LOCATIONS] AS infected_locations_percentage,\n",
                "    [DECEASED_DISABILITY_DAILY] AS deceased_daily,\n",
                "    [7D_AVERAGE_TOTAL_DECEASED] AS DECEASED_DAILY_MOViNG_AVERAGE\n",
                "    FROM [VWSARCHIVE].[DISABILITY_VR_ARCHIVED_20230126] WITH(NOLOCK)\n",
                "    WHERE DATE_OF_REPORT >=  '2020-02-27 00:00:00.000'\n",
                "    AND DATE_OF_REPORT <  (SELECT MAX(DATE_OF_REPORT) FROM [VWSARCHIVE].[DISABILITY_VR_ARCHIVED_20230126] WITH(NOLOCK))\n",
                "    AND DATE_LAST_INSERTED = (SELECT max(DATE_LAST_INSERTED) FROM [VWSARCHIVE].[DISABILITY_VR_ARCHIVED_20230126] WITH(NOLOCK))\n",
                "GO\n",
                "\n",
                "\n"
            ]
        },
        {
            "attachments": {},
            "cell_type": "markdown",
            "metadata": {},
            "source": [
                "protos"
            ]
        },
        {
            "cell_type": "code",
            "execution_count": null,
            "metadata": {
                "vscode": {
                    "languageId": "sql"
                }
            },
            "outputs": [],
            "source": [
                "-- INACTIVATE OLD PROTO CONFIGURATION\n",
                "@item_name VARCHAR(256) = 'disability_care',\n",
                "@proto_name VARCHAR(50) = 'VR%',\n",
                "@is_active INT = 0;\n",
                "\n",
                "UPDATE [DATATINO_PROTO_1].[CONFIGURATIONS]\n",
                "SET [ACTIVE] = @is_active\n",
                "WHERE [ID] IN (\n",
                "    SELECT\n",
                "        configs.[ID]\n",
                "    FROM [DATATINO_PROTO_1].[VIEWS] views\n",
                "    INNER JOIN [DATATINO_PROTO_1].[CONFIGURATIONS] AS configs ON views.[ID] = configs.[VIEW_ID]\n",
                "        AND configs.[NAME] = @item_name\n",
                "    INNER JOIN [DATATINO_PROTO_1].[PROTOS] AS protos ON protos.[ID] = configs.[PROTO_ID]\n",
                "        AND protos.[NAME] NOT LIKE '%_COLLECTION' AND protos.[NAME] LIKE @proto_name \n",
                ");"
            ]
        },
        {
            "cell_type": "code",
            "execution_count": null,
            "metadata": {
                "vscode": {
                    "languageId": "sql"
                }
            },
            "outputs": [],
            "source": [
                "-- 1) CREATE PROTOS CONFIGURATION(S).....\n",
                "DECLARE @current_proto_name VARCHAR(50)\n",
                "\n",
                "DECLARE @proto_name_table TABLE (\n",
                "    [PROTO_NAME] VARCHAR(50)\n",
                ");\n",
                "\n",
                "-- 1) CREATE PROTO(S)...\n",
                "INSERT INTO @proto_name_table \n",
                "SELECT Distinct [NAME]\n",
                "    FROM [DATATINO_PROTO_1].[PROTOS]\n",
                "    WHERE NAME NOT LIKE 'VR_COLLECTION' AND NAME LIKE 'VR%' \n",
                "ORDER BY NAME\n",
                "\n",
                "DECLARE CUR CURSOR LOCAL FAST_FORWARD\n",
                "FOR\n",
                "SELECT [PROTO_NAME]\n",
                "FROM @proto_name_table;\n",
                "\n",
                "OPEN CUR;\n",
                "\n",
                "FETCH NEXT FROM CUR\n",
                "INTO @current_proto_name;\n",
                "\n",
                "WHILE @@FETCH_STATUS = 0\n",
                "BEGIN\n",
                "\n",
                "\n",
                "-- 1) DETERMINE VIEW ID & CONFIGURATION ID\n",
                "DECLARE @view_name VARCHAR(256) = 'VWSDEST.V_DISABILITY_VR_ARCHIVED_20230126',\n",
                "        @view_description VARCHAR(256),\n",
                "        @item_name VARCHAR(256) = 'disability_care_archived_20230126',\n",
                "        @config_description VARCHAR(256),\n",
                "        @constraint_value VARCHAR(50) = @current_proto_name,\n",
                "        @constraint_key_name VARCHAR(50)= 'VRCODE',\n",
                "        @grouped_key_name VARCHAR(50) = null,\n",
                "        @grouped_last_update_name VARCHAR(50) = null,\n",
                "        @proto_name VARCHAR(50) = @current_proto_name,\n",
                "        @columns VARCHAR(1024) = '*',\n",
                "        @layout_type_id INT = 1, -- LASTVALUE\n",
                "        @last_update_name VARCHAR(50) = 'DATE_UNIX',\n",
                "        @is_active INT;\n",
                "\n",
                "-- 1.1) SET ENVIRONMENTAL VARIABLES.....\n",
                "SET @is_active = CASE LOWER('#{ Environment }#')\n",
                "    WHEN 'production' THEN 1\n",
                "    WHEN 'acceptance' THEN 1\n",
                "    ELSE 1\n",
                "END;\n",
                "\n",
                "SET @view_description = CONCAT('VIEW: ', @view_name, ' FOR ', @item_name);\n",
                "SET @config_description = CONCAT('VIEW CONFIGURATION: ', @view_name, ' FOR ', @item_name);\n",
                "\n",
                "DECLARE @constrained INT,\n",
                "        @grouped INT,\n",
                "        @view_id BIGINT = null,\n",
                "        @config_id BIGINT = null;\n",
                "\n",
                "SELECT \n",
                "    @view_id = [ID]\n",
                "FROM [DATATINO_PROTO_1].[VIEWS]\n",
                "WHERE ISNULL([CONSTRAINT_VALUE], 'X') = ISNULL(@constraint_value, 'X')\n",
                "    AND ISNULL([CONSTRAINT_KEY_NAME], 'X') = ISNULL(@constraint_key_name, 'X')\n",
                "    AND ISNULL([GROUPED_KEY_NAME], 'X') = ISNULL(@grouped_key_name, 'X')\n",
                "    AND ISNULL([GROUPED_LAST_UPDATE_NAME], 'X') = ISNULL(@grouped_last_update_name, 'X')\n",
                "    AND [NAME] = @view_name\n",
                "\n",
                "SELECT\n",
                "    @config_id = configs.[ID]\n",
                "FROM [DATATINO_PROTO_1].[VIEWS] views\n",
                "INNER JOIN [DATATINO_PROTO_1].[CONFIGURATIONS] AS configs ON views.[ID] = configs.[VIEW_ID]\n",
                "    AND configs.[NAME] = @item_name\n",
                "    AND configs.[VIEW_ID] = @view_id\n",
                "INNER JOIN [DATATINO_PROTO_1].[PROTOS] AS protos ON protos.[ID] = configs.[PROTO_ID]\n",
                "    AND protos.[NAME] = @proto_name\n",
                "WHERE views.[NAME] = @view_name;\n",
                "\n",
                "SET @constrained = CASE \n",
                "    WHEN @constraint_key_name IS NULL THEN 0\n",
                "    ELSE 1\n",
                "END;\n",
                "SET @grouped = CASE \n",
                "    WHEN @grouped_key_name IS NULL THEN 0\n",
                "    ELSE 1\n",
                "END;\n",
                "\n",
                "-- 2) UPSERT PROTO VIEW(S).....\n",
                "EXECUTE [DATATINO_PROTO_1].[UPSERT_VIEW]\n",
                "    @id = @view_id,\n",
                "    @view_name = @view_name,\n",
                "    @description = @view_description,\n",
                "    @last_update_name = @last_update_name,\n",
                "    @constraint_key_name = @constraint_key_name,\n",
                "    @constraint_value = @constraint_value,\n",
                "    @grouped_key_name = @grouped_key_name,\n",
                "    @grouped_last_update_name = @grouped_last_update_name;\n",
                "\n",
                "-- 3) UPSERT PROTO CONFIGURATION(S).....\n",
                "EXECUTE [DATATINO_PROTO_1].[UPSERT_CONFIGURATION]\n",
                "    @id = @config_id,\n",
                "    @proto_name = @proto_name,\n",
                "    @description =  @config_description,\n",
                "    @view_name = @view_name,\n",
                "    @item_name = @item_name,\n",
                "    @constrained = @constrained,\n",
                "    @grouped = @grouped,\n",
                "    @columns = @columns,\n",
                "    @mapping = '=LOWER()',\n",
                "    @layout_type_id = @layout_type_id,\n",
                "    @active = @is_active,\n",
                "    @constraint_key_name = @constraint_key_name,\n",
                "    @constraint_value = @constraint_value,\n",
                "    @grouped_key_name = @grouped_key_name,\n",
                "    @grouped_last_update_name = @grouped_last_update_name;\n",
                "\n",
                "FETCH NEXT FROM CUR\n",
                "    INTO @current_proto_name;    \n",
                "END\n",
                "\n",
                "CLOSE CUR;\n",
                "DEALLOCATE CUR;\n",
                "DELETE FROM @proto_name_table;\n",
                "GO"
            ]
        },
        {
            "attachments": {},
            "cell_type": "markdown",
            "metadata": {},
            "source": [
                "# **DISABILITY_CARE - VR_COLLECTION**\n",
                "\n",
                "---"
            ]
        },
        {
            "attachments": {},
            "cell_type": "markdown",
            "metadata": {},
            "source": [
                "View"
            ]
        },
        {
            "cell_type": "code",
            "execution_count": null,
            "metadata": {
                "vscode": {
                    "languageId": "sql"
                }
            },
            "outputs": [],
            "source": [
                "-- Copyright (c) 2020 De Staat der Nederlanden, Ministerie van   Volksgezondheid, Welzijn en Sport.\n",
                "-- Licensed under the EUROPEAN UNION PUBLIC LICENCE v. 1.2 - see https://github.com/minvws/nl-contact-tracing-app-coordinationfor more information.\n",
                "CREATE OR ALTER VIEW [VWSDEST].[V_DISABILITY_REGIONS_ARCHIVED_20230126]\n",
                "AS\n",
                "    SELECT\n",
                "    [INFECTED_DISABILITY_DAILY] AS newly_infected_people,\n",
                "    [TOTAL_NEW_INFECTED_LOCATIONS] AS newly_infected_locations,\n",
                "    [TOTAL_INFECTED_LOCATIONS] AS infected_locations_total,\n",
                "    [PERCENTAGE_INFECTED_LOCATIONS] AS infected_locations_percentage,\n",
                "    [DECEASED_DISABILITY_DAILY] AS deceased_daily,\n",
                "    [DATE_OF_REPORT_UNIX] AS date_unix,\n",
                "    dbo.CONVERT_DATETIME_TO_UNIX([DATE_LAST_INSERTED]) AS date_of_insertion_unix,\n",
                "    [VRCODE] as vrcode\n",
                "    FROM [VWSARCHIVE].[DISABILITY_VR_ARCHIVED_20230126]\n",
                "    WHERE DATE_OF_REPORT >=  '2020-02-27 00:00:00.000'\n",
                "    --For the regions file, we only need the T-1 date_of_report record per VR\n",
                "    AND DATE_OF_REPORT = (SELECT DATE_OF_REPORT from \n",
                "    (SELECT DATE_OF_REPORT, RANK() OVER (ORDER by date_of_report desc) ranking\n",
                "    FROM (SELECT DISTINCT DATE_OF_REPORT FROM [VWSARCHIVE].[DISABILITY_VR_ARCHIVED_20230126]\n",
                "    WHERE DATE_LAST_INSERTED = (SELECT MAX(DATE_LAST_INSERTED) FROM [VWSARCHIVE].[DISABILITY_VR_ARCHIVED_20230126])) x) y\n",
                "    WHERE ranking = 2)\n",
                "    AND DATE_LAST_INSERTED = (SELECT MAX(DATE_LAST_INSERTED) FROM [VWSARCHIVE].[DISABILITY_VR_ARCHIVED_20230126])\n",
                "GO\n",
                "\n",
                "\n"
            ]
        },
        {
            "attachments": {},
            "cell_type": "markdown",
            "metadata": {},
            "source": [
                "protos"
            ]
        },
        {
            "cell_type": "code",
            "execution_count": null,
            "metadata": {
                "vscode": {
                    "languageId": "sql"
                }
            },
            "outputs": [],
            "source": [
                "-- INACTIVATE OLD PROTO CONFIGURATION\n",
                "@item_name VARCHAR(256) = 'disability_care',\n",
                "@proto_name VARCHAR(50) = 'VR_COLLECTION',\n",
                "@is_active INT = 0;\n",
                "\n",
                "UPDATE [DATATINO_PROTO_1].[CONFIGURATIONS]\n",
                "SET [ACTIVE] = @is_active\n",
                "WHERE [ID] IN (\n",
                "    SELECT\n",
                "        configs.[ID]\n",
                "    FROM [DATATINO_PROTO_1].[VIEWS] views\n",
                "    INNER JOIN [DATATINO_PROTO_1].[CONFIGURATIONS] AS configs ON views.[ID] = configs.[VIEW_ID]\n",
                "        AND configs.[NAME] = @item_name\n",
                "    INNER JOIN [DATATINO_PROTO_1].[PROTOS] AS protos ON protos.[ID] = configs.[PROTO_ID]\n",
                "        AND protos.[NAME] LIKE @proto_name \n",
                ");"
            ]
        },
        {
            "cell_type": "code",
            "execution_count": null,
            "metadata": {
                "vscode": {
                    "languageId": "sql"
                }
            },
            "outputs": [],
            "source": [
                "-- 1) SET ENVIRONMENTAL VARIABLES.....\n",
                "DECLARE @view_name VARCHAR(256) = 'VWSDEST.V_DISABILITY_REGIONS_ARCHIVED_20230126',\n",
                "        @view_description VARCHAR(256),\n",
                "        @item_name VARCHAR(256) = 'disability_care_archived_20230126',\n",
                "        @config_description VARCHAR(256),\n",
                "        @constraint_value VARCHAR(50) = NULL,\n",
                "        @constraint_key_name VARCHAR(50) = NULL,\n",
                "        @grouped_key_name VARCHAR(50) = null,\n",
                "        @grouped_last_update_name VARCHAR(50) = null,\n",
                "        @proto_name VARCHAR(50) = 'VR_COLLECTION',\n",
                "        @columns VARCHAR(1024) = '*',\n",
                "        @layout_type_id INT = 4, -- VALUESDIRECT\n",
                "        @last_update_name VARCHAR(50) = 'DATE_UNIX',\n",
                "        @is_active INT;\n",
                "        \n",
                "SET @is_active = CASE LOWER('#{ Environment }#')\n",
                "    WHEN 'production' THEN 1\n",
                "    WHEN 'acceptance' THEN 1\n",
                "    ELSE 1\n",
                "END;\n",
                "\n",
                "SET @view_description = CONCAT('VIEW: ', @view_name, ' FOR ', @item_name);\n",
                "SET @config_description = CONCAT('VIEW CONFIGURATION: ', @view_name, ' FOR ', @item_name);\n",
                "\n",
                "-- 2) DETERMINE VIEW ID & CONFIGURATION ID\n",
                "DECLARE @constrained INT,\n",
                "        @grouped INT,\n",
                "        @view_id BIGINT = null,\n",
                "        @config_id BIGINT = null;\n",
                "\n",
                "SET @constrained = CASE \n",
                "    WHEN @constraint_key_name IS NULL THEN 0\n",
                "    ELSE 1\n",
                "END;\n",
                "SET @grouped = CASE \n",
                "    WHEN @grouped_key_name IS NULL THEN 0\n",
                "    ELSE 1\n",
                "END;\n",
                "\n",
                "SELECT \n",
                "    @view_id = [ID]\n",
                "FROM [DATATINO_PROTO_1].[VIEWS]\n",
                "WHERE ISNULL([CONSTRAINT_VALUE], 'X') = ISNULL(@constraint_value, 'X')\n",
                "    AND ISNULL([CONSTRAINT_KEY_NAME], 'X') = ISNULL(@constraint_key_name, 'X')\n",
                "    AND ISNULL([GROUPED_KEY_NAME], 'X') = ISNULL(@grouped_key_name, 'X')\n",
                "    AND ISNULL([GROUPED_LAST_UPDATE_NAME], 'X') = ISNULL(@grouped_last_update_name, 'X')\n",
                "    AND [NAME] = @view_name;\n",
                "    \n",
                "SELECT\n",
                "    @config_id = configs.[ID]\n",
                "FROM [DATATINO_PROTO_1].[VIEWS] views\n",
                "INNER JOIN [DATATINO_PROTO_1].[CONFIGURATIONS] AS configs ON views.[ID] = configs.[VIEW_ID]\n",
                "    AND configs.[NAME] = @item_name\n",
                "    AND configs.[VIEW_ID] = @view_id\n",
                "INNER JOIN [DATATINO_PROTO_1].[PROTOS] AS protos ON protos.[ID] = configs.[PROTO_ID]\n",
                "    AND protos.[NAME] = @proto_name\n",
                "WHERE views.[NAME] = @view_name;\n",
                "\n",
                "-- 3) UPSERT PROTO VIEW(S).....\n",
                "EXECUTE [DATATINO_PROTO_1].[UPSERT_VIEW]\n",
                "    @id = @view_id,\n",
                "    @view_name = @view_name,\n",
                "    @description = @view_description,\n",
                "    @last_update_name = @last_update_name,\n",
                "    @constraint_key_name = @constraint_key_name,\n",
                "    @constraint_value = @constraint_value,\n",
                "    @grouped_key_name = @grouped_key_name,\n",
                "    @grouped_last_update_name = @grouped_last_update_name;\n",
                "\n",
                "-- 4) UPSERT PROTO CONFIGURATION(S).....\n",
                "EXECUTE [DATATINO_PROTO_1].[UPSERT_CONFIGURATION]\n",
                "    @id = @config_id,\n",
                "    @proto_name = @proto_name,\n",
                "    @description =  @config_description,\n",
                "    @view_name = @view_name,\n",
                "    @item_name = @item_name,\n",
                "    @constrained = @constrained,\n",
                "    @grouped = @grouped,\n",
                "    @columns = @columns,\n",
                "    @mapping = '=LOWER()',\n",
                "    @layout_type_id = @layout_type_id,\n",
                "    @active = @is_active,\n",
                "    @constraint_key_name = @constraint_key_name,\n",
                "    @constraint_value = @constraint_value,\n",
                "    @grouped_key_name = @grouped_key_name,\n",
                "    @grouped_last_update_name = @grouped_last_update_name;\n",
                "GO"
            ]
        }
    ],
    "metadata": {
        "kernelspec": {
            "display_name": ".NET (C#)",
            "language": "C#",
            "name": ".net-csharp"
        },
        "language_info": {
            "file_extension": ".cs",
            "mimetype": "text/x-csharp",
            "name": "C#",
            "pygments_lexer": "csharp",
            "version": "9.0"
        }
    },
    "nbformat": 4,
    "nbformat_minor": 2
}
