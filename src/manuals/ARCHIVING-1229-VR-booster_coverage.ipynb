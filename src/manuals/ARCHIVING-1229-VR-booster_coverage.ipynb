{
    "cells": [
        {
            "cell_type": "markdown",
            "metadata": {
                "azdata_cell_guid": "a1bff903-eb61-4e65-82a1-c4e918bbcac8"
            },
            "source": [
                "# **VR booster_coverage_archived_20220904**\n"
            ]
        },
        {
            "cell_type": "markdown",
            "metadata": {
                "azdata_cell_guid": "5f7eda1c-d087-4bbd-8504-802228776c0d"
            },
            "source": [
                "# **DEPENDENCIES**\n",
                "\n",
                "---\n",
                "\n",
                "```json\n",
                "{\n",
                "    \"depends-on\": [\n",
                "        \"src/utils/schemas.ipynb\",\n",
                "        \"src/utils/conversions.ipynb\",\n",
                "        \"src/utils/protos.ipynb\"\n",
                "    ]\n",
                "}\n",
                "```"
            ]
        },
        {
            "cell_type": "markdown",
            "metadata": {},
            "source": [
                "TABLE"
            ]
        },
        {
            "cell_type": "code",
            "execution_count": null,
            "metadata": {
                "dotnet_interactive": {
                    "language": "sql"
                },
                "vscode": {
                    "languageId": "dotnet-interactive.sql"
                }
            },
            "outputs": [],
            "source": [
                "-- COPYRIGHT (C) 2020 DE STAAT DER NEDERLANDEN, MINISTERIE VAN VOLKSGEZONDHEID, WELZIJN EN SPORT.\n",
                "-- LICENSED UNDER THE EUROPEAN UNION PUBLIC LICENCE V. 1.2 - SEE HTTPS://GITHUB.COM/MINVWS/NL-CONTACT-TRACING-APP-COORDINATION FOR MORE INFORMATION.\n",
                "\n",
                "SET ANSI_NULLS ON\n",
                "GO\n",
                "\n",
                "SET QUOTED_IDENTIFIER ON\n",
                "GO\n",
                "\n",
                "-- 1) CREATE TABLE(S).....\n",
                "IF NOT EXISTS (SELECT * FROM SYS.TABLES WHERE object_id = OBJECT_ID('VWSARCHIVE.RIVM_VACCINATIONS_BOOSTER_SHOTS_COVERAGE_VR_ARCHIVED_20220904'))\n",
                "BEGIN\n",
                "    CREATE TABLE [VWSARCHIVE].[RIVM_VACCINATIONS_BOOSTER_SHOTS_COVERAGE_VR_ARCHIVED_20220904]\n",
                "    (\n",
                "        [ID] [INT] PRIMARY KEY IDENTITY(1,1),\n",
                "        [DATE_LAST_INSERTED] [DATETIME] NOT NULL DEFAULT GETDATE(),\n",
                "        [VERSION] [INT] NULL,\n",
                "        [DATE_OF_REPORT] [DATETIME] NULL,\n",
                "        [DATE_OF_STATISTICS] [DATETIME] NULL,\n",
                "        [POPULATION] [BIGINT] NULL,\n",
                "        [REGION_CODE] [VARCHAR] (256) NULL,\n",
                "        [REGION_LEVEL] [VARCHAR] (256) NULL,\n",
                "        [REGION_NAME] [VARCHAR] (256) NULL,\n",
                "        [AGE_GROUP] [VARCHAR] (256) NULL,\n",
                "        [VACCINATION_SERIE] [VARCHAR] (256) NULL,\n",
                "        [PERCENTAGE] [NUMERIC](10,2) NULL,\n",
                "        [PERCENTAGE_LABEL] [VARCHAR] (256) NULL  \n",
                "    );\n",
                "END\n",
                "GO"
            ]
        },
        {
            "cell_type": "markdown",
            "metadata": {},
            "source": [
                "STORED PROCEDURE"
            ]
        },
        {
            "cell_type": "code",
            "execution_count": null,
            "metadata": {
                "dotnet_interactive": {
                    "language": "sql"
                },
                "vscode": {
                    "languageId": "dotnet-interactive.sql"
                }
            },
            "outputs": [],
            "source": [
                "\n",
                "CREATE OR ALTER PROCEDURE [dbo].[SP_RIVM_VACCINATIONS_BOOSTER_SHOTS_COVERAGE_VR_ARCHIVED_20220904] AS\n",
                "BEGIN\n",
                "    TRUNCATE TABLE [VWSARCHIVE].[RIVM_VACCINATIONS_BOOSTER_SHOTS_COVERAGE_VR_ARCHIVED_20220904]\n",
                "\n",
                "    INSERT INTO [VWSARCHIVE].[RIVM_VACCINATIONS_BOOSTER_SHOTS_COVERAGE_VR_ARCHIVED_20220904] (\n",
                "        [DATE_LAST_INSERTED],\n",
                "        [VERSION],\n",
                "        [DATE_OF_REPORT],\n",
                "        [DATE_OF_STATISTICS],\n",
                "        [POPULATION],\n",
                "        [REGION_CODE],\n",
                "        [REGION_LEVEL],\n",
                "        [REGION_NAME],\n",
                "        [AGE_GROUP],\n",
                "        [VACCINATION_SERIE],\n",
                "        [PERCENTAGE],\n",
                "        [PERCENTAGE_LABEL]\n",
                "    )\n",
                "    SELECT\n",
                "        [DATE_LAST_INSERTED],\n",
                "        [VERSION],\n",
                "        [DATE_OF_REPORT],\n",
                "        [DATE_OF_STATISTICS],\n",
                "        [POPULATION],\n",
                "        [REGION_CODE],\n",
                "        [REGION_LEVEL],\n",
                "        [REGION_NAME],\n",
                "        [AGE_GROUP],\n",
                "        [VACCINATION_SERIE],\n",
                "        [PERCENTAGE],\n",
                "        [PERCENTAGE_LABEL]\n",
                "    FROM [VWSDEST].[RIVM_VACCINATIONS_BOOSTER_SHOTS_COVERAGE_VR]\n",
                "    WHERE [DATE_LAST_INSERTED] >= '2022-09-07' AND [DATE_LAST_INSERTED] < '2022-09-08' -- get first insertion after 20220904\n",
                "END\n"
            ]
        },
        {
            "cell_type": "markdown",
            "metadata": {},
            "source": [
                "VIEW"
            ]
        },
        {
            "cell_type": "code",
            "execution_count": null,
            "metadata": {
                "dotnet_interactive": {
                    "language": "sql"
                },
                "vscode": {
                    "languageId": "dotnet-interactive.sql"
                }
            },
            "outputs": [],
            "source": [
                "-- COPYRIGHT (C) 2020 DE STAAT DER NEDERLANDEN, MINISTERIE VAN   VOLKSGEZONDHEID, WELZIJN EN SPORT.\n",
                "-- LICENSED UNDER THE EUROPEAN UNION PUBLIC LICENCE V. 1.2 - SEE HTTPS://GITHUB.COM/MINVWS/NL-CONTACT-TRACING-APP-COORDINATIONFOR MORE INFORMATION.\n",
                "\n",
                "--1) CREATE VIEW(S).....\n",
                "CREATE OR ALTER VIEW [VWSDEST].[V_RIVM_VACCINATIONS_BOOSTER_SHOTS_COVERAGE_VR_ARCHIVED_20220904]\n",
                "AS\n",
                "    WITH CTE AS (\n",
                "        SELECT\n",
                "            [REGION_CODE] AS [VRCODE],\n",
                "            [AGE_GROUP],\n",
                "            UPPER(DATENAME(dw, [DATE_OF_STATISTICS])) AS [DAY_OF_WEEK],\n",
                "            [DBO].[CONVERT_DATETIME_TO_UNIX]([DATE_OF_STATISTICS]) AS [DATE_UNIX],            \n",
                "            [DBO].[CONVERT_DATETIME_TO_UNIX]([DATE_LAST_INSERTED]) AS [DATE_OF_INSERTION_UNIX],\n",
                "            [PERCENTAGE],\n",
                "            [PERCENTAGE_LABEL]\n",
                "        FROM [VWSARCHIVE].[RIVM_VACCINATIONS_BOOSTER_SHOTS_COVERAGE_VR_ARCHIVED_20220904] WITH(NOLOCK)\n",
                "        WHERE [REGION_CODE] LIKE 'VR%'\n",
                "            AND [DATE_LAST_INSERTED] = (SELECT MAX([DATE_LAST_INSERTED]) FROM  [VWSARCHIVE].[RIVM_VACCINATIONS_BOOSTER_SHOTS_COVERAGE_VR_ARCHIVED_20220904] WITH(NOLOCK))\n",
                "            AND [AGE_GROUP] IN  ('18+', '12+')\n",
                "            AND UPPER([VACCINATION_SERIE]) IN ('BOOSTER1_COVERAGE', 'PRIMARY_SERIES_PLUS_1', '')\n",
                "\n",
                "    )\n",
                "    SELECT \n",
                "        T2.[VRCODE],\n",
                "        [AGE_GROUP],\n",
                "        [PERCENTAGE], \n",
                "        [PERCENTAGE_LABEL],\n",
                "        [DATE_OF_INSERTION_UNIX],\n",
                "        T2.[DATE_UNIX]\n",
                "    FROM CTE T1\n",
                "    INNER JOIN (\n",
                "        SELECT\n",
                "            MAX([DATE_UNIX]) AS [DATE_UNIX],\n",
                "            [VRCODE]\n",
                "        FROM CTE\n",
                "        -- WHERE [DAY_OF_WEEK] = 'SUNDAY'\n",
                "        GROUP BY [VRCODE]\n",
                "    ) AS T2 ON T1.[VRCODE] = T2.[VRCODE] AND T1.[DATE_UNIX] = T2.[DATE_UNIX]\n",
                "GO"
            ]
        },
        {
            "cell_type": "markdown",
            "metadata": {},
            "source": [
                "PROTOS"
            ]
        },
        {
            "cell_type": "code",
            "execution_count": null,
            "metadata": {
                "dotnet_interactive": {
                    "language": "sql"
                },
                "vscode": {
                    "languageId": "dotnet-interactive.sql"
                }
            },
            "outputs": [],
            "source": [
                "-- -- COPYRIGHT (C) 2020 DE STAAT DER NEDERLANDEN, MINISTERIE VAN   VOLKSGEZONDHEID, WELZIJN EN SPORT.\n",
                "-- -- LICENSED UNDER THE EUROPEAN UNION PUBLIC LICENCE V. 1.2 - SEE HTTPS://GITHUB.COM/MINVWS/NL-CONTACT-TRACING-APP-COORDINATIONFOR MORE INFORMATION.\n",
                "\n",
                "DECLARE @current_proto_name VARCHAR(50)\n",
                "\n",
                "DECLARE @proto_name_table TABLE (\n",
                "    [PROTO_NAME] VARCHAR(50)\n",
                ");\n",
                "\n",
                "-- 1) CREATE PROTO(S)...\n",
                "INSERT INTO @proto_name_table \n",
                "SELECT Distinct [NAME]\n",
                "  FROM [DATATINO_PROTO_1].[PROTOS]\n",
                "  WHERE NAME NOT LIKE 'VR_COLLECTION' AND NAME LIKE 'VR%' \n",
                "ORDER BY NAME\n",
                "\n",
                "DECLARE CUR CURSOR LOCAL FAST_FORWARD\n",
                "FOR\n",
                "SELECT [PROTO_NAME]\n",
                "FROM @proto_name_table;\n",
                "\n",
                "OPEN CUR;\n",
                "\n",
                "FETCH NEXT FROM CUR\n",
                "INTO @current_proto_name;\n",
                "\n",
                "WHILE @@FETCH_STATUS = 0\n",
                "BEGIN\n",
                "\n",
                "-- 1) DETERMINE VIEW ID & CONFIGURATION ID\n",
                "DECLARE @view_name VARCHAR(256) = 'VWSDEST.V_RIVM_VACCINATIONS_BOOSTER_SHOTS_COVERAGE_VR_ARCHIVED_20220904',\n",
                "        @view_description VARCHAR(256),\n",
                "        @item_name VARCHAR(256) = 'booster_coverage_archived_20220904',\n",
                "        @config_description VARCHAR(256),\n",
                "        @constraint_value VARCHAR(50) = @current_proto_name,\n",
                "        @constraint_key_name VARCHAR(50)= 'VRCODE',\n",
                "        @grouped_key_name VARCHAR(50) = null,\n",
                "        @grouped_last_update_name VARCHAR(50) = null,\n",
                "        @proto_name VARCHAR(50) = @current_proto_name,\n",
                "        @columns VARCHAR(256) = 'AGE_GROUP|PERCENTAGE|PERCENTAGE_LABEL|DATE_OF_INSERTION_UNIX|DATE_UNIX',\n",
                "        @layout_type_id VARCHAR(50) = '2',\n",
                "        @last_update_name VARCHAR(50) = 'DATE_UNIX',\n",
                "        @is_active INT;\n",
                "\n",
                "-- 1.1) SET ENVIRONMENTAL VARIABLES.....\n",
                "SET @is_active = CASE LOWER('#{ Environment }#')\n",
                "    WHEN 'production' THEN 1\n",
                "    WHEN 'acceptance' THEN 1\n",
                "    ELSE 1\n",
                "END;\n",
                "\n",
                "SET @view_description = CONCAT('VIEW: ', @view_name, ' FOR ', @item_name);\n",
                "SET @config_description = CONCAT('VIEW CONFIGURATION: ', @view_name, ' FOR ', @item_name);\n",
                "\n",
                "DECLARE @constrained INT,\n",
                "        @grouped INT,\n",
                "        @view_id BIGINT,\n",
                "        @config_id BIGINT;\n",
                "\n",
                "SELECT \n",
                "    @view_id = [ID]\n",
                "FROM [DATATINO_PROTO_1].[VIEWS]\n",
                "WHERE ISNULL([CONSTRAINT_VALUE], 'X') = ISNULL(@constraint_value, 'X')\n",
                "    AND ISNULL([CONSTRAINT_KEY_NAME], 'X') = ISNULL(@constraint_key_name, 'X')\n",
                "    AND ISNULL([GROUPED_KEY_NAME], 'X') = ISNULL(@grouped_key_name, 'X')\n",
                "    AND ISNULL([GROUPED_LAST_UPDATE_NAME], 'X') = ISNULL(@grouped_last_update_name, 'X')\n",
                "    AND [NAME] = @view_name\n",
                "\n",
                "SELECT\n",
                "    @config_id = configs.[ID]\n",
                "FROM [DATATINO_PROTO_1].[VIEWS] views\n",
                "INNER JOIN [DATATINO_PROTO_1].[CONFIGURATIONS] AS configs ON views.[ID] = configs.[VIEW_ID]\n",
                "    AND configs.[NAME] = @item_name\n",
                "    AND configs.[VIEW_ID] = @view_id\n",
                "INNER JOIN [DATATINO_PROTO_1].[PROTOS] AS protos ON protos.[ID] = configs.[PROTO_ID]\n",
                "    AND protos.[NAME] = @proto_name\n",
                "WHERE views.[NAME] = @view_name;\n",
                "\n",
                "SET @constrained = CASE \n",
                "    WHEN @constraint_key_name IS NULL THEN 0\n",
                "    ELSE 1\n",
                "END;\n",
                "SET @grouped = CASE \n",
                "    WHEN @grouped_key_name IS NULL THEN 0\n",
                "    ELSE 1\n",
                "END;\n",
                "\n",
                "-- 2) UPSERT PROTO VIEW(S).....\n",
                "EXECUTE [DATATINO_PROTO_1].[UPSERT_VIEW]\n",
                "    @id = @view_id,\n",
                "    @view_name = @view_name,\n",
                "    @description = @view_description,\n",
                "    @last_update_name = @last_update_name,\n",
                "    @constraint_key_name = @constraint_key_name,\n",
                "    @constraint_value = @constraint_value,\n",
                "    @grouped_key_name = @grouped_key_name,\n",
                "    @grouped_last_update_name = @grouped_last_update_name;\n",
                "\n",
                "-- 3) UPSERT PROTO CONFIGURATION(S).....\n",
                "EXECUTE [DATATINO_PROTO_1].[UPSERT_CONFIGURATION]\n",
                "    @id = @config_id,\n",
                "    @proto_name = @proto_name,\n",
                "    @description =  @config_description,\n",
                "    @view_name = @view_name,\n",
                "    @item_name = @item_name,\n",
                "    @constrained = @constrained,\n",
                "    @grouped = @grouped,\n",
                "    @columns = @columns,\n",
                "    @mapping = '=LOWER()',\n",
                "    @layout_type_id = @layout_type_id,\n",
                "    @active = @is_active,\n",
                "    @constraint_key_name = @constraint_key_name,\n",
                "    @constraint_value = @constraint_value,\n",
                "    @grouped_key_name = @grouped_key_name,\n",
                "    @grouped_last_update_name = @grouped_last_update_name;\n",
                "\n",
                "FETCH NEXT FROM CUR\n",
                "    INTO @current_proto_name;    \n",
                "END\n",
                "\n",
                "CLOSE CUR;\n",
                "DEALLOCATE CUR;\n",
                "DELETE FROM @proto_name_table;\n",
                "GO"
            ]
        }
    ],
    "metadata": {
        "kernelspec": {
            "display_name": ".NET (C#)",
            "language": "C#",
            "name": ".net-csharp"
        },
        "language_info": {
            "file_extension": ".cs",
            "mimetype": "text/x-csharp",
            "name": "C#",
            "pygments_lexer": "csharp",
            "version": "9.0"
        }
    },
    "nbformat": 4,
    "nbformat_minor": 2
}
