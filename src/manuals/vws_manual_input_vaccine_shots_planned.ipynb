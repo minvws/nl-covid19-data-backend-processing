{
    "cells": [
        {
            "attachments": {},
            "cell_type": "markdown",
            "metadata": {
                "azdata_cell_guid": "8b75854c-3037-4da5-855c-83e79340896e"
            },
            "source": [
                "# **INTRODUCTION**\n",
                "\n",
                "* * *\n",
                "\n",
                "This workflow consists of several processes used for creating the so called 'berggrafiek' on the dashboard. \n",
                "\n",
                "The source code is separated into multiple sections:\n",
                "\n",
                "1. **[Tables](#tables)**\n",
                "2. **[Views](#views)**\n",
                "3. **[Stored Procedures](#stored-procedures)**\n",
                "4. **[Datatino Configurations](#datatino-configurations)**"
            ]
        },
        {
            "attachments": {},
            "cell_type": "markdown",
            "metadata": {
                "azdata_cell_guid": "ae00874c-941e-4d5f-a84f-171a2900a0ca"
            },
            "source": [
                "# **DEPENDENCIES**\n",
                "\n",
                "---\n",
                "\n",
                "```json\n",
                "{\n",
                "    \"depends-on\": [\n",
                "        \"src/utils/conversions.ipynb\",\n",
                "        \"src/utils/schemas.ipynb\",\n",
                "        \"src/utils/protos.ipynb\",\n",
                "        \"src/dataflows/vws_vaccine_deliveries_administered.ipynb\"\n",
                "    ]\n",
                "}\n",
                "```"
            ]
        },
        {
            "cell_type": "markdown",
            "metadata": {
                "azdata_cell_guid": "ce43cf11-e280-4187-a3ba-76e9e6a3f3e1"
            },
            "source": [
                "# **TABLES**\n",
                "\n",
                "---"
            ]
        },
        {
            "cell_type": "markdown",
            "metadata": {
                "azdata_cell_guid": "e022d8ba-1200-41c1-962e-cf27ba02ac4e"
            },
            "source": [
                "### STAGING"
            ]
        },
        {
            "cell_type": "code",
            "execution_count": null,
            "metadata": {
                "azdata_cell_guid": "b3f6a728-c0e6-4f6c-855c-a92cbe1853a4",
                "dotnet_interactive": {
                    "language": "sql"
                },
                "tags": []
            },
            "outputs": [],
            "source": [
                "-- COPYRIGHT (C) 2020 DE STAAT DER NEDERLANDEN, MINISTERIE VAN VOLKSGEZONDHEID, WELZIJN EN SPORT.\n",
                "-- LICENSED UNDER THE EUROPEAN UNION PUBLIC LICENCE V. 1.2 - SEE HTTPS://GITHUB.COM/MINVWS/NL-CONTACT-TRACING-APP-COORDINATION FOR MORE INFORMATION.\n",
                "\n",
                "SET ANSI_NULLS ON\n",
                "GO\n",
                "\n",
                "SET QUOTED_IDENTIFIER ON\n",
                "GO\n",
                "\n",
                "-- 1) CREATE TABLE(S).....\n",
                "IF NOT EXISTS (SELECT * FROM SYS.TABLES WHERE [object_id] = OBJECT_ID('VWSSTAGE.MANUAL_INPUT_VWS_VACCINE_SHOTS_PLANNED'))\n",
                "CREATE TABLE [VWSSTAGE].[MANUAL_INPUT_VWS_VACCINE_SHOTS_PLANNED] (\n",
                "    [ID] [INT] PRIMARY KEY IDENTITY(1,1),\n",
                "    [CATEGORY] [VARCHAR](255) NULL,\n",
                "    [KEY] [VARCHAR](255) NULL,\n",
                "    [VALUE] [VARCHAR](255) NULL,\n",
                "    [DATE_LAST_INSERTED] DATETIME DEFAULT (GETDATE()) NOT NULL\n",
                ");\n",
                "GO\n",
                "\n",
                "-- 3) CREATE INDEX(ES).....\n",
                "DROP INDEX IF EXISTS [NCIX_DLI_VWS_VACCINE_SHOTS_PLANNED]\n",
                "    ON [VWSSTAGE].[MANUAL_INPUT_VWS_VACCINE_SHOTS_PLANNED]\n",
                "GO\n",
                "\n",
                "CREATE NONCLUSTERED INDEX [NCIX_DLI_VWS_VACCINE_SHOTS_PLANNED]\n",
                "    ON [VWSSTAGE].[MANUAL_INPUT_VWS_VACCINE_SHOTS_PLANNED](\n",
                "        [DATE_LAST_INSERTED] DESC\n",
                "    );\n",
                "GO"
            ]
        },
        {
            "cell_type": "markdown",
            "metadata": {
                "azdata_cell_guid": "b883932e-c47b-4de6-9629-eca0ff8aeabb"
            },
            "source": [
                "# **VIEWS**\n",
                "\n",
                "---"
            ]
        },
        {
            "cell_type": "code",
            "execution_count": null,
            "metadata": {
                "azdata_cell_guid": "7a7ce7fe-14fe-4c85-a992-ee5a2fb079d6",
                "dotnet_interactive": {
                    "language": "sql"
                },
                "tags": []
            },
            "outputs": [],
            "source": [
                "-- COPYRIGHT (C) 2020 DE STAAT DER NEDERLANDEN, MINISTERIE VAN   VOLKSGEZONDHEID, WELZIJN EN SPORT.\n",
                "-- LICENSED UNDER THE EUROPEAN UNION PUBLIC LICENCE V. 1.2 - SEE HTTPS://GITHUB.COM/MINVWS/NL-CONTACT-TRACING-APP-COORDINATIONFOR MORE INFORMATION.\n",
                "\n",
                "-- 1) CREATE VIEW(S).....\n",
                "CREATE OR ALTER VIEW [VWSDEST].[V_MANUAL_INPUT_VWS_VACCINE_SHOTS_PLANNED]\n",
                "AS\n",
                "\tWITH CTE\n",
                "\tAS (\n",
                "\t\tSELECT\n",
                "\t\t\t[CATEGORY],\n",
                "\t\t\t[KEY],\n",
                "\t\t\t[VALUE],\n",
                "\t\t\t[DATE_LAST_INSERTED]\n",
                "\t\tFROM [VWSSTAGE].[MANUAL_INPUT_VWS_VACCINE_SHOTS_PLANNED] WITH(NOLOCK)\n",
                "\t\tWHERE [DATE_LAST_INSERTED] = (SELECT MAX([DATE_LAST_INSERTED]) FROM [VWSSTAGE].[MANUAL_INPUT_VWS_VACCINE_SHOTS_PLANNED] WITH(NOLOCK))\n",
                "\t\t\tAND UPPER([CATEGORY]) = 'PRIKKEN_GEPLAND'\n",
                "\t)\n",
                "\tSELECT TOP(1)\n",
                "\t\t(SELECT CAST([VALUE] AS INT) FROM CTE WHERE [KEY] = 'SHOTS_PLANNED_TOTAL')  AS [DOSES],\n",
                "\t\t[dbo].[CONVERT_DATETIME_TO_UNIX](CONVERT([DATETIME], (SELECT [VALUE] FROM CTE WHERE [KEY] = 'DATE_START_UNIX'), 105)) AS [DATE_START_UNIX],\n",
                "\t\t[dbo].[CONVERT_DATETIME_TO_UNIX](CONVERT([DATETIME], (SELECT [VALUE] FROM CTE WHERE [KEY] = 'DATE_END_UNIX'), 105)) AS [DATE_END_UNIX],\n",
                "\t\t[dbo].[CONVERT_DATETIME_TO_UNIX]([DATE_LAST_INSERTED]) AS [DATE_OF_INSERTION_UNIX]\n",
                "\tFROM CTE\n",
                "GO"
            ]
        },
        {
            "cell_type": "markdown",
            "metadata": {
                "azdata_cell_guid": "991b613b-1793-4c88-a85a-229f4e6fa51e"
            },
            "source": [
                "# **DROP ARTIFACTS**\n",
                "\n",
                "---"
            ]
        },
        {
            "cell_type": "markdown",
            "metadata": {
                "azdata_cell_guid": "4b99ef5c-d875-4537-acda-ff168891ae77"
            },
            "source": [
                "### WORKFLOWS"
            ]
        },
        {
            "cell_type": "code",
            "execution_count": null,
            "metadata": {
                "azdata_cell_guid": "50162035-dde2-4ee8-ba66-8637702fe20e",
                "tags": []
            },
            "outputs": [],
            "source": [
                "-- COPYRIGHT (C) 2020 DE STAAT DER NEDERLANDEN, MINISTERIE VAN   VOLKSGEZONDHEID, WELZIJN EN SPORT.\n",
                "-- LICENSED UNDER THE EUROPEAN UNION PUBLIC LICENCE V. 1.2 - SEE HTTPS://GITHUB.COM/MINVWS/NL-CONTACT-TRACING-APP-COORDINATIONFOR MORE INFORMATION.\n",
                "\n",
                "DECLARE @workflow_name NVARCHAR(50) = 'MANUAL_INPUT_VWS_VACCINE_SHOTS_PLANNED',\n",
                "        @proto_name VARCHAR(50) = 'NL';\n",
                "\n",
                "-- 1) DROP PROTOS CONFIGURATION(S).....\n",
                "DELETE FROM [DATATINO_PROTO_1].[CONFIGURATIONS]\n",
                "WHERE [VIEW_ID] IN (\n",
                "    SELECT [ID] AS VID FROM  [DATATINO_PROTO_1].[VIEWS]\n",
                "    WHERE TRIM([NAME]) IN (\n",
                "        'VWSDEST.V_VWS_VACCINE_ADMINISTERED_PLANNED_TEMP',\n",
                "        'VWSDEST.V_MANUAL_INPUT_VWS_VACCINE_SHOTS_PLANNED'\n",
                "    ))\n",
                "    AND [PROTO_ID] IN (\n",
                "        SELECT [ID] FROM [DATATINO_PROTO_1].[PROTOS] protos \n",
                "        WHERE [NAME] = @proto_name\n",
                "    ) AND [NAME] IN (\n",
                "        'vaccine_administered_planned'\n",
                "    );\n",
                "\n",
                "DELETE FROM [DATATINO_PROTO_1].[VIEWS]\n",
                "WHERE [ID] IN (\n",
                "    SELECT \n",
                "        [ID] AS VID \n",
                "    FROM  [DATATINO_PROTO_1].[VIEWS]\n",
                "    WHERE TRIM([NAME]) IN (\n",
                "        'VWSDEST.V_VWS_VACCINE_ADMINISTERED_PLANNED_TEMP',\n",
                "        'VWSDEST.V_MANUAL_INPUT_VWS_VACCINE_SHOTS_PLANNED'\n",
                "    )\n",
                ")\n",
                "\n",
                "-- 2) DROP PROCESS(ES)......\n",
                ";WITH CTE \n",
                "AS\n",
                "(\n",
                "    SELECT\n",
                "        v_processes.[PROCESS_NAME],\n",
                "        processes.[ID]\n",
                "    FROM [DATATINO_ORCHESTRATOR_1].[PROCESSES] processes\n",
                "    INNER JOIN [DATATINO_ORCHESTRATOR_1].[V_WORKFLOWS] v_workflows ON v_workflows.[ID] = processes.[WORKFLOW_ID]\n",
                "    INNER JOIN [DATATINO_ORCHESTRATOR_1].[V_PROCESSES] v_processes ON v_processes.[PROCESS_ID] = processes.[ID]\n",
                "    WHERE v_processes.[PROCESS_NAME] IN (\n",
                "        CONCAT('PROCESS_', @workflow_name)\n",
                "    ) AND v_workflows.[NAME] = @workflow_name\n",
                ")\n",
                "DELETE [DATATINO_ORCHESTRATOR_1].[PROCESSES] \n",
                "FROM [DATATINO_ORCHESTRATOR_1].[DATAFLOWS] dataflows, [DATATINO_ORCHESTRATOR_1].[PROCESSES] processes\n",
                "WHERE dataflows.[NAME] IN (SELECT [PROCESS_NAME] FROM CTE) \n",
                "    AND processes.[ID] IN (SELECT [ID] FROM CTE);\n",
                "\n",
                "-- 4) DROP SOURCE(S).....\n",
                "DELETE FROM [DATATINO_ORCHESTRATOR_1].[SOURCES]\n",
                "WHERE [NAME] IN (\n",
                "    CONCAT('SOURCE_', @workflow_name)\n",
                ");\n",
                "\n",
                "-- 5) DROP WORKFLOW(S).....\n",
                "DELETE [DATATINO_ORCHESTRATOR_1].[WORKFLOWS]\n",
                "FROM [DATATINO_ORCHESTRATOR_1].[DATAFLOWS] dataflows, [DATATINO_ORCHESTRATOR_1].[WORKFLOWS] workflows\n",
                "WHERE dataflows.[NAME] = @workflow_name\n",
                "    AND workflows.[ID] IN (\n",
                "        SELECT\n",
                "            workflows.[ID]\n",
                "        FROM [DATATINO_ORCHESTRATOR_1].[WORKFLOWS] workflows\n",
                "        INNER JOIN [DATATINO_ORCHESTRATOR_1].[V_WORKFLOWS] v_workflows ON v_workflows.[DATAFLOW_ID] = workflows.[DATAFLOW_ID] \n",
                "            AND v_workflows.[ID] = workflows.[ID]\n",
                "        WHERE v_workflows.[NAME] = @workflow_name\n",
                "    );\n",
                "\n",
                "-- 6) DROP DATAFLOW(S).....\n",
                "DELETE [DATATINO_ORCHESTRATOR_1].[H_DATAFLOWS]\n",
                "WHERE [NAME] IN (\n",
                "    CONCAT('PROCESS_', @workflow_name),\n",
                "    @workflow_name\n",
                ");\n",
                "\n",
                "DELETE  [DATATINO_ORCHESTRATOR_1].[DATAFLOWS]\n",
                "WHERE [NAME] IN (\n",
                "    CONCAT('PROCESS_', @workflow_name),\n",
                "    @workflow_name\n",
                ")\n",
                "GO"
            ]
        },
        {
            "cell_type": "markdown",
            "metadata": {
                "azdata_cell_guid": "9ecf89cb-f8c2-4453-90a7-cd43a8ad95fa"
            },
            "source": [
                "# **DATATINO CONFIGURATIONS**\n",
                "\n",
                "---"
            ]
        },
        {
            "cell_type": "markdown",
            "metadata": {
                "azdata_cell_guid": "0519fff2-2dd3-4d9d-b804-ea22f8e69ee9"
            },
            "source": [
                "### WORKFLOWS"
            ]
        },
        {
            "cell_type": "code",
            "execution_count": null,
            "metadata": {
                "azdata_cell_guid": "fe57924f-1385-4de6-9546-d2a0335f154e",
                "tags": []
            },
            "outputs": [],
            "source": [
                "-- 1) UPSERT WORKFLOW(S).....\n",
                "DECLARE @workflow_name NVARCHAR(50) = 'MANUAL_INPUT_VWS_VACCINE_SHOTS_PLANNED',\n",
                "        @workflow_id INT,        \n",
                "        @workflow_description VARCHAR(256),\n",
                "        @is_active INT;\n",
                "\n",
                "-- 1.1) SET ENVIRONMENTAL VARIABLES.....\n",
                "SET @is_active = CASE LOWER('#{ Environment }#')\n",
                "    WHEN 'production' THEN 1\n",
                "    WHEN 'acceptance' THEN 1\n",
                "    ELSE 1\n",
                "END;\n",
                "\n",
                "SELECT TOP(1)\n",
                "    @workflow_id = workflows.[ID]\n",
                "FROM [DATATINO_ORCHESTRATOR_1].[WORKFLOWS] workflows\n",
                "INNER JOIN [DATATINO_ORCHESTRATOR_1].[V_WORKFLOWS] v_workflows ON v_workflows.[DATAFLOW_ID] = workflows.[DATAFLOW_ID] AND v_workflows.[ID] = workflows.[ID]\n",
                "WHERE v_workflows.[NAME] = @workflow_name;\n",
                "\n",
                "SET @workflow_description = CONCAT('WORKFLOW: ', @workflow_name);\n",
                "\n",
                "EXECUTE [DATATINO_ORCHESTRATOR_1].[UPSERT_WORKFLOW]\n",
                "    @id = @workflow_id, \n",
                "    @workflow_name = @workflow_name,\n",
                "    @description = @workflow_description,\n",
                "    @schedule = '0 12 * * MON-FRI', -- AT 02:00 PM, FROM MONDAY TO FRIDAY\n",
                "    @active = @is_active;\n",
                "GO"
            ]
        },
        {
            "cell_type": "markdown",
            "metadata": {
                "azdata_cell_guid": "951f946e-2d7d-4307-98e1-d94a84f383a6"
            },
            "source": [
                "### SOURCES"
            ]
        },
        {
            "cell_type": "markdown",
            "metadata": {
                "azdata_cell_guid": "de98f9a1-7527-4961-82de-5e45991e3e32"
            },
            "source": [
                "> STAGING SOURCES"
            ]
        },
        {
            "cell_type": "code",
            "execution_count": null,
            "metadata": {
                "azdata_cell_guid": "f3f2cde5-df18-498c-af57-4d731a5cc51d",
                "tags": []
            },
            "outputs": [],
            "source": [
                "-- COPYRIGHT (C) 2020 DE STAAT DER NEDERLANDEN, MINISTERIE VAN   VOLKSGEZONDHEID, WELZIJN EN SPORT.\n",
                "-- LICENSED UNDER THE EUROPEAN UNION PUBLIC LICENCE V. 1.2 - SEE HTTPS://GITHUB.COM/MINVWS/NL-CONTACT-TRACING-APP-COORDINATIONFOR MORE INFORMATION.\n",
                "\n",
                "-- 1) SET WORKFLOW NAME\n",
                "DECLARE @workflow_name NVARCHAR(50) = 'MANUAL_INPUT_VWS_VACCINE_SHOTS_PLANNED'\n",
                "\n",
                "-- 2) UPSERT SOURCE(S).....\n",
                "DECLARE @source NVARCHAR(256),\n",
                "        @source_id INT,\n",
                "        @source_name NVARCHAR(256),\n",
                "        @source_description NVARCHAR(256),\n",
                "        @target_name VARCHAR(256),\n",
                "        @location_type VARCHAR(50),\n",
                "        @security_profile VARCHAR(50),\n",
                "        @delimiter_type VARCHAR(50),\n",
                "        @source_type VARCHAR(50);\n",
                "\n",
                "-- 2.1) SET ENVIRONMENTAL VARIABLES.....\n",
                "SET @source = CASE LOWER('#{ Environment }#')\n",
                "    WHEN 'production' THEN 'datafiles/VWS/Handmatige_invoer_verwachte_prikken.csv'\n",
                "    WHEN 'acceptance' THEN 'datafiles/VWS/Handmatige_invoer_verwachte_prikken.csv'\n",
                "    ELSE 'datafiles/VWS/Handmatige_invoer_verwachte_prikken.csv'\n",
                "END;\n",
                "\n",
                "SET @location_type = CASE LOWER('#{ Environment }#')\n",
                "    WHEN 'production' THEN 'AzureBlob'\n",
                "    WHEN 'acceptance' THEN 'AzureBlob'\n",
                "    ELSE 'AzureBlob'\n",
                "END;\n",
                "\n",
                "SET @security_profile = CASE LOWER('#{ Environment }#')\n",
                "    WHEN 'production' THEN 'N/A'\n",
                "    WHEN 'acceptance' THEN 'N/A'\n",
                "    ELSE 'N/A'\n",
                "END;\n",
                "\n",
                "SET @delimiter_type = CASE LOWER('#{ Environment }#')\n",
                "    WHEN 'production' THEN 'SemiColon'\n",
                "    WHEN 'acceptance' THEN 'SemiColon'\n",
                "    ELSE 'SemiColon'\n",
                "END;\n",
                "\n",
                "SET @source_type = CASE LOWER('#{ Environment }#')\n",
                "    WHEN 'production' THEN 'CsvFile'\n",
                "    WHEN 'acceptance' THEN 'CsvFile'\n",
                "    ELSE 'CsvFile'\n",
                "END;\n",
                "\n",
                "-- 2.2) UPSERT TABLE SOURCE(S): STAGING......\n",
                "SET @source_name = CONCAT('SOURCE_', @workflow_name);\n",
                "SET @source_description = CONCAT('LOAD: ', @workflow_name);\n",
                "SET @target_name = CONCAT('VWSSTAGE.', @workflow_name);\n",
                "\n",
                "SELECT TOP(1)\n",
                "    @source_id = [ID]\n",
                "FROM [DATATINO_ORCHESTRATOR_1].[SOURCES]\n",
                "WHERE [NAME] = @source_name;\n",
                "\n",
                "EXECUTE [DATATINO_ORCHESTRATOR_1].[UPSERT_SOURCE]\n",
                "    @id = @source_id,\n",
                "    @source_name = @source_name,\n",
                "    @description = @source_description,\n",
                "    @source = @source,    \n",
                "    @source_columns = 'CATEGORY|KEY|VALUE',\n",
                "    @target_columns = 'CATEGORY|KEY|VALUE',\n",
                "    @target_name = @target_name,\n",
                "    @source_type = @source_type,\n",
                "    @location_type = @location_type,\n",
                "    @delimiter_type = @delimiter_type,\n",
                "    @security_profile= @security_profile;\n",
                "GO"
            ]
        },
        {
            "cell_type": "markdown",
            "metadata": {
                "azdata_cell_guid": "ac26d081-305c-4f2f-9f90-357073c25036"
            },
            "source": [
                "### PROCESSES"
            ]
        },
        {
            "cell_type": "markdown",
            "metadata": {
                "azdata_cell_guid": "5fae3f51-0fbe-4965-9d0c-b0db8e099d66"
            },
            "source": [
                "> STAGING SOURCES"
            ]
        },
        {
            "cell_type": "code",
            "execution_count": null,
            "metadata": {
                "azdata_cell_guid": "d7b1079a-fc31-4290-9a5d-937c37738612",
                "tags": []
            },
            "outputs": [],
            "source": [
                "-- COPYRIGHT (C) 2020 DE STAAT DER NEDERLANDEN, MINISTERIE VAN   VOLKSGEZONDHEID, WELZIJN EN SPORT.\n",
                "-- LICENSED UNDER THE EUROPEAN UNION PUBLIC LICENCE V. 1.2 - SEE HTTPS://GITHUB.COM/MINVWS/NL-CONTACT-TRACING-APP-COORDINATIONFOR MORE INFORMATION.\n",
                "\n",
                "-- 1) SET WORKFLOW NAME\n",
                "DECLARE @workflow_name NVARCHAR(50) = 'MANUAL_INPUT_VWS_VACCINE_SHOTS_PLANNED'\n",
                "\n",
                "-- 3) UPSERT PROCESS(ES).....\n",
                "DECLARE @process_id INT,\n",
                "        @process_name NVARCHAR(256),\n",
                "        @process_description NVARCHAR(256),\n",
                "        @process_source_name VARCHAR(256);\n",
                "\n",
                "-- 3.1) UPSERT TABLE PROCESS(ES): STAGING......\n",
                "SET @process_name = CONCAT('PROCESS_', @workflow_name);\n",
                "SET @process_description =  CONCAT('LOAD: ', @workflow_name);\n",
                "SET @process_source_name = CONCAT('SOURCE_', @workflow_name);\n",
                "\n",
                "SELECT TOP(1)\n",
                "    @process_id = processes.[ID]\n",
                "FROM [DATATINO_ORCHESTRATOR_1].[PROCESSES] processes\n",
                "INNER JOIN [DATATINO_ORCHESTRATOR_1].[V_WORKFLOWS] v_workflows ON v_workflows.[ID] = processes.[WORKFLOW_ID]\n",
                "INNER JOIN [DATATINO_ORCHESTRATOR_1].[V_PROCESSES] v_processes ON v_processes.[PROCESS_ID] = processes.[ID]\n",
                "WHERE v_processes.[PROCESS_NAME] = @process_name \n",
                "    AND v_workflows.[NAME] = @workflow_name;\n",
                "\n",
                "EXECUTE [DATATINO_ORCHESTRATOR_1].[UPSERT_PROCESS]\n",
                "    @id = @process_id,\n",
                "    @process_name = @process_name,\n",
                "    @description = @process_description,\n",
                "    @source_name = @process_source_name,\n",
                "    @schedule = '* * * * *',\n",
                "    @workflow_name = @workflow_name,\n",
                "    @active = 1;\n",
                "GO"
            ]
        },
        {
            "cell_type": "markdown",
            "metadata": {
                "azdata_cell_guid": "5d541b23-cc2c-4c84-ad08-6b7452e81160"
            },
            "source": [
                "### PROTOS"
            ]
        },
        {
            "cell_type": "code",
            "execution_count": null,
            "metadata": {
                "azdata_cell_guid": "c9874a7e-768a-48ae-8936-b6ee00cc3932",
                "dotnet_interactive": {
                    "language": "sql"
                },
                "tags": []
            },
            "outputs": [],
            "source": [
                "-- COPYRIGHT (C) 2020 DE STAAT DER NEDERLANDEN, MINISTERIE VAN   VOLKSGEZONDHEID, WELZIJN EN SPORT.\n",
                "-- LICENSED UNDER THE EUROPEAN UNION PUBLIC LICENCE V. 1.2 - SEE HTTPS://GITHUB.COM/MINVWS/NL-CONTACT-TRACING-APP-COORDINATIONFOR MORE INFORMATION.\n",
                "\n",
                "-- -- 1) SET WORKFLOW NAME\n",
                "-- DECLARE @workflow_name NVARCHAR(50) = 'MANUAL_INPUT_VWS_VACCINE_SHOTS_PLANNED'\n",
                "\n",
                "-- -- 2) SET ENVIRONMENTAL VARIABLES.....\n",
                "-- DECLARE @view_name VARCHAR(256) = 'VWSDEST.V_MANUAL_INPUT_VWS_VACCINE_SHOTS_PLANNED',\n",
                "--         @view_description VARCHAR(256),\n",
                "--         @item_name VARCHAR(256) = 'vaccine_administered_planned',\n",
                "--         @config_description VARCHAR(256),\n",
                "--         @constraint_value VARCHAR(50) = NULL,\n",
                "--         @constraint_key_name VARCHAR(50) = NULL,\n",
                "--         @grouped_key_name VARCHAR(50) = null,\n",
                "--         @grouped_last_update_name VARCHAR(50) = null,\n",
                "--         @proto_name VARCHAR(50) = 'NL',\n",
                "--         @columns VARCHAR(256) = '*',\n",
                "--         @layout_type_id INT = 1, -- LASTVALUES\n",
                "--         @last_update_name VARCHAR(50) = 'DATE_END_UNIX',\n",
                "--         @is_active INT;\n",
                "        \n",
                "-- SET @is_active = CASE LOWER('#{ Environment }#')\n",
                "--     WHEN 'production' THEN 1\n",
                "--     WHEN 'acceptance' THEN 1\n",
                "--     ELSE 1\n",
                "-- END;\n",
                "\n",
                "-- SET @view_description = CONCAT('VIEW: ', @view_name, ' FOR ', @item_name);\n",
                "-- SET @config_description = CONCAT('VIEW CONFIGURATION: ', @view_name, ' FOR ', @item_name);\n",
                "\n",
                "-- -- 2) DETERMINE VIEW ID & CONFIGURATION ID\n",
                "-- DECLARE @constrained INT,\n",
                "--         @grouped INT,\n",
                "--         @view_id BIGINT,\n",
                "--         @config_id BIGINT;\n",
                "\n",
                "-- SET @constrained = CASE \n",
                "--     WHEN @constraint_key_name IS NULL THEN 0\n",
                "--     ELSE 1\n",
                "-- END;\n",
                "-- SET @grouped = CASE \n",
                "--     WHEN @grouped_key_name IS NULL THEN 0\n",
                "--     ELSE 1\n",
                "-- END;\n",
                "\n",
                "-- SELECT \n",
                "--     @view_id = [ID]\n",
                "-- FROM [DATATINO_PROTO_1].[VIEWS]\n",
                "-- WHERE ISNULL([CONSTRAINT_VALUE], 'X') = ISNULL(@constraint_value, 'X')\n",
                "--     AND ISNULL([CONSTRAINT_KEY_NAME], 'X') = ISNULL(@constraint_key_name, 'X')\n",
                "--     AND ISNULL([GROUPED_KEY_NAME], 'X') = ISNULL(@grouped_key_name, 'X')\n",
                "--     AND ISNULL([GROUPED_LAST_UPDATE_NAME], 'X') = ISNULL(@grouped_last_update_name, 'X')\n",
                "--     AND [NAME] = @view_name;\n",
                "    \n",
                "-- SELECT\n",
                "--     @config_id = configs.[ID]\n",
                "-- FROM [DATATINO_PROTO_1].[VIEWS] views\n",
                "-- INNER JOIN [DATATINO_PROTO_1].[CONFIGURATIONS] AS configs ON views.[ID] = configs.[VIEW_ID]\n",
                "--     AND configs.[NAME] = @item_name\n",
                "--     AND configs.[VIEW_ID] = @view_id\n",
                "-- INNER JOIN [DATATINO_PROTO_1].[PROTOS] AS protos ON protos.[ID] = configs.[PROTO_ID]\n",
                "--     AND protos.[NAME] = @proto_name\n",
                "-- WHERE views.[NAME] = @view_name;\n",
                "\n",
                "-- -- 3) UPSERT PROTO VIEW(S).....\n",
                "-- EXECUTE [DATATINO_PROTO_1].[UPSERT_VIEW]\n",
                "--     @id = @view_id,\n",
                "--     @view_name = @view_name,\n",
                "--     @description = @view_description,\n",
                "--     @last_update_name = @last_update_name,\n",
                "--     @constraint_key_name = @constraint_key_name,\n",
                "--     @constraint_value = @constraint_value,\n",
                "--     @grouped_key_name = @grouped_key_name,\n",
                "--     @grouped_last_update_name = @grouped_last_update_name;\n",
                "\n",
                "-- -- 4) UPSERT PROTO CONFIGURATION(S).....\n",
                "-- EXECUTE [DATATINO_PROTO_1].[UPSERT_CONFIGURATION]\n",
                "--     @id = @config_id,\n",
                "--     @proto_name = @proto_name,\n",
                "--     @description =  @config_description,\n",
                "--     @view_name = @view_name,\n",
                "--     @item_name = @item_name,\n",
                "--     @constrained = @constrained,\n",
                "--     @grouped = @grouped,\n",
                "--     @columns = @columns,\n",
                "--     @mapping = '=LOWER()',\n",
                "--     @layout_type_id = @layout_type_id,\n",
                "--     @active = @is_active,\n",
                "--     @constraint_key_name = @constraint_key_name,\n",
                "--     @constraint_value = @constraint_value,\n",
                "--     @grouped_key_name = @grouped_key_name,\n",
                "--     @grouped_last_update_name = @grouped_last_update_name;\n",
                "-- GO"
            ]
        }
    ],
    "metadata": {
        "kernelspec": {
            "display_name": "SQL",
            "language": "sql",
            "name": "SQL"
        },
        "language_info": {
            "name": "sql",
            "version": ""
        }
    },
    "nbformat": 4,
    "nbformat_minor": 2
}
